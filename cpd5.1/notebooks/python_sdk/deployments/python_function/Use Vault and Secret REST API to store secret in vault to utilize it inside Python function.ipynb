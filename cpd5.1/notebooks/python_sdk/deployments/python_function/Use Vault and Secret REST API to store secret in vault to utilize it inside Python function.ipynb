{
 "cells": [
  {
   "cell_type": "markdown",
   "metadata": {
    "id": "04341bd2-f7a6-4924-a25a-45d00d8ee869"
   },
   "source": [
    "# Use Vault and Secret REST API to store secret in vault and utilize it inside Python function with `ibm-watsonx-ai`\n",
    "\n",
    "This notebook demonstrates an example for using Vault and Secret REST API services to store secrets in order to utilize it inside Python function. It contains steps and code to work with [ibm-watsonx-ai](https://pypi.python.org/pypi/ibm-watsonx-ai) library available in PyPI repository."
   ]
  },
  {
   "cell_type": "markdown",
   "metadata": {},
   "source": [
    "## Learning goals\n",
    "\n",
    "The learning goals of this notebook are:\n",
    "\n",
    "-  Store secret in Vault using Secret REST API.\n",
    "-  Utilize secret inside Python function.\n",
    "\n",
    "## Contents\n",
    "\n",
    "This notebook contains the following parts:\n",
    "\n",
    "1. [Setup](#setup)\n",
    "2. [Secret definition](#define-secret)\n",
    "3. [Python function definition](#define-function)\n",
    "4. [Testing Python function locally](#testing-locally)\n",
    "5. [Deployment of Python function](#testing-locally)\n",
    "6. [Testing deployed function](#testing-deployment)\n",
    "7. [Clean up](#cleanup)\n",
    "8. [Summary and next steps](#summary)"
   ]
  },
  {
   "cell_type": "markdown",
   "metadata": {},
   "source": [
    "<a id=\"setup\"></a>\n",
    "## Set up the environment\n",
    "\n",
    "Before you use the sample code in this notebook, you must perform the following setup tasks:\n",
    "\n",
    "-  Contact with your Cloud Pak for Data administrator and ask them for your account credentials"
   ]
  },
  {
   "cell_type": "markdown",
   "metadata": {},
   "source": [
    "### Install `ibm-watsonx-ai`\n",
    "**Note:** `ibm-watsonx-ai` documentation can be found <a href=\"https://ibm.github.io/watsonx-ai-python-sdk/index.html\" target=\"_blank\" rel=\"noopener no referrer\">here</a>."
   ]
  },
  {
   "cell_type": "code",
   "execution_count": 1,
   "metadata": {},
   "outputs": [
    {
     "name": "stdout",
     "output_type": "stream",
     "text": [
      "Successfully installed ibm_watsonx_ai-1.3.3\n"
     ]
    }
   ],
   "source": [
    "%pip install -U \"ibm-watsonx-ai\" | tail -n 1"
   ]
  },
  {
   "cell_type": "markdown",
   "metadata": {},
   "source": [
    "#### Define credentials\n",
    "\n",
    "Authenticate the watsonx.ai Runtime on IBM Cloud Pak for Data. You need to provide the **admin's** `username` and the platform `url`."
   ]
  },
  {
   "cell_type": "code",
   "execution_count": 2,
   "metadata": {},
   "outputs": [],
   "source": [
    "import getpass\n",
    "\n",
    "url = \"PASTE THE PLATFORM URL HERE\"\n",
    "username = \"PASTE YOUR USERNAME HERE\"\n",
    "password = getpass.getpass(\"Enter your watsonx.ai password and hit enter: \")"
   ]
  },
  {
   "cell_type": "markdown",
   "metadata": {},
   "source": [
    "Use the **admin's** password to authenticate watsonx.ai Runtime:"
   ]
  },
  {
   "cell_type": "code",
   "execution_count": 3,
   "metadata": {},
   "outputs": [],
   "source": [
    "from ibm_watsonx_ai import Credentials\n",
    "\n",
    "credentials = Credentials(\n",
    "    username=username,\n",
    "    password=password,\n",
    "    url=url,\n",
    "    instance_id=\"openshift\",\n",
    "    version=\"5.1\"\n",
    ")"
   ]
  },
  {
   "cell_type": "markdown",
   "metadata": {},
   "source": [
    "#### Create `APIClient` instance"
   ]
  },
  {
   "cell_type": "code",
   "execution_count": 4,
   "metadata": {},
   "outputs": [],
   "source": [
    "from ibm_watsonx_ai import APIClient\n",
    "\n",
    "client = APIClient(credentials)"
   ]
  },
  {
   "cell_type": "markdown",
   "metadata": {},
   "source": [
    "### Working with spaces\n",
    "\n",
    "First of all, you need to create a space that will be used for your work. If you do not have space already created, you can use `{PLATFORM_URL}/ml-runtime/spaces?context=icp4data` to create one.\n",
    "\n",
    "- Click New Deployment Space\n",
    "- Create an empty space\n",
    "- Go to space `Settings` tab\n",
    "- Copy `space_id` and paste it below\n",
    "\n",
    "**Tip**: You can also use SDK to prepare the space for your work. More information can be found [here](https://github.com/IBM/watson-machine-learning-samples/blob/master/cpd5.1/notebooks/python_sdk/instance-management/Space%20management.ipynb).\n",
    "\n",
    "**Action**: Assign space ID below"
   ]
  },
  {
   "cell_type": "code",
   "execution_count": 5,
   "metadata": {},
   "outputs": [],
   "source": [
    "space_id = \"PASTE YOUR SPACE ID HERE\""
   ]
  },
  {
   "cell_type": "markdown",
   "metadata": {},
   "source": [
    "You can use `list` method to print all existing spaces."
   ]
  },
  {
   "cell_type": "code",
   "execution_count": 6,
   "metadata": {},
   "outputs": [],
   "source": [
    "client.spaces.list(limit=10)"
   ]
  },
  {
   "cell_type": "markdown",
   "metadata": {},
   "source": [
    "To be able to interact with all resources available in watsonx.ai Runtime, you need to set **space** which you will be using."
   ]
  },
  {
   "cell_type": "code",
   "execution_count": 7,
   "metadata": {},
   "outputs": [
    {
     "data": {
      "text/plain": [
       "'SUCCESS'"
      ]
     },
     "execution_count": 7,
     "metadata": {},
     "output_type": "execute_result"
    }
   ],
   "source": [
    "client.set.default_space(space_id)"
   ]
  },
  {
   "cell_type": "markdown",
   "metadata": {},
   "source": [
    "# Define the secret\n",
    "<a id=\"define-secret\"></a>\n",
    "\n",
    "Create a secret utilizing the credentials defined above.\n",
    "\n",
    "**Note**: Vault and Secret REST API documentation is available [here](https://www.ibm.com/docs/en/software-hub/5.1.x?topic=2-managing-secrets-vaults)."
   ]
  },
  {
   "cell_type": "markdown",
   "metadata": {},
   "source": [
    "### Fetch Vault URN\n",
    "\n",
    "In order to use the Secret REST API, you need to retrieve the Vault URN, which points to the vault where your secret will be stored."
   ]
  },
  {
   "cell_type": "markdown",
   "metadata": {},
   "source": [
    "#### Define the Cloud Pak for Data host"
   ]
  },
  {
   "cell_type": "code",
   "execution_count": 8,
   "metadata": {},
   "outputs": [],
   "source": [
    "import os\n",
    "\n",
    "try:\n",
    "    host = os.environ.get(\"RUNTIME_ENV_APSX_URL\")\n",
    "except KeyError:\n",
    "    host = input(\"Please enter your Cloud Pak for Data URL (hit enter): \")"
   ]
  },
  {
   "cell_type": "markdown",
   "metadata": {},
   "source": [
    "#### Define request parameters"
   ]
  },
  {
   "cell_type": "code",
   "execution_count": 9,
   "metadata": {},
   "outputs": [],
   "source": [
    "provider_name = \"internal\"\n",
    "\n",
    "url = f\"{host}/zen-data/v2/vaults\"\n",
    "headers = client._get_headers(zen=True)\n",
    "params = {\"provider_name\": provider_name}"
   ]
  },
  {
   "cell_type": "markdown",
   "metadata": {},
   "source": [
    "#### List available vaults"
   ]
  },
  {
   "cell_type": "code",
   "execution_count": 10,
   "metadata": {},
   "outputs": [],
   "source": [
    "import json\n",
    "import requests\n",
    "\n",
    "response = requests.get(url, headers=headers, params=params)\n",
    "vault_list = response.json()[\"vaults\"]\n",
    "\n",
    "print(json.dumps(vault_list, indent=2))"
   ]
  },
  {
   "cell_type": "markdown",
   "metadata": {},
   "source": [
    "#### Specify Vault URN"
   ]
  },
  {
   "cell_type": "code",
   "execution_count": 11,
   "metadata": {},
   "outputs": [
    {
     "data": {
      "text/plain": [
       "'0000000000:internal'"
      ]
     },
     "execution_count": 11,
     "metadata": {},
     "output_type": "execute_result"
    }
   ],
   "source": [
    "vault_urn = vault_list[0][\"vault_urn\"]\n",
    "\n",
    "vault_urn"
   ]
  },
  {
   "cell_type": "markdown",
   "metadata": {},
   "source": [
    "### Store secret in Vault\n",
    "\n",
    "In order to utilize your secret inside the Python function, it needs to be stored in the Vault."
   ]
  },
  {
   "cell_type": "markdown",
   "metadata": {},
   "source": [
    "#### Define request parameters"
   ]
  },
  {
   "cell_type": "code",
   "execution_count": 12,
   "metadata": {},
   "outputs": [],
   "source": [
    "secret_name = \"PASTE YOUR SECRET NAME HERE\"\n",
    "\n",
    "url = f\"{host}/zen-data/v2/secrets\"\n",
    "headers = client._get_headers(zen=True)\n",
    "payload = {\n",
    "    \"secret_name\": secret_name,\n",
    "    \"description\": \"This secret was created for a demonstration of Vault and Secret REST API\",\n",
    "    \"secret\": {\n",
    "        \"credentials\": {\n",
    "            \"username\": username,\n",
    "            \"password\": password\n",
    "        }\n",
    "    },\n",
    "    \"type\": \"credentials\",\n",
    "    \"vault_urn\": vault_urn\n",
    "}"
   ]
  },
  {
   "cell_type": "markdown",
   "metadata": {},
   "source": [
    "#### Store the secret"
   ]
  },
  {
   "cell_type": "code",
   "execution_count": 13,
   "metadata": {},
   "outputs": [
    {
     "name": "stdout",
     "output_type": "stream",
     "text": [
      "{\n",
      "  \"secret_urn\": \"1000331001:my-secret-name\"\n",
      "}\n"
     ]
    }
   ],
   "source": [
    "response = requests.post(url, headers=headers, json=payload)\n",
    "\n",
    "print(json.dumps(response.json(), indent=2))"
   ]
  },
  {
   "cell_type": "markdown",
   "metadata": {},
   "source": [
    "# Define the Python function\n",
    "<a id=\"define-function\"></a>\n",
    "\n",
    "Create a Python function which utilizes the secret defined above."
   ]
  },
  {
   "cell_type": "code",
   "execution_count": 14,
   "metadata": {},
   "outputs": [],
   "source": [
    "def deployable_function_with_secret(space_id=space_id, secret_name=secret_name):\n",
    "    import os\n",
    "    import requests\n",
    "\n",
    "    from ibm_watsonx_ai import APIClient, Credentials\n",
    "\n",
    "\n",
    "    host = os.environ.get(\"RUNTIME_ENV_APSX_URL\")\n",
    "    credentials = Credentials(\n",
    "        instance_id=\"openshift\",\n",
    "        url=host,\n",
    "        version=\"5.1\",\n",
    "    )\n",
    "    client = APIClient(credentials)\n",
    "\n",
    "\n",
    "    def get_secret_urn(host, secret_name):\n",
    "        url = f\"{host}/zen-data/v2/secrets\"\n",
    "        headers = client._get_headers(zen=True)\n",
    "        params = {\"secret_name\": secret_name}\n",
    "\n",
    "        response = requests.get(url, headers=headers, params=params)\n",
    "        secret_list = response.json()[\"secrets\"]\n",
    "\n",
    "        return secret_list[0][\"secret_urn\"]\n",
    "\n",
    "\n",
    "    def get_secret_details(host, secret_urn):\n",
    "        url = f\"{host}/zen-data/v2/secrets/{secret_urn}\"\n",
    "        headers = client._get_headers(zen=True)\n",
    "\n",
    "        response = requests.get(url, headers=headers, verify=False)\n",
    "        secret_details = response.json()\n",
    "\n",
    "        return secret_details[\"data\"][\"secret\"][\"credentials\"]\n",
    "\n",
    "\n",
    "    secret_urn = get_secret_urn(host, secret_name)\n",
    "    client_credentials = get_secret_details(host, secret_urn)\n",
    "\n",
    "    vault_username = client_credentials[\"username\"]\n",
    "    vault_password = client_credentials[\"password\"]\n",
    "\n",
    "    vault_credentials = Credentials(\n",
    "        url=os.environ.get(\"RUNTIME_ENV_APSX_URL\"),\n",
    "        username=vault_username,\n",
    "        password=vault_password,\n",
    "        instance_id=\"openshift\",\n",
    "        version=\"5.1\"\n",
    "    )\n",
    "\n",
    "    client_from_vault = APIClient(credentials=vault_credentials, space_id=space_id)\n",
    "\n",
    "    def score(payload):\n",
    "        stored_models = client_from_vault.repository.list()\n",
    "        use_score_token_values = stored_models[\"ID\"].tolist()\n",
    "\n",
    "        score_response = {\n",
    "            \"predictions\": [\n",
    "                {\n",
    "                    \"fields\": [\n",
    "                        \"use_score_token\"\n",
    "                    ],\n",
    "                    \"values\": [\n",
    "                        use_score_token_values\n",
    "                    ]\n",
    "                }\n",
    "            ]\n",
    "        }\n",
    "\n",
    "        return score_response\n",
    "\n",
    "    return score\n",
    "\n",
    "score = deployable_function_with_secret()"
   ]
  },
  {
   "cell_type": "markdown",
   "metadata": {},
   "source": [
    "<a id=\"testing-locally\"></a>\n",
    "## Testing function locally\n",
    "\n",
    "You can test your Python function locally before deploying it to the space."
   ]
  },
  {
   "cell_type": "code",
   "execution_count": 15,
   "metadata": {},
   "outputs": [
    {
     "name": "stdout",
     "output_type": "stream",
     "text": [
      "{\n",
      "  \"predictions\": [\n",
      "    {\n",
      "      \"fields\": [\n",
      "        \"use_score_token\"\n",
      "      ],\n",
      "      \"values\": [\n",
      "        [\n",
      "          \"35acbc20-88d1-4bf0-97a2-9b8da067cc39\",\n",
      "          \"aae57eb5-642a-4bd0-952a-8b8fd8af0328\"\n",
      "        ]\n",
      "      ]\n",
      "    }\n",
      "  ]\n",
      "}\n"
     ]
    }
   ],
   "source": [
    "local_function = deployable_function_with_secret(space_id, secret_name)\n",
    "\n",
    "payload = {\"input_data\": [{\"values\": [1]}]}\n",
    "result = local_function(payload)\n",
    "\n",
    "print(json.dumps(result, indent=2))"
   ]
  },
  {
   "cell_type": "markdown",
   "metadata": {},
   "source": [
    "## Store and deploy the function\n",
    "\n",
    "Before you can deploy the function, you must store it in your watsonx.ai Runtime."
   ]
  },
  {
   "cell_type": "markdown",
   "metadata": {},
   "source": [
    "### Store the function\n",
    "In order to deploy the function, you need to specify your software specification."
   ]
  },
  {
   "cell_type": "markdown",
   "metadata": {},
   "source": [
    "#### Get software specification ID"
   ]
  },
  {
   "cell_type": "code",
   "execution_count": 16,
   "metadata": {},
   "outputs": [],
   "source": [
    "software_spec_id = client.software_specifications.get_id_by_name(\"runtime-24.1-py3.11\")"
   ]
  },
  {
   "cell_type": "markdown",
   "metadata": {},
   "source": [
    "#### Store the function in watsonx.ai Runtime"
   ]
  },
  {
   "cell_type": "code",
   "execution_count": 17,
   "metadata": {
    "id": "69a81998-9ad1-47ee-9003-ba29c5e4921e"
   },
   "outputs": [],
   "source": [
    "store_function_meta_props = {\n",
    "    client.repository.FunctionMetaNames.NAME: \"Deployable function with secret from Vault\",\n",
    "    client.repository.FunctionMetaNames.SOFTWARE_SPEC_ID: software_spec_id,\n",
    "}\n",
    "\n",
    "function_artifact = client.repository.store_function(\n",
    "    function=deployable_function_with_secret, meta_props=store_function_meta_props,\n",
    ")"
   ]
  },
  {
   "cell_type": "markdown",
   "metadata": {},
   "source": [
    "#### Get ID of deployed function"
   ]
  },
  {
   "cell_type": "code",
   "execution_count": 18,
   "metadata": {},
   "outputs": [
    {
     "data": {
      "text/plain": [
       "'c406da49-a6b6-4736-ba9a-5a2106d68c35'"
      ]
     },
     "execution_count": 18,
     "metadata": {},
     "output_type": "execute_result"
    }
   ],
   "source": [
    "function_id = client.repository.get_function_id(function_artifact)\n",
    "\n",
    "function_id"
   ]
  },
  {
   "cell_type": "markdown",
   "metadata": {},
   "source": [
    "### Deploy the function\n",
    "\n",
    "After storing the function in your watsonx.ai Runtime, you can deploy it to your deployment space."
   ]
  },
  {
   "cell_type": "code",
   "execution_count": 19,
   "metadata": {},
   "outputs": [
    {
     "name": "stdout",
     "output_type": "stream",
     "text": [
      "\n",
      "\n",
      "######################################################################################\n",
      "\n",
      "Synchronous deployment creation for id: 'c406da49-a6b6-4736-ba9a-5a2106d68c35' started\n",
      "\n",
      "######################################################################################\n",
      "\n",
      "\n",
      "initializing\n",
      ".......\n",
      "ready\n",
      "\n",
      "\n",
      "-----------------------------------------------------------------------------------------------\n",
      "Successfully finished deployment creation, deployment_id='e52c9f2b-52e2-42a4-a5b6-0b1bba4a3041'\n",
      "-----------------------------------------------------------------------------------------------\n",
      "\n",
      "\n"
     ]
    }
   ],
   "source": [
    "deployment_meta_props = {\n",
    "    client.deployments.ConfigurationMetaNames.NAME: \"Deployed function with secret from Vault\",\n",
    "    client.deployments.ConfigurationMetaNames.ONLINE: {},\n",
    "}\n",
    "\n",
    "deployment_details = client.deployments.create(\n",
    "    artifact_id=function_id, meta_props=deployment_meta_props,\n",
    ")"
   ]
  },
  {
   "cell_type": "markdown",
   "metadata": {},
   "source": [
    "<a id=\"testing-deployment\"></a>\n",
    "## Test the deployed function\n",
    "\n",
    "You can use `ibm-watsonx-ai` Python SDK or REST API to send data to your function deployment for processing in exactly the same way you send data to model deployments for processing."
   ]
  },
  {
   "cell_type": "markdown",
   "metadata": {},
   "source": [
    "#### Test using `ibm-watsonx-ai` Python SDK"
   ]
  },
  {
   "cell_type": "code",
   "execution_count": 20,
   "metadata": {},
   "outputs": [
    {
     "name": "stdout",
     "output_type": "stream",
     "text": [
      "{'predictions': [{'fields': ['use_score_token'], 'values': [['c406da49-a6b6-4736-ba9a-5a2106d68c35', '35acbc20-88d1-4bf0-97a2-9b8da067cc39', 'aae57eb5-642a-4bd0-952a-8b8fd8af0328']]}]}\n"
     ]
    }
   ],
   "source": [
    "payload = {\"input_data\": [{\"values\": [1]}]}\n",
    "\n",
    "deployment_id = client.deployments.get_id(deployment_details)\n",
    "result = client.deployments.score(deployment_id, payload)\n",
    "\n",
    "if \"error\" in result:\n",
    "    print(result[\"error\"])\n",
    "else:\n",
    "    print(json.dumps(result, indent=2))"
   ]
  },
  {
   "cell_type": "markdown",
   "metadata": {},
   "source": [
    "#### Get deployment endpoint URL for REST API testing"
   ]
  },
  {
   "cell_type": "code",
   "execution_count": 21,
   "metadata": {},
   "outputs": [],
   "source": [
    "deployment_endpoint_url = client.deployments.get_scoring_href(deployment_details)\n",
    "\n",
    "deployment_endpoint_url"
   ]
  },
  {
   "cell_type": "markdown",
   "metadata": {
    "id": "bc88c9fe-c18d-4421-a0e8-dca4bdd40d71"
   },
   "source": [
    "<a id=\"cleanup\"></a>\n",
    "## Cleanup"
   ]
  },
  {
   "cell_type": "markdown",
   "metadata": {},
   "source": [
    "If you want to clean up all created assets:\n",
    "- experiments\n",
    "- trainings\n",
    "- pipelines\n",
    "- model definitions\n",
    "- models\n",
    "- functions\n",
    "- deployments\n",
    "\n",
    "please follow up this sample [notebook](https://github.com/IBM/watson-machine-learning-samples/blob/master/cpd5.1/notebooks/python_sdk/instance-management/Machine%20Learning%20artifacts%20management.ipynb)."
   ]
  },
  {
   "cell_type": "markdown",
   "metadata": {},
   "source": [
    "<a id=\"summary\"></a>\n",
    "## Summary and next steps\n",
    "In this notebook, you created a Python function that receives HTML canvas image data and then processes and sends that data to a model trained to recognize handwritten digits.\n",
    "\n",
    "Check out our _<a href=\"https://ibm.github.io/watsonx-ai-python-sdk/samples.html\" target=\"_blank\" rel=\"noopener no referrer\">Online Documentation</a>_ for more samples, tutorials, documentation, how-tos, and blog posts. "
   ]
  },
  {
   "cell_type": "markdown",
   "metadata": {},
   "source": [
    "### <a id=\"authors\"></a>Authors\n",
    "\n",
    "**Rafał Chrzanowski**, Software Engineer Intern at watsonx.ai."
   ]
  },
  {
   "cell_type": "markdown",
   "metadata": {},
   "source": [
    "Copyright © 2025 IBM. This notebook and its source code are released under the terms of the MIT License."
   ]
  }
 ],
 "metadata": {
  "kernelspec": {
   "display_name": "test-throwaway",
   "language": "python",
   "name": "python3"
  },
  "language_info": {
   "codemirror_mode": {
    "name": "ipython",
    "version": 3
   },
   "file_extension": ".py",
   "mimetype": "text/x-python",
   "name": "python",
   "nbconvert_exporter": "python",
   "pygments_lexer": "ipython3",
   "version": "3.11.11"
  }
 },
 "nbformat": 4,
 "nbformat_minor": 4
}

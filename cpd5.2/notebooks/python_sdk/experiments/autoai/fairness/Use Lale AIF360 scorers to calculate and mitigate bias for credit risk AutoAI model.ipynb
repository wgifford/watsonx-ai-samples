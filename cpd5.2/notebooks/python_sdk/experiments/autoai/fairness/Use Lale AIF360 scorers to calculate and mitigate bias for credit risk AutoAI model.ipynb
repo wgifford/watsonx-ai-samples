{
 "cells": [
  {
   "cell_type": "markdown",
   "metadata": {
    "id": "0c401963-dda9-4ea8-947a-c7a495b14374"
   },
   "source": [
    "# Use `Lale` `AIF360` scorers to calculate and mitigate bias for credit risk AutoAI model"
   ]
  },
  {
   "cell_type": "markdown",
   "metadata": {
    "id": "597f8c8c-0b2f-4d6e-8b1c-9af7e0babe2e"
   },
   "source": [
    "This notebook contains the steps and code to demonstrate support of AutoAI experiments in watsonx.ai service. It introduces commands for bias detecting and mitigation performed with `lale.lib.aif360` module.\n",
    "\n",
    "Some familiarity with Python is helpful. This notebook uses Python 3.12."
   ]
  },
  {
   "cell_type": "markdown",
   "metadata": {
    "id": "a2d4ce51-3306-4b21-9a39-7aa59ed2ca58"
   },
   "source": [
    "## Learning goals\n",
    "\n",
    "The learning goals of this notebook are:\n",
    "\n",
    "-  Work with watsonx.ai experiments to train AutoAI models.\n",
    "-  Calculate fairness metrics of trained pipelines. \n",
    "-  Refine the best model and perform mitigation to get less biased model.\n",
    "-  Store trained model with custom software specification.\n",
    "-  Online deployment and score the trained model."
   ]
  },
  {
   "cell_type": "markdown",
   "metadata": {
    "id": "709fe6ab-2303-49fb-851c-4e0a373d02eb"
   },
   "source": [
    "## Contents\n",
    "\n",
    "This notebook contains the following parts:\n",
    "\n",
    "1. [Setup](#setup)\n",
    "2. [Optimizer definition](#definition)\n",
    "3. [Experiment Run](#run)\n",
    "4. [Pipeline bias detection and mitigation](#bias)\n",
    "5. [Deployment and score](#scoring)\n",
    "6. [Clean up](#cleanup)\n",
    "7. [Summary and next steps](#summary)"
   ]
  },
  {
   "cell_type": "markdown",
   "metadata": {
    "id": "c74bef2f-4edd-490c-aa78-cd3ba64f82f8"
   },
   "source": [
    "<a id=\"setup\"></a>\n",
    "## 1. Set up the environment\n",
    "\n",
    "If you are not familiar with <a href=\"https://ibm.github.io/watsonx-ai-python-sdk/index.html\" target=\"_blank\" rel=\"noopener no referrer\">watsonx.ai</a> and AutoAI experiments, please read more about it in the sample notebook: <a href=\"https://github.com/IBM/watsonx-ai-samples/blob/master/cpd5.2/notebooks/python_sdk/experiments/autoai/Use%20AutoAI%20and%20Lale%20to%20predict%20credit%20risk.ipynb\" target=\"_blank\" rel=\"noopener no referrer\">\"Use AutoAI and Lale to predict credit risk with `ibm-watsonx-ai`\"</a>"
   ]
  },
  {
   "cell_type": "markdown",
   "metadata": {
    "id": "13d31116-4f9b-4150-839e-3dbe6b72e96a"
   },
   "source": [
    "### Install dependencies\n",
    "**Note:** `ibm-watsonx-ai` documentation can be found <a href=\"https://ibm.github.io/watsonx-ai-python-sdk/index.html\" target=\"_blank\" rel=\"noopener no referrer\">here</a>."
   ]
  },
  {
   "cell_type": "code",
   "execution_count": 1,
   "metadata": {
    "id": "7e5d43cc-6c1d-451a-b04e-84c97248b148"
   },
   "outputs": [
    {
     "name": "stdout",
     "output_type": "stream",
     "text": [
      "Successfully installed wget-3.2\n",
      "Requirement already satisfied: threadpoolctl>=3.1.0 in /opt/user-env/pyt6/lib64/python3.12/site-packages (from scikit-learn==1.6.1) (3.6.0)\n",
      "Successfully installed ibm-watsonx-ai-1.3.20\n",
      "Successfully installed autoai-libs-3.0.3\n",
      "Successfully installed BlackBoxAuditing-0.1.54 aif360-0.6.1 imbalanced-learn-0.13.0 klepto-0.2.7 liac-arff-2.5.0 mystic-0.4.4 pox-0.3.6 sklearn-compat-0.1.3\n",
      "Requirement already satisfied: six>=1.5 in /opt/user-env/pyt6/lib64/python3.12/site-packages (from python-dateutil>=2.8.2->pandas>=0.24.0->aif360) (1.17.0)\n",
      "Requirement already satisfied: liac-arff in /opt/user-env/pyt6/lib64/python3.12/site-packages (2.5.0)\n",
      "Successfully installed clarabel-0.10.0 cvxpy-1.6.5 osqp-1.0.4 scs-3.2.7.post2\n",
      "Successfully installed fairlearn-0.12.0\n"
     ]
    }
   ],
   "source": [
    "%pip install -U wget | tail -n 1\n",
    "%pip install \"scikit-learn==1.6.1\" | tail -n 1\n",
    "%pip install -U ibm-watsonx-ai | tail -n 1\n",
    "%pip install -U autoai-libs | tail -n 1\n",
    "%pip install -U \"lale[fairness]\" | tail -n 1\n",
    "%pip install -U aif360 | tail -n 1\n",
    "%pip install -U liac-arff | tail -n 1\n",
    "%pip install -U cvxpy | tail -n 1\n",
    "%pip install -U fairlearn | tail -n 1"
   ]
  },
  {
   "cell_type": "markdown",
   "metadata": {
    "id": "39d1e5ab-1e68-4b9b-ab49-389ea4e52336"
   },
   "source": [
    "#### Define credentials\n",
    "\n",
    "Authenticate the watsonx.ai Runtime service on IBM Cloud Pak for Data. You need to provide the **admin's** `username` and the platform `url`."
   ]
  },
  {
   "cell_type": "code",
   "execution_count": 2,
   "metadata": {
    "id": "0851a4c7-c8fc-4f17-b65c-c9940bb03935"
   },
   "outputs": [],
   "source": [
    "username = \"PASTE YOUR USERNAME HERE\"\n",
    "url = \"PASTE THE PLATFORM URL HERE\""
   ]
  },
  {
   "cell_type": "markdown",
   "metadata": {
    "id": "4d81d7d4-477e-488b-9bc1-d67ff106b98c"
   },
   "source": [
    "Use the **admin's** `api_key` to authenticate watsonx.ai Runtime services:"
   ]
  },
  {
   "cell_type": "code",
   "execution_count": null,
   "metadata": {
    "id": "ca3b4ad4-9214-42dd-ba07-9eed1563a7ff"
   },
   "outputs": [],
   "source": [
    "import getpass\n",
    "from ibm_watsonx_ai import Credentials\n",
    "\n",
    "credentials = Credentials(\n",
    "    username=username,\n",
    "    api_key=getpass.getpass(\"Enter your watsonx.ai API key and hit enter: \"),\n",
    "    url=url,\n",
    "    instance_id=\"openshift\",\n",
    "    version=\"5.2\",\n",
    ")"
   ]
  },
  {
   "cell_type": "markdown",
   "metadata": {
    "id": "ca82a9ce-aa92-494e-9a10-c04e8ccb4802"
   },
   "source": [
    "Alternatively you can use the **admin's** `password`:"
   ]
  },
  {
   "cell_type": "code",
   "execution_count": 3,
   "metadata": {
    "id": "e1ae2d22-a3cf-410b-a881-99ddcfe85e50"
   },
   "outputs": [
    {
     "name": "stdout",
     "output_type": "stream",
     "text": [
      "Enter your watsonx.ai password and hit enter:  ········\n"
     ]
    }
   ],
   "source": [
    "import getpass\n",
    "from ibm_watsonx_ai import Credentials\n",
    "\n",
    "if \"credentials\" not in locals() or not credentials.api_key:\n",
    "    credentials = Credentials(\n",
    "        username=username,\n",
    "        password=getpass.getpass(\"Enter your watsonx.ai password and hit enter: \"),\n",
    "        url=url,\n",
    "        instance_id=\"openshift\",\n",
    "        version=\"5.2\",\n",
    "    )"
   ]
  },
  {
   "cell_type": "markdown",
   "metadata": {
    "id": "9204ee1c-057f-486d-a7ca-75945a0423b2"
   },
   "source": [
    "#### Create `APIClient` instance"
   ]
  },
  {
   "cell_type": "code",
   "execution_count": 4,
   "metadata": {
    "id": "0381fa5b-9513-4431-bc51-916570adbb01"
   },
   "outputs": [],
   "source": [
    "from ibm_watsonx_ai import APIClient\n",
    "\n",
    "client = APIClient(credentials)"
   ]
  },
  {
   "cell_type": "markdown",
   "metadata": {
    "id": "04feb0ca-6ab4-451b-bd87-d83437d67103"
   },
   "source": [
    "### Working with spaces\n",
    "\n",
    "First of all, you need to create a space that will be used for your work. If you do not have space already created, you can use `{PLATFORM_URL}/ml-runtime/spaces?context=icp4data` to create one.\n",
    "\n",
    "- Click New Deployment Space\n",
    "- Create an empty space\n",
    "- Go to space `Settings` tab\n",
    "- Copy `space_id` and paste it below\n",
    "\n",
    "**Tip**: You can also use SDK to prepare the space for your work. More information can be found [here](https://github.com/IBM/watsonx-ai-samples/blob/master/cpd5.2/notebooks/python_sdk/instance-management/Space%20management.ipynb).\n",
    "\n",
    "**Action**: Assign space ID below\n"
   ]
  },
  {
   "cell_type": "code",
   "execution_count": 5,
   "metadata": {
    "id": "08f1bf12-a5b7-43c6-a51d-8fc16f5a1c18"
   },
   "outputs": [],
   "source": [
    "space_id = \"PASTE YOUR SPACE ID HERE\""
   ]
  },
  {
   "cell_type": "markdown",
   "metadata": {
    "id": "b3bfffd0-c463-4bb0-8e84-8c9203449c5c"
   },
   "source": [
    "You can use the `list` method to print all existing spaces.\n"
   ]
  },
  {
   "cell_type": "code",
   "execution_count": null,
   "metadata": {
    "id": "838d3c2e-b2b7-4ccb-b017-b94f47c1566c"
   },
   "outputs": [],
   "source": [
    "client.spaces.list(limit=10)"
   ]
  },
  {
   "cell_type": "markdown",
   "metadata": {
    "id": "3d6fdd02-ffa1-4365-9909-abfa8cba6563"
   },
   "source": [
    "To be able to interact with all resources available in watsonx.ai, you need to set the **space** which you will be using."
   ]
  },
  {
   "cell_type": "code",
   "execution_count": 6,
   "metadata": {
    "id": "71beb86a-3af0-44bf-b7b9-513546103057"
   },
   "outputs": [
    {
     "data": {
      "text/plain": [
       "'SUCCESS'"
      ]
     },
     "execution_count": 6,
     "metadata": {},
     "output_type": "execute_result"
    }
   ],
   "source": [
    "client.set.default_space(space_id)"
   ]
  },
  {
   "cell_type": "markdown",
   "metadata": {
    "id": "7f71acb9-d9a8-4dec-9cef-8e810047c91c"
   },
   "source": [
    "<a id=\"definition\"></a>\n",
    "## 2. Optimizer definition"
   ]
  },
  {
   "cell_type": "markdown",
   "metadata": {
    "id": "89361988-88e2-4bea-888d-948948ed7c92"
   },
   "source": [
    "### Training data connection\n",
    "\n",
    "Define connection information to training data CSV file. This example uses the [German Credit Risk dataset](https://raw.githubusercontent.com/IBM/watsonx-ai-samples/master/cloud/data/credit_risk/german_credit_data_biased_training.csv)."
   ]
  },
  {
   "cell_type": "code",
   "execution_count": 7,
   "metadata": {
    "id": "71904d14-b938-41fc-ae4c-889b75486892"
   },
   "outputs": [],
   "source": [
    "filename = \"german_credit_data_biased_training.csv\""
   ]
  },
  {
   "cell_type": "markdown",
   "metadata": {
    "id": "1c37b0f3-e777-4895-94b7-c3e201b2cf91"
   },
   "source": [
    "Download training data from git repository and split for training and test set."
   ]
  },
  {
   "cell_type": "code",
   "execution_count": null,
   "metadata": {
    "id": "33e2f952-cfd6-4a5a-a9d2-ec5721104dbe"
   },
   "outputs": [
    {
     "data": {
      "text/html": [
       "<div>\n",
       "<style scoped>\n",
       "    .dataframe tbody tr th:only-of-type {\n",
       "        vertical-align: middle;\n",
       "    }\n",
       "\n",
       "    .dataframe tbody tr th {\n",
       "        vertical-align: top;\n",
       "    }\n",
       "\n",
       "    .dataframe thead th {\n",
       "        text-align: right;\n",
       "    }\n",
       "</style>\n",
       "<table border=\"1\" class=\"dataframe\">\n",
       "  <thead>\n",
       "    <tr style=\"text-align: right;\">\n",
       "      <th></th>\n",
       "      <th>CheckingStatus</th>\n",
       "      <th>LoanDuration</th>\n",
       "      <th>CreditHistory</th>\n",
       "      <th>LoanPurpose</th>\n",
       "      <th>LoanAmount</th>\n",
       "      <th>ExistingSavings</th>\n",
       "      <th>EmploymentDuration</th>\n",
       "      <th>InstallmentPercent</th>\n",
       "      <th>Sex</th>\n",
       "      <th>OthersOnLoan</th>\n",
       "      <th>...</th>\n",
       "      <th>OwnsProperty</th>\n",
       "      <th>Age</th>\n",
       "      <th>InstallmentPlans</th>\n",
       "      <th>Housing</th>\n",
       "      <th>ExistingCreditsCount</th>\n",
       "      <th>Job</th>\n",
       "      <th>Dependents</th>\n",
       "      <th>Telephone</th>\n",
       "      <th>ForeignWorker</th>\n",
       "      <th>Risk</th>\n",
       "    </tr>\n",
       "  </thead>\n",
       "  <tbody>\n",
       "    <tr>\n",
       "      <th>0</th>\n",
       "      <td>0_to_200</td>\n",
       "      <td>31</td>\n",
       "      <td>credits_paid_to_date</td>\n",
       "      <td>other</td>\n",
       "      <td>1889</td>\n",
       "      <td>100_to_500</td>\n",
       "      <td>less_1</td>\n",
       "      <td>3</td>\n",
       "      <td>female</td>\n",
       "      <td>none</td>\n",
       "      <td>...</td>\n",
       "      <td>savings_insurance</td>\n",
       "      <td>32</td>\n",
       "      <td>none</td>\n",
       "      <td>own</td>\n",
       "      <td>1</td>\n",
       "      <td>skilled</td>\n",
       "      <td>1</td>\n",
       "      <td>none</td>\n",
       "      <td>yes</td>\n",
       "      <td>No Risk</td>\n",
       "    </tr>\n",
       "    <tr>\n",
       "      <th>1</th>\n",
       "      <td>less_0</td>\n",
       "      <td>18</td>\n",
       "      <td>credits_paid_to_date</td>\n",
       "      <td>car_new</td>\n",
       "      <td>462</td>\n",
       "      <td>less_100</td>\n",
       "      <td>1_to_4</td>\n",
       "      <td>2</td>\n",
       "      <td>female</td>\n",
       "      <td>none</td>\n",
       "      <td>...</td>\n",
       "      <td>savings_insurance</td>\n",
       "      <td>37</td>\n",
       "      <td>stores</td>\n",
       "      <td>own</td>\n",
       "      <td>2</td>\n",
       "      <td>skilled</td>\n",
       "      <td>1</td>\n",
       "      <td>none</td>\n",
       "      <td>yes</td>\n",
       "      <td>No Risk</td>\n",
       "    </tr>\n",
       "    <tr>\n",
       "      <th>2</th>\n",
       "      <td>less_0</td>\n",
       "      <td>15</td>\n",
       "      <td>prior_payments_delayed</td>\n",
       "      <td>furniture</td>\n",
       "      <td>250</td>\n",
       "      <td>less_100</td>\n",
       "      <td>1_to_4</td>\n",
       "      <td>2</td>\n",
       "      <td>male</td>\n",
       "      <td>none</td>\n",
       "      <td>...</td>\n",
       "      <td>real_estate</td>\n",
       "      <td>28</td>\n",
       "      <td>none</td>\n",
       "      <td>own</td>\n",
       "      <td>2</td>\n",
       "      <td>skilled</td>\n",
       "      <td>1</td>\n",
       "      <td>yes</td>\n",
       "      <td>no</td>\n",
       "      <td>No Risk</td>\n",
       "    </tr>\n",
       "    <tr>\n",
       "      <th>3</th>\n",
       "      <td>0_to_200</td>\n",
       "      <td>28</td>\n",
       "      <td>credits_paid_to_date</td>\n",
       "      <td>retraining</td>\n",
       "      <td>3693</td>\n",
       "      <td>less_100</td>\n",
       "      <td>greater_7</td>\n",
       "      <td>3</td>\n",
       "      <td>male</td>\n",
       "      <td>none</td>\n",
       "      <td>...</td>\n",
       "      <td>savings_insurance</td>\n",
       "      <td>32</td>\n",
       "      <td>none</td>\n",
       "      <td>own</td>\n",
       "      <td>1</td>\n",
       "      <td>skilled</td>\n",
       "      <td>1</td>\n",
       "      <td>none</td>\n",
       "      <td>yes</td>\n",
       "      <td>No Risk</td>\n",
       "    </tr>\n",
       "    <tr>\n",
       "      <th>4</th>\n",
       "      <td>no_checking</td>\n",
       "      <td>28</td>\n",
       "      <td>prior_payments_delayed</td>\n",
       "      <td>education</td>\n",
       "      <td>6235</td>\n",
       "      <td>500_to_1000</td>\n",
       "      <td>greater_7</td>\n",
       "      <td>3</td>\n",
       "      <td>male</td>\n",
       "      <td>none</td>\n",
       "      <td>...</td>\n",
       "      <td>unknown</td>\n",
       "      <td>57</td>\n",
       "      <td>none</td>\n",
       "      <td>own</td>\n",
       "      <td>2</td>\n",
       "      <td>skilled</td>\n",
       "      <td>1</td>\n",
       "      <td>none</td>\n",
       "      <td>yes</td>\n",
       "      <td>Risk</td>\n",
       "    </tr>\n",
       "  </tbody>\n",
       "</table>\n",
       "<p>5 rows × 21 columns</p>\n",
       "</div>"
      ],
      "text/plain": [
       "  CheckingStatus  LoanDuration           CreditHistory LoanPurpose  \\\n",
       "0       0_to_200            31    credits_paid_to_date       other   \n",
       "1         less_0            18    credits_paid_to_date     car_new   \n",
       "2         less_0            15  prior_payments_delayed   furniture   \n",
       "3       0_to_200            28    credits_paid_to_date  retraining   \n",
       "4    no_checking            28  prior_payments_delayed   education   \n",
       "\n",
       "   LoanAmount ExistingSavings EmploymentDuration  InstallmentPercent     Sex  \\\n",
       "0        1889      100_to_500             less_1                   3  female   \n",
       "1         462        less_100             1_to_4                   2  female   \n",
       "2         250        less_100             1_to_4                   2    male   \n",
       "3        3693        less_100          greater_7                   3    male   \n",
       "4        6235     500_to_1000          greater_7                   3    male   \n",
       "\n",
       "  OthersOnLoan  ...       OwnsProperty Age  InstallmentPlans Housing  \\\n",
       "0         none  ...  savings_insurance  32              none     own   \n",
       "1         none  ...  savings_insurance  37            stores     own   \n",
       "2         none  ...        real_estate  28              none     own   \n",
       "3         none  ...  savings_insurance  32              none     own   \n",
       "4         none  ...            unknown  57              none     own   \n",
       "\n",
       "  ExistingCreditsCount      Job Dependents  Telephone ForeignWorker     Risk  \n",
       "0                    1  skilled          1       none           yes  No Risk  \n",
       "1                    2  skilled          1       none           yes  No Risk  \n",
       "2                    2  skilled          1        yes            no  No Risk  \n",
       "3                    1  skilled          1       none           yes  No Risk  \n",
       "4                    2  skilled          1       none           yes     Risk  \n",
       "\n",
       "[5 rows x 21 columns]"
      ]
     },
     "execution_count": 8,
     "metadata": {},
     "output_type": "execute_result"
    }
   ],
   "source": [
    "import os, wget\n",
    "import pandas as pd\n",
    "from sklearn.model_selection import train_test_split\n",
    "\n",
    "url = \"https://raw.githubusercontent.com/IBM/watsonx-ai-samples/master/cpd5.2/data/credit_risk/german_credit_data_biased_training.csv\"\n",
    "if not os.path.isfile(filename):\n",
    "    wget.download(url)\n",
    "\n",
    "credit_risk_df = pd.read_csv(filename)\n",
    "X = credit_risk_df.drop([\"Risk\"], axis=1)\n",
    "y = credit_risk_df[\"Risk\"]\n",
    "\n",
    "X_train, X_test, y_train, y_test = train_test_split(X, y, test_size=0.1)\n",
    "\n",
    "credit_risk_df.head()"
   ]
  },
  {
   "cell_type": "markdown",
   "metadata": {
    "id": "8d5a7bc9-ba81-41e7-a79e-59715ea3baea"
   },
   "source": [
    "Upload train dataset as Cloud Pak for Data data asset and define connection information to training data.\n"
   ]
  },
  {
   "cell_type": "code",
   "execution_count": 9,
   "metadata": {
    "id": "57939c58-f9a3-4abb-ab10-fc4698f7629e"
   },
   "outputs": [
    {
     "name": "stdout",
     "output_type": "stream",
     "text": [
      "Creating data asset...\n",
      "SUCCESS\n"
     ]
    },
    {
     "data": {
      "text/plain": [
       "{'metadata': {'space_id': '9c4eb218-96e8-41e0-8cd5-f783504a11ea',\n",
       "  'usage': {'last_updated_at': '2025-05-23T14:19:52Z',\n",
       "   'last_updater_id': '1000331001',\n",
       "   'last_update_time': 1748009992882,\n",
       "   'last_accessed_at': '2025-05-23T14:19:52Z',\n",
       "   'last_access_time': 1748009992882,\n",
       "   'last_accessor_id': '1000331001',\n",
       "   'access_count': 0},\n",
       "  'rov': {'mode': 0,\n",
       "   'collaborator_ids': {},\n",
       "   'member_roles': {'1000331001': {'user_iam_id': '1000331001',\n",
       "     'roles': ['OWNER']}}},\n",
       "  'is_linked_with_sub_container': False,\n",
       "  'name': 'german_credit_data_biased_training.csv',\n",
       "  'description': '',\n",
       "  'asset_type': 'data_asset',\n",
       "  'origin_country': 'us',\n",
       "  'resource_key': 'german_credit_data_biased_training.csv',\n",
       "  'rating': 0.0,\n",
       "  'total_ratings': 0,\n",
       "  'catalog_id': '32c875f2-f104-4801-9d5f-a0987098790c',\n",
       "  'created': 1748009992882,\n",
       "  'created_at': '2025-05-23T14:19:52Z',\n",
       "  'owner_id': '1000331001',\n",
       "  'size': 0,\n",
       "  'version': 2.0,\n",
       "  'asset_state': 'available',\n",
       "  'asset_attributes': ['data_asset'],\n",
       "  'asset_id': '685b9917-9836-41a6-a0b0-76c9da72cdbe',\n",
       "  'asset_category': 'USER',\n",
       "  'creator_id': '1000331001',\n",
       "  'is_branched': True,\n",
       "  'guid': '685b9917-9836-41a6-a0b0-76c9da72cdbe',\n",
       "  'href': '/v2/assets/685b9917-9836-41a6-a0b0-76c9da72cdbe?space_id=9c4eb218-96e8-41e0-8cd5-f783504a11ea',\n",
       "  'last_updated_at': '2025-05-23T14:19:52Z'},\n",
       " 'entity': {'data_asset': {'mime_type': 'text/csv'}}}"
      ]
     },
     "execution_count": 9,
     "metadata": {},
     "output_type": "execute_result"
    }
   ],
   "source": [
    "X_train.join(y_train).to_csv(filename, index=False, mode=\"w+\")\n",
    "asset_details = client.data_assets.create(filename, filename)\n",
    "asset_details"
   ]
  },
  {
   "cell_type": "code",
   "execution_count": 10,
   "metadata": {
    "id": "168c0457-bfbb-4c25-b918-45349cd45aaf"
   },
   "outputs": [],
   "source": [
    "from ibm_watsonx_ai.helpers import DataConnection, AssetLocation\n",
    "\n",
    "\n",
    "credit_risk_conn = DataConnection(\n",
    "    location=AssetLocation(asset_id=client.data_assets.get_id(asset_details))\n",
    ")\n",
    "\n",
    "training_data_reference = [credit_risk_conn]"
   ]
  },
  {
   "cell_type": "markdown",
   "metadata": {
    "id": "9096e103-5865-4e10-a8e7-2459edebf3c2"
   },
   "source": [
    "### Optimizer configuration\n",
    "\n",
    "Provide the input information for AutoAI optimizer:\n",
    "- `name` - experiment name\n",
    "- `prediction_type` - type of the problem\n",
    "- `prediction_column` - target column name\n",
    "- `scoring` - optimization metric\n",
    "- `daub_include_only_estimators` - estimators which will be included during AutoAI training. More available estimators can be found in `experiment.ClassificationAlgorithms` enum"
   ]
  },
  {
   "cell_type": "code",
   "execution_count": 11,
   "metadata": {
    "id": "7242e1f3-16d7-4594-a0d4-c59d2afdf9a8"
   },
   "outputs": [],
   "source": [
    "from ibm_watsonx_ai.experiment import AutoAI\n",
    "\n",
    "experiment = AutoAI(credentials, space_id=space_id)\n",
    "\n",
    "pipeline_optimizer = experiment.optimizer(\n",
    "    name=\"Credit Risk Bias detection in AutoAI\",\n",
    "    desc=\"Sample notebook\",\n",
    "    prediction_type=AutoAI.PredictionType.BINARY,\n",
    "    prediction_column=\"Risk\",\n",
    "    scoring=AutoAI.Metrics.ROC_AUC_SCORE,\n",
    "    include_only_estimators=[experiment.ClassificationAlgorithms.XGB],\n",
    ")"
   ]
  },
  {
   "cell_type": "markdown",
   "metadata": {
    "id": "ed90db2b-afda-4f65-a2af-80ea11490e7f"
   },
   "source": [
    "<a id=\"run\"></a>\n",
    "## 3. Experiment run\n",
    "\n",
    "Call the `fit()` method to trigger the AutoAI experiment. You can either use interactive mode (synchronous job) or background mode (asychronous job) by specifying `background_model=True`."
   ]
  },
  {
   "cell_type": "code",
   "execution_count": 12,
   "metadata": {
    "id": "7710cf91-a9ca-4a69-93b4-69152e497fb0"
   },
   "outputs": [
    {
     "name": "stdout",
     "output_type": "stream",
     "text": [
      "Training job 6331d3d1-a4e0-4a84-bbb0-2c7ab1a664ed completed: 100%|████████| [02:13<00:00,  1.34s/it]\n"
     ]
    }
   ],
   "source": [
    "run_details = pipeline_optimizer.fit(\n",
    "    training_data_reference=training_data_reference, background_mode=False\n",
    ")"
   ]
  },
  {
   "cell_type": "code",
   "execution_count": 13,
   "metadata": {
    "id": "f9b7265d-f97d-4a8c-884d-5e9095725a7e"
   },
   "outputs": [
    {
     "data": {
      "text/plain": [
       "'completed'"
      ]
     },
     "execution_count": 13,
     "metadata": {},
     "output_type": "execute_result"
    }
   ],
   "source": [
    "pipeline_optimizer.get_run_status()"
   ]
  },
  {
   "cell_type": "markdown",
   "metadata": {
    "id": "59a67c29-3443-4365-ae57-d54d4ca581af"
   },
   "source": [
    "You can list trained pipelines and evaluation metrics information in\n",
    "the form of a Pandas DataFrame by calling the `summary()` method. "
   ]
  },
  {
   "cell_type": "code",
   "execution_count": 14,
   "metadata": {
    "id": "a6dbfc6d-58b5-4115-b51c-b39c9179f6b7"
   },
   "outputs": [
    {
     "data": {
      "text/html": [
       "<div>\n",
       "<style scoped>\n",
       "    .dataframe tbody tr th:only-of-type {\n",
       "        vertical-align: middle;\n",
       "    }\n",
       "\n",
       "    .dataframe tbody tr th {\n",
       "        vertical-align: top;\n",
       "    }\n",
       "\n",
       "    .dataframe thead th {\n",
       "        text-align: right;\n",
       "    }\n",
       "</style>\n",
       "<table border=\"1\" class=\"dataframe\">\n",
       "  <thead>\n",
       "    <tr style=\"text-align: right;\">\n",
       "      <th></th>\n",
       "      <th>Enhancements</th>\n",
       "      <th>Estimator</th>\n",
       "      <th>training_roc_auc_(optimized)</th>\n",
       "      <th>holdout_average_precision</th>\n",
       "      <th>holdout_log_loss</th>\n",
       "      <th>training_accuracy</th>\n",
       "      <th>holdout_roc_auc</th>\n",
       "      <th>training_balanced_accuracy</th>\n",
       "      <th>training_f1</th>\n",
       "      <th>holdout_precision</th>\n",
       "      <th>training_average_precision</th>\n",
       "      <th>training_log_loss</th>\n",
       "      <th>holdout_recall</th>\n",
       "      <th>training_precision</th>\n",
       "      <th>holdout_accuracy</th>\n",
       "      <th>holdout_balanced_accuracy</th>\n",
       "      <th>training_recall</th>\n",
       "      <th>holdout_f1</th>\n",
       "    </tr>\n",
       "    <tr>\n",
       "      <th>Pipeline Name</th>\n",
       "      <th></th>\n",
       "      <th></th>\n",
       "      <th></th>\n",
       "      <th></th>\n",
       "      <th></th>\n",
       "      <th></th>\n",
       "      <th></th>\n",
       "      <th></th>\n",
       "      <th></th>\n",
       "      <th></th>\n",
       "      <th></th>\n",
       "      <th></th>\n",
       "      <th></th>\n",
       "      <th></th>\n",
       "      <th></th>\n",
       "      <th></th>\n",
       "      <th></th>\n",
       "      <th></th>\n",
       "    </tr>\n",
       "  </thead>\n",
       "  <tbody>\n",
       "    <tr>\n",
       "      <th>Pipeline_2</th>\n",
       "      <td>HPO</td>\n",
       "      <td>XGBClassifier</td>\n",
       "      <td>0.857982</td>\n",
       "      <td>0.479641</td>\n",
       "      <td>0.422134</td>\n",
       "      <td>0.809573</td>\n",
       "      <td>0.815429</td>\n",
       "      <td>0.756301</td>\n",
       "      <td>0.865137</td>\n",
       "      <td>0.809249</td>\n",
       "      <td>0.920145</td>\n",
       "      <td>0.422384</td>\n",
       "      <td>0.936455</td>\n",
       "      <td>0.819500</td>\n",
       "      <td>0.810690</td>\n",
       "      <td>0.748227</td>\n",
       "      <td>0.916295</td>\n",
       "      <td>0.868217</td>\n",
       "    </tr>\n",
       "    <tr>\n",
       "      <th>Pipeline_3</th>\n",
       "      <td>HPO, FE</td>\n",
       "      <td>XGBClassifier</td>\n",
       "      <td>0.860278</td>\n",
       "      <td>0.486580</td>\n",
       "      <td>0.445699</td>\n",
       "      <td>0.805854</td>\n",
       "      <td>0.813478</td>\n",
       "      <td>0.751840</td>\n",
       "      <td>0.862570</td>\n",
       "      <td>0.797143</td>\n",
       "      <td>0.921724</td>\n",
       "      <td>0.421039</td>\n",
       "      <td>0.933110</td>\n",
       "      <td>0.816658</td>\n",
       "      <td>0.797327</td>\n",
       "      <td>0.729889</td>\n",
       "      <td>0.914062</td>\n",
       "      <td>0.859784</td>\n",
       "    </tr>\n",
       "    <tr>\n",
       "      <th>Pipeline_4</th>\n",
       "      <td>HPO, FE, HPO</td>\n",
       "      <td>XGBClassifier</td>\n",
       "      <td>0.861740</td>\n",
       "      <td>0.488660</td>\n",
       "      <td>0.454268</td>\n",
       "      <td>0.802384</td>\n",
       "      <td>0.812676</td>\n",
       "      <td>0.747935</td>\n",
       "      <td>0.860119</td>\n",
       "      <td>0.793003</td>\n",
       "      <td>0.922392</td>\n",
       "      <td>0.420921</td>\n",
       "      <td>0.909699</td>\n",
       "      <td>0.814289</td>\n",
       "      <td>0.781737</td>\n",
       "      <td>0.718183</td>\n",
       "      <td>0.911458</td>\n",
       "      <td>0.847352</td>\n",
       "    </tr>\n",
       "    <tr>\n",
       "      <th>Pipeline_5</th>\n",
       "      <td>HPO, FE, HPO, Ensemble</td>\n",
       "      <td>BatchedTreeEnsembleClassifier(XGBClassifier)</td>\n",
       "      <td>0.861740</td>\n",
       "      <td>0.488660</td>\n",
       "      <td>0.454268</td>\n",
       "      <td>0.802384</td>\n",
       "      <td>0.812676</td>\n",
       "      <td>0.747935</td>\n",
       "      <td>0.860119</td>\n",
       "      <td>0.793003</td>\n",
       "      <td>0.922392</td>\n",
       "      <td>0.420921</td>\n",
       "      <td>0.909699</td>\n",
       "      <td>0.814289</td>\n",
       "      <td>0.781737</td>\n",
       "      <td>0.718183</td>\n",
       "      <td>0.911458</td>\n",
       "      <td>0.847352</td>\n",
       "    </tr>\n",
       "    <tr>\n",
       "      <th>Pipeline_1</th>\n",
       "      <td></td>\n",
       "      <td>XGBClassifier</td>\n",
       "      <td>0.851228</td>\n",
       "      <td>0.466459</td>\n",
       "      <td>0.358376</td>\n",
       "      <td>0.798416</td>\n",
       "      <td>0.810301</td>\n",
       "      <td>0.748859</td>\n",
       "      <td>0.855829</td>\n",
       "      <td>0.839763</td>\n",
       "      <td>0.916677</td>\n",
       "      <td>0.435632</td>\n",
       "      <td>0.946488</td>\n",
       "      <td>0.817915</td>\n",
       "      <td>0.844098</td>\n",
       "      <td>0.793244</td>\n",
       "      <td>0.897693</td>\n",
       "      <td>0.889937</td>\n",
       "    </tr>\n",
       "  </tbody>\n",
       "</table>\n",
       "</div>"
      ],
      "text/plain": [
       "                         Enhancements  \\\n",
       "Pipeline Name                           \n",
       "Pipeline_2                        HPO   \n",
       "Pipeline_3                    HPO, FE   \n",
       "Pipeline_4               HPO, FE, HPO   \n",
       "Pipeline_5     HPO, FE, HPO, Ensemble   \n",
       "Pipeline_1                              \n",
       "\n",
       "                                                  Estimator  \\\n",
       "Pipeline Name                                                 \n",
       "Pipeline_2                                    XGBClassifier   \n",
       "Pipeline_3                                    XGBClassifier   \n",
       "Pipeline_4                                    XGBClassifier   \n",
       "Pipeline_5     BatchedTreeEnsembleClassifier(XGBClassifier)   \n",
       "Pipeline_1                                    XGBClassifier   \n",
       "\n",
       "               training_roc_auc_(optimized)  holdout_average_precision  \\\n",
       "Pipeline Name                                                            \n",
       "Pipeline_2                         0.857982                   0.479641   \n",
       "Pipeline_3                         0.860278                   0.486580   \n",
       "Pipeline_4                         0.861740                   0.488660   \n",
       "Pipeline_5                         0.861740                   0.488660   \n",
       "Pipeline_1                         0.851228                   0.466459   \n",
       "\n",
       "               holdout_log_loss  training_accuracy  holdout_roc_auc  \\\n",
       "Pipeline Name                                                         \n",
       "Pipeline_2             0.422134           0.809573         0.815429   \n",
       "Pipeline_3             0.445699           0.805854         0.813478   \n",
       "Pipeline_4             0.454268           0.802384         0.812676   \n",
       "Pipeline_5             0.454268           0.802384         0.812676   \n",
       "Pipeline_1             0.358376           0.798416         0.810301   \n",
       "\n",
       "               training_balanced_accuracy  training_f1  holdout_precision  \\\n",
       "Pipeline Name                                                               \n",
       "Pipeline_2                       0.756301     0.865137           0.809249   \n",
       "Pipeline_3                       0.751840     0.862570           0.797143   \n",
       "Pipeline_4                       0.747935     0.860119           0.793003   \n",
       "Pipeline_5                       0.747935     0.860119           0.793003   \n",
       "Pipeline_1                       0.748859     0.855829           0.839763   \n",
       "\n",
       "               training_average_precision  training_log_loss  holdout_recall  \\\n",
       "Pipeline Name                                                                  \n",
       "Pipeline_2                       0.920145           0.422384        0.936455   \n",
       "Pipeline_3                       0.921724           0.421039        0.933110   \n",
       "Pipeline_4                       0.922392           0.420921        0.909699   \n",
       "Pipeline_5                       0.922392           0.420921        0.909699   \n",
       "Pipeline_1                       0.916677           0.435632        0.946488   \n",
       "\n",
       "               training_precision  holdout_accuracy  \\\n",
       "Pipeline Name                                         \n",
       "Pipeline_2               0.819500          0.810690   \n",
       "Pipeline_3               0.816658          0.797327   \n",
       "Pipeline_4               0.814289          0.781737   \n",
       "Pipeline_5               0.814289          0.781737   \n",
       "Pipeline_1               0.817915          0.844098   \n",
       "\n",
       "               holdout_balanced_accuracy  training_recall  holdout_f1  \n",
       "Pipeline Name                                                          \n",
       "Pipeline_2                      0.748227         0.916295    0.868217  \n",
       "Pipeline_3                      0.729889         0.914062    0.859784  \n",
       "Pipeline_4                      0.718183         0.911458    0.847352  \n",
       "Pipeline_5                      0.718183         0.911458    0.847352  \n",
       "Pipeline_1                      0.793244         0.897693    0.889937  "
      ]
     },
     "execution_count": 14,
     "metadata": {},
     "output_type": "execute_result"
    }
   ],
   "source": [
    "summary = pipeline_optimizer.summary()\n",
    "summary"
   ]
  },
  {
   "cell_type": "markdown",
   "metadata": {
    "id": "e85d56ea-dbaa-49d7-8237-6daee5f1600e"
   },
   "source": [
    "### Get selected pipeline model\n",
    "\n",
    "Download pipeline model object from the AutoAI training job."
   ]
  },
  {
   "cell_type": "code",
   "execution_count": 15,
   "metadata": {
    "id": "2905a591-514b-494c-b5cc-ceab6813e26f"
   },
   "outputs": [],
   "source": [
    "best_pipeline = pipeline_optimizer.get_pipeline()"
   ]
  },
  {
   "cell_type": "markdown",
   "metadata": {
    "id": "143e150e-3b3a-4749-a306-465561ec7058"
   },
   "source": [
    "<a id=\"bias\"></a>\n",
    "## 4. Bias detection and mitigation\n",
    "\n",
    "The `fairness_info` dictionary contains some fairness-related metadata. The favorable and unfavorable label are values of the target class column that indicate whether the loan was granted or denied. A protected attribute is a feature that partitions the population into groups whose outcome should have parity. The credit-risk dataset has two protected attribute columns, sex and age. Each prottected attributes has privileged and unprivileged group.\n",
    "\n",
    "Note that to use fairness metrics from lale with numpy arrays `protected_attributes.feature` need to be passed as index of the column in dataset, not as name."
   ]
  },
  {
   "cell_type": "code",
   "execution_count": 16,
   "metadata": {
    "id": "c2578cc9-bd42-4c9f-a0d9-5f96e66e9290"
   },
   "outputs": [
    {
     "data": {
      "text/plain": [
       "{'favorable_labels': ['No Risk'],\n",
       " 'protected_attributes': [{'feature': 8, 'reference_group': ['male']},\n",
       "  {'feature': 12, 'reference_group': [[26, 40]]}]}"
      ]
     },
     "execution_count": 16,
     "metadata": {},
     "output_type": "execute_result"
    }
   ],
   "source": [
    "fairness_info = {\n",
    "    \"favorable_labels\": [\"No Risk\"],\n",
    "    \"protected_attributes\": [\n",
    "        {\"feature\": X.columns.get_loc(\"Sex\"), \"reference_group\": [\"male\"]},\n",
    "        {\"feature\": X.columns.get_loc(\"Age\"), \"reference_group\": [[26, 40]]},\n",
    "    ],\n",
    "}\n",
    "fairness_info"
   ]
  },
  {
   "cell_type": "markdown",
   "metadata": {
    "id": "15a33946-08b1-4e57-b59b-9a0099988424"
   },
   "source": [
    "### Calculate fairness metrics"
   ]
  },
  {
   "cell_type": "markdown",
   "metadata": {
    "id": "aa7dbcf8-d0c0-4a65-b5bf-c1f0a652e094"
   },
   "source": [
    "We will calculate some model metrics. Accuracy describes how accurate is the model according to dataset. \n",
    "Disparate impact is defined by comparing outcomes between a privileged group and an unprivileged group, \n",
    "so it needs to check the protected attribute to determine group membership for the sample record at hand.\n",
    "The third calculated metric takes the disparate impact into account along with accuracy. The best value of the score is 1.0."
   ]
  },
  {
   "cell_type": "code",
   "execution_count": 17,
   "metadata": {
    "id": "2832d97a-6936-448a-94a2-db5fe9a11450"
   },
   "outputs": [
    {
     "name": "stdout",
     "output_type": "stream",
     "text": [
      "accuracy 79.2%\n",
      "disparate impact 0.77\n",
      "accuracy and disparate impact metric 0.78\n"
     ]
    }
   ],
   "source": [
    "import sklearn.metrics\n",
    "from lale.lib.aif360 import disparate_impact, accuracy_and_disparate_impact\n",
    "\n",
    "accuracy_scorer = sklearn.metrics.make_scorer(sklearn.metrics.accuracy_score)\n",
    "print(f\"accuracy {accuracy_scorer(best_pipeline, X_test.values, y_test.values):.1%}\")\n",
    "disparate_impact_scorer = disparate_impact(**fairness_info)\n",
    "print(\n",
    "    f\"disparate impact {disparate_impact_scorer(best_pipeline, X_test.values, y_test.values):.2f}\"\n",
    ")\n",
    "combined_scorer = accuracy_and_disparate_impact(**fairness_info)\n",
    "print(\n",
    "    f\"accuracy and disparate impact metric {combined_scorer(best_pipeline, X_test.values, y_test.values):.2f}\"\n",
    ")"
   ]
  },
  {
   "cell_type": "markdown",
   "metadata": {
    "id": "a45a6f57-a9e9-4bba-b151-1657885a2192"
   },
   "source": [
    "### Mitigation\n",
    "\n",
    "`Hyperopt` minimizes (`best_score` - `score_returned_by_the_scorer`), where `best_score` is an argument to `Hyperopt` and `score_returned_by_the_scorer` is the value returned by the scorer for each evaluation point. We will use the `Hyperopt` to tune hyperparametres of the AutoAI pipeline to get new and more fair model. \n"
   ]
  },
  {
   "cell_type": "code",
   "execution_count": 18,
   "metadata": {
    "id": "09129410-1a98-4d24-a7f5-c43ecb6a5a91"
   },
   "outputs": [],
   "source": [
    "from sklearn.linear_model import LogisticRegression as LR\n",
    "from sklearn.tree import DecisionTreeClassifier as Tree\n",
    "from sklearn.neighbors import KNeighborsClassifier as KNN\n",
    "from lale.lib.lale import Hyperopt\n",
    "from lale.lib.aif360 import FairStratifiedKFold\n",
    "from lale import wrap_imported_operators\n",
    "\n",
    "wrap_imported_operators()"
   ]
  },
  {
   "cell_type": "code",
   "execution_count": 19,
   "metadata": {
    "id": "a0ec1930-c3a2-4f0a-8fd5-cc71c3f1361e"
   },
   "outputs": [
    {
     "data": {
      "text/html": [
       "<style>#sk-container-id-1 {\n",
       "  /* Definition of color scheme common for light and dark mode */\n",
       "  --sklearn-color-text: #000;\n",
       "  --sklearn-color-text-muted: #666;\n",
       "  --sklearn-color-line: gray;\n",
       "  /* Definition of color scheme for unfitted estimators */\n",
       "  --sklearn-color-unfitted-level-0: #fff5e6;\n",
       "  --sklearn-color-unfitted-level-1: #f6e4d2;\n",
       "  --sklearn-color-unfitted-level-2: #ffe0b3;\n",
       "  --sklearn-color-unfitted-level-3: chocolate;\n",
       "  /* Definition of color scheme for fitted estimators */\n",
       "  --sklearn-color-fitted-level-0: #f0f8ff;\n",
       "  --sklearn-color-fitted-level-1: #d4ebff;\n",
       "  --sklearn-color-fitted-level-2: #b3dbfd;\n",
       "  --sklearn-color-fitted-level-3: cornflowerblue;\n",
       "\n",
       "  /* Specific color for light theme */\n",
       "  --sklearn-color-text-on-default-background: var(--sg-text-color, var(--theme-code-foreground, var(--jp-content-font-color1, black)));\n",
       "  --sklearn-color-background: var(--sg-background-color, var(--theme-background, var(--jp-layout-color0, white)));\n",
       "  --sklearn-color-border-box: var(--sg-text-color, var(--theme-code-foreground, var(--jp-content-font-color1, black)));\n",
       "  --sklearn-color-icon: #696969;\n",
       "\n",
       "  @media (prefers-color-scheme: dark) {\n",
       "    /* Redefinition of color scheme for dark theme */\n",
       "    --sklearn-color-text-on-default-background: var(--sg-text-color, var(--theme-code-foreground, var(--jp-content-font-color1, white)));\n",
       "    --sklearn-color-background: var(--sg-background-color, var(--theme-background, var(--jp-layout-color0, #111)));\n",
       "    --sklearn-color-border-box: var(--sg-text-color, var(--theme-code-foreground, var(--jp-content-font-color1, white)));\n",
       "    --sklearn-color-icon: #878787;\n",
       "  }\n",
       "}\n",
       "\n",
       "#sk-container-id-1 {\n",
       "  color: var(--sklearn-color-text);\n",
       "}\n",
       "\n",
       "#sk-container-id-1 pre {\n",
       "  padding: 0;\n",
       "}\n",
       "\n",
       "#sk-container-id-1 input.sk-hidden--visually {\n",
       "  border: 0;\n",
       "  clip: rect(1px 1px 1px 1px);\n",
       "  clip: rect(1px, 1px, 1px, 1px);\n",
       "  height: 1px;\n",
       "  margin: -1px;\n",
       "  overflow: hidden;\n",
       "  padding: 0;\n",
       "  position: absolute;\n",
       "  width: 1px;\n",
       "}\n",
       "\n",
       "#sk-container-id-1 div.sk-dashed-wrapped {\n",
       "  border: 1px dashed var(--sklearn-color-line);\n",
       "  margin: 0 0.4em 0.5em 0.4em;\n",
       "  box-sizing: border-box;\n",
       "  padding-bottom: 0.4em;\n",
       "  background-color: var(--sklearn-color-background);\n",
       "}\n",
       "\n",
       "#sk-container-id-1 div.sk-container {\n",
       "  /* jupyter's `normalize.less` sets `[hidden] { display: none; }`\n",
       "     but bootstrap.min.css set `[hidden] { display: none !important; }`\n",
       "     so we also need the `!important` here to be able to override the\n",
       "     default hidden behavior on the sphinx rendered scikit-learn.org.\n",
       "     See: https://github.com/scikit-learn/scikit-learn/issues/21755 */\n",
       "  display: inline-block !important;\n",
       "  position: relative;\n",
       "}\n",
       "\n",
       "#sk-container-id-1 div.sk-text-repr-fallback {\n",
       "  display: none;\n",
       "}\n",
       "\n",
       "div.sk-parallel-item,\n",
       "div.sk-serial,\n",
       "div.sk-item {\n",
       "  /* draw centered vertical line to link estimators */\n",
       "  background-image: linear-gradient(var(--sklearn-color-text-on-default-background), var(--sklearn-color-text-on-default-background));\n",
       "  background-size: 2px 100%;\n",
       "  background-repeat: no-repeat;\n",
       "  background-position: center center;\n",
       "}\n",
       "\n",
       "/* Parallel-specific style estimator block */\n",
       "\n",
       "#sk-container-id-1 div.sk-parallel-item::after {\n",
       "  content: \"\";\n",
       "  width: 100%;\n",
       "  border-bottom: 2px solid var(--sklearn-color-text-on-default-background);\n",
       "  flex-grow: 1;\n",
       "}\n",
       "\n",
       "#sk-container-id-1 div.sk-parallel {\n",
       "  display: flex;\n",
       "  align-items: stretch;\n",
       "  justify-content: center;\n",
       "  background-color: var(--sklearn-color-background);\n",
       "  position: relative;\n",
       "}\n",
       "\n",
       "#sk-container-id-1 div.sk-parallel-item {\n",
       "  display: flex;\n",
       "  flex-direction: column;\n",
       "}\n",
       "\n",
       "#sk-container-id-1 div.sk-parallel-item:first-child::after {\n",
       "  align-self: flex-end;\n",
       "  width: 50%;\n",
       "}\n",
       "\n",
       "#sk-container-id-1 div.sk-parallel-item:last-child::after {\n",
       "  align-self: flex-start;\n",
       "  width: 50%;\n",
       "}\n",
       "\n",
       "#sk-container-id-1 div.sk-parallel-item:only-child::after {\n",
       "  width: 0;\n",
       "}\n",
       "\n",
       "/* Serial-specific style estimator block */\n",
       "\n",
       "#sk-container-id-1 div.sk-serial {\n",
       "  display: flex;\n",
       "  flex-direction: column;\n",
       "  align-items: center;\n",
       "  background-color: var(--sklearn-color-background);\n",
       "  padding-right: 1em;\n",
       "  padding-left: 1em;\n",
       "}\n",
       "\n",
       "\n",
       "/* Toggleable style: style used for estimator/Pipeline/ColumnTransformer box that is\n",
       "clickable and can be expanded/collapsed.\n",
       "- Pipeline and ColumnTransformer use this feature and define the default style\n",
       "- Estimators will overwrite some part of the style using the `sk-estimator` class\n",
       "*/\n",
       "\n",
       "/* Pipeline and ColumnTransformer style (default) */\n",
       "\n",
       "#sk-container-id-1 div.sk-toggleable {\n",
       "  /* Default theme specific background. It is overwritten whether we have a\n",
       "  specific estimator or a Pipeline/ColumnTransformer */\n",
       "  background-color: var(--sklearn-color-background);\n",
       "}\n",
       "\n",
       "/* Toggleable label */\n",
       "#sk-container-id-1 label.sk-toggleable__label {\n",
       "  cursor: pointer;\n",
       "  display: flex;\n",
       "  width: 100%;\n",
       "  margin-bottom: 0;\n",
       "  padding: 0.5em;\n",
       "  box-sizing: border-box;\n",
       "  text-align: center;\n",
       "  align-items: start;\n",
       "  justify-content: space-between;\n",
       "  gap: 0.5em;\n",
       "}\n",
       "\n",
       "#sk-container-id-1 label.sk-toggleable__label .caption {\n",
       "  font-size: 0.6rem;\n",
       "  font-weight: lighter;\n",
       "  color: var(--sklearn-color-text-muted);\n",
       "}\n",
       "\n",
       "#sk-container-id-1 label.sk-toggleable__label-arrow:before {\n",
       "  /* Arrow on the left of the label */\n",
       "  content: \"▸\";\n",
       "  float: left;\n",
       "  margin-right: 0.25em;\n",
       "  color: var(--sklearn-color-icon);\n",
       "}\n",
       "\n",
       "#sk-container-id-1 label.sk-toggleable__label-arrow:hover:before {\n",
       "  color: var(--sklearn-color-text);\n",
       "}\n",
       "\n",
       "/* Toggleable content - dropdown */\n",
       "\n",
       "#sk-container-id-1 div.sk-toggleable__content {\n",
       "  max-height: 0;\n",
       "  max-width: 0;\n",
       "  overflow: hidden;\n",
       "  text-align: left;\n",
       "  /* unfitted */\n",
       "  background-color: var(--sklearn-color-unfitted-level-0);\n",
       "}\n",
       "\n",
       "#sk-container-id-1 div.sk-toggleable__content.fitted {\n",
       "  /* fitted */\n",
       "  background-color: var(--sklearn-color-fitted-level-0);\n",
       "}\n",
       "\n",
       "#sk-container-id-1 div.sk-toggleable__content pre {\n",
       "  margin: 0.2em;\n",
       "  border-radius: 0.25em;\n",
       "  color: var(--sklearn-color-text);\n",
       "  /* unfitted */\n",
       "  background-color: var(--sklearn-color-unfitted-level-0);\n",
       "}\n",
       "\n",
       "#sk-container-id-1 div.sk-toggleable__content.fitted pre {\n",
       "  /* unfitted */\n",
       "  background-color: var(--sklearn-color-fitted-level-0);\n",
       "}\n",
       "\n",
       "#sk-container-id-1 input.sk-toggleable__control:checked~div.sk-toggleable__content {\n",
       "  /* Expand drop-down */\n",
       "  max-height: 200px;\n",
       "  max-width: 100%;\n",
       "  overflow: auto;\n",
       "}\n",
       "\n",
       "#sk-container-id-1 input.sk-toggleable__control:checked~label.sk-toggleable__label-arrow:before {\n",
       "  content: \"▾\";\n",
       "}\n",
       "\n",
       "/* Pipeline/ColumnTransformer-specific style */\n",
       "\n",
       "#sk-container-id-1 div.sk-label input.sk-toggleable__control:checked~label.sk-toggleable__label {\n",
       "  color: var(--sklearn-color-text);\n",
       "  background-color: var(--sklearn-color-unfitted-level-2);\n",
       "}\n",
       "\n",
       "#sk-container-id-1 div.sk-label.fitted input.sk-toggleable__control:checked~label.sk-toggleable__label {\n",
       "  background-color: var(--sklearn-color-fitted-level-2);\n",
       "}\n",
       "\n",
       "/* Estimator-specific style */\n",
       "\n",
       "/* Colorize estimator box */\n",
       "#sk-container-id-1 div.sk-estimator input.sk-toggleable__control:checked~label.sk-toggleable__label {\n",
       "  /* unfitted */\n",
       "  background-color: var(--sklearn-color-unfitted-level-2);\n",
       "}\n",
       "\n",
       "#sk-container-id-1 div.sk-estimator.fitted input.sk-toggleable__control:checked~label.sk-toggleable__label {\n",
       "  /* fitted */\n",
       "  background-color: var(--sklearn-color-fitted-level-2);\n",
       "}\n",
       "\n",
       "#sk-container-id-1 div.sk-label label.sk-toggleable__label,\n",
       "#sk-container-id-1 div.sk-label label {\n",
       "  /* The background is the default theme color */\n",
       "  color: var(--sklearn-color-text-on-default-background);\n",
       "}\n",
       "\n",
       "/* On hover, darken the color of the background */\n",
       "#sk-container-id-1 div.sk-label:hover label.sk-toggleable__label {\n",
       "  color: var(--sklearn-color-text);\n",
       "  background-color: var(--sklearn-color-unfitted-level-2);\n",
       "}\n",
       "\n",
       "/* Label box, darken color on hover, fitted */\n",
       "#sk-container-id-1 div.sk-label.fitted:hover label.sk-toggleable__label.fitted {\n",
       "  color: var(--sklearn-color-text);\n",
       "  background-color: var(--sklearn-color-fitted-level-2);\n",
       "}\n",
       "\n",
       "/* Estimator label */\n",
       "\n",
       "#sk-container-id-1 div.sk-label label {\n",
       "  font-family: monospace;\n",
       "  font-weight: bold;\n",
       "  display: inline-block;\n",
       "  line-height: 1.2em;\n",
       "}\n",
       "\n",
       "#sk-container-id-1 div.sk-label-container {\n",
       "  text-align: center;\n",
       "}\n",
       "\n",
       "/* Estimator-specific */\n",
       "#sk-container-id-1 div.sk-estimator {\n",
       "  font-family: monospace;\n",
       "  border: 1px dotted var(--sklearn-color-border-box);\n",
       "  border-radius: 0.25em;\n",
       "  box-sizing: border-box;\n",
       "  margin-bottom: 0.5em;\n",
       "  /* unfitted */\n",
       "  background-color: var(--sklearn-color-unfitted-level-0);\n",
       "}\n",
       "\n",
       "#sk-container-id-1 div.sk-estimator.fitted {\n",
       "  /* fitted */\n",
       "  background-color: var(--sklearn-color-fitted-level-0);\n",
       "}\n",
       "\n",
       "/* on hover */\n",
       "#sk-container-id-1 div.sk-estimator:hover {\n",
       "  /* unfitted */\n",
       "  background-color: var(--sklearn-color-unfitted-level-2);\n",
       "}\n",
       "\n",
       "#sk-container-id-1 div.sk-estimator.fitted:hover {\n",
       "  /* fitted */\n",
       "  background-color: var(--sklearn-color-fitted-level-2);\n",
       "}\n",
       "\n",
       "/* Specification for estimator info (e.g. \"i\" and \"?\") */\n",
       "\n",
       "/* Common style for \"i\" and \"?\" */\n",
       "\n",
       ".sk-estimator-doc-link,\n",
       "a:link.sk-estimator-doc-link,\n",
       "a:visited.sk-estimator-doc-link {\n",
       "  float: right;\n",
       "  font-size: smaller;\n",
       "  line-height: 1em;\n",
       "  font-family: monospace;\n",
       "  background-color: var(--sklearn-color-background);\n",
       "  border-radius: 1em;\n",
       "  height: 1em;\n",
       "  width: 1em;\n",
       "  text-decoration: none !important;\n",
       "  margin-left: 0.5em;\n",
       "  text-align: center;\n",
       "  /* unfitted */\n",
       "  border: var(--sklearn-color-unfitted-level-1) 1pt solid;\n",
       "  color: var(--sklearn-color-unfitted-level-1);\n",
       "}\n",
       "\n",
       ".sk-estimator-doc-link.fitted,\n",
       "a:link.sk-estimator-doc-link.fitted,\n",
       "a:visited.sk-estimator-doc-link.fitted {\n",
       "  /* fitted */\n",
       "  border: var(--sklearn-color-fitted-level-1) 1pt solid;\n",
       "  color: var(--sklearn-color-fitted-level-1);\n",
       "}\n",
       "\n",
       "/* On hover */\n",
       "div.sk-estimator:hover .sk-estimator-doc-link:hover,\n",
       ".sk-estimator-doc-link:hover,\n",
       "div.sk-label-container:hover .sk-estimator-doc-link:hover,\n",
       ".sk-estimator-doc-link:hover {\n",
       "  /* unfitted */\n",
       "  background-color: var(--sklearn-color-unfitted-level-3);\n",
       "  color: var(--sklearn-color-background);\n",
       "  text-decoration: none;\n",
       "}\n",
       "\n",
       "div.sk-estimator.fitted:hover .sk-estimator-doc-link.fitted:hover,\n",
       ".sk-estimator-doc-link.fitted:hover,\n",
       "div.sk-label-container:hover .sk-estimator-doc-link.fitted:hover,\n",
       ".sk-estimator-doc-link.fitted:hover {\n",
       "  /* fitted */\n",
       "  background-color: var(--sklearn-color-fitted-level-3);\n",
       "  color: var(--sklearn-color-background);\n",
       "  text-decoration: none;\n",
       "}\n",
       "\n",
       "/* Span, style for the box shown on hovering the info icon */\n",
       ".sk-estimator-doc-link span {\n",
       "  display: none;\n",
       "  z-index: 9999;\n",
       "  position: relative;\n",
       "  font-weight: normal;\n",
       "  right: .2ex;\n",
       "  padding: .5ex;\n",
       "  margin: .5ex;\n",
       "  width: min-content;\n",
       "  min-width: 20ex;\n",
       "  max-width: 50ex;\n",
       "  color: var(--sklearn-color-text);\n",
       "  box-shadow: 2pt 2pt 4pt #999;\n",
       "  /* unfitted */\n",
       "  background: var(--sklearn-color-unfitted-level-0);\n",
       "  border: .5pt solid var(--sklearn-color-unfitted-level-3);\n",
       "}\n",
       "\n",
       ".sk-estimator-doc-link.fitted span {\n",
       "  /* fitted */\n",
       "  background: var(--sklearn-color-fitted-level-0);\n",
       "  border: var(--sklearn-color-fitted-level-3);\n",
       "}\n",
       "\n",
       ".sk-estimator-doc-link:hover span {\n",
       "  display: block;\n",
       "}\n",
       "\n",
       "/* \"?\"-specific style due to the `<a>` HTML tag */\n",
       "\n",
       "#sk-container-id-1 a.estimator_doc_link {\n",
       "  float: right;\n",
       "  font-size: 1rem;\n",
       "  line-height: 1em;\n",
       "  font-family: monospace;\n",
       "  background-color: var(--sklearn-color-background);\n",
       "  border-radius: 1rem;\n",
       "  height: 1rem;\n",
       "  width: 1rem;\n",
       "  text-decoration: none;\n",
       "  /* unfitted */\n",
       "  color: var(--sklearn-color-unfitted-level-1);\n",
       "  border: var(--sklearn-color-unfitted-level-1) 1pt solid;\n",
       "}\n",
       "\n",
       "#sk-container-id-1 a.estimator_doc_link.fitted {\n",
       "  /* fitted */\n",
       "  border: var(--sklearn-color-fitted-level-1) 1pt solid;\n",
       "  color: var(--sklearn-color-fitted-level-1);\n",
       "}\n",
       "\n",
       "/* On hover */\n",
       "#sk-container-id-1 a.estimator_doc_link:hover {\n",
       "  /* unfitted */\n",
       "  background-color: var(--sklearn-color-unfitted-level-3);\n",
       "  color: var(--sklearn-color-background);\n",
       "  text-decoration: none;\n",
       "}\n",
       "\n",
       "#sk-container-id-1 a.estimator_doc_link.fitted:hover {\n",
       "  /* fitted */\n",
       "  background-color: var(--sklearn-color-fitted-level-3);\n",
       "}\n",
       "</style><div id=\"sk-container-id-1\" class=\"sk-top-container\"><div class=\"sk-text-repr-fallback\"><pre>Pipeline(steps=[(&#x27;featureunion&#x27;,\n",
       "                 FeatureUnion(transformer_list=[(&#x27;float32_transform_140136462740672&#x27;,\n",
       "                                                 Pipeline(steps=[(&#x27;numpycolumnselector&#x27;,\n",
       "                                                                  NumpyColumnSelector(columns=[0,\n",
       "                                                                                               1,\n",
       "                                                                                               2,\n",
       "                                                                                               3,\n",
       "                                                                                               5,\n",
       "                                                                                               6,\n",
       "                                                                                               7,\n",
       "                                                                                               8,\n",
       "                                                                                               9,\n",
       "                                                                                               10,\n",
       "                                                                                               11,\n",
       "                                                                                               12,\n",
       "                                                                                               13,\n",
       "                                                                                               14,\n",
       "                                                                                               15,\n",
       "                                                                                               16,\n",
       "                                                                                               17,\n",
       "                                                                                               18,\n",
       "                                                                                               19])),\n",
       "                                                                 (&#x27;compressstrings&#x27;,\n",
       "                                                                  CompressStrings(compress_type=&#x27;hash&#x27;,\n",
       "                                                                                  dtypes_list=[&#x27;char_str&#x27;,\n",
       "                                                                                               &#x27;float_int_num&#x27;,\n",
       "                                                                                               &#x27;char_str&#x27;,\n",
       "                                                                                               &#x27;char_str&#x27;,\n",
       "                                                                                               &#x27;char_str&#x27;,\n",
       "                                                                                               &#x27;c...\n",
       "                                                                 (&#x27;numpyreplacemissingvalues&#x27;,\n",
       "                                                                  NumpyReplaceMissingValues(missing_values=[])),\n",
       "                                                                 (&#x27;numimputer&#x27;,\n",
       "                                                                  NumImputer(missing_values=nan,\n",
       "                                                                             strategy=&#x27;median&#x27;)),\n",
       "                                                                 (&#x27;optstandardscaler&#x27;,\n",
       "                                                                  OptStandardScaler(use_scaler_flag=False)),\n",
       "                                                                 (&#x27;float32_transform&#x27;,\n",
       "                                                                  float32_transform())]))])),\n",
       "                (&#x27;numpypermutearray&#x27;,\n",
       "                 NumpyPermuteArray(axis=0,\n",
       "                                   permutation_indices=[0, 1, 2, 3, 5, 6, 7, 8,\n",
       "                                                        9, 10, 11, 12, 13, 14,\n",
       "                                                        15, 16, 17, 18, 19,\n",
       "                                                        4]))])</pre><b>In a Jupyter environment, please rerun this cell to show the HTML representation or trust the notebook. <br />On GitHub, the HTML representation is unable to render, please try loading this page with nbviewer.org.</b></div><div class=\"sk-container\" hidden><div class=\"sk-item sk-dashed-wrapped\"><div class=\"sk-label-container\"><div class=\"sk-label fitted sk-toggleable\"><input class=\"sk-toggleable__control sk-hidden--visually\" id=\"sk-estimator-id-1\" type=\"checkbox\" ><label for=\"sk-estimator-id-1\" class=\"sk-toggleable__label fitted sk-toggleable__label-arrow\"><div><div>Pipeline</div></div><div><a class=\"sk-estimator-doc-link fitted\" rel=\"noreferrer\" target=\"_blank\" href=\"https://scikit-learn.org/1.6/modules/generated/sklearn.pipeline.Pipeline.html\">?<span>Documentation for Pipeline</span></a><span class=\"sk-estimator-doc-link fitted\">i<span>Fitted</span></span></div></label><div class=\"sk-toggleable__content fitted\"><pre>Pipeline(steps=[(&#x27;featureunion&#x27;,\n",
       "                 FeatureUnion(transformer_list=[(&#x27;float32_transform_140136462740672&#x27;,\n",
       "                                                 Pipeline(steps=[(&#x27;numpycolumnselector&#x27;,\n",
       "                                                                  NumpyColumnSelector(columns=[0,\n",
       "                                                                                               1,\n",
       "                                                                                               2,\n",
       "                                                                                               3,\n",
       "                                                                                               5,\n",
       "                                                                                               6,\n",
       "                                                                                               7,\n",
       "                                                                                               8,\n",
       "                                                                                               9,\n",
       "                                                                                               10,\n",
       "                                                                                               11,\n",
       "                                                                                               12,\n",
       "                                                                                               13,\n",
       "                                                                                               14,\n",
       "                                                                                               15,\n",
       "                                                                                               16,\n",
       "                                                                                               17,\n",
       "                                                                                               18,\n",
       "                                                                                               19])),\n",
       "                                                                 (&#x27;compressstrings&#x27;,\n",
       "                                                                  CompressStrings(compress_type=&#x27;hash&#x27;,\n",
       "                                                                                  dtypes_list=[&#x27;char_str&#x27;,\n",
       "                                                                                               &#x27;float_int_num&#x27;,\n",
       "                                                                                               &#x27;char_str&#x27;,\n",
       "                                                                                               &#x27;char_str&#x27;,\n",
       "                                                                                               &#x27;char_str&#x27;,\n",
       "                                                                                               &#x27;c...\n",
       "                                                                 (&#x27;numpyreplacemissingvalues&#x27;,\n",
       "                                                                  NumpyReplaceMissingValues(missing_values=[])),\n",
       "                                                                 (&#x27;numimputer&#x27;,\n",
       "                                                                  NumImputer(missing_values=nan,\n",
       "                                                                             strategy=&#x27;median&#x27;)),\n",
       "                                                                 (&#x27;optstandardscaler&#x27;,\n",
       "                                                                  OptStandardScaler(use_scaler_flag=False)),\n",
       "                                                                 (&#x27;float32_transform&#x27;,\n",
       "                                                                  float32_transform())]))])),\n",
       "                (&#x27;numpypermutearray&#x27;,\n",
       "                 NumpyPermuteArray(axis=0,\n",
       "                                   permutation_indices=[0, 1, 2, 3, 5, 6, 7, 8,\n",
       "                                                        9, 10, 11, 12, 13, 14,\n",
       "                                                        15, 16, 17, 18, 19,\n",
       "                                                        4]))])</pre></div> </div></div><div class=\"sk-serial\"><div class=\"sk-item sk-dashed-wrapped\"><div class=\"sk-label-container\"><div class=\"sk-label fitted sk-toggleable\"><input class=\"sk-toggleable__control sk-hidden--visually\" id=\"sk-estimator-id-2\" type=\"checkbox\" ><label for=\"sk-estimator-id-2\" class=\"sk-toggleable__label fitted sk-toggleable__label-arrow\"><div><div>featureunion: FeatureUnion</div></div><div><a class=\"sk-estimator-doc-link fitted\" rel=\"noreferrer\" target=\"_blank\" href=\"https://scikit-learn.org/1.6/modules/generated/sklearn.pipeline.FeatureUnion.html\">?<span>Documentation for featureunion: FeatureUnion</span></a></div></label><div class=\"sk-toggleable__content fitted\"><pre>FeatureUnion(transformer_list=[(&#x27;float32_transform_140136462740672&#x27;,\n",
       "                                Pipeline(steps=[(&#x27;numpycolumnselector&#x27;,\n",
       "                                                 NumpyColumnSelector(columns=[0,\n",
       "                                                                              1,\n",
       "                                                                              2,\n",
       "                                                                              3,\n",
       "                                                                              5,\n",
       "                                                                              6,\n",
       "                                                                              7,\n",
       "                                                                              8,\n",
       "                                                                              9,\n",
       "                                                                              10,\n",
       "                                                                              11,\n",
       "                                                                              12,\n",
       "                                                                              13,\n",
       "                                                                              14,\n",
       "                                                                              15,\n",
       "                                                                              16,\n",
       "                                                                              17,\n",
       "                                                                              18,\n",
       "                                                                              19])),\n",
       "                                                (&#x27;compressstrings&#x27;,\n",
       "                                                 CompressStrings(compress_type=&#x27;hash&#x27;,\n",
       "                                                                 dtypes_list=[&#x27;char_str&#x27;,\n",
       "                                                                              &#x27;float_int_num&#x27;,\n",
       "                                                                              &#x27;char_str&#x27;,\n",
       "                                                                              &#x27;char_str&#x27;,\n",
       "                                                                              &#x27;char_str&#x27;,\n",
       "                                                                              &#x27;char_str&#x27;,\n",
       "                                                                              &#x27;float_int_num&#x27;,\n",
       "                                                                              &#x27;char_s...\n",
       "                                                 NumpyColumnSelector(columns=[4])),\n",
       "                                                (&#x27;floatstr2float&#x27;,\n",
       "                                                 FloatStr2Float(dtypes_list=[&#x27;float_int_num&#x27;],\n",
       "                                                                missing_values_reference_list=[])),\n",
       "                                                (&#x27;numpyreplacemissingvalues&#x27;,\n",
       "                                                 NumpyReplaceMissingValues(missing_values=[])),\n",
       "                                                (&#x27;numimputer&#x27;,\n",
       "                                                 NumImputer(missing_values=nan,\n",
       "                                                            strategy=&#x27;median&#x27;)),\n",
       "                                                (&#x27;optstandardscaler&#x27;,\n",
       "                                                 OptStandardScaler(use_scaler_flag=False)),\n",
       "                                                (&#x27;float32_transform&#x27;,\n",
       "                                                 float32_transform())]))])</pre></div> </div></div><div class=\"sk-parallel\"><div class=\"sk-parallel-item\"><div class=\"sk-item\"><div class=\"sk-label-container\"><div class=\"sk-label fitted sk-toggleable\"><label>float32_transform_140136462740672</label></div></div><div class=\"sk-serial\"><div class=\"sk-item\"><div class=\"sk-serial\"><div class=\"sk-item\"><div class=\"sk-estimator fitted sk-toggleable\"><input class=\"sk-toggleable__control sk-hidden--visually\" id=\"sk-estimator-id-3\" type=\"checkbox\" ><label for=\"sk-estimator-id-3\" class=\"sk-toggleable__label fitted sk-toggleable__label-arrow\"><div><div>NumpyColumnSelector</div></div></label><div class=\"sk-toggleable__content fitted\"><pre>NumpyColumnSelector(columns=[0, 1, 2, 3, 5, 6, 7, 8, 9, 10, 11, 12, 13, 14, 15,\n",
       "                             16, 17, 18, 19])</pre></div> </div></div><div class=\"sk-item\"><div class=\"sk-estimator fitted sk-toggleable\"><input class=\"sk-toggleable__control sk-hidden--visually\" id=\"sk-estimator-id-4\" type=\"checkbox\" ><label for=\"sk-estimator-id-4\" class=\"sk-toggleable__label fitted sk-toggleable__label-arrow\"><div><div>CompressStrings</div></div></label><div class=\"sk-toggleable__content fitted\"><pre>CompressStrings(compress_type=&#x27;hash&#x27;,\n",
       "                dtypes_list=[&#x27;char_str&#x27;, &#x27;float_int_num&#x27;, &#x27;char_str&#x27;,\n",
       "                             &#x27;char_str&#x27;, &#x27;char_str&#x27;, &#x27;char_str&#x27;,\n",
       "                             &#x27;float_int_num&#x27;, &#x27;char_str&#x27;, &#x27;char_str&#x27;,\n",
       "                             &#x27;float_int_num&#x27;, &#x27;char_str&#x27;, &#x27;float_int_num&#x27;,\n",
       "                             &#x27;char_str&#x27;, &#x27;char_str&#x27;, &#x27;float_int_num&#x27;,\n",
       "                             &#x27;char_str&#x27;, &#x27;float_int_num&#x27;, &#x27;char_str&#x27;,\n",
       "                             &#x27;char_str&#x27;],\n",
       "                missing_values_reference_list=[&#x27;&#x27;, &#x27;-&#x27;, &#x27;?&#x27;, nan],\n",
       "                misslist_list=[[], [], [], [], [], [], [], [], [], [], [], [],\n",
       "                               [], [], [], [], [], [], []])</pre></div> </div></div><div class=\"sk-item\"><div class=\"sk-estimator fitted sk-toggleable\"><input class=\"sk-toggleable__control sk-hidden--visually\" id=\"sk-estimator-id-5\" type=\"checkbox\" ><label for=\"sk-estimator-id-5\" class=\"sk-toggleable__label fitted sk-toggleable__label-arrow\"><div><div>NumpyReplaceMissingValues</div></div></label><div class=\"sk-toggleable__content fitted\"><pre>NumpyReplaceMissingValues(missing_values=[])</pre></div> </div></div><div class=\"sk-item\"><div class=\"sk-estimator fitted sk-toggleable\"><input class=\"sk-toggleable__control sk-hidden--visually\" id=\"sk-estimator-id-6\" type=\"checkbox\" ><label for=\"sk-estimator-id-6\" class=\"sk-toggleable__label fitted sk-toggleable__label-arrow\"><div><div>NumpyReplaceUnknownValues</div></div></label><div class=\"sk-toggleable__content fitted\"><pre>NumpyReplaceUnknownValues(filling_values=nan,\n",
       "                          filling_values_list=[nan, 100001, nan, nan, nan, nan,\n",
       "                                               100001, nan, nan, 100001, nan,\n",
       "                                               100001, nan, nan, 100001, nan,\n",
       "                                               100001, nan, nan],\n",
       "                          known_values_list=[[227259264688753646810077375790908286508,\n",
       "                                              253732214910815238134509288111402486722,\n",
       "                                              303819144345098626554456011496217223575,\n",
       "                                              280353606872939388614315901186094326949],\n",
       "                                             [4.0, 5.0...\n",
       "                                             [328286527295663582663365503319902632676,\n",
       "                                              119641707607939038914465000864290288880,\n",
       "                                              283364312271660996400883763491949419861,\n",
       "                                              27741019508977055807423991753468819528],\n",
       "                                             [1.0, 2.0],\n",
       "                                             [68186749286663113704472210246844540664,\n",
       "                                              220736790854050750400968561922076059550],\n",
       "                                             [169662019754859674907370307324476606919,\n",
       "                                              220736790854050750400968561922076059550]],\n",
       "                          missing_values_reference_list=[&#x27;&#x27;, &#x27;-&#x27;, &#x27;?&#x27;, nan])</pre></div> </div></div><div class=\"sk-item\"><div class=\"sk-estimator fitted sk-toggleable\"><input class=\"sk-toggleable__control sk-hidden--visually\" id=\"sk-estimator-id-7\" type=\"checkbox\" ><label for=\"sk-estimator-id-7\" class=\"sk-toggleable__label fitted sk-toggleable__label-arrow\"><div><div>boolean2float</div></div></label><div class=\"sk-toggleable__content fitted\"><pre>boolean2float()</pre></div> </div></div><div class=\"sk-item\"><div class=\"sk-estimator fitted sk-toggleable\"><input class=\"sk-toggleable__control sk-hidden--visually\" id=\"sk-estimator-id-8\" type=\"checkbox\" ><label for=\"sk-estimator-id-8\" class=\"sk-toggleable__label fitted sk-toggleable__label-arrow\"><div><div>CatImputer</div></div></label><div class=\"sk-toggleable__content fitted\"><pre>CatImputer(missing_values=nan, strategy=&#x27;most_frequent&#x27;)</pre></div> </div></div><div class=\"sk-item\"><div class=\"sk-estimator fitted sk-toggleable\"><input class=\"sk-toggleable__control sk-hidden--visually\" id=\"sk-estimator-id-9\" type=\"checkbox\" ><label for=\"sk-estimator-id-9\" class=\"sk-toggleable__label fitted sk-toggleable__label-arrow\"><div><div>CatEncoder</div></div></label><div class=\"sk-toggleable__content fitted\"><pre>CatEncoder(categories=&#x27;auto&#x27;, dtype=&lt;class &#x27;numpy.float64&#x27;&gt;, encoding=&#x27;ordinal&#x27;,\n",
       "           handle_unknown=&#x27;error&#x27;)</pre></div> </div></div><div class=\"sk-item\"><div class=\"sk-estimator fitted sk-toggleable\"><input class=\"sk-toggleable__control sk-hidden--visually\" id=\"sk-estimator-id-10\" type=\"checkbox\" ><label for=\"sk-estimator-id-10\" class=\"sk-toggleable__label fitted sk-toggleable__label-arrow\"><div><div>float32_transform</div></div></label><div class=\"sk-toggleable__content fitted\"><pre>float32_transform()</pre></div> </div></div></div></div></div></div></div><div class=\"sk-parallel-item\"><div class=\"sk-item\"><div class=\"sk-label-container\"><div class=\"sk-label fitted sk-toggleable\"><label>float32_transform_140136462743168</label></div></div><div class=\"sk-serial\"><div class=\"sk-item\"><div class=\"sk-serial\"><div class=\"sk-item\"><div class=\"sk-estimator fitted sk-toggleable\"><input class=\"sk-toggleable__control sk-hidden--visually\" id=\"sk-estimator-id-11\" type=\"checkbox\" ><label for=\"sk-estimator-id-11\" class=\"sk-toggleable__label fitted sk-toggleable__label-arrow\"><div><div>NumpyColumnSelector</div></div></label><div class=\"sk-toggleable__content fitted\"><pre>NumpyColumnSelector(columns=[4])</pre></div> </div></div><div class=\"sk-item\"><div class=\"sk-estimator fitted sk-toggleable\"><input class=\"sk-toggleable__control sk-hidden--visually\" id=\"sk-estimator-id-12\" type=\"checkbox\" ><label for=\"sk-estimator-id-12\" class=\"sk-toggleable__label fitted sk-toggleable__label-arrow\"><div><div>FloatStr2Float</div></div></label><div class=\"sk-toggleable__content fitted\"><pre>FloatStr2Float(dtypes_list=[&#x27;float_int_num&#x27;], missing_values_reference_list=[])</pre></div> </div></div><div class=\"sk-item\"><div class=\"sk-estimator fitted sk-toggleable\"><input class=\"sk-toggleable__control sk-hidden--visually\" id=\"sk-estimator-id-13\" type=\"checkbox\" ><label for=\"sk-estimator-id-13\" class=\"sk-toggleable__label fitted sk-toggleable__label-arrow\"><div><div>NumpyReplaceMissingValues</div></div></label><div class=\"sk-toggleable__content fitted\"><pre>NumpyReplaceMissingValues(missing_values=[])</pre></div> </div></div><div class=\"sk-item\"><div class=\"sk-estimator fitted sk-toggleable\"><input class=\"sk-toggleable__control sk-hidden--visually\" id=\"sk-estimator-id-14\" type=\"checkbox\" ><label for=\"sk-estimator-id-14\" class=\"sk-toggleable__label fitted sk-toggleable__label-arrow\"><div><div>NumImputer</div></div></label><div class=\"sk-toggleable__content fitted\"><pre>NumImputer(missing_values=nan, strategy=&#x27;median&#x27;)</pre></div> </div></div><div class=\"sk-item\"><div class=\"sk-estimator fitted sk-toggleable\"><input class=\"sk-toggleable__control sk-hidden--visually\" id=\"sk-estimator-id-15\" type=\"checkbox\" ><label for=\"sk-estimator-id-15\" class=\"sk-toggleable__label fitted sk-toggleable__label-arrow\"><div><div>OptStandardScaler</div></div></label><div class=\"sk-toggleable__content fitted\"><pre>OptStandardScaler(use_scaler_flag=False)</pre></div> </div></div><div class=\"sk-item\"><div class=\"sk-estimator fitted sk-toggleable\"><input class=\"sk-toggleable__control sk-hidden--visually\" id=\"sk-estimator-id-16\" type=\"checkbox\" ><label for=\"sk-estimator-id-16\" class=\"sk-toggleable__label fitted sk-toggleable__label-arrow\"><div><div>float32_transform</div></div></label><div class=\"sk-toggleable__content fitted\"><pre>float32_transform()</pre></div> </div></div></div></div></div></div></div></div></div><div class=\"sk-item\"><div class=\"sk-estimator fitted sk-toggleable\"><input class=\"sk-toggleable__control sk-hidden--visually\" id=\"sk-estimator-id-17\" type=\"checkbox\" ><label for=\"sk-estimator-id-17\" class=\"sk-toggleable__label fitted sk-toggleable__label-arrow\"><div><div>NumpyPermuteArray</div></div></label><div class=\"sk-toggleable__content fitted\"><pre>NumpyPermuteArray(axis=0,\n",
       "                  permutation_indices=[0, 1, 2, 3, 5, 6, 7, 8, 9, 10, 11, 12,\n",
       "                                       13, 14, 15, 16, 17, 18, 19, 4])</pre></div> </div></div></div></div></div></div>"
      ],
      "text/plain": [
       "Pipeline(steps=[('featureunion',\n",
       "                 FeatureUnion(transformer_list=[('float32_transform_140136462740672',\n",
       "                                                 Pipeline(steps=[('numpycolumnselector',\n",
       "                                                                  NumpyColumnSelector(columns=[0,\n",
       "                                                                                               1,\n",
       "                                                                                               2,\n",
       "                                                                                               3,\n",
       "                                                                                               5,\n",
       "                                                                                               6,\n",
       "                                                                                               7,\n",
       "                                                                                               8,\n",
       "                                                                                               9,\n",
       "                                                                                               10,\n",
       "                                                                                               11,\n",
       "                                                                                               12,\n",
       "                                                                                               13,\n",
       "                                                                                               14,\n",
       "                                                                                               15,\n",
       "                                                                                               16,\n",
       "                                                                                               17,\n",
       "                                                                                               18,\n",
       "                                                                                               19])),\n",
       "                                                                 ('compressstrings',\n",
       "                                                                  CompressStrings(compress_type='hash',\n",
       "                                                                                  dtypes_list=['char_str',\n",
       "                                                                                               'float_int_num',\n",
       "                                                                                               'char_str',\n",
       "                                                                                               'char_str',\n",
       "                                                                                               'char_str',\n",
       "                                                                                               'c...\n",
       "                                                                 ('numpyreplacemissingvalues',\n",
       "                                                                  NumpyReplaceMissingValues(missing_values=[])),\n",
       "                                                                 ('numimputer',\n",
       "                                                                  NumImputer(missing_values=nan,\n",
       "                                                                             strategy='median')),\n",
       "                                                                 ('optstandardscaler',\n",
       "                                                                  OptStandardScaler(use_scaler_flag=False)),\n",
       "                                                                 ('float32_transform',\n",
       "                                                                  float32_transform())]))])),\n",
       "                ('numpypermutearray',\n",
       "                 NumpyPermuteArray(axis=0,\n",
       "                                   permutation_indices=[0, 1, 2, 3, 5, 6, 7, 8,\n",
       "                                                        9, 10, 11, 12, 13, 14,\n",
       "                                                        15, 16, 17, 18, 19,\n",
       "                                                        4]))])"
      ]
     },
     "execution_count": 19,
     "metadata": {},
     "output_type": "execute_result"
    }
   ],
   "source": [
    "prefix = best_pipeline.remove_last().freeze_trainable()\n",
    "prefix.export_to_sklearn_pipeline()"
   ]
  },
  {
   "cell_type": "code",
   "execution_count": 20,
   "metadata": {
    "id": "afb5e751-feb6-44d4-b7ae-38d92bea4d80"
   },
   "outputs": [
    {
     "name": "stdout",
     "output_type": "stream",
     "text": [
      "100%|██████████| 10/10 [00:13<00:00,  1.37s/trial, best loss: 0.15957762152193744]\n",
      "1 out of 10 trials failed, call summary() for details.\n",
      "Run with verbose=True to see per-trial exceptions.\n"
     ]
    }
   ],
   "source": [
    "fair_cv = FairStratifiedKFold(**fairness_info, n_splits=3)\n",
    "\n",
    "new_pipeline = prefix >> (LR | Tree | KNN)\n",
    "pipeline_fairer = new_pipeline.auto_configure(\n",
    "    X_train.values,\n",
    "    y_train.values,\n",
    "    optimizer=Hyperopt,\n",
    "    cv=fair_cv,\n",
    "    max_evals=10,\n",
    "    scoring=combined_scorer,\n",
    "    best_score=1.0,\n",
    ")"
   ]
  },
  {
   "cell_type": "markdown",
   "metadata": {
    "id": "13e3d55d-54e6-44ac-b3dc-480eab43d5a7"
   },
   "source": [
    "As with any trained model, we can evaluate and visualize the result."
   ]
  },
  {
   "cell_type": "code",
   "execution_count": 21,
   "metadata": {
    "id": "42906777-3a39-4850-8d99-3d7a801a747d"
   },
   "outputs": [
    {
     "name": "stdout",
     "output_type": "stream",
     "text": [
      "accuracy 73.0%\n",
      "disparate impact 0.99\n",
      "accuracy and disparate impact metric 0.86\n"
     ]
    },
    {
     "data": {
      "text/html": [
       "<style>#sk-container-id-2 {\n",
       "  /* Definition of color scheme common for light and dark mode */\n",
       "  --sklearn-color-text: #000;\n",
       "  --sklearn-color-text-muted: #666;\n",
       "  --sklearn-color-line: gray;\n",
       "  /* Definition of color scheme for unfitted estimators */\n",
       "  --sklearn-color-unfitted-level-0: #fff5e6;\n",
       "  --sklearn-color-unfitted-level-1: #f6e4d2;\n",
       "  --sklearn-color-unfitted-level-2: #ffe0b3;\n",
       "  --sklearn-color-unfitted-level-3: chocolate;\n",
       "  /* Definition of color scheme for fitted estimators */\n",
       "  --sklearn-color-fitted-level-0: #f0f8ff;\n",
       "  --sklearn-color-fitted-level-1: #d4ebff;\n",
       "  --sklearn-color-fitted-level-2: #b3dbfd;\n",
       "  --sklearn-color-fitted-level-3: cornflowerblue;\n",
       "\n",
       "  /* Specific color for light theme */\n",
       "  --sklearn-color-text-on-default-background: var(--sg-text-color, var(--theme-code-foreground, var(--jp-content-font-color1, black)));\n",
       "  --sklearn-color-background: var(--sg-background-color, var(--theme-background, var(--jp-layout-color0, white)));\n",
       "  --sklearn-color-border-box: var(--sg-text-color, var(--theme-code-foreground, var(--jp-content-font-color1, black)));\n",
       "  --sklearn-color-icon: #696969;\n",
       "\n",
       "  @media (prefers-color-scheme: dark) {\n",
       "    /* Redefinition of color scheme for dark theme */\n",
       "    --sklearn-color-text-on-default-background: var(--sg-text-color, var(--theme-code-foreground, var(--jp-content-font-color1, white)));\n",
       "    --sklearn-color-background: var(--sg-background-color, var(--theme-background, var(--jp-layout-color0, #111)));\n",
       "    --sklearn-color-border-box: var(--sg-text-color, var(--theme-code-foreground, var(--jp-content-font-color1, white)));\n",
       "    --sklearn-color-icon: #878787;\n",
       "  }\n",
       "}\n",
       "\n",
       "#sk-container-id-2 {\n",
       "  color: var(--sklearn-color-text);\n",
       "}\n",
       "\n",
       "#sk-container-id-2 pre {\n",
       "  padding: 0;\n",
       "}\n",
       "\n",
       "#sk-container-id-2 input.sk-hidden--visually {\n",
       "  border: 0;\n",
       "  clip: rect(1px 1px 1px 1px);\n",
       "  clip: rect(1px, 1px, 1px, 1px);\n",
       "  height: 1px;\n",
       "  margin: -1px;\n",
       "  overflow: hidden;\n",
       "  padding: 0;\n",
       "  position: absolute;\n",
       "  width: 1px;\n",
       "}\n",
       "\n",
       "#sk-container-id-2 div.sk-dashed-wrapped {\n",
       "  border: 1px dashed var(--sklearn-color-line);\n",
       "  margin: 0 0.4em 0.5em 0.4em;\n",
       "  box-sizing: border-box;\n",
       "  padding-bottom: 0.4em;\n",
       "  background-color: var(--sklearn-color-background);\n",
       "}\n",
       "\n",
       "#sk-container-id-2 div.sk-container {\n",
       "  /* jupyter's `normalize.less` sets `[hidden] { display: none; }`\n",
       "     but bootstrap.min.css set `[hidden] { display: none !important; }`\n",
       "     so we also need the `!important` here to be able to override the\n",
       "     default hidden behavior on the sphinx rendered scikit-learn.org.\n",
       "     See: https://github.com/scikit-learn/scikit-learn/issues/21755 */\n",
       "  display: inline-block !important;\n",
       "  position: relative;\n",
       "}\n",
       "\n",
       "#sk-container-id-2 div.sk-text-repr-fallback {\n",
       "  display: none;\n",
       "}\n",
       "\n",
       "div.sk-parallel-item,\n",
       "div.sk-serial,\n",
       "div.sk-item {\n",
       "  /* draw centered vertical line to link estimators */\n",
       "  background-image: linear-gradient(var(--sklearn-color-text-on-default-background), var(--sklearn-color-text-on-default-background));\n",
       "  background-size: 2px 100%;\n",
       "  background-repeat: no-repeat;\n",
       "  background-position: center center;\n",
       "}\n",
       "\n",
       "/* Parallel-specific style estimator block */\n",
       "\n",
       "#sk-container-id-2 div.sk-parallel-item::after {\n",
       "  content: \"\";\n",
       "  width: 100%;\n",
       "  border-bottom: 2px solid var(--sklearn-color-text-on-default-background);\n",
       "  flex-grow: 1;\n",
       "}\n",
       "\n",
       "#sk-container-id-2 div.sk-parallel {\n",
       "  display: flex;\n",
       "  align-items: stretch;\n",
       "  justify-content: center;\n",
       "  background-color: var(--sklearn-color-background);\n",
       "  position: relative;\n",
       "}\n",
       "\n",
       "#sk-container-id-2 div.sk-parallel-item {\n",
       "  display: flex;\n",
       "  flex-direction: column;\n",
       "}\n",
       "\n",
       "#sk-container-id-2 div.sk-parallel-item:first-child::after {\n",
       "  align-self: flex-end;\n",
       "  width: 50%;\n",
       "}\n",
       "\n",
       "#sk-container-id-2 div.sk-parallel-item:last-child::after {\n",
       "  align-self: flex-start;\n",
       "  width: 50%;\n",
       "}\n",
       "\n",
       "#sk-container-id-2 div.sk-parallel-item:only-child::after {\n",
       "  width: 0;\n",
       "}\n",
       "\n",
       "/* Serial-specific style estimator block */\n",
       "\n",
       "#sk-container-id-2 div.sk-serial {\n",
       "  display: flex;\n",
       "  flex-direction: column;\n",
       "  align-items: center;\n",
       "  background-color: var(--sklearn-color-background);\n",
       "  padding-right: 1em;\n",
       "  padding-left: 1em;\n",
       "}\n",
       "\n",
       "\n",
       "/* Toggleable style: style used for estimator/Pipeline/ColumnTransformer box that is\n",
       "clickable and can be expanded/collapsed.\n",
       "- Pipeline and ColumnTransformer use this feature and define the default style\n",
       "- Estimators will overwrite some part of the style using the `sk-estimator` class\n",
       "*/\n",
       "\n",
       "/* Pipeline and ColumnTransformer style (default) */\n",
       "\n",
       "#sk-container-id-2 div.sk-toggleable {\n",
       "  /* Default theme specific background. It is overwritten whether we have a\n",
       "  specific estimator or a Pipeline/ColumnTransformer */\n",
       "  background-color: var(--sklearn-color-background);\n",
       "}\n",
       "\n",
       "/* Toggleable label */\n",
       "#sk-container-id-2 label.sk-toggleable__label {\n",
       "  cursor: pointer;\n",
       "  display: flex;\n",
       "  width: 100%;\n",
       "  margin-bottom: 0;\n",
       "  padding: 0.5em;\n",
       "  box-sizing: border-box;\n",
       "  text-align: center;\n",
       "  align-items: start;\n",
       "  justify-content: space-between;\n",
       "  gap: 0.5em;\n",
       "}\n",
       "\n",
       "#sk-container-id-2 label.sk-toggleable__label .caption {\n",
       "  font-size: 0.6rem;\n",
       "  font-weight: lighter;\n",
       "  color: var(--sklearn-color-text-muted);\n",
       "}\n",
       "\n",
       "#sk-container-id-2 label.sk-toggleable__label-arrow:before {\n",
       "  /* Arrow on the left of the label */\n",
       "  content: \"▸\";\n",
       "  float: left;\n",
       "  margin-right: 0.25em;\n",
       "  color: var(--sklearn-color-icon);\n",
       "}\n",
       "\n",
       "#sk-container-id-2 label.sk-toggleable__label-arrow:hover:before {\n",
       "  color: var(--sklearn-color-text);\n",
       "}\n",
       "\n",
       "/* Toggleable content - dropdown */\n",
       "\n",
       "#sk-container-id-2 div.sk-toggleable__content {\n",
       "  max-height: 0;\n",
       "  max-width: 0;\n",
       "  overflow: hidden;\n",
       "  text-align: left;\n",
       "  /* unfitted */\n",
       "  background-color: var(--sklearn-color-unfitted-level-0);\n",
       "}\n",
       "\n",
       "#sk-container-id-2 div.sk-toggleable__content.fitted {\n",
       "  /* fitted */\n",
       "  background-color: var(--sklearn-color-fitted-level-0);\n",
       "}\n",
       "\n",
       "#sk-container-id-2 div.sk-toggleable__content pre {\n",
       "  margin: 0.2em;\n",
       "  border-radius: 0.25em;\n",
       "  color: var(--sklearn-color-text);\n",
       "  /* unfitted */\n",
       "  background-color: var(--sklearn-color-unfitted-level-0);\n",
       "}\n",
       "\n",
       "#sk-container-id-2 div.sk-toggleable__content.fitted pre {\n",
       "  /* unfitted */\n",
       "  background-color: var(--sklearn-color-fitted-level-0);\n",
       "}\n",
       "\n",
       "#sk-container-id-2 input.sk-toggleable__control:checked~div.sk-toggleable__content {\n",
       "  /* Expand drop-down */\n",
       "  max-height: 200px;\n",
       "  max-width: 100%;\n",
       "  overflow: auto;\n",
       "}\n",
       "\n",
       "#sk-container-id-2 input.sk-toggleable__control:checked~label.sk-toggleable__label-arrow:before {\n",
       "  content: \"▾\";\n",
       "}\n",
       "\n",
       "/* Pipeline/ColumnTransformer-specific style */\n",
       "\n",
       "#sk-container-id-2 div.sk-label input.sk-toggleable__control:checked~label.sk-toggleable__label {\n",
       "  color: var(--sklearn-color-text);\n",
       "  background-color: var(--sklearn-color-unfitted-level-2);\n",
       "}\n",
       "\n",
       "#sk-container-id-2 div.sk-label.fitted input.sk-toggleable__control:checked~label.sk-toggleable__label {\n",
       "  background-color: var(--sklearn-color-fitted-level-2);\n",
       "}\n",
       "\n",
       "/* Estimator-specific style */\n",
       "\n",
       "/* Colorize estimator box */\n",
       "#sk-container-id-2 div.sk-estimator input.sk-toggleable__control:checked~label.sk-toggleable__label {\n",
       "  /* unfitted */\n",
       "  background-color: var(--sklearn-color-unfitted-level-2);\n",
       "}\n",
       "\n",
       "#sk-container-id-2 div.sk-estimator.fitted input.sk-toggleable__control:checked~label.sk-toggleable__label {\n",
       "  /* fitted */\n",
       "  background-color: var(--sklearn-color-fitted-level-2);\n",
       "}\n",
       "\n",
       "#sk-container-id-2 div.sk-label label.sk-toggleable__label,\n",
       "#sk-container-id-2 div.sk-label label {\n",
       "  /* The background is the default theme color */\n",
       "  color: var(--sklearn-color-text-on-default-background);\n",
       "}\n",
       "\n",
       "/* On hover, darken the color of the background */\n",
       "#sk-container-id-2 div.sk-label:hover label.sk-toggleable__label {\n",
       "  color: var(--sklearn-color-text);\n",
       "  background-color: var(--sklearn-color-unfitted-level-2);\n",
       "}\n",
       "\n",
       "/* Label box, darken color on hover, fitted */\n",
       "#sk-container-id-2 div.sk-label.fitted:hover label.sk-toggleable__label.fitted {\n",
       "  color: var(--sklearn-color-text);\n",
       "  background-color: var(--sklearn-color-fitted-level-2);\n",
       "}\n",
       "\n",
       "/* Estimator label */\n",
       "\n",
       "#sk-container-id-2 div.sk-label label {\n",
       "  font-family: monospace;\n",
       "  font-weight: bold;\n",
       "  display: inline-block;\n",
       "  line-height: 1.2em;\n",
       "}\n",
       "\n",
       "#sk-container-id-2 div.sk-label-container {\n",
       "  text-align: center;\n",
       "}\n",
       "\n",
       "/* Estimator-specific */\n",
       "#sk-container-id-2 div.sk-estimator {\n",
       "  font-family: monospace;\n",
       "  border: 1px dotted var(--sklearn-color-border-box);\n",
       "  border-radius: 0.25em;\n",
       "  box-sizing: border-box;\n",
       "  margin-bottom: 0.5em;\n",
       "  /* unfitted */\n",
       "  background-color: var(--sklearn-color-unfitted-level-0);\n",
       "}\n",
       "\n",
       "#sk-container-id-2 div.sk-estimator.fitted {\n",
       "  /* fitted */\n",
       "  background-color: var(--sklearn-color-fitted-level-0);\n",
       "}\n",
       "\n",
       "/* on hover */\n",
       "#sk-container-id-2 div.sk-estimator:hover {\n",
       "  /* unfitted */\n",
       "  background-color: var(--sklearn-color-unfitted-level-2);\n",
       "}\n",
       "\n",
       "#sk-container-id-2 div.sk-estimator.fitted:hover {\n",
       "  /* fitted */\n",
       "  background-color: var(--sklearn-color-fitted-level-2);\n",
       "}\n",
       "\n",
       "/* Specification for estimator info (e.g. \"i\" and \"?\") */\n",
       "\n",
       "/* Common style for \"i\" and \"?\" */\n",
       "\n",
       ".sk-estimator-doc-link,\n",
       "a:link.sk-estimator-doc-link,\n",
       "a:visited.sk-estimator-doc-link {\n",
       "  float: right;\n",
       "  font-size: smaller;\n",
       "  line-height: 1em;\n",
       "  font-family: monospace;\n",
       "  background-color: var(--sklearn-color-background);\n",
       "  border-radius: 1em;\n",
       "  height: 1em;\n",
       "  width: 1em;\n",
       "  text-decoration: none !important;\n",
       "  margin-left: 0.5em;\n",
       "  text-align: center;\n",
       "  /* unfitted */\n",
       "  border: var(--sklearn-color-unfitted-level-1) 1pt solid;\n",
       "  color: var(--sklearn-color-unfitted-level-1);\n",
       "}\n",
       "\n",
       ".sk-estimator-doc-link.fitted,\n",
       "a:link.sk-estimator-doc-link.fitted,\n",
       "a:visited.sk-estimator-doc-link.fitted {\n",
       "  /* fitted */\n",
       "  border: var(--sklearn-color-fitted-level-1) 1pt solid;\n",
       "  color: var(--sklearn-color-fitted-level-1);\n",
       "}\n",
       "\n",
       "/* On hover */\n",
       "div.sk-estimator:hover .sk-estimator-doc-link:hover,\n",
       ".sk-estimator-doc-link:hover,\n",
       "div.sk-label-container:hover .sk-estimator-doc-link:hover,\n",
       ".sk-estimator-doc-link:hover {\n",
       "  /* unfitted */\n",
       "  background-color: var(--sklearn-color-unfitted-level-3);\n",
       "  color: var(--sklearn-color-background);\n",
       "  text-decoration: none;\n",
       "}\n",
       "\n",
       "div.sk-estimator.fitted:hover .sk-estimator-doc-link.fitted:hover,\n",
       ".sk-estimator-doc-link.fitted:hover,\n",
       "div.sk-label-container:hover .sk-estimator-doc-link.fitted:hover,\n",
       ".sk-estimator-doc-link.fitted:hover {\n",
       "  /* fitted */\n",
       "  background-color: var(--sklearn-color-fitted-level-3);\n",
       "  color: var(--sklearn-color-background);\n",
       "  text-decoration: none;\n",
       "}\n",
       "\n",
       "/* Span, style for the box shown on hovering the info icon */\n",
       ".sk-estimator-doc-link span {\n",
       "  display: none;\n",
       "  z-index: 9999;\n",
       "  position: relative;\n",
       "  font-weight: normal;\n",
       "  right: .2ex;\n",
       "  padding: .5ex;\n",
       "  margin: .5ex;\n",
       "  width: min-content;\n",
       "  min-width: 20ex;\n",
       "  max-width: 50ex;\n",
       "  color: var(--sklearn-color-text);\n",
       "  box-shadow: 2pt 2pt 4pt #999;\n",
       "  /* unfitted */\n",
       "  background: var(--sklearn-color-unfitted-level-0);\n",
       "  border: .5pt solid var(--sklearn-color-unfitted-level-3);\n",
       "}\n",
       "\n",
       ".sk-estimator-doc-link.fitted span {\n",
       "  /* fitted */\n",
       "  background: var(--sklearn-color-fitted-level-0);\n",
       "  border: var(--sklearn-color-fitted-level-3);\n",
       "}\n",
       "\n",
       ".sk-estimator-doc-link:hover span {\n",
       "  display: block;\n",
       "}\n",
       "\n",
       "/* \"?\"-specific style due to the `<a>` HTML tag */\n",
       "\n",
       "#sk-container-id-2 a.estimator_doc_link {\n",
       "  float: right;\n",
       "  font-size: 1rem;\n",
       "  line-height: 1em;\n",
       "  font-family: monospace;\n",
       "  background-color: var(--sklearn-color-background);\n",
       "  border-radius: 1rem;\n",
       "  height: 1rem;\n",
       "  width: 1rem;\n",
       "  text-decoration: none;\n",
       "  /* unfitted */\n",
       "  color: var(--sklearn-color-unfitted-level-1);\n",
       "  border: var(--sklearn-color-unfitted-level-1) 1pt solid;\n",
       "}\n",
       "\n",
       "#sk-container-id-2 a.estimator_doc_link.fitted {\n",
       "  /* fitted */\n",
       "  border: var(--sklearn-color-fitted-level-1) 1pt solid;\n",
       "  color: var(--sklearn-color-fitted-level-1);\n",
       "}\n",
       "\n",
       "/* On hover */\n",
       "#sk-container-id-2 a.estimator_doc_link:hover {\n",
       "  /* unfitted */\n",
       "  background-color: var(--sklearn-color-unfitted-level-3);\n",
       "  color: var(--sklearn-color-background);\n",
       "  text-decoration: none;\n",
       "}\n",
       "\n",
       "#sk-container-id-2 a.estimator_doc_link.fitted:hover {\n",
       "  /* fitted */\n",
       "  background-color: var(--sklearn-color-fitted-level-3);\n",
       "}\n",
       "</style><div id=\"sk-container-id-2\" class=\"sk-top-container\"><div class=\"sk-text-repr-fallback\"><pre>Pipeline(steps=[(&#x27;featureunion&#x27;,\n",
       "                 FeatureUnion(transformer_list=[(&#x27;float32_transform_140136454738944&#x27;,\n",
       "                                                 Pipeline(steps=[(&#x27;numpycolumnselector&#x27;,\n",
       "                                                                  NumpyColumnSelector(columns=[0,\n",
       "                                                                                               1,\n",
       "                                                                                               2,\n",
       "                                                                                               3,\n",
       "                                                                                               5,\n",
       "                                                                                               6,\n",
       "                                                                                               7,\n",
       "                                                                                               8,\n",
       "                                                                                               9,\n",
       "                                                                                               10,\n",
       "                                                                                               11,\n",
       "                                                                                               12,\n",
       "                                                                                               13,\n",
       "                                                                                               14,\n",
       "                                                                                               15,\n",
       "                                                                                               16,\n",
       "                                                                                               17,\n",
       "                                                                                               18,\n",
       "                                                                                               19])),\n",
       "                                                                 (&#x27;compressstrings&#x27;,\n",
       "                                                                  CompressStrings(compress_type=&#x27;hash&#x27;,\n",
       "                                                                                  dtypes_list=[&#x27;char_str&#x27;,\n",
       "                                                                                               &#x27;float_int_num&#x27;,\n",
       "                                                                                               &#x27;char_str&#x27;,\n",
       "                                                                                               &#x27;char_str&#x27;,\n",
       "                                                                                               &#x27;char_str&#x27;,\n",
       "                                                                                               &#x27;c...\n",
       "                                                                  NumImputer(missing_values=nan,\n",
       "                                                                             strategy=&#x27;median&#x27;)),\n",
       "                                                                 (&#x27;optstandardscaler&#x27;,\n",
       "                                                                  OptStandardScaler(use_scaler_flag=False)),\n",
       "                                                                 (&#x27;float32_transform&#x27;,\n",
       "                                                                  float32_transform())]))])),\n",
       "                (&#x27;numpypermutearray&#x27;,\n",
       "                 NumpyPermuteArray(axis=0,\n",
       "                                   permutation_indices=[0, 1, 2, 3, 5, 6, 7, 8,\n",
       "                                                        9, 10, 11, 12, 13, 14,\n",
       "                                                        15, 16, 17, 18, 19,\n",
       "                                                        4])),\n",
       "                (&#x27;kneighborsclassifier&#x27;,\n",
       "                 KNeighborsClassifier(n_neighbors=86, weights=&#x27;distance&#x27;))])</pre><b>In a Jupyter environment, please rerun this cell to show the HTML representation or trust the notebook. <br />On GitHub, the HTML representation is unable to render, please try loading this page with nbviewer.org.</b></div><div class=\"sk-container\" hidden><div class=\"sk-item sk-dashed-wrapped\"><div class=\"sk-label-container\"><div class=\"sk-label fitted sk-toggleable\"><input class=\"sk-toggleable__control sk-hidden--visually\" id=\"sk-estimator-id-18\" type=\"checkbox\" ><label for=\"sk-estimator-id-18\" class=\"sk-toggleable__label fitted sk-toggleable__label-arrow\"><div><div>Pipeline</div></div><div><a class=\"sk-estimator-doc-link fitted\" rel=\"noreferrer\" target=\"_blank\" href=\"https://scikit-learn.org/1.6/modules/generated/sklearn.pipeline.Pipeline.html\">?<span>Documentation for Pipeline</span></a><span class=\"sk-estimator-doc-link fitted\">i<span>Fitted</span></span></div></label><div class=\"sk-toggleable__content fitted\"><pre>Pipeline(steps=[(&#x27;featureunion&#x27;,\n",
       "                 FeatureUnion(transformer_list=[(&#x27;float32_transform_140136454738944&#x27;,\n",
       "                                                 Pipeline(steps=[(&#x27;numpycolumnselector&#x27;,\n",
       "                                                                  NumpyColumnSelector(columns=[0,\n",
       "                                                                                               1,\n",
       "                                                                                               2,\n",
       "                                                                                               3,\n",
       "                                                                                               5,\n",
       "                                                                                               6,\n",
       "                                                                                               7,\n",
       "                                                                                               8,\n",
       "                                                                                               9,\n",
       "                                                                                               10,\n",
       "                                                                                               11,\n",
       "                                                                                               12,\n",
       "                                                                                               13,\n",
       "                                                                                               14,\n",
       "                                                                                               15,\n",
       "                                                                                               16,\n",
       "                                                                                               17,\n",
       "                                                                                               18,\n",
       "                                                                                               19])),\n",
       "                                                                 (&#x27;compressstrings&#x27;,\n",
       "                                                                  CompressStrings(compress_type=&#x27;hash&#x27;,\n",
       "                                                                                  dtypes_list=[&#x27;char_str&#x27;,\n",
       "                                                                                               &#x27;float_int_num&#x27;,\n",
       "                                                                                               &#x27;char_str&#x27;,\n",
       "                                                                                               &#x27;char_str&#x27;,\n",
       "                                                                                               &#x27;char_str&#x27;,\n",
       "                                                                                               &#x27;c...\n",
       "                                                                  NumImputer(missing_values=nan,\n",
       "                                                                             strategy=&#x27;median&#x27;)),\n",
       "                                                                 (&#x27;optstandardscaler&#x27;,\n",
       "                                                                  OptStandardScaler(use_scaler_flag=False)),\n",
       "                                                                 (&#x27;float32_transform&#x27;,\n",
       "                                                                  float32_transform())]))])),\n",
       "                (&#x27;numpypermutearray&#x27;,\n",
       "                 NumpyPermuteArray(axis=0,\n",
       "                                   permutation_indices=[0, 1, 2, 3, 5, 6, 7, 8,\n",
       "                                                        9, 10, 11, 12, 13, 14,\n",
       "                                                        15, 16, 17, 18, 19,\n",
       "                                                        4])),\n",
       "                (&#x27;kneighborsclassifier&#x27;,\n",
       "                 KNeighborsClassifier(n_neighbors=86, weights=&#x27;distance&#x27;))])</pre></div> </div></div><div class=\"sk-serial\"><div class=\"sk-item sk-dashed-wrapped\"><div class=\"sk-label-container\"><div class=\"sk-label fitted sk-toggleable\"><input class=\"sk-toggleable__control sk-hidden--visually\" id=\"sk-estimator-id-19\" type=\"checkbox\" ><label for=\"sk-estimator-id-19\" class=\"sk-toggleable__label fitted sk-toggleable__label-arrow\"><div><div>featureunion: FeatureUnion</div></div><div><a class=\"sk-estimator-doc-link fitted\" rel=\"noreferrer\" target=\"_blank\" href=\"https://scikit-learn.org/1.6/modules/generated/sklearn.pipeline.FeatureUnion.html\">?<span>Documentation for featureunion: FeatureUnion</span></a></div></label><div class=\"sk-toggleable__content fitted\"><pre>FeatureUnion(transformer_list=[(&#x27;float32_transform_140136454738944&#x27;,\n",
       "                                Pipeline(steps=[(&#x27;numpycolumnselector&#x27;,\n",
       "                                                 NumpyColumnSelector(columns=[0,\n",
       "                                                                              1,\n",
       "                                                                              2,\n",
       "                                                                              3,\n",
       "                                                                              5,\n",
       "                                                                              6,\n",
       "                                                                              7,\n",
       "                                                                              8,\n",
       "                                                                              9,\n",
       "                                                                              10,\n",
       "                                                                              11,\n",
       "                                                                              12,\n",
       "                                                                              13,\n",
       "                                                                              14,\n",
       "                                                                              15,\n",
       "                                                                              16,\n",
       "                                                                              17,\n",
       "                                                                              18,\n",
       "                                                                              19])),\n",
       "                                                (&#x27;compressstrings&#x27;,\n",
       "                                                 CompressStrings(compress_type=&#x27;hash&#x27;,\n",
       "                                                                 dtypes_list=[&#x27;char_str&#x27;,\n",
       "                                                                              &#x27;float_int_num&#x27;,\n",
       "                                                                              &#x27;char_str&#x27;,\n",
       "                                                                              &#x27;char_str&#x27;,\n",
       "                                                                              &#x27;char_str&#x27;,\n",
       "                                                                              &#x27;char_str&#x27;,\n",
       "                                                                              &#x27;float_int_num&#x27;,\n",
       "                                                                              &#x27;char_s...\n",
       "                                                 NumpyColumnSelector(columns=[4])),\n",
       "                                                (&#x27;floatstr2float&#x27;,\n",
       "                                                 FloatStr2Float(dtypes_list=[&#x27;float_int_num&#x27;],\n",
       "                                                                missing_values_reference_list=[])),\n",
       "                                                (&#x27;numpyreplacemissingvalues&#x27;,\n",
       "                                                 NumpyReplaceMissingValues(missing_values=[])),\n",
       "                                                (&#x27;numimputer&#x27;,\n",
       "                                                 NumImputer(missing_values=nan,\n",
       "                                                            strategy=&#x27;median&#x27;)),\n",
       "                                                (&#x27;optstandardscaler&#x27;,\n",
       "                                                 OptStandardScaler(use_scaler_flag=False)),\n",
       "                                                (&#x27;float32_transform&#x27;,\n",
       "                                                 float32_transform())]))])</pre></div> </div></div><div class=\"sk-parallel\"><div class=\"sk-parallel-item\"><div class=\"sk-item\"><div class=\"sk-label-container\"><div class=\"sk-label fitted sk-toggleable\"><label>float32_transform_140136454738944</label></div></div><div class=\"sk-serial\"><div class=\"sk-item\"><div class=\"sk-serial\"><div class=\"sk-item\"><div class=\"sk-estimator fitted sk-toggleable\"><input class=\"sk-toggleable__control sk-hidden--visually\" id=\"sk-estimator-id-20\" type=\"checkbox\" ><label for=\"sk-estimator-id-20\" class=\"sk-toggleable__label fitted sk-toggleable__label-arrow\"><div><div>NumpyColumnSelector</div></div></label><div class=\"sk-toggleable__content fitted\"><pre>NumpyColumnSelector(columns=[0, 1, 2, 3, 5, 6, 7, 8, 9, 10, 11, 12, 13, 14, 15,\n",
       "                             16, 17, 18, 19])</pre></div> </div></div><div class=\"sk-item\"><div class=\"sk-estimator fitted sk-toggleable\"><input class=\"sk-toggleable__control sk-hidden--visually\" id=\"sk-estimator-id-21\" type=\"checkbox\" ><label for=\"sk-estimator-id-21\" class=\"sk-toggleable__label fitted sk-toggleable__label-arrow\"><div><div>CompressStrings</div></div></label><div class=\"sk-toggleable__content fitted\"><pre>CompressStrings(compress_type=&#x27;hash&#x27;,\n",
       "                dtypes_list=[&#x27;char_str&#x27;, &#x27;float_int_num&#x27;, &#x27;char_str&#x27;,\n",
       "                             &#x27;char_str&#x27;, &#x27;char_str&#x27;, &#x27;char_str&#x27;,\n",
       "                             &#x27;float_int_num&#x27;, &#x27;char_str&#x27;, &#x27;char_str&#x27;,\n",
       "                             &#x27;float_int_num&#x27;, &#x27;char_str&#x27;, &#x27;float_int_num&#x27;,\n",
       "                             &#x27;char_str&#x27;, &#x27;char_str&#x27;, &#x27;float_int_num&#x27;,\n",
       "                             &#x27;char_str&#x27;, &#x27;float_int_num&#x27;, &#x27;char_str&#x27;,\n",
       "                             &#x27;char_str&#x27;],\n",
       "                missing_values_reference_list=[&#x27;&#x27;, &#x27;-&#x27;, &#x27;?&#x27;, nan],\n",
       "                misslist_list=[[], [], [], [], [], [], [], [], [], [], [], [],\n",
       "                               [], [], [], [], [], [], []])</pre></div> </div></div><div class=\"sk-item\"><div class=\"sk-estimator fitted sk-toggleable\"><input class=\"sk-toggleable__control sk-hidden--visually\" id=\"sk-estimator-id-22\" type=\"checkbox\" ><label for=\"sk-estimator-id-22\" class=\"sk-toggleable__label fitted sk-toggleable__label-arrow\"><div><div>NumpyReplaceMissingValues</div></div></label><div class=\"sk-toggleable__content fitted\"><pre>NumpyReplaceMissingValues(missing_values=[])</pre></div> </div></div><div class=\"sk-item\"><div class=\"sk-estimator fitted sk-toggleable\"><input class=\"sk-toggleable__control sk-hidden--visually\" id=\"sk-estimator-id-23\" type=\"checkbox\" ><label for=\"sk-estimator-id-23\" class=\"sk-toggleable__label fitted sk-toggleable__label-arrow\"><div><div>NumpyReplaceUnknownValues</div></div></label><div class=\"sk-toggleable__content fitted\"><pre>NumpyReplaceUnknownValues(filling_values=nan,\n",
       "                          filling_values_list=[nan, 100001, nan, nan, nan, nan,\n",
       "                                               100001, nan, nan, 100001, nan,\n",
       "                                               100001, nan, nan, 100001, nan,\n",
       "                                               100001, nan, nan],\n",
       "                          known_values_list=[[227259264688753646810077375790908286508,\n",
       "                                              253732214910815238134509288111402486722,\n",
       "                                              303819144345098626554456011496217223575,\n",
       "                                              280353606872939388614315901186094326949],\n",
       "                                             [4.0, 5.0...\n",
       "                                             [328286527295663582663365503319902632676,\n",
       "                                              119641707607939038914465000864290288880,\n",
       "                                              283364312271660996400883763491949419861,\n",
       "                                              27741019508977055807423991753468819528],\n",
       "                                             [1.0, 2.0],\n",
       "                                             [68186749286663113704472210246844540664,\n",
       "                                              220736790854050750400968561922076059550],\n",
       "                                             [169662019754859674907370307324476606919,\n",
       "                                              220736790854050750400968561922076059550]],\n",
       "                          missing_values_reference_list=[&#x27;&#x27;, &#x27;-&#x27;, &#x27;?&#x27;, nan])</pre></div> </div></div><div class=\"sk-item\"><div class=\"sk-estimator fitted sk-toggleable\"><input class=\"sk-toggleable__control sk-hidden--visually\" id=\"sk-estimator-id-24\" type=\"checkbox\" ><label for=\"sk-estimator-id-24\" class=\"sk-toggleable__label fitted sk-toggleable__label-arrow\"><div><div>boolean2float</div></div></label><div class=\"sk-toggleable__content fitted\"><pre>boolean2float()</pre></div> </div></div><div class=\"sk-item\"><div class=\"sk-estimator fitted sk-toggleable\"><input class=\"sk-toggleable__control sk-hidden--visually\" id=\"sk-estimator-id-25\" type=\"checkbox\" ><label for=\"sk-estimator-id-25\" class=\"sk-toggleable__label fitted sk-toggleable__label-arrow\"><div><div>CatImputer</div></div></label><div class=\"sk-toggleable__content fitted\"><pre>CatImputer(missing_values=nan, strategy=&#x27;most_frequent&#x27;)</pre></div> </div></div><div class=\"sk-item\"><div class=\"sk-estimator fitted sk-toggleable\"><input class=\"sk-toggleable__control sk-hidden--visually\" id=\"sk-estimator-id-26\" type=\"checkbox\" ><label for=\"sk-estimator-id-26\" class=\"sk-toggleable__label fitted sk-toggleable__label-arrow\"><div><div>CatEncoder</div></div></label><div class=\"sk-toggleable__content fitted\"><pre>CatEncoder(categories=&#x27;auto&#x27;, dtype=&lt;class &#x27;numpy.float64&#x27;&gt;, encoding=&#x27;ordinal&#x27;,\n",
       "           handle_unknown=&#x27;error&#x27;)</pre></div> </div></div><div class=\"sk-item\"><div class=\"sk-estimator fitted sk-toggleable\"><input class=\"sk-toggleable__control sk-hidden--visually\" id=\"sk-estimator-id-27\" type=\"checkbox\" ><label for=\"sk-estimator-id-27\" class=\"sk-toggleable__label fitted sk-toggleable__label-arrow\"><div><div>float32_transform</div></div></label><div class=\"sk-toggleable__content fitted\"><pre>float32_transform()</pre></div> </div></div></div></div></div></div></div><div class=\"sk-parallel-item\"><div class=\"sk-item\"><div class=\"sk-label-container\"><div class=\"sk-label fitted sk-toggleable\"><label>float32_transform_140136379973760</label></div></div><div class=\"sk-serial\"><div class=\"sk-item\"><div class=\"sk-serial\"><div class=\"sk-item\"><div class=\"sk-estimator fitted sk-toggleable\"><input class=\"sk-toggleable__control sk-hidden--visually\" id=\"sk-estimator-id-28\" type=\"checkbox\" ><label for=\"sk-estimator-id-28\" class=\"sk-toggleable__label fitted sk-toggleable__label-arrow\"><div><div>NumpyColumnSelector</div></div></label><div class=\"sk-toggleable__content fitted\"><pre>NumpyColumnSelector(columns=[4])</pre></div> </div></div><div class=\"sk-item\"><div class=\"sk-estimator fitted sk-toggleable\"><input class=\"sk-toggleable__control sk-hidden--visually\" id=\"sk-estimator-id-29\" type=\"checkbox\" ><label for=\"sk-estimator-id-29\" class=\"sk-toggleable__label fitted sk-toggleable__label-arrow\"><div><div>FloatStr2Float</div></div></label><div class=\"sk-toggleable__content fitted\"><pre>FloatStr2Float(dtypes_list=[&#x27;float_int_num&#x27;], missing_values_reference_list=[])</pre></div> </div></div><div class=\"sk-item\"><div class=\"sk-estimator fitted sk-toggleable\"><input class=\"sk-toggleable__control sk-hidden--visually\" id=\"sk-estimator-id-30\" type=\"checkbox\" ><label for=\"sk-estimator-id-30\" class=\"sk-toggleable__label fitted sk-toggleable__label-arrow\"><div><div>NumpyReplaceMissingValues</div></div></label><div class=\"sk-toggleable__content fitted\"><pre>NumpyReplaceMissingValues(missing_values=[])</pre></div> </div></div><div class=\"sk-item\"><div class=\"sk-estimator fitted sk-toggleable\"><input class=\"sk-toggleable__control sk-hidden--visually\" id=\"sk-estimator-id-31\" type=\"checkbox\" ><label for=\"sk-estimator-id-31\" class=\"sk-toggleable__label fitted sk-toggleable__label-arrow\"><div><div>NumImputer</div></div></label><div class=\"sk-toggleable__content fitted\"><pre>NumImputer(missing_values=nan, strategy=&#x27;median&#x27;)</pre></div> </div></div><div class=\"sk-item\"><div class=\"sk-estimator fitted sk-toggleable\"><input class=\"sk-toggleable__control sk-hidden--visually\" id=\"sk-estimator-id-32\" type=\"checkbox\" ><label for=\"sk-estimator-id-32\" class=\"sk-toggleable__label fitted sk-toggleable__label-arrow\"><div><div>OptStandardScaler</div></div></label><div class=\"sk-toggleable__content fitted\"><pre>OptStandardScaler(use_scaler_flag=False)</pre></div> </div></div><div class=\"sk-item\"><div class=\"sk-estimator fitted sk-toggleable\"><input class=\"sk-toggleable__control sk-hidden--visually\" id=\"sk-estimator-id-33\" type=\"checkbox\" ><label for=\"sk-estimator-id-33\" class=\"sk-toggleable__label fitted sk-toggleable__label-arrow\"><div><div>float32_transform</div></div></label><div class=\"sk-toggleable__content fitted\"><pre>float32_transform()</pre></div> </div></div></div></div></div></div></div></div></div><div class=\"sk-item\"><div class=\"sk-estimator fitted sk-toggleable\"><input class=\"sk-toggleable__control sk-hidden--visually\" id=\"sk-estimator-id-34\" type=\"checkbox\" ><label for=\"sk-estimator-id-34\" class=\"sk-toggleable__label fitted sk-toggleable__label-arrow\"><div><div>NumpyPermuteArray</div></div></label><div class=\"sk-toggleable__content fitted\"><pre>NumpyPermuteArray(axis=0,\n",
       "                  permutation_indices=[0, 1, 2, 3, 5, 6, 7, 8, 9, 10, 11, 12,\n",
       "                                       13, 14, 15, 16, 17, 18, 19, 4])</pre></div> </div></div><div class=\"sk-item\"><div class=\"sk-estimator fitted sk-toggleable\"><input class=\"sk-toggleable__control sk-hidden--visually\" id=\"sk-estimator-id-35\" type=\"checkbox\" ><label for=\"sk-estimator-id-35\" class=\"sk-toggleable__label fitted sk-toggleable__label-arrow\"><div><div>KNeighborsClassifier</div></div><div><a class=\"sk-estimator-doc-link fitted\" rel=\"noreferrer\" target=\"_blank\" href=\"https://scikit-learn.org/1.6/modules/generated/sklearn.neighbors.KNeighborsClassifier.html\">?<span>Documentation for KNeighborsClassifier</span></a></div></label><div class=\"sk-toggleable__content fitted\"><pre>KNeighborsClassifier(n_neighbors=86, weights=&#x27;distance&#x27;)</pre></div> </div></div></div></div></div></div>"
      ],
      "text/plain": [
       "Pipeline(steps=[('featureunion',\n",
       "                 FeatureUnion(transformer_list=[('float32_transform_140136454738944',\n",
       "                                                 Pipeline(steps=[('numpycolumnselector',\n",
       "                                                                  NumpyColumnSelector(columns=[0,\n",
       "                                                                                               1,\n",
       "                                                                                               2,\n",
       "                                                                                               3,\n",
       "                                                                                               5,\n",
       "                                                                                               6,\n",
       "                                                                                               7,\n",
       "                                                                                               8,\n",
       "                                                                                               9,\n",
       "                                                                                               10,\n",
       "                                                                                               11,\n",
       "                                                                                               12,\n",
       "                                                                                               13,\n",
       "                                                                                               14,\n",
       "                                                                                               15,\n",
       "                                                                                               16,\n",
       "                                                                                               17,\n",
       "                                                                                               18,\n",
       "                                                                                               19])),\n",
       "                                                                 ('compressstrings',\n",
       "                                                                  CompressStrings(compress_type='hash',\n",
       "                                                                                  dtypes_list=['char_str',\n",
       "                                                                                               'float_int_num',\n",
       "                                                                                               'char_str',\n",
       "                                                                                               'char_str',\n",
       "                                                                                               'char_str',\n",
       "                                                                                               'c...\n",
       "                                                                  NumImputer(missing_values=nan,\n",
       "                                                                             strategy='median')),\n",
       "                                                                 ('optstandardscaler',\n",
       "                                                                  OptStandardScaler(use_scaler_flag=False)),\n",
       "                                                                 ('float32_transform',\n",
       "                                                                  float32_transform())]))])),\n",
       "                ('numpypermutearray',\n",
       "                 NumpyPermuteArray(axis=0,\n",
       "                                   permutation_indices=[0, 1, 2, 3, 5, 6, 7, 8,\n",
       "                                                        9, 10, 11, 12, 13, 14,\n",
       "                                                        15, 16, 17, 18, 19,\n",
       "                                                        4])),\n",
       "                ('kneighborsclassifier',\n",
       "                 KNeighborsClassifier(n_neighbors=86, weights='distance'))])"
      ]
     },
     "execution_count": 21,
     "metadata": {},
     "output_type": "execute_result"
    }
   ],
   "source": [
    "print(f\"accuracy {accuracy_scorer(pipeline_fairer, X_test.values, y_test.values):.1%}\")\n",
    "print(\n",
    "    f\"disparate impact {disparate_impact_scorer(pipeline_fairer, X_test.values, y_test.values):.2f}\"\n",
    ")\n",
    "print(\n",
    "    f\"accuracy and disparate impact metric {combined_scorer(pipeline_fairer, X_test.values, y_test.values):.2f}\"\n",
    ")\n",
    "\n",
    "pipeline_fairer.export_to_sklearn_pipeline()"
   ]
  },
  {
   "cell_type": "markdown",
   "metadata": {
    "id": "2e821cf4-c6eb-4557-8c1d-43c2e19d0d66"
   },
   "source": [
    "As the result demonstrates, the best model found by AI Automation\n",
    "has lower accuracy and much better disparate impact as the one we saw\n",
    "before. Also, it has tuned the repair level and\n",
    "has picked and tuned a classifier. These results may vary by dataset and search space."
   ]
  },
  {
   "cell_type": "markdown",
   "metadata": {
    "id": "709cf7d3-05c0-4e6a-8468-bd931d3b5bf8"
   },
   "source": [
    "You can get source code of the created pipeline."
   ]
  },
  {
   "cell_type": "code",
   "execution_count": 22,
   "metadata": {
    "id": "43fb8864-7e3d-4237-ac8b-dcb03d277377"
   },
   "outputs": [
    {
     "data": {
      "text/markdown": [
       "```python\n",
       "numpy_column_selector_0 = NumpyColumnSelector(\n",
       "    columns=[\n",
       "        0, 1, 2, 3, 5, 6, 7, 8, 9, 10, 11, 12, 13, 14, 15, 16, 17, 18, 19,\n",
       "    ]\n",
       ")\n",
       "compress_strings = CompressStrings(\n",
       "    compress_type=\"hash\",\n",
       "    dtypes_list=[\n",
       "        \"char_str\", \"float_int_num\", \"char_str\", \"char_str\", \"char_str\",\n",
       "        \"char_str\", \"float_int_num\", \"char_str\", \"char_str\", \"float_int_num\",\n",
       "        \"char_str\", \"float_int_num\", \"char_str\", \"char_str\", \"float_int_num\",\n",
       "        \"char_str\", \"float_int_num\", \"char_str\", \"char_str\",\n",
       "    ],\n",
       "    missing_values_reference_list=[\"\", \"-\", \"?\", float(\"nan\")],\n",
       "    misslist_list=[\n",
       "        [], [], [], [], [], [], [], [], [], [], [], [], [], [], [], [], [],\n",
       "        [], [],\n",
       "    ],\n",
       ")\n",
       "numpy_replace_missing_values_0 = NumpyReplaceMissingValues(\n",
       "    filling_values=float(\"nan\"), missing_values=[]\n",
       ")\n",
       "numpy_replace_unknown_values = NumpyReplaceUnknownValues(\n",
       "    filling_values=float(\"nan\"),\n",
       "    filling_values_list=[\n",
       "        float(\"nan\"), 100001, float(\"nan\"), float(\"nan\"), float(\"nan\"),\n",
       "        float(\"nan\"), 100001, float(\"nan\"), float(\"nan\"), 100001,\n",
       "        float(\"nan\"), 100001, float(\"nan\"), float(\"nan\"), 100001,\n",
       "        float(\"nan\"), 100001, float(\"nan\"), float(\"nan\"),\n",
       "    ],\n",
       "    missing_values_reference_list=[\"\", \"-\", \"?\", float(\"nan\")],\n",
       ")\n",
       "cat_imputer = CatImputer(\n",
       "    missing_values=float(\"nan\"),\n",
       "    sklearn_version_family=\"1\",\n",
       "    strategy=\"most_frequent\",\n",
       ")\n",
       "cat_encoder = CatEncoder(\n",
       "    dtype=np.float64,\n",
       "    handle_unknown=\"error\",\n",
       "    sklearn_version_family=\"1\",\n",
       "    encoding=\"ordinal\",\n",
       "    categories=\"auto\",\n",
       ")\n",
       "numpy_column_selector_1 = NumpyColumnSelector(columns=[4])\n",
       "float_str2_float = FloatStr2Float(\n",
       "    dtypes_list=[\"float_int_num\"], missing_values_reference_list=[]\n",
       ")\n",
       "numpy_replace_missing_values_1 = NumpyReplaceMissingValues(\n",
       "    filling_values=float(\"nan\"), missing_values=[]\n",
       ")\n",
       "num_imputer = NumImputer(missing_values=float(\"nan\"), strategy=\"median\")\n",
       "opt_standard_scaler = OptStandardScaler(use_scaler_flag=False)\n",
       "numpy_permute_array = NumpyPermuteArray(\n",
       "    axis=0,\n",
       "    permutation_indices=[\n",
       "        0, 1, 2, 3, 5, 6, 7, 8, 9, 10, 11, 12, 13, 14, 15, 16, 17, 18, 19, 4,\n",
       "    ],\n",
       ")\n",
       "knn = KNN(n_neighbors=86, weights=\"distance\")\n",
       "pipeline = (\n",
       "    (\n",
       "        (\n",
       "            numpy_column_selector_0\n",
       "            >> compress_strings\n",
       "            >> numpy_replace_missing_values_0\n",
       "            >> numpy_replace_unknown_values\n",
       "            >> boolean2float()\n",
       "            >> cat_imputer\n",
       "            >> cat_encoder\n",
       "            >> float32_transform()\n",
       "        )\n",
       "        & (\n",
       "            numpy_column_selector_1\n",
       "            >> float_str2_float\n",
       "            >> numpy_replace_missing_values_1\n",
       "            >> num_imputer\n",
       "            >> opt_standard_scaler\n",
       "            >> float32_transform()\n",
       "        )\n",
       "    )\n",
       "    >> ConcatFeatures()\n",
       "    >> numpy_permute_array\n",
       "    >> knn\n",
       ")\n",
       "```"
      ],
      "text/plain": [
       "<IPython.core.display.Markdown object>"
      ]
     },
     "metadata": {},
     "output_type": "display_data"
    }
   ],
   "source": [
    "pipeline_fairer.pretty_print(ipython_display=True, show_imports=False)"
   ]
  },
  {
   "cell_type": "markdown",
   "metadata": {
    "id": "ece028c2-eedc-4621-ac25-5c2b57e9e347"
   },
   "source": [
    "<a id=\"scoring\"></a>\n",
    "## 5. Deploy and Score\n",
    "In this section you will learn how to deploy and score Lale pipeline model using WML instance."
   ]
  },
  {
   "cell_type": "markdown",
   "metadata": {
    "id": "917b4c42-612a-4bbf-b61b-f3a4a64db69e"
   },
   "source": [
    "#### Custom software_specification"
   ]
  },
  {
   "cell_type": "markdown",
   "metadata": {
    "id": "369aeee3-6f99-4979-ae6a-40f5cce01b17"
   },
   "source": [
    "Created model is AutoAI model refined with Lale. We will create new software specification based on default Python 3.12 environment extended by  `autoai-libs` package."
   ]
  },
  {
   "cell_type": "code",
   "execution_count": 23,
   "metadata": {
    "id": "c79589e9-0891-42b9-87c6-c3f54ff5cd3a"
   },
   "outputs": [
    {
     "name": "stdout",
     "output_type": "stream",
     "text": [
      "Id of default Python 3.12 software specification is:  f47ae1c3-198e-5718-b59d-2ea471561e9e\n"
     ]
    }
   ],
   "source": [
    "base_sw_spec_id = client.software_specifications.get_id_by_name(\"runtime-25.1-py3.12\")\n",
    "print(\"Id of default Python 3.12 software specification is: \", base_sw_spec_id)"
   ]
  },
  {
   "cell_type": "markdown",
   "metadata": {
    "id": "242a8b11-65d1-4ef8-ae68-45fda9029c6c"
   },
   "source": [
    "Create the file defining dependencies of package extension."
   ]
  },
  {
   "cell_type": "code",
   "execution_count": 24,
   "metadata": {
    "id": "3ec06e19-2209-456e-a9cb-99ece202ffd9"
   },
   "outputs": [],
   "source": [
    "with open(\"requirements.txt\", \"w\") as file:\n",
    "    file.write(\"autoai-libs\")"
   ]
  },
  {
   "cell_type": "markdown",
   "metadata": {
    "id": "003277a7-067b-4f37-9925-a7b8439f32fe"
   },
   "source": [
    "The `requirements.txt` file describes details of package extention. Now you need to store new package extention with `APIClient`."
   ]
  },
  {
   "cell_type": "code",
   "execution_count": 25,
   "metadata": {
    "id": "21c00b50-bdfc-41e8-a4f3-0e006508f102"
   },
   "outputs": [
    {
     "name": "stdout",
     "output_type": "stream",
     "text": [
      "Creating package extensions\n",
      "SUCCESS\n"
     ]
    }
   ],
   "source": [
    "meta_prop_pkg_extn = {\n",
    "    client.package_extensions.ConfigurationMetaNames.NAME: \"Scikit with autoai-libs\",\n",
    "    client.package_extensions.ConfigurationMetaNames.DESCRIPTION: \"Package extension for autoai-libs\",\n",
    "    client.package_extensions.ConfigurationMetaNames.TYPE: \"requirements_txt\",\n",
    "}\n",
    "\n",
    "pkg_extn_details = client.package_extensions.store(\n",
    "    meta_props=meta_prop_pkg_extn, file_path=\"requirements.txt\"\n",
    ")\n",
    "pkg_extn_id = client.package_extensions.get_id(pkg_extn_details)\n",
    "pkg_extn_url = client.package_extensions.get_href(pkg_extn_details)"
   ]
  },
  {
   "cell_type": "markdown",
   "metadata": {
    "id": "e450de21-a1da-467c-b482-5fca2131e723"
   },
   "source": [
    "Create new software specification and add created package extention to it. "
   ]
  },
  {
   "cell_type": "code",
   "execution_count": 26,
   "metadata": {
    "id": "09618910-fd44-44e8-8d95-ff6a9c4b96b7"
   },
   "outputs": [
    {
     "name": "stdout",
     "output_type": "stream",
     "text": [
      "SUCCESS\n"
     ]
    }
   ],
   "source": [
    "meta_prop_sw_spec = {\n",
    "    client.software_specifications.ConfigurationMetaNames.NAME: \"Mitigated AutoAI bases on scikit spec\",\n",
    "    client.software_specifications.ConfigurationMetaNames.DESCRIPTION: \"Software specification for scikt with autoai-libs\",\n",
    "    client.software_specifications.ConfigurationMetaNames.BASE_SOFTWARE_SPECIFICATION: {\n",
    "        \"guid\": base_sw_spec_id\n",
    "    },\n",
    "}\n",
    "\n",
    "sw_spec_details = client.software_specifications.store(meta_props=meta_prop_sw_spec)\n",
    "sw_spec_id = client.software_specifications.get_id(sw_spec_details)\n",
    "\n",
    "\n",
    "status = client.software_specifications.add_package_extension(sw_spec_id, pkg_extn_id)"
   ]
  },
  {
   "cell_type": "markdown",
   "metadata": {
    "id": "9bc7c602-c1dc-42bc-9d58-786cae851cf1"
   },
   "source": [
    "You can get details of created software specification using `client.software_specifications.get_details(sw_spec_id)`"
   ]
  },
  {
   "cell_type": "markdown",
   "metadata": {
    "id": "084bbfe4-83e0-40af-b73b-edbfc5f3a361"
   },
   "source": [
    "### Store the model"
   ]
  },
  {
   "cell_type": "code",
   "execution_count": 27,
   "metadata": {
    "id": "a06f4002-1597-434b-a8d8-dfa4533b4253"
   },
   "outputs": [],
   "source": [
    "model_props = {\n",
    "    client.repository.ModelMetaNames.NAME: \"Fairer AutoAI model\",\n",
    "    client.repository.ModelMetaNames.TYPE: \"scikit-learn_1.6\",\n",
    "    client.repository.ModelMetaNames.SOFTWARE_SPEC_ID: sw_spec_id,\n",
    "}\n",
    "feature_vector = list(X.columns)"
   ]
  },
  {
   "cell_type": "code",
   "execution_count": 28,
   "metadata": {
    "id": "f8baa0b2-0d2e-4710-aa8d-228da2ff4f63"
   },
   "outputs": [],
   "source": [
    "published_model = client.repository.store_model(\n",
    "    model=best_pipeline.export_to_sklearn_pipeline(),\n",
    "    meta_props=model_props,\n",
    "    training_data=X_train.values,\n",
    "    training_target=y_train.values,\n",
    "    feature_names=feature_vector,\n",
    "    label_column_names=[\"Risk\"],\n",
    ")"
   ]
  },
  {
   "cell_type": "code",
   "execution_count": 29,
   "metadata": {
    "id": "ddf3ccfe-bcb7-4066-a8d3-bff77fb2d9ea"
   },
   "outputs": [],
   "source": [
    "published_model_id = client.repository.get_model_id(published_model)"
   ]
  },
  {
   "cell_type": "markdown",
   "metadata": {
    "id": "f3a19c39-4cf0-4303-87a2-48405c4cafc8"
   },
   "source": [
    "### Deployment creation"
   ]
  },
  {
   "cell_type": "code",
   "execution_count": 30,
   "metadata": {
    "id": "0239ab77-b3e0-4aeb-9882-a2064ec7e1ed"
   },
   "outputs": [
    {
     "name": "stdout",
     "output_type": "stream",
     "text": [
      "\n",
      "\n",
      "######################################################################################\n",
      "\n",
      "Synchronous deployment creation for id: '9bcbf6d8-c916-4124-a0c8-69d8861126b5' started\n",
      "\n",
      "######################################################################################\n",
      "\n",
      "\n",
      "initializing\n",
      "Note: online_url is deprecated and will be removed in a future release. Use serving_urls instead.\n",
      "......\n",
      "ready\n",
      "\n",
      "\n",
      "-----------------------------------------------------------------------------------------------\n",
      "Successfully finished deployment creation, deployment_id='e39d4142-4ef7-4b9d-b76b-9767e5857afa'\n",
      "-----------------------------------------------------------------------------------------------\n",
      "\n",
      "\n"
     ]
    }
   ],
   "source": [
    "metadata = {\n",
    "    client.deployments.ConfigurationMetaNames.NAME: \"Deployment of fairer model\",\n",
    "    client.deployments.ConfigurationMetaNames.ONLINE: {},\n",
    "}\n",
    "\n",
    "created_deployment = client.deployments.create(published_model_id, meta_props=metadata)"
   ]
  },
  {
   "cell_type": "code",
   "execution_count": 31,
   "metadata": {
    "id": "f39c7e31-1f4c-4a39-89fc-50f906525c46"
   },
   "outputs": [],
   "source": [
    "deployment_id = client.deployments.get_id(created_deployment)"
   ]
  },
  {
   "cell_type": "markdown",
   "metadata": {
    "id": "9dcd0e34-c979-416f-bf45-376e99c5314d"
   },
   "source": [
    "#### Deployment scoring "
   ]
  },
  {
   "cell_type": "markdown",
   "metadata": {
    "id": "c9ec9d55-99af-418d-bbf3-523a2578b1da"
   },
   "source": [
    "You need to pass scoring values as input data if the deployed model. Use `client.deployments.score()` method to get predictions from deployed model. "
   ]
  },
  {
   "cell_type": "code",
   "execution_count": 32,
   "metadata": {
    "id": "46996c3c-f5d3-46fd-974b-4ac2cf2105ac"
   },
   "outputs": [],
   "source": [
    "values = X_test.values\n",
    "\n",
    "scoring_payload = {\"input_data\": [{\"values\": values[:5]}]}"
   ]
  },
  {
   "cell_type": "code",
   "execution_count": 33,
   "metadata": {
    "id": "1ed9f254-d59a-4d23-ad34-21d1278ac421"
   },
   "outputs": [
    {
     "data": {
      "text/plain": [
       "{'predictions': [{'fields': ['prediction', 'probability'],\n",
       "   'values': [['No Risk', [0.8500537872314453, 0.1499462127685547]],\n",
       "    ['No Risk', [0.8045833110809326, 0.1954166740179062]],\n",
       "    ['No Risk', [0.8392647504806519, 0.16073521971702576]],\n",
       "    ['No Risk', [0.806576132774353, 0.19342388212680817]],\n",
       "    ['No Risk', [0.8146058917045593, 0.18539410829544067]]]}]}"
      ]
     },
     "execution_count": 33,
     "metadata": {},
     "output_type": "execute_result"
    }
   ],
   "source": [
    "predictions = client.deployments.score(deployment_id, scoring_payload)\n",
    "predictions"
   ]
  },
  {
   "cell_type": "markdown",
   "metadata": {
    "id": "829cd7d2-d945-4eba-92f5-c747d573a263"
   },
   "source": [
    "<a id=\"cleanup\"></a>\n",
    "## 6. Clean up"
   ]
  },
  {
   "cell_type": "markdown",
   "metadata": {
    "id": "5b874179-612e-4b29-94fe-978286e50f24"
   },
   "source": [
    "If you want to clean up all created assets:\n",
    "- experiments\n",
    "- trainings\n",
    "- pipelines\n",
    "- model definitions\n",
    "- models\n",
    "- functions\n",
    "- deployments\n",
    "\n",
    "please follow up this sample [notebook](https://github.com/IBM/watsonx-ai-samples/blob/master/cpd5.2/notebooks/python_sdk/instance-management/Machine%20Learning%20artifacts%20management.ipynb)."
   ]
  },
  {
   "cell_type": "markdown",
   "metadata": {
    "id": "f1c49c23-0148-4f2b-b301-29260f702ffd"
   },
   "source": [
    "<a id=\"summary\"></a>\n",
    "## 7. Summary and next steps"
   ]
  },
  {
   "cell_type": "markdown",
   "metadata": {
    "id": "9264a921-8491-470e-b304-520bf1f971f4"
   },
   "source": [
    " You successfully completed this notebook!\n",
    "\n",
    "Check out used packeges domuntations:\n",
    "- `ibm-watsonx-ai` [Online Documentation](https://ibm.github.io/watsonx-ai-python-sdk/index.html)\n",
    "- `lale`: https://github.com/IBM/lale\n",
    "- `aif360`: https://aif360.mybluemix.net/"
   ]
  },
  {
   "cell_type": "markdown",
   "metadata": {
    "id": "f0e20ca4-ecd5-4cda-9507-813411018891"
   },
   "source": [
    "### Authors \n",
    "\n",
    "**Dorota Lączak**, Software Engineer at watsonx.ai"
   ]
  },
  {
   "cell_type": "markdown",
   "metadata": {
    "id": "f07e49b5-e994-4dcc-8cf7-959adad50ca2"
   },
   "source": [
    "Copyright © 2020-2025 IBM. This notebook and its source code are released under the terms of the MIT License."
   ]
  }
 ],
 "metadata": {
  "kernelspec": {
   "display_name": "watsonx-ai-samples-py-312",
   "language": "python",
   "name": "python3"
  },
  "language_info": {
   "codemirror_mode": {
    "name": "ipython",
    "version": 3
   },
   "file_extension": ".py",
   "mimetype": "text/x-python",
   "name": "python",
   "nbconvert_exporter": "python",
   "pygments_lexer": "ipython3",
   "version": "3.12.9"
  }
 },
 "nbformat": 4,
 "nbformat_minor": 4
}

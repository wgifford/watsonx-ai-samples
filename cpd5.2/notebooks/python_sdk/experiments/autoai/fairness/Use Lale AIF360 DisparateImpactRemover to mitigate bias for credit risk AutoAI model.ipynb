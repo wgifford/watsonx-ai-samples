{
 "cells": [
  {
   "cell_type": "markdown",
   "metadata": {
    "id": "b3e24501-c23c-4de6-87d2-6bab1f27a18b"
   },
   "source": [
    "# Use `Lale` `AIF360` `DisparateImpactRemover` to  mitigate bias for credit risk AutoAI model"
   ]
  },
  {
   "cell_type": "markdown",
   "metadata": {
    "id": "14df328d-0a40-4423-9d19-86131834bb0f"
   },
   "source": [
    "This notebook contains the steps and code to demonstrate support of AutoAI experiments in watsonx.ai service. It introduces commands for bias detecting and mitigation performed with `lale.lib.aif360` module. \n",
    "\n",
    "Some familiarity with Python is helpful. This notebook uses Python 3.12.\n",
    "\n",
    "**NOTE:** The notebook is a continuation for sample notebook: <a href=\"https://github.com/IBM/watsonx-ai-samples/blob/master/cpd5.2/notebooks/python_sdk/experiments/autoai/fairness/Use%20AutoAI%20to%20train%20fair%20models.ipynb\" target=\"_blank\" rel=\"noopener no referrer\">\"Use AutoAI to train fair models\"</a>. "
   ]
  },
  {
   "cell_type": "markdown",
   "metadata": {
    "id": "d8418d25-f881-4093-9b35-81cdf1e925e4"
   },
   "source": [
    "## Contents\n",
    "\n",
    "This notebook contains the following parts:\n",
    "\n",
    "1. [Setup](#setup)\n",
    "2. [Load historical experiment](#definition)\n",
    "3. [Pipeline bias detection and mitigation](#bias)\n",
    "5. [Deployment and score](#scoring)\n",
    "6. [Clean up](#cleanup)\n",
    "7. [Summary and next steps](#summary)"
   ]
  },
  {
   "cell_type": "markdown",
   "metadata": {
    "id": "bea2138e-b866-4849-b50c-3fe90b47c698"
   },
   "source": [
    "<a id=\"setup\"></a>\n",
    "## 1. Set up the environment\n",
    "\n",
    "Before you use the sample code in this notebook, you must perform the following setup tasks:\n",
    "\n",
    "-  Contact with your Cloud Pak for Data administrator and ask them for your account credentials"
   ]
  },
  {
   "cell_type": "markdown",
   "metadata": {
    "id": "47be8241-b68a-4062-b65f-e1008af7eeef"
   },
   "source": [
    "### Install dependencies\n",
    "**Note:** `ibm-watsonx-ai` documentation can be found <a href=\"https://ibm.github.io/watsonx-ai-python-sdk/index.html\" target=\"_blank\" rel=\"noopener no referrer\">here</a>."
   ]
  },
  {
   "cell_type": "code",
   "execution_count": 1,
   "metadata": {
    "id": "d07b19a3-2a86-480b-94c8-afe95d0e751b"
   },
   "outputs": [
    {
     "name": "stdout",
     "output_type": "stream",
     "text": [
      "Successfully installed wget-3.2\n",
      "Successfully installed ibm-watsonx-ai-1.3.20\n",
      "Requirement already satisfied: threadpoolctl>=3.1.0 in /opt/user-env/pyt6/lib64/python3.12/site-packages (from scikit-learn==1.6.1) (3.6.0)\n",
      "\u001b[0mSuccessfully installed autoai-libs-3.0.3\n",
      "Successfully installed BlackBoxAuditing-0.1.54 aif360-0.6.1 imbalanced-learn-0.13.0 klepto-0.2.7 liac-arff-2.5.0 mystic-0.4.4 pox-0.3.6 sklearn-compat-0.1.3\n"
     ]
    }
   ],
   "source": [
    "%pip install -U wget | tail -n 1\n",
    "%pip install -U ibm-watsonx-ai | tail -n 1\n",
    "%pip install \"scikit-learn==1.6.1\" | tail -n 1\n",
    "%pip install -U \"autoai-libs==3.0.3\" | tail -n 1\n",
    "%pip install -U \"lale[fairness]\" | tail -n 1"
   ]
  },
  {
   "cell_type": "markdown",
   "metadata": {
    "id": "326f159f-7720-42e5-82fe-424471ac6678"
   },
   "source": [
    "#### Define credentials\n",
    "\n",
    "Authenticate the watsonx.ai Runtime service on IBM Cloud Pak for Data. You need to provide the **admin's** `username` and the platform `url`."
   ]
  },
  {
   "cell_type": "code",
   "execution_count": 2,
   "metadata": {
    "id": "48c33cf0-6688-4770-815c-be0de079c9c1"
   },
   "outputs": [],
   "source": [
    "username = \"PASTE YOUR USERNAME HERE\"\n",
    "url = \"PASTE THE PLATFORM URL HERE\""
   ]
  },
  {
   "cell_type": "markdown",
   "metadata": {
    "id": "bff29e4d-bfa6-483c-9387-ed6979fddc30"
   },
   "source": [
    "Use the **admin's** `api_key` to authenticate watsonx.ai Runtime services:"
   ]
  },
  {
   "cell_type": "code",
   "execution_count": null,
   "metadata": {
    "id": "427ec186-52db-4ee5-98e8-0c1bb573db20"
   },
   "outputs": [],
   "source": [
    "import getpass\n",
    "from ibm_watsonx_ai import Credentials\n",
    "\n",
    "credentials = Credentials(\n",
    "    username=username,\n",
    "    api_key=getpass.getpass(\"Enter your watsonx.ai API key and hit enter: \"),\n",
    "    url=url,\n",
    "    instance_id=\"openshift\",\n",
    "    version=\"5.2\",\n",
    ")"
   ]
  },
  {
   "cell_type": "markdown",
   "metadata": {
    "id": "8d90c7b6-52a3-40a7-a9dc-484c85cbc5b5"
   },
   "source": [
    "Alternatively you can use the **admin's** `password`:"
   ]
  },
  {
   "cell_type": "code",
   "execution_count": 3,
   "metadata": {
    "id": "b32147c7-5160-4bad-90b5-4259ded1cbdd"
   },
   "outputs": [
    {
     "name": "stdout",
     "output_type": "stream",
     "text": [
      "Enter your watsonx.ai password and hit enter:  ········\n"
     ]
    }
   ],
   "source": [
    "import getpass\n",
    "from ibm_watsonx_ai import Credentials\n",
    "\n",
    "if \"credentials\" not in locals() or not credentials.api_key:\n",
    "    credentials = Credentials(\n",
    "        username=username,\n",
    "        password=getpass.getpass(\"Enter your watsonx.ai password and hit enter: \"),\n",
    "        url=url,\n",
    "        instance_id=\"openshift\",\n",
    "        version=\"5.2\",\n",
    "    )"
   ]
  },
  {
   "cell_type": "markdown",
   "metadata": {
    "id": "010a69de-c2e5-45c4-a199-62919dd7655d"
   },
   "source": [
    "#### Create `APIClient` instance"
   ]
  },
  {
   "cell_type": "code",
   "execution_count": 4,
   "metadata": {
    "id": "d54f6ef3-c945-43f2-bf5d-4c6d6737f717"
   },
   "outputs": [],
   "source": [
    "from ibm_watsonx_ai import APIClient\n",
    "\n",
    "client = APIClient(credentials)"
   ]
  },
  {
   "cell_type": "markdown",
   "metadata": {
    "id": "fbfbe9ce-b4ef-426e-8935-13d934b2551c"
   },
   "source": [
    "### Working with spaces\n",
    "\n",
    "First of all, you need to create a space that will be used for your work. If you do not have space already created, you can use `{PLATFORM_URL}/ml-runtime/spaces?context=icp4data` to create one.\n",
    "\n",
    "- Click New Deployment Space\n",
    "- Create an empty space\n",
    "- Go to space `Settings` tab\n",
    "- Copy `space_id` and paste it below\n",
    "\n",
    "**Tip**: You can also use SDK to prepare the space for your work. More information can be found [here](https://github.com/IBM/watsonx-ai-samples/blob/master/cpd5.2/notebooks/python_sdk/instance-management/Space%20management.ipynb).\n",
    "\n",
    "**Action**: Assign space ID below\n"
   ]
  },
  {
   "cell_type": "code",
   "execution_count": 5,
   "metadata": {
    "id": "3b48bfa6-1d39-4260-8018-95c7cb6c9624"
   },
   "outputs": [],
   "source": [
    "space_id = \"PASTE YOUR SPACE ID HERE\""
   ]
  },
  {
   "cell_type": "markdown",
   "metadata": {
    "id": "6e123822-c973-496d-8dfd-a3809dc8c231"
   },
   "source": [
    "You can use the `list` method to print all existing spaces.\n"
   ]
  },
  {
   "cell_type": "code",
   "execution_count": null,
   "metadata": {
    "id": "13f24204-81b0-4eb9-9e32-f78ccacdc572"
   },
   "outputs": [],
   "source": [
    "client.spaces.list(limit=10)"
   ]
  },
  {
   "cell_type": "markdown",
   "metadata": {
    "id": "e8e7eb63-c6f2-48b8-8fb9-0936129ebf78"
   },
   "source": [
    "To be able to interact with all resources available in Watson Machine Learning, you need to set the **space** which you will be using."
   ]
  },
  {
   "cell_type": "code",
   "execution_count": 6,
   "metadata": {
    "id": "485457c2-66c1-4771-8c36-b81f390be78c"
   },
   "outputs": [
    {
     "data": {
      "text/plain": [
       "'SUCCESS'"
      ]
     },
     "execution_count": 6,
     "metadata": {},
     "output_type": "execute_result"
    }
   ],
   "source": [
    "client.set.default_space(space_id)"
   ]
  },
  {
   "cell_type": "markdown",
   "metadata": {
    "id": "d5d5a982-5916-4eed-8b7f-e7503eb28856"
   },
   "source": [
    "<a id=\"definition\"></a>\n",
    "## 2. Load historical experiment"
   ]
  },
  {
   "cell_type": "markdown",
   "metadata": {
    "id": "bb907121-6fd8-4803-a7bd-17b0442e2276"
   },
   "source": [
    "Initialize AutoAI experiment with watsonx.ai credentials and space.  "
   ]
  },
  {
   "cell_type": "code",
   "execution_count": 7,
   "metadata": {
    "id": "6272814a-07e3-4b8e-b34f-34f9800178b1"
   },
   "outputs": [],
   "source": [
    "from ibm_watsonx_ai.experiment import AutoAI\n",
    "\n",
    "experiment = AutoAI(credentials, space_id=space_id)"
   ]
  },
  {
   "cell_type": "markdown",
   "metadata": {
    "id": "4eaf7b94-5ad5-4a9d-b840-cd031d1467b4"
   },
   "source": [
    "List all previous AutoAI experiment runs named `'Credit Risk Prediction and bias detection - AutoAI'` which was run in sample notebook <a href=\"https://github.com/IBM/watsonx-ai-samples/blob/master/cpd5.2/notebooks/python_sdk/experiments/autoai/fairness/Use%20AutoAI%20to%20train%20fair%20models.ipynb\" target=\"_blank\" rel=\"noopener no referrer\">\"Use AutoAI to train fair models\"</a>. \n",
    "\n",
    "**NOTE:** If you don't have any experiment listed below please run the <a href=\"https://github.com/IBM/watsonx-ai-samples/blob/master/cpd5.2/notebooks/python_sdk/experiments/autoai/fairness/Use%20AutoAI%20to%20train%20fair%20models.ipynb\" target=\"_blank\" rel=\"noopener no referrer\">\"Use AutoAI to train fair models\"</a> notebook first and then continue running the current notebook. "
   ]
  },
  {
   "cell_type": "code",
   "execution_count": 8,
   "metadata": {
    "id": "711f9613-bc79-4d66-85a9-f0ad863ccabb"
   },
   "outputs": [
    {
     "data": {
      "text/html": [
       "<div>\n",
       "<style scoped>\n",
       "    .dataframe tbody tr th:only-of-type {\n",
       "        vertical-align: middle;\n",
       "    }\n",
       "\n",
       "    .dataframe tbody tr th {\n",
       "        vertical-align: top;\n",
       "    }\n",
       "\n",
       "    .dataframe thead th {\n",
       "        text-align: right;\n",
       "    }\n",
       "</style>\n",
       "<table border=\"1\" class=\"dataframe\">\n",
       "  <thead>\n",
       "    <tr style=\"text-align: right;\">\n",
       "      <th></th>\n",
       "      <th>timestamp</th>\n",
       "      <th>run_id</th>\n",
       "      <th>state</th>\n",
       "      <th>auto_pipeline_optimizer name</th>\n",
       "    </tr>\n",
       "  </thead>\n",
       "  <tbody>\n",
       "    <tr>\n",
       "      <th>0</th>\n",
       "      <td>2025-05-23T13:44:57.102Z</td>\n",
       "      <td>b7ee8857-8805-4d25-8456-b7aa8a366957</td>\n",
       "      <td>completed</td>\n",
       "      <td>Credit Risk Prediction and bias detection - Au...</td>\n",
       "    </tr>\n",
       "    <tr>\n",
       "      <th>1</th>\n",
       "      <td>2025-05-23T12:44:26.982Z</td>\n",
       "      <td>a3ce47c9-3da6-481f-9a71-59775dae5ecc</td>\n",
       "      <td>completed</td>\n",
       "      <td>Credit Risk Prediction and bias detection - Au...</td>\n",
       "    </tr>\n",
       "    <tr>\n",
       "      <th>2</th>\n",
       "      <td>2025-05-23T12:37:45.995Z</td>\n",
       "      <td>6f823c4e-17ff-4e59-96da-8a9d363db433</td>\n",
       "      <td>completed</td>\n",
       "      <td>Credit Risk Prediction and bias detection - Au...</td>\n",
       "    </tr>\n",
       "    <tr>\n",
       "      <th>3</th>\n",
       "      <td>2025-05-23T11:59:18.516Z</td>\n",
       "      <td>5ab6871d-e40b-4204-aa64-81611f60f36d</td>\n",
       "      <td>completed</td>\n",
       "      <td>Credit Risk Prediction and bias detection - Au...</td>\n",
       "    </tr>\n",
       "  </tbody>\n",
       "</table>\n",
       "</div>"
      ],
      "text/plain": [
       "                  timestamp                                run_id      state  \\\n",
       "0  2025-05-23T13:44:57.102Z  b7ee8857-8805-4d25-8456-b7aa8a366957  completed   \n",
       "1  2025-05-23T12:44:26.982Z  a3ce47c9-3da6-481f-9a71-59775dae5ecc  completed   \n",
       "2  2025-05-23T12:37:45.995Z  6f823c4e-17ff-4e59-96da-8a9d363db433  completed   \n",
       "3  2025-05-23T11:59:18.516Z  5ab6871d-e40b-4204-aa64-81611f60f36d  completed   \n",
       "\n",
       "                        auto_pipeline_optimizer name  \n",
       "0  Credit Risk Prediction and bias detection - Au...  \n",
       "1  Credit Risk Prediction and bias detection - Au...  \n",
       "2  Credit Risk Prediction and bias detection - Au...  \n",
       "3  Credit Risk Prediction and bias detection - Au...  "
      ]
     },
     "execution_count": 8,
     "metadata": {},
     "output_type": "execute_result"
    }
   ],
   "source": [
    "autoai_experiment_name = \"Credit Risk Prediction and bias detection - AutoAI\"\n",
    "\n",
    "historical_experiments = experiment.runs(filter=autoai_experiment_name).list()\n",
    "historical_experiments"
   ]
  },
  {
   "cell_type": "markdown",
   "metadata": {
    "id": "4172daa7-a0a9-4655-8675-f51aa69b3829"
   },
   "source": [
    "Load last experiment run to variable `pipeline_optimizer`."
   ]
  },
  {
   "cell_type": "code",
   "execution_count": 9,
   "metadata": {
    "id": "015cbb94-5d13-4dd3-96fb-39ec1f56625a"
   },
   "outputs": [],
   "source": [
    "run_id = historical_experiments.run_id[0]\n",
    "\n",
    "pipeline_optimizer = experiment.runs.get_optimizer(run_id)"
   ]
  },
  {
   "cell_type": "code",
   "execution_count": 10,
   "metadata": {
    "id": "b8939233-6706-47b6-b272-b295f7e01b48"
   },
   "outputs": [
    {
     "data": {
      "text/html": [
       "<div>\n",
       "<style scoped>\n",
       "    .dataframe tbody tr th:only-of-type {\n",
       "        vertical-align: middle;\n",
       "    }\n",
       "\n",
       "    .dataframe tbody tr th {\n",
       "        vertical-align: top;\n",
       "    }\n",
       "\n",
       "    .dataframe thead th {\n",
       "        text-align: right;\n",
       "    }\n",
       "</style>\n",
       "<table border=\"1\" class=\"dataframe\">\n",
       "  <thead>\n",
       "    <tr style=\"text-align: right;\">\n",
       "      <th></th>\n",
       "      <th>Enhancements</th>\n",
       "      <th>Estimator</th>\n",
       "      <th>training_accuracy_and_disparate_impact_(optimized)</th>\n",
       "      <th>training_disparate_impact_Sex</th>\n",
       "      <th>training_roc_auc</th>\n",
       "      <th>holdout_disparate_impact_Sex</th>\n",
       "      <th>holdout_average_precision</th>\n",
       "      <th>holdout_log_loss</th>\n",
       "      <th>holdout_roc_auc</th>\n",
       "      <th>training_disparate_impact</th>\n",
       "      <th>...</th>\n",
       "      <th>holdout_accuracy</th>\n",
       "      <th>holdout_balanced_accuracy</th>\n",
       "      <th>training_recall</th>\n",
       "      <th>holdout_f1</th>\n",
       "      <th>training_accuracy</th>\n",
       "      <th>holdout_disparate_impact</th>\n",
       "      <th>training_balanced_accuracy</th>\n",
       "      <th>holdout_disparate_impact_Age</th>\n",
       "      <th>training_f1</th>\n",
       "      <th>training_disparate_impact_Age</th>\n",
       "    </tr>\n",
       "    <tr>\n",
       "      <th>Pipeline Name</th>\n",
       "      <th></th>\n",
       "      <th></th>\n",
       "      <th></th>\n",
       "      <th></th>\n",
       "      <th></th>\n",
       "      <th></th>\n",
       "      <th></th>\n",
       "      <th></th>\n",
       "      <th></th>\n",
       "      <th></th>\n",
       "      <th></th>\n",
       "      <th></th>\n",
       "      <th></th>\n",
       "      <th></th>\n",
       "      <th></th>\n",
       "      <th></th>\n",
       "      <th></th>\n",
       "      <th></th>\n",
       "      <th></th>\n",
       "      <th></th>\n",
       "      <th></th>\n",
       "    </tr>\n",
       "  </thead>\n",
       "  <tbody>\n",
       "    <tr>\n",
       "      <th>Pipeline_1</th>\n",
       "      <td></td>\n",
       "      <td>XGBClassifier</td>\n",
       "      <td>0.676887</td>\n",
       "      <td>1.009581</td>\n",
       "      <td>0.846120</td>\n",
       "      <td>1.046499</td>\n",
       "      <td>0.480936</td>\n",
       "      <td>0.419151</td>\n",
       "      <td>0.855620</td>\n",
       "      <td>1.825512</td>\n",
       "      <td>...</td>\n",
       "      <td>0.811623</td>\n",
       "      <td>0.754275</td>\n",
       "      <td>0.894970</td>\n",
       "      <td>0.867606</td>\n",
       "      <td>0.796567</td>\n",
       "      <td>1.431694</td>\n",
       "      <td>0.748223</td>\n",
       "      <td>1.426056</td>\n",
       "      <td>0.853965</td>\n",
       "      <td>2.329145</td>\n",
       "    </tr>\n",
       "    <tr>\n",
       "      <th>Pipeline_2</th>\n",
       "      <td>HPO</td>\n",
       "      <td>XGBClassifier</td>\n",
       "      <td>0.676887</td>\n",
       "      <td>1.009581</td>\n",
       "      <td>0.846120</td>\n",
       "      <td>1.046499</td>\n",
       "      <td>0.480936</td>\n",
       "      <td>0.419151</td>\n",
       "      <td>0.855620</td>\n",
       "      <td>1.825512</td>\n",
       "      <td>...</td>\n",
       "      <td>0.811623</td>\n",
       "      <td>0.754275</td>\n",
       "      <td>0.894970</td>\n",
       "      <td>0.867606</td>\n",
       "      <td>0.796567</td>\n",
       "      <td>1.431694</td>\n",
       "      <td>0.748223</td>\n",
       "      <td>1.426056</td>\n",
       "      <td>0.853965</td>\n",
       "      <td>2.329145</td>\n",
       "    </tr>\n",
       "    <tr>\n",
       "      <th>Pipeline_3</th>\n",
       "      <td>HPO, FE</td>\n",
       "      <td>XGBClassifier</td>\n",
       "      <td>0.681126</td>\n",
       "      <td>1.009843</td>\n",
       "      <td>0.846576</td>\n",
       "      <td>1.057825</td>\n",
       "      <td>0.481095</td>\n",
       "      <td>0.416944</td>\n",
       "      <td>0.855187</td>\n",
       "      <td>1.787199</td>\n",
       "      <td>...</td>\n",
       "      <td>0.809619</td>\n",
       "      <td>0.755745</td>\n",
       "      <td>0.892283</td>\n",
       "      <td>0.865248</td>\n",
       "      <td>0.795004</td>\n",
       "      <td>1.463687</td>\n",
       "      <td>0.747200</td>\n",
       "      <td>1.451613</td>\n",
       "      <td>0.852646</td>\n",
       "      <td>2.286728</td>\n",
       "    </tr>\n",
       "    <tr>\n",
       "      <th>Pipeline_4</th>\n",
       "      <td>HPO, FE, HPO</td>\n",
       "      <td>XGBClassifier</td>\n",
       "      <td>0.681126</td>\n",
       "      <td>1.009843</td>\n",
       "      <td>0.846576</td>\n",
       "      <td>1.057825</td>\n",
       "      <td>0.481095</td>\n",
       "      <td>0.416944</td>\n",
       "      <td>0.855187</td>\n",
       "      <td>1.787199</td>\n",
       "      <td>...</td>\n",
       "      <td>0.809619</td>\n",
       "      <td>0.755745</td>\n",
       "      <td>0.892283</td>\n",
       "      <td>0.865248</td>\n",
       "      <td>0.795004</td>\n",
       "      <td>1.463687</td>\n",
       "      <td>0.747200</td>\n",
       "      <td>1.451613</td>\n",
       "      <td>0.852646</td>\n",
       "      <td>2.286728</td>\n",
       "    </tr>\n",
       "    <tr>\n",
       "      <th>Pipeline_5</th>\n",
       "      <td>HPO, FE, HPO, Ensemble</td>\n",
       "      <td>BatchedTreeEnsembleClassifier(XGBClassifier)</td>\n",
       "      <td>0.681126</td>\n",
       "      <td>1.009843</td>\n",
       "      <td>0.846576</td>\n",
       "      <td>1.057825</td>\n",
       "      <td>0.481095</td>\n",
       "      <td>0.416944</td>\n",
       "      <td>0.855187</td>\n",
       "      <td>1.787199</td>\n",
       "      <td>...</td>\n",
       "      <td>0.809619</td>\n",
       "      <td>0.755745</td>\n",
       "      <td>0.892283</td>\n",
       "      <td>0.865248</td>\n",
       "      <td>0.795004</td>\n",
       "      <td>1.463687</td>\n",
       "      <td>0.747200</td>\n",
       "      <td>1.451613</td>\n",
       "      <td>0.852646</td>\n",
       "      <td>2.286728</td>\n",
       "    </tr>\n",
       "  </tbody>\n",
       "</table>\n",
       "<p>5 rows × 26 columns</p>\n",
       "</div>"
      ],
      "text/plain": [
       "                         Enhancements  \\\n",
       "Pipeline Name                           \n",
       "Pipeline_1                              \n",
       "Pipeline_2                        HPO   \n",
       "Pipeline_3                    HPO, FE   \n",
       "Pipeline_4               HPO, FE, HPO   \n",
       "Pipeline_5     HPO, FE, HPO, Ensemble   \n",
       "\n",
       "                                                  Estimator  \\\n",
       "Pipeline Name                                                 \n",
       "Pipeline_1                                    XGBClassifier   \n",
       "Pipeline_2                                    XGBClassifier   \n",
       "Pipeline_3                                    XGBClassifier   \n",
       "Pipeline_4                                    XGBClassifier   \n",
       "Pipeline_5     BatchedTreeEnsembleClassifier(XGBClassifier)   \n",
       "\n",
       "               training_accuracy_and_disparate_impact_(optimized)  \\\n",
       "Pipeline Name                                                       \n",
       "Pipeline_1                                              0.676887    \n",
       "Pipeline_2                                              0.676887    \n",
       "Pipeline_3                                              0.681126    \n",
       "Pipeline_4                                              0.681126    \n",
       "Pipeline_5                                              0.681126    \n",
       "\n",
       "               training_disparate_impact_Sex  training_roc_auc  \\\n",
       "Pipeline Name                                                    \n",
       "Pipeline_1                          1.009581          0.846120   \n",
       "Pipeline_2                          1.009581          0.846120   \n",
       "Pipeline_3                          1.009843          0.846576   \n",
       "Pipeline_4                          1.009843          0.846576   \n",
       "Pipeline_5                          1.009843          0.846576   \n",
       "\n",
       "               holdout_disparate_impact_Sex  holdout_average_precision  \\\n",
       "Pipeline Name                                                            \n",
       "Pipeline_1                         1.046499                   0.480936   \n",
       "Pipeline_2                         1.046499                   0.480936   \n",
       "Pipeline_3                         1.057825                   0.481095   \n",
       "Pipeline_4                         1.057825                   0.481095   \n",
       "Pipeline_5                         1.057825                   0.481095   \n",
       "\n",
       "               holdout_log_loss  holdout_roc_auc  training_disparate_impact  \\\n",
       "Pipeline Name                                                                 \n",
       "Pipeline_1             0.419151         0.855620                   1.825512   \n",
       "Pipeline_2             0.419151         0.855620                   1.825512   \n",
       "Pipeline_3             0.416944         0.855187                   1.787199   \n",
       "Pipeline_4             0.416944         0.855187                   1.787199   \n",
       "Pipeline_5             0.416944         0.855187                   1.787199   \n",
       "\n",
       "               ...  holdout_accuracy  holdout_balanced_accuracy  \\\n",
       "Pipeline Name  ...                                                \n",
       "Pipeline_1     ...          0.811623                   0.754275   \n",
       "Pipeline_2     ...          0.811623                   0.754275   \n",
       "Pipeline_3     ...          0.809619                   0.755745   \n",
       "Pipeline_4     ...          0.809619                   0.755745   \n",
       "Pipeline_5     ...          0.809619                   0.755745   \n",
       "\n",
       "               training_recall  holdout_f1  training_accuracy  \\\n",
       "Pipeline Name                                                   \n",
       "Pipeline_1            0.894970    0.867606           0.796567   \n",
       "Pipeline_2            0.894970    0.867606           0.796567   \n",
       "Pipeline_3            0.892283    0.865248           0.795004   \n",
       "Pipeline_4            0.892283    0.865248           0.795004   \n",
       "Pipeline_5            0.892283    0.865248           0.795004   \n",
       "\n",
       "               holdout_disparate_impact  training_balanced_accuracy  \\\n",
       "Pipeline Name                                                         \n",
       "Pipeline_1                     1.431694                    0.748223   \n",
       "Pipeline_2                     1.431694                    0.748223   \n",
       "Pipeline_3                     1.463687                    0.747200   \n",
       "Pipeline_4                     1.463687                    0.747200   \n",
       "Pipeline_5                     1.463687                    0.747200   \n",
       "\n",
       "               holdout_disparate_impact_Age  training_f1  \\\n",
       "Pipeline Name                                              \n",
       "Pipeline_1                         1.426056     0.853965   \n",
       "Pipeline_2                         1.426056     0.853965   \n",
       "Pipeline_3                         1.451613     0.852646   \n",
       "Pipeline_4                         1.451613     0.852646   \n",
       "Pipeline_5                         1.451613     0.852646   \n",
       "\n",
       "               training_disparate_impact_Age  \n",
       "Pipeline Name                                 \n",
       "Pipeline_1                          2.329145  \n",
       "Pipeline_2                          2.329145  \n",
       "Pipeline_3                          2.286728  \n",
       "Pipeline_4                          2.286728  \n",
       "Pipeline_5                          2.286728  \n",
       "\n",
       "[5 rows x 26 columns]"
      ]
     },
     "execution_count": 10,
     "metadata": {},
     "output_type": "execute_result"
    }
   ],
   "source": [
    "summary = pipeline_optimizer.summary()\n",
    "summary"
   ]
  },
  {
   "cell_type": "markdown",
   "metadata": {
    "id": "582b3245-acde-4127-a227-84399d4e4ae4"
   },
   "source": [
    "### Get selected pipeline model\n",
    "\n",
    "Download pipeline model object from the AutoAI training job."
   ]
  },
  {
   "cell_type": "code",
   "execution_count": 11,
   "metadata": {
    "id": "56ae6222-a30d-4e19-934b-e70077a195ae"
   },
   "outputs": [],
   "source": [
    "best_pipeline = pipeline_optimizer.get_pipeline()"
   ]
  },
  {
   "cell_type": "markdown",
   "metadata": {
    "id": "47345fcc-1f88-4719-bc53-c6f2b1b72383"
   },
   "source": [
    "### Get Credit Risk dataset from experiment configuration. "
   ]
  },
  {
   "cell_type": "code",
   "execution_count": 12,
   "metadata": {
    "id": "ee9cc2ed-01b2-4228-92d0-001038c6138a"
   },
   "outputs": [
    {
     "data": {
      "text/html": [
       "<div>\n",
       "<style scoped>\n",
       "    .dataframe tbody tr th:only-of-type {\n",
       "        vertical-align: middle;\n",
       "    }\n",
       "\n",
       "    .dataframe tbody tr th {\n",
       "        vertical-align: top;\n",
       "    }\n",
       "\n",
       "    .dataframe thead th {\n",
       "        text-align: right;\n",
       "    }\n",
       "</style>\n",
       "<table border=\"1\" class=\"dataframe\">\n",
       "  <thead>\n",
       "    <tr style=\"text-align: right;\">\n",
       "      <th></th>\n",
       "      <th>CheckingStatus</th>\n",
       "      <th>LoanDuration</th>\n",
       "      <th>CreditHistory</th>\n",
       "      <th>LoanPurpose</th>\n",
       "      <th>LoanAmount</th>\n",
       "      <th>ExistingSavings</th>\n",
       "      <th>EmploymentDuration</th>\n",
       "      <th>InstallmentPercent</th>\n",
       "      <th>Sex</th>\n",
       "      <th>OthersOnLoan</th>\n",
       "      <th>CurrentResidenceDuration</th>\n",
       "      <th>OwnsProperty</th>\n",
       "      <th>Age</th>\n",
       "      <th>InstallmentPlans</th>\n",
       "      <th>Housing</th>\n",
       "      <th>ExistingCreditsCount</th>\n",
       "      <th>Job</th>\n",
       "      <th>Dependents</th>\n",
       "      <th>Telephone</th>\n",
       "      <th>ForeignWorker</th>\n",
       "    </tr>\n",
       "  </thead>\n",
       "  <tbody>\n",
       "    <tr>\n",
       "      <th>13</th>\n",
       "      <td>0_to_200</td>\n",
       "      <td>29.0</td>\n",
       "      <td>credits_paid_to_date</td>\n",
       "      <td>furniture</td>\n",
       "      <td>3705.0</td>\n",
       "      <td>less_100</td>\n",
       "      <td>less_1</td>\n",
       "      <td>3.0</td>\n",
       "      <td>female</td>\n",
       "      <td>co-applicant</td>\n",
       "      <td>3.0</td>\n",
       "      <td>car_other</td>\n",
       "      <td>44.0</td>\n",
       "      <td>none</td>\n",
       "      <td>own</td>\n",
       "      <td>1.0</td>\n",
       "      <td>skilled</td>\n",
       "      <td>1.0</td>\n",
       "      <td>none</td>\n",
       "      <td>yes</td>\n",
       "    </tr>\n",
       "    <tr>\n",
       "      <th>31</th>\n",
       "      <td>no_checking</td>\n",
       "      <td>26.0</td>\n",
       "      <td>prior_payments_delayed</td>\n",
       "      <td>appliances</td>\n",
       "      <td>4391.0</td>\n",
       "      <td>500_to_1000</td>\n",
       "      <td>greater_7</td>\n",
       "      <td>4.0</td>\n",
       "      <td>female</td>\n",
       "      <td>none</td>\n",
       "      <td>3.0</td>\n",
       "      <td>car_other</td>\n",
       "      <td>39.0</td>\n",
       "      <td>stores</td>\n",
       "      <td>own</td>\n",
       "      <td>2.0</td>\n",
       "      <td>unskilled</td>\n",
       "      <td>2.0</td>\n",
       "      <td>yes</td>\n",
       "      <td>yes</td>\n",
       "    </tr>\n",
       "    <tr>\n",
       "      <th>3673</th>\n",
       "      <td>less_0</td>\n",
       "      <td>20.0</td>\n",
       "      <td>credits_paid_to_date</td>\n",
       "      <td>retraining</td>\n",
       "      <td>4683.0</td>\n",
       "      <td>less_100</td>\n",
       "      <td>4_to_7</td>\n",
       "      <td>2.0</td>\n",
       "      <td>male</td>\n",
       "      <td>none</td>\n",
       "      <td>1.0</td>\n",
       "      <td>savings_insurance</td>\n",
       "      <td>46.0</td>\n",
       "      <td>stores</td>\n",
       "      <td>free</td>\n",
       "      <td>1.0</td>\n",
       "      <td>skilled</td>\n",
       "      <td>1.0</td>\n",
       "      <td>yes</td>\n",
       "      <td>yes</td>\n",
       "    </tr>\n",
       "    <tr>\n",
       "      <th>3611</th>\n",
       "      <td>no_checking</td>\n",
       "      <td>25.0</td>\n",
       "      <td>prior_payments_delayed</td>\n",
       "      <td>car_used</td>\n",
       "      <td>5426.0</td>\n",
       "      <td>500_to_1000</td>\n",
       "      <td>4_to_7</td>\n",
       "      <td>4.0</td>\n",
       "      <td>male</td>\n",
       "      <td>none</td>\n",
       "      <td>3.0</td>\n",
       "      <td>car_other</td>\n",
       "      <td>41.0</td>\n",
       "      <td>none</td>\n",
       "      <td>own</td>\n",
       "      <td>1.0</td>\n",
       "      <td>skilled</td>\n",
       "      <td>1.0</td>\n",
       "      <td>none</td>\n",
       "      <td>yes</td>\n",
       "    </tr>\n",
       "    <tr>\n",
       "      <th>433</th>\n",
       "      <td>greater_200</td>\n",
       "      <td>34.0</td>\n",
       "      <td>prior_payments_delayed</td>\n",
       "      <td>furniture</td>\n",
       "      <td>5470.0</td>\n",
       "      <td>100_to_500</td>\n",
       "      <td>4_to_7</td>\n",
       "      <td>4.0</td>\n",
       "      <td>male</td>\n",
       "      <td>none</td>\n",
       "      <td>4.0</td>\n",
       "      <td>car_other</td>\n",
       "      <td>33.0</td>\n",
       "      <td>none</td>\n",
       "      <td>own</td>\n",
       "      <td>2.0</td>\n",
       "      <td>skilled</td>\n",
       "      <td>1.0</td>\n",
       "      <td>none</td>\n",
       "      <td>no</td>\n",
       "    </tr>\n",
       "  </tbody>\n",
       "</table>\n",
       "</div>"
      ],
      "text/plain": [
       "     CheckingStatus  LoanDuration           CreditHistory LoanPurpose  \\\n",
       "13         0_to_200          29.0    credits_paid_to_date   furniture   \n",
       "31      no_checking          26.0  prior_payments_delayed  appliances   \n",
       "3673         less_0          20.0    credits_paid_to_date  retraining   \n",
       "3611    no_checking          25.0  prior_payments_delayed    car_used   \n",
       "433     greater_200          34.0  prior_payments_delayed   furniture   \n",
       "\n",
       "      LoanAmount ExistingSavings EmploymentDuration  InstallmentPercent  \\\n",
       "13        3705.0        less_100             less_1                 3.0   \n",
       "31        4391.0     500_to_1000          greater_7                 4.0   \n",
       "3673      4683.0        less_100             4_to_7                 2.0   \n",
       "3611      5426.0     500_to_1000             4_to_7                 4.0   \n",
       "433       5470.0      100_to_500             4_to_7                 4.0   \n",
       "\n",
       "         Sex  OthersOnLoan  CurrentResidenceDuration       OwnsProperty   Age  \\\n",
       "13    female  co-applicant                       3.0          car_other  44.0   \n",
       "31    female          none                       3.0          car_other  39.0   \n",
       "3673    male          none                       1.0  savings_insurance  46.0   \n",
       "3611    male          none                       3.0          car_other  41.0   \n",
       "433     male          none                       4.0          car_other  33.0   \n",
       "\n",
       "     InstallmentPlans Housing  ExistingCreditsCount        Job  Dependents  \\\n",
       "13               none     own                   1.0    skilled         1.0   \n",
       "31             stores     own                   2.0  unskilled         2.0   \n",
       "3673           stores    free                   1.0    skilled         1.0   \n",
       "3611             none     own                   1.0    skilled         1.0   \n",
       "433              none     own                   2.0    skilled         1.0   \n",
       "\n",
       "     Telephone ForeignWorker  \n",
       "13        none           yes  \n",
       "31         yes           yes  \n",
       "3673       yes           yes  \n",
       "3611      none           yes  \n",
       "433       none            no  "
      ]
     },
     "execution_count": 12,
     "metadata": {},
     "output_type": "execute_result"
    }
   ],
   "source": [
    "data_connections = pipeline_optimizer.get_data_connections()\n",
    "\n",
    "X_train, X_holdout, y_train, y_holdout = data_connections[0].read(\n",
    "    with_holdout_split=True\n",
    ")\n",
    "\n",
    "X_holdout.head()"
   ]
  },
  {
   "cell_type": "markdown",
   "metadata": {
    "id": "d009a0f3-c977-422e-8139-acf482a86cce"
   },
   "source": [
    "<a id=\"bias\"></a>\n",
    "## 3. Bias detection and mitigation\n",
    "\n",
    "The `fairness_info` dictionary contains some fairness-related metadata. The favorable and unfavorable label are values of the target class column that indicate whether the loan was granted or denied. A protected attribute is a feature that partitions the population into groups whose outcome should have parity. The credit-risk dataset has two protected attribute columns, sex and age. Each prottected attributes has monitored and reference group.\n"
   ]
  },
  {
   "cell_type": "code",
   "execution_count": 13,
   "metadata": {
    "id": "283dfc5d-5b2b-4730-ae3f-605ebef25263"
   },
   "outputs": [
    {
     "data": {
      "text/plain": [
       "{'favorable_labels': ['No Risk'],\n",
       " 'protected_attributes': [{'feature': 'Sex',\n",
       "   'monitored_group': ['female'],\n",
       "   'reference_group': ['male']},\n",
       "  {'feature': 'Age',\n",
       "   'monitored_group': [[18, 25]],\n",
       "   'reference_group': [[26, 75]]}],\n",
       " 'unfavorable_labels': ['Risk']}"
      ]
     },
     "execution_count": 13,
     "metadata": {},
     "output_type": "execute_result"
    }
   ],
   "source": [
    "fairness_info = pipeline_optimizer.get_params()[\"fairness_info\"]\n",
    "fairness_info"
   ]
  },
  {
   "cell_type": "markdown",
   "metadata": {
    "id": "3d0738b4-b849-4546-80cc-3438b0a95197"
   },
   "source": [
    "### Calculate fairness metrics"
   ]
  },
  {
   "cell_type": "markdown",
   "metadata": {
    "id": "ad9ee57e-7dd6-4b41-bf32-8e6889cd2c69"
   },
   "source": [
    "We will calculate some model metrics. Accuracy describes how accurate is the model according to dataset. \n",
    "Disparate impact is defined by comparing outcomes between a privileged group and an unprivileged group, \n",
    "so it needs to check the protected attribute to determine group membership for the sample record at hand. The closer to 1 is the value of disparate impact the less biased is the model. \n",
    "The third calculated metric takes the disparate impact into account along with accuracy. The best value of the score is 1.0."
   ]
  },
  {
   "cell_type": "code",
   "execution_count": 14,
   "metadata": {
    "id": "bbbadd42-b09b-4c8d-899c-3ab4e0d7dd9c"
   },
   "outputs": [
    {
     "name": "stdout",
     "output_type": "stream",
     "text": [
      "accuracy 81.2%\n",
      "disparate impact 1.43\n",
      "accuracy and disparate impact metric 0.76\n"
     ]
    }
   ],
   "source": [
    "import sklearn.metrics\n",
    "from lale.lib.aif360 import disparate_impact, accuracy_and_disparate_impact\n",
    "\n",
    "accuracy_scorer = sklearn.metrics.make_scorer(sklearn.metrics.accuracy_score)\n",
    "print(f\"accuracy {accuracy_scorer(best_pipeline, X_holdout, y_holdout):.1%}\")\n",
    "\n",
    "disparate_impact_scorer = disparate_impact(**fairness_info)\n",
    "print(\n",
    "    f\"disparate impact {disparate_impact_scorer(best_pipeline, X_holdout, y_holdout):.2f}\"\n",
    ")\n",
    "\n",
    "combined_scorer = accuracy_and_disparate_impact(**fairness_info)\n",
    "print(\n",
    "    f\"accuracy and disparate impact metric {combined_scorer(best_pipeline, X_holdout, y_holdout):.2f}\"\n",
    ")"
   ]
  },
  {
   "cell_type": "markdown",
   "metadata": {
    "id": "0d67167f-4ad0-4bce-9a28-7a99bdd2ee7a"
   },
   "source": [
    "## Refinery with lale"
   ]
  },
  {
   "cell_type": "markdown",
   "metadata": {
    "id": "2fca4d1f-15e5-4a12-a34e-c183501fbd2f"
   },
   "source": [
    "In this section we will use `DisparateImpactRemover` algorithm for mitigating fairness problems from `lale.lib.aif360` module. It modifies the features that are not the protected attribute in such a way that it is hard to predict the protected attribute from them. This algorithm has a hyperparameter `repair_level` that we will tune with hyperparameter optimization."
   ]
  },
  {
   "cell_type": "code",
   "execution_count": 15,
   "metadata": {
    "id": "1f516e20-fa3e-4f32-b6ff-ba0305bab34c"
   },
   "outputs": [
    {
     "data": {
      "text/markdown": [
       "```python\n",
       "{\n",
       "    \"description\": \"Repair amount from 0 = none to 1 = full.\",\n",
       "    \"type\": \"number\",\n",
       "    \"minimum\": 0,\n",
       "    \"maximum\": 1,\n",
       "    \"default\": 1,\n",
       "}\n",
       "```"
      ],
      "text/plain": [
       "<IPython.core.display.Markdown object>"
      ]
     },
     "metadata": {},
     "output_type": "display_data"
    }
   ],
   "source": [
    "from lale.lib.aif360 import DisparateImpactRemover\n",
    "from lale.pretty_print import ipython_display\n",
    "\n",
    "ipython_display(DisparateImpactRemover.hyperparam_schema(\"repair_level\"))"
   ]
  },
  {
   "cell_type": "markdown",
   "metadata": {
    "id": "764957eb-146c-4e41-afd9-ebd191460e26"
   },
   "source": [
    "### Pipeline decomposition and new definition\n",
    "\n",
    "Start by removing the last step of the pipeline, i.e., the final estimator."
   ]
  },
  {
   "cell_type": "code",
   "execution_count": 16,
   "metadata": {
    "id": "7c6f5a59-cd83-4666-86c6-954ebacab31e"
   },
   "outputs": [
    {
     "data": {
      "text/html": [
       "<style>#sk-container-id-1 {\n",
       "  /* Definition of color scheme common for light and dark mode */\n",
       "  --sklearn-color-text: #000;\n",
       "  --sklearn-color-text-muted: #666;\n",
       "  --sklearn-color-line: gray;\n",
       "  /* Definition of color scheme for unfitted estimators */\n",
       "  --sklearn-color-unfitted-level-0: #fff5e6;\n",
       "  --sklearn-color-unfitted-level-1: #f6e4d2;\n",
       "  --sklearn-color-unfitted-level-2: #ffe0b3;\n",
       "  --sklearn-color-unfitted-level-3: chocolate;\n",
       "  /* Definition of color scheme for fitted estimators */\n",
       "  --sklearn-color-fitted-level-0: #f0f8ff;\n",
       "  --sklearn-color-fitted-level-1: #d4ebff;\n",
       "  --sklearn-color-fitted-level-2: #b3dbfd;\n",
       "  --sklearn-color-fitted-level-3: cornflowerblue;\n",
       "\n",
       "  /* Specific color for light theme */\n",
       "  --sklearn-color-text-on-default-background: var(--sg-text-color, var(--theme-code-foreground, var(--jp-content-font-color1, black)));\n",
       "  --sklearn-color-background: var(--sg-background-color, var(--theme-background, var(--jp-layout-color0, white)));\n",
       "  --sklearn-color-border-box: var(--sg-text-color, var(--theme-code-foreground, var(--jp-content-font-color1, black)));\n",
       "  --sklearn-color-icon: #696969;\n",
       "\n",
       "  @media (prefers-color-scheme: dark) {\n",
       "    /* Redefinition of color scheme for dark theme */\n",
       "    --sklearn-color-text-on-default-background: var(--sg-text-color, var(--theme-code-foreground, var(--jp-content-font-color1, white)));\n",
       "    --sklearn-color-background: var(--sg-background-color, var(--theme-background, var(--jp-layout-color0, #111)));\n",
       "    --sklearn-color-border-box: var(--sg-text-color, var(--theme-code-foreground, var(--jp-content-font-color1, white)));\n",
       "    --sklearn-color-icon: #878787;\n",
       "  }\n",
       "}\n",
       "\n",
       "#sk-container-id-1 {\n",
       "  color: var(--sklearn-color-text);\n",
       "}\n",
       "\n",
       "#sk-container-id-1 pre {\n",
       "  padding: 0;\n",
       "}\n",
       "\n",
       "#sk-container-id-1 input.sk-hidden--visually {\n",
       "  border: 0;\n",
       "  clip: rect(1px 1px 1px 1px);\n",
       "  clip: rect(1px, 1px, 1px, 1px);\n",
       "  height: 1px;\n",
       "  margin: -1px;\n",
       "  overflow: hidden;\n",
       "  padding: 0;\n",
       "  position: absolute;\n",
       "  width: 1px;\n",
       "}\n",
       "\n",
       "#sk-container-id-1 div.sk-dashed-wrapped {\n",
       "  border: 1px dashed var(--sklearn-color-line);\n",
       "  margin: 0 0.4em 0.5em 0.4em;\n",
       "  box-sizing: border-box;\n",
       "  padding-bottom: 0.4em;\n",
       "  background-color: var(--sklearn-color-background);\n",
       "}\n",
       "\n",
       "#sk-container-id-1 div.sk-container {\n",
       "  /* jupyter's `normalize.less` sets `[hidden] { display: none; }`\n",
       "     but bootstrap.min.css set `[hidden] { display: none !important; }`\n",
       "     so we also need the `!important` here to be able to override the\n",
       "     default hidden behavior on the sphinx rendered scikit-learn.org.\n",
       "     See: https://github.com/scikit-learn/scikit-learn/issues/21755 */\n",
       "  display: inline-block !important;\n",
       "  position: relative;\n",
       "}\n",
       "\n",
       "#sk-container-id-1 div.sk-text-repr-fallback {\n",
       "  display: none;\n",
       "}\n",
       "\n",
       "div.sk-parallel-item,\n",
       "div.sk-serial,\n",
       "div.sk-item {\n",
       "  /* draw centered vertical line to link estimators */\n",
       "  background-image: linear-gradient(var(--sklearn-color-text-on-default-background), var(--sklearn-color-text-on-default-background));\n",
       "  background-size: 2px 100%;\n",
       "  background-repeat: no-repeat;\n",
       "  background-position: center center;\n",
       "}\n",
       "\n",
       "/* Parallel-specific style estimator block */\n",
       "\n",
       "#sk-container-id-1 div.sk-parallel-item::after {\n",
       "  content: \"\";\n",
       "  width: 100%;\n",
       "  border-bottom: 2px solid var(--sklearn-color-text-on-default-background);\n",
       "  flex-grow: 1;\n",
       "}\n",
       "\n",
       "#sk-container-id-1 div.sk-parallel {\n",
       "  display: flex;\n",
       "  align-items: stretch;\n",
       "  justify-content: center;\n",
       "  background-color: var(--sklearn-color-background);\n",
       "  position: relative;\n",
       "}\n",
       "\n",
       "#sk-container-id-1 div.sk-parallel-item {\n",
       "  display: flex;\n",
       "  flex-direction: column;\n",
       "}\n",
       "\n",
       "#sk-container-id-1 div.sk-parallel-item:first-child::after {\n",
       "  align-self: flex-end;\n",
       "  width: 50%;\n",
       "}\n",
       "\n",
       "#sk-container-id-1 div.sk-parallel-item:last-child::after {\n",
       "  align-self: flex-start;\n",
       "  width: 50%;\n",
       "}\n",
       "\n",
       "#sk-container-id-1 div.sk-parallel-item:only-child::after {\n",
       "  width: 0;\n",
       "}\n",
       "\n",
       "/* Serial-specific style estimator block */\n",
       "\n",
       "#sk-container-id-1 div.sk-serial {\n",
       "  display: flex;\n",
       "  flex-direction: column;\n",
       "  align-items: center;\n",
       "  background-color: var(--sklearn-color-background);\n",
       "  padding-right: 1em;\n",
       "  padding-left: 1em;\n",
       "}\n",
       "\n",
       "\n",
       "/* Toggleable style: style used for estimator/Pipeline/ColumnTransformer box that is\n",
       "clickable and can be expanded/collapsed.\n",
       "- Pipeline and ColumnTransformer use this feature and define the default style\n",
       "- Estimators will overwrite some part of the style using the `sk-estimator` class\n",
       "*/\n",
       "\n",
       "/* Pipeline and ColumnTransformer style (default) */\n",
       "\n",
       "#sk-container-id-1 div.sk-toggleable {\n",
       "  /* Default theme specific background. It is overwritten whether we have a\n",
       "  specific estimator or a Pipeline/ColumnTransformer */\n",
       "  background-color: var(--sklearn-color-background);\n",
       "}\n",
       "\n",
       "/* Toggleable label */\n",
       "#sk-container-id-1 label.sk-toggleable__label {\n",
       "  cursor: pointer;\n",
       "  display: flex;\n",
       "  width: 100%;\n",
       "  margin-bottom: 0;\n",
       "  padding: 0.5em;\n",
       "  box-sizing: border-box;\n",
       "  text-align: center;\n",
       "  align-items: start;\n",
       "  justify-content: space-between;\n",
       "  gap: 0.5em;\n",
       "}\n",
       "\n",
       "#sk-container-id-1 label.sk-toggleable__label .caption {\n",
       "  font-size: 0.6rem;\n",
       "  font-weight: lighter;\n",
       "  color: var(--sklearn-color-text-muted);\n",
       "}\n",
       "\n",
       "#sk-container-id-1 label.sk-toggleable__label-arrow:before {\n",
       "  /* Arrow on the left of the label */\n",
       "  content: \"▸\";\n",
       "  float: left;\n",
       "  margin-right: 0.25em;\n",
       "  color: var(--sklearn-color-icon);\n",
       "}\n",
       "\n",
       "#sk-container-id-1 label.sk-toggleable__label-arrow:hover:before {\n",
       "  color: var(--sklearn-color-text);\n",
       "}\n",
       "\n",
       "/* Toggleable content - dropdown */\n",
       "\n",
       "#sk-container-id-1 div.sk-toggleable__content {\n",
       "  max-height: 0;\n",
       "  max-width: 0;\n",
       "  overflow: hidden;\n",
       "  text-align: left;\n",
       "  /* unfitted */\n",
       "  background-color: var(--sklearn-color-unfitted-level-0);\n",
       "}\n",
       "\n",
       "#sk-container-id-1 div.sk-toggleable__content.fitted {\n",
       "  /* fitted */\n",
       "  background-color: var(--sklearn-color-fitted-level-0);\n",
       "}\n",
       "\n",
       "#sk-container-id-1 div.sk-toggleable__content pre {\n",
       "  margin: 0.2em;\n",
       "  border-radius: 0.25em;\n",
       "  color: var(--sklearn-color-text);\n",
       "  /* unfitted */\n",
       "  background-color: var(--sklearn-color-unfitted-level-0);\n",
       "}\n",
       "\n",
       "#sk-container-id-1 div.sk-toggleable__content.fitted pre {\n",
       "  /* unfitted */\n",
       "  background-color: var(--sklearn-color-fitted-level-0);\n",
       "}\n",
       "\n",
       "#sk-container-id-1 input.sk-toggleable__control:checked~div.sk-toggleable__content {\n",
       "  /* Expand drop-down */\n",
       "  max-height: 200px;\n",
       "  max-width: 100%;\n",
       "  overflow: auto;\n",
       "}\n",
       "\n",
       "#sk-container-id-1 input.sk-toggleable__control:checked~label.sk-toggleable__label-arrow:before {\n",
       "  content: \"▾\";\n",
       "}\n",
       "\n",
       "/* Pipeline/ColumnTransformer-specific style */\n",
       "\n",
       "#sk-container-id-1 div.sk-label input.sk-toggleable__control:checked~label.sk-toggleable__label {\n",
       "  color: var(--sklearn-color-text);\n",
       "  background-color: var(--sklearn-color-unfitted-level-2);\n",
       "}\n",
       "\n",
       "#sk-container-id-1 div.sk-label.fitted input.sk-toggleable__control:checked~label.sk-toggleable__label {\n",
       "  background-color: var(--sklearn-color-fitted-level-2);\n",
       "}\n",
       "\n",
       "/* Estimator-specific style */\n",
       "\n",
       "/* Colorize estimator box */\n",
       "#sk-container-id-1 div.sk-estimator input.sk-toggleable__control:checked~label.sk-toggleable__label {\n",
       "  /* unfitted */\n",
       "  background-color: var(--sklearn-color-unfitted-level-2);\n",
       "}\n",
       "\n",
       "#sk-container-id-1 div.sk-estimator.fitted input.sk-toggleable__control:checked~label.sk-toggleable__label {\n",
       "  /* fitted */\n",
       "  background-color: var(--sklearn-color-fitted-level-2);\n",
       "}\n",
       "\n",
       "#sk-container-id-1 div.sk-label label.sk-toggleable__label,\n",
       "#sk-container-id-1 div.sk-label label {\n",
       "  /* The background is the default theme color */\n",
       "  color: var(--sklearn-color-text-on-default-background);\n",
       "}\n",
       "\n",
       "/* On hover, darken the color of the background */\n",
       "#sk-container-id-1 div.sk-label:hover label.sk-toggleable__label {\n",
       "  color: var(--sklearn-color-text);\n",
       "  background-color: var(--sklearn-color-unfitted-level-2);\n",
       "}\n",
       "\n",
       "/* Label box, darken color on hover, fitted */\n",
       "#sk-container-id-1 div.sk-label.fitted:hover label.sk-toggleable__label.fitted {\n",
       "  color: var(--sklearn-color-text);\n",
       "  background-color: var(--sklearn-color-fitted-level-2);\n",
       "}\n",
       "\n",
       "/* Estimator label */\n",
       "\n",
       "#sk-container-id-1 div.sk-label label {\n",
       "  font-family: monospace;\n",
       "  font-weight: bold;\n",
       "  display: inline-block;\n",
       "  line-height: 1.2em;\n",
       "}\n",
       "\n",
       "#sk-container-id-1 div.sk-label-container {\n",
       "  text-align: center;\n",
       "}\n",
       "\n",
       "/* Estimator-specific */\n",
       "#sk-container-id-1 div.sk-estimator {\n",
       "  font-family: monospace;\n",
       "  border: 1px dotted var(--sklearn-color-border-box);\n",
       "  border-radius: 0.25em;\n",
       "  box-sizing: border-box;\n",
       "  margin-bottom: 0.5em;\n",
       "  /* unfitted */\n",
       "  background-color: var(--sklearn-color-unfitted-level-0);\n",
       "}\n",
       "\n",
       "#sk-container-id-1 div.sk-estimator.fitted {\n",
       "  /* fitted */\n",
       "  background-color: var(--sklearn-color-fitted-level-0);\n",
       "}\n",
       "\n",
       "/* on hover */\n",
       "#sk-container-id-1 div.sk-estimator:hover {\n",
       "  /* unfitted */\n",
       "  background-color: var(--sklearn-color-unfitted-level-2);\n",
       "}\n",
       "\n",
       "#sk-container-id-1 div.sk-estimator.fitted:hover {\n",
       "  /* fitted */\n",
       "  background-color: var(--sklearn-color-fitted-level-2);\n",
       "}\n",
       "\n",
       "/* Specification for estimator info (e.g. \"i\" and \"?\") */\n",
       "\n",
       "/* Common style for \"i\" and \"?\" */\n",
       "\n",
       ".sk-estimator-doc-link,\n",
       "a:link.sk-estimator-doc-link,\n",
       "a:visited.sk-estimator-doc-link {\n",
       "  float: right;\n",
       "  font-size: smaller;\n",
       "  line-height: 1em;\n",
       "  font-family: monospace;\n",
       "  background-color: var(--sklearn-color-background);\n",
       "  border-radius: 1em;\n",
       "  height: 1em;\n",
       "  width: 1em;\n",
       "  text-decoration: none !important;\n",
       "  margin-left: 0.5em;\n",
       "  text-align: center;\n",
       "  /* unfitted */\n",
       "  border: var(--sklearn-color-unfitted-level-1) 1pt solid;\n",
       "  color: var(--sklearn-color-unfitted-level-1);\n",
       "}\n",
       "\n",
       ".sk-estimator-doc-link.fitted,\n",
       "a:link.sk-estimator-doc-link.fitted,\n",
       "a:visited.sk-estimator-doc-link.fitted {\n",
       "  /* fitted */\n",
       "  border: var(--sklearn-color-fitted-level-1) 1pt solid;\n",
       "  color: var(--sklearn-color-fitted-level-1);\n",
       "}\n",
       "\n",
       "/* On hover */\n",
       "div.sk-estimator:hover .sk-estimator-doc-link:hover,\n",
       ".sk-estimator-doc-link:hover,\n",
       "div.sk-label-container:hover .sk-estimator-doc-link:hover,\n",
       ".sk-estimator-doc-link:hover {\n",
       "  /* unfitted */\n",
       "  background-color: var(--sklearn-color-unfitted-level-3);\n",
       "  color: var(--sklearn-color-background);\n",
       "  text-decoration: none;\n",
       "}\n",
       "\n",
       "div.sk-estimator.fitted:hover .sk-estimator-doc-link.fitted:hover,\n",
       ".sk-estimator-doc-link.fitted:hover,\n",
       "div.sk-label-container:hover .sk-estimator-doc-link.fitted:hover,\n",
       ".sk-estimator-doc-link.fitted:hover {\n",
       "  /* fitted */\n",
       "  background-color: var(--sklearn-color-fitted-level-3);\n",
       "  color: var(--sklearn-color-background);\n",
       "  text-decoration: none;\n",
       "}\n",
       "\n",
       "/* Span, style for the box shown on hovering the info icon */\n",
       ".sk-estimator-doc-link span {\n",
       "  display: none;\n",
       "  z-index: 9999;\n",
       "  position: relative;\n",
       "  font-weight: normal;\n",
       "  right: .2ex;\n",
       "  padding: .5ex;\n",
       "  margin: .5ex;\n",
       "  width: min-content;\n",
       "  min-width: 20ex;\n",
       "  max-width: 50ex;\n",
       "  color: var(--sklearn-color-text);\n",
       "  box-shadow: 2pt 2pt 4pt #999;\n",
       "  /* unfitted */\n",
       "  background: var(--sklearn-color-unfitted-level-0);\n",
       "  border: .5pt solid var(--sklearn-color-unfitted-level-3);\n",
       "}\n",
       "\n",
       ".sk-estimator-doc-link.fitted span {\n",
       "  /* fitted */\n",
       "  background: var(--sklearn-color-fitted-level-0);\n",
       "  border: var(--sklearn-color-fitted-level-3);\n",
       "}\n",
       "\n",
       ".sk-estimator-doc-link:hover span {\n",
       "  display: block;\n",
       "}\n",
       "\n",
       "/* \"?\"-specific style due to the `<a>` HTML tag */\n",
       "\n",
       "#sk-container-id-1 a.estimator_doc_link {\n",
       "  float: right;\n",
       "  font-size: 1rem;\n",
       "  line-height: 1em;\n",
       "  font-family: monospace;\n",
       "  background-color: var(--sklearn-color-background);\n",
       "  border-radius: 1rem;\n",
       "  height: 1rem;\n",
       "  width: 1rem;\n",
       "  text-decoration: none;\n",
       "  /* unfitted */\n",
       "  color: var(--sklearn-color-unfitted-level-1);\n",
       "  border: var(--sklearn-color-unfitted-level-1) 1pt solid;\n",
       "}\n",
       "\n",
       "#sk-container-id-1 a.estimator_doc_link.fitted {\n",
       "  /* fitted */\n",
       "  border: var(--sklearn-color-fitted-level-1) 1pt solid;\n",
       "  color: var(--sklearn-color-fitted-level-1);\n",
       "}\n",
       "\n",
       "/* On hover */\n",
       "#sk-container-id-1 a.estimator_doc_link:hover {\n",
       "  /* unfitted */\n",
       "  background-color: var(--sklearn-color-unfitted-level-3);\n",
       "  color: var(--sklearn-color-background);\n",
       "  text-decoration: none;\n",
       "}\n",
       "\n",
       "#sk-container-id-1 a.estimator_doc_link.fitted:hover {\n",
       "  /* fitted */\n",
       "  background-color: var(--sklearn-color-fitted-level-3);\n",
       "}\n",
       "</style><div id=\"sk-container-id-1\" class=\"sk-top-container\"><div class=\"sk-text-repr-fallback\"><pre>Pipeline(steps=[(&#x27;featureunion&#x27;,\n",
       "                 FeatureUnion(transformer_list=[(&#x27;float32_transform_140371756645552&#x27;,\n",
       "                                                 Pipeline(steps=[(&#x27;numpycolumnselector&#x27;,\n",
       "                                                                  NumpyColumnSelector(columns=[0,\n",
       "                                                                                               1,\n",
       "                                                                                               2,\n",
       "                                                                                               3,\n",
       "                                                                                               5,\n",
       "                                                                                               6,\n",
       "                                                                                               7,\n",
       "                                                                                               8,\n",
       "                                                                                               9,\n",
       "                                                                                               10,\n",
       "                                                                                               11,\n",
       "                                                                                               12,\n",
       "                                                                                               13,\n",
       "                                                                                               14,\n",
       "                                                                                               15,\n",
       "                                                                                               16,\n",
       "                                                                                               17,\n",
       "                                                                                               18,\n",
       "                                                                                               19])),\n",
       "                                                                 (&#x27;compressstrings&#x27;,\n",
       "                                                                  CompressStrings(compress_type=&#x27;hash&#x27;,\n",
       "                                                                                  dtypes_list=[&#x27;char_str&#x27;,\n",
       "                                                                                               &#x27;float_int_num&#x27;,\n",
       "                                                                                               &#x27;char_str&#x27;,\n",
       "                                                                                               &#x27;char_str&#x27;,\n",
       "                                                                                               &#x27;char_str&#x27;,\n",
       "                                                                                               &#x27;c...\n",
       "                                                                 (&#x27;numpyreplacemissingvalues&#x27;,\n",
       "                                                                  NumpyReplaceMissingValues(missing_values=[])),\n",
       "                                                                 (&#x27;numimputer&#x27;,\n",
       "                                                                  NumImputer(missing_values=nan,\n",
       "                                                                             strategy=&#x27;median&#x27;)),\n",
       "                                                                 (&#x27;optstandardscaler&#x27;,\n",
       "                                                                  OptStandardScaler(use_scaler_flag=False)),\n",
       "                                                                 (&#x27;float32_transform&#x27;,\n",
       "                                                                  float32_transform())]))])),\n",
       "                (&#x27;numpypermutearray&#x27;,\n",
       "                 NumpyPermuteArray(axis=0,\n",
       "                                   permutation_indices=[0, 1, 2, 3, 5, 6, 7, 8,\n",
       "                                                        9, 10, 11, 12, 13, 14,\n",
       "                                                        15, 16, 17, 18, 19,\n",
       "                                                        4]))])</pre><b>In a Jupyter environment, please rerun this cell to show the HTML representation or trust the notebook. <br />On GitHub, the HTML representation is unable to render, please try loading this page with nbviewer.org.</b></div><div class=\"sk-container\" hidden><div class=\"sk-item sk-dashed-wrapped\"><div class=\"sk-label-container\"><div class=\"sk-label fitted sk-toggleable\"><input class=\"sk-toggleable__control sk-hidden--visually\" id=\"sk-estimator-id-1\" type=\"checkbox\" ><label for=\"sk-estimator-id-1\" class=\"sk-toggleable__label fitted sk-toggleable__label-arrow\"><div><div>Pipeline</div></div><div><a class=\"sk-estimator-doc-link fitted\" rel=\"noreferrer\" target=\"_blank\" href=\"https://scikit-learn.org/1.6/modules/generated/sklearn.pipeline.Pipeline.html\">?<span>Documentation for Pipeline</span></a><span class=\"sk-estimator-doc-link fitted\">i<span>Fitted</span></span></div></label><div class=\"sk-toggleable__content fitted\"><pre>Pipeline(steps=[(&#x27;featureunion&#x27;,\n",
       "                 FeatureUnion(transformer_list=[(&#x27;float32_transform_140371756645552&#x27;,\n",
       "                                                 Pipeline(steps=[(&#x27;numpycolumnselector&#x27;,\n",
       "                                                                  NumpyColumnSelector(columns=[0,\n",
       "                                                                                               1,\n",
       "                                                                                               2,\n",
       "                                                                                               3,\n",
       "                                                                                               5,\n",
       "                                                                                               6,\n",
       "                                                                                               7,\n",
       "                                                                                               8,\n",
       "                                                                                               9,\n",
       "                                                                                               10,\n",
       "                                                                                               11,\n",
       "                                                                                               12,\n",
       "                                                                                               13,\n",
       "                                                                                               14,\n",
       "                                                                                               15,\n",
       "                                                                                               16,\n",
       "                                                                                               17,\n",
       "                                                                                               18,\n",
       "                                                                                               19])),\n",
       "                                                                 (&#x27;compressstrings&#x27;,\n",
       "                                                                  CompressStrings(compress_type=&#x27;hash&#x27;,\n",
       "                                                                                  dtypes_list=[&#x27;char_str&#x27;,\n",
       "                                                                                               &#x27;float_int_num&#x27;,\n",
       "                                                                                               &#x27;char_str&#x27;,\n",
       "                                                                                               &#x27;char_str&#x27;,\n",
       "                                                                                               &#x27;char_str&#x27;,\n",
       "                                                                                               &#x27;c...\n",
       "                                                                 (&#x27;numpyreplacemissingvalues&#x27;,\n",
       "                                                                  NumpyReplaceMissingValues(missing_values=[])),\n",
       "                                                                 (&#x27;numimputer&#x27;,\n",
       "                                                                  NumImputer(missing_values=nan,\n",
       "                                                                             strategy=&#x27;median&#x27;)),\n",
       "                                                                 (&#x27;optstandardscaler&#x27;,\n",
       "                                                                  OptStandardScaler(use_scaler_flag=False)),\n",
       "                                                                 (&#x27;float32_transform&#x27;,\n",
       "                                                                  float32_transform())]))])),\n",
       "                (&#x27;numpypermutearray&#x27;,\n",
       "                 NumpyPermuteArray(axis=0,\n",
       "                                   permutation_indices=[0, 1, 2, 3, 5, 6, 7, 8,\n",
       "                                                        9, 10, 11, 12, 13, 14,\n",
       "                                                        15, 16, 17, 18, 19,\n",
       "                                                        4]))])</pre></div> </div></div><div class=\"sk-serial\"><div class=\"sk-item sk-dashed-wrapped\"><div class=\"sk-label-container\"><div class=\"sk-label fitted sk-toggleable\"><input class=\"sk-toggleable__control sk-hidden--visually\" id=\"sk-estimator-id-2\" type=\"checkbox\" ><label for=\"sk-estimator-id-2\" class=\"sk-toggleable__label fitted sk-toggleable__label-arrow\"><div><div>featureunion: FeatureUnion</div></div><div><a class=\"sk-estimator-doc-link fitted\" rel=\"noreferrer\" target=\"_blank\" href=\"https://scikit-learn.org/1.6/modules/generated/sklearn.pipeline.FeatureUnion.html\">?<span>Documentation for featureunion: FeatureUnion</span></a></div></label><div class=\"sk-toggleable__content fitted\"><pre>FeatureUnion(transformer_list=[(&#x27;float32_transform_140371756645552&#x27;,\n",
       "                                Pipeline(steps=[(&#x27;numpycolumnselector&#x27;,\n",
       "                                                 NumpyColumnSelector(columns=[0,\n",
       "                                                                              1,\n",
       "                                                                              2,\n",
       "                                                                              3,\n",
       "                                                                              5,\n",
       "                                                                              6,\n",
       "                                                                              7,\n",
       "                                                                              8,\n",
       "                                                                              9,\n",
       "                                                                              10,\n",
       "                                                                              11,\n",
       "                                                                              12,\n",
       "                                                                              13,\n",
       "                                                                              14,\n",
       "                                                                              15,\n",
       "                                                                              16,\n",
       "                                                                              17,\n",
       "                                                                              18,\n",
       "                                                                              19])),\n",
       "                                                (&#x27;compressstrings&#x27;,\n",
       "                                                 CompressStrings(compress_type=&#x27;hash&#x27;,\n",
       "                                                                 dtypes_list=[&#x27;char_str&#x27;,\n",
       "                                                                              &#x27;float_int_num&#x27;,\n",
       "                                                                              &#x27;char_str&#x27;,\n",
       "                                                                              &#x27;char_str&#x27;,\n",
       "                                                                              &#x27;char_str&#x27;,\n",
       "                                                                              &#x27;char_str&#x27;,\n",
       "                                                                              &#x27;float_int_num&#x27;,\n",
       "                                                                              &#x27;char_s...\n",
       "                                                 NumpyColumnSelector(columns=[4])),\n",
       "                                                (&#x27;floatstr2float&#x27;,\n",
       "                                                 FloatStr2Float(dtypes_list=[&#x27;float_int_num&#x27;],\n",
       "                                                                missing_values_reference_list=[])),\n",
       "                                                (&#x27;numpyreplacemissingvalues&#x27;,\n",
       "                                                 NumpyReplaceMissingValues(missing_values=[])),\n",
       "                                                (&#x27;numimputer&#x27;,\n",
       "                                                 NumImputer(missing_values=nan,\n",
       "                                                            strategy=&#x27;median&#x27;)),\n",
       "                                                (&#x27;optstandardscaler&#x27;,\n",
       "                                                 OptStandardScaler(use_scaler_flag=False)),\n",
       "                                                (&#x27;float32_transform&#x27;,\n",
       "                                                 float32_transform())]))])</pre></div> </div></div><div class=\"sk-parallel\"><div class=\"sk-parallel-item\"><div class=\"sk-item\"><div class=\"sk-label-container\"><div class=\"sk-label fitted sk-toggleable\"><label>float32_transform_140371756645552</label></div></div><div class=\"sk-serial\"><div class=\"sk-item\"><div class=\"sk-serial\"><div class=\"sk-item\"><div class=\"sk-estimator fitted sk-toggleable\"><input class=\"sk-toggleable__control sk-hidden--visually\" id=\"sk-estimator-id-3\" type=\"checkbox\" ><label for=\"sk-estimator-id-3\" class=\"sk-toggleable__label fitted sk-toggleable__label-arrow\"><div><div>NumpyColumnSelector</div></div></label><div class=\"sk-toggleable__content fitted\"><pre>NumpyColumnSelector(columns=[0, 1, 2, 3, 5, 6, 7, 8, 9, 10, 11, 12, 13, 14, 15,\n",
       "                             16, 17, 18, 19])</pre></div> </div></div><div class=\"sk-item\"><div class=\"sk-estimator fitted sk-toggleable\"><input class=\"sk-toggleable__control sk-hidden--visually\" id=\"sk-estimator-id-4\" type=\"checkbox\" ><label for=\"sk-estimator-id-4\" class=\"sk-toggleable__label fitted sk-toggleable__label-arrow\"><div><div>CompressStrings</div></div></label><div class=\"sk-toggleable__content fitted\"><pre>CompressStrings(compress_type=&#x27;hash&#x27;,\n",
       "                dtypes_list=[&#x27;char_str&#x27;, &#x27;float_int_num&#x27;, &#x27;char_str&#x27;,\n",
       "                             &#x27;char_str&#x27;, &#x27;char_str&#x27;, &#x27;char_str&#x27;,\n",
       "                             &#x27;float_int_num&#x27;, &#x27;char_str&#x27;, &#x27;char_str&#x27;,\n",
       "                             &#x27;float_int_num&#x27;, &#x27;char_str&#x27;, &#x27;float_int_num&#x27;,\n",
       "                             &#x27;char_str&#x27;, &#x27;char_str&#x27;, &#x27;float_int_num&#x27;,\n",
       "                             &#x27;char_str&#x27;, &#x27;float_int_num&#x27;, &#x27;char_str&#x27;,\n",
       "                             &#x27;char_str&#x27;],\n",
       "                missing_values_reference_list=[&#x27;&#x27;, &#x27;-&#x27;, &#x27;?&#x27;, nan],\n",
       "                misslist_list=[[], [], [], [], [], [], [], [], [], [], [], [],\n",
       "                               [], [], [], [], [], [], []])</pre></div> </div></div><div class=\"sk-item\"><div class=\"sk-estimator fitted sk-toggleable\"><input class=\"sk-toggleable__control sk-hidden--visually\" id=\"sk-estimator-id-5\" type=\"checkbox\" ><label for=\"sk-estimator-id-5\" class=\"sk-toggleable__label fitted sk-toggleable__label-arrow\"><div><div>NumpyReplaceMissingValues</div></div></label><div class=\"sk-toggleable__content fitted\"><pre>NumpyReplaceMissingValues(missing_values=[])</pre></div> </div></div><div class=\"sk-item\"><div class=\"sk-estimator fitted sk-toggleable\"><input class=\"sk-toggleable__control sk-hidden--visually\" id=\"sk-estimator-id-6\" type=\"checkbox\" ><label for=\"sk-estimator-id-6\" class=\"sk-toggleable__label fitted sk-toggleable__label-arrow\"><div><div>NumpyReplaceUnknownValues</div></div></label><div class=\"sk-toggleable__content fitted\"><pre>NumpyReplaceUnknownValues(filling_values=nan,\n",
       "                          filling_values_list=[nan, 100001, nan, nan, nan, nan,\n",
       "                                               100001, nan, nan, 100001, nan,\n",
       "                                               100001, nan, nan, 100001, nan,\n",
       "                                               100001, nan, nan],\n",
       "                          known_values_list=[[227259264688753646810077375790908286508,\n",
       "                                              253732214910815238134509288111402486722,\n",
       "                                              303819144345098626554456011496217223575,\n",
       "                                              280353606872939388614315901186094326949],\n",
       "                                             [4.0, 5.0...\n",
       "                                             [328286527295663582663365503319902632676,\n",
       "                                              119641707607939038914465000864290288880,\n",
       "                                              283364312271660996400883763491949419861,\n",
       "                                              27741019508977055807423991753468819528],\n",
       "                                             [1.0, 2.0],\n",
       "                                             [68186749286663113704472210246844540664,\n",
       "                                              220736790854050750400968561922076059550],\n",
       "                                             [169662019754859674907370307324476606919,\n",
       "                                              220736790854050750400968561922076059550]],\n",
       "                          missing_values_reference_list=[&#x27;&#x27;, &#x27;-&#x27;, &#x27;?&#x27;, nan])</pre></div> </div></div><div class=\"sk-item\"><div class=\"sk-estimator fitted sk-toggleable\"><input class=\"sk-toggleable__control sk-hidden--visually\" id=\"sk-estimator-id-7\" type=\"checkbox\" ><label for=\"sk-estimator-id-7\" class=\"sk-toggleable__label fitted sk-toggleable__label-arrow\"><div><div>boolean2float</div></div></label><div class=\"sk-toggleable__content fitted\"><pre>boolean2float()</pre></div> </div></div><div class=\"sk-item\"><div class=\"sk-estimator fitted sk-toggleable\"><input class=\"sk-toggleable__control sk-hidden--visually\" id=\"sk-estimator-id-8\" type=\"checkbox\" ><label for=\"sk-estimator-id-8\" class=\"sk-toggleable__label fitted sk-toggleable__label-arrow\"><div><div>CatImputer</div></div></label><div class=\"sk-toggleable__content fitted\"><pre>CatImputer(missing_values=nan, strategy=&#x27;most_frequent&#x27;)</pre></div> </div></div><div class=\"sk-item\"><div class=\"sk-estimator fitted sk-toggleable\"><input class=\"sk-toggleable__control sk-hidden--visually\" id=\"sk-estimator-id-9\" type=\"checkbox\" ><label for=\"sk-estimator-id-9\" class=\"sk-toggleable__label fitted sk-toggleable__label-arrow\"><div><div>CatEncoder</div></div></label><div class=\"sk-toggleable__content fitted\"><pre>CatEncoder(categories=&#x27;auto&#x27;, dtype=&lt;class &#x27;numpy.float64&#x27;&gt;, encoding=&#x27;ordinal&#x27;,\n",
       "           handle_unknown=&#x27;error&#x27;)</pre></div> </div></div><div class=\"sk-item\"><div class=\"sk-estimator fitted sk-toggleable\"><input class=\"sk-toggleable__control sk-hidden--visually\" id=\"sk-estimator-id-10\" type=\"checkbox\" ><label for=\"sk-estimator-id-10\" class=\"sk-toggleable__label fitted sk-toggleable__label-arrow\"><div><div>float32_transform</div></div></label><div class=\"sk-toggleable__content fitted\"><pre>float32_transform()</pre></div> </div></div></div></div></div></div></div><div class=\"sk-parallel-item\"><div class=\"sk-item\"><div class=\"sk-label-container\"><div class=\"sk-label fitted sk-toggleable\"><label>float32_transform_140371752838416</label></div></div><div class=\"sk-serial\"><div class=\"sk-item\"><div class=\"sk-serial\"><div class=\"sk-item\"><div class=\"sk-estimator fitted sk-toggleable\"><input class=\"sk-toggleable__control sk-hidden--visually\" id=\"sk-estimator-id-11\" type=\"checkbox\" ><label for=\"sk-estimator-id-11\" class=\"sk-toggleable__label fitted sk-toggleable__label-arrow\"><div><div>NumpyColumnSelector</div></div></label><div class=\"sk-toggleable__content fitted\"><pre>NumpyColumnSelector(columns=[4])</pre></div> </div></div><div class=\"sk-item\"><div class=\"sk-estimator fitted sk-toggleable\"><input class=\"sk-toggleable__control sk-hidden--visually\" id=\"sk-estimator-id-12\" type=\"checkbox\" ><label for=\"sk-estimator-id-12\" class=\"sk-toggleable__label fitted sk-toggleable__label-arrow\"><div><div>FloatStr2Float</div></div></label><div class=\"sk-toggleable__content fitted\"><pre>FloatStr2Float(dtypes_list=[&#x27;float_int_num&#x27;], missing_values_reference_list=[])</pre></div> </div></div><div class=\"sk-item\"><div class=\"sk-estimator fitted sk-toggleable\"><input class=\"sk-toggleable__control sk-hidden--visually\" id=\"sk-estimator-id-13\" type=\"checkbox\" ><label for=\"sk-estimator-id-13\" class=\"sk-toggleable__label fitted sk-toggleable__label-arrow\"><div><div>NumpyReplaceMissingValues</div></div></label><div class=\"sk-toggleable__content fitted\"><pre>NumpyReplaceMissingValues(missing_values=[])</pre></div> </div></div><div class=\"sk-item\"><div class=\"sk-estimator fitted sk-toggleable\"><input class=\"sk-toggleable__control sk-hidden--visually\" id=\"sk-estimator-id-14\" type=\"checkbox\" ><label for=\"sk-estimator-id-14\" class=\"sk-toggleable__label fitted sk-toggleable__label-arrow\"><div><div>NumImputer</div></div></label><div class=\"sk-toggleable__content fitted\"><pre>NumImputer(missing_values=nan, strategy=&#x27;median&#x27;)</pre></div> </div></div><div class=\"sk-item\"><div class=\"sk-estimator fitted sk-toggleable\"><input class=\"sk-toggleable__control sk-hidden--visually\" id=\"sk-estimator-id-15\" type=\"checkbox\" ><label for=\"sk-estimator-id-15\" class=\"sk-toggleable__label fitted sk-toggleable__label-arrow\"><div><div>OptStandardScaler</div></div></label><div class=\"sk-toggleable__content fitted\"><pre>OptStandardScaler(use_scaler_flag=False)</pre></div> </div></div><div class=\"sk-item\"><div class=\"sk-estimator fitted sk-toggleable\"><input class=\"sk-toggleable__control sk-hidden--visually\" id=\"sk-estimator-id-16\" type=\"checkbox\" ><label for=\"sk-estimator-id-16\" class=\"sk-toggleable__label fitted sk-toggleable__label-arrow\"><div><div>float32_transform</div></div></label><div class=\"sk-toggleable__content fitted\"><pre>float32_transform()</pre></div> </div></div></div></div></div></div></div></div></div><div class=\"sk-item\"><div class=\"sk-estimator fitted sk-toggleable\"><input class=\"sk-toggleable__control sk-hidden--visually\" id=\"sk-estimator-id-17\" type=\"checkbox\" ><label for=\"sk-estimator-id-17\" class=\"sk-toggleable__label fitted sk-toggleable__label-arrow\"><div><div>NumpyPermuteArray</div></div></label><div class=\"sk-toggleable__content fitted\"><pre>NumpyPermuteArray(axis=0,\n",
       "                  permutation_indices=[0, 1, 2, 3, 5, 6, 7, 8, 9, 10, 11, 12,\n",
       "                                       13, 14, 15, 16, 17, 18, 19, 4])</pre></div> </div></div></div></div></div></div>"
      ],
      "text/plain": [
       "Pipeline(steps=[('featureunion',\n",
       "                 FeatureUnion(transformer_list=[('float32_transform_140371756645552',\n",
       "                                                 Pipeline(steps=[('numpycolumnselector',\n",
       "                                                                  NumpyColumnSelector(columns=[0,\n",
       "                                                                                               1,\n",
       "                                                                                               2,\n",
       "                                                                                               3,\n",
       "                                                                                               5,\n",
       "                                                                                               6,\n",
       "                                                                                               7,\n",
       "                                                                                               8,\n",
       "                                                                                               9,\n",
       "                                                                                               10,\n",
       "                                                                                               11,\n",
       "                                                                                               12,\n",
       "                                                                                               13,\n",
       "                                                                                               14,\n",
       "                                                                                               15,\n",
       "                                                                                               16,\n",
       "                                                                                               17,\n",
       "                                                                                               18,\n",
       "                                                                                               19])),\n",
       "                                                                 ('compressstrings',\n",
       "                                                                  CompressStrings(compress_type='hash',\n",
       "                                                                                  dtypes_list=['char_str',\n",
       "                                                                                               'float_int_num',\n",
       "                                                                                               'char_str',\n",
       "                                                                                               'char_str',\n",
       "                                                                                               'char_str',\n",
       "                                                                                               'c...\n",
       "                                                                 ('numpyreplacemissingvalues',\n",
       "                                                                  NumpyReplaceMissingValues(missing_values=[])),\n",
       "                                                                 ('numimputer',\n",
       "                                                                  NumImputer(missing_values=nan,\n",
       "                                                                             strategy='median')),\n",
       "                                                                 ('optstandardscaler',\n",
       "                                                                  OptStandardScaler(use_scaler_flag=False)),\n",
       "                                                                 ('float32_transform',\n",
       "                                                                  float32_transform())]))])),\n",
       "                ('numpypermutearray',\n",
       "                 NumpyPermuteArray(axis=0,\n",
       "                                   permutation_indices=[0, 1, 2, 3, 5, 6, 7, 8,\n",
       "                                                        9, 10, 11, 12, 13, 14,\n",
       "                                                        15, 16, 17, 18, 19,\n",
       "                                                        4]))])"
      ]
     },
     "execution_count": 16,
     "metadata": {},
     "output_type": "execute_result"
    }
   ],
   "source": [
    "prefix = best_pipeline.remove_last().freeze_trainable()\n",
    "prefix.export_to_sklearn_pipeline()"
   ]
  },
  {
   "cell_type": "markdown",
   "metadata": {
    "id": "78c9a79c-e381-4c06-9578-c9ec93861b8e"
   },
   "source": [
    "Initialize the `DisparateImpactRemover` with fairness configuration and pipeline without final estimator and add a new final step, which consists of a choice of two estimators. In this code, `|` is the or combinator (algorithmic choice). It defines a search space for another optimizer run."
   ]
  },
  {
   "cell_type": "code",
   "execution_count": 17,
   "metadata": {
    "id": "395afc41-5ee6-4e85-b9d1-12fc09a21de1",
    "scrolled": true
   },
   "outputs": [],
   "source": [
    "from sklearn.linear_model import LogisticRegression as LR\n",
    "from sklearn.ensemble import RandomForestClassifier as RF\n",
    "from lale.operator_wrapper import wrap_imported_operators\n",
    "\n",
    "wrap_imported_operators()\n",
    "\n",
    "di_remover = DisparateImpactRemover(**fairness_info, preparation=prefix)\n",
    "planned_fairer = di_remover >> (LR | RF)"
   ]
  },
  {
   "cell_type": "markdown",
   "metadata": {
    "id": "bb0901ed-0e5a-422f-b0ec-78a7999cd233"
   },
   "source": [
    "Fairness metrics can be more unstable than accuracy, because they depend not just on the distribution of labels, but also on the distribution of privileged and unprivileged groups as defined by the protected attributes. In AI Automation, k-fold cross validation helps reduce overfitting. To get more stable results, we will stratify these k folds by both labels and groups with `FairStratifiedKFold` class."
   ]
  },
  {
   "cell_type": "code",
   "execution_count": 18,
   "metadata": {
    "id": "b85b3bc0-4141-4e81-8179-8ff9951817c9"
   },
   "outputs": [],
   "source": [
    "from lale.lib.aif360 import FairStratifiedKFold\n",
    "\n",
    "fair_cv = FairStratifiedKFold(**fairness_info, n_splits=3)"
   ]
  },
  {
   "cell_type": "markdown",
   "metadata": {
    "id": "b7a8c7b6-9867-47fd-b9e4-c333963d501c"
   },
   "source": [
    "### Pipeline training\n",
    "\n",
    "To automatically select the algorithm and tune its hyperparameters we use `auto_configure` method of lale pipeline. The combined metric `accuracy_and_disparate_impact` is used as scoring metric in evaluation process.   "
   ]
  },
  {
   "cell_type": "code",
   "execution_count": 19,
   "metadata": {
    "id": "42ccfa56-0aff-4d49-8138-5e783c80c8df"
   },
   "outputs": [
    {
     "name": "stdout",
     "output_type": "stream",
     "text": [
      "100%|██████████| 10/10 [00:26<00:00,  2.70s/trial, best loss: 0.1676332233430191]\n"
     ]
    }
   ],
   "source": [
    "from lale.lib.lale import Hyperopt\n",
    "\n",
    "trained_fairer = planned_fairer.auto_configure(\n",
    "    X_train,\n",
    "    y_train,\n",
    "    optimizer=Hyperopt,\n",
    "    cv=fair_cv,\n",
    "    max_evals=10,\n",
    "    scoring=combined_scorer,\n",
    "    best_score=1.0,\n",
    ")"
   ]
  },
  {
   "cell_type": "markdown",
   "metadata": {
    "id": "1554d325-9744-4820-91d6-5766edf4f6cc"
   },
   "source": [
    "#### Results \n",
    "\n",
    "Visualize the final pipeline and calculate its metrics.  "
   ]
  },
  {
   "cell_type": "code",
   "execution_count": 20,
   "metadata": {
    "id": "afa57783-47ad-473b-9e3d-8cbb194d95f1"
   },
   "outputs": [
    {
     "data": {
      "text/html": [
       "<style>#sk-container-id-2 {\n",
       "  /* Definition of color scheme common for light and dark mode */\n",
       "  --sklearn-color-text: #000;\n",
       "  --sklearn-color-text-muted: #666;\n",
       "  --sklearn-color-line: gray;\n",
       "  /* Definition of color scheme for unfitted estimators */\n",
       "  --sklearn-color-unfitted-level-0: #fff5e6;\n",
       "  --sklearn-color-unfitted-level-1: #f6e4d2;\n",
       "  --sklearn-color-unfitted-level-2: #ffe0b3;\n",
       "  --sklearn-color-unfitted-level-3: chocolate;\n",
       "  /* Definition of color scheme for fitted estimators */\n",
       "  --sklearn-color-fitted-level-0: #f0f8ff;\n",
       "  --sklearn-color-fitted-level-1: #d4ebff;\n",
       "  --sklearn-color-fitted-level-2: #b3dbfd;\n",
       "  --sklearn-color-fitted-level-3: cornflowerblue;\n",
       "\n",
       "  /* Specific color for light theme */\n",
       "  --sklearn-color-text-on-default-background: var(--sg-text-color, var(--theme-code-foreground, var(--jp-content-font-color1, black)));\n",
       "  --sklearn-color-background: var(--sg-background-color, var(--theme-background, var(--jp-layout-color0, white)));\n",
       "  --sklearn-color-border-box: var(--sg-text-color, var(--theme-code-foreground, var(--jp-content-font-color1, black)));\n",
       "  --sklearn-color-icon: #696969;\n",
       "\n",
       "  @media (prefers-color-scheme: dark) {\n",
       "    /* Redefinition of color scheme for dark theme */\n",
       "    --sklearn-color-text-on-default-background: var(--sg-text-color, var(--theme-code-foreground, var(--jp-content-font-color1, white)));\n",
       "    --sklearn-color-background: var(--sg-background-color, var(--theme-background, var(--jp-layout-color0, #111)));\n",
       "    --sklearn-color-border-box: var(--sg-text-color, var(--theme-code-foreground, var(--jp-content-font-color1, white)));\n",
       "    --sklearn-color-icon: #878787;\n",
       "  }\n",
       "}\n",
       "\n",
       "#sk-container-id-2 {\n",
       "  color: var(--sklearn-color-text);\n",
       "}\n",
       "\n",
       "#sk-container-id-2 pre {\n",
       "  padding: 0;\n",
       "}\n",
       "\n",
       "#sk-container-id-2 input.sk-hidden--visually {\n",
       "  border: 0;\n",
       "  clip: rect(1px 1px 1px 1px);\n",
       "  clip: rect(1px, 1px, 1px, 1px);\n",
       "  height: 1px;\n",
       "  margin: -1px;\n",
       "  overflow: hidden;\n",
       "  padding: 0;\n",
       "  position: absolute;\n",
       "  width: 1px;\n",
       "}\n",
       "\n",
       "#sk-container-id-2 div.sk-dashed-wrapped {\n",
       "  border: 1px dashed var(--sklearn-color-line);\n",
       "  margin: 0 0.4em 0.5em 0.4em;\n",
       "  box-sizing: border-box;\n",
       "  padding-bottom: 0.4em;\n",
       "  background-color: var(--sklearn-color-background);\n",
       "}\n",
       "\n",
       "#sk-container-id-2 div.sk-container {\n",
       "  /* jupyter's `normalize.less` sets `[hidden] { display: none; }`\n",
       "     but bootstrap.min.css set `[hidden] { display: none !important; }`\n",
       "     so we also need the `!important` here to be able to override the\n",
       "     default hidden behavior on the sphinx rendered scikit-learn.org.\n",
       "     See: https://github.com/scikit-learn/scikit-learn/issues/21755 */\n",
       "  display: inline-block !important;\n",
       "  position: relative;\n",
       "}\n",
       "\n",
       "#sk-container-id-2 div.sk-text-repr-fallback {\n",
       "  display: none;\n",
       "}\n",
       "\n",
       "div.sk-parallel-item,\n",
       "div.sk-serial,\n",
       "div.sk-item {\n",
       "  /* draw centered vertical line to link estimators */\n",
       "  background-image: linear-gradient(var(--sklearn-color-text-on-default-background), var(--sklearn-color-text-on-default-background));\n",
       "  background-size: 2px 100%;\n",
       "  background-repeat: no-repeat;\n",
       "  background-position: center center;\n",
       "}\n",
       "\n",
       "/* Parallel-specific style estimator block */\n",
       "\n",
       "#sk-container-id-2 div.sk-parallel-item::after {\n",
       "  content: \"\";\n",
       "  width: 100%;\n",
       "  border-bottom: 2px solid var(--sklearn-color-text-on-default-background);\n",
       "  flex-grow: 1;\n",
       "}\n",
       "\n",
       "#sk-container-id-2 div.sk-parallel {\n",
       "  display: flex;\n",
       "  align-items: stretch;\n",
       "  justify-content: center;\n",
       "  background-color: var(--sklearn-color-background);\n",
       "  position: relative;\n",
       "}\n",
       "\n",
       "#sk-container-id-2 div.sk-parallel-item {\n",
       "  display: flex;\n",
       "  flex-direction: column;\n",
       "}\n",
       "\n",
       "#sk-container-id-2 div.sk-parallel-item:first-child::after {\n",
       "  align-self: flex-end;\n",
       "  width: 50%;\n",
       "}\n",
       "\n",
       "#sk-container-id-2 div.sk-parallel-item:last-child::after {\n",
       "  align-self: flex-start;\n",
       "  width: 50%;\n",
       "}\n",
       "\n",
       "#sk-container-id-2 div.sk-parallel-item:only-child::after {\n",
       "  width: 0;\n",
       "}\n",
       "\n",
       "/* Serial-specific style estimator block */\n",
       "\n",
       "#sk-container-id-2 div.sk-serial {\n",
       "  display: flex;\n",
       "  flex-direction: column;\n",
       "  align-items: center;\n",
       "  background-color: var(--sklearn-color-background);\n",
       "  padding-right: 1em;\n",
       "  padding-left: 1em;\n",
       "}\n",
       "\n",
       "\n",
       "/* Toggleable style: style used for estimator/Pipeline/ColumnTransformer box that is\n",
       "clickable and can be expanded/collapsed.\n",
       "- Pipeline and ColumnTransformer use this feature and define the default style\n",
       "- Estimators will overwrite some part of the style using the `sk-estimator` class\n",
       "*/\n",
       "\n",
       "/* Pipeline and ColumnTransformer style (default) */\n",
       "\n",
       "#sk-container-id-2 div.sk-toggleable {\n",
       "  /* Default theme specific background. It is overwritten whether we have a\n",
       "  specific estimator or a Pipeline/ColumnTransformer */\n",
       "  background-color: var(--sklearn-color-background);\n",
       "}\n",
       "\n",
       "/* Toggleable label */\n",
       "#sk-container-id-2 label.sk-toggleable__label {\n",
       "  cursor: pointer;\n",
       "  display: flex;\n",
       "  width: 100%;\n",
       "  margin-bottom: 0;\n",
       "  padding: 0.5em;\n",
       "  box-sizing: border-box;\n",
       "  text-align: center;\n",
       "  align-items: start;\n",
       "  justify-content: space-between;\n",
       "  gap: 0.5em;\n",
       "}\n",
       "\n",
       "#sk-container-id-2 label.sk-toggleable__label .caption {\n",
       "  font-size: 0.6rem;\n",
       "  font-weight: lighter;\n",
       "  color: var(--sklearn-color-text-muted);\n",
       "}\n",
       "\n",
       "#sk-container-id-2 label.sk-toggleable__label-arrow:before {\n",
       "  /* Arrow on the left of the label */\n",
       "  content: \"▸\";\n",
       "  float: left;\n",
       "  margin-right: 0.25em;\n",
       "  color: var(--sklearn-color-icon);\n",
       "}\n",
       "\n",
       "#sk-container-id-2 label.sk-toggleable__label-arrow:hover:before {\n",
       "  color: var(--sklearn-color-text);\n",
       "}\n",
       "\n",
       "/* Toggleable content - dropdown */\n",
       "\n",
       "#sk-container-id-2 div.sk-toggleable__content {\n",
       "  max-height: 0;\n",
       "  max-width: 0;\n",
       "  overflow: hidden;\n",
       "  text-align: left;\n",
       "  /* unfitted */\n",
       "  background-color: var(--sklearn-color-unfitted-level-0);\n",
       "}\n",
       "\n",
       "#sk-container-id-2 div.sk-toggleable__content.fitted {\n",
       "  /* fitted */\n",
       "  background-color: var(--sklearn-color-fitted-level-0);\n",
       "}\n",
       "\n",
       "#sk-container-id-2 div.sk-toggleable__content pre {\n",
       "  margin: 0.2em;\n",
       "  border-radius: 0.25em;\n",
       "  color: var(--sklearn-color-text);\n",
       "  /* unfitted */\n",
       "  background-color: var(--sklearn-color-unfitted-level-0);\n",
       "}\n",
       "\n",
       "#sk-container-id-2 div.sk-toggleable__content.fitted pre {\n",
       "  /* unfitted */\n",
       "  background-color: var(--sklearn-color-fitted-level-0);\n",
       "}\n",
       "\n",
       "#sk-container-id-2 input.sk-toggleable__control:checked~div.sk-toggleable__content {\n",
       "  /* Expand drop-down */\n",
       "  max-height: 200px;\n",
       "  max-width: 100%;\n",
       "  overflow: auto;\n",
       "}\n",
       "\n",
       "#sk-container-id-2 input.sk-toggleable__control:checked~label.sk-toggleable__label-arrow:before {\n",
       "  content: \"▾\";\n",
       "}\n",
       "\n",
       "/* Pipeline/ColumnTransformer-specific style */\n",
       "\n",
       "#sk-container-id-2 div.sk-label input.sk-toggleable__control:checked~label.sk-toggleable__label {\n",
       "  color: var(--sklearn-color-text);\n",
       "  background-color: var(--sklearn-color-unfitted-level-2);\n",
       "}\n",
       "\n",
       "#sk-container-id-2 div.sk-label.fitted input.sk-toggleable__control:checked~label.sk-toggleable__label {\n",
       "  background-color: var(--sklearn-color-fitted-level-2);\n",
       "}\n",
       "\n",
       "/* Estimator-specific style */\n",
       "\n",
       "/* Colorize estimator box */\n",
       "#sk-container-id-2 div.sk-estimator input.sk-toggleable__control:checked~label.sk-toggleable__label {\n",
       "  /* unfitted */\n",
       "  background-color: var(--sklearn-color-unfitted-level-2);\n",
       "}\n",
       "\n",
       "#sk-container-id-2 div.sk-estimator.fitted input.sk-toggleable__control:checked~label.sk-toggleable__label {\n",
       "  /* fitted */\n",
       "  background-color: var(--sklearn-color-fitted-level-2);\n",
       "}\n",
       "\n",
       "#sk-container-id-2 div.sk-label label.sk-toggleable__label,\n",
       "#sk-container-id-2 div.sk-label label {\n",
       "  /* The background is the default theme color */\n",
       "  color: var(--sklearn-color-text-on-default-background);\n",
       "}\n",
       "\n",
       "/* On hover, darken the color of the background */\n",
       "#sk-container-id-2 div.sk-label:hover label.sk-toggleable__label {\n",
       "  color: var(--sklearn-color-text);\n",
       "  background-color: var(--sklearn-color-unfitted-level-2);\n",
       "}\n",
       "\n",
       "/* Label box, darken color on hover, fitted */\n",
       "#sk-container-id-2 div.sk-label.fitted:hover label.sk-toggleable__label.fitted {\n",
       "  color: var(--sklearn-color-text);\n",
       "  background-color: var(--sklearn-color-fitted-level-2);\n",
       "}\n",
       "\n",
       "/* Estimator label */\n",
       "\n",
       "#sk-container-id-2 div.sk-label label {\n",
       "  font-family: monospace;\n",
       "  font-weight: bold;\n",
       "  display: inline-block;\n",
       "  line-height: 1.2em;\n",
       "}\n",
       "\n",
       "#sk-container-id-2 div.sk-label-container {\n",
       "  text-align: center;\n",
       "}\n",
       "\n",
       "/* Estimator-specific */\n",
       "#sk-container-id-2 div.sk-estimator {\n",
       "  font-family: monospace;\n",
       "  border: 1px dotted var(--sklearn-color-border-box);\n",
       "  border-radius: 0.25em;\n",
       "  box-sizing: border-box;\n",
       "  margin-bottom: 0.5em;\n",
       "  /* unfitted */\n",
       "  background-color: var(--sklearn-color-unfitted-level-0);\n",
       "}\n",
       "\n",
       "#sk-container-id-2 div.sk-estimator.fitted {\n",
       "  /* fitted */\n",
       "  background-color: var(--sklearn-color-fitted-level-0);\n",
       "}\n",
       "\n",
       "/* on hover */\n",
       "#sk-container-id-2 div.sk-estimator:hover {\n",
       "  /* unfitted */\n",
       "  background-color: var(--sklearn-color-unfitted-level-2);\n",
       "}\n",
       "\n",
       "#sk-container-id-2 div.sk-estimator.fitted:hover {\n",
       "  /* fitted */\n",
       "  background-color: var(--sklearn-color-fitted-level-2);\n",
       "}\n",
       "\n",
       "/* Specification for estimator info (e.g. \"i\" and \"?\") */\n",
       "\n",
       "/* Common style for \"i\" and \"?\" */\n",
       "\n",
       ".sk-estimator-doc-link,\n",
       "a:link.sk-estimator-doc-link,\n",
       "a:visited.sk-estimator-doc-link {\n",
       "  float: right;\n",
       "  font-size: smaller;\n",
       "  line-height: 1em;\n",
       "  font-family: monospace;\n",
       "  background-color: var(--sklearn-color-background);\n",
       "  border-radius: 1em;\n",
       "  height: 1em;\n",
       "  width: 1em;\n",
       "  text-decoration: none !important;\n",
       "  margin-left: 0.5em;\n",
       "  text-align: center;\n",
       "  /* unfitted */\n",
       "  border: var(--sklearn-color-unfitted-level-1) 1pt solid;\n",
       "  color: var(--sklearn-color-unfitted-level-1);\n",
       "}\n",
       "\n",
       ".sk-estimator-doc-link.fitted,\n",
       "a:link.sk-estimator-doc-link.fitted,\n",
       "a:visited.sk-estimator-doc-link.fitted {\n",
       "  /* fitted */\n",
       "  border: var(--sklearn-color-fitted-level-1) 1pt solid;\n",
       "  color: var(--sklearn-color-fitted-level-1);\n",
       "}\n",
       "\n",
       "/* On hover */\n",
       "div.sk-estimator:hover .sk-estimator-doc-link:hover,\n",
       ".sk-estimator-doc-link:hover,\n",
       "div.sk-label-container:hover .sk-estimator-doc-link:hover,\n",
       ".sk-estimator-doc-link:hover {\n",
       "  /* unfitted */\n",
       "  background-color: var(--sklearn-color-unfitted-level-3);\n",
       "  color: var(--sklearn-color-background);\n",
       "  text-decoration: none;\n",
       "}\n",
       "\n",
       "div.sk-estimator.fitted:hover .sk-estimator-doc-link.fitted:hover,\n",
       ".sk-estimator-doc-link.fitted:hover,\n",
       "div.sk-label-container:hover .sk-estimator-doc-link.fitted:hover,\n",
       ".sk-estimator-doc-link.fitted:hover {\n",
       "  /* fitted */\n",
       "  background-color: var(--sklearn-color-fitted-level-3);\n",
       "  color: var(--sklearn-color-background);\n",
       "  text-decoration: none;\n",
       "}\n",
       "\n",
       "/* Span, style for the box shown on hovering the info icon */\n",
       ".sk-estimator-doc-link span {\n",
       "  display: none;\n",
       "  z-index: 9999;\n",
       "  position: relative;\n",
       "  font-weight: normal;\n",
       "  right: .2ex;\n",
       "  padding: .5ex;\n",
       "  margin: .5ex;\n",
       "  width: min-content;\n",
       "  min-width: 20ex;\n",
       "  max-width: 50ex;\n",
       "  color: var(--sklearn-color-text);\n",
       "  box-shadow: 2pt 2pt 4pt #999;\n",
       "  /* unfitted */\n",
       "  background: var(--sklearn-color-unfitted-level-0);\n",
       "  border: .5pt solid var(--sklearn-color-unfitted-level-3);\n",
       "}\n",
       "\n",
       ".sk-estimator-doc-link.fitted span {\n",
       "  /* fitted */\n",
       "  background: var(--sklearn-color-fitted-level-0);\n",
       "  border: var(--sklearn-color-fitted-level-3);\n",
       "}\n",
       "\n",
       ".sk-estimator-doc-link:hover span {\n",
       "  display: block;\n",
       "}\n",
       "\n",
       "/* \"?\"-specific style due to the `<a>` HTML tag */\n",
       "\n",
       "#sk-container-id-2 a.estimator_doc_link {\n",
       "  float: right;\n",
       "  font-size: 1rem;\n",
       "  line-height: 1em;\n",
       "  font-family: monospace;\n",
       "  background-color: var(--sklearn-color-background);\n",
       "  border-radius: 1rem;\n",
       "  height: 1rem;\n",
       "  width: 1rem;\n",
       "  text-decoration: none;\n",
       "  /* unfitted */\n",
       "  color: var(--sklearn-color-unfitted-level-1);\n",
       "  border: var(--sklearn-color-unfitted-level-1) 1pt solid;\n",
       "}\n",
       "\n",
       "#sk-container-id-2 a.estimator_doc_link.fitted {\n",
       "  /* fitted */\n",
       "  border: var(--sklearn-color-fitted-level-1) 1pt solid;\n",
       "  color: var(--sklearn-color-fitted-level-1);\n",
       "}\n",
       "\n",
       "/* On hover */\n",
       "#sk-container-id-2 a.estimator_doc_link:hover {\n",
       "  /* unfitted */\n",
       "  background-color: var(--sklearn-color-unfitted-level-3);\n",
       "  color: var(--sklearn-color-background);\n",
       "  text-decoration: none;\n",
       "}\n",
       "\n",
       "#sk-container-id-2 a.estimator_doc_link.fitted:hover {\n",
       "  /* fitted */\n",
       "  background-color: var(--sklearn-color-fitted-level-3);\n",
       "}\n",
       "</style><div id=\"sk-container-id-2\" class=\"sk-top-container\"><div class=\"sk-text-repr-fallback\"><pre>Pipeline(steps=[(&#x27;_disparateimpactremoverimpl&#x27;,\n",
       "                 &lt;lale.lib.aif360.disparate_impact_remover._DisparateImpactRemoverImpl object at 0x7faad87b7ad0&gt;),\n",
       "                (&#x27;randomforestclassifier&#x27;,\n",
       "                 RandomForestClassifier(criterion=&#x27;entropy&#x27;,\n",
       "                                        min_samples_leaf=0.3551854079747729,\n",
       "                                        min_samples_split=0.3003021725296457,\n",
       "                                        n_estimators=29))])</pre><b>In a Jupyter environment, please rerun this cell to show the HTML representation or trust the notebook. <br />On GitHub, the HTML representation is unable to render, please try loading this page with nbviewer.org.</b></div><div class=\"sk-container\" hidden><div class=\"sk-item sk-dashed-wrapped\"><div class=\"sk-label-container\"><div class=\"sk-label fitted sk-toggleable\"><input class=\"sk-toggleable__control sk-hidden--visually\" id=\"sk-estimator-id-18\" type=\"checkbox\" ><label for=\"sk-estimator-id-18\" class=\"sk-toggleable__label fitted sk-toggleable__label-arrow\"><div><div>Pipeline</div></div><div><a class=\"sk-estimator-doc-link fitted\" rel=\"noreferrer\" target=\"_blank\" href=\"https://scikit-learn.org/1.6/modules/generated/sklearn.pipeline.Pipeline.html\">?<span>Documentation for Pipeline</span></a><span class=\"sk-estimator-doc-link fitted\">i<span>Fitted</span></span></div></label><div class=\"sk-toggleable__content fitted\"><pre>Pipeline(steps=[(&#x27;_disparateimpactremoverimpl&#x27;,\n",
       "                 &lt;lale.lib.aif360.disparate_impact_remover._DisparateImpactRemoverImpl object at 0x7faad87b7ad0&gt;),\n",
       "                (&#x27;randomforestclassifier&#x27;,\n",
       "                 RandomForestClassifier(criterion=&#x27;entropy&#x27;,\n",
       "                                        min_samples_leaf=0.3551854079747729,\n",
       "                                        min_samples_split=0.3003021725296457,\n",
       "                                        n_estimators=29))])</pre></div> </div></div><div class=\"sk-serial\"><div class=\"sk-item\"><div class=\"sk-estimator fitted sk-toggleable\"><input class=\"sk-toggleable__control sk-hidden--visually\" id=\"sk-estimator-id-19\" type=\"checkbox\" ><label for=\"sk-estimator-id-19\" class=\"sk-toggleable__label fitted sk-toggleable__label-arrow\"><div><div>_DisparateImpactRemoverImpl</div></div></label><div class=\"sk-toggleable__content fitted\"><pre>&lt;lale.lib.aif360.disparate_impact_remover._DisparateImpactRemoverImpl object at 0x7faad87b7ad0&gt;</pre></div> </div></div><div class=\"sk-item\"><div class=\"sk-estimator fitted sk-toggleable\"><input class=\"sk-toggleable__control sk-hidden--visually\" id=\"sk-estimator-id-20\" type=\"checkbox\" ><label for=\"sk-estimator-id-20\" class=\"sk-toggleable__label fitted sk-toggleable__label-arrow\"><div><div>RandomForestClassifier</div></div><div><a class=\"sk-estimator-doc-link fitted\" rel=\"noreferrer\" target=\"_blank\" href=\"https://scikit-learn.org/1.6/modules/generated/sklearn.ensemble.RandomForestClassifier.html\">?<span>Documentation for RandomForestClassifier</span></a></div></label><div class=\"sk-toggleable__content fitted\"><pre>RandomForestClassifier(criterion=&#x27;entropy&#x27;, min_samples_leaf=0.3551854079747729,\n",
       "                       min_samples_split=0.3003021725296457, n_estimators=29)</pre></div> </div></div></div></div></div></div>"
      ],
      "text/plain": [
       "Pipeline(steps=[('_disparateimpactremoverimpl',\n",
       "                 <lale.lib.aif360.disparate_impact_remover._DisparateImpactRemoverImpl object at 0x7faad87b7ad0>),\n",
       "                ('randomforestclassifier',\n",
       "                 RandomForestClassifier(criterion='entropy',\n",
       "                                        min_samples_leaf=0.3551854079747729,\n",
       "                                        min_samples_split=0.3003021725296457,\n",
       "                                        n_estimators=29))])"
      ]
     },
     "execution_count": 20,
     "metadata": {},
     "output_type": "execute_result"
    }
   ],
   "source": [
    "trained_fairer.export_to_sklearn_pipeline()"
   ]
  },
  {
   "cell_type": "code",
   "execution_count": 21,
   "metadata": {
    "id": "a39cb5a8-38f8-43dd-ae61-93a367f817ec"
   },
   "outputs": [
    {
     "name": "stdout",
     "output_type": "stream",
     "text": [
      "accuracy 66.5%\n",
      "disparate impact 1.00\n",
      "accuracy and disparate impact metric 0.83\n"
     ]
    }
   ],
   "source": [
    "print(f\"accuracy {accuracy_scorer(trained_fairer, X_holdout, y_holdout):.1%}\")\n",
    "print(\n",
    "    f\"disparate impact {disparate_impact_scorer(trained_fairer, X_holdout, y_holdout):.2f}\"\n",
    ")\n",
    "print(\n",
    "    f\"accuracy and disparate impact metric {combined_scorer(trained_fairer, X_holdout, y_holdout):.2f}\"\n",
    ")"
   ]
  },
  {
   "cell_type": "markdown",
   "metadata": {
    "id": "e43be103-e0aa-4f2c-a9f9-9b6dd3b3d0db"
   },
   "source": [
    "**Summary:** As result of the described steps we received unbiased pipeline model based on disparate impact value, however the accuracy of the model decreased from 70% to 66%."
   ]
  },
  {
   "cell_type": "markdown",
   "metadata": {
    "id": "99813d25-1245-4c1e-a2b7-0a9a1aa16c1b"
   },
   "source": [
    "<a id=\"scoring\"></a>\n",
    "## 5. Deploy and Score\n",
    "In this section you will learn how to deploy and score Lale pipeline model using WML instance."
   ]
  },
  {
   "cell_type": "markdown",
   "metadata": {
    "id": "c3d811ff-fedd-4e0e-8a99-e6aef7b5e1f7"
   },
   "source": [
    "#### Custom software specification"
   ]
  },
  {
   "cell_type": "markdown",
   "metadata": {
    "id": "b41816e1-b3e3-4c9b-b11f-aab11329c7a6"
   },
   "source": [
    "Created model is AutoAI model refined with Lale. We will create new software specification based on default Python 3.12 environment extended by  `autoai-libs` package."
   ]
  },
  {
   "cell_type": "code",
   "execution_count": 22,
   "metadata": {
    "id": "1ddf6a23-d061-4ffb-b176-fa40b3c9de99",
    "scrolled": true
   },
   "outputs": [
    {
     "name": "stdout",
     "output_type": "stream",
     "text": [
      "ID of default Python 3.12 software specification is:  f47ae1c3-198e-5718-b59d-2ea471561e9e\n"
     ]
    }
   ],
   "source": [
    "base_sw_spec_id = client.software_specifications.get_id_by_name(\"runtime-25.1-py3.12\")\n",
    "print(\"ID of default Python 3.12 software specification is: \", base_sw_spec_id)"
   ]
  },
  {
   "cell_type": "markdown",
   "metadata": {
    "id": "ec0325df-14ae-44dc-81b0-6371cc3462d9"
   },
   "source": [
    "Create the file defining dependencies of package extension."
   ]
  },
  {
   "cell_type": "code",
   "execution_count": 23,
   "metadata": {
    "id": "669d5784-50c5-4851-aca6-b041f1d70133"
   },
   "outputs": [],
   "source": [
    "with open(\"requirements.txt\", \"w\") as file:\n",
    "    file.write(\"autoai-libs\")"
   ]
  },
  {
   "cell_type": "markdown",
   "metadata": {
    "id": "16e0178f-765e-45fd-9c56-86f283ab2666"
   },
   "source": [
    "The `requirements.txt` file describes details of package extention. Now you need to store new package extention with `APIClient`."
   ]
  },
  {
   "cell_type": "code",
   "execution_count": 24,
   "metadata": {
    "id": "91a7e763-a547-45e4-baad-d24a8120ef7e"
   },
   "outputs": [
    {
     "name": "stdout",
     "output_type": "stream",
     "text": [
      "Creating package extensions\n",
      "SUCCESS\n"
     ]
    }
   ],
   "source": [
    "meta_prop_pkg_extn = {\n",
    "    client.package_extensions.ConfigurationMetaNames.NAME: \"Scikit with autoai-libs\",\n",
    "    client.package_extensions.ConfigurationMetaNames.DESCRIPTION: \"Package extension for autoai-libs\",\n",
    "    client.package_extensions.ConfigurationMetaNames.TYPE: \"requirements_txt\",\n",
    "}\n",
    "\n",
    "pkg_extn_details = client.package_extensions.store(\n",
    "    meta_props=meta_prop_pkg_extn, file_path=\"requirements.txt\"\n",
    ")\n",
    "pkg_extn_id = client.package_extensions.get_id(pkg_extn_details)\n",
    "pkg_extn_url = client.package_extensions.get_href(pkg_extn_details)"
   ]
  },
  {
   "cell_type": "markdown",
   "metadata": {
    "id": "8597a271-bdba-40c5-b67b-f26586a29cf1"
   },
   "source": [
    "Create new software specification and add created package extention to it. "
   ]
  },
  {
   "cell_type": "code",
   "execution_count": 25,
   "metadata": {
    "id": "bc4dd0ff-4e34-4070-b499-f8a13e62f8df"
   },
   "outputs": [
    {
     "name": "stdout",
     "output_type": "stream",
     "text": [
      "SUCCESS\n"
     ]
    }
   ],
   "source": [
    "meta_prop_sw_spec = {\n",
    "    client.software_specifications.ConfigurationMetaNames.NAME: \"Mitigated AutoAI bases on scikit specification\",\n",
    "    client.software_specifications.ConfigurationMetaNames.DESCRIPTION: \"Software specification for scikit with autoai-libs\",\n",
    "    client.software_specifications.ConfigurationMetaNames.BASE_SOFTWARE_SPECIFICATION: {\n",
    "        \"guid\": base_sw_spec_id\n",
    "    },\n",
    "}\n",
    "\n",
    "sw_spec_details = client.software_specifications.store(meta_props=meta_prop_sw_spec)\n",
    "sw_spec_id = client.software_specifications.get_id(sw_spec_details)\n",
    "\n",
    "status = client.software_specifications.add_package_extension(sw_spec_id, pkg_extn_id)"
   ]
  },
  {
   "cell_type": "markdown",
   "metadata": {
    "id": "2edc9795-bad9-424e-b433-14f2d48f5c2f"
   },
   "source": [
    "You can get details of created software specification using `client.software_specifications.get_details(sw_spec_id)`"
   ]
  },
  {
   "cell_type": "markdown",
   "metadata": {
    "id": "797da975-0c62-4a6d-b660-fc50a981b029"
   },
   "source": [
    "### Store the model"
   ]
  },
  {
   "cell_type": "code",
   "execution_count": 26,
   "metadata": {
    "id": "bba3d238-a2d8-4979-bea3-19e87a2e49e3"
   },
   "outputs": [],
   "source": [
    "model_props = {\n",
    "    client.repository.ModelMetaNames.NAME: \"Fairer AutoAI model\",\n",
    "    client.repository.ModelMetaNames.TYPE: \"scikit-learn_1.6\",\n",
    "    client.repository.ModelMetaNames.SOFTWARE_SPEC_ID: sw_spec_id,\n",
    "}\n",
    "feature_vector = list(X_train.columns)"
   ]
  },
  {
   "cell_type": "code",
   "execution_count": 27,
   "metadata": {
    "id": "af9410b6-2bad-4451-8cd7-ca2eb295cb27"
   },
   "outputs": [],
   "source": [
    "published_model = client.repository.store_model(\n",
    "    model=best_pipeline.export_to_sklearn_pipeline(),\n",
    "    meta_props=model_props,\n",
    "    training_data=X_train.values,\n",
    "    training_target=y_train.values,\n",
    "    feature_names=feature_vector,\n",
    "    label_column_names=[\"Risk\"],\n",
    ")"
   ]
  },
  {
   "cell_type": "code",
   "execution_count": 28,
   "metadata": {
    "id": "28ae3df8-3f43-4e25-af27-afe41ef72d2d"
   },
   "outputs": [],
   "source": [
    "published_model_id = client.repository.get_model_id(published_model)"
   ]
  },
  {
   "cell_type": "markdown",
   "metadata": {
    "id": "5ad1b3bd-85ea-41f2-b3ee-78869d738a2c"
   },
   "source": [
    "### Deployment creation"
   ]
  },
  {
   "cell_type": "code",
   "execution_count": 29,
   "metadata": {
    "id": "a3143218-34fc-49ef-bec2-9953b096b9ca"
   },
   "outputs": [
    {
     "name": "stdout",
     "output_type": "stream",
     "text": [
      "\n",
      "\n",
      "######################################################################################\n",
      "\n",
      "Synchronous deployment creation for id: '99333010-9333-465f-ab57-bc354ca03efa' started\n",
      "\n",
      "######################################################################################\n",
      "\n",
      "\n",
      "initializing\n",
      "Note: online_url is deprecated and will be removed in a future release. Use serving_urls instead.\n",
      "......\n",
      "ready\n",
      "\n",
      "\n",
      "-----------------------------------------------------------------------------------------------\n",
      "Successfully finished deployment creation, deployment_id='1e5d83bd-43c0-4c2b-95cf-dfd002687aed'\n",
      "-----------------------------------------------------------------------------------------------\n",
      "\n",
      "\n"
     ]
    }
   ],
   "source": [
    "metadata = {\n",
    "    client.deployments.ConfigurationMetaNames.NAME: \"Deployment of fairer model\",\n",
    "    client.deployments.ConfigurationMetaNames.ONLINE: {},\n",
    "}\n",
    "\n",
    "created_deployment = client.deployments.create(published_model_id, meta_props=metadata)"
   ]
  },
  {
   "cell_type": "code",
   "execution_count": 30,
   "metadata": {
    "id": "637c3b38-6fb2-48fd-82ff-708ffdb67d06"
   },
   "outputs": [],
   "source": [
    "deployment_id = client.deployments.get_id(created_deployment)"
   ]
  },
  {
   "cell_type": "markdown",
   "metadata": {
    "id": "8b4f7ef7-4fb4-4dec-b385-e5f2402c4f9c"
   },
   "source": [
    "#### Deployment scoring "
   ]
  },
  {
   "cell_type": "markdown",
   "metadata": {
    "id": "b1cb6997-cc96-4b28-acf0-ffbc73d86276"
   },
   "source": [
    "You need to pass scoring values as input data if the deployed model. Use `client.deployments.score()` method to get predictions from deployed model. "
   ]
  },
  {
   "cell_type": "code",
   "execution_count": 31,
   "metadata": {
    "id": "442fce9e-4126-407a-8fb2-ceb452f08fa4"
   },
   "outputs": [],
   "source": [
    "values = X_holdout.values\n",
    "\n",
    "scoring_payload = {\"input_data\": [{\"values\": values[:5]}]}"
   ]
  },
  {
   "cell_type": "code",
   "execution_count": 32,
   "metadata": {
    "id": "b4ea3cd8-e983-41b2-a2d6-323b299b55b8"
   },
   "outputs": [
    {
     "data": {
      "text/plain": [
       "{'predictions': [{'fields': ['prediction', 'probability'],\n",
       "   'values': [['No Risk', [0.7776124477386475, 0.22238758206367493]],\n",
       "    ['No Risk', [0.7723912596702576, 0.22760875523090363]],\n",
       "    ['No Risk', [0.7723912596702576, 0.22760875523090363]],\n",
       "    ['No Risk', [0.7541248202323914, 0.24587517976760864]],\n",
       "    ['No Risk', [0.7541248202323914, 0.24587517976760864]]]}]}"
      ]
     },
     "execution_count": 32,
     "metadata": {},
     "output_type": "execute_result"
    }
   ],
   "source": [
    "predictions = client.deployments.score(deployment_id, scoring_payload)\n",
    "predictions"
   ]
  },
  {
   "cell_type": "markdown",
   "metadata": {
    "id": "118c2f24-cdfd-4310-bdb9-f34a5f0ddc03"
   },
   "source": [
    "<a id=\"cleanup\"></a>\n",
    "## 5. Clean up"
   ]
  },
  {
   "cell_type": "markdown",
   "metadata": {
    "id": "722a0a88-772d-4ea0-ae9b-76db2bdc18d2"
   },
   "source": [
    "If you want to clean up all created assets:\n",
    "- experiments\n",
    "- trainings\n",
    "- pipelines\n",
    "- model definitions\n",
    "- models\n",
    "- functions\n",
    "- deployments\n",
    "\n",
    "please follow up this sample [notebook](https://github.com/IBM/watsonx-ai-samples/blob/master/cpd5.2/notebooks/python_sdk/instance-management/Machine%20Learning%20artifacts%20management.ipynb)."
   ]
  },
  {
   "cell_type": "markdown",
   "metadata": {
    "id": "dc8ddc92-f572-4bd1-94e1-0bca2c16cf9a"
   },
   "source": [
    "<a id=\"summary\"></a>\n",
    "## 6. Summary and next steps"
   ]
  },
  {
   "cell_type": "markdown",
   "metadata": {
    "id": "2177a81e-5cc9-46b0-a2a0-13a2848a977b"
   },
   "source": [
    "You successfully completed this notebook!\n",
    "\n",
    "Check out the documentations of libraries used in this notebook:\n",
    "- `ibm-watsonx-ai` [Online Documentation](https://ibm.github.io/watsonx-ai-python-sdk/index.html)\n",
    "- `lale`: https://github.com/IBM/lale\n",
    "- `aif360`: https://aif360.mybluemix.net/"
   ]
  },
  {
   "cell_type": "markdown",
   "metadata": {
    "id": "efc5675d-0ded-4cc4-9bef-2f15bbbfe943"
   },
   "source": [
    "### Authors\n",
    "\n",
    "**Dorota Lączak**, Software Engineer at watsonx.ai."
   ]
  },
  {
   "cell_type": "markdown",
   "metadata": {
    "id": "e49cd237-4660-4078-b2e9-fac386dbb877"
   },
   "source": [
    "Copyright © 2022-2025 IBM. This notebook and its source code are released under the terms of the MIT License."
   ]
  }
 ],
 "metadata": {
  "kernelspec": {
   "display_name": "watsonx-ai-samples-py-312",
   "language": "python",
   "name": "python3"
  },
  "language_info": {
   "codemirror_mode": {
    "name": "ipython",
    "version": 3
   },
   "file_extension": ".py",
   "mimetype": "text/x-python",
   "name": "python",
   "nbconvert_exporter": "python",
   "pygments_lexer": "ipython3",
   "version": "3.12.9"
  }
 },
 "nbformat": 4,
 "nbformat_minor": 4
}

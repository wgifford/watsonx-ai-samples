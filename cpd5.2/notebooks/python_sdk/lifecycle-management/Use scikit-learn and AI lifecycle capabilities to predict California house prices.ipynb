{
  "cells": [
    {
      "cell_type": "markdown",
      "metadata": {},
      "source": [
        "# Use scikit-learn and AI lifecycle capabilities to predict California house prices with `ibm-watsonx-ai`\n",
        "\n",
        "This notebook contains steps and code to demonstrate support of AI Lifecycle features in watsonx.ai Runtime service. It contains steps and code to work with [ibm-watsonx-ai](https://pypi.python.org/pypi/ibm-watsonx-ai) library available in PyPI repository. It also introduces commands for getting model and training data, persisting model, deploying model, scoring it, updating the model and redeploying it.\n",
        "\n",
        "Some familiarity with Python is helpful. This notebook uses Python 3.12."
      ]
    },
    {
      "cell_type": "markdown",
      "metadata": {},
      "source": [
        "## Learning goals\n",
        "\n",
        "The learning goals of this notebook are:\n",
        "\n",
        "-  Download an externally trained scikit-learn model with dataset.\n",
        "-  Persist an external model in watsonx.ai Runtime repository.\n",
        "-  Deploy model for online scoring using client library.\n",
        "-  Score sample records using client library.\n",
        "-  Update previously persisted model.\n",
        "-  Redeploy model in-place.\n",
        "-  Scale deployment.\n",
        "\n",
        "\n",
        "## Contents\n",
        "\n",
        "This notebook contains the following parts:\n",
        "\n",
        "1.  [Setup](#setup)\n",
        "2.  [Download externally created scikit model and data](#download)\n",
        "3.  [Persist externally created scikit model](#persistence)\n",
        "4.  [Deploy and score in a Cloud](#scoring)\n",
        "5.  [Persist new version of the model](#update_model)\n",
        "6.  [Redeploy new version of the model](#redeploy)\n",
        "7.  [Deployment scaling](#scale)\n",
        "8.  [Clean up](#cleanup)\n",
        "9.  [Summary and next steps](#summary)"
      ]
    },
    {
      "cell_type": "markdown",
      "metadata": {},
      "source": [
        "<a id=\"setup\"></a>\n",
        "## 1. Set up the environment\n",
        "\n",
        "Before you use the sample code in this notebook, you must perform the following setup tasks:\n",
        "\n",
        "-  Contact with your Cloud Pak for Data administrator and ask them for your account credentials"
      ]
    },
    {
      "cell_type": "markdown",
      "metadata": {},
      "source": [
        "### Install dependencies\n",
        "**Note:** `ibm-watsonx-ai` documentation can be found <a href=\"https://ibm.github.io/watsonx-ai-python-sdk/index.html\" target=\"_blank\" rel=\"noopener no referrer\">here</a>."
      ]
    },
    {
      "cell_type": "code",
      "execution_count": 1,
      "metadata": {},
      "outputs": [
        {
          "name": "stdout",
          "output_type": "stream",
          "text": [
            "Successfully installed wget-3.2\n",
            "Successfully installed ibm-watsonx-ai-1.3.14\n",
            "Successfully installed scikit-learn-1.6.1\n"
          ]
        }
      ],
      "source": [
        "%pip install wget | tail -n 1\n",
        "%pip install \"ibm-watsonx-ai>=1.3.14\" | tail -n 1\n",
        "%pip install \"scikit-learn==1.6.1\" | tail -n 1"
      ]
    },
    {
      "cell_type": "markdown",
      "metadata": {},
      "source": [
        "#### Define credentials\n",
        "\n",
        "Authenticate the watsonx.ai Runtime service on IBM Cloud Pak for Data. You need to provide the **admin's** `username` and the platform `url`."
      ]
    },
    {
      "cell_type": "code",
      "execution_count": 2,
      "metadata": {},
      "outputs": [],
      "source": [
        "username = \"PASTE YOUR USERNAME HERE\"\n",
        "url = \"PASTE THE PLATFORM URL HERE\""
      ]
    },
    {
      "cell_type": "markdown",
      "metadata": {},
      "source": [
        "Use the **admin's** `api_key` to authenticate watsonx.ai Runtime:"
      ]
    },
    {
      "cell_type": "code",
      "execution_count": null,
      "metadata": {},
      "outputs": [],
      "source": [
        "import getpass\n",
        "from ibm_watsonx_ai import Credentials\n",
        "\n",
        "credentials = Credentials(\n",
        "    username=username,\n",
        "    api_key=getpass.getpass(\"Enter your watsonx.ai API key and hit enter: \"),\n",
        "    url=url,\n",
        "    instance_id=\"openshift\",\n",
        "    version=\"5.2\",\n",
        ")"
      ]
    },
    {
      "cell_type": "markdown",
      "metadata": {},
      "source": [
        "Alternatively you can use the **admin's** `password`:"
      ]
    },
    {
      "cell_type": "code",
      "execution_count": 3,
      "metadata": {},
      "outputs": [],
      "source": [
        "import getpass\n",
        "from ibm_watsonx_ai import Credentials\n",
        "\n",
        "if \"credentials\" not in locals() or not credentials.api_key:\n",
        "    credentials = Credentials(\n",
        "        username=username,\n",
        "        password=getpass.getpass(\"Enter your watsonx.ai password and hit enter: \"),\n",
        "        url=url,\n",
        "        instance_id=\"openshift\",\n",
        "        version=\"5.2\",\n",
        "    )"
      ]
    },
    {
      "cell_type": "markdown",
      "metadata": {},
      "source": [
        "### Create `APIClient` instance"
      ]
    },
    {
      "cell_type": "code",
      "execution_count": 4,
      "metadata": {},
      "outputs": [],
      "source": [
        "from ibm_watsonx_ai import APIClient\n",
        "\n",
        "client = APIClient(credentials)"
      ]
    },
    {
      "cell_type": "markdown",
      "metadata": {},
      "source": [
        "### Working with spaces\n",
        "\n",
        "First of all, you need to create a space that will be used for your work. If you do not have space already created, you can use `{PLATFORM_URL}/ml-runtime/spaces?context=icp4data` to create one.\n",
        "\n",
        "- Click New Deployment Space\n",
        "- Create an empty space\n",
        "- Go to space `Settings` tab\n",
        "- Copy `space_id` and paste it below\n",
        "\n",
        "**Tip**: You can also use SDK to prepare the space for your work. More information can be found [here](https://github.com/IBM/watsonx-ai-samples/blob/master/cpd5.2/notebooks/python_sdk/instance-management/Space%20management.ipynb).\n",
        "\n",
        "**Action**: Assign space ID below"
      ]
    },
    {
      "cell_type": "code",
      "execution_count": 5,
      "metadata": {},
      "outputs": [],
      "source": [
        "space_id = \"PASTE YOUR SPACE ID HERE\""
      ]
    },
    {
      "cell_type": "markdown",
      "metadata": {},
      "source": [
        "You can use `list` method to print all existing spaces."
      ]
    },
    {
      "cell_type": "code",
      "execution_count": null,
      "metadata": {},
      "outputs": [],
      "source": [
        "client.spaces.list(limit=10)"
      ]
    },
    {
      "cell_type": "markdown",
      "metadata": {},
      "source": [
        "To be able to interact with all resources available in watsonx.ai, you need to set **space** which you will be using."
      ]
    },
    {
      "cell_type": "code",
      "execution_count": 7,
      "metadata": {},
      "outputs": [
        {
          "data": {
            "text/plain": [
              "'SUCCESS'"
            ]
          },
          "execution_count": 7,
          "metadata": {},
          "output_type": "execute_result"
        }
      ],
      "source": [
        "client.set.default_space(space_id)"
      ]
    },
    {
      "cell_type": "markdown",
      "metadata": {
        "pycharm": {
          "name": "#%% md\n"
        }
      },
      "source": [
        "<a id=\"download\"></a>\n",
        "## 2. Download externally created scikit model and data\n",
        "In this section, you will download externally created scikit models and data used for training it."
      ]
    },
    {
      "cell_type": "code",
      "execution_count": 8,
      "metadata": {},
      "outputs": [],
      "source": [
        "import os\n",
        "import wget\n",
        "\n",
        "data_dir = \"CALIFORNIA_HOUSE_PRICES_DATA\"\n",
        "if not os.path.isdir(data_dir):\n",
        "    os.mkdir(data_dir)\n",
        "\n",
        "model_path = os.path.join(data_dir, \"california_house_prices_model.tar.gz\")\n",
        "updated_model_path = os.path.join(\n",
        "    data_dir, \"updated_california_house_prices_model.tar.gz\"\n",
        ")\n",
        "if not os.path.isfile(model_path):\n",
        "    wget.download(\n",
        "        \"https://github.com/IBM/watsonx-ai-samples/raw/master/cpd5.2/models/scikit/california_house_prices/model/california_house_prices_model.tar.gz\",\n",
        "        out=data_dir,\n",
        "    )\n",
        "if not os.path.isfile(updated_model_path):\n",
        "    wget.download(\n",
        "        \"https://github.com/IBM/watsonx-ai-samples/raw/master/cpd5.2/models/scikit/california_house_prices/model/updated_california_house_prices_model.tar.gz\",\n",
        "        out=data_dir,\n",
        "    )"
      ]
    },
    {
      "cell_type": "code",
      "execution_count": 9,
      "metadata": {},
      "outputs": [],
      "source": [
        "import pandas as pd\n",
        "from sklearn import datasets\n",
        "\n",
        "california_data = datasets.fetch_california_housing(as_frame=True)\n",
        "train_df: pd.DataFrame = california_data.frame\n",
        "test_df: pd.DataFrame = california_data.data"
      ]
    },
    {
      "cell_type": "markdown",
      "metadata": {},
      "source": [
        "<a id=\"persistence\"></a>\n",
        "## 3. Persist externally created scikit model"
      ]
    },
    {
      "cell_type": "markdown",
      "metadata": {},
      "source": [
        "In this section, you will learn how to store your model in watsonx.ai Runtime repository by using the watsonx.ai Client."
      ]
    },
    {
      "cell_type": "markdown",
      "metadata": {},
      "source": [
        "### 3.1: Publish model"
      ]
    },
    {
      "cell_type": "markdown",
      "metadata": {},
      "source": [
        "#### Publish model in watsonx.ai Runtime repository on Cloud Pak for Data."
      ]
    },
    {
      "cell_type": "markdown",
      "metadata": {},
      "source": [
        "Define model name, author name and email."
      ]
    },
    {
      "cell_type": "code",
      "execution_count": 10,
      "metadata": {
        "pycharm": {
          "is_executing": false,
          "name": "#%%\n"
        }
      },
      "outputs": [],
      "source": [
        "sofware_spec_id = client.software_specifications.get_id_by_name(\"runtime-25.1-py3.12\")"
      ]
    },
    {
      "cell_type": "code",
      "execution_count": 11,
      "metadata": {
        "pycharm": {
          "is_executing": false,
          "name": "#%%\n"
        }
      },
      "outputs": [],
      "source": [
        "metadata = {\n",
        "    client.repository.ModelMetaNames.NAME: \"External scikit model\",\n",
        "    client.repository.ModelMetaNames.TYPE: \"scikit-learn_1.6\",\n",
        "    client.repository.ModelMetaNames.SOFTWARE_SPEC_ID: sofware_spec_id,\n",
        "}\n",
        "\n",
        "published_model = client.repository.store_model(\n",
        "    model=model_path, meta_props=metadata, training_data=train_df\n",
        ")"
      ]
    },
    {
      "cell_type": "markdown",
      "metadata": {},
      "source": [
        "### 3.2: Get model details"
      ]
    },
    {
      "cell_type": "code",
      "execution_count": 12,
      "metadata": {
        "pycharm": {
          "is_executing": false,
          "name": "#%%\n"
        }
      },
      "outputs": [
        {
          "name": "stdout",
          "output_type": "stream",
          "text": [
            "{\n",
            "  \"metadata\": {\n",
            "    \"name\": \"External scikit model\",\n",
            "    \"space_id\": \"2c457214-b038-44f9-b05d-4f5a67633853\",\n",
            "    \"resource_key\": \"05496178-b554-4296-bec7-3ecd7a6275dd\",\n",
            "    \"id\": \"3513f8b7-9c2d-46b3-86a8-781cb797db84\",\n",
            "    \"created_at\": \"2025-04-30T13:02:33Z\",\n",
            "    \"rov\": {\n",
            "      \"member_roles\": {\n",
            "        \"1000331001\": {\n",
            "          \"user_iam_id\": \"1000331001\",\n",
            "          \"roles\": [\n",
            "            \"OWNER\"\n",
            "          ]\n",
            "        }\n",
            "      }\n",
            "    },\n",
            "    \"owner\": \"1000331001\"\n",
            "  },\n",
            "  \"entity\": {\n",
            "    \"software_spec\": {\n",
            "      \"id\": \"f47ae1c3-198e-5718-b59d-2ea471561e9e\"\n",
            "    },\n",
            "    \"type\": \"scikit-learn_1.6\"\n",
            "  }\n",
            "}\n"
          ]
        }
      ],
      "source": [
        "import json\n",
        "\n",
        "published_model_id = client.repository.get_model_id(published_model)\n",
        "model_details = client.repository.get_details(published_model_id)\n",
        "print(json.dumps(model_details, indent=2))"
      ]
    },
    {
      "cell_type": "markdown",
      "metadata": {},
      "source": [
        "### 3.3 Get all models"
      ]
    },
    {
      "cell_type": "code",
      "execution_count": 13,
      "metadata": {
        "pycharm": {
          "is_executing": false,
          "name": "#%%\n"
        }
      },
      "outputs": [],
      "source": [
        "models_details = client.repository.list_models(limit=10)"
      ]
    },
    {
      "cell_type": "markdown",
      "metadata": {},
      "source": [
        "<a id=\"scoring\"></a>\n",
        "## 4. Deploy and score in a Cloud"
      ]
    },
    {
      "cell_type": "markdown",
      "metadata": {},
      "source": [
        "In this section you will learn how to create online scoring and to score a new data record by using the watsonx.ai Client."
      ]
    },
    {
      "cell_type": "markdown",
      "metadata": {},
      "source": [
        "### 4.1: Create model deployment"
      ]
    },
    {
      "cell_type": "markdown",
      "metadata": {},
      "source": [
        "#### Create online deployment for published model"
      ]
    },
    {
      "cell_type": "code",
      "execution_count": 14,
      "metadata": {
        "pycharm": {
          "is_executing": false,
          "name": "#%%\n"
        },
        "scrolled": true
      },
      "outputs": [
        {
          "name": "stdout",
          "output_type": "stream",
          "text": [
            "\n",
            "\n",
            "######################################################################################\n",
            "\n",
            "Synchronous deployment creation for id: '3513f8b7-9c2d-46b3-86a8-781cb797db84' started\n",
            "\n",
            "######################################################################################\n",
            "\n",
            "\n",
            "initializing\n",
            "Note: online_url is deprecated and will be removed in a future release. Use serving_urls instead.\n",
            "\n",
            "ready\n",
            "\n",
            "\n",
            "-----------------------------------------------------------------------------------------------\n",
            "Successfully finished deployment creation, deployment_id='9425c145-66e0-4c59-926b-62268fb80f17'\n",
            "-----------------------------------------------------------------------------------------------\n",
            "\n",
            "\n"
          ]
        }
      ],
      "source": [
        "metadata = {\n",
        "    client.deployments.ConfigurationMetaNames.NAME: \"Deployment of external scikit model\",\n",
        "    client.deployments.ConfigurationMetaNames.ONLINE: {},\n",
        "}\n",
        "\n",
        "created_deployment = client.deployments.create(published_model_id, meta_props=metadata)"
      ]
    },
    {
      "cell_type": "markdown",
      "metadata": {},
      "source": [
        "**Note**: Here we use deployment url saved in published_model object. In next section, we show how to retrieve deployment url from watsonx.ai Runtime instance."
      ]
    },
    {
      "cell_type": "code",
      "execution_count": 15,
      "metadata": {},
      "outputs": [],
      "source": [
        "deployment_id = client.deployments.get_id(created_deployment)"
      ]
    },
    {
      "cell_type": "markdown",
      "metadata": {},
      "source": [
        "Now you can print an online scoring endpoint. "
      ]
    },
    {
      "cell_type": "code",
      "execution_count": null,
      "metadata": {
        "pycharm": {
          "is_executing": false,
          "name": "#%%\n"
        }
      },
      "outputs": [],
      "source": [
        "scoring_endpoint = client.deployments.get_scoring_href(created_deployment)\n",
        "print(scoring_endpoint)"
      ]
    },
    {
      "cell_type": "markdown",
      "metadata": {},
      "source": [
        "You can also list existing deployments."
      ]
    },
    {
      "cell_type": "code",
      "execution_count": 17,
      "metadata": {},
      "outputs": [
        {
          "data": {
            "text/html": [
              "<div>\n",
              "<style scoped>\n",
              "    .dataframe tbody tr th:only-of-type {\n",
              "        vertical-align: middle;\n",
              "    }\n",
              "\n",
              "    .dataframe tbody tr th {\n",
              "        vertical-align: top;\n",
              "    }\n",
              "\n",
              "    .dataframe thead th {\n",
              "        text-align: right;\n",
              "    }\n",
              "</style>\n",
              "<table border=\"1\" class=\"dataframe\">\n",
              "  <thead>\n",
              "    <tr style=\"text-align: right;\">\n",
              "      <th></th>\n",
              "      <th>ID</th>\n",
              "      <th>NAME</th>\n",
              "      <th>STATE</th>\n",
              "      <th>CREATED</th>\n",
              "      <th>ARTIFACT_TYPE</th>\n",
              "      <th>SPEC_STATE</th>\n",
              "      <th>SPEC_REPLACEMENT</th>\n",
              "    </tr>\n",
              "  </thead>\n",
              "  <tbody>\n",
              "    <tr>\n",
              "      <th>0</th>\n",
              "      <td>9425c145-66e0-4c59-926b-62268fb80f17</td>\n",
              "      <td>Deployment of external scikit model</td>\n",
              "      <td>ready</td>\n",
              "      <td>2025-04-30T13:02:45.627Z</td>\n",
              "      <td>model</td>\n",
              "      <td>supported</td>\n",
              "      <td></td>\n",
              "    </tr>\n",
              "    <tr>\n",
              "      <th>1</th>\n",
              "      <td>3e27f1cd-e04a-4310-9010-a48f21977bab</td>\n",
              "      <td>Deployment of external scikit model - scaling</td>\n",
              "      <td>ready</td>\n",
              "      <td>2025-04-30T12:53:49.589Z</td>\n",
              "      <td>model</td>\n",
              "      <td>supported</td>\n",
              "      <td></td>\n",
              "    </tr>\n",
              "  </tbody>\n",
              "</table>\n",
              "</div>"
            ],
            "text/plain": [
              "                                     ID  \\\n",
              "0  9425c145-66e0-4c59-926b-62268fb80f17   \n",
              "1  3e27f1cd-e04a-4310-9010-a48f21977bab   \n",
              "\n",
              "                                            NAME  STATE  \\\n",
              "0            Deployment of external scikit model  ready   \n",
              "1  Deployment of external scikit model - scaling  ready   \n",
              "\n",
              "                    CREATED ARTIFACT_TYPE SPEC_STATE SPEC_REPLACEMENT  \n",
              "0  2025-04-30T13:02:45.627Z         model  supported                   \n",
              "1  2025-04-30T12:53:49.589Z         model  supported                   "
            ]
          },
          "execution_count": 17,
          "metadata": {},
          "output_type": "execute_result"
        }
      ],
      "source": [
        "client.deployments.list(limit=10)"
      ]
    },
    {
      "cell_type": "markdown",
      "metadata": {},
      "source": [
        "### 4.2: Get deployment details"
      ]
    },
    {
      "cell_type": "code",
      "execution_count": null,
      "metadata": {
        "pycharm": {
          "is_executing": false,
          "name": "#%%\n"
        }
      },
      "outputs": [],
      "source": [
        "print(json.dumps(client.deployments.get_details(deployment_id), indent=2))"
      ]
    },
    {
      "cell_type": "markdown",
      "metadata": {},
      "source": [
        "### 4.3: Score"
      ]
    },
    {
      "cell_type": "markdown",
      "metadata": {},
      "source": [
        "You can use below method to do test scoring request against deployed model."
      ]
    },
    {
      "cell_type": "markdown",
      "metadata": {},
      "source": [
        "**Action**: Prepare scoring payload with records to score."
      ]
    },
    {
      "cell_type": "code",
      "execution_count": 19,
      "metadata": {},
      "outputs": [],
      "source": [
        "input_to_score_0 = test_df.iloc[0].to_list()\n",
        "input_to_score_1 = test_df.iloc[1].to_list()"
      ]
    },
    {
      "cell_type": "code",
      "execution_count": 20,
      "metadata": {
        "pycharm": {
          "is_executing": false,
          "name": "#%%\n"
        }
      },
      "outputs": [],
      "source": [
        "scoring_payload = {\"input_data\": [{\"values\": [input_to_score_0, input_to_score_1]}]}"
      ]
    },
    {
      "cell_type": "markdown",
      "metadata": {},
      "source": [
        "Use ``client.deployments.score()`` method to run scoring."
      ]
    },
    {
      "cell_type": "code",
      "execution_count": 21,
      "metadata": {
        "pycharm": {
          "is_executing": false,
          "name": "#%%\n"
        }
      },
      "outputs": [],
      "source": [
        "predictions = client.deployments.score(deployment_id, scoring_payload)"
      ]
    },
    {
      "cell_type": "code",
      "execution_count": 22,
      "metadata": {
        "pycharm": {
          "is_executing": false,
          "name": "#%%\n"
        }
      },
      "outputs": [
        {
          "name": "stdout",
          "output_type": "stream",
          "text": [
            "{\n",
            "  \"predictions\": [\n",
            "    {\n",
            "      \"fields\": [\n",
            "        \"prediction\"\n",
            "      ],\n",
            "      \"values\": [\n",
            "        [\n",
            "          4.13735959280643\n",
            "        ],\n",
            "        [\n",
            "          3.9916712643047543\n",
            "        ]\n",
            "      ]\n",
            "    }\n",
            "  ]\n",
            "}\n"
          ]
        }
      ],
      "source": [
        "print(json.dumps(predictions, indent=2))"
      ]
    },
    {
      "cell_type": "markdown",
      "metadata": {
        "pycharm": {
          "name": "#%% md\n"
        }
      },
      "source": [
        "<a id=\"update_model\"></a>\n",
        "## 5. Persist new version of the model"
      ]
    },
    {
      "cell_type": "markdown",
      "metadata": {},
      "source": [
        "In this section, you'll learn how to store new version of your model in watsonx.ai Runtime repository by using the watsonx.ai Client."
      ]
    },
    {
      "cell_type": "markdown",
      "metadata": {},
      "source": [
        "### 5.1: Publish new version of the model"
      ]
    },
    {
      "cell_type": "markdown",
      "metadata": {},
      "source": [
        "Save the current model version. "
      ]
    },
    {
      "cell_type": "code",
      "execution_count": 23,
      "metadata": {},
      "outputs": [
        {
          "name": "stdout",
          "output_type": "stream",
          "text": [
            "{\n",
            "  \"metadata\": {\n",
            "    \"name\": \"External scikit model\",\n",
            "    \"space_id\": \"2c457214-b038-44f9-b05d-4f5a67633853\",\n",
            "    \"resource_key\": \"05496178-b554-4296-bec7-3ecd7a6275dd\",\n",
            "    \"id\": \"3513f8b7-9c2d-46b3-86a8-781cb797db84\",\n",
            "    \"created_at\": \"2025-04-30T13:02:33Z\",\n",
            "    \"rev\": \"1\",\n",
            "    \"commit_info\": {\n",
            "      \"committed_at\": \"2025-04-30T13:03:02Z\"\n",
            "    },\n",
            "    \"rov\": {\n",
            "      \"member_roles\": {\n",
            "        \"1000331001\": {\n",
            "          \"user_iam_id\": \"1000331001\",\n",
            "          \"roles\": [\n",
            "            \"OWNER\"\n",
            "          ]\n",
            "        }\n",
            "      }\n",
            "    },\n",
            "    \"owner\": \"1000331001\"\n",
            "  },\n",
            "  \"entity\": {\n",
            "    \"software_spec\": {\n",
            "      \"id\": \"f47ae1c3-198e-5718-b59d-2ea471561e9e\"\n",
            "    },\n",
            "    \"type\": \"scikit-learn_1.6\"\n",
            "  }\n",
            "}\n"
          ]
        }
      ],
      "source": [
        "print(json.dumps(client.repository.create_model_revision(published_model_id), indent=2))"
      ]
    },
    {
      "cell_type": "markdown",
      "metadata": {},
      "source": [
        "Define new model name and update model content. "
      ]
    },
    {
      "cell_type": "code",
      "execution_count": 24,
      "metadata": {
        "pycharm": {
          "is_executing": false,
          "name": "#%%\n"
        }
      },
      "outputs": [],
      "source": [
        "metadata = {client.repository.ModelMetaNames.NAME: \"External scikit model - updated\"}\n",
        "\n",
        "published_model = client.repository.update_model(\n",
        "    model_uid=published_model_id,\n",
        "    update_model=updated_model_path,\n",
        "    updated_meta_props=metadata,\n",
        ")"
      ]
    },
    {
      "cell_type": "markdown",
      "metadata": {},
      "source": [
        "Save new model revision of the updated model. "
      ]
    },
    {
      "cell_type": "code",
      "execution_count": 25,
      "metadata": {},
      "outputs": [
        {
          "name": "stdout",
          "output_type": "stream",
          "text": [
            "{\n",
            "  \"metadata\": {\n",
            "    \"name\": \"External scikit model - updated\",\n",
            "    \"space_id\": \"2c457214-b038-44f9-b05d-4f5a67633853\",\n",
            "    \"resource_key\": \"aefaa88a-84f5-4bc9-9ad3-20c9ae965e92\",\n",
            "    \"id\": \"3513f8b7-9c2d-46b3-86a8-781cb797db84\",\n",
            "    \"created_at\": \"2025-04-30T13:02:33Z\",\n",
            "    \"rev\": \"2\",\n",
            "    \"commit_info\": {\n",
            "      \"committed_at\": \"2025-04-30T13:03:34Z\"\n",
            "    },\n",
            "    \"rov\": {\n",
            "      \"member_roles\": {\n",
            "        \"1000331001\": {\n",
            "          \"user_iam_id\": \"1000331001\",\n",
            "          \"roles\": [\n",
            "            \"OWNER\"\n",
            "          ]\n",
            "        }\n",
            "      }\n",
            "    },\n",
            "    \"owner\": \"1000331001\"\n",
            "  },\n",
            "  \"entity\": {\n",
            "    \"software_spec\": {\n",
            "      \"id\": \"f47ae1c3-198e-5718-b59d-2ea471561e9e\"\n",
            "    },\n",
            "    \"type\": \"scikit-learn_1.6\"\n",
            "  }\n",
            "}\n"
          ]
        }
      ],
      "source": [
        "new_model_revision = client.repository.create_model_revision(published_model_id)\n",
        "print(json.dumps(new_model_revision, indent=2))"
      ]
    },
    {
      "cell_type": "markdown",
      "metadata": {},
      "source": [
        "**Note:** Model revisions can be identified by model `id` and `rev` number. \n",
        "\n",
        "Get model `rev` number from creation details:"
      ]
    },
    {
      "cell_type": "code",
      "execution_count": 26,
      "metadata": {},
      "outputs": [],
      "source": [
        "rev_id = new_model_revision[\"metadata\"].get(\"rev\")"
      ]
    },
    {
      "cell_type": "markdown",
      "metadata": {},
      "source": [
        "You can list existing revisions of the model. "
      ]
    },
    {
      "cell_type": "code",
      "execution_count": 27,
      "metadata": {},
      "outputs": [
        {
          "data": {
            "text/html": [
              "<div>\n",
              "<style scoped>\n",
              "    .dataframe tbody tr th:only-of-type {\n",
              "        vertical-align: middle;\n",
              "    }\n",
              "\n",
              "    .dataframe tbody tr th {\n",
              "        vertical-align: top;\n",
              "    }\n",
              "\n",
              "    .dataframe thead th {\n",
              "        text-align: right;\n",
              "    }\n",
              "</style>\n",
              "<table border=\"1\" class=\"dataframe\">\n",
              "  <thead>\n",
              "    <tr style=\"text-align: right;\">\n",
              "      <th></th>\n",
              "      <th>REV</th>\n",
              "      <th>NAME</th>\n",
              "      <th>CREATED</th>\n",
              "    </tr>\n",
              "  </thead>\n",
              "  <tbody>\n",
              "    <tr>\n",
              "      <th>0</th>\n",
              "      <td>2</td>\n",
              "      <td>External scikit model - updated</td>\n",
              "      <td>2025-04-30T13:02:33Z</td>\n",
              "    </tr>\n",
              "    <tr>\n",
              "      <th>1</th>\n",
              "      <td>1</td>\n",
              "      <td>External scikit model</td>\n",
              "      <td>2025-04-30T13:02:33Z</td>\n",
              "    </tr>\n",
              "  </tbody>\n",
              "</table>\n",
              "</div>"
            ],
            "text/plain": [
              "  REV                             NAME               CREATED\n",
              "0   2  External scikit model - updated  2025-04-30T13:02:33Z\n",
              "1   1            External scikit model  2025-04-30T13:02:33Z"
            ]
          },
          "execution_count": 27,
          "metadata": {},
          "output_type": "execute_result"
        }
      ],
      "source": [
        "client.repository.list_models_revisions(published_model_id)"
      ]
    },
    {
      "cell_type": "markdown",
      "metadata": {},
      "source": [
        "### 5.2: Get model details"
      ]
    },
    {
      "cell_type": "code",
      "execution_count": 28,
      "metadata": {
        "pycharm": {
          "name": "#%%\n"
        }
      },
      "outputs": [
        {
          "name": "stdout",
          "output_type": "stream",
          "text": [
            "{\n",
            "  \"metadata\": {\n",
            "    \"name\": \"External scikit model - updated\",\n",
            "    \"space_id\": \"2c457214-b038-44f9-b05d-4f5a67633853\",\n",
            "    \"resource_key\": \"aefaa88a-84f5-4bc9-9ad3-20c9ae965e92\",\n",
            "    \"id\": \"3513f8b7-9c2d-46b3-86a8-781cb797db84\",\n",
            "    \"created_at\": \"2025-04-30T13:02:33Z\",\n",
            "    \"commit_info\": {\n",
            "      \"committed_at\": \"2025-04-30T13:02:33Z\"\n",
            "    },\n",
            "    \"rov\": {\n",
            "      \"member_roles\": {\n",
            "        \"1000331001\": {\n",
            "          \"user_iam_id\": \"1000331001\",\n",
            "          \"roles\": [\n",
            "            \"OWNER\"\n",
            "          ]\n",
            "        }\n",
            "      }\n",
            "    },\n",
            "    \"owner\": \"1000331001\"\n",
            "  },\n",
            "  \"entity\": {\n",
            "    \"software_spec\": {\n",
            "      \"id\": \"f47ae1c3-198e-5718-b59d-2ea471561e9e\"\n",
            "    },\n",
            "    \"type\": \"scikit-learn_1.6\"\n",
            "  }\n",
            "}\n"
          ]
        }
      ],
      "source": [
        "import json\n",
        "\n",
        "published_model_id = client.repository.get_model_id(published_model)\n",
        "model_details = client.repository.get_details(published_model_id)\n",
        "\n",
        "print(json.dumps(model_details, indent=2))"
      ]
    },
    {
      "cell_type": "markdown",
      "metadata": {},
      "source": [
        "<a id=\"redeploy\"></a>\n",
        "## 6. Redeploy new version of the model"
      ]
    },
    {
      "cell_type": "markdown",
      "metadata": {},
      "source": [
        "In this section, you'll learn how to redeploy new version of the model by using the watsonx.ai Client."
      ]
    },
    {
      "cell_type": "markdown",
      "metadata": {},
      "source": [
        "### 6.1 Redeploy model"
      ]
    },
    {
      "cell_type": "code",
      "execution_count": 29,
      "metadata": {},
      "outputs": [
        {
          "name": "stdout",
          "output_type": "stream",
          "text": [
            "Since ASSET is patched, deployment need to be restarted. \n",
            "\n",
            "\n",
            "########################################################################\n",
            "\n",
            "Deployment update for id: '9425c145-66e0-4c59-926b-62268fb80f17' started\n",
            "\n",
            "########################################################################\n",
            "\n",
            "\n",
            "updating\n",
            "ready\n",
            "\n",
            "\n",
            "---------------------------------------------------------------------------------------------\n",
            "Successfully finished deployment update, deployment_id='9425c145-66e0-4c59-926b-62268fb80f17'\n",
            "---------------------------------------------------------------------------------------------\n",
            "\n",
            "\n"
          ]
        }
      ],
      "source": [
        "metadata = {\n",
        "    client.deployments.ConfigurationMetaNames.ASSET: {\n",
        "        \"id\": published_model_id,\n",
        "        \"rev\": rev_id,\n",
        "    }\n",
        "}\n",
        "\n",
        "updated_deployment = client.deployments.update(\n",
        "    deployment_id=deployment_id, changes=metadata\n",
        ")"
      ]
    },
    {
      "cell_type": "markdown",
      "metadata": {},
      "source": [
        "Wait for the deployment update: "
      ]
    },
    {
      "cell_type": "code",
      "execution_count": 30,
      "metadata": {},
      "outputs": [
        {
          "name": "stdout",
          "output_type": "stream",
          "text": [
            ". Note: online_url is deprecated and will be removed in a future release. Use serving_urls instead.\n",
            "\n",
            "Deployment update finished with status:  ready\n"
          ]
        }
      ],
      "source": [
        "import time\n",
        "\n",
        "status = None\n",
        "while status not in [\"ready\", \"failed\"]:\n",
        "    print(\".\", end=\" \")\n",
        "    time.sleep(2)\n",
        "    deployment_details = client.deployments.get_details(deployment_id)\n",
        "    status = deployment_details[\"entity\"][\"status\"].get(\"state\")\n",
        "\n",
        "print(\"\\nDeployment update finished with status: \", status)"
      ]
    },
    {
      "cell_type": "markdown",
      "metadata": {},
      "source": [
        "### 6.2 Get updated deployment details"
      ]
    },
    {
      "cell_type": "code",
      "execution_count": null,
      "metadata": {},
      "outputs": [],
      "source": [
        "print(json.dumps(client.deployments.get_details(deployment_id), indent=2))"
      ]
    },
    {
      "cell_type": "markdown",
      "metadata": {},
      "source": [
        "<a id=\"scale\"></a>\n",
        "## 7. Deployment scaling"
      ]
    },
    {
      "cell_type": "markdown",
      "metadata": {},
      "source": [
        "In this section, you'll learn how to scale your deployment by creating more copies of stored model with watsonx.ai Client.  \n",
        "This feature is for providing High-Availability and to support higher throughput"
      ]
    },
    {
      "cell_type": "markdown",
      "metadata": {},
      "source": [
        "### 7.1 Scale deployment\n",
        "\n",
        "In this example, 2 deployment copies will be made."
      ]
    },
    {
      "cell_type": "code",
      "execution_count": 32,
      "metadata": {},
      "outputs": [],
      "source": [
        "metadata = {\n",
        "    client.deployments.ConfigurationMetaNames.NAME: \"Deployment of external scikit model - scaling\",\n",
        "    client.deployments.ConfigurationMetaNames.HARDWARE_SPEC: {\n",
        "        \"name\": \"S\",\n",
        "        \"num_nodes\": 2,\n",
        "    },\n",
        "}"
      ]
    },
    {
      "cell_type": "code",
      "execution_count": 33,
      "metadata": {},
      "outputs": [
        {
          "name": "stdout",
          "output_type": "stream",
          "text": [
            "\n",
            "\n",
            "########################################################################\n",
            "\n",
            "Deployment update for id: '9425c145-66e0-4c59-926b-62268fb80f17' started\n",
            "\n",
            "########################################################################\n",
            "\n",
            "\n",
            "ready.\n",
            "\n",
            "\n",
            "---------------------------------------------------------------------------------------------\n",
            "Successfully finished deployment update, deployment_id='9425c145-66e0-4c59-926b-62268fb80f17'\n",
            "---------------------------------------------------------------------------------------------\n",
            "\n",
            "\n"
          ]
        }
      ],
      "source": [
        "scaled_deployment = client.deployments.update(deployment_id, metadata)"
      ]
    },
    {
      "cell_type": "markdown",
      "metadata": {},
      "source": [
        "### 7.2 Get scaled deployment details"
      ]
    },
    {
      "cell_type": "code",
      "execution_count": null,
      "metadata": {},
      "outputs": [],
      "source": [
        "print(json.dumps(client.deployments.get_details(deployment_id), indent=2))"
      ]
    },
    {
      "cell_type": "markdown",
      "metadata": {},
      "source": [
        "### 7.3 Score updated deployment"
      ]
    },
    {
      "cell_type": "markdown",
      "metadata": {},
      "source": [
        "You can use below method to do test scoring request against deployed model.\n",
        "\n",
        "**Action**: Prepare scoring payload with records to score."
      ]
    },
    {
      "cell_type": "code",
      "execution_count": 35,
      "metadata": {},
      "outputs": [],
      "source": [
        "input_to_score_0 = test_df.iloc[0].to_list()\n",
        "input_to_score_1 = test_df.iloc[1].to_list()"
      ]
    },
    {
      "cell_type": "code",
      "execution_count": 36,
      "metadata": {},
      "outputs": [],
      "source": [
        "scoring_payload = {\"input_data\": [{\"values\": [input_to_score_0, input_to_score_1]}]}"
      ]
    },
    {
      "cell_type": "markdown",
      "metadata": {},
      "source": [
        "Use client.deployments.score() method to run scoring."
      ]
    },
    {
      "cell_type": "code",
      "execution_count": 37,
      "metadata": {},
      "outputs": [],
      "source": [
        "predictions = client.deployments.score(deployment_id, scoring_payload)"
      ]
    },
    {
      "cell_type": "code",
      "execution_count": 38,
      "metadata": {},
      "outputs": [
        {
          "name": "stdout",
          "output_type": "stream",
          "text": [
            "{\n",
            "  \"predictions\": [\n",
            "    {\n",
            "      \"fields\": [\n",
            "        \"prediction\"\n",
            "      ],\n",
            "      \"values\": [\n",
            "        [\n",
            "          4.1362218361724805\n",
            "        ],\n",
            "        [\n",
            "          3.9894813058082876\n",
            "        ]\n",
            "      ]\n",
            "    }\n",
            "  ]\n",
            "}\n"
          ]
        }
      ],
      "source": [
        "print(json.dumps(predictions, indent=2))"
      ]
    },
    {
      "cell_type": "markdown",
      "metadata": {},
      "source": [
        "<a id=\"cleanup\"></a>\n",
        "## 8. Clean up"
      ]
    },
    {
      "cell_type": "markdown",
      "metadata": {},
      "source": [
        "If you want to clean up all created assets:\n",
        "- experiments\n",
        "- trainings\n",
        "- pipelines\n",
        "- model definitions\n",
        "- models\n",
        "- functions\n",
        "- deployments\n",
        "\n",
        "please follow up this sample [notebook](https://github.com/IBM/watsonx-ai-samples/blob/master/cpd5.2/notebooks/python_sdk/instance-management/Machine%20Learning%20artifacts%20management.ipynb)."
      ]
    },
    {
      "cell_type": "markdown",
      "metadata": {},
      "source": [
        "<a id=\"summary\"></a>\n",
        "## 9. Summary and next steps"
      ]
    },
    {
      "cell_type": "markdown",
      "metadata": {},
      "source": [
        "You successfully completed this notebook! You learned how to use scikit-learn machine learning as well as watsonx.ai for model creation and deployment.\n",
        " \n",
        "Check out our _<a href=\"https://ibm.github.io/watsonx-ai-python-sdk/samples.html\" target=\"_blank\" rel=\"noopener no referrer\">Online Documentation</a>_ for more samples, tutorials, documentation, how-tos, and blog posts. "
      ]
    },
    {
      "cell_type": "markdown",
      "metadata": {},
      "source": [
        "### Authors\n",
        "\n",
        "**Daniel Ryszka**, Software Engineer  \n",
        "\n",
        "**Jan Sołtysik**, Intern  \n",
        "\n",
        "**Rafał Chrzanowski**, Software Engineer Intern at watsonx.ai  "
      ]
    },
    {
      "cell_type": "markdown",
      "metadata": {},
      "source": [
        "Copyright © 2020-2025 IBM. This notebook and its source code are released under the terms of the MIT License."
      ]
    }
  ],
  "metadata": {
    "kernelspec": {
      "display_name": "watsonx-ai-samples-py-312",
      "language": "python",
      "name": "python3"
    },
    "language_info": {
      "codemirror_mode": {
        "name": "ipython",
        "version": 3
      },
      "file_extension": ".py",
      "mimetype": "text/x-python",
      "name": "python",
      "nbconvert_exporter": "python",
      "pygments_lexer": "ipython3",
      "version": "3.12.9"
    }
  },
  "nbformat": 4,
  "nbformat_minor": 4
}

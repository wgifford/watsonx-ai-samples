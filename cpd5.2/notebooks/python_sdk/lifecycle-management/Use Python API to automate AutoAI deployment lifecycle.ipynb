{
 "cells": [
  {
   "cell_type": "markdown",
   "metadata": {
    "id": "b5c149e2-c0a2-4b97-9119-86f68471a9b7",
    "pycharm": {
     "name": "#%% md\n"
    }
   },
   "source": [
    "# Use Python API to automate AutoAI deployment lifecycle"
   ]
  },
  {
   "cell_type": "markdown",
   "metadata": {
    "id": "85196485-d6fc-46e3-be08-2f60faccf30f",
    "pycharm": {
     "name": "#%% md\n"
    }
   },
   "source": [
    "This notebook contains the steps and code to demonstrate support of AI Lifecycle features of the AutoAI model in watsonx.ai service. It contains steps and code to work with [ibm-watsonx-ai](https://pypi.python.org/pypi/ibm-watsonx-ai) SDK available in PyPI repository. It also introduces commands for training, persisting and deploying model, scoring it, updating the model and redeploying it.\n",
    "\n",
    "Some familiarity with Python is helpful. This notebook uses Python 3.12.\n",
    "\n",
    "\n",
    "## Learning goals\n",
    "\n",
    "The learning goals of this notebook are:\n",
    "\n",
    "-  List all deprecated and unsupported deployments.\n",
    "-  Identify AutoAI models that need to be retrained.\n",
    "-  Work with watsonx.ai experiments to re-train AutoAI models.\n",
    "-  Persist an updated AutoAI model in watsonx.ai repository.\n",
    "-  Redeploy model in-place.\n",
    "-  Score sample records using client library.\n",
    "\n",
    "\n",
    "## Contents\n",
    "\n",
    "This notebook contains the following parts:\n",
    "\n",
    "1. [Setup](#setup)\n",
    "2. [Deployments state check](#state)\n",
    "3. [Identification of model requiring retraining](#identify)\n",
    "4. [Experiment re-run](#run)\n",
    "5. [Persist trained AutoAI model](#persistence)\n",
    "6. [Redeploy and score new version of the model](#redeploy)\n",
    "7. [Clean up](#cleanup)\n",
    "8. [Summary and next steps](#summary)"
   ]
  },
  {
   "cell_type": "markdown",
   "metadata": {
    "id": "b2e66856-b85f-4657-bd19-9d7e23121350",
    "pycharm": {
     "name": "#%% md\n"
    }
   },
   "source": [
    "<a id=\"setup\"></a>\n",
    "## 1. Set up the environment\n",
    "\n",
    "Before you use the sample code in this notebook, contact with your Cloud Pak for Data administrator and ask for your account credentials."
   ]
  },
  {
   "cell_type": "markdown",
   "metadata": {
    "id": "83511029-f339-4818-8d17-6621f1a80ff8"
   },
   "source": [
    "### Install dependencies\n",
    "**Note:** `ibm-watsonx-ai` documentation can be found <a href=\"https://ibm.github.io/watsonx-ai-python-sdk/index.html\" target=\"_blank\" rel=\"noopener no referrer\">here</a>."
   ]
  },
  {
   "cell_type": "code",
   "execution_count": 1,
   "metadata": {
    "id": "dc8d5ec5-56b4-41a9-85bc-7bee142a0628"
   },
   "outputs": [
    {
     "name": "stdout",
     "output_type": "stream",
     "text": [
      "Successfully installed wget-3.2\n",
      "Requirement already satisfied: threadpoolctl>=3.1.0 in /opt/user-env/pyt6/lib64/python3.12/site-packages (from scikit-learn==1.6.1) (3.6.0)\n",
      "\u001b[0mSuccessfully installed autoai-libs-3.0.3\n",
      "Successfully installed ibm-watsonx-ai-1.3.20\n"
     ]
    }
   ],
   "source": [
    "%pip install -U wget | tail -n 1\n",
    "%pip install \"scikit-learn==1.6.1\" | tail -n 1\n",
    "%pip install -U autoai-libs | tail -n 1\n",
    "%pip install -U ibm-watsonx-ai | tail -n 1"
   ]
  },
  {
   "cell_type": "markdown",
   "metadata": {
    "id": "a8c7d164-1dd6-4c68-883b-f1d001f8d4af",
    "pycharm": {
     "name": "#%% md\n"
    }
   },
   "source": [
    "#### Define credentials\n",
    "\n",
    "Authenticate the watsonx.ai Runtime service on IBM Cloud Pak for Data. You need to provide the **admin's** `username` and the platform `url`."
   ]
  },
  {
   "cell_type": "code",
   "execution_count": 2,
   "metadata": {
    "id": "a6505120-2f89-4e6f-8520-8776ab9cb0be",
    "pycharm": {
     "name": "#%%\n"
    }
   },
   "outputs": [],
   "source": [
    "username = \"PASTE YOUR USERNAME HERE\"\n",
    "url = \"PASTE THE PLATFORM URL HERE\""
   ]
  },
  {
   "cell_type": "markdown",
   "metadata": {
    "id": "c56f7dd2-629e-4a55-9fb3-8e8715084886"
   },
   "source": [
    "Use the **admin's** `api_key` to authenticate watsonx.ai Runtime services:"
   ]
  },
  {
   "cell_type": "code",
   "execution_count": null,
   "metadata": {
    "id": "4cfe785f-ce29-4b3b-9f7d-c8ec9ab8433c",
    "pycharm": {
     "name": "#%%\n"
    }
   },
   "outputs": [],
   "source": [
    "import getpass\n",
    "from ibm_watsonx_ai import Credentials\n",
    "\n",
    "credentials = Credentials(\n",
    "    username=username,\n",
    "    api_key=getpass.getpass(\"Enter your watsonx.ai API key and hit enter: \"),\n",
    "    url=url,\n",
    "    instance_id=\"openshift\",\n",
    "    version=\"5.2\",\n",
    ")"
   ]
  },
  {
   "cell_type": "markdown",
   "metadata": {
    "id": "f7f08ce8-5234-404a-944e-4cf6c9b0ef0c"
   },
   "source": [
    "Alternatively you can use the **admin's** `password`:"
   ]
  },
  {
   "cell_type": "code",
   "execution_count": 3,
   "metadata": {
    "id": "80bf60fb-39a0-4392-b51c-370b1263eeca"
   },
   "outputs": [
    {
     "name": "stdout",
     "output_type": "stream",
     "text": [
      "Enter your watsonx.ai password and hit enter:  ········\n"
     ]
    }
   ],
   "source": [
    "import getpass\n",
    "from ibm_watsonx_ai import Credentials\n",
    "\n",
    "if \"credentials\" not in locals() or not credentials.api_key:\n",
    "    credentials = Credentials(\n",
    "        username=username,\n",
    "        password=getpass.getpass(\"Enter your watsonx.ai password and hit enter: \"),\n",
    "        url=url,\n",
    "        instance_id=\"openshift\",\n",
    "        version=\"5.2\",\n",
    "    )"
   ]
  },
  {
   "cell_type": "markdown",
   "metadata": {
    "id": "5428ada7-6931-404f-a3cd-c19422c1fa02"
   },
   "source": [
    "#### Create `APIClient` instance"
   ]
  },
  {
   "cell_type": "code",
   "execution_count": 4,
   "metadata": {
    "id": "12c5edca-af84-499b-b4ca-bb4dff844f27",
    "pycharm": {
     "name": "#%%\n"
    }
   },
   "outputs": [],
   "source": [
    "from ibm_watsonx_ai import APIClient\n",
    "\n",
    "client = APIClient(credentials)"
   ]
  },
  {
   "cell_type": "markdown",
   "metadata": {
    "id": "b5c72fd6-1e34-4100-9ae3-b61743535bf6",
    "pycharm": {
     "name": "#%% md\n"
    }
   },
   "source": [
    "### Working with spaces\n",
    "\n",
    "First of all, you need to create a space that will be used for your work. If you do not have space already created, you can use `{PLATFORM_URL}/ml-runtime/spaces?context=icp4data` to create one.\n",
    "\n",
    "- Click New Deployment Space\n",
    "- Create an empty space\n",
    "- Go to space `Settings` tab\n",
    "- Copy `space_id` and paste it below\n",
    "\n",
    "**Tip**: You can also use SDK to prepare the space for your work. More information can be found [here](https://github.com/IBM/watsonx-ai-samples/blob/master/cpd5.2/notebooks/python_sdk/instance-management/Space%20management.ipynb).\n"
   ]
  },
  {
   "cell_type": "markdown",
   "metadata": {
    "id": "58fae749-5b65-4f39-a458-1a64fd0354d0",
    "pycharm": {
     "name": "#%% md\n"
    }
   },
   "source": [
    "You can use the `list` method to print all existing spaces."
   ]
  },
  {
   "cell_type": "code",
   "execution_count": null,
   "metadata": {
    "id": "053fca39-b008-45d6-9731-418b0525cdcf",
    "pycharm": {
     "name": "#%%\n"
    }
   },
   "outputs": [],
   "source": [
    "client.spaces.list(limit=10)"
   ]
  },
  {
   "cell_type": "markdown",
   "metadata": {
    "id": "2cb000fd-a784-4549-9ee2-206ae0663cf5",
    "pycharm": {
     "name": "#%% md\n"
    }
   },
   "source": [
    "Extract all space IDs"
   ]
  },
  {
   "cell_type": "code",
   "execution_count": 5,
   "metadata": {
    "id": "df4f43ba-dd4b-40a8-bd30-439081aac816",
    "pycharm": {
     "name": "#%%\n"
    }
   },
   "outputs": [
    {
     "data": {
      "text/plain": [
       "['dca8e5ae-bf7f-4903-b200-65bfa21fd4c5',\n",
       " 'ee2821f4-cb2a-412a-b093-0106204a3e8e',\n",
       " 'f6d27946-2381-4abe-a620-7e4b1afe8a16',\n",
       " '3813019e-e0d3-4b96-92ac-04a30af93744',\n",
       " '5a9af126-1850-4b69-a1ed-cf1d66e73176']"
      ]
     },
     "execution_count": 5,
     "metadata": {},
     "output_type": "execute_result"
    }
   ],
   "source": [
    "space_ids = [\n",
    "    space[\"metadata\"][\"id\"] for space in client.spaces.get_details()[\"resources\"]\n",
    "]\n",
    "\n",
    "space_ids[:5]"
   ]
  },
  {
   "cell_type": "markdown",
   "metadata": {
    "id": "70f0a933-6a80-4c1f-90c4-b8b183352ae1",
    "pycharm": {
     "name": "#%% md\n"
    }
   },
   "source": [
    "<a id=\"state\"></a>\n",
    "## 2. Deployments state check\n",
    "Iterate over spaces and search for `deprecated` and `unsupported` deployments. Next, identify models requiring re-training."
   ]
  },
  {
   "cell_type": "code",
   "execution_count": 6,
   "metadata": {
    "id": "fa3e159d-e0f1-4af7-9a13-cfa1dd7a6fd8",
    "pycharm": {
     "name": "#%%\n"
    }
   },
   "outputs": [
    {
     "name": "stdout",
     "output_type": "stream",
     "text": [
      "****** SPACE dca8e5ae-bf7f-4903-b200-65bfa21fd4c5 ******\n",
      "{'resources': []}\n",
      "{'resources': []}\n",
      "****** SPACE ee2821f4-cb2a-412a-b093-0106204a3e8e ******\n",
      "{'resources': []}\n",
      "{'resources': []}\n",
      "****** SPACE f6d27946-2381-4abe-a620-7e4b1afe8a16 ******\n",
      "{'resources': []}\n",
      "{'resources': []}\n",
      "****** SPACE 3813019e-e0d3-4b96-92ac-04a30af93744 ******\n",
      "{'resources': []}\n",
      "{'resources': []}\n",
      "****** SPACE 5a9af126-1850-4b69-a1ed-cf1d66e73176 ******\n",
      "{'resources': []}\n",
      "{'resources': []}\n"
     ]
    }
   ],
   "source": [
    "from ibm_watsonx_ai.lifecycle import SpecStates\n",
    "\n",
    "\n",
    "for space_id in space_ids[:5]:\n",
    "    client.set.default_space(space_id)\n",
    "    print(f\"****** SPACE {space_id} ******\")\n",
    "    print(client.deployments.get_details(spec_state=SpecStates.DEPRECATED))\n",
    "    print(client.deployments.get_details(spec_state=SpecStates.UNSUPPORTED))"
   ]
  },
  {
   "cell_type": "markdown",
   "metadata": {
    "id": "41966d60-c0c6-4e4c-935d-855b6f5ff5c3",
    "pycharm": {
     "name": "#%% md\n"
    }
   },
   "source": [
    "You can also list deployments under particular space. The output contains `SPEC_STATE` and `SPEC_REPLACEMENT`. Set the working space."
   ]
  },
  {
   "cell_type": "code",
   "execution_count": 7,
   "metadata": {
    "id": "4cb7eb41-6864-4017-b21e-fad29e48d9c6",
    "pycharm": {
     "name": "#%%\n"
    }
   },
   "outputs": [
    {
     "data": {
      "text/plain": [
       "'SUCCESS'"
      ]
     },
     "execution_count": 7,
     "metadata": {},
     "output_type": "execute_result"
    }
   ],
   "source": [
    "deployment_space_id = \"PASTE YOUR SPACE ID HERE\"\n",
    "client.set.default_space(deployment_space_id)"
   ]
  },
  {
   "cell_type": "markdown",
   "metadata": {
    "id": "d22b48b6-67bb-4ebb-b202-59a2bc8f6c49",
    "pycharm": {
     "name": "#%% md\n"
    }
   },
   "source": [
    "List deployments under this space."
   ]
  },
  {
   "cell_type": "code",
   "execution_count": 8,
   "metadata": {
    "id": "57a150a9-c92c-44d3-9480-a6f862e40586",
    "pycharm": {
     "name": "#%%\n"
    }
   },
   "outputs": [
    {
     "data": {
      "text/html": [
       "<div>\n",
       "<style scoped>\n",
       "    .dataframe tbody tr th:only-of-type {\n",
       "        vertical-align: middle;\n",
       "    }\n",
       "\n",
       "    .dataframe tbody tr th {\n",
       "        vertical-align: top;\n",
       "    }\n",
       "\n",
       "    .dataframe thead th {\n",
       "        text-align: right;\n",
       "    }\n",
       "</style>\n",
       "<table border=\"1\" class=\"dataframe\">\n",
       "  <thead>\n",
       "    <tr style=\"text-align: right;\">\n",
       "      <th></th>\n",
       "      <th>ID</th>\n",
       "      <th>NAME</th>\n",
       "      <th>STATE</th>\n",
       "      <th>CREATED</th>\n",
       "      <th>ARTIFACT_TYPE</th>\n",
       "      <th>SPEC_STATE</th>\n",
       "      <th>SPEC_REPLACEMENT</th>\n",
       "    </tr>\n",
       "  </thead>\n",
       "  <tbody>\n",
       "    <tr>\n",
       "      <th>0</th>\n",
       "      <td>9c6943cd-e804-43b6-9d49-3c094e92146b</td>\n",
       "      <td>Credit Risk Deployment AutoAI</td>\n",
       "      <td>ready</td>\n",
       "      <td>2025-05-23T11:04:25.856Z</td>\n",
       "      <td>model</td>\n",
       "      <td>supported</td>\n",
       "      <td></td>\n",
       "    </tr>\n",
       "    <tr>\n",
       "      <th>1</th>\n",
       "      <td>65d48c40-a230-4839-80a1-8836dd935566</td>\n",
       "      <td>AutoAI credit-risk deployment</td>\n",
       "      <td>ready</td>\n",
       "      <td>2025-05-23T10:52:37.530Z</td>\n",
       "      <td>model</td>\n",
       "      <td>supported</td>\n",
       "      <td></td>\n",
       "    </tr>\n",
       "    <tr>\n",
       "      <th>2</th>\n",
       "      <td>977b4d07-650a-4243-a781-d144341b417f</td>\n",
       "      <td>AutoAI credit-risk deployment</td>\n",
       "      <td>ready</td>\n",
       "      <td>2025-05-23T10:45:49.010Z</td>\n",
       "      <td>model</td>\n",
       "      <td>supported</td>\n",
       "      <td></td>\n",
       "    </tr>\n",
       "  </tbody>\n",
       "</table>\n",
       "</div>"
      ],
      "text/plain": [
       "                                     ID                           NAME  STATE  \\\n",
       "0  9c6943cd-e804-43b6-9d49-3c094e92146b  Credit Risk Deployment AutoAI  ready   \n",
       "1  65d48c40-a230-4839-80a1-8836dd935566  AutoAI credit-risk deployment  ready   \n",
       "2  977b4d07-650a-4243-a781-d144341b417f  AutoAI credit-risk deployment  ready   \n",
       "\n",
       "                    CREATED ARTIFACT_TYPE SPEC_STATE SPEC_REPLACEMENT  \n",
       "0  2025-05-23T11:04:25.856Z         model  supported                   \n",
       "1  2025-05-23T10:52:37.530Z         model  supported                   \n",
       "2  2025-05-23T10:45:49.010Z         model  supported                   "
      ]
     },
     "execution_count": 8,
     "metadata": {},
     "output_type": "execute_result"
    }
   ],
   "source": [
    "client.deployments.list()"
   ]
  },
  {
   "cell_type": "markdown",
   "metadata": {
    "id": "c78a5111-5f49-46a4-9b52-c60f953f9ada",
    "pycharm": {
     "name": "#%% md\n"
    }
   },
   "source": [
    "<a id=\"identify\"></a>\n",
    "## 3. Identification of model requiring retraining\n",
    "Pick up deployment of the AutoAI model you wish to retrain. \n",
    "\n",
    "**Hint**: You can also do that programatically in the loop sequence over spaces check (`Check the state of your deployments` cell).\n",
    "**Hint**: You can also use software_specification information (model details) to identify models and deployments that are not yet deprecated but can be retrained (updated software specification is available)."
   ]
  },
  {
   "cell_type": "code",
   "execution_count": 9,
   "metadata": {
    "id": "75482e74-2eb2-4104-8b6f-d3fa6da1eb41",
    "pycharm": {
     "name": "#%%\n"
    }
   },
   "outputs": [
    {
     "name": "stdout",
     "output_type": "stream",
     "text": [
      "Note: online_url is deprecated and will be removed in a future release. Use serving_urls instead.\n"
     ]
    },
    {
     "data": {
      "text/plain": [
       "'269f7f9a-920c-4ef4-b021-ef5786ae709a'"
      ]
     },
     "execution_count": 9,
     "metadata": {},
     "output_type": "execute_result"
    }
   ],
   "source": [
    "deployment_id = \"PASTE YOUR DEPLOYMENT ID HERE\"\n",
    "\n",
    "deployment_details = client.deployments.get_details(deployment_id)\n",
    "deployed_model_id = deployment_details[\"entity\"][\"asset\"][\"id\"]\n",
    "\n",
    "deployed_model_id"
   ]
  },
  {
   "cell_type": "markdown",
   "metadata": {
    "id": "d2a927b2-d85c-4dea-a6cd-ae6af8646b99",
    "pycharm": {
     "name": "#%% md\n"
    }
   },
   "source": [
    "#### Extract the deployed model's details (including the pipeline information)."
   ]
  },
  {
   "cell_type": "code",
   "execution_count": 10,
   "metadata": {
    "id": "75f14eb7-6d7f-4f03-a858-fa61afbbdd1d",
    "pycharm": {
     "name": "#%%\n"
    }
   },
   "outputs": [
    {
     "name": "stdout",
     "output_type": "stream",
     "text": [
      "Experiment parameters: {\n",
      "  \"drop_duplicates\": true,\n",
      "  \"encoding\": \"utf-8\",\n",
      "  \"input_file_separator\": \",\",\n",
      "  \"optimization\": {\n",
      "    \"compute_pipeline_notebooks_flag\": true,\n",
      "    \"daub_adaptive_subsampling_max_mem_usage\": 9000000000,\n",
      "    \"label\": \"Risk\",\n",
      "    \"learning_type\": \"binary\",\n",
      "    \"retrain_on_holdout\": true,\n",
      "    \"run_cognito_flag\": true,\n",
      "    \"scorer_for_ranking\": \"roc_auc\"\n",
      "  },\n",
      "  \"output_logs\": true,\n",
      "  \"stage_flag\": true\n",
      "}\n",
      "Optimization parameters: {\n",
      "  \"compute_pipeline_notebooks_flag\": true,\n",
      "  \"daub_adaptive_subsampling_max_mem_usage\": 9000000000,\n",
      "  \"label\": \"Risk\",\n",
      "  \"learning_type\": \"binary\",\n",
      "  \"retrain_on_holdout\": true,\n",
      "  \"run_cognito_flag\": true,\n",
      "  \"scorer_for_ranking\": \"roc_auc\"\n",
      "}\n"
     ]
    }
   ],
   "source": [
    "import json\n",
    "\n",
    "deployed_model_details = client.repository.get_model_details(deployed_model_id)\n",
    "deployed_pipeline_id = deployed_model_details[\"entity\"][\"pipeline\"][\"id\"]\n",
    "\n",
    "deployed_pipeline_details = client.repository.get_details(deployed_pipeline_id)\n",
    "experiment_params = deployed_pipeline_details[\"entity\"][\"document\"][\"pipelines\"][0][\"nodes\"][0][\"parameters\"]\n",
    "\n",
    "optimization_params = experiment_params[\"optimization\"]\n",
    "\n",
    "print(\"Experiment parameters:\", json.dumps(experiment_params, indent=2))\n",
    "print(\"Optimization parameters:\", json.dumps(optimization_params, indent=2))"
   ]
  },
  {
   "cell_type": "markdown",
   "metadata": {
    "id": "dbdf70b0-fd47-4caa-9be7-65cda8b6f04b",
    "pycharm": {
     "name": "#%% md\n"
    }
   },
   "source": [
    "#### Find the AutoAI experiment runs matching the extracted pipeline\n",
    "\n",
    "Extract the project ID where the training took place.\n",
    "\n",
    "**Tip:** For more information about using AutoAI with projects, see [this sample notebook](https://github.com/IBM/watsonx-ai-samples/blob/master/cpd5.2/notebooks/python_sdk/experiments/autoai/Use%20AutoAI%20with%20Watson%20Studio%20project.ipynb).\n",
    "\n",
    "**Note:** If the training took place in a space, please update accordingly."
   ]
  },
  {
   "cell_type": "code",
   "execution_count": 11,
   "metadata": {
    "id": "adb697d6-ff28-41ce-b9f2-45cb4ec59062",
    "pycharm": {
     "name": "#%%\n"
    }
   },
   "outputs": [
    {
     "name": "stdout",
     "output_type": "stream",
     "text": [
      "Please enter your project_id (hit enter):  9cf5ee36-da98-4856-be9f-a04df0d43f7b\n"
     ]
    }
   ],
   "source": [
    "try:\n",
    "    training_project_id = deployed_pipeline_details[\"metadata\"][\"tags\"][0].split(\".\")[1]\n",
    "except LookupError:\n",
    "    training_project_id = input(\"Please enter your project_id (hit enter): \")"
   ]
  },
  {
   "cell_type": "markdown",
   "metadata": {
    "id": "88087af2-b374-415e-9b78-1952142cba3f",
    "pycharm": {
     "name": "#%% md\n"
    }
   },
   "source": [
    "#### Extract AutoAI experiment `training_id`"
   ]
  },
  {
   "cell_type": "markdown",
   "metadata": {
    "id": "6594a9ee-dc17-485c-a091-0e8cecaae029",
    "pycharm": {
     "name": "#%% md\n"
    }
   },
   "source": [
    "The `training_id` is available in model's details."
   ]
  },
  {
   "cell_type": "code",
   "execution_count": 12,
   "metadata": {
    "id": "fc1f4e29-553c-4ddf-a043-a729cbdada9c",
    "pycharm": {
     "name": "#%%\n"
    }
   },
   "outputs": [
    {
     "name": "stdout",
     "output_type": "stream",
     "text": [
      "AutoAI experiment training_id found in model details: 69e7991d-eacb-4f51-bbd1-631fa91d17bd\n"
     ]
    }
   ],
   "source": [
    "run_id = deployed_model_details[\"entity\"][\"training_id\"]\n",
    "print(\"AutoAI experiment training_id found in model details:\", run_id)"
   ]
  },
  {
   "cell_type": "markdown",
   "metadata": {
    "id": "d88ad74e-542d-4bf4-9e90-a0302a9d381c",
    "pycharm": {
     "name": "#%% md\n"
    }
   },
   "source": [
    "<a id=\"run\"></a>\n",
    "## 4. Experiment re-run \n",
    "Set the training `project_id` (where data asset resides) to retrain AutoAI models.\n"
   ]
  },
  {
   "cell_type": "code",
   "execution_count": 13,
   "metadata": {
    "id": "9c3a900b-36af-4216-8ac5-9afdf2a9dfbd",
    "pycharm": {
     "name": "#%%\n"
    }
   },
   "outputs": [],
   "source": [
    "from ibm_watsonx_ai.experiment import AutoAI\n",
    "\n",
    "experiment = AutoAI(credentials, project_id=training_project_id)\n",
    "optimizer = experiment.runs.get_optimizer(run_id=run_id)"
   ]
  },
  {
   "cell_type": "code",
   "execution_count": 14,
   "metadata": {
    "id": "5a53facc-27b6-4326-be5c-67d3d3928a52"
   },
   "outputs": [
    {
     "name": "stderr",
     "output_type": "stream",
     "text": [
      "User defined (test / holdout) data is not present for this AutoAI experiment.\n",
      "Reason: User specified test data was not present in this experiment. Try to use 'with_holdout_split' parameter for original training_data_references to retrieve test data.\n"
     ]
    }
   ],
   "source": [
    "from ibm_watsonx_ai.utils.autoai.errors import TestDataNotPresent\n",
    "\n",
    "training_data_reference = optimizer.get_data_connections()\n",
    "try:\n",
    "    test_data_reference = optimizer.get_test_data_connections()\n",
    "except TestDataNotPresent:\n",
    "    test_data_reference = None"
   ]
  },
  {
   "cell_type": "code",
   "execution_count": 15,
   "metadata": {
    "id": "2f0dd2fe-11fd-4daf-9028-2e0a82f1053c"
   },
   "outputs": [
    {
     "name": "stdout",
     "output_type": "stream",
     "text": [
      "Training job edc7616d-a2c9-465a-9dab-d01574fba1a5 completed: 100%|████████| [02:18<00:00,  1.39s/it]\n"
     ]
    }
   ],
   "source": [
    "train_details = optimizer.fit(\n",
    "    training_data_references=training_data_reference,\n",
    "    test_data_references=test_data_reference,\n",
    ")"
   ]
  },
  {
   "cell_type": "markdown",
   "metadata": {
    "id": "bd0c7ca2-708b-4769-b249-ceebaa9fe16e",
    "pycharm": {
     "name": "#%% md\n"
    }
   },
   "source": [
    "### Explore experiment's results\n",
    "Connect to finished experiment and preview the results."
   ]
  },
  {
   "cell_type": "code",
   "execution_count": 16,
   "metadata": {
    "id": "1d51b1f0-39dc-4f9a-bcd0-52b2074b7fd0",
    "pycharm": {
     "name": "#%%\n"
    }
   },
   "outputs": [
    {
     "data": {
      "text/html": [
       "<div>\n",
       "<style scoped>\n",
       "    .dataframe tbody tr th:only-of-type {\n",
       "        vertical-align: middle;\n",
       "    }\n",
       "\n",
       "    .dataframe tbody tr th {\n",
       "        vertical-align: top;\n",
       "    }\n",
       "\n",
       "    .dataframe thead th {\n",
       "        text-align: right;\n",
       "    }\n",
       "</style>\n",
       "<table border=\"1\" class=\"dataframe\">\n",
       "  <thead>\n",
       "    <tr style=\"text-align: right;\">\n",
       "      <th></th>\n",
       "      <th>Enhancements</th>\n",
       "      <th>Estimator</th>\n",
       "      <th>training_roc_auc_(optimized)</th>\n",
       "      <th>holdout_average_precision</th>\n",
       "      <th>holdout_log_loss</th>\n",
       "      <th>training_accuracy</th>\n",
       "      <th>holdout_roc_auc</th>\n",
       "      <th>training_balanced_accuracy</th>\n",
       "      <th>training_f1</th>\n",
       "      <th>holdout_precision</th>\n",
       "      <th>training_average_precision</th>\n",
       "      <th>training_log_loss</th>\n",
       "      <th>holdout_recall</th>\n",
       "      <th>training_precision</th>\n",
       "      <th>holdout_accuracy</th>\n",
       "      <th>holdout_balanced_accuracy</th>\n",
       "      <th>training_recall</th>\n",
       "      <th>holdout_f1</th>\n",
       "    </tr>\n",
       "    <tr>\n",
       "      <th>Pipeline Name</th>\n",
       "      <th></th>\n",
       "      <th></th>\n",
       "      <th></th>\n",
       "      <th></th>\n",
       "      <th></th>\n",
       "      <th></th>\n",
       "      <th></th>\n",
       "      <th></th>\n",
       "      <th></th>\n",
       "      <th></th>\n",
       "      <th></th>\n",
       "      <th></th>\n",
       "      <th></th>\n",
       "      <th></th>\n",
       "      <th></th>\n",
       "      <th></th>\n",
       "      <th></th>\n",
       "      <th></th>\n",
       "    </tr>\n",
       "  </thead>\n",
       "  <tbody>\n",
       "    <tr>\n",
       "      <th>Pipeline_2</th>\n",
       "      <td>HPO</td>\n",
       "      <td>XGBClassifier</td>\n",
       "      <td>0.853281</td>\n",
       "      <td>0.479185</td>\n",
       "      <td>0.425331</td>\n",
       "      <td>0.800358</td>\n",
       "      <td>0.832534</td>\n",
       "      <td>0.748267</td>\n",
       "      <td>0.857836</td>\n",
       "      <td>0.816216</td>\n",
       "      <td>0.916755</td>\n",
       "      <td>0.428845</td>\n",
       "      <td>0.909639</td>\n",
       "      <td>0.814358</td>\n",
       "      <td>0.803607</td>\n",
       "      <td>0.751226</td>\n",
       "      <td>0.906382</td>\n",
       "      <td>0.860399</td>\n",
       "    </tr>\n",
       "    <tr>\n",
       "      <th>Pipeline_1</th>\n",
       "      <td></td>\n",
       "      <td>XGBClassifier</td>\n",
       "      <td>0.848451</td>\n",
       "      <td>0.466398</td>\n",
       "      <td>0.356549</td>\n",
       "      <td>0.796120</td>\n",
       "      <td>0.829125</td>\n",
       "      <td>0.749861</td>\n",
       "      <td>0.852969</td>\n",
       "      <td>0.848066</td>\n",
       "      <td>0.912986</td>\n",
       "      <td>0.439419</td>\n",
       "      <td>0.924699</td>\n",
       "      <td>0.818963</td>\n",
       "      <td>0.839679</td>\n",
       "      <td>0.797679</td>\n",
       "      <td>0.890274</td>\n",
       "      <td>0.884726</td>\n",
       "    </tr>\n",
       "    <tr>\n",
       "      <th>Pipeline_6</th>\n",
       "      <td></td>\n",
       "      <td>SnapBoostingMachineClassifier</td>\n",
       "      <td>0.850092</td>\n",
       "      <td>0.468067</td>\n",
       "      <td>0.403035</td>\n",
       "      <td>0.755522</td>\n",
       "      <td>0.825103</td>\n",
       "      <td>0.745869</td>\n",
       "      <td>0.808007</td>\n",
       "      <td>0.893333</td>\n",
       "      <td>0.915222</td>\n",
       "      <td>0.457473</td>\n",
       "      <td>0.807229</td>\n",
       "      <td>0.844414</td>\n",
       "      <td>0.807615</td>\n",
       "      <td>0.807806</td>\n",
       "      <td>0.775171</td>\n",
       "      <td>0.848101</td>\n",
       "    </tr>\n",
       "    <tr>\n",
       "      <th>Pipeline_3</th>\n",
       "      <td>HPO, FE</td>\n",
       "      <td>XGBClassifier</td>\n",
       "      <td>0.852998</td>\n",
       "      <td>0.480987</td>\n",
       "      <td>0.433601</td>\n",
       "      <td>0.799690</td>\n",
       "      <td>0.823101</td>\n",
       "      <td>0.744796</td>\n",
       "      <td>0.858098</td>\n",
       "      <td>0.807487</td>\n",
       "      <td>0.915761</td>\n",
       "      <td>0.428990</td>\n",
       "      <td>0.909639</td>\n",
       "      <td>0.810770</td>\n",
       "      <td>0.795591</td>\n",
       "      <td>0.739250</td>\n",
       "      <td>0.911415</td>\n",
       "      <td>0.855524</td>\n",
       "    </tr>\n",
       "    <tr>\n",
       "      <th>Pipeline_7</th>\n",
       "      <td>HPO</td>\n",
       "      <td>SnapBoostingMachineClassifier</td>\n",
       "      <td>0.851431</td>\n",
       "      <td>0.477125</td>\n",
       "      <td>0.456636</td>\n",
       "      <td>0.749054</td>\n",
       "      <td>0.822352</td>\n",
       "      <td>0.747928</td>\n",
       "      <td>0.798939</td>\n",
       "      <td>0.883803</td>\n",
       "      <td>0.916453</td>\n",
       "      <td>0.466879</td>\n",
       "      <td>0.756024</td>\n",
       "      <td>0.853730</td>\n",
       "      <td>0.771543</td>\n",
       "      <td>0.779210</td>\n",
       "      <td>0.751345</td>\n",
       "      <td>0.814935</td>\n",
       "    </tr>\n",
       "    <tr>\n",
       "      <th>Pipeline_4</th>\n",
       "      <td>HPO, FE, HPO</td>\n",
       "      <td>XGBClassifier</td>\n",
       "      <td>0.853515</td>\n",
       "      <td>0.483860</td>\n",
       "      <td>0.444985</td>\n",
       "      <td>0.800582</td>\n",
       "      <td>0.820594</td>\n",
       "      <td>0.743488</td>\n",
       "      <td>0.859371</td>\n",
       "      <td>0.796296</td>\n",
       "      <td>0.916422</td>\n",
       "      <td>0.429937</td>\n",
       "      <td>0.906627</td>\n",
       "      <td>0.808763</td>\n",
       "      <td>0.783567</td>\n",
       "      <td>0.722774</td>\n",
       "      <td>0.916783</td>\n",
       "      <td>0.847887</td>\n",
       "    </tr>\n",
       "    <tr>\n",
       "      <th>Pipeline_5</th>\n",
       "      <td>HPO, FE, HPO, Ensemble</td>\n",
       "      <td>BatchedTreeEnsembleClassifier(XGBClassifier)</td>\n",
       "      <td>0.853515</td>\n",
       "      <td>0.483860</td>\n",
       "      <td>0.444985</td>\n",
       "      <td>0.800582</td>\n",
       "      <td>0.820594</td>\n",
       "      <td>0.743488</td>\n",
       "      <td>0.859371</td>\n",
       "      <td>0.796296</td>\n",
       "      <td>0.916422</td>\n",
       "      <td>0.429937</td>\n",
       "      <td>0.906627</td>\n",
       "      <td>0.808763</td>\n",
       "      <td>0.783567</td>\n",
       "      <td>0.722774</td>\n",
       "      <td>0.916783</td>\n",
       "      <td>0.847887</td>\n",
       "    </tr>\n",
       "    <tr>\n",
       "      <th>Pipeline_9</th>\n",
       "      <td>HPO, FE, HPO</td>\n",
       "      <td>SnapBoostingMachineClassifier</td>\n",
       "      <td>0.854561</td>\n",
       "      <td>0.471638</td>\n",
       "      <td>0.424094</td>\n",
       "      <td>0.762884</td>\n",
       "      <td>0.819223</td>\n",
       "      <td>0.753056</td>\n",
       "      <td>0.814332</td>\n",
       "      <td>0.882943</td>\n",
       "      <td>0.917152</td>\n",
       "      <td>0.455770</td>\n",
       "      <td>0.795181</td>\n",
       "      <td>0.848812</td>\n",
       "      <td>0.793587</td>\n",
       "      <td>0.792800</td>\n",
       "      <td>0.782893</td>\n",
       "      <td>0.836767</td>\n",
       "    </tr>\n",
       "    <tr>\n",
       "      <th>Pipeline_10</th>\n",
       "      <td>HPO, FE, HPO, Ensemble</td>\n",
       "      <td>BatchedTreeEnsembleClassifier(SnapBoostingMach...</td>\n",
       "      <td>0.854561</td>\n",
       "      <td>0.471638</td>\n",
       "      <td>0.424094</td>\n",
       "      <td>0.762884</td>\n",
       "      <td>0.819223</td>\n",
       "      <td>0.753056</td>\n",
       "      <td>0.814332</td>\n",
       "      <td>0.882943</td>\n",
       "      <td>0.917152</td>\n",
       "      <td>0.455770</td>\n",
       "      <td>0.795181</td>\n",
       "      <td>0.848812</td>\n",
       "      <td>0.793587</td>\n",
       "      <td>0.792800</td>\n",
       "      <td>0.782893</td>\n",
       "      <td>0.836767</td>\n",
       "    </tr>\n",
       "    <tr>\n",
       "      <th>Pipeline_8</th>\n",
       "      <td>HPO, FE</td>\n",
       "      <td>SnapBoostingMachineClassifier</td>\n",
       "      <td>0.854432</td>\n",
       "      <td>0.475277</td>\n",
       "      <td>0.449666</td>\n",
       "      <td>0.757978</td>\n",
       "      <td>0.818060</td>\n",
       "      <td>0.752334</td>\n",
       "      <td>0.808503</td>\n",
       "      <td>0.882353</td>\n",
       "      <td>0.917388</td>\n",
       "      <td>0.461020</td>\n",
       "      <td>0.768072</td>\n",
       "      <td>0.852192</td>\n",
       "      <td>0.777555</td>\n",
       "      <td>0.782240</td>\n",
       "      <td>0.769471</td>\n",
       "      <td>0.821256</td>\n",
       "    </tr>\n",
       "  </tbody>\n",
       "</table>\n",
       "</div>"
      ],
      "text/plain": [
       "                         Enhancements  \\\n",
       "Pipeline Name                           \n",
       "Pipeline_2                        HPO   \n",
       "Pipeline_1                              \n",
       "Pipeline_6                              \n",
       "Pipeline_3                    HPO, FE   \n",
       "Pipeline_7                        HPO   \n",
       "Pipeline_4               HPO, FE, HPO   \n",
       "Pipeline_5     HPO, FE, HPO, Ensemble   \n",
       "Pipeline_9               HPO, FE, HPO   \n",
       "Pipeline_10    HPO, FE, HPO, Ensemble   \n",
       "Pipeline_8                    HPO, FE   \n",
       "\n",
       "                                                       Estimator  \\\n",
       "Pipeline Name                                                      \n",
       "Pipeline_2                                         XGBClassifier   \n",
       "Pipeline_1                                         XGBClassifier   \n",
       "Pipeline_6                         SnapBoostingMachineClassifier   \n",
       "Pipeline_3                                         XGBClassifier   \n",
       "Pipeline_7                         SnapBoostingMachineClassifier   \n",
       "Pipeline_4                                         XGBClassifier   \n",
       "Pipeline_5          BatchedTreeEnsembleClassifier(XGBClassifier)   \n",
       "Pipeline_9                         SnapBoostingMachineClassifier   \n",
       "Pipeline_10    BatchedTreeEnsembleClassifier(SnapBoostingMach...   \n",
       "Pipeline_8                         SnapBoostingMachineClassifier   \n",
       "\n",
       "               training_roc_auc_(optimized)  holdout_average_precision  \\\n",
       "Pipeline Name                                                            \n",
       "Pipeline_2                         0.853281                   0.479185   \n",
       "Pipeline_1                         0.848451                   0.466398   \n",
       "Pipeline_6                         0.850092                   0.468067   \n",
       "Pipeline_3                         0.852998                   0.480987   \n",
       "Pipeline_7                         0.851431                   0.477125   \n",
       "Pipeline_4                         0.853515                   0.483860   \n",
       "Pipeline_5                         0.853515                   0.483860   \n",
       "Pipeline_9                         0.854561                   0.471638   \n",
       "Pipeline_10                        0.854561                   0.471638   \n",
       "Pipeline_8                         0.854432                   0.475277   \n",
       "\n",
       "               holdout_log_loss  training_accuracy  holdout_roc_auc  \\\n",
       "Pipeline Name                                                         \n",
       "Pipeline_2             0.425331           0.800358         0.832534   \n",
       "Pipeline_1             0.356549           0.796120         0.829125   \n",
       "Pipeline_6             0.403035           0.755522         0.825103   \n",
       "Pipeline_3             0.433601           0.799690         0.823101   \n",
       "Pipeline_7             0.456636           0.749054         0.822352   \n",
       "Pipeline_4             0.444985           0.800582         0.820594   \n",
       "Pipeline_5             0.444985           0.800582         0.820594   \n",
       "Pipeline_9             0.424094           0.762884         0.819223   \n",
       "Pipeline_10            0.424094           0.762884         0.819223   \n",
       "Pipeline_8             0.449666           0.757978         0.818060   \n",
       "\n",
       "               training_balanced_accuracy  training_f1  holdout_precision  \\\n",
       "Pipeline Name                                                               \n",
       "Pipeline_2                       0.748267     0.857836           0.816216   \n",
       "Pipeline_1                       0.749861     0.852969           0.848066   \n",
       "Pipeline_6                       0.745869     0.808007           0.893333   \n",
       "Pipeline_3                       0.744796     0.858098           0.807487   \n",
       "Pipeline_7                       0.747928     0.798939           0.883803   \n",
       "Pipeline_4                       0.743488     0.859371           0.796296   \n",
       "Pipeline_5                       0.743488     0.859371           0.796296   \n",
       "Pipeline_9                       0.753056     0.814332           0.882943   \n",
       "Pipeline_10                      0.753056     0.814332           0.882943   \n",
       "Pipeline_8                       0.752334     0.808503           0.882353   \n",
       "\n",
       "               training_average_precision  training_log_loss  holdout_recall  \\\n",
       "Pipeline Name                                                                  \n",
       "Pipeline_2                       0.916755           0.428845        0.909639   \n",
       "Pipeline_1                       0.912986           0.439419        0.924699   \n",
       "Pipeline_6                       0.915222           0.457473        0.807229   \n",
       "Pipeline_3                       0.915761           0.428990        0.909639   \n",
       "Pipeline_7                       0.916453           0.466879        0.756024   \n",
       "Pipeline_4                       0.916422           0.429937        0.906627   \n",
       "Pipeline_5                       0.916422           0.429937        0.906627   \n",
       "Pipeline_9                       0.917152           0.455770        0.795181   \n",
       "Pipeline_10                      0.917152           0.455770        0.795181   \n",
       "Pipeline_8                       0.917388           0.461020        0.768072   \n",
       "\n",
       "               training_precision  holdout_accuracy  \\\n",
       "Pipeline Name                                         \n",
       "Pipeline_2               0.814358          0.803607   \n",
       "Pipeline_1               0.818963          0.839679   \n",
       "Pipeline_6               0.844414          0.807615   \n",
       "Pipeline_3               0.810770          0.795591   \n",
       "Pipeline_7               0.853730          0.771543   \n",
       "Pipeline_4               0.808763          0.783567   \n",
       "Pipeline_5               0.808763          0.783567   \n",
       "Pipeline_9               0.848812          0.793587   \n",
       "Pipeline_10              0.848812          0.793587   \n",
       "Pipeline_8               0.852192          0.777555   \n",
       "\n",
       "               holdout_balanced_accuracy  training_recall  holdout_f1  \n",
       "Pipeline Name                                                          \n",
       "Pipeline_2                      0.751226         0.906382    0.860399  \n",
       "Pipeline_1                      0.797679         0.890274    0.884726  \n",
       "Pipeline_6                      0.807806         0.775171    0.848101  \n",
       "Pipeline_3                      0.739250         0.911415    0.855524  \n",
       "Pipeline_7                      0.779210         0.751345    0.814935  \n",
       "Pipeline_4                      0.722774         0.916783    0.847887  \n",
       "Pipeline_5                      0.722774         0.916783    0.847887  \n",
       "Pipeline_9                      0.792800         0.782893    0.836767  \n",
       "Pipeline_10                     0.792800         0.782893    0.836767  \n",
       "Pipeline_8                      0.782240         0.769471    0.821256  "
      ]
     },
     "execution_count": 16,
     "metadata": {},
     "output_type": "execute_result"
    }
   ],
   "source": [
    "optimizer.summary()"
   ]
  },
  {
   "cell_type": "markdown",
   "metadata": {
    "id": "c09a28c1-7326-4a81-a87d-7c017d550170",
    "pycharm": {
     "name": "#%% md\n"
    }
   },
   "source": [
    "### Evaluate the best model locally"
   ]
  },
  {
   "cell_type": "markdown",
   "metadata": {
    "id": "0c1a0905-fa92-40ec-a017-9ac15851c744",
    "pycharm": {
     "name": "#%% md\n"
    }
   },
   "source": [
    "Load the model for test purposes.\n",
    "\n",
    "**Hint:** The best model is returned automatically if no `pipeline_name` provided."
   ]
  },
  {
   "cell_type": "code",
   "execution_count": 17,
   "metadata": {
    "id": "086fb289-4e03-4f8a-82ce-15d2525885bb",
    "pycharm": {
     "name": "#%%\n"
    }
   },
   "outputs": [
    {
     "data": {
      "text/html": [
       "<style>#sk-container-id-1 {\n",
       "  /* Definition of color scheme common for light and dark mode */\n",
       "  --sklearn-color-text: #000;\n",
       "  --sklearn-color-text-muted: #666;\n",
       "  --sklearn-color-line: gray;\n",
       "  /* Definition of color scheme for unfitted estimators */\n",
       "  --sklearn-color-unfitted-level-0: #fff5e6;\n",
       "  --sklearn-color-unfitted-level-1: #f6e4d2;\n",
       "  --sklearn-color-unfitted-level-2: #ffe0b3;\n",
       "  --sklearn-color-unfitted-level-3: chocolate;\n",
       "  /* Definition of color scheme for fitted estimators */\n",
       "  --sklearn-color-fitted-level-0: #f0f8ff;\n",
       "  --sklearn-color-fitted-level-1: #d4ebff;\n",
       "  --sklearn-color-fitted-level-2: #b3dbfd;\n",
       "  --sklearn-color-fitted-level-3: cornflowerblue;\n",
       "\n",
       "  /* Specific color for light theme */\n",
       "  --sklearn-color-text-on-default-background: var(--sg-text-color, var(--theme-code-foreground, var(--jp-content-font-color1, black)));\n",
       "  --sklearn-color-background: var(--sg-background-color, var(--theme-background, var(--jp-layout-color0, white)));\n",
       "  --sklearn-color-border-box: var(--sg-text-color, var(--theme-code-foreground, var(--jp-content-font-color1, black)));\n",
       "  --sklearn-color-icon: #696969;\n",
       "\n",
       "  @media (prefers-color-scheme: dark) {\n",
       "    /* Redefinition of color scheme for dark theme */\n",
       "    --sklearn-color-text-on-default-background: var(--sg-text-color, var(--theme-code-foreground, var(--jp-content-font-color1, white)));\n",
       "    --sklearn-color-background: var(--sg-background-color, var(--theme-background, var(--jp-layout-color0, #111)));\n",
       "    --sklearn-color-border-box: var(--sg-text-color, var(--theme-code-foreground, var(--jp-content-font-color1, white)));\n",
       "    --sklearn-color-icon: #878787;\n",
       "  }\n",
       "}\n",
       "\n",
       "#sk-container-id-1 {\n",
       "  color: var(--sklearn-color-text);\n",
       "}\n",
       "\n",
       "#sk-container-id-1 pre {\n",
       "  padding: 0;\n",
       "}\n",
       "\n",
       "#sk-container-id-1 input.sk-hidden--visually {\n",
       "  border: 0;\n",
       "  clip: rect(1px 1px 1px 1px);\n",
       "  clip: rect(1px, 1px, 1px, 1px);\n",
       "  height: 1px;\n",
       "  margin: -1px;\n",
       "  overflow: hidden;\n",
       "  padding: 0;\n",
       "  position: absolute;\n",
       "  width: 1px;\n",
       "}\n",
       "\n",
       "#sk-container-id-1 div.sk-dashed-wrapped {\n",
       "  border: 1px dashed var(--sklearn-color-line);\n",
       "  margin: 0 0.4em 0.5em 0.4em;\n",
       "  box-sizing: border-box;\n",
       "  padding-bottom: 0.4em;\n",
       "  background-color: var(--sklearn-color-background);\n",
       "}\n",
       "\n",
       "#sk-container-id-1 div.sk-container {\n",
       "  /* jupyter's `normalize.less` sets `[hidden] { display: none; }`\n",
       "     but bootstrap.min.css set `[hidden] { display: none !important; }`\n",
       "     so we also need the `!important` here to be able to override the\n",
       "     default hidden behavior on the sphinx rendered scikit-learn.org.\n",
       "     See: https://github.com/scikit-learn/scikit-learn/issues/21755 */\n",
       "  display: inline-block !important;\n",
       "  position: relative;\n",
       "}\n",
       "\n",
       "#sk-container-id-1 div.sk-text-repr-fallback {\n",
       "  display: none;\n",
       "}\n",
       "\n",
       "div.sk-parallel-item,\n",
       "div.sk-serial,\n",
       "div.sk-item {\n",
       "  /* draw centered vertical line to link estimators */\n",
       "  background-image: linear-gradient(var(--sklearn-color-text-on-default-background), var(--sklearn-color-text-on-default-background));\n",
       "  background-size: 2px 100%;\n",
       "  background-repeat: no-repeat;\n",
       "  background-position: center center;\n",
       "}\n",
       "\n",
       "/* Parallel-specific style estimator block */\n",
       "\n",
       "#sk-container-id-1 div.sk-parallel-item::after {\n",
       "  content: \"\";\n",
       "  width: 100%;\n",
       "  border-bottom: 2px solid var(--sklearn-color-text-on-default-background);\n",
       "  flex-grow: 1;\n",
       "}\n",
       "\n",
       "#sk-container-id-1 div.sk-parallel {\n",
       "  display: flex;\n",
       "  align-items: stretch;\n",
       "  justify-content: center;\n",
       "  background-color: var(--sklearn-color-background);\n",
       "  position: relative;\n",
       "}\n",
       "\n",
       "#sk-container-id-1 div.sk-parallel-item {\n",
       "  display: flex;\n",
       "  flex-direction: column;\n",
       "}\n",
       "\n",
       "#sk-container-id-1 div.sk-parallel-item:first-child::after {\n",
       "  align-self: flex-end;\n",
       "  width: 50%;\n",
       "}\n",
       "\n",
       "#sk-container-id-1 div.sk-parallel-item:last-child::after {\n",
       "  align-self: flex-start;\n",
       "  width: 50%;\n",
       "}\n",
       "\n",
       "#sk-container-id-1 div.sk-parallel-item:only-child::after {\n",
       "  width: 0;\n",
       "}\n",
       "\n",
       "/* Serial-specific style estimator block */\n",
       "\n",
       "#sk-container-id-1 div.sk-serial {\n",
       "  display: flex;\n",
       "  flex-direction: column;\n",
       "  align-items: center;\n",
       "  background-color: var(--sklearn-color-background);\n",
       "  padding-right: 1em;\n",
       "  padding-left: 1em;\n",
       "}\n",
       "\n",
       "\n",
       "/* Toggleable style: style used for estimator/Pipeline/ColumnTransformer box that is\n",
       "clickable and can be expanded/collapsed.\n",
       "- Pipeline and ColumnTransformer use this feature and define the default style\n",
       "- Estimators will overwrite some part of the style using the `sk-estimator` class\n",
       "*/\n",
       "\n",
       "/* Pipeline and ColumnTransformer style (default) */\n",
       "\n",
       "#sk-container-id-1 div.sk-toggleable {\n",
       "  /* Default theme specific background. It is overwritten whether we have a\n",
       "  specific estimator or a Pipeline/ColumnTransformer */\n",
       "  background-color: var(--sklearn-color-background);\n",
       "}\n",
       "\n",
       "/* Toggleable label */\n",
       "#sk-container-id-1 label.sk-toggleable__label {\n",
       "  cursor: pointer;\n",
       "  display: flex;\n",
       "  width: 100%;\n",
       "  margin-bottom: 0;\n",
       "  padding: 0.5em;\n",
       "  box-sizing: border-box;\n",
       "  text-align: center;\n",
       "  align-items: start;\n",
       "  justify-content: space-between;\n",
       "  gap: 0.5em;\n",
       "}\n",
       "\n",
       "#sk-container-id-1 label.sk-toggleable__label .caption {\n",
       "  font-size: 0.6rem;\n",
       "  font-weight: lighter;\n",
       "  color: var(--sklearn-color-text-muted);\n",
       "}\n",
       "\n",
       "#sk-container-id-1 label.sk-toggleable__label-arrow:before {\n",
       "  /* Arrow on the left of the label */\n",
       "  content: \"▸\";\n",
       "  float: left;\n",
       "  margin-right: 0.25em;\n",
       "  color: var(--sklearn-color-icon);\n",
       "}\n",
       "\n",
       "#sk-container-id-1 label.sk-toggleable__label-arrow:hover:before {\n",
       "  color: var(--sklearn-color-text);\n",
       "}\n",
       "\n",
       "/* Toggleable content - dropdown */\n",
       "\n",
       "#sk-container-id-1 div.sk-toggleable__content {\n",
       "  max-height: 0;\n",
       "  max-width: 0;\n",
       "  overflow: hidden;\n",
       "  text-align: left;\n",
       "  /* unfitted */\n",
       "  background-color: var(--sklearn-color-unfitted-level-0);\n",
       "}\n",
       "\n",
       "#sk-container-id-1 div.sk-toggleable__content.fitted {\n",
       "  /* fitted */\n",
       "  background-color: var(--sklearn-color-fitted-level-0);\n",
       "}\n",
       "\n",
       "#sk-container-id-1 div.sk-toggleable__content pre {\n",
       "  margin: 0.2em;\n",
       "  border-radius: 0.25em;\n",
       "  color: var(--sklearn-color-text);\n",
       "  /* unfitted */\n",
       "  background-color: var(--sklearn-color-unfitted-level-0);\n",
       "}\n",
       "\n",
       "#sk-container-id-1 div.sk-toggleable__content.fitted pre {\n",
       "  /* unfitted */\n",
       "  background-color: var(--sklearn-color-fitted-level-0);\n",
       "}\n",
       "\n",
       "#sk-container-id-1 input.sk-toggleable__control:checked~div.sk-toggleable__content {\n",
       "  /* Expand drop-down */\n",
       "  max-height: 200px;\n",
       "  max-width: 100%;\n",
       "  overflow: auto;\n",
       "}\n",
       "\n",
       "#sk-container-id-1 input.sk-toggleable__control:checked~label.sk-toggleable__label-arrow:before {\n",
       "  content: \"▾\";\n",
       "}\n",
       "\n",
       "/* Pipeline/ColumnTransformer-specific style */\n",
       "\n",
       "#sk-container-id-1 div.sk-label input.sk-toggleable__control:checked~label.sk-toggleable__label {\n",
       "  color: var(--sklearn-color-text);\n",
       "  background-color: var(--sklearn-color-unfitted-level-2);\n",
       "}\n",
       "\n",
       "#sk-container-id-1 div.sk-label.fitted input.sk-toggleable__control:checked~label.sk-toggleable__label {\n",
       "  background-color: var(--sklearn-color-fitted-level-2);\n",
       "}\n",
       "\n",
       "/* Estimator-specific style */\n",
       "\n",
       "/* Colorize estimator box */\n",
       "#sk-container-id-1 div.sk-estimator input.sk-toggleable__control:checked~label.sk-toggleable__label {\n",
       "  /* unfitted */\n",
       "  background-color: var(--sklearn-color-unfitted-level-2);\n",
       "}\n",
       "\n",
       "#sk-container-id-1 div.sk-estimator.fitted input.sk-toggleable__control:checked~label.sk-toggleable__label {\n",
       "  /* fitted */\n",
       "  background-color: var(--sklearn-color-fitted-level-2);\n",
       "}\n",
       "\n",
       "#sk-container-id-1 div.sk-label label.sk-toggleable__label,\n",
       "#sk-container-id-1 div.sk-label label {\n",
       "  /* The background is the default theme color */\n",
       "  color: var(--sklearn-color-text-on-default-background);\n",
       "}\n",
       "\n",
       "/* On hover, darken the color of the background */\n",
       "#sk-container-id-1 div.sk-label:hover label.sk-toggleable__label {\n",
       "  color: var(--sklearn-color-text);\n",
       "  background-color: var(--sklearn-color-unfitted-level-2);\n",
       "}\n",
       "\n",
       "/* Label box, darken color on hover, fitted */\n",
       "#sk-container-id-1 div.sk-label.fitted:hover label.sk-toggleable__label.fitted {\n",
       "  color: var(--sklearn-color-text);\n",
       "  background-color: var(--sklearn-color-fitted-level-2);\n",
       "}\n",
       "\n",
       "/* Estimator label */\n",
       "\n",
       "#sk-container-id-1 div.sk-label label {\n",
       "  font-family: monospace;\n",
       "  font-weight: bold;\n",
       "  display: inline-block;\n",
       "  line-height: 1.2em;\n",
       "}\n",
       "\n",
       "#sk-container-id-1 div.sk-label-container {\n",
       "  text-align: center;\n",
       "}\n",
       "\n",
       "/* Estimator-specific */\n",
       "#sk-container-id-1 div.sk-estimator {\n",
       "  font-family: monospace;\n",
       "  border: 1px dotted var(--sklearn-color-border-box);\n",
       "  border-radius: 0.25em;\n",
       "  box-sizing: border-box;\n",
       "  margin-bottom: 0.5em;\n",
       "  /* unfitted */\n",
       "  background-color: var(--sklearn-color-unfitted-level-0);\n",
       "}\n",
       "\n",
       "#sk-container-id-1 div.sk-estimator.fitted {\n",
       "  /* fitted */\n",
       "  background-color: var(--sklearn-color-fitted-level-0);\n",
       "}\n",
       "\n",
       "/* on hover */\n",
       "#sk-container-id-1 div.sk-estimator:hover {\n",
       "  /* unfitted */\n",
       "  background-color: var(--sklearn-color-unfitted-level-2);\n",
       "}\n",
       "\n",
       "#sk-container-id-1 div.sk-estimator.fitted:hover {\n",
       "  /* fitted */\n",
       "  background-color: var(--sklearn-color-fitted-level-2);\n",
       "}\n",
       "\n",
       "/* Specification for estimator info (e.g. \"i\" and \"?\") */\n",
       "\n",
       "/* Common style for \"i\" and \"?\" */\n",
       "\n",
       ".sk-estimator-doc-link,\n",
       "a:link.sk-estimator-doc-link,\n",
       "a:visited.sk-estimator-doc-link {\n",
       "  float: right;\n",
       "  font-size: smaller;\n",
       "  line-height: 1em;\n",
       "  font-family: monospace;\n",
       "  background-color: var(--sklearn-color-background);\n",
       "  border-radius: 1em;\n",
       "  height: 1em;\n",
       "  width: 1em;\n",
       "  text-decoration: none !important;\n",
       "  margin-left: 0.5em;\n",
       "  text-align: center;\n",
       "  /* unfitted */\n",
       "  border: var(--sklearn-color-unfitted-level-1) 1pt solid;\n",
       "  color: var(--sklearn-color-unfitted-level-1);\n",
       "}\n",
       "\n",
       ".sk-estimator-doc-link.fitted,\n",
       "a:link.sk-estimator-doc-link.fitted,\n",
       "a:visited.sk-estimator-doc-link.fitted {\n",
       "  /* fitted */\n",
       "  border: var(--sklearn-color-fitted-level-1) 1pt solid;\n",
       "  color: var(--sklearn-color-fitted-level-1);\n",
       "}\n",
       "\n",
       "/* On hover */\n",
       "div.sk-estimator:hover .sk-estimator-doc-link:hover,\n",
       ".sk-estimator-doc-link:hover,\n",
       "div.sk-label-container:hover .sk-estimator-doc-link:hover,\n",
       ".sk-estimator-doc-link:hover {\n",
       "  /* unfitted */\n",
       "  background-color: var(--sklearn-color-unfitted-level-3);\n",
       "  color: var(--sklearn-color-background);\n",
       "  text-decoration: none;\n",
       "}\n",
       "\n",
       "div.sk-estimator.fitted:hover .sk-estimator-doc-link.fitted:hover,\n",
       ".sk-estimator-doc-link.fitted:hover,\n",
       "div.sk-label-container:hover .sk-estimator-doc-link.fitted:hover,\n",
       ".sk-estimator-doc-link.fitted:hover {\n",
       "  /* fitted */\n",
       "  background-color: var(--sklearn-color-fitted-level-3);\n",
       "  color: var(--sklearn-color-background);\n",
       "  text-decoration: none;\n",
       "}\n",
       "\n",
       "/* Span, style for the box shown on hovering the info icon */\n",
       ".sk-estimator-doc-link span {\n",
       "  display: none;\n",
       "  z-index: 9999;\n",
       "  position: relative;\n",
       "  font-weight: normal;\n",
       "  right: .2ex;\n",
       "  padding: .5ex;\n",
       "  margin: .5ex;\n",
       "  width: min-content;\n",
       "  min-width: 20ex;\n",
       "  max-width: 50ex;\n",
       "  color: var(--sklearn-color-text);\n",
       "  box-shadow: 2pt 2pt 4pt #999;\n",
       "  /* unfitted */\n",
       "  background: var(--sklearn-color-unfitted-level-0);\n",
       "  border: .5pt solid var(--sklearn-color-unfitted-level-3);\n",
       "}\n",
       "\n",
       ".sk-estimator-doc-link.fitted span {\n",
       "  /* fitted */\n",
       "  background: var(--sklearn-color-fitted-level-0);\n",
       "  border: var(--sklearn-color-fitted-level-3);\n",
       "}\n",
       "\n",
       ".sk-estimator-doc-link:hover span {\n",
       "  display: block;\n",
       "}\n",
       "\n",
       "/* \"?\"-specific style due to the `<a>` HTML tag */\n",
       "\n",
       "#sk-container-id-1 a.estimator_doc_link {\n",
       "  float: right;\n",
       "  font-size: 1rem;\n",
       "  line-height: 1em;\n",
       "  font-family: monospace;\n",
       "  background-color: var(--sklearn-color-background);\n",
       "  border-radius: 1rem;\n",
       "  height: 1rem;\n",
       "  width: 1rem;\n",
       "  text-decoration: none;\n",
       "  /* unfitted */\n",
       "  color: var(--sklearn-color-unfitted-level-1);\n",
       "  border: var(--sklearn-color-unfitted-level-1) 1pt solid;\n",
       "}\n",
       "\n",
       "#sk-container-id-1 a.estimator_doc_link.fitted {\n",
       "  /* fitted */\n",
       "  border: var(--sklearn-color-fitted-level-1) 1pt solid;\n",
       "  color: var(--sklearn-color-fitted-level-1);\n",
       "}\n",
       "\n",
       "/* On hover */\n",
       "#sk-container-id-1 a.estimator_doc_link:hover {\n",
       "  /* unfitted */\n",
       "  background-color: var(--sklearn-color-unfitted-level-3);\n",
       "  color: var(--sklearn-color-background);\n",
       "  text-decoration: none;\n",
       "}\n",
       "\n",
       "#sk-container-id-1 a.estimator_doc_link.fitted:hover {\n",
       "  /* fitted */\n",
       "  background-color: var(--sklearn-color-fitted-level-3);\n",
       "}\n",
       "</style><div id=\"sk-container-id-1\" class=\"sk-top-container\"><div class=\"sk-text-repr-fallback\"><pre>Pipeline(steps=[(&#x27;featureunion&#x27;,\n",
       "                 FeatureUnion(transformer_list=[(&#x27;float32_transform_139766486739008&#x27;,\n",
       "                                                 Pipeline(steps=[(&#x27;numpycolumnselector&#x27;,\n",
       "                                                                  NumpyColumnSelector(columns=[0,\n",
       "                                                                                               1,\n",
       "                                                                                               2,\n",
       "                                                                                               3,\n",
       "                                                                                               5,\n",
       "                                                                                               6,\n",
       "                                                                                               7,\n",
       "                                                                                               8,\n",
       "                                                                                               9,\n",
       "                                                                                               10,\n",
       "                                                                                               11,\n",
       "                                                                                               12,\n",
       "                                                                                               13,\n",
       "                                                                                               14,\n",
       "                                                                                               15,\n",
       "                                                                                               16,\n",
       "                                                                                               17,\n",
       "                                                                                               18,\n",
       "                                                                                               19])),\n",
       "                                                                 (&#x27;compressstrings&#x27;,\n",
       "                                                                  CompressStrings(compress_type=&#x27;hash&#x27;,\n",
       "                                                                                  dtypes_list=[&#x27;char_str&#x27;,\n",
       "                                                                                               &#x27;float_int_num&#x27;,\n",
       "                                                                                               &#x27;char_str&#x27;,\n",
       "                                                                                               &#x27;char_str&#x27;,\n",
       "                                                                                               &#x27;char_str&#x27;,\n",
       "                                                                                               &#x27;c...\n",
       "                               feature_types=None, gamma=1, gpu_id=None,\n",
       "                               grow_policy=None, importance_type=&#x27;gain&#x27;,\n",
       "                               interaction_constraints=None,\n",
       "                               learning_rate=0.0224493228186446, max_bin=None,\n",
       "                               max_cat_threshold=None, max_cat_to_onehot=None,\n",
       "                               max_delta_step=None, max_depth=4,\n",
       "                               max_leaves=None, min_child_weight=19,\n",
       "                               missing=nan, monotone_constraints=None,\n",
       "                               multi_strategy=None, n_estimators=204, n_jobs=4,\n",
       "                               nthread=None, ...))])</pre><b>In a Jupyter environment, please rerun this cell to show the HTML representation or trust the notebook. <br />On GitHub, the HTML representation is unable to render, please try loading this page with nbviewer.org.</b></div><div class=\"sk-container\" hidden><div class=\"sk-item sk-dashed-wrapped\"><div class=\"sk-label-container\"><div class=\"sk-label fitted sk-toggleable\"><input class=\"sk-toggleable__control sk-hidden--visually\" id=\"sk-estimator-id-1\" type=\"checkbox\" ><label for=\"sk-estimator-id-1\" class=\"sk-toggleable__label fitted sk-toggleable__label-arrow\"><div><div>Pipeline</div></div><div><a class=\"sk-estimator-doc-link fitted\" rel=\"noreferrer\" target=\"_blank\" href=\"https://scikit-learn.org/1.6/modules/generated/sklearn.pipeline.Pipeline.html\">?<span>Documentation for Pipeline</span></a><span class=\"sk-estimator-doc-link fitted\">i<span>Fitted</span></span></div></label><div class=\"sk-toggleable__content fitted\"><pre>Pipeline(steps=[(&#x27;featureunion&#x27;,\n",
       "                 FeatureUnion(transformer_list=[(&#x27;float32_transform_139766486739008&#x27;,\n",
       "                                                 Pipeline(steps=[(&#x27;numpycolumnselector&#x27;,\n",
       "                                                                  NumpyColumnSelector(columns=[0,\n",
       "                                                                                               1,\n",
       "                                                                                               2,\n",
       "                                                                                               3,\n",
       "                                                                                               5,\n",
       "                                                                                               6,\n",
       "                                                                                               7,\n",
       "                                                                                               8,\n",
       "                                                                                               9,\n",
       "                                                                                               10,\n",
       "                                                                                               11,\n",
       "                                                                                               12,\n",
       "                                                                                               13,\n",
       "                                                                                               14,\n",
       "                                                                                               15,\n",
       "                                                                                               16,\n",
       "                                                                                               17,\n",
       "                                                                                               18,\n",
       "                                                                                               19])),\n",
       "                                                                 (&#x27;compressstrings&#x27;,\n",
       "                                                                  CompressStrings(compress_type=&#x27;hash&#x27;,\n",
       "                                                                                  dtypes_list=[&#x27;char_str&#x27;,\n",
       "                                                                                               &#x27;float_int_num&#x27;,\n",
       "                                                                                               &#x27;char_str&#x27;,\n",
       "                                                                                               &#x27;char_str&#x27;,\n",
       "                                                                                               &#x27;char_str&#x27;,\n",
       "                                                                                               &#x27;c...\n",
       "                               feature_types=None, gamma=1, gpu_id=None,\n",
       "                               grow_policy=None, importance_type=&#x27;gain&#x27;,\n",
       "                               interaction_constraints=None,\n",
       "                               learning_rate=0.0224493228186446, max_bin=None,\n",
       "                               max_cat_threshold=None, max_cat_to_onehot=None,\n",
       "                               max_delta_step=None, max_depth=4,\n",
       "                               max_leaves=None, min_child_weight=19,\n",
       "                               missing=nan, monotone_constraints=None,\n",
       "                               multi_strategy=None, n_estimators=204, n_jobs=4,\n",
       "                               nthread=None, ...))])</pre></div> </div></div><div class=\"sk-serial\"><div class=\"sk-item sk-dashed-wrapped\"><div class=\"sk-label-container\"><div class=\"sk-label fitted sk-toggleable\"><input class=\"sk-toggleable__control sk-hidden--visually\" id=\"sk-estimator-id-2\" type=\"checkbox\" ><label for=\"sk-estimator-id-2\" class=\"sk-toggleable__label fitted sk-toggleable__label-arrow\"><div><div>featureunion: FeatureUnion</div></div><div><a class=\"sk-estimator-doc-link fitted\" rel=\"noreferrer\" target=\"_blank\" href=\"https://scikit-learn.org/1.6/modules/generated/sklearn.pipeline.FeatureUnion.html\">?<span>Documentation for featureunion: FeatureUnion</span></a></div></label><div class=\"sk-toggleable__content fitted\"><pre>FeatureUnion(transformer_list=[(&#x27;float32_transform_139766486739008&#x27;,\n",
       "                                Pipeline(steps=[(&#x27;numpycolumnselector&#x27;,\n",
       "                                                 NumpyColumnSelector(columns=[0,\n",
       "                                                                              1,\n",
       "                                                                              2,\n",
       "                                                                              3,\n",
       "                                                                              5,\n",
       "                                                                              6,\n",
       "                                                                              7,\n",
       "                                                                              8,\n",
       "                                                                              9,\n",
       "                                                                              10,\n",
       "                                                                              11,\n",
       "                                                                              12,\n",
       "                                                                              13,\n",
       "                                                                              14,\n",
       "                                                                              15,\n",
       "                                                                              16,\n",
       "                                                                              17,\n",
       "                                                                              18,\n",
       "                                                                              19])),\n",
       "                                                (&#x27;compressstrings&#x27;,\n",
       "                                                 CompressStrings(compress_type=&#x27;hash&#x27;,\n",
       "                                                                 dtypes_list=[&#x27;char_str&#x27;,\n",
       "                                                                              &#x27;float_int_num&#x27;,\n",
       "                                                                              &#x27;char_str&#x27;,\n",
       "                                                                              &#x27;char_str&#x27;,\n",
       "                                                                              &#x27;char_str&#x27;,\n",
       "                                                                              &#x27;char_str&#x27;,\n",
       "                                                                              &#x27;float_int_num&#x27;,\n",
       "                                                                              &#x27;char_s...\n",
       "                                                 NumpyColumnSelector(columns=[4])),\n",
       "                                                (&#x27;floatstr2float&#x27;,\n",
       "                                                 FloatStr2Float(dtypes_list=[&#x27;float_int_num&#x27;],\n",
       "                                                                missing_values_reference_list=[])),\n",
       "                                                (&#x27;numpyreplacemissingvalues&#x27;,\n",
       "                                                 NumpyReplaceMissingValues(missing_values=[])),\n",
       "                                                (&#x27;numimputer&#x27;,\n",
       "                                                 NumImputer(missing_values=nan,\n",
       "                                                            strategy=&#x27;median&#x27;)),\n",
       "                                                (&#x27;optstandardscaler&#x27;,\n",
       "                                                 OptStandardScaler(use_scaler_flag=False)),\n",
       "                                                (&#x27;float32_transform&#x27;,\n",
       "                                                 float32_transform())]))])</pre></div> </div></div><div class=\"sk-parallel\"><div class=\"sk-parallel-item\"><div class=\"sk-item\"><div class=\"sk-label-container\"><div class=\"sk-label fitted sk-toggleable\"><label>float32_transform_139766486739008</label></div></div><div class=\"sk-serial\"><div class=\"sk-item\"><div class=\"sk-serial\"><div class=\"sk-item\"><div class=\"sk-estimator fitted sk-toggleable\"><input class=\"sk-toggleable__control sk-hidden--visually\" id=\"sk-estimator-id-3\" type=\"checkbox\" ><label for=\"sk-estimator-id-3\" class=\"sk-toggleable__label fitted sk-toggleable__label-arrow\"><div><div>NumpyColumnSelector</div></div></label><div class=\"sk-toggleable__content fitted\"><pre>NumpyColumnSelector(columns=[0, 1, 2, 3, 5, 6, 7, 8, 9, 10, 11, 12, 13, 14, 15,\n",
       "                             16, 17, 18, 19])</pre></div> </div></div><div class=\"sk-item\"><div class=\"sk-estimator fitted sk-toggleable\"><input class=\"sk-toggleable__control sk-hidden--visually\" id=\"sk-estimator-id-4\" type=\"checkbox\" ><label for=\"sk-estimator-id-4\" class=\"sk-toggleable__label fitted sk-toggleable__label-arrow\"><div><div>CompressStrings</div></div></label><div class=\"sk-toggleable__content fitted\"><pre>CompressStrings(compress_type=&#x27;hash&#x27;,\n",
       "                dtypes_list=[&#x27;char_str&#x27;, &#x27;float_int_num&#x27;, &#x27;char_str&#x27;,\n",
       "                             &#x27;char_str&#x27;, &#x27;char_str&#x27;, &#x27;char_str&#x27;,\n",
       "                             &#x27;float_int_num&#x27;, &#x27;char_str&#x27;, &#x27;char_str&#x27;,\n",
       "                             &#x27;float_int_num&#x27;, &#x27;char_str&#x27;, &#x27;float_int_num&#x27;,\n",
       "                             &#x27;char_str&#x27;, &#x27;char_str&#x27;, &#x27;float_int_num&#x27;,\n",
       "                             &#x27;char_str&#x27;, &#x27;float_int_num&#x27;, &#x27;char_str&#x27;,\n",
       "                             &#x27;char_str&#x27;],\n",
       "                missing_values_reference_list=[&#x27;&#x27;, &#x27;-&#x27;, &#x27;?&#x27;, nan],\n",
       "                misslist_list=[[], [], [], [], [], [], [], [], [], [], [], [],\n",
       "                               [], [], [], [], [], [], []])</pre></div> </div></div><div class=\"sk-item\"><div class=\"sk-estimator fitted sk-toggleable\"><input class=\"sk-toggleable__control sk-hidden--visually\" id=\"sk-estimator-id-5\" type=\"checkbox\" ><label for=\"sk-estimator-id-5\" class=\"sk-toggleable__label fitted sk-toggleable__label-arrow\"><div><div>NumpyReplaceMissingValues</div></div></label><div class=\"sk-toggleable__content fitted\"><pre>NumpyReplaceMissingValues(missing_values=[])</pre></div> </div></div><div class=\"sk-item\"><div class=\"sk-estimator fitted sk-toggleable\"><input class=\"sk-toggleable__control sk-hidden--visually\" id=\"sk-estimator-id-6\" type=\"checkbox\" ><label for=\"sk-estimator-id-6\" class=\"sk-toggleable__label fitted sk-toggleable__label-arrow\"><div><div>NumpyReplaceUnknownValues</div></div></label><div class=\"sk-toggleable__content fitted\"><pre>NumpyReplaceUnknownValues(filling_values=nan,\n",
       "                          filling_values_list=[nan, 100001, nan, nan, nan, nan,\n",
       "                                               100001, nan, nan, 100001, nan,\n",
       "                                               100001, nan, nan, 100001, nan,\n",
       "                                               100001, nan, nan],\n",
       "                          known_values_list=[[227259264688753646810077375790908286508,\n",
       "                                              253732214910815238134509288111402486722,\n",
       "                                              303819144345098626554456011496217223575,\n",
       "                                              280353606872939388614315901186094326949],\n",
       "                                             [4.0, 5.0...\n",
       "                                             [328286527295663582663365503319902632676,\n",
       "                                              119641707607939038914465000864290288880,\n",
       "                                              283364312271660996400883763491949419861,\n",
       "                                              27741019508977055807423991753468819528],\n",
       "                                             [1.0, 2.0],\n",
       "                                             [68186749286663113704472210246844540664,\n",
       "                                              220736790854050750400968561922076059550],\n",
       "                                             [169662019754859674907370307324476606919,\n",
       "                                              220736790854050750400968561922076059550]],\n",
       "                          missing_values_reference_list=[&#x27;&#x27;, &#x27;-&#x27;, &#x27;?&#x27;, nan])</pre></div> </div></div><div class=\"sk-item\"><div class=\"sk-estimator fitted sk-toggleable\"><input class=\"sk-toggleable__control sk-hidden--visually\" id=\"sk-estimator-id-7\" type=\"checkbox\" ><label for=\"sk-estimator-id-7\" class=\"sk-toggleable__label fitted sk-toggleable__label-arrow\"><div><div>boolean2float</div></div></label><div class=\"sk-toggleable__content fitted\"><pre>boolean2float()</pre></div> </div></div><div class=\"sk-item\"><div class=\"sk-estimator fitted sk-toggleable\"><input class=\"sk-toggleable__control sk-hidden--visually\" id=\"sk-estimator-id-8\" type=\"checkbox\" ><label for=\"sk-estimator-id-8\" class=\"sk-toggleable__label fitted sk-toggleable__label-arrow\"><div><div>CatImputer</div></div></label><div class=\"sk-toggleable__content fitted\"><pre>CatImputer(missing_values=nan, strategy=&#x27;most_frequent&#x27;)</pre></div> </div></div><div class=\"sk-item\"><div class=\"sk-estimator fitted sk-toggleable\"><input class=\"sk-toggleable__control sk-hidden--visually\" id=\"sk-estimator-id-9\" type=\"checkbox\" ><label for=\"sk-estimator-id-9\" class=\"sk-toggleable__label fitted sk-toggleable__label-arrow\"><div><div>CatEncoder</div></div></label><div class=\"sk-toggleable__content fitted\"><pre>CatEncoder(categories=&#x27;auto&#x27;, dtype=&lt;class &#x27;numpy.float64&#x27;&gt;, encoding=&#x27;ordinal&#x27;,\n",
       "           handle_unknown=&#x27;error&#x27;)</pre></div> </div></div><div class=\"sk-item\"><div class=\"sk-estimator fitted sk-toggleable\"><input class=\"sk-toggleable__control sk-hidden--visually\" id=\"sk-estimator-id-10\" type=\"checkbox\" ><label for=\"sk-estimator-id-10\" class=\"sk-toggleable__label fitted sk-toggleable__label-arrow\"><div><div>float32_transform</div></div></label><div class=\"sk-toggleable__content fitted\"><pre>float32_transform()</pre></div> </div></div></div></div></div></div></div><div class=\"sk-parallel-item\"><div class=\"sk-item\"><div class=\"sk-label-container\"><div class=\"sk-label fitted sk-toggleable\"><label>float32_transform_139766449360336</label></div></div><div class=\"sk-serial\"><div class=\"sk-item\"><div class=\"sk-serial\"><div class=\"sk-item\"><div class=\"sk-estimator fitted sk-toggleable\"><input class=\"sk-toggleable__control sk-hidden--visually\" id=\"sk-estimator-id-11\" type=\"checkbox\" ><label for=\"sk-estimator-id-11\" class=\"sk-toggleable__label fitted sk-toggleable__label-arrow\"><div><div>NumpyColumnSelector</div></div></label><div class=\"sk-toggleable__content fitted\"><pre>NumpyColumnSelector(columns=[4])</pre></div> </div></div><div class=\"sk-item\"><div class=\"sk-estimator fitted sk-toggleable\"><input class=\"sk-toggleable__control sk-hidden--visually\" id=\"sk-estimator-id-12\" type=\"checkbox\" ><label for=\"sk-estimator-id-12\" class=\"sk-toggleable__label fitted sk-toggleable__label-arrow\"><div><div>FloatStr2Float</div></div></label><div class=\"sk-toggleable__content fitted\"><pre>FloatStr2Float(dtypes_list=[&#x27;float_int_num&#x27;], missing_values_reference_list=[])</pre></div> </div></div><div class=\"sk-item\"><div class=\"sk-estimator fitted sk-toggleable\"><input class=\"sk-toggleable__control sk-hidden--visually\" id=\"sk-estimator-id-13\" type=\"checkbox\" ><label for=\"sk-estimator-id-13\" class=\"sk-toggleable__label fitted sk-toggleable__label-arrow\"><div><div>NumpyReplaceMissingValues</div></div></label><div class=\"sk-toggleable__content fitted\"><pre>NumpyReplaceMissingValues(missing_values=[])</pre></div> </div></div><div class=\"sk-item\"><div class=\"sk-estimator fitted sk-toggleable\"><input class=\"sk-toggleable__control sk-hidden--visually\" id=\"sk-estimator-id-14\" type=\"checkbox\" ><label for=\"sk-estimator-id-14\" class=\"sk-toggleable__label fitted sk-toggleable__label-arrow\"><div><div>NumImputer</div></div></label><div class=\"sk-toggleable__content fitted\"><pre>NumImputer(missing_values=nan, strategy=&#x27;median&#x27;)</pre></div> </div></div><div class=\"sk-item\"><div class=\"sk-estimator fitted sk-toggleable\"><input class=\"sk-toggleable__control sk-hidden--visually\" id=\"sk-estimator-id-15\" type=\"checkbox\" ><label for=\"sk-estimator-id-15\" class=\"sk-toggleable__label fitted sk-toggleable__label-arrow\"><div><div>OptStandardScaler</div></div></label><div class=\"sk-toggleable__content fitted\"><pre>OptStandardScaler(use_scaler_flag=False)</pre></div> </div></div><div class=\"sk-item\"><div class=\"sk-estimator fitted sk-toggleable\"><input class=\"sk-toggleable__control sk-hidden--visually\" id=\"sk-estimator-id-16\" type=\"checkbox\" ><label for=\"sk-estimator-id-16\" class=\"sk-toggleable__label fitted sk-toggleable__label-arrow\"><div><div>float32_transform</div></div></label><div class=\"sk-toggleable__content fitted\"><pre>float32_transform()</pre></div> </div></div></div></div></div></div></div></div></div><div class=\"sk-item\"><div class=\"sk-estimator fitted sk-toggleable\"><input class=\"sk-toggleable__control sk-hidden--visually\" id=\"sk-estimator-id-17\" type=\"checkbox\" ><label for=\"sk-estimator-id-17\" class=\"sk-toggleable__label fitted sk-toggleable__label-arrow\"><div><div>NumpyPermuteArray</div></div></label><div class=\"sk-toggleable__content fitted\"><pre>NumpyPermuteArray(axis=0,\n",
       "                  permutation_indices=[0, 1, 2, 3, 5, 6, 7, 8, 9, 10, 11, 12,\n",
       "                                       13, 14, 15, 16, 17, 18, 19, 4])</pre></div> </div></div><div class=\"sk-item\"><div class=\"sk-estimator fitted sk-toggleable\"><input class=\"sk-toggleable__control sk-hidden--visually\" id=\"sk-estimator-id-18\" type=\"checkbox\" ><label for=\"sk-estimator-id-18\" class=\"sk-toggleable__label fitted sk-toggleable__label-arrow\"><div><div>TA2</div></div></label><div class=\"sk-toggleable__content fitted\"><pre>autoai_libs.cognito.transforms.transform_utils.TA2(fun = numpy.add, name = &#x27;sum&#x27;, datatypes1 = [&#x27;intc&#x27;, &#x27;intp&#x27;, &#x27;int_&#x27;, &#x27;uint8&#x27;, &#x27;uint16&#x27;, &#x27;uint32&#x27;, &#x27;uint64&#x27;, &#x27;int8&#x27;, &#x27;int16&#x27;, &#x27;int32&#x27;, &#x27;int64&#x27;, &#x27;short&#x27;, &#x27;long&#x27;, &#x27;longlong&#x27;, &#x27;float16&#x27;, &#x27;float32&#x27;, &#x27;float64&#x27;], feat_constraints1 = [&lt;cyfunction is_not_categorical at 0x7fd9ce628040&gt;], datatypes2 = [&#x27;intc&#x27;, &#x27;intp&#x27;, &#x27;int_&#x27;, &#x27;uint8&#x27;, &#x27;uint16&#x27;, &#x27;uint32&#x27;, &#x27;uint64&#x27;, &#x27;int8&#x27;, &#x27;int16&#x27;, &#x27;int32&#x27;, &#x27;int64&#x27;, &#x27;short&#x27;, &#x27;long&#x27;, &#x27;longlong&#x27;, &#x27;float16&#x27;, &#x27;float32&#x27;, &#x27;float64&#x27;], feat_constraints2 = [&lt;cyfunction is_not_categorical at 0x7fd9ce628040&gt;], tgraph = None, apply_all = True, col_names = [&#x27;CheckingStatus&#x27;, &#x27;LoanDuration&#x27;, &#x27;CreditHistory&#x27;, &#x27;LoanPurpose&#x27;, &#x27;LoanAmount&#x27;, &#x27;ExistingSavings&#x27;, &#x27;EmploymentDuration&#x27;, &#x27;InstallmentPercent&#x27;, &#x27;Sex&#x27;, &#x27;OthersOnLoan&#x27;, &#x27;CurrentResidenceDuration&#x27;, &#x27;OwnsProperty&#x27;, &#x27;Age&#x27;, &#x27;InstallmentPlans&#x27;, &#x27;Housing&#x27;, &#x27;ExistingCreditsCount&#x27;, &#x27;Job&#x27;, &#x27;Dependents&#x27;, &#x27;Telephone&#x27;, &#x27;ForeignWorker&#x27;], col_dtypes = [dtype(&#x27;float32&#x27;), dtype(&#x27;float32&#x27;), dtype(&#x27;float32&#x27;), dtype(&#x27;float32&#x27;), dtype(&#x27;float32&#x27;), dtype(&#x27;float32&#x27;), dtype(&#x27;float32&#x27;), dtype(&#x27;float32&#x27;), dtype(&#x27;float32&#x27;), dtype(&#x27;float32&#x27;), dtype(&#x27;float32&#x27;), dtype(&#x27;float32&#x27;), dtype(&#x27;float32&#x27;), dtype(&#x27;float32&#x27;), dtype(&#x27;float32&#x27;), dtype(&#x27;float32&#x27;), dtype(&#x27;float32&#x27;), dtype(&#x27;float32&#x27;), dtype(&#x27;float32&#x27;), dtype(&#x27;float32&#x27;)], col_as_json_objects = None)</pre></div> </div></div><div class=\"sk-item\"><div class=\"sk-estimator fitted sk-toggleable\"><input class=\"sk-toggleable__control sk-hidden--visually\" id=\"sk-estimator-id-19\" type=\"checkbox\" ><label for=\"sk-estimator-id-19\" class=\"sk-toggleable__label fitted sk-toggleable__label-arrow\"><div><div>FS1</div></div></label><div class=\"sk-toggleable__content fitted\"><pre>autoai_libs.cognito.transforms.transform_utils.FS1(cols_ids_must_keep = range(0, 20), additional_col_count_to_keep = 20, ptype = &#x27;classification&#x27;)</pre></div> </div></div><div class=\"sk-item sk-dashed-wrapped\"><div class=\"sk-label-container\"><div class=\"sk-label fitted sk-toggleable\"><input class=\"sk-toggleable__control sk-hidden--visually\" id=\"sk-estimator-id-20\" type=\"checkbox\" ><label for=\"sk-estimator-id-20\" class=\"sk-toggleable__label fitted sk-toggleable__label-arrow\"><div><div>tam: TAM</div></div></label><div class=\"sk-toggleable__content fitted\"><pre>autoai_libs.cognito.transforms.transform_utils.TAM(tans_class=sklearn.decomposition._pca.PCA(copy = True, iterated_power = &#x27;auto&#x27;, n_components = None, n_oversamples = 10, power_iteration_normalizer = &#x27;auto&#x27;, random_state = None, svd_solver = &#x27;full&#x27;, tol = 0.0, whiten = False), name = &#x27;pca&#x27;, tgraph = None, apply_all = True, col_names = [&#x27;CheckingStatus&#x27;, &#x27;LoanDuration&#x27;, &#x27;CreditHistory&#x27;, &#x27;LoanPurpose&#x27;, &#x27;LoanAmount&#x27;, &#x27;ExistingSavings&#x27;, &#x27;EmploymentDuration&#x27;, &#x27;InstallmentPercent&#x27;, &#x27;Sex&#x27;, &#x27;OthersOnLoan&#x27;, &#x27;CurrentResidenceDuration&#x27;, &#x27;OwnsProperty&#x27;, &#x27;Age&#x27;, &#x27;InstallmentPlans&#x27;, &#x27;Housing&#x27;, &#x27;ExistingCreditsCount&#x27;, &#x27;Job&#x27;, &#x27;Dependents&#x27;, &#x27;Telephone&#x27;, &#x27;ForeignWorker&#x27;, &#x27;sum(LoanDuration__LoanAmount)&#x27;, &#x27;sum(LoanDuration__Age)&#x27;, &#x27;sum(LoanAmount__Age)&#x27;], col_dtypes = [dtype(&#x27;float32&#x27;), dtype(&#x27;float32&#x27;), dtype(&#x27;float32&#x27;), dtype(&#x27;float32&#x27;), dtype(&#x27;float32&#x27;), dtype(&#x27;float32&#x27;), dtype(&#x27;float32&#x27;), dtype(&#x27;float32&#x27;), dtype(&#x27;float32&#x27;), dtype(&#x27;float32&#x27;), dtype(&#x27;float32&#x27;), dtype(&#x27;float32&#x27;), dtype(&#x27;float32&#x27;), dtype(&#x27;float32&#x27;), dtype(&#x27;float32&#x27;), dtype(&#x27;float32&#x27;), dtype(&#x27;float32&#x27;), dtype(&#x27;float32&#x27;), dtype(&#x27;float32&#x27;), dtype(&#x27;float32&#x27;), dtype(&#x27;float32&#x27;), dtype(&#x27;float32&#x27;), dtype(&#x27;float32&#x27;)], col_as_json_objects = None)</pre></div> </div></div><div class=\"sk-parallel\"><div class=\"sk-parallel-item\"><div class=\"sk-item\"><div class=\"sk-label-container\"><div class=\"sk-label fitted sk-toggleable\"><input class=\"sk-toggleable__control sk-hidden--visually\" id=\"sk-estimator-id-21\" type=\"checkbox\" ><label for=\"sk-estimator-id-21\" class=\"sk-toggleable__label fitted sk-toggleable__label-arrow\"><div><div>tans_class: PCA</div></div></label><div class=\"sk-toggleable__content fitted\"><pre>PCA(svd_solver=&#x27;full&#x27;)</pre></div> </div></div><div class=\"sk-serial\"><div class=\"sk-item\"><div class=\"sk-estimator fitted sk-toggleable\"><input class=\"sk-toggleable__control sk-hidden--visually\" id=\"sk-estimator-id-22\" type=\"checkbox\" ><label for=\"sk-estimator-id-22\" class=\"sk-toggleable__label fitted sk-toggleable__label-arrow\"><div><div>PCA</div></div><div><a class=\"sk-estimator-doc-link fitted\" rel=\"noreferrer\" target=\"_blank\" href=\"https://scikit-learn.org/1.6/modules/generated/sklearn.decomposition.PCA.html\">?<span>Documentation for PCA</span></a></div></label><div class=\"sk-toggleable__content fitted\"><pre>PCA(svd_solver=&#x27;full&#x27;)</pre></div> </div></div></div></div></div></div></div><div class=\"sk-item\"><div class=\"sk-estimator fitted sk-toggleable\"><input class=\"sk-toggleable__control sk-hidden--visually\" id=\"sk-estimator-id-23\" type=\"checkbox\" ><label for=\"sk-estimator-id-23\" class=\"sk-toggleable__label fitted sk-toggleable__label-arrow\"><div><div>FS1</div></div></label><div class=\"sk-toggleable__content fitted\"><pre>autoai_libs.cognito.transforms.transform_utils.FS1(cols_ids_must_keep = range(0, 20), additional_col_count_to_keep = 20, ptype = &#x27;classification&#x27;)</pre></div> </div></div><div class=\"sk-item\"><div class=\"sk-estimator fitted sk-toggleable\"><input class=\"sk-toggleable__control sk-hidden--visually\" id=\"sk-estimator-id-24\" type=\"checkbox\" ><label for=\"sk-estimator-id-24\" class=\"sk-toggleable__label fitted sk-toggleable__label-arrow\"><div><div>XGBClassifier</div></div></label><div class=\"sk-toggleable__content fitted\"><pre>XGBClassifier(base_score=None, booster=None, callbacks=None,\n",
       "              colsample_bylevel=None, colsample_bynode=None,\n",
       "              colsample_bytree=None, device=None, early_stopping_rounds=None,\n",
       "              enable_categorical=False, eval_metric=None, feature_types=None,\n",
       "              gamma=1, gpu_id=None, grow_policy=None, importance_type=&#x27;gain&#x27;,\n",
       "              interaction_constraints=None, learning_rate=0.0224493228186446,\n",
       "              max_bin=None, max_cat_threshold=None, max_cat_to_onehot=None,\n",
       "              max_delta_step=None, max_depth=4, max_leaves=None,\n",
       "              min_child_weight=19, missing=nan, monotone_constraints=None,\n",
       "              multi_strategy=None, n_estimators=204, n_jobs=4, nthread=None, ...)</pre></div> </div></div></div></div></div></div>"
      ],
      "text/plain": [
       "Pipeline(steps=[('featureunion',\n",
       "                 FeatureUnion(transformer_list=[('float32_transform_139766486739008',\n",
       "                                                 Pipeline(steps=[('numpycolumnselector',\n",
       "                                                                  NumpyColumnSelector(columns=[0,\n",
       "                                                                                               1,\n",
       "                                                                                               2,\n",
       "                                                                                               3,\n",
       "                                                                                               5,\n",
       "                                                                                               6,\n",
       "                                                                                               7,\n",
       "                                                                                               8,\n",
       "                                                                                               9,\n",
       "                                                                                               10,\n",
       "                                                                                               11,\n",
       "                                                                                               12,\n",
       "                                                                                               13,\n",
       "                                                                                               14,\n",
       "                                                                                               15,\n",
       "                                                                                               16,\n",
       "                                                                                               17,\n",
       "                                                                                               18,\n",
       "                                                                                               19])),\n",
       "                                                                 ('compressstrings',\n",
       "                                                                  CompressStrings(compress_type='hash',\n",
       "                                                                                  dtypes_list=['char_str',\n",
       "                                                                                               'float_int_num',\n",
       "                                                                                               'char_str',\n",
       "                                                                                               'char_str',\n",
       "                                                                                               'char_str',\n",
       "                                                                                               'c...\n",
       "                               feature_types=None, gamma=1, gpu_id=None,\n",
       "                               grow_policy=None, importance_type='gain',\n",
       "                               interaction_constraints=None,\n",
       "                               learning_rate=0.0224493228186446, max_bin=None,\n",
       "                               max_cat_threshold=None, max_cat_to_onehot=None,\n",
       "                               max_delta_step=None, max_depth=4,\n",
       "                               max_leaves=None, min_child_weight=19,\n",
       "                               missing=nan, monotone_constraints=None,\n",
       "                               multi_strategy=None, n_estimators=204, n_jobs=4,\n",
       "                               nthread=None, ...))])"
      ]
     },
     "execution_count": 17,
     "metadata": {},
     "output_type": "execute_result"
    }
   ],
   "source": [
    "pipeline_name = \"Pipeline_4\"\n",
    "pipeline_model = optimizer.get_pipeline(pipeline_name=pipeline_name, astype=\"sklearn\")\n",
    "pipeline_model"
   ]
  },
  {
   "cell_type": "markdown",
   "metadata": {
    "id": "4cf33185-dd69-499b-b6ed-936161ef27e2",
    "pycharm": {
     "name": "#%% md\n"
    }
   },
   "source": [
    "This cell constructs the cell scorer based on the experiment metadata."
   ]
  },
  {
   "cell_type": "code",
   "execution_count": 18,
   "metadata": {
    "id": "b1a74bcf-9f1e-4b72-b160-6845fb224ae1",
    "pycharm": {
     "name": "#%%\n"
    }
   },
   "outputs": [],
   "source": [
    "from sklearn.metrics import get_scorer\n",
    "\n",
    "scorer = get_scorer(optimization_params[\"scorer_for_ranking\"])"
   ]
  },
  {
   "cell_type": "markdown",
   "metadata": {
    "id": "9a3e0589-7b72-48b4-b86f-1b98f6197d96",
    "pycharm": {
     "name": "#%% md\n"
    }
   },
   "source": [
    "#### Read the train and holdout data.\n",
    "\n",
    "**Hint:** You can also use external test dataset."
   ]
  },
  {
   "cell_type": "code",
   "execution_count": 19,
   "metadata": {
    "id": "a76c9b12-9c0e-4f5d-9a40-e5c5b358a332",
    "pycharm": {
     "name": "#%%\n"
    }
   },
   "outputs": [],
   "source": [
    "connection = optimizer.get_data_connections()[0]\n",
    "train_X, test_X, train_y, test_y = connection.read(with_holdout_split=True)"
   ]
  },
  {
   "cell_type": "markdown",
   "metadata": {
    "id": "03f1caf2-87f4-4f0c-b87f-61d283c8e95e",
    "pycharm": {
     "name": "#%% md\n"
    }
   },
   "source": [
    "#### Calculate the score"
   ]
  },
  {
   "cell_type": "code",
   "execution_count": 20,
   "metadata": {
    "id": "ae39f963-68a9-4c7a-a9cb-33d34fd4f5d1",
    "pycharm": {
     "name": "#%%\n"
    }
   },
   "outputs": [
    {
     "name": "stdout",
     "output_type": "stream",
     "text": [
      "0.845104970781329\n"
     ]
    }
   ],
   "source": [
    "score = scorer(pipeline_model, test_X.values, test_y.values)\n",
    "print(score)"
   ]
  },
  {
   "cell_type": "markdown",
   "metadata": {
    "id": "9e539757-1e0f-4ee4-b571-2367c3ea804a",
    "pycharm": {
     "name": "#%% md\n"
    }
   },
   "source": [
    "<a id=\"persistence\"></a>\n",
    "\n",
    "## 5. Store the model in repository\n",
    "\n",
    "Provide `pipeline_name` and `training_id`."
   ]
  },
  {
   "cell_type": "code",
   "execution_count": 21,
   "metadata": {
    "id": "20c293df-b6f1-4b69-8e6d-4214c1384b84"
   },
   "outputs": [
    {
     "name": "stdout",
     "output_type": "stream",
     "text": [
      "Unsetting the space_id ...\n"
     ]
    },
    {
     "data": {
      "text/plain": [
       "'SUCCESS'"
      ]
     },
     "execution_count": 21,
     "metadata": {},
     "output_type": "execute_result"
    }
   ],
   "source": [
    "client.set.default_project(training_project_id)"
   ]
  },
  {
   "cell_type": "code",
   "execution_count": 22,
   "metadata": {
    "id": "8419c883-a2a2-455b-870c-1bace99b093b",
    "pycharm": {
     "name": "#%%\n"
    }
   },
   "outputs": [
    {
     "name": "stdout",
     "output_type": "stream",
     "text": [
      "Re-trained model id 8683b3a7-bb11-46da-b46f-52355acb8c18\n"
     ]
    }
   ],
   "source": [
    "model_metadata = {\n",
    "    client.repository.ModelMetaNames.NAME: \"{0} - {1} - {2}\".format(\n",
    "        deployed_pipeline_details[\"metadata\"][\"name\"],\n",
    "        pipeline_name,\n",
    "        pipeline_model.get_params()[\"steps\"][-1][0],\n",
    "    )\n",
    "}\n",
    "published_model = client.repository.store_model(\n",
    "    model=pipeline_name,\n",
    "    meta_props=model_metadata,\n",
    "    training_id=train_details[\"metadata\"][\"id\"],\n",
    ")\n",
    "updated_model_id = client.repository.get_model_id(published_model)\n",
    "print(\"Re-trained model id\", updated_model_id)"
   ]
  },
  {
   "cell_type": "markdown",
   "metadata": {
    "id": "4a950170-c5af-4b0b-b7de-e69588527000",
    "pycharm": {
     "name": "#%% md\n"
    }
   },
   "source": [
    "List stored models."
   ]
  },
  {
   "cell_type": "code",
   "execution_count": 23,
   "metadata": {
    "id": "398b43fc-fc3f-4489-9805-c48c403833a5",
    "pycharm": {
     "name": "#%%\n"
    }
   },
   "outputs": [
    {
     "data": {
      "text/html": [
       "<div>\n",
       "<style scoped>\n",
       "    .dataframe tbody tr th:only-of-type {\n",
       "        vertical-align: middle;\n",
       "    }\n",
       "\n",
       "    .dataframe tbody tr th {\n",
       "        vertical-align: top;\n",
       "    }\n",
       "\n",
       "    .dataframe thead th {\n",
       "        text-align: right;\n",
       "    }\n",
       "</style>\n",
       "<table border=\"1\" class=\"dataframe\">\n",
       "  <thead>\n",
       "    <tr style=\"text-align: right;\">\n",
       "      <th></th>\n",
       "      <th>ID</th>\n",
       "      <th>NAME</th>\n",
       "      <th>CREATED</th>\n",
       "      <th>TYPE</th>\n",
       "      <th>SPEC_STATE</th>\n",
       "      <th>SPEC_REPLACEMENT</th>\n",
       "    </tr>\n",
       "  </thead>\n",
       "  <tbody>\n",
       "    <tr>\n",
       "      <th>0</th>\n",
       "      <td>8683b3a7-bb11-46da-b46f-52355acb8c18</td>\n",
       "      <td>Credit Risk Prediction - AutoAI - Pipeline_4 -...</td>\n",
       "      <td>2025-05-23T11:23:57Z</td>\n",
       "      <td>wml-hybrid_0.1</td>\n",
       "      <td>supported</td>\n",
       "      <td></td>\n",
       "    </tr>\n",
       "    <tr>\n",
       "      <th>1</th>\n",
       "      <td>ff4f3ce2-a0bc-4d5b-b6d5-4bee24bac318</td>\n",
       "      <td>P1</td>\n",
       "      <td>2025-05-23T11:04:22Z</td>\n",
       "      <td>wml-hybrid_0.1</td>\n",
       "      <td>supported</td>\n",
       "      <td></td>\n",
       "    </tr>\n",
       "  </tbody>\n",
       "</table>\n",
       "</div>"
      ],
      "text/plain": [
       "                                     ID  \\\n",
       "0  8683b3a7-bb11-46da-b46f-52355acb8c18   \n",
       "1  ff4f3ce2-a0bc-4d5b-b6d5-4bee24bac318   \n",
       "\n",
       "                                                NAME               CREATED  \\\n",
       "0  Credit Risk Prediction - AutoAI - Pipeline_4 -...  2025-05-23T11:23:57Z   \n",
       "1                                                 P1  2025-05-23T11:04:22Z   \n",
       "\n",
       "             TYPE SPEC_STATE SPEC_REPLACEMENT  \n",
       "0  wml-hybrid_0.1  supported                   \n",
       "1  wml-hybrid_0.1  supported                   "
      ]
     },
     "execution_count": 23,
     "metadata": {},
     "output_type": "execute_result"
    }
   ],
   "source": [
    "client.repository.list_models()"
   ]
  },
  {
   "cell_type": "markdown",
   "metadata": {
    "id": "baaf0c1b-bdd7-48ab-940d-709a7bd6764b",
    "pycharm": {
     "name": "#%% md\n"
    }
   },
   "source": [
    "<a id=\"redeploy\"></a>\n",
    "## 6. Redeploy and score new version of the model\n",
    "\n",
    "In this section, you'll learn how to redeploy new version of the model by using the watsonx.ai Client.\n",
    "\n",
    "**Hint:** As a best practice please consider using the test space before moving to production.\n",
    "\n",
    "```\n",
    "promote(asset_id: str, source_project_id: str, target_space_id: str, rev_id: str = None)\n",
    "```"
   ]
  },
  {
   "cell_type": "markdown",
   "metadata": {
    "id": "94aa72ff-7987-4639-a9a1-1648148bd502",
    "pycharm": {
     "name": "#%% md\n"
    }
   },
   "source": [
    "### Promote model to deployment space"
   ]
  },
  {
   "cell_type": "code",
   "execution_count": 24,
   "metadata": {
    "id": "3cea7eb6-2511-4d0d-a6af-8495281b3ea8",
    "pycharm": {
     "name": "#%%\n"
    }
   },
   "outputs": [],
   "source": [
    "promoted_model_id = client.spaces.promote(\n",
    "    asset_id=updated_model_id,\n",
    "    source_project_id=training_project_id,\n",
    "    target_space_id=deployment_space_id,\n",
    ")"
   ]
  },
  {
   "cell_type": "markdown",
   "metadata": {
    "id": "39ad9976-9926-4058-9028-64c625ef4f38",
    "pycharm": {
     "name": "#%% md\n"
    }
   },
   "source": [
    "Check current deployment details before update."
   ]
  },
  {
   "cell_type": "code",
   "execution_count": null,
   "metadata": {
    "id": "3184a4bf-9bb9-4171-bb30-4a1c486d487d",
    "pycharm": {
     "name": "#%%\n"
    }
   },
   "outputs": [],
   "source": [
    "client.set.default_space(deployment_space_id)\n",
    "print(json.dumps(client.deployments.get_details(deployment_id), indent=2))"
   ]
  },
  {
   "cell_type": "markdown",
   "metadata": {
    "id": "eec09ae2-6889-42d2-9488-d17fd2bdc550",
    "pycharm": {
     "name": "#%% md\n"
    }
   },
   "source": [
    "### Update the deployment with new model\n",
    "**Note:** The update is asynchronous."
   ]
  },
  {
   "cell_type": "code",
   "execution_count": 26,
   "metadata": {
    "id": "52a24fbf-3bf5-4e9c-adee-4ccad11df7e1",
    "pycharm": {
     "name": "#%%\n"
    }
   },
   "outputs": [
    {
     "name": "stdout",
     "output_type": "stream",
     "text": [
      "Since ASSET is patched, deployment need to be restarted. \n",
      "\n",
      "\n",
      "########################################################################\n",
      "\n",
      "Deployment update for id: '9c6943cd-e804-43b6-9d49-3c094e92146b' started\n",
      "\n",
      "########################################################################\n",
      "\n",
      "\n",
      "updating.......\n",
      "ready\n",
      "\n",
      "\n",
      "---------------------------------------------------------------------------------------------\n",
      "Successfully finished deployment update, deployment_id='9c6943cd-e804-43b6-9d49-3c094e92146b'\n",
      "---------------------------------------------------------------------------------------------\n",
      "\n",
      "\n"
     ]
    }
   ],
   "source": [
    "metadata = {\n",
    "    client.deployments.ConfigurationMetaNames.ASSET: {\n",
    "        \"id\": promoted_model_id,\n",
    "    }\n",
    "}\n",
    "\n",
    "updated_deployment = client.deployments.update(deployment_id, changes=metadata)"
   ]
  },
  {
   "cell_type": "markdown",
   "metadata": {
    "id": "ebbc6457-c4e6-4168-a2d6-13e73ef521a3",
    "pycharm": {
     "name": "#%% md\n"
    }
   },
   "source": [
    "Wait for the deployment update: "
   ]
  },
  {
   "cell_type": "code",
   "execution_count": 27,
   "metadata": {
    "id": "0ece7aa0-d741-4c95-87b5-e4b184804847",
    "pycharm": {
     "name": "#%%\n"
    }
   },
   "outputs": [
    {
     "name": "stdout",
     "output_type": "stream",
     "text": [
      "Note: online_url is deprecated and will be removed in a future release. Use serving_urls instead.\n",
      ". ready \n",
      "Deployment update finished with status:  ready\n"
     ]
    }
   ],
   "source": [
    "import time\n",
    "\n",
    "status = None\n",
    "while status not in (\"ready\", \"failed\"):\n",
    "    time.sleep(2)\n",
    "    deployment_details = client.deployments.get_details(deployment_id)\n",
    "    status = deployment_details[\"entity\"][\"status\"].get(\"state\")\n",
    "    print(\".\", status, end=\" \")\n",
    "\n",
    "print(\"\\nDeployment update finished with status: \", status)"
   ]
  },
  {
   "cell_type": "markdown",
   "metadata": {
    "id": "97192c34-63c7-4005-abea-50d0217f8df8",
    "pycharm": {
     "name": "#%% md\n"
    }
   },
   "source": [
    "#### Get updated deployment details"
   ]
  },
  {
   "cell_type": "code",
   "execution_count": null,
   "metadata": {
    "id": "f601881d-0d1e-4a14-bb2f-19aff71a4ee9",
    "pycharm": {
     "name": "#%%\n"
    }
   },
   "outputs": [],
   "source": [
    "print(json.dumps(client.deployments.get_details(deployment_id), indent=2))"
   ]
  },
  {
   "cell_type": "markdown",
   "metadata": {
    "id": "594ddef6-8539-48a1-88f5-9c7027d0276c",
    "pycharm": {
     "name": "#%% md\n"
    }
   },
   "source": [
    "### Score updated model\n",
    "Create sample payload and score the deployed model."
   ]
  },
  {
   "cell_type": "code",
   "execution_count": 29,
   "metadata": {
    "id": "d90daf0e-0cda-4fdf-a99f-801c2d3760ee",
    "pycharm": {
     "name": "#%%\n"
    }
   },
   "outputs": [],
   "source": [
    "scoring_payload = {\"input_data\": [{\"values\": test_X[:3]}]}"
   ]
  },
  {
   "cell_type": "markdown",
   "metadata": {
    "id": "e3b37b56-4520-4212-b55e-326a88a27270",
    "pycharm": {
     "name": "#%% md\n"
    }
   },
   "source": [
    "Use client.deployments.score() method to run scoring."
   ]
  },
  {
   "cell_type": "code",
   "execution_count": 30,
   "metadata": {
    "id": "84cba806-135e-42fd-98b2-751147de42e5",
    "pycharm": {
     "name": "#%%\n"
    }
   },
   "outputs": [],
   "source": [
    "predictions = client.deployments.score(deployment_id, scoring_payload)"
   ]
  },
  {
   "cell_type": "code",
   "execution_count": 31,
   "metadata": {
    "id": "175a7721-3888-4bdf-8673-2e700a6ff953",
    "pycharm": {
     "name": "#%%\n"
    },
    "tags": []
   },
   "outputs": [
    {
     "name": "stdout",
     "output_type": "stream",
     "text": [
      "{\n",
      "  \"predictions\": [\n",
      "    {\n",
      "      \"fields\": [\n",
      "        \"prediction\",\n",
      "        \"probability\"\n",
      "      ],\n",
      "      \"values\": [\n",
      "        [\n",
      "          \"No Risk\",\n",
      "          [\n",
      "            0.5360556244850159,\n",
      "            0.46394437551498413\n",
      "          ]\n",
      "        ],\n",
      "        [\n",
      "          \"No Risk\",\n",
      "          [\n",
      "            0.9565750956535339,\n",
      "            0.04342489689588547\n",
      "          ]\n",
      "        ],\n",
      "        [\n",
      "          \"No Risk\",\n",
      "          [\n",
      "            0.57205730676651,\n",
      "            0.42794269323349\n",
      "          ]\n",
      "        ]\n",
      "      ]\n",
      "    }\n",
      "  ]\n",
      "}\n"
     ]
    }
   ],
   "source": [
    "print(json.dumps(predictions, indent=2))"
   ]
  },
  {
   "cell_type": "markdown",
   "metadata": {
    "id": "7246978c-3d11-45bf-a8a2-4cd7880d6f6c",
    "pycharm": {
     "name": "#%% md\n"
    }
   },
   "source": [
    "<a id=\"cleanup\"></a>\n",
    "## 7. Clean up"
   ]
  },
  {
   "cell_type": "markdown",
   "metadata": {
    "id": "9128aae1-012a-4fdf-8dc4-9cfb09c33422",
    "pycharm": {
     "name": "#%% md\n"
    }
   },
   "source": [
    "If you want to clean up all created assets:\n",
    "- experiments\n",
    "- trainings\n",
    "- pipelines\n",
    "- models\n",
    "- deployments\n",
    "\n",
    "please follow up this sample [notebook](https://github.com/IBM/watsonx-ai-samples/blob/master/cpd5.2/notebooks/python_sdk/instance-management/Machine%20Learning%20artifacts%20management.ipynb)."
   ]
  },
  {
   "cell_type": "markdown",
   "metadata": {
    "id": "c44cfd5d-2216-4196-b4db-415475e46d74",
    "pycharm": {
     "name": "#%% md\n"
    }
   },
   "source": [
    "<a id=\"summary\"></a>\n",
    "## 8. Summary and next steps"
   ]
  },
  {
   "cell_type": "markdown",
   "metadata": {
    "id": "80857d6e-bbf0-40fd-adf8-5d3c779213ab",
    "pycharm": {
     "name": "#%% md\n"
    }
   },
   "source": [
    "You successfully completed this notebook! You learned how to use scikit-learn machine learning as well as watsonx.ai for model creation and deployment.\n",
    "\n",
    "Check out our _<a href=\"https://ibm.github.io/watsonx-ai-python-sdk/samples.html\" target=\"_blank\" rel=\"noopener no referrer\">Online Documentation</a>_ for more samples, tutorials, documentation, how-tos, and blog posts. "
   ]
  },
  {
   "cell_type": "markdown",
   "metadata": {
    "id": "39722f91-3bb9-4673-9e4c-d04c0a776c0f",
    "pycharm": {
     "name": "#%% md\n"
    }
   },
   "source": [
    "### Authors\n",
    "\n",
    "**Lukasz Cmielowski, PhD**, is a Senior Technical Staff Member at IBM with a track record of developing enterprise-level applications that substantially increases clients' ability to turn data into actionable knowledge.\n",
    "\n",
    "**Dorota Lączak**, Python Software Developer in Watson Machine Learning AutoAI at IBM"
   ]
  },
  {
   "cell_type": "markdown",
   "metadata": {
    "id": "6ce4ed9b-b098-46a3-9eab-2a27e2632cbc",
    "pycharm": {
     "name": "#%% md\n"
    }
   },
   "source": [
    "Copyright © 2023-2025 IBM. This notebook and its source code are released under the terms of the MIT License."
   ]
  }
 ],
 "metadata": {
  "kernelspec": {
   "display_name": "Python 3.12",
   "language": "python",
   "name": "python3"
  },
  "language_info": {
   "codemirror_mode": {
    "name": "ipython",
    "version": 3
   },
   "file_extension": ".py",
   "mimetype": "text/x-python",
   "name": "python",
   "nbconvert_exporter": "python",
   "pygments_lexer": "ipython3",
   "version": "3.12.5"
  },
  "pycharm": {
   "stem_cell": {
    "cell_type": "raw",
    "metadata": {
     "collapsed": false
    },
    "source": []
   }
  }
 },
 "nbformat": 4,
 "nbformat_minor": 4
}

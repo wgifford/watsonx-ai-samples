{
 "cells": [
  {
   "cell_type": "markdown",
   "metadata": {
    "id": "8edbed27-a5f1-4ea2-8461-81dcb1f1f8d2"
   },
   "source": [
    "# Use AutoAI and AI lifecycle to predict credit risk with `ibm-watsonx-ai`"
   ]
  },
  {
   "cell_type": "markdown",
   "metadata": {
    "id": "f5ac3c74-e3a5-46e5-857f-b3f71666b820"
   },
   "source": [
    "This notebook contains the steps and code to demonstrate support of AI Lifecycle features of am AutoAI model in watsonx.ai. It contains steps and code to work with [ibm-watsonx-ai](https://pypi.python.org/pypi/ibm-watsonx-ai) library available in PyPI repository. It also introduces commands for training, persisting and deploying model, scoring it, updating the model and redeploying it.\n",
    "\n",
    "Some familiarity with Python is helpful. This notebook uses Python 3.12.\n",
    "\n",
    "## Learning goals\n",
    "\n",
    "The learning goals of this notebook are:\n",
    "\n",
    "-  Work with watsonx.ai experiments to train AutoAI models.\n",
    "-  Persist an external model in watsonx.ai repository.\n",
    "-  Deploy model for online scoring using client library.\n",
    "-  Score sample records using client library.\n",
    "-  Update previously persisted model.\n",
    "-  Redeploy model in-place.\n",
    "\n",
    "\n",
    "## Contents\n",
    "\n",
    "This notebook contains the following parts:\n",
    "\n",
    "1. [Setup](#setup)\n",
    "2. [Optimizer definition](#definition)\n",
    "3. [Experiment Run](#run)\n",
    "4. [Persist and Deploy trained AutoAI model](#persistence)\n",
    "5. [Refine and persist new version of the model](#refine)\n",
    "6. [Redeploy and score new version of the model](#redeploy)\n",
    "7. [Clean up](#cleanup)\n",
    "8. [Summary and next steps](#summary)"
   ]
  },
  {
   "cell_type": "markdown",
   "metadata": {
    "id": "1094e4e7-74ac-4940-959b-1ec60e54d018"
   },
   "source": [
    "<a id=\"setup\"></a>\n",
    "## 1. Set up the environment\n",
    "\n",
    "Before you use the sample code in this notebook, contact with your Cloud Pak for Data administrator and ask for your account credentials."
   ]
  },
  {
   "cell_type": "markdown",
   "metadata": {
    "id": "bd01b2fe-7746-4bbc-bb73-6c967d1b753e"
   },
   "source": [
    "### Install dependencies\n",
    "**Note:** `ibm-watsonx-ai` documentation can be found <a href=\"https://ibm.github.io/watsonx-ai-python-sdk/index.html\" target=\"_blank\" rel=\"noopener no referrer\">here</a>."
   ]
  },
  {
   "cell_type": "code",
   "execution_count": null,
   "metadata": {
    "id": "4f74ad36-88f6-4033-9dcc-3abf25fdf0aa"
   },
   "outputs": [
    {
     "name": "stdout",
     "output_type": "stream",
     "text": [
      "Successfully installed wget-3.2\n",
      "Requirement already satisfied: sortedcontainers~=2.2 in /opt/user-env/pyt6/lib64/python3.12/site-packages (from portion->jsonsubschema>=0.0.6->lale) (2.4.0)\n",
      "\u001b[0mSuccessfully installed autoai-libs-3.0.3\n",
      "Requirement already satisfied: threadpoolctl>=3.1.0 in /opt/user-env/pyt6/lib64/python3.12/site-packages (from scikit-learn==1.6.1) (3.6.0)\n",
      "Successfully installed ibm-watsonx-ai-1.3.20\n"
     ]
    }
   ],
   "source": [
    "%pip install -U wget | tail -n 1\n",
    "%pip install -U lale | tail -n 1\n",
    "%pip install -U autoai-libs | tail -n 1\n",
    "%pip install \"scikit-learn==1.6.1\" | tail -n 1\n",
    "%pip install -U ibm-watsonx-ai | tail -n 1"
   ]
  },
  {
   "cell_type": "markdown",
   "metadata": {
    "id": "3504526f-e7ec-46f7-972e-c05d5f1626f9"
   },
   "source": [
    "#### Define credentials\n",
    "\n",
    "Authenticate the watsonx.ai Runtime service on IBM Cloud Pak for Data. You need to provide the **admin's** `username` and the platform `url`."
   ]
  },
  {
   "cell_type": "code",
   "execution_count": null,
   "metadata": {
    "id": "f3fd6582-2688-4ed0-bf79-94590215bf20"
   },
   "outputs": [],
   "source": [
    "username = \"PASTE YOUR USERNAME HERE\"\n",
    "url = \"PASTE THE PLATFORM URL HERE\""
   ]
  },
  {
   "cell_type": "markdown",
   "metadata": {
    "id": "6eaefe8b-2798-43b5-a4c1-6ac89bbc8545"
   },
   "source": [
    "Use the **admin's** `api_key` to authenticate watsonx.ai Runtime services:"
   ]
  },
  {
   "cell_type": "code",
   "execution_count": null,
   "metadata": {
    "id": "77204524-604b-4dc8-8800-a8238fd90dbc"
   },
   "outputs": [],
   "source": [
    "import getpass\n",
    "from ibm_watsonx_ai import Credentials\n",
    "\n",
    "credentials = Credentials(\n",
    "    username=username,\n",
    "    api_key=getpass.getpass(\"Enter your watsonx.ai API key and hit enter: \"),\n",
    "    url=url,\n",
    "    instance_id=\"openshift\",\n",
    "    version=\"5.2\",\n",
    ")"
   ]
  },
  {
   "cell_type": "markdown",
   "metadata": {
    "id": "1622270a-fd54-4948-8897-b2f99e76ae68"
   },
   "source": [
    "Alternatively you can use the **admin's** `password`:"
   ]
  },
  {
   "cell_type": "code",
   "execution_count": 3,
   "metadata": {
    "id": "488bbc8a-09de-43a2-86bf-3dbf9117f68a"
   },
   "outputs": [
    {
     "name": "stdout",
     "output_type": "stream",
     "text": [
      "Enter your watsonx.ai password and hit enter:  ········\n"
     ]
    }
   ],
   "source": [
    "import getpass\n",
    "from ibm_watsonx_ai import Credentials\n",
    "\n",
    "if \"credentials\" not in locals() or not credentials.api_key:\n",
    "    credentials = Credentials(\n",
    "        username=username,\n",
    "        password=getpass.getpass(\"Enter your watsonx.ai password and hit enter: \"),\n",
    "        url=url,\n",
    "        instance_id=\"openshift\",\n",
    "        version=\"5.2\",\n",
    "    )"
   ]
  },
  {
   "cell_type": "markdown",
   "metadata": {
    "id": "67b322ac-966c-43e2-811b-170c89aee610"
   },
   "source": [
    "#### Create `APIClient` instance"
   ]
  },
  {
   "cell_type": "code",
   "execution_count": 4,
   "metadata": {
    "id": "fa267e4f-cf2e-45ba-afd4-c99fd8b39dd9"
   },
   "outputs": [],
   "source": [
    "from ibm_watsonx_ai import APIClient\n",
    "\n",
    "client = APIClient(credentials)"
   ]
  },
  {
   "cell_type": "markdown",
   "metadata": {
    "id": "b5443db9-0043-49a5-9630-ea4c8f97f0e1"
   },
   "source": [
    "### Working with spaces\n",
    "\n",
    "First of all, you need to create a space that will be used for your work. If you do not have space already created, you can use `{PLATFORM_URL}/ml-runtime/spaces?context=icp4data` to create one.\n",
    "\n",
    "- Click New Deployment Space\n",
    "- Create an empty space\n",
    "- Go to space `Settings` tab\n",
    "- Copy `space_id` and paste it below\n",
    "\n",
    "**Tip**: You can also use SDK to prepare the space for your work. More information can be found [here](https://github.com/IBM/watsonx-ai-samples/blob/master/cpd5.2/notebooks/python_sdk/instance-management/Space%20management.ipynb).\n",
    "\n",
    "**Action**: Assign space ID below"
   ]
  },
  {
   "cell_type": "code",
   "execution_count": 5,
   "metadata": {
    "id": "29e5247d-38d1-4ab1-ab1b-341895eb2f9a"
   },
   "outputs": [],
   "source": [
    "space_id = \"PASTE YOUR SPACE ID HERE\""
   ]
  },
  {
   "cell_type": "markdown",
   "metadata": {
    "id": "03b372c4-8e59-4022-be7d-a77ee7c3b246"
   },
   "source": [
    "You can use the `list` method to print all existing spaces."
   ]
  },
  {
   "cell_type": "code",
   "execution_count": null,
   "metadata": {
    "id": "45048f1e-4c06-4b7c-b0bf-926fdbc7476a"
   },
   "outputs": [],
   "source": [
    "client.spaces.list(limit=10)"
   ]
  },
  {
   "cell_type": "markdown",
   "metadata": {
    "id": "5657d64c-09a3-42bf-a71e-d0f82136ee3c"
   },
   "source": [
    "To be able to interact with all resources available in watsonx.ai, you need to set **space** which you will be using."
   ]
  },
  {
   "cell_type": "code",
   "execution_count": 6,
   "metadata": {
    "id": "2d1c8558-c559-482d-935e-48c64846a8b6"
   },
   "outputs": [
    {
     "data": {
      "text/plain": [
       "'SUCCESS'"
      ]
     },
     "execution_count": 6,
     "metadata": {},
     "output_type": "execute_result"
    }
   ],
   "source": [
    "client.set.default_space(space_id)"
   ]
  },
  {
   "cell_type": "markdown",
   "metadata": {
    "id": "2c42178a-5f29-4e36-938c-efb12b2b5aa4"
   },
   "source": [
    "<a id=\"definition\"></a>\n",
    "## 2. Optimizer definition"
   ]
  },
  {
   "cell_type": "markdown",
   "metadata": {
    "id": "b7fc3b76-d0c8-4dfa-a5ed-292e9da3369e"
   },
   "source": [
    "### Training data connection\n",
    "\n",
    "Define connection information to training data CSV file. This example uses the German Credit Risk dataset. \n",
    "\n",
    "The dataset can be downloaded from [here](https://github.com/IBM/watsonx-ai-samples/blob/master/cpd5.2/data/credit_risk/credit_risk_training_light.csv)."
   ]
  },
  {
   "cell_type": "code",
   "execution_count": 7,
   "metadata": {
    "id": "829cfe37-941b-4958-80de-8dd4f5cdc485"
   },
   "outputs": [],
   "source": [
    "filename = \"credit_risk_training_light.csv\""
   ]
  },
  {
   "cell_type": "markdown",
   "metadata": {
    "id": "9971ac52-f7a0-48e7-9635-96c2df9c421c"
   },
   "source": [
    "Download training data from git repository."
   ]
  },
  {
   "cell_type": "code",
   "execution_count": 8,
   "metadata": {
    "id": "5142264f-1f2b-48c8-a323-5aab2cabf673"
   },
   "outputs": [],
   "source": [
    "import os, wget\n",
    "\n",
    "url = \"https://raw.githubusercontent.com/IBM/watsonx-ai-samples/master/cpd5.2/data/credit_risk/credit_risk_training_light.csv\"\n",
    "if not os.path.isfile(filename):\n",
    "    wget.download(url)"
   ]
  },
  {
   "cell_type": "code",
   "execution_count": 9,
   "metadata": {
    "id": "d8c54993-4158-49ae-96db-7ac205472d21"
   },
   "outputs": [
    {
     "name": "stdout",
     "output_type": "stream",
     "text": [
      "Creating data asset...\n",
      "SUCCESS\n"
     ]
    },
    {
     "data": {
      "text/plain": [
       "{'metadata': {'space_id': '9c4eb218-96e8-41e0-8cd5-f783504a11ea',\n",
       "  'usage': {'last_updated_at': '2025-05-22T11:39:54Z',\n",
       "   'last_updater_id': '1000331001',\n",
       "   'last_update_time': 1747913994246,\n",
       "   'last_accessed_at': '2025-05-22T11:39:54Z',\n",
       "   'last_access_time': 1747913994246,\n",
       "   'last_accessor_id': '1000331001',\n",
       "   'access_count': 0},\n",
       "  'rov': {'mode': 0,\n",
       "   'collaborator_ids': {},\n",
       "   'member_roles': {'1000331001': {'user_iam_id': '1000331001',\n",
       "     'roles': ['OWNER']}}},\n",
       "  'is_linked_with_sub_container': False,\n",
       "  'name': 'credit_risk_training',\n",
       "  'description': '',\n",
       "  'asset_type': 'data_asset',\n",
       "  'origin_country': 'us',\n",
       "  'resource_key': 'credit_risk_training',\n",
       "  'rating': 0.0,\n",
       "  'total_ratings': 0,\n",
       "  'catalog_id': '32c875f2-f104-4801-9d5f-a0987098790c',\n",
       "  'created': 1747913994246,\n",
       "  'created_at': '2025-05-22T11:39:54Z',\n",
       "  'owner_id': '1000331001',\n",
       "  'size': 0,\n",
       "  'version': 2.0,\n",
       "  'asset_state': 'available',\n",
       "  'asset_attributes': ['data_asset'],\n",
       "  'asset_id': 'd414512e-a854-49c3-a8fc-cceff65dd884',\n",
       "  'asset_category': 'USER',\n",
       "  'creator_id': '1000331001',\n",
       "  'is_branched': True,\n",
       "  'guid': 'd414512e-a854-49c3-a8fc-cceff65dd884',\n",
       "  'href': '/v2/assets/d414512e-a854-49c3-a8fc-cceff65dd884?space_id=9c4eb218-96e8-41e0-8cd5-f783504a11ea',\n",
       "  'last_updated_at': '2025-05-22T11:39:54Z'},\n",
       " 'entity': {'data_asset': {'mime_type': 'text/csv'}}}"
      ]
     },
     "execution_count": 9,
     "metadata": {},
     "output_type": "execute_result"
    }
   ],
   "source": [
    "asset_details = client.data_assets.create(\"credit_risk_training\", filename)\n",
    "asset_details"
   ]
  },
  {
   "cell_type": "code",
   "execution_count": 10,
   "metadata": {
    "id": "55332f99-f329-4b16-ba77-1c682ba7d19a",
    "pycharm": {
     "is_executing": false
    }
   },
   "outputs": [],
   "source": [
    "from ibm_watsonx_ai.helpers import DataConnection, AssetLocation\n",
    "\n",
    "\n",
    "credit_risk_conn = DataConnection(\n",
    "    location=AssetLocation(asset_id=client.data_assets.get_id(asset_details))\n",
    ")\n",
    "\n",
    "training_data_reference = [credit_risk_conn]"
   ]
  },
  {
   "cell_type": "markdown",
   "metadata": {
    "id": "06d70c27-d4ae-4806-9add-2c6d9afd5d74"
   },
   "source": [
    "### Optimizer configuration\n",
    "\n",
    "Provide the input information for AutoAI optimizer:\n",
    "- `name` - experiment name\n",
    "- `prediction_type` - type of the problem\n",
    "- `prediction_column` - target column name\n",
    "- `scoring` - optimization metric"
   ]
  },
  {
   "cell_type": "code",
   "execution_count": 11,
   "metadata": {
    "id": "c0508c4d-b08a-46c5-b2f4-0572bd284041",
    "pycharm": {
     "is_executing": false
    }
   },
   "outputs": [],
   "source": [
    "from ibm_watsonx_ai.experiment import AutoAI\n",
    "\n",
    "experiment = AutoAI(credentials, space_id=space_id)\n",
    "\n",
    "pipeline_optimizer = experiment.optimizer(\n",
    "    name=\"Credit Risk Prediction - AutoAI\",\n",
    "    prediction_type=AutoAI.PredictionType.BINARY,\n",
    "    prediction_column=\"Risk\",\n",
    "    scoring=AutoAI.Metrics.ROC_AUC_SCORE,\n",
    ")"
   ]
  },
  {
   "cell_type": "markdown",
   "metadata": {
    "id": "bec16f66-83c4-4287-9530-e08a639412f7"
   },
   "source": [
    "Configuration parameters can be retrieved via `get_params()`."
   ]
  },
  {
   "cell_type": "code",
   "execution_count": 12,
   "metadata": {
    "id": "40885b7e-4866-4433-874f-ceeb3f10ecd2",
    "pycharm": {
     "is_executing": false
    }
   },
   "outputs": [
    {
     "data": {
      "text/plain": [
       "{'name': 'Credit Risk Prediction - AutoAI',\n",
       " 'desc': '',\n",
       " 'prediction_type': 'binary',\n",
       " 'prediction_column': 'Risk',\n",
       " 'prediction_columns': None,\n",
       " 'timestamp_column_name': None,\n",
       " 'scoring': 'roc_auc',\n",
       " 'holdout_size': None,\n",
       " 'max_num_daub_ensembles': None,\n",
       " 't_shirt_size': 'm',\n",
       " 'train_sample_rows_test_size': None,\n",
       " 'include_only_estimators': None,\n",
       " 'include_batched_ensemble_estimators': None,\n",
       " 'backtest_num': None,\n",
       " 'lookback_window': None,\n",
       " 'forecast_window': None,\n",
       " 'backtest_gap_length': None,\n",
       " 'cognito_transform_names': None,\n",
       " 'csv_separator': ',',\n",
       " 'excel_sheet': None,\n",
       " 'encoding': 'utf-8',\n",
       " 'positive_label': None,\n",
       " 'drop_duplicates': True,\n",
       " 'outliers_columns': None,\n",
       " 'text_processing': None,\n",
       " 'word2vec_feature_number': None,\n",
       " 'daub_give_priority_to_runtime': None,\n",
       " 'text_columns_names': None,\n",
       " 'sampling_type': None,\n",
       " 'sample_size_limit': None,\n",
       " 'sample_rows_limit': None,\n",
       " 'sample_percentage_limit': None,\n",
       " 'number_of_batch_rows': None,\n",
       " 'n_parallel_data_connections': None,\n",
       " 'test_data_csv_separator': ',',\n",
       " 'test_data_excel_sheet': None,\n",
       " 'test_data_encoding': 'utf-8',\n",
       " 'categorical_imputation_strategy': None,\n",
       " 'numerical_imputation_strategy': None,\n",
       " 'numerical_imputation_value': None,\n",
       " 'imputation_threshold': None,\n",
       " 'retrain_on_holdout': True,\n",
       " 'feature_columns': None,\n",
       " 'pipeline_types': None,\n",
       " 'supporting_features_at_forecast': None,\n",
       " 'numerical_columns': None,\n",
       " 'categorical_columns': None,\n",
       " 'confidence_level': None,\n",
       " 'incremental_learning': None,\n",
       " 'early_stop_enabled': None,\n",
       " 'early_stop_window_size': None,\n",
       " 'time_ordered_data': None,\n",
       " 'feature_selector_mode': None,\n",
       " 'run_id': None}"
      ]
     },
     "execution_count": 12,
     "metadata": {},
     "output_type": "execute_result"
    }
   ],
   "source": [
    "pipeline_optimizer.get_params()"
   ]
  },
  {
   "cell_type": "markdown",
   "metadata": {
    "id": "483d2e91-f09e-4834-a513-6e50b421105f"
   },
   "source": [
    "<a id=\"run\"></a>\n",
    "## 3. Experiment run\n",
    "\n",
    "Call the `fit()` method to trigger the AutoAI experiment. You can either use interactive mode (synchronous job) or background mode (asychronous job) by specifying `background_model=True`."
   ]
  },
  {
   "cell_type": "code",
   "execution_count": 13,
   "metadata": {
    "id": "6c6f8c38-bbd4-464e-b436-70d45f41ea33",
    "pycharm": {
     "is_executing": false
    }
   },
   "outputs": [
    {
     "name": "stdout",
     "output_type": "stream",
     "text": [
      "Training job f2a01a01-0f16-4e0d-9748-895e7b795c4a completed: 100%|████████| [01:11<00:00,  1.39it/s]\n"
     ]
    }
   ],
   "source": [
    "run_details = pipeline_optimizer.fit(\n",
    "    training_data_reference=training_data_reference, background_mode=False\n",
    ")"
   ]
  },
  {
   "cell_type": "markdown",
   "metadata": {
    "id": "5f4f8dd7-7e68-4c41-82cf-095822e5e117"
   },
   "source": [
    "You can use the `get_run_status()` method to monitor AutoAI jobs in background mode."
   ]
  },
  {
   "cell_type": "code",
   "execution_count": 14,
   "metadata": {
    "id": "8d1ee1a3-1540-4d74-b101-0afafbec50f2",
    "pycharm": {
     "is_executing": false
    }
   },
   "outputs": [
    {
     "data": {
      "text/plain": [
       "'completed'"
      ]
     },
     "execution_count": 14,
     "metadata": {},
     "output_type": "execute_result"
    }
   ],
   "source": [
    "pipeline_optimizer.get_run_status()"
   ]
  },
  {
   "cell_type": "markdown",
   "metadata": {
    "id": "1ef9029f-14f8-4484-9ae6-37c9a4d22f3c"
   },
   "source": [
    "#### Load trained model"
   ]
  },
  {
   "cell_type": "code",
   "execution_count": 15,
   "metadata": {
    "id": "4fae4f4b-0361-4b57-8f4a-0fc275320079"
   },
   "outputs": [],
   "source": [
    "pipeline = pipeline_optimizer.get_pipeline()"
   ]
  },
  {
   "cell_type": "markdown",
   "metadata": {
    "id": "1a12c58d-7f0f-4679-b8a9-fc2a2961ccaf"
   },
   "source": [
    "#### Reading training data from COS"
   ]
  },
  {
   "cell_type": "code",
   "execution_count": 16,
   "metadata": {
    "id": "3dfc1f3f-20b5-407c-bc42-64e7571a13ff",
    "pycharm": {
     "is_executing": false
    }
   },
   "outputs": [],
   "source": [
    "train_df = pipeline_optimizer.get_data_connections()[0].read()\n",
    "\n",
    "train_X = train_df.drop([\"Risk\"], axis=1).values\n",
    "train_y = train_df.Risk.values"
   ]
  },
  {
   "cell_type": "markdown",
   "metadata": {
    "id": "b5b19132-35d9-4565-b69c-3bfa17486471"
   },
   "source": [
    "<a id=\"persistence\"></a>\n",
    "## 4. Persist and Deploy trained AutoAI model"
   ]
  },
  {
   "cell_type": "markdown",
   "metadata": {
    "id": "5b4827f9-a8b4-44b7-a914-2e07491bf25b"
   },
   "source": [
    "In this section you will learn how to deploy and score pipeline model as webservice using WML instance."
   ]
  },
  {
   "cell_type": "markdown",
   "metadata": {
    "id": "03a9606f-bf82-4ac5-bbad-d18377482b97"
   },
   "source": [
    "### Online deployment creation"
   ]
  },
  {
   "cell_type": "code",
   "execution_count": 17,
   "metadata": {
    "id": "07908c38-ebeb-4318-bbac-6beb5202c364"
   },
   "outputs": [
    {
     "name": "stdout",
     "output_type": "stream",
     "text": [
      "Preparing an AutoAI Deployment...\n",
      "Published model uid: b78e56d5-6a90-477b-8ab8-b58d5e5ce1ed\n",
      "Deploying model b78e56d5-6a90-477b-8ab8-b58d5e5ce1ed using V4 client.\n",
      "\n",
      "\n",
      "######################################################################################\n",
      "\n",
      "Synchronous deployment creation for id: 'b78e56d5-6a90-477b-8ab8-b58d5e5ce1ed' started\n",
      "\n",
      "######################################################################################\n",
      "\n",
      "\n",
      "initializing\n",
      "Note: online_url is deprecated and will be removed in a future release. Use serving_urls instead.\n",
      ".....\n",
      "ready\n",
      "\n",
      "\n",
      "-----------------------------------------------------------------------------------------------\n",
      "Successfully finished deployment creation, deployment_id='433799b3-5756-4563-96f1-603ab2f5ff1e'\n",
      "-----------------------------------------------------------------------------------------------\n",
      "\n",
      "\n"
     ]
    }
   ],
   "source": [
    "from ibm_watsonx_ai.deployment import WebService\n",
    "\n",
    "service = WebService(credentials, source_space_id=space_id)\n",
    "\n",
    "service.create(\n",
    "    experiment_run_id=run_details[\"metadata\"][\"id\"],\n",
    "    model=\"Pipeline_1\",\n",
    "    deployment_name=\"AutoAI credit-risk deployment\",\n",
    ")"
   ]
  },
  {
   "cell_type": "markdown",
   "metadata": {
    "id": "07a72d32-24c0-4fcb-8318-06e841d8661a"
   },
   "source": [
    "Deployment object could be printed to show basic information:"
   ]
  },
  {
   "cell_type": "code",
   "execution_count": null,
   "metadata": {
    "id": "38cda0df-8d79-4c87-9df4-f7469b065673"
   },
   "outputs": [],
   "source": [
    "print(service)"
   ]
  },
  {
   "cell_type": "markdown",
   "metadata": {
    "id": "a8992bcb-1c3b-41ea-97a3-e19199f24a7c"
   },
   "source": [
    "To show all available information about the deployment use the `.get_params()` method:"
   ]
  },
  {
   "cell_type": "code",
   "execution_count": null,
   "metadata": {
    "id": "aa8ba0b6-2f23-47d8-a27f-2b5f78d82d9d"
   },
   "outputs": [],
   "source": [
    "service.get_params()"
   ]
  },
  {
   "cell_type": "markdown",
   "metadata": {
    "id": "1aedc9f1-a853-4c64-8b9e-20e556063d58"
   },
   "source": [
    "### Scoring of webservice\n",
    "You can make scoring request by calling `score()` on deployed pipeline."
   ]
  },
  {
   "cell_type": "code",
   "execution_count": 20,
   "metadata": {
    "id": "0c6ccc2c-cbae-4cb5-8f2d-4bbfd37996dd"
   },
   "outputs": [
    {
     "data": {
      "text/plain": [
       "{'predictions': [{'fields': ['prediction', 'probability'],\n",
       "   'values': [['No Risk', [0.815472082175866, 0.18452791782413402]],\n",
       "    ['No Risk', [0.7501849542379176, 0.24981504576208238]],\n",
       "    ['Risk', [0.44323551396938976, 0.5567644860306102]],\n",
       "    ['No Risk', [0.7860837153311935, 0.2139162846688065]],\n",
       "    ['Risk', [0.10388810002019544, 0.8961118999798046]],\n",
       "    ['Risk', [0.05423329461659787, 0.9457667053834021]],\n",
       "    ['Risk', [0.39761734701550944, 0.6023826529844906]],\n",
       "    ['No Risk', [0.7195913804536169, 0.2804086195463831]],\n",
       "    ['No Risk', [0.8252891188726867, 0.1747108811273132]],\n",
       "    ['Risk', [0.05226738963105093, 0.9477326103689491]]]}]}"
      ]
     },
     "execution_count": 20,
     "metadata": {},
     "output_type": "execute_result"
    }
   ],
   "source": [
    "predictions = service.score(payload=train_df.drop([\"Risk\"], axis=1).iloc[:10])\n",
    "predictions"
   ]
  },
  {
   "cell_type": "markdown",
   "metadata": {
    "id": "91c7b393-a7d3-4a2d-b652-9e6e4ab07d0c"
   },
   "source": [
    "If you want to work with the web service in an external Python application you can retrieve the service object by:\n",
    " - Initialize the service by `service = WebService(wml_credentials)`\n",
    " - Get deployment_id by `service.list()` method\n",
    " - Get webservice object by `service.get('deployment_id')` method\n",
    "\n",
    "After that you can call `service.score()` method."
   ]
  },
  {
   "cell_type": "markdown",
   "metadata": {
    "id": "50ba9717-4f8a-49eb-b4ac-2bf71f18529f"
   },
   "source": [
    "### Deleting deployment\n",
    "You can delete the existing deployment by calling the `service.delete()` command.\n",
    "To list the existing web services you can use `service.list()`."
   ]
  },
  {
   "cell_type": "markdown",
   "metadata": {
    "id": "37365cb8-3f02-4909-88d0-9404e96afbb2"
   },
   "source": [
    "<a id=\"refine\"></a>\n",
    "## 5. Refine and persist new version of the model\n",
    "\n",
    "In this section, you'll learn how to store new refinement version of your model in watsonx.ai repository."
   ]
  },
  {
   "cell_type": "markdown",
   "metadata": {
    "id": "ba77fab0-c776-4034-842c-1365a845c71b"
   },
   "source": [
    "### Pipeline refinement with [Lale](https://github.com/IBM/lale)\n",
    "\n",
    "In this section you learn how to refine and retrain the best\n",
    "pipeline returned by AutoAI. There are many ways to refine a pipeline.\n",
    "For illustration, simply replace the final estimator in the\n",
    "pipeline by an interpretable model. The call to\n",
    "`wrap_imported_operators()` augments scikit-learn operators with\n",
    "schemas for hyperparameter tuning."
   ]
  },
  {
   "cell_type": "code",
   "execution_count": 21,
   "metadata": {
    "id": "62e8a814-740f-4ee9-bd44-d794db65ca9e"
   },
   "outputs": [],
   "source": [
    "from sklearn.linear_model import LogisticRegression as LR\n",
    "from sklearn.tree import DecisionTreeClassifier as Tree\n",
    "from sklearn.neighbors import KNeighborsClassifier as KNN\n",
    "from lale.lib.lale import Hyperopt\n",
    "from lale import wrap_imported_operators\n",
    "\n",
    "wrap_imported_operators()"
   ]
  },
  {
   "cell_type": "markdown",
   "metadata": {
    "id": "d95b3b7d-108c-4441-b168-10ab927a0a0d"
   },
   "source": [
    "#### Pipeline decomposition and new definition\n",
    "\n",
    "Start by removing the last step of the pipeline, i.e., the final estimator."
   ]
  },
  {
   "cell_type": "code",
   "execution_count": 22,
   "metadata": {
    "id": "392f563c-c0ef-4553-a595-ed27efb096da"
   },
   "outputs": [
    {
     "data": {
      "text/html": [
       "<style>#sk-container-id-1 {\n",
       "  /* Definition of color scheme common for light and dark mode */\n",
       "  --sklearn-color-text: #000;\n",
       "  --sklearn-color-text-muted: #666;\n",
       "  --sklearn-color-line: gray;\n",
       "  /* Definition of color scheme for unfitted estimators */\n",
       "  --sklearn-color-unfitted-level-0: #fff5e6;\n",
       "  --sklearn-color-unfitted-level-1: #f6e4d2;\n",
       "  --sklearn-color-unfitted-level-2: #ffe0b3;\n",
       "  --sklearn-color-unfitted-level-3: chocolate;\n",
       "  /* Definition of color scheme for fitted estimators */\n",
       "  --sklearn-color-fitted-level-0: #f0f8ff;\n",
       "  --sklearn-color-fitted-level-1: #d4ebff;\n",
       "  --sklearn-color-fitted-level-2: #b3dbfd;\n",
       "  --sklearn-color-fitted-level-3: cornflowerblue;\n",
       "\n",
       "  /* Specific color for light theme */\n",
       "  --sklearn-color-text-on-default-background: var(--sg-text-color, var(--theme-code-foreground, var(--jp-content-font-color1, black)));\n",
       "  --sklearn-color-background: var(--sg-background-color, var(--theme-background, var(--jp-layout-color0, white)));\n",
       "  --sklearn-color-border-box: var(--sg-text-color, var(--theme-code-foreground, var(--jp-content-font-color1, black)));\n",
       "  --sklearn-color-icon: #696969;\n",
       "\n",
       "  @media (prefers-color-scheme: dark) {\n",
       "    /* Redefinition of color scheme for dark theme */\n",
       "    --sklearn-color-text-on-default-background: var(--sg-text-color, var(--theme-code-foreground, var(--jp-content-font-color1, white)));\n",
       "    --sklearn-color-background: var(--sg-background-color, var(--theme-background, var(--jp-layout-color0, #111)));\n",
       "    --sklearn-color-border-box: var(--sg-text-color, var(--theme-code-foreground, var(--jp-content-font-color1, white)));\n",
       "    --sklearn-color-icon: #878787;\n",
       "  }\n",
       "}\n",
       "\n",
       "#sk-container-id-1 {\n",
       "  color: var(--sklearn-color-text);\n",
       "}\n",
       "\n",
       "#sk-container-id-1 pre {\n",
       "  padding: 0;\n",
       "}\n",
       "\n",
       "#sk-container-id-1 input.sk-hidden--visually {\n",
       "  border: 0;\n",
       "  clip: rect(1px 1px 1px 1px);\n",
       "  clip: rect(1px, 1px, 1px, 1px);\n",
       "  height: 1px;\n",
       "  margin: -1px;\n",
       "  overflow: hidden;\n",
       "  padding: 0;\n",
       "  position: absolute;\n",
       "  width: 1px;\n",
       "}\n",
       "\n",
       "#sk-container-id-1 div.sk-dashed-wrapped {\n",
       "  border: 1px dashed var(--sklearn-color-line);\n",
       "  margin: 0 0.4em 0.5em 0.4em;\n",
       "  box-sizing: border-box;\n",
       "  padding-bottom: 0.4em;\n",
       "  background-color: var(--sklearn-color-background);\n",
       "}\n",
       "\n",
       "#sk-container-id-1 div.sk-container {\n",
       "  /* jupyter's `normalize.less` sets `[hidden] { display: none; }`\n",
       "     but bootstrap.min.css set `[hidden] { display: none !important; }`\n",
       "     so we also need the `!important` here to be able to override the\n",
       "     default hidden behavior on the sphinx rendered scikit-learn.org.\n",
       "     See: https://github.com/scikit-learn/scikit-learn/issues/21755 */\n",
       "  display: inline-block !important;\n",
       "  position: relative;\n",
       "}\n",
       "\n",
       "#sk-container-id-1 div.sk-text-repr-fallback {\n",
       "  display: none;\n",
       "}\n",
       "\n",
       "div.sk-parallel-item,\n",
       "div.sk-serial,\n",
       "div.sk-item {\n",
       "  /* draw centered vertical line to link estimators */\n",
       "  background-image: linear-gradient(var(--sklearn-color-text-on-default-background), var(--sklearn-color-text-on-default-background));\n",
       "  background-size: 2px 100%;\n",
       "  background-repeat: no-repeat;\n",
       "  background-position: center center;\n",
       "}\n",
       "\n",
       "/* Parallel-specific style estimator block */\n",
       "\n",
       "#sk-container-id-1 div.sk-parallel-item::after {\n",
       "  content: \"\";\n",
       "  width: 100%;\n",
       "  border-bottom: 2px solid var(--sklearn-color-text-on-default-background);\n",
       "  flex-grow: 1;\n",
       "}\n",
       "\n",
       "#sk-container-id-1 div.sk-parallel {\n",
       "  display: flex;\n",
       "  align-items: stretch;\n",
       "  justify-content: center;\n",
       "  background-color: var(--sklearn-color-background);\n",
       "  position: relative;\n",
       "}\n",
       "\n",
       "#sk-container-id-1 div.sk-parallel-item {\n",
       "  display: flex;\n",
       "  flex-direction: column;\n",
       "}\n",
       "\n",
       "#sk-container-id-1 div.sk-parallel-item:first-child::after {\n",
       "  align-self: flex-end;\n",
       "  width: 50%;\n",
       "}\n",
       "\n",
       "#sk-container-id-1 div.sk-parallel-item:last-child::after {\n",
       "  align-self: flex-start;\n",
       "  width: 50%;\n",
       "}\n",
       "\n",
       "#sk-container-id-1 div.sk-parallel-item:only-child::after {\n",
       "  width: 0;\n",
       "}\n",
       "\n",
       "/* Serial-specific style estimator block */\n",
       "\n",
       "#sk-container-id-1 div.sk-serial {\n",
       "  display: flex;\n",
       "  flex-direction: column;\n",
       "  align-items: center;\n",
       "  background-color: var(--sklearn-color-background);\n",
       "  padding-right: 1em;\n",
       "  padding-left: 1em;\n",
       "}\n",
       "\n",
       "\n",
       "/* Toggleable style: style used for estimator/Pipeline/ColumnTransformer box that is\n",
       "clickable and can be expanded/collapsed.\n",
       "- Pipeline and ColumnTransformer use this feature and define the default style\n",
       "- Estimators will overwrite some part of the style using the `sk-estimator` class\n",
       "*/\n",
       "\n",
       "/* Pipeline and ColumnTransformer style (default) */\n",
       "\n",
       "#sk-container-id-1 div.sk-toggleable {\n",
       "  /* Default theme specific background. It is overwritten whether we have a\n",
       "  specific estimator or a Pipeline/ColumnTransformer */\n",
       "  background-color: var(--sklearn-color-background);\n",
       "}\n",
       "\n",
       "/* Toggleable label */\n",
       "#sk-container-id-1 label.sk-toggleable__label {\n",
       "  cursor: pointer;\n",
       "  display: flex;\n",
       "  width: 100%;\n",
       "  margin-bottom: 0;\n",
       "  padding: 0.5em;\n",
       "  box-sizing: border-box;\n",
       "  text-align: center;\n",
       "  align-items: start;\n",
       "  justify-content: space-between;\n",
       "  gap: 0.5em;\n",
       "}\n",
       "\n",
       "#sk-container-id-1 label.sk-toggleable__label .caption {\n",
       "  font-size: 0.6rem;\n",
       "  font-weight: lighter;\n",
       "  color: var(--sklearn-color-text-muted);\n",
       "}\n",
       "\n",
       "#sk-container-id-1 label.sk-toggleable__label-arrow:before {\n",
       "  /* Arrow on the left of the label */\n",
       "  content: \"▸\";\n",
       "  float: left;\n",
       "  margin-right: 0.25em;\n",
       "  color: var(--sklearn-color-icon);\n",
       "}\n",
       "\n",
       "#sk-container-id-1 label.sk-toggleable__label-arrow:hover:before {\n",
       "  color: var(--sklearn-color-text);\n",
       "}\n",
       "\n",
       "/* Toggleable content - dropdown */\n",
       "\n",
       "#sk-container-id-1 div.sk-toggleable__content {\n",
       "  max-height: 0;\n",
       "  max-width: 0;\n",
       "  overflow: hidden;\n",
       "  text-align: left;\n",
       "  /* unfitted */\n",
       "  background-color: var(--sklearn-color-unfitted-level-0);\n",
       "}\n",
       "\n",
       "#sk-container-id-1 div.sk-toggleable__content.fitted {\n",
       "  /* fitted */\n",
       "  background-color: var(--sklearn-color-fitted-level-0);\n",
       "}\n",
       "\n",
       "#sk-container-id-1 div.sk-toggleable__content pre {\n",
       "  margin: 0.2em;\n",
       "  border-radius: 0.25em;\n",
       "  color: var(--sklearn-color-text);\n",
       "  /* unfitted */\n",
       "  background-color: var(--sklearn-color-unfitted-level-0);\n",
       "}\n",
       "\n",
       "#sk-container-id-1 div.sk-toggleable__content.fitted pre {\n",
       "  /* unfitted */\n",
       "  background-color: var(--sklearn-color-fitted-level-0);\n",
       "}\n",
       "\n",
       "#sk-container-id-1 input.sk-toggleable__control:checked~div.sk-toggleable__content {\n",
       "  /* Expand drop-down */\n",
       "  max-height: 200px;\n",
       "  max-width: 100%;\n",
       "  overflow: auto;\n",
       "}\n",
       "\n",
       "#sk-container-id-1 input.sk-toggleable__control:checked~label.sk-toggleable__label-arrow:before {\n",
       "  content: \"▾\";\n",
       "}\n",
       "\n",
       "/* Pipeline/ColumnTransformer-specific style */\n",
       "\n",
       "#sk-container-id-1 div.sk-label input.sk-toggleable__control:checked~label.sk-toggleable__label {\n",
       "  color: var(--sklearn-color-text);\n",
       "  background-color: var(--sklearn-color-unfitted-level-2);\n",
       "}\n",
       "\n",
       "#sk-container-id-1 div.sk-label.fitted input.sk-toggleable__control:checked~label.sk-toggleable__label {\n",
       "  background-color: var(--sklearn-color-fitted-level-2);\n",
       "}\n",
       "\n",
       "/* Estimator-specific style */\n",
       "\n",
       "/* Colorize estimator box */\n",
       "#sk-container-id-1 div.sk-estimator input.sk-toggleable__control:checked~label.sk-toggleable__label {\n",
       "  /* unfitted */\n",
       "  background-color: var(--sklearn-color-unfitted-level-2);\n",
       "}\n",
       "\n",
       "#sk-container-id-1 div.sk-estimator.fitted input.sk-toggleable__control:checked~label.sk-toggleable__label {\n",
       "  /* fitted */\n",
       "  background-color: var(--sklearn-color-fitted-level-2);\n",
       "}\n",
       "\n",
       "#sk-container-id-1 div.sk-label label.sk-toggleable__label,\n",
       "#sk-container-id-1 div.sk-label label {\n",
       "  /* The background is the default theme color */\n",
       "  color: var(--sklearn-color-text-on-default-background);\n",
       "}\n",
       "\n",
       "/* On hover, darken the color of the background */\n",
       "#sk-container-id-1 div.sk-label:hover label.sk-toggleable__label {\n",
       "  color: var(--sklearn-color-text);\n",
       "  background-color: var(--sklearn-color-unfitted-level-2);\n",
       "}\n",
       "\n",
       "/* Label box, darken color on hover, fitted */\n",
       "#sk-container-id-1 div.sk-label.fitted:hover label.sk-toggleable__label.fitted {\n",
       "  color: var(--sklearn-color-text);\n",
       "  background-color: var(--sklearn-color-fitted-level-2);\n",
       "}\n",
       "\n",
       "/* Estimator label */\n",
       "\n",
       "#sk-container-id-1 div.sk-label label {\n",
       "  font-family: monospace;\n",
       "  font-weight: bold;\n",
       "  display: inline-block;\n",
       "  line-height: 1.2em;\n",
       "}\n",
       "\n",
       "#sk-container-id-1 div.sk-label-container {\n",
       "  text-align: center;\n",
       "}\n",
       "\n",
       "/* Estimator-specific */\n",
       "#sk-container-id-1 div.sk-estimator {\n",
       "  font-family: monospace;\n",
       "  border: 1px dotted var(--sklearn-color-border-box);\n",
       "  border-radius: 0.25em;\n",
       "  box-sizing: border-box;\n",
       "  margin-bottom: 0.5em;\n",
       "  /* unfitted */\n",
       "  background-color: var(--sklearn-color-unfitted-level-0);\n",
       "}\n",
       "\n",
       "#sk-container-id-1 div.sk-estimator.fitted {\n",
       "  /* fitted */\n",
       "  background-color: var(--sklearn-color-fitted-level-0);\n",
       "}\n",
       "\n",
       "/* on hover */\n",
       "#sk-container-id-1 div.sk-estimator:hover {\n",
       "  /* unfitted */\n",
       "  background-color: var(--sklearn-color-unfitted-level-2);\n",
       "}\n",
       "\n",
       "#sk-container-id-1 div.sk-estimator.fitted:hover {\n",
       "  /* fitted */\n",
       "  background-color: var(--sklearn-color-fitted-level-2);\n",
       "}\n",
       "\n",
       "/* Specification for estimator info (e.g. \"i\" and \"?\") */\n",
       "\n",
       "/* Common style for \"i\" and \"?\" */\n",
       "\n",
       ".sk-estimator-doc-link,\n",
       "a:link.sk-estimator-doc-link,\n",
       "a:visited.sk-estimator-doc-link {\n",
       "  float: right;\n",
       "  font-size: smaller;\n",
       "  line-height: 1em;\n",
       "  font-family: monospace;\n",
       "  background-color: var(--sklearn-color-background);\n",
       "  border-radius: 1em;\n",
       "  height: 1em;\n",
       "  width: 1em;\n",
       "  text-decoration: none !important;\n",
       "  margin-left: 0.5em;\n",
       "  text-align: center;\n",
       "  /* unfitted */\n",
       "  border: var(--sklearn-color-unfitted-level-1) 1pt solid;\n",
       "  color: var(--sklearn-color-unfitted-level-1);\n",
       "}\n",
       "\n",
       ".sk-estimator-doc-link.fitted,\n",
       "a:link.sk-estimator-doc-link.fitted,\n",
       "a:visited.sk-estimator-doc-link.fitted {\n",
       "  /* fitted */\n",
       "  border: var(--sklearn-color-fitted-level-1) 1pt solid;\n",
       "  color: var(--sklearn-color-fitted-level-1);\n",
       "}\n",
       "\n",
       "/* On hover */\n",
       "div.sk-estimator:hover .sk-estimator-doc-link:hover,\n",
       ".sk-estimator-doc-link:hover,\n",
       "div.sk-label-container:hover .sk-estimator-doc-link:hover,\n",
       ".sk-estimator-doc-link:hover {\n",
       "  /* unfitted */\n",
       "  background-color: var(--sklearn-color-unfitted-level-3);\n",
       "  color: var(--sklearn-color-background);\n",
       "  text-decoration: none;\n",
       "}\n",
       "\n",
       "div.sk-estimator.fitted:hover .sk-estimator-doc-link.fitted:hover,\n",
       ".sk-estimator-doc-link.fitted:hover,\n",
       "div.sk-label-container:hover .sk-estimator-doc-link.fitted:hover,\n",
       ".sk-estimator-doc-link.fitted:hover {\n",
       "  /* fitted */\n",
       "  background-color: var(--sklearn-color-fitted-level-3);\n",
       "  color: var(--sklearn-color-background);\n",
       "  text-decoration: none;\n",
       "}\n",
       "\n",
       "/* Span, style for the box shown on hovering the info icon */\n",
       ".sk-estimator-doc-link span {\n",
       "  display: none;\n",
       "  z-index: 9999;\n",
       "  position: relative;\n",
       "  font-weight: normal;\n",
       "  right: .2ex;\n",
       "  padding: .5ex;\n",
       "  margin: .5ex;\n",
       "  width: min-content;\n",
       "  min-width: 20ex;\n",
       "  max-width: 50ex;\n",
       "  color: var(--sklearn-color-text);\n",
       "  box-shadow: 2pt 2pt 4pt #999;\n",
       "  /* unfitted */\n",
       "  background: var(--sklearn-color-unfitted-level-0);\n",
       "  border: .5pt solid var(--sklearn-color-unfitted-level-3);\n",
       "}\n",
       "\n",
       ".sk-estimator-doc-link.fitted span {\n",
       "  /* fitted */\n",
       "  background: var(--sklearn-color-fitted-level-0);\n",
       "  border: var(--sklearn-color-fitted-level-3);\n",
       "}\n",
       "\n",
       ".sk-estimator-doc-link:hover span {\n",
       "  display: block;\n",
       "}\n",
       "\n",
       "/* \"?\"-specific style due to the `<a>` HTML tag */\n",
       "\n",
       "#sk-container-id-1 a.estimator_doc_link {\n",
       "  float: right;\n",
       "  font-size: 1rem;\n",
       "  line-height: 1em;\n",
       "  font-family: monospace;\n",
       "  background-color: var(--sklearn-color-background);\n",
       "  border-radius: 1rem;\n",
       "  height: 1rem;\n",
       "  width: 1rem;\n",
       "  text-decoration: none;\n",
       "  /* unfitted */\n",
       "  color: var(--sklearn-color-unfitted-level-1);\n",
       "  border: var(--sklearn-color-unfitted-level-1) 1pt solid;\n",
       "}\n",
       "\n",
       "#sk-container-id-1 a.estimator_doc_link.fitted {\n",
       "  /* fitted */\n",
       "  border: var(--sklearn-color-fitted-level-1) 1pt solid;\n",
       "  color: var(--sklearn-color-fitted-level-1);\n",
       "}\n",
       "\n",
       "/* On hover */\n",
       "#sk-container-id-1 a.estimator_doc_link:hover {\n",
       "  /* unfitted */\n",
       "  background-color: var(--sklearn-color-unfitted-level-3);\n",
       "  color: var(--sklearn-color-background);\n",
       "  text-decoration: none;\n",
       "}\n",
       "\n",
       "#sk-container-id-1 a.estimator_doc_link.fitted:hover {\n",
       "  /* fitted */\n",
       "  background-color: var(--sklearn-color-fitted-level-3);\n",
       "}\n",
       "</style><div id=\"sk-container-id-1\" class=\"sk-top-container\"><div class=\"sk-text-repr-fallback\"><pre>Pipeline(steps=[(&#x27;featureunion&#x27;,\n",
       "                 FeatureUnion(transformer_list=[(&#x27;float32_transform_140367139217696&#x27;,\n",
       "                                                 Pipeline(steps=[(&#x27;numpycolumnselector&#x27;,\n",
       "                                                                  NumpyColumnSelector(columns=[0,\n",
       "                                                                                               2,\n",
       "                                                                                               3,\n",
       "                                                                                               5,\n",
       "                                                                                               6,\n",
       "                                                                                               7,\n",
       "                                                                                               8,\n",
       "                                                                                               9,\n",
       "                                                                                               10,\n",
       "                                                                                               11,\n",
       "                                                                                               13,\n",
       "                                                                                               14,\n",
       "                                                                                               15,\n",
       "                                                                                               16,\n",
       "                                                                                               17,\n",
       "                                                                                               18,\n",
       "                                                                                               19])),\n",
       "                                                                 (&#x27;compressstrings&#x27;,\n",
       "                                                                  CompressStrings(compress_type=&#x27;hash&#x27;,\n",
       "                                                                                  dtypes_list=[&#x27;char_str&#x27;,\n",
       "                                                                                               &#x27;char_str&#x27;,\n",
       "                                                                                               &#x27;char_str&#x27;,\n",
       "                                                                                               &#x27;char_str&#x27;,\n",
       "                                                                                               &#x27;char_str&#x27;,\n",
       "                                                                                               &#x27;float_int_n...\n",
       "                                                                 (&#x27;numpyreplacemissingvalues&#x27;,\n",
       "                                                                  NumpyReplaceMissingValues(missing_values=[])),\n",
       "                                                                 (&#x27;numimputer&#x27;,\n",
       "                                                                  NumImputer(missing_values=nan,\n",
       "                                                                             strategy=&#x27;median&#x27;)),\n",
       "                                                                 (&#x27;optstandardscaler&#x27;,\n",
       "                                                                  OptStandardScaler(use_scaler_flag=False)),\n",
       "                                                                 (&#x27;float32_transform&#x27;,\n",
       "                                                                  float32_transform())]))])),\n",
       "                (&#x27;numpypermutearray&#x27;,\n",
       "                 NumpyPermuteArray(axis=0,\n",
       "                                   permutation_indices=[0, 2, 3, 5, 6, 7, 8, 9,\n",
       "                                                        10, 11, 13, 14, 15, 16,\n",
       "                                                        17, 18, 19, 1, 4,\n",
       "                                                        12]))])</pre><b>In a Jupyter environment, please rerun this cell to show the HTML representation or trust the notebook. <br />On GitHub, the HTML representation is unable to render, please try loading this page with nbviewer.org.</b></div><div class=\"sk-container\" hidden><div class=\"sk-item sk-dashed-wrapped\"><div class=\"sk-label-container\"><div class=\"sk-label fitted sk-toggleable\"><input class=\"sk-toggleable__control sk-hidden--visually\" id=\"sk-estimator-id-1\" type=\"checkbox\" ><label for=\"sk-estimator-id-1\" class=\"sk-toggleable__label fitted sk-toggleable__label-arrow\"><div><div>Pipeline</div></div><div><a class=\"sk-estimator-doc-link fitted\" rel=\"noreferrer\" target=\"_blank\" href=\"https://scikit-learn.org/1.6/modules/generated/sklearn.pipeline.Pipeline.html\">?<span>Documentation for Pipeline</span></a><span class=\"sk-estimator-doc-link fitted\">i<span>Fitted</span></span></div></label><div class=\"sk-toggleable__content fitted\"><pre>Pipeline(steps=[(&#x27;featureunion&#x27;,\n",
       "                 FeatureUnion(transformer_list=[(&#x27;float32_transform_140367139217696&#x27;,\n",
       "                                                 Pipeline(steps=[(&#x27;numpycolumnselector&#x27;,\n",
       "                                                                  NumpyColumnSelector(columns=[0,\n",
       "                                                                                               2,\n",
       "                                                                                               3,\n",
       "                                                                                               5,\n",
       "                                                                                               6,\n",
       "                                                                                               7,\n",
       "                                                                                               8,\n",
       "                                                                                               9,\n",
       "                                                                                               10,\n",
       "                                                                                               11,\n",
       "                                                                                               13,\n",
       "                                                                                               14,\n",
       "                                                                                               15,\n",
       "                                                                                               16,\n",
       "                                                                                               17,\n",
       "                                                                                               18,\n",
       "                                                                                               19])),\n",
       "                                                                 (&#x27;compressstrings&#x27;,\n",
       "                                                                  CompressStrings(compress_type=&#x27;hash&#x27;,\n",
       "                                                                                  dtypes_list=[&#x27;char_str&#x27;,\n",
       "                                                                                               &#x27;char_str&#x27;,\n",
       "                                                                                               &#x27;char_str&#x27;,\n",
       "                                                                                               &#x27;char_str&#x27;,\n",
       "                                                                                               &#x27;char_str&#x27;,\n",
       "                                                                                               &#x27;float_int_n...\n",
       "                                                                 (&#x27;numpyreplacemissingvalues&#x27;,\n",
       "                                                                  NumpyReplaceMissingValues(missing_values=[])),\n",
       "                                                                 (&#x27;numimputer&#x27;,\n",
       "                                                                  NumImputer(missing_values=nan,\n",
       "                                                                             strategy=&#x27;median&#x27;)),\n",
       "                                                                 (&#x27;optstandardscaler&#x27;,\n",
       "                                                                  OptStandardScaler(use_scaler_flag=False)),\n",
       "                                                                 (&#x27;float32_transform&#x27;,\n",
       "                                                                  float32_transform())]))])),\n",
       "                (&#x27;numpypermutearray&#x27;,\n",
       "                 NumpyPermuteArray(axis=0,\n",
       "                                   permutation_indices=[0, 2, 3, 5, 6, 7, 8, 9,\n",
       "                                                        10, 11, 13, 14, 15, 16,\n",
       "                                                        17, 18, 19, 1, 4,\n",
       "                                                        12]))])</pre></div> </div></div><div class=\"sk-serial\"><div class=\"sk-item sk-dashed-wrapped\"><div class=\"sk-label-container\"><div class=\"sk-label fitted sk-toggleable\"><input class=\"sk-toggleable__control sk-hidden--visually\" id=\"sk-estimator-id-2\" type=\"checkbox\" ><label for=\"sk-estimator-id-2\" class=\"sk-toggleable__label fitted sk-toggleable__label-arrow\"><div><div>featureunion: FeatureUnion</div></div><div><a class=\"sk-estimator-doc-link fitted\" rel=\"noreferrer\" target=\"_blank\" href=\"https://scikit-learn.org/1.6/modules/generated/sklearn.pipeline.FeatureUnion.html\">?<span>Documentation for featureunion: FeatureUnion</span></a></div></label><div class=\"sk-toggleable__content fitted\"><pre>FeatureUnion(transformer_list=[(&#x27;float32_transform_140367139217696&#x27;,\n",
       "                                Pipeline(steps=[(&#x27;numpycolumnselector&#x27;,\n",
       "                                                 NumpyColumnSelector(columns=[0,\n",
       "                                                                              2,\n",
       "                                                                              3,\n",
       "                                                                              5,\n",
       "                                                                              6,\n",
       "                                                                              7,\n",
       "                                                                              8,\n",
       "                                                                              9,\n",
       "                                                                              10,\n",
       "                                                                              11,\n",
       "                                                                              13,\n",
       "                                                                              14,\n",
       "                                                                              15,\n",
       "                                                                              16,\n",
       "                                                                              17,\n",
       "                                                                              18,\n",
       "                                                                              19])),\n",
       "                                                (&#x27;compressstrings&#x27;,\n",
       "                                                 CompressStrings(compress_type=&#x27;hash&#x27;,\n",
       "                                                                 dtypes_list=[&#x27;char_str&#x27;,\n",
       "                                                                              &#x27;char_str&#x27;,\n",
       "                                                                              &#x27;char_str&#x27;,\n",
       "                                                                              &#x27;char_str&#x27;,\n",
       "                                                                              &#x27;char_str&#x27;,\n",
       "                                                                              &#x27;float_int_num&#x27;,\n",
       "                                                                              &#x27;char_str&#x27;,\n",
       "                                                                              &#x27;char_str&#x27;,\n",
       "                                                                              &#x27;float...\n",
       "                                                 FloatStr2Float(dtypes_list=[&#x27;float_int_num&#x27;,\n",
       "                                                                             &#x27;float_int_num&#x27;,\n",
       "                                                                             &#x27;float_int_num&#x27;],\n",
       "                                                                missing_values_reference_list=[])),\n",
       "                                                (&#x27;numpyreplacemissingvalues&#x27;,\n",
       "                                                 NumpyReplaceMissingValues(missing_values=[])),\n",
       "                                                (&#x27;numimputer&#x27;,\n",
       "                                                 NumImputer(missing_values=nan,\n",
       "                                                            strategy=&#x27;median&#x27;)),\n",
       "                                                (&#x27;optstandardscaler&#x27;,\n",
       "                                                 OptStandardScaler(use_scaler_flag=False)),\n",
       "                                                (&#x27;float32_transform&#x27;,\n",
       "                                                 float32_transform())]))])</pre></div> </div></div><div class=\"sk-parallel\"><div class=\"sk-parallel-item\"><div class=\"sk-item\"><div class=\"sk-label-container\"><div class=\"sk-label fitted sk-toggleable\"><label>float32_transform_140367139217696</label></div></div><div class=\"sk-serial\"><div class=\"sk-item\"><div class=\"sk-serial\"><div class=\"sk-item\"><div class=\"sk-estimator fitted sk-toggleable\"><input class=\"sk-toggleable__control sk-hidden--visually\" id=\"sk-estimator-id-3\" type=\"checkbox\" ><label for=\"sk-estimator-id-3\" class=\"sk-toggleable__label fitted sk-toggleable__label-arrow\"><div><div>NumpyColumnSelector</div></div></label><div class=\"sk-toggleable__content fitted\"><pre>NumpyColumnSelector(columns=[0, 2, 3, 5, 6, 7, 8, 9, 10, 11, 13, 14, 15, 16, 17,\n",
       "                             18, 19])</pre></div> </div></div><div class=\"sk-item\"><div class=\"sk-estimator fitted sk-toggleable\"><input class=\"sk-toggleable__control sk-hidden--visually\" id=\"sk-estimator-id-4\" type=\"checkbox\" ><label for=\"sk-estimator-id-4\" class=\"sk-toggleable__label fitted sk-toggleable__label-arrow\"><div><div>CompressStrings</div></div></label><div class=\"sk-toggleable__content fitted\"><pre>CompressStrings(compress_type=&#x27;hash&#x27;,\n",
       "                dtypes_list=[&#x27;char_str&#x27;, &#x27;char_str&#x27;, &#x27;char_str&#x27;, &#x27;char_str&#x27;,\n",
       "                             &#x27;char_str&#x27;, &#x27;float_int_num&#x27;, &#x27;char_str&#x27;,\n",
       "                             &#x27;char_str&#x27;, &#x27;float_int_num&#x27;, &#x27;char_str&#x27;,\n",
       "                             &#x27;char_str&#x27;, &#x27;char_str&#x27;, &#x27;float_int_num&#x27;,\n",
       "                             &#x27;char_str&#x27;, &#x27;float_int_num&#x27;, &#x27;char_str&#x27;,\n",
       "                             &#x27;char_str&#x27;],\n",
       "                missing_values_reference_list=[&#x27;&#x27;, &#x27;-&#x27;, &#x27;?&#x27;, nan],\n",
       "                misslist_list=[[], [], [], [], [], [], [], [], [], [], [], [],\n",
       "                               [], [], [], [], []])</pre></div> </div></div><div class=\"sk-item\"><div class=\"sk-estimator fitted sk-toggleable\"><input class=\"sk-toggleable__control sk-hidden--visually\" id=\"sk-estimator-id-5\" type=\"checkbox\" ><label for=\"sk-estimator-id-5\" class=\"sk-toggleable__label fitted sk-toggleable__label-arrow\"><div><div>NumpyReplaceMissingValues</div></div></label><div class=\"sk-toggleable__content fitted\"><pre>NumpyReplaceMissingValues(missing_values=[])</pre></div> </div></div><div class=\"sk-item\"><div class=\"sk-estimator fitted sk-toggleable\"><input class=\"sk-toggleable__control sk-hidden--visually\" id=\"sk-estimator-id-6\" type=\"checkbox\" ><label for=\"sk-estimator-id-6\" class=\"sk-toggleable__label fitted sk-toggleable__label-arrow\"><div><div>NumpyReplaceUnknownValues</div></div></label><div class=\"sk-toggleable__content fitted\"><pre>NumpyReplaceUnknownValues(filling_values=nan,\n",
       "                          filling_values_list=[nan, nan, nan, nan, nan, 100001,\n",
       "                                               nan, nan, 100001, nan, nan, nan,\n",
       "                                               100001, nan, 100001, nan, nan],\n",
       "                          known_values_list=[[227259264688753646810077375790908286508,\n",
       "                                              253732214910815238134509288111402486722,\n",
       "                                              303819144345098626554456011496217223575,\n",
       "                                              280353606872939388614315901186094326949],\n",
       "                                             [310861434292724266828...\n",
       "                                             [328286527295663582663365503319902632676,\n",
       "                                              119641707607939038914465000864290288880,\n",
       "                                              283364312271660996400883763491949419861,\n",
       "                                              27741019508977055807423991753468819528],\n",
       "                                             [1.0, 2.0],\n",
       "                                             [68186749286663113704472210246844540664,\n",
       "                                              220736790854050750400968561922076059550],\n",
       "                                             [169662019754859674907370307324476606919,\n",
       "                                              220736790854050750400968561922076059550]],\n",
       "                          missing_values_reference_list=[&#x27;&#x27;, &#x27;-&#x27;, &#x27;?&#x27;, nan])</pre></div> </div></div><div class=\"sk-item\"><div class=\"sk-estimator fitted sk-toggleable\"><input class=\"sk-toggleable__control sk-hidden--visually\" id=\"sk-estimator-id-7\" type=\"checkbox\" ><label for=\"sk-estimator-id-7\" class=\"sk-toggleable__label fitted sk-toggleable__label-arrow\"><div><div>boolean2float</div></div></label><div class=\"sk-toggleable__content fitted\"><pre>boolean2float()</pre></div> </div></div><div class=\"sk-item\"><div class=\"sk-estimator fitted sk-toggleable\"><input class=\"sk-toggleable__control sk-hidden--visually\" id=\"sk-estimator-id-8\" type=\"checkbox\" ><label for=\"sk-estimator-id-8\" class=\"sk-toggleable__label fitted sk-toggleable__label-arrow\"><div><div>CatImputer</div></div></label><div class=\"sk-toggleable__content fitted\"><pre>CatImputer(missing_values=nan, strategy=&#x27;most_frequent&#x27;)</pre></div> </div></div><div class=\"sk-item\"><div class=\"sk-estimator fitted sk-toggleable\"><input class=\"sk-toggleable__control sk-hidden--visually\" id=\"sk-estimator-id-9\" type=\"checkbox\" ><label for=\"sk-estimator-id-9\" class=\"sk-toggleable__label fitted sk-toggleable__label-arrow\"><div><div>CatEncoder</div></div></label><div class=\"sk-toggleable__content fitted\"><pre>CatEncoder(categories=&#x27;auto&#x27;, dtype=&lt;class &#x27;numpy.float64&#x27;&gt;, encoding=&#x27;ordinal&#x27;,\n",
       "           handle_unknown=&#x27;error&#x27;)</pre></div> </div></div><div class=\"sk-item\"><div class=\"sk-estimator fitted sk-toggleable\"><input class=\"sk-toggleable__control sk-hidden--visually\" id=\"sk-estimator-id-10\" type=\"checkbox\" ><label for=\"sk-estimator-id-10\" class=\"sk-toggleable__label fitted sk-toggleable__label-arrow\"><div><div>float32_transform</div></div></label><div class=\"sk-toggleable__content fitted\"><pre>float32_transform()</pre></div> </div></div></div></div></div></div></div><div class=\"sk-parallel-item\"><div class=\"sk-item\"><div class=\"sk-label-container\"><div class=\"sk-label fitted sk-toggleable\"><label>float32_transform_140367139220096</label></div></div><div class=\"sk-serial\"><div class=\"sk-item\"><div class=\"sk-serial\"><div class=\"sk-item\"><div class=\"sk-estimator fitted sk-toggleable\"><input class=\"sk-toggleable__control sk-hidden--visually\" id=\"sk-estimator-id-11\" type=\"checkbox\" ><label for=\"sk-estimator-id-11\" class=\"sk-toggleable__label fitted sk-toggleable__label-arrow\"><div><div>NumpyColumnSelector</div></div></label><div class=\"sk-toggleable__content fitted\"><pre>NumpyColumnSelector(columns=[1, 4, 12])</pre></div> </div></div><div class=\"sk-item\"><div class=\"sk-estimator fitted sk-toggleable\"><input class=\"sk-toggleable__control sk-hidden--visually\" id=\"sk-estimator-id-12\" type=\"checkbox\" ><label for=\"sk-estimator-id-12\" class=\"sk-toggleable__label fitted sk-toggleable__label-arrow\"><div><div>FloatStr2Float</div></div></label><div class=\"sk-toggleable__content fitted\"><pre>FloatStr2Float(dtypes_list=[&#x27;float_int_num&#x27;, &#x27;float_int_num&#x27;, &#x27;float_int_num&#x27;],\n",
       "               missing_values_reference_list=[])</pre></div> </div></div><div class=\"sk-item\"><div class=\"sk-estimator fitted sk-toggleable\"><input class=\"sk-toggleable__control sk-hidden--visually\" id=\"sk-estimator-id-13\" type=\"checkbox\" ><label for=\"sk-estimator-id-13\" class=\"sk-toggleable__label fitted sk-toggleable__label-arrow\"><div><div>NumpyReplaceMissingValues</div></div></label><div class=\"sk-toggleable__content fitted\"><pre>NumpyReplaceMissingValues(missing_values=[])</pre></div> </div></div><div class=\"sk-item\"><div class=\"sk-estimator fitted sk-toggleable\"><input class=\"sk-toggleable__control sk-hidden--visually\" id=\"sk-estimator-id-14\" type=\"checkbox\" ><label for=\"sk-estimator-id-14\" class=\"sk-toggleable__label fitted sk-toggleable__label-arrow\"><div><div>NumImputer</div></div></label><div class=\"sk-toggleable__content fitted\"><pre>NumImputer(missing_values=nan, strategy=&#x27;median&#x27;)</pre></div> </div></div><div class=\"sk-item\"><div class=\"sk-estimator fitted sk-toggleable\"><input class=\"sk-toggleable__control sk-hidden--visually\" id=\"sk-estimator-id-15\" type=\"checkbox\" ><label for=\"sk-estimator-id-15\" class=\"sk-toggleable__label fitted sk-toggleable__label-arrow\"><div><div>OptStandardScaler</div></div></label><div class=\"sk-toggleable__content fitted\"><pre>OptStandardScaler(use_scaler_flag=False)</pre></div> </div></div><div class=\"sk-item\"><div class=\"sk-estimator fitted sk-toggleable\"><input class=\"sk-toggleable__control sk-hidden--visually\" id=\"sk-estimator-id-16\" type=\"checkbox\" ><label for=\"sk-estimator-id-16\" class=\"sk-toggleable__label fitted sk-toggleable__label-arrow\"><div><div>float32_transform</div></div></label><div class=\"sk-toggleable__content fitted\"><pre>float32_transform()</pre></div> </div></div></div></div></div></div></div></div></div><div class=\"sk-item\"><div class=\"sk-estimator fitted sk-toggleable\"><input class=\"sk-toggleable__control sk-hidden--visually\" id=\"sk-estimator-id-17\" type=\"checkbox\" ><label for=\"sk-estimator-id-17\" class=\"sk-toggleable__label fitted sk-toggleable__label-arrow\"><div><div>NumpyPermuteArray</div></div></label><div class=\"sk-toggleable__content fitted\"><pre>NumpyPermuteArray(axis=0,\n",
       "                  permutation_indices=[0, 2, 3, 5, 6, 7, 8, 9, 10, 11, 13, 14,\n",
       "                                       15, 16, 17, 18, 19, 1, 4, 12])</pre></div> </div></div></div></div></div></div>"
      ],
      "text/plain": [
       "Pipeline(steps=[('featureunion',\n",
       "                 FeatureUnion(transformer_list=[('float32_transform_140367139217696',\n",
       "                                                 Pipeline(steps=[('numpycolumnselector',\n",
       "                                                                  NumpyColumnSelector(columns=[0,\n",
       "                                                                                               2,\n",
       "                                                                                               3,\n",
       "                                                                                               5,\n",
       "                                                                                               6,\n",
       "                                                                                               7,\n",
       "                                                                                               8,\n",
       "                                                                                               9,\n",
       "                                                                                               10,\n",
       "                                                                                               11,\n",
       "                                                                                               13,\n",
       "                                                                                               14,\n",
       "                                                                                               15,\n",
       "                                                                                               16,\n",
       "                                                                                               17,\n",
       "                                                                                               18,\n",
       "                                                                                               19])),\n",
       "                                                                 ('compressstrings',\n",
       "                                                                  CompressStrings(compress_type='hash',\n",
       "                                                                                  dtypes_list=['char_str',\n",
       "                                                                                               'char_str',\n",
       "                                                                                               'char_str',\n",
       "                                                                                               'char_str',\n",
       "                                                                                               'char_str',\n",
       "                                                                                               'float_int_n...\n",
       "                                                                 ('numpyreplacemissingvalues',\n",
       "                                                                  NumpyReplaceMissingValues(missing_values=[])),\n",
       "                                                                 ('numimputer',\n",
       "                                                                  NumImputer(missing_values=nan,\n",
       "                                                                             strategy='median')),\n",
       "                                                                 ('optstandardscaler',\n",
       "                                                                  OptStandardScaler(use_scaler_flag=False)),\n",
       "                                                                 ('float32_transform',\n",
       "                                                                  float32_transform())]))])),\n",
       "                ('numpypermutearray',\n",
       "                 NumpyPermuteArray(axis=0,\n",
       "                                   permutation_indices=[0, 2, 3, 5, 6, 7, 8, 9,\n",
       "                                                        10, 11, 13, 14, 15, 16,\n",
       "                                                        17, 18, 19, 1, 4,\n",
       "                                                        12]))])"
      ]
     },
     "execution_count": 22,
     "metadata": {},
     "output_type": "execute_result"
    }
   ],
   "source": [
    "prefix = pipeline.remove_last().freeze_trainable()\n",
    "prefix.export_to_sklearn_pipeline()"
   ]
  },
  {
   "cell_type": "markdown",
   "metadata": {
    "id": "f213ae15-6d33-4b4b-84e5-c7558a20ea84"
   },
   "source": [
    "Next, add a new final step, which consists of a choice of three\n",
    "estimators. In this code, `|` is the or combinator (algorithmic\n",
    "choice). It defines a search space for another optimizer run."
   ]
  },
  {
   "cell_type": "code",
   "execution_count": 23,
   "metadata": {
    "id": "1b1c3cf0-3fb8-4994-a272-626023ec5c82"
   },
   "outputs": [],
   "source": [
    "new_pipeline = prefix >> (LR | Tree | KNN)"
   ]
  },
  {
   "cell_type": "markdown",
   "metadata": {
    "id": "62a97b61-91f8-478d-97be-d4771e25613d"
   },
   "source": [
    "#### New optimizer `Hyperopt` configuration and training\n",
    "\n",
    "To automatically select the algorithm and tune its hyperparameters, we\n",
    "create an instance of the `Hyperopt` optimizer and `fit` it to the\n",
    "data."
   ]
  },
  {
   "cell_type": "code",
   "execution_count": 24,
   "metadata": {
    "id": "bc700bc6-f04c-4bb0-919d-be43f3c4d255"
   },
   "outputs": [],
   "source": [
    "from sklearn.model_selection import train_test_split\n",
    "\n",
    "X_train, X_test, y_train, y_test = train_test_split(\n",
    "    train_X, train_y, test_size=0.15, random_state=33\n",
    ")"
   ]
  },
  {
   "cell_type": "code",
   "execution_count": 25,
   "metadata": {
    "id": "fd569968-424b-45a5-a5e1-df43815b8b3d"
   },
   "outputs": [
    {
     "name": "stdout",
     "output_type": "stream",
     "text": [
      "100%|██████████| 20/20 [00:08<00:00,  2.34trial/s, best loss: -0.7994345630215195]\n",
      "1 out of 20 trials failed, call summary() for details.\n",
      "Run with verbose=True to see per-trial exceptions.\n"
     ]
    }
   ],
   "source": [
    "hyperopt = Hyperopt(estimator=new_pipeline, cv=3, max_evals=20, scoring=\"roc_auc\")\n",
    "hyperopt_pipelines = hyperopt.fit(X_train, y_train)"
   ]
  },
  {
   "cell_type": "code",
   "execution_count": 26,
   "metadata": {
    "id": "dd5b8746-c8be-483e-bb67-e4a5ce8d9c7b"
   },
   "outputs": [],
   "source": [
    "pipeline_model = hyperopt_pipelines.get_pipeline(astype=\"sklearn\")"
   ]
  },
  {
   "cell_type": "markdown",
   "metadata": {
    "id": "5b257f7c-9d12-4b31-8970-4a54cb132bf4"
   },
   "source": [
    "#### Save newly refined pipeline"
   ]
  },
  {
   "cell_type": "code",
   "execution_count": 27,
   "metadata": {
    "id": "e8bce54d-ba24-40aa-8588-3a42be58b25e"
   },
   "outputs": [
    {
     "data": {
      "text/plain": [
       "['refined_pipeline.pickle']"
      ]
     },
     "execution_count": 27,
     "metadata": {},
     "output_type": "execute_result"
    }
   ],
   "source": [
    "import joblib\n",
    "\n",
    "model_path = \"refined_pipeline.pickle\"\n",
    "joblib.dump(pipeline_model, model_path)"
   ]
  },
  {
   "cell_type": "code",
   "execution_count": 28,
   "metadata": {
    "id": "31883699-985a-4881-ab36-2945b6a98e8d"
   },
   "outputs": [],
   "source": [
    "import tarfile\n",
    "\n",
    "with tarfile.open(model_path + \".tar.gz\", \"w:gz\") as tar:\n",
    "    tar.add(model_path)\n",
    "model_path += \".tar.gz\""
   ]
  },
  {
   "cell_type": "markdown",
   "metadata": {
    "id": "6fd2c064-2eec-494a-8442-562927ca35d2"
   },
   "source": [
    "### Publish new version of the model"
   ]
  },
  {
   "cell_type": "markdown",
   "metadata": {
    "id": "fc44e559-91aa-491a-9b1e-cc67a3d3d5c1"
   },
   "source": [
    "#### Download current version of the model"
   ]
  },
  {
   "cell_type": "code",
   "execution_count": 29,
   "metadata": {
    "id": "53c24be4-3cc9-42d3-8105-aa2e4bacbf94"
   },
   "outputs": [
    {
     "name": "stdout",
     "output_type": "stream",
     "text": [
      "Note: online_url is deprecated and will be removed in a future release. Use serving_urls instead.\n",
      "Note: online_url is deprecated and will be removed in a future release. Use serving_urls instead.\n"
     ]
    }
   ],
   "source": [
    "model_id = service.get_params()[\"entity\"][\"asset\"][\"id\"]\n",
    "deployment_id = service.get_params()[\"metadata\"][\"id\"]"
   ]
  },
  {
   "cell_type": "code",
   "execution_count": 30,
   "metadata": {
    "id": "e9edeb22-94a6-4bf8-a342-4fc466c544c8"
   },
   "outputs": [
    {
     "name": "stdout",
     "output_type": "stream",
     "text": [
      "Successfully saved model content to file: 'current_model.zip'\n"
     ]
    },
    {
     "data": {
      "text/plain": [
       "'/home/wsuser/work/current_model.zip'"
      ]
     },
     "execution_count": 30,
     "metadata": {},
     "output_type": "execute_result"
    }
   ],
   "source": [
    "downloaded_model_name = \"current_model.zip\"\n",
    "client.repository.download(model_id, downloaded_model_name)"
   ]
  },
  {
   "cell_type": "code",
   "execution_count": 31,
   "metadata": {
    "id": "8f305c7d-9c07-480d-93bf-e43ca244e10a"
   },
   "outputs": [],
   "source": [
    "import zipfile\n",
    "\n",
    "with zipfile.ZipFile(downloaded_model_name, \"r\") as zip_ref:\n",
    "    zip_ref.extractall()"
   ]
  },
  {
   "cell_type": "markdown",
   "metadata": {
    "id": "a88a5c01-db85-49cf-992e-b5d418ec5fbe"
   },
   "source": [
    "#### Create archive containing updated model"
   ]
  },
  {
   "cell_type": "code",
   "execution_count": 32,
   "metadata": {
    "id": "d54820e6-f213-4704-8093-07c36d9c87d5"
   },
   "outputs": [],
   "source": [
    "updated_model_path = \"updated_model.zip\"\n",
    "with zipfile.ZipFile(updated_model_path, \"w\") as zip_ref:\n",
    "    zip_ref.write(model_path)\n",
    "    zip_ref.write(\"pipeline-model.json\")"
   ]
  },
  {
   "cell_type": "markdown",
   "metadata": {
    "id": "6d0facf5-6a8f-44cc-afb6-a686fe0d72e6"
   },
   "source": [
    "#### Save the current model version"
   ]
  },
  {
   "cell_type": "code",
   "execution_count": 33,
   "metadata": {
    "id": "346ff901-c295-45d2-93fc-172220272543"
   },
   "outputs": [
    {
     "name": "stdout",
     "output_type": "stream",
     "text": [
      "{\n",
      "  \"metadata\": {\n",
      "    \"name\": \"P1\",\n",
      "    \"space_id\": \"9c4eb218-96e8-41e0-8cd5-f783504a11ea\",\n",
      "    \"resource_key\": \"81444767-8506-4af1-9fd3-9b2b2dd4b3a6\",\n",
      "    \"id\": \"b78e56d5-6a90-477b-8ab8-b58d5e5ce1ed\",\n",
      "    \"created_at\": \"2025-05-22T11:41:53Z\",\n",
      "    \"rev\": \"1\",\n",
      "    \"commit_info\": {\n",
      "      \"committed_at\": \"2025-05-22T11:44:01Z\"\n",
      "    },\n",
      "    \"rov\": {\n",
      "      \"member_roles\": {\n",
      "        \"1000331001\": {\n",
      "          \"user_iam_id\": \"1000331001\",\n",
      "          \"roles\": [\n",
      "            \"OWNER\"\n",
      "          ]\n",
      "        }\n",
      "      }\n",
      "    },\n",
      "    \"owner\": \"1000331001\"\n",
      "  },\n",
      "  \"entity\": {\n",
      "    \"pipeline\": {\n",
      "      \"id\": \"91cd7ec2-6bda-417e-82d1-ff8368b03952\"\n",
      "    },\n",
      "    \"software_spec\": {\n",
      "      \"id\": \"8c1a58c6-62b5-4dc4-987a-df751c2756b6\",\n",
      "      \"name\": \"hybrid_0.1\"\n",
      "    },\n",
      "    \"type\": \"wml-hybrid_0.1\",\n",
      "    \"training_data_references\": [\n",
      "      {\n",
      "        \"type\": \"data_asset\",\n",
      "        \"connection\": null,\n",
      "        \"location\": {\n",
      "          \"href\": \"/v2/assets/d414512e-a854-49c3-a8fc-cceff65dd884?space_id=9c4eb218-96e8-41e0-8cd5-f783504a11ea\",\n",
      "          \"id\": \"d414512e-a854-49c3-a8fc-cceff65dd884\",\n",
      "          \"space_id\": \"9c4eb218-96e8-41e0-8cd5-f783504a11ea\"\n",
      "        },\n",
      "        \"schema\": {\n",
      "          \"id\": \"auto_ai_kb_input_schema\",\n",
      "          \"fields\": [\n",
      "            {\n",
      "              \"name\": \"CheckingStatus\",\n",
      "              \"type\": \"other\",\n",
      "              \"nullable\": false\n",
      "            },\n",
      "            {\n",
      "              \"name\": \"LoanDuration\",\n",
      "              \"type\": \"double\",\n",
      "              \"nullable\": false\n",
      "            },\n",
      "            {\n",
      "              \"name\": \"CreditHistory\",\n",
      "              \"type\": \"other\",\n",
      "              \"nullable\": false\n",
      "            },\n",
      "            {\n",
      "              \"name\": \"LoanPurpose\",\n",
      "              \"type\": \"other\",\n",
      "              \"nullable\": false\n",
      "            },\n",
      "            {\n",
      "              \"name\": \"LoanAmount\",\n",
      "              \"type\": \"double\",\n",
      "              \"nullable\": false\n",
      "            },\n",
      "            {\n",
      "              \"name\": \"ExistingSavings\",\n",
      "              \"type\": \"other\",\n",
      "              \"nullable\": false\n",
      "            },\n",
      "            {\n",
      "              \"name\": \"EmploymentDuration\",\n",
      "              \"type\": \"other\",\n",
      "              \"nullable\": false\n",
      "            },\n",
      "            {\n",
      "              \"name\": \"InstallmentPercent\",\n",
      "              \"type\": \"double\",\n",
      "              \"nullable\": false\n",
      "            },\n",
      "            {\n",
      "              \"name\": \"Sex\",\n",
      "              \"type\": \"other\",\n",
      "              \"nullable\": false\n",
      "            },\n",
      "            {\n",
      "              \"name\": \"OthersOnLoan\",\n",
      "              \"type\": \"other\",\n",
      "              \"nullable\": false\n",
      "            },\n",
      "            {\n",
      "              \"name\": \"CurrentResidenceDuration\",\n",
      "              \"type\": \"double\",\n",
      "              \"nullable\": false\n",
      "            },\n",
      "            {\n",
      "              \"name\": \"OwnsProperty\",\n",
      "              \"type\": \"other\",\n",
      "              \"nullable\": false\n",
      "            },\n",
      "            {\n",
      "              \"name\": \"Age\",\n",
      "              \"type\": \"double\",\n",
      "              \"nullable\": false\n",
      "            },\n",
      "            {\n",
      "              \"name\": \"InstallmentPlans\",\n",
      "              \"type\": \"other\",\n",
      "              \"nullable\": false\n",
      "            },\n",
      "            {\n",
      "              \"name\": \"Housing\",\n",
      "              \"type\": \"other\",\n",
      "              \"nullable\": false\n",
      "            },\n",
      "            {\n",
      "              \"name\": \"ExistingCreditsCount\",\n",
      "              \"type\": \"double\",\n",
      "              \"nullable\": false\n",
      "            },\n",
      "            {\n",
      "              \"name\": \"Job\",\n",
      "              \"type\": \"other\",\n",
      "              \"nullable\": false\n",
      "            },\n",
      "            {\n",
      "              \"name\": \"Dependents\",\n",
      "              \"type\": \"double\",\n",
      "              \"nullable\": false\n",
      "            },\n",
      "            {\n",
      "              \"name\": \"Telephone\",\n",
      "              \"type\": \"other\",\n",
      "              \"nullable\": false\n",
      "            },\n",
      "            {\n",
      "              \"name\": \"ForeignWorker\",\n",
      "              \"type\": \"other\",\n",
      "              \"nullable\": false\n",
      "            },\n",
      "            {\n",
      "              \"name\": \"Risk\",\n",
      "              \"type\": \"other\",\n",
      "              \"nullable\": false\n",
      "            }\n",
      "          ]\n",
      "        }\n",
      "      }\n",
      "    ],\n",
      "    \"schemas\": {\n",
      "      \"input\": [\n",
      "        {\n",
      "          \"id\": \"auto_ai_kb_input_schema\",\n",
      "          \"fields\": [\n",
      "            {\n",
      "              \"name\": \"CheckingStatus\",\n",
      "              \"type\": \"other\",\n",
      "              \"nullable\": false\n",
      "            },\n",
      "            {\n",
      "              \"name\": \"LoanDuration\",\n",
      "              \"type\": \"double\",\n",
      "              \"nullable\": false\n",
      "            },\n",
      "            {\n",
      "              \"name\": \"CreditHistory\",\n",
      "              \"type\": \"other\",\n",
      "              \"nullable\": false\n",
      "            },\n",
      "            {\n",
      "              \"name\": \"LoanPurpose\",\n",
      "              \"type\": \"other\",\n",
      "              \"nullable\": false\n",
      "            },\n",
      "            {\n",
      "              \"name\": \"LoanAmount\",\n",
      "              \"type\": \"double\",\n",
      "              \"nullable\": false\n",
      "            },\n",
      "            {\n",
      "              \"name\": \"ExistingSavings\",\n",
      "              \"type\": \"other\",\n",
      "              \"nullable\": false\n",
      "            },\n",
      "            {\n",
      "              \"name\": \"EmploymentDuration\",\n",
      "              \"type\": \"other\",\n",
      "              \"nullable\": false\n",
      "            },\n",
      "            {\n",
      "              \"name\": \"InstallmentPercent\",\n",
      "              \"type\": \"double\",\n",
      "              \"nullable\": false\n",
      "            },\n",
      "            {\n",
      "              \"name\": \"Sex\",\n",
      "              \"type\": \"other\",\n",
      "              \"nullable\": false\n",
      "            },\n",
      "            {\n",
      "              \"name\": \"OthersOnLoan\",\n",
      "              \"type\": \"other\",\n",
      "              \"nullable\": false\n",
      "            },\n",
      "            {\n",
      "              \"name\": \"CurrentResidenceDuration\",\n",
      "              \"type\": \"double\",\n",
      "              \"nullable\": false\n",
      "            },\n",
      "            {\n",
      "              \"name\": \"OwnsProperty\",\n",
      "              \"type\": \"other\",\n",
      "              \"nullable\": false\n",
      "            },\n",
      "            {\n",
      "              \"name\": \"Age\",\n",
      "              \"type\": \"double\",\n",
      "              \"nullable\": false\n",
      "            },\n",
      "            {\n",
      "              \"name\": \"InstallmentPlans\",\n",
      "              \"type\": \"other\",\n",
      "              \"nullable\": false\n",
      "            },\n",
      "            {\n",
      "              \"name\": \"Housing\",\n",
      "              \"type\": \"other\",\n",
      "              \"nullable\": false\n",
      "            },\n",
      "            {\n",
      "              \"name\": \"ExistingCreditsCount\",\n",
      "              \"type\": \"double\",\n",
      "              \"nullable\": false\n",
      "            },\n",
      "            {\n",
      "              \"name\": \"Job\",\n",
      "              \"type\": \"other\",\n",
      "              \"nullable\": false\n",
      "            },\n",
      "            {\n",
      "              \"name\": \"Dependents\",\n",
      "              \"type\": \"double\",\n",
      "              \"nullable\": false\n",
      "            },\n",
      "            {\n",
      "              \"name\": \"Telephone\",\n",
      "              \"type\": \"other\",\n",
      "              \"nullable\": false\n",
      "            },\n",
      "            {\n",
      "              \"name\": \"ForeignWorker\",\n",
      "              \"type\": \"other\",\n",
      "              \"nullable\": false\n",
      "            }\n",
      "          ]\n",
      "        }\n",
      "      ],\n",
      "      \"output\": []\n",
      "    },\n",
      "    \"label_column\": \"Risk\",\n",
      "    \"metrics\": [\n",
      "      {\n",
      "        \"timestamp\": \"2025-05-22T11:40:28Z\",\n",
      "        \"ml_metrics\": {\n",
      "          \"holdout_accuracy\": 0.72,\n",
      "          \"holdout_average_precision\": 0.5175996610541083,\n",
      "          \"holdout_balanced_accuracy\": 0.7610294117647058,\n",
      "          \"holdout_f1\": 0.7586206896551724,\n",
      "          \"holdout_neg_log_loss\": -0.5151502877721112,\n",
      "          \"holdout_precision\": 0.9166666666666666,\n",
      "          \"holdout_recall\": 0.6470588235294118,\n",
      "          \"holdout_roc_auc\": 0.8088235294117647,\n",
      "          \"training_accuracy\": 0.7187987987987988,\n",
      "          \"training_average_precision\": 0.9205829210523921,\n",
      "          \"training_balanced_accuracy\": 0.752635046113307,\n",
      "          \"training_f1\": 0.7674399674399673,\n",
      "          \"training_neg_log_loss\": -0.5532545596504036,\n",
      "          \"training_precision\": 0.9041835357624831,\n",
      "          \"training_recall\": 0.6666666666666666,\n",
      "          \"training_roc_auc\": 0.8273031316509577\n",
      "        },\n",
      "        \"context\": {\n",
      "          \"intermediate_model\": {\n",
      "            \"name\": \"P1\",\n",
      "            \"process\": \"pre_hpo_d_output\",\n",
      "            \"location\": {\n",
      "              \"pipeline\": \"/spaces/9c4eb218-96e8-41e0-8cd5-f783504a11ea/assets/auto_ml/auto_ml.0627b7f6-8708-4c13-b0c9-5d91455561d9/wml_data/f2a01a01-0f16-4e0d-9748-895e7b795c4a/data/automl/pre_hpo_d_output/Pipeline1/pipeline.json\",\n",
      "              \"pipeline_model\": \"/spaces/9c4eb218-96e8-41e0-8cd5-f783504a11ea/assets/auto_ml/auto_ml.0627b7f6-8708-4c13-b0c9-5d91455561d9/wml_data/f2a01a01-0f16-4e0d-9748-895e7b795c4a/data/automl/pre_hpo_d_output/Pipeline1/pipeline-model.json\",\n",
      "              \"model\": \"/spaces/9c4eb218-96e8-41e0-8cd5-f783504a11ea/assets/auto_ml/auto_ml.0627b7f6-8708-4c13-b0c9-5d91455561d9/wml_data/f2a01a01-0f16-4e0d-9748-895e7b795c4a/data/automl/pre_hpo_d_output/Pipeline1/model.pickle\"\n",
      "            },\n",
      "            \"schema_location\": \"/spaces/9c4eb218-96e8-41e0-8cd5-f783504a11ea/assets/auto_ml/auto_ml.0627b7f6-8708-4c13-b0c9-5d91455561d9/wml_data/f2a01a01-0f16-4e0d-9748-895e7b795c4a/data/automl/pre_hpo_d_output/Pipeline1/schema.json\",\n",
      "            \"notebook_location\": \"/spaces/9c4eb218-96e8-41e0-8cd5-f783504a11ea/assets/auto_ml/auto_ml.0627b7f6-8708-4c13-b0c9-5d91455561d9/wml_data/f2a01a01-0f16-4e0d-9748-895e7b795c4a/data/automl/pre_hpo_d_output/Pipeline1/notebook.ipynb\",\n",
      "            \"pipeline_nodes\": [\n",
      "              \"PreprocessingTransformer\",\n",
      "              \"SnapLogisticRegression\"\n",
      "            ],\n",
      "            \"composition_steps\": [\n",
      "              \"Split_TrainingHoldout\",\n",
      "              \"TrainingDataset_full_224_20\",\n",
      "              \"Datetime_FE\",\n",
      "              \"TrainingDataset_full_224_20\",\n",
      "              \"Preprocessor_default\",\n",
      "              \"DAUB\"\n",
      "            ],\n",
      "            \"duration\": 418\n",
      "          },\n",
      "          \"phase\": \"pre_hpo_d_output\",\n",
      "          \"classes\": [\n",
      "            \"Risk\",\n",
      "            \"No Risk\"\n",
      "          ],\n",
      "          \"binary_classification\": {\n",
      "            \"confusion_matrix\": [\n",
      "              {\n",
      "                \"true_class\": \"Risk\",\n",
      "                \"tp\": 7,\n",
      "                \"tn\": 11,\n",
      "                \"fp\": 6,\n",
      "                \"fn\": 1\n",
      "              },\n",
      "              {\n",
      "                \"true_class\": \"No Risk\",\n",
      "                \"tp\": 11,\n",
      "                \"tn\": 7,\n",
      "                \"fp\": 1,\n",
      "                \"fn\": 6\n",
      "              }\n",
      "            ],\n",
      "            \"roc_curve\": [\n",
      "              {\n",
      "                \"true_class\": \"Risk\",\n",
      "                \"tpr\": [\n",
      "                  0,\n",
      "                  0.125,\n",
      "                  0.5,\n",
      "                  0.5,\n",
      "                  0.625,\n",
      "                  0.625,\n",
      "                  0.75,\n",
      "                  0.75,\n",
      "                  0.875,\n",
      "                  0.875,\n",
      "                  1,\n",
      "                  1\n",
      "                ],\n",
      "                \"fpr\": [\n",
      "                  0,\n",
      "                  0,\n",
      "                  0,\n",
      "                  0.11764705882352941,\n",
      "                  0.11764705882352941,\n",
      "                  0.23529411764705882,\n",
      "                  0.23529411764705882,\n",
      "                  0.4117647058823529,\n",
      "                  0.4117647058823529,\n",
      "                  0.7647058823529411,\n",
      "                  0.7647058823529411,\n",
      "                  1\n",
      "                ],\n",
      "                \"thresholds\": [\n",
      "                  1,\n",
      "                  0.9421695470809937,\n",
      "                  0.856395423412323,\n",
      "                  0.7958160042762756,\n",
      "                  0.7922008037567139,\n",
      "                  0.6506691575050354,\n",
      "                  0.6433809399604797,\n",
      "                  0.4648997485637665,\n",
      "                  0.4328538179397583,\n",
      "                  0.13455311954021454,\n",
      "                  0.1330871284008026,\n",
      "                  0.057326167821884155\n",
      "                ]\n",
      "              },\n",
      "              {\n",
      "                \"true_class\": \"No Risk\",\n",
      "                \"tpr\": [\n",
      "                  0,\n",
      "                  0.058823529411764705,\n",
      "                  0.23529411764705882,\n",
      "                  0.23529411764705882,\n",
      "                  0.5882352941176471,\n",
      "                  0.5882352941176471,\n",
      "                  0.7647058823529411,\n",
      "                  0.7647058823529411,\n",
      "                  0.8823529411764706,\n",
      "                  0.8823529411764706,\n",
      "                  1,\n",
      "                  1\n",
      "                ],\n",
      "                \"fpr\": [\n",
      "                  0,\n",
      "                  0,\n",
      "                  0,\n",
      "                  0.125,\n",
      "                  0.125,\n",
      "                  0.25,\n",
      "                  0.25,\n",
      "                  0.375,\n",
      "                  0.375,\n",
      "                  0.5,\n",
      "                  0.5,\n",
      "                  1\n",
      "                ],\n",
      "                \"thresholds\": [\n",
      "                  1,\n",
      "                  0.9426738619804382,\n",
      "                  0.8750686049461365,\n",
      "                  0.8669129014015198,\n",
      "                  0.568006694316864,\n",
      "                  0.5671461820602417,\n",
      "                  0.4318302571773529,\n",
      "                  0.35661906003952026,\n",
      "                  0.215621680021286,\n",
      "                  0.20779918134212494,\n",
      "                  0.20379875600337982,\n",
      "                  0.057830434292554855\n",
      "                ]\n",
      "              }\n",
      "            ]\n",
      "          },\n",
      "          \"features_importance\": [\n",
      "            {\n",
      "              \"stage\": \"Mean\",\n",
      "              \"computation_type\": \"\",\n",
      "              \"features\": {\n",
      "                \"Age\": 0.2788,\n",
      "                \"CheckingStatus\": 0.0462,\n",
      "                \"CreditHistory\": 0.0318,\n",
      "                \"CurrentResidenceDuration\": 0.0252,\n",
      "                \"Dependents\": 0.008,\n",
      "                \"EmploymentDuration\": 0.0165,\n",
      "                \"ExistingCreditsCount\": 0.0031,\n",
      "                \"ExistingSavings\": 0.0228,\n",
      "                \"ForeignWorker\": 0,\n",
      "                \"Housing\": 0.0047,\n",
      "                \"InstallmentPercent\": 0.0069,\n",
      "                \"InstallmentPlans\": 0.0028,\n",
      "                \"Job\": 0.009,\n",
      "                \"LoanAmount\": 0.2862,\n",
      "                \"LoanDuration\": 0.0696,\n",
      "                \"LoanPurpose\": 0.0916,\n",
      "                \"OthersOnLoan\": 0.0349,\n",
      "                \"OwnsProperty\": 0.0368,\n",
      "                \"Sex\": 0.0173,\n",
      "                \"Telephone\": 0.0077\n",
      "              }\n",
      "            }\n",
      "          ],\n",
      "          \"target_column\": \"Risk\",\n",
      "          \"incremental_training\": {},\n",
      "          \"prediction_type\": \"binary\"\n",
      "        }\n",
      "      }\n",
      "    ],\n",
      "    \"hybrid_pipeline_software_specs\": [\n",
      "      {\n",
      "        \"name\": \"autoai-kb_rt25.1-py3.12\"\n",
      "      }\n",
      "    ],\n",
      "    \"training_id\": \"f2a01a01-0f16-4e0d-9748-895e7b795c4a\",\n",
      "    \"data_preprocessing\": [\n",
      "      {\n",
      "        \"stage\": \"sampling\",\n",
      "        \"input\": {\n",
      "          \"rows\": 249,\n",
      "          \"columns\": 21\n",
      "        },\n",
      "        \"output\": {\n",
      "          \"rows\": 249,\n",
      "          \"columns\": 21\n",
      "        },\n",
      "        \"props\": {\n",
      "          \"type\": \"stratified\"\n",
      "        }\n",
      "      },\n",
      "      {\n",
      "        \"stage\": \"cleansing\",\n",
      "        \"input\": {\n",
      "          \"rows\": 249,\n",
      "          \"columns\": 21\n",
      "        },\n",
      "        \"output\": {\n",
      "          \"rows\": 249,\n",
      "          \"columns\": 21\n",
      "        },\n",
      "        \"props\": {\n",
      "          \"duplicated_rows_count\": 0\n",
      "        }\n",
      "      }\n",
      "    ],\n",
      "    \"content_import_state\": \"completed\"\n",
      "  }\n",
      "}\n"
     ]
    }
   ],
   "source": [
    "import json\n",
    "\n",
    "print(json.dumps(client.repository.create_model_revision(model_id), indent=2))"
   ]
  },
  {
   "cell_type": "markdown",
   "metadata": {
    "id": "a6b3ccc9-3f4b-4715-8cb1-e512334d794c"
   },
   "source": [
    "#### Update the model"
   ]
  },
  {
   "cell_type": "code",
   "execution_count": 34,
   "metadata": {
    "id": "9173f1b6-a75a-405c-a83b-afa841edc4a5"
   },
   "outputs": [],
   "source": [
    "metadata = {client.repository.ModelMetaNames.NAME: \"AutoAI credit-risk updated model\"}\n",
    "\n",
    "published_model = client.repository.update_model(\n",
    "    model_id=model_id, update_model=updated_model_path, updated_meta_props=metadata\n",
    ")"
   ]
  },
  {
   "cell_type": "markdown",
   "metadata": {
    "id": "cd8f89ca-c02b-40e1-9afc-0d93962b733b"
   },
   "source": [
    "#### Save new model revision of the updated model"
   ]
  },
  {
   "cell_type": "code",
   "execution_count": 35,
   "metadata": {
    "id": "cbf3e9d2-d6a8-48aa-b99e-5035f1364ee7"
   },
   "outputs": [
    {
     "name": "stdout",
     "output_type": "stream",
     "text": [
      "{\n",
      "  \"metadata\": {\n",
      "    \"name\": \"AutoAI credit-risk updated model\",\n",
      "    \"space_id\": \"9c4eb218-96e8-41e0-8cd5-f783504a11ea\",\n",
      "    \"resource_key\": \"73dd6496-5468-4080-ab0e-2f50aeb7cbe6\",\n",
      "    \"id\": \"b78e56d5-6a90-477b-8ab8-b58d5e5ce1ed\",\n",
      "    \"created_at\": \"2025-05-22T11:41:53Z\",\n",
      "    \"rev\": \"2\",\n",
      "    \"commit_info\": {\n",
      "      \"committed_at\": \"2025-05-22T11:44:04Z\"\n",
      "    },\n",
      "    \"rov\": {\n",
      "      \"member_roles\": {\n",
      "        \"1000331001\": {\n",
      "          \"user_iam_id\": \"1000331001\",\n",
      "          \"roles\": [\n",
      "            \"OWNER\"\n",
      "          ]\n",
      "        }\n",
      "      }\n",
      "    },\n",
      "    \"owner\": \"1000331001\"\n",
      "  },\n",
      "  \"entity\": {\n",
      "    \"pipeline\": {\n",
      "      \"id\": \"91cd7ec2-6bda-417e-82d1-ff8368b03952\"\n",
      "    },\n",
      "    \"software_spec\": {\n",
      "      \"id\": \"8c1a58c6-62b5-4dc4-987a-df751c2756b6\",\n",
      "      \"name\": \"hybrid_0.1\"\n",
      "    },\n",
      "    \"type\": \"wml-hybrid_0.1\",\n",
      "    \"training_data_references\": [\n",
      "      {\n",
      "        \"type\": \"data_asset\",\n",
      "        \"connection\": null,\n",
      "        \"location\": {\n",
      "          \"href\": \"/v2/assets/d414512e-a854-49c3-a8fc-cceff65dd884?space_id=9c4eb218-96e8-41e0-8cd5-f783504a11ea\",\n",
      "          \"id\": \"d414512e-a854-49c3-a8fc-cceff65dd884\",\n",
      "          \"space_id\": \"9c4eb218-96e8-41e0-8cd5-f783504a11ea\"\n",
      "        },\n",
      "        \"schema\": {\n",
      "          \"id\": \"auto_ai_kb_input_schema\",\n",
      "          \"fields\": [\n",
      "            {\n",
      "              \"name\": \"CheckingStatus\",\n",
      "              \"type\": \"other\",\n",
      "              \"nullable\": false\n",
      "            },\n",
      "            {\n",
      "              \"name\": \"LoanDuration\",\n",
      "              \"type\": \"double\",\n",
      "              \"nullable\": false\n",
      "            },\n",
      "            {\n",
      "              \"name\": \"CreditHistory\",\n",
      "              \"type\": \"other\",\n",
      "              \"nullable\": false\n",
      "            },\n",
      "            {\n",
      "              \"name\": \"LoanPurpose\",\n",
      "              \"type\": \"other\",\n",
      "              \"nullable\": false\n",
      "            },\n",
      "            {\n",
      "              \"name\": \"LoanAmount\",\n",
      "              \"type\": \"double\",\n",
      "              \"nullable\": false\n",
      "            },\n",
      "            {\n",
      "              \"name\": \"ExistingSavings\",\n",
      "              \"type\": \"other\",\n",
      "              \"nullable\": false\n",
      "            },\n",
      "            {\n",
      "              \"name\": \"EmploymentDuration\",\n",
      "              \"type\": \"other\",\n",
      "              \"nullable\": false\n",
      "            },\n",
      "            {\n",
      "              \"name\": \"InstallmentPercent\",\n",
      "              \"type\": \"double\",\n",
      "              \"nullable\": false\n",
      "            },\n",
      "            {\n",
      "              \"name\": \"Sex\",\n",
      "              \"type\": \"other\",\n",
      "              \"nullable\": false\n",
      "            },\n",
      "            {\n",
      "              \"name\": \"OthersOnLoan\",\n",
      "              \"type\": \"other\",\n",
      "              \"nullable\": false\n",
      "            },\n",
      "            {\n",
      "              \"name\": \"CurrentResidenceDuration\",\n",
      "              \"type\": \"double\",\n",
      "              \"nullable\": false\n",
      "            },\n",
      "            {\n",
      "              \"name\": \"OwnsProperty\",\n",
      "              \"type\": \"other\",\n",
      "              \"nullable\": false\n",
      "            },\n",
      "            {\n",
      "              \"name\": \"Age\",\n",
      "              \"type\": \"double\",\n",
      "              \"nullable\": false\n",
      "            },\n",
      "            {\n",
      "              \"name\": \"InstallmentPlans\",\n",
      "              \"type\": \"other\",\n",
      "              \"nullable\": false\n",
      "            },\n",
      "            {\n",
      "              \"name\": \"Housing\",\n",
      "              \"type\": \"other\",\n",
      "              \"nullable\": false\n",
      "            },\n",
      "            {\n",
      "              \"name\": \"ExistingCreditsCount\",\n",
      "              \"type\": \"double\",\n",
      "              \"nullable\": false\n",
      "            },\n",
      "            {\n",
      "              \"name\": \"Job\",\n",
      "              \"type\": \"other\",\n",
      "              \"nullable\": false\n",
      "            },\n",
      "            {\n",
      "              \"name\": \"Dependents\",\n",
      "              \"type\": \"double\",\n",
      "              \"nullable\": false\n",
      "            },\n",
      "            {\n",
      "              \"name\": \"Telephone\",\n",
      "              \"type\": \"other\",\n",
      "              \"nullable\": false\n",
      "            },\n",
      "            {\n",
      "              \"name\": \"ForeignWorker\",\n",
      "              \"type\": \"other\",\n",
      "              \"nullable\": false\n",
      "            },\n",
      "            {\n",
      "              \"name\": \"Risk\",\n",
      "              \"type\": \"other\",\n",
      "              \"nullable\": false\n",
      "            }\n",
      "          ]\n",
      "        }\n",
      "      }\n",
      "    ],\n",
      "    \"schemas\": {\n",
      "      \"input\": [\n",
      "        {\n",
      "          \"id\": \"auto_ai_kb_input_schema\",\n",
      "          \"fields\": [\n",
      "            {\n",
      "              \"name\": \"CheckingStatus\",\n",
      "              \"type\": \"other\",\n",
      "              \"nullable\": false\n",
      "            },\n",
      "            {\n",
      "              \"name\": \"LoanDuration\",\n",
      "              \"type\": \"double\",\n",
      "              \"nullable\": false\n",
      "            },\n",
      "            {\n",
      "              \"name\": \"CreditHistory\",\n",
      "              \"type\": \"other\",\n",
      "              \"nullable\": false\n",
      "            },\n",
      "            {\n",
      "              \"name\": \"LoanPurpose\",\n",
      "              \"type\": \"other\",\n",
      "              \"nullable\": false\n",
      "            },\n",
      "            {\n",
      "              \"name\": \"LoanAmount\",\n",
      "              \"type\": \"double\",\n",
      "              \"nullable\": false\n",
      "            },\n",
      "            {\n",
      "              \"name\": \"ExistingSavings\",\n",
      "              \"type\": \"other\",\n",
      "              \"nullable\": false\n",
      "            },\n",
      "            {\n",
      "              \"name\": \"EmploymentDuration\",\n",
      "              \"type\": \"other\",\n",
      "              \"nullable\": false\n",
      "            },\n",
      "            {\n",
      "              \"name\": \"InstallmentPercent\",\n",
      "              \"type\": \"double\",\n",
      "              \"nullable\": false\n",
      "            },\n",
      "            {\n",
      "              \"name\": \"Sex\",\n",
      "              \"type\": \"other\",\n",
      "              \"nullable\": false\n",
      "            },\n",
      "            {\n",
      "              \"name\": \"OthersOnLoan\",\n",
      "              \"type\": \"other\",\n",
      "              \"nullable\": false\n",
      "            },\n",
      "            {\n",
      "              \"name\": \"CurrentResidenceDuration\",\n",
      "              \"type\": \"double\",\n",
      "              \"nullable\": false\n",
      "            },\n",
      "            {\n",
      "              \"name\": \"OwnsProperty\",\n",
      "              \"type\": \"other\",\n",
      "              \"nullable\": false\n",
      "            },\n",
      "            {\n",
      "              \"name\": \"Age\",\n",
      "              \"type\": \"double\",\n",
      "              \"nullable\": false\n",
      "            },\n",
      "            {\n",
      "              \"name\": \"InstallmentPlans\",\n",
      "              \"type\": \"other\",\n",
      "              \"nullable\": false\n",
      "            },\n",
      "            {\n",
      "              \"name\": \"Housing\",\n",
      "              \"type\": \"other\",\n",
      "              \"nullable\": false\n",
      "            },\n",
      "            {\n",
      "              \"name\": \"ExistingCreditsCount\",\n",
      "              \"type\": \"double\",\n",
      "              \"nullable\": false\n",
      "            },\n",
      "            {\n",
      "              \"name\": \"Job\",\n",
      "              \"type\": \"other\",\n",
      "              \"nullable\": false\n",
      "            },\n",
      "            {\n",
      "              \"name\": \"Dependents\",\n",
      "              \"type\": \"double\",\n",
      "              \"nullable\": false\n",
      "            },\n",
      "            {\n",
      "              \"name\": \"Telephone\",\n",
      "              \"type\": \"other\",\n",
      "              \"nullable\": false\n",
      "            },\n",
      "            {\n",
      "              \"name\": \"ForeignWorker\",\n",
      "              \"type\": \"other\",\n",
      "              \"nullable\": false\n",
      "            }\n",
      "          ]\n",
      "        }\n",
      "      ],\n",
      "      \"output\": []\n",
      "    },\n",
      "    \"label_column\": \"Risk\",\n",
      "    \"metrics\": [\n",
      "      {\n",
      "        \"timestamp\": \"2025-05-22T11:40:28Z\",\n",
      "        \"ml_metrics\": {\n",
      "          \"holdout_accuracy\": 0.72,\n",
      "          \"holdout_average_precision\": 0.5175996610541083,\n",
      "          \"holdout_balanced_accuracy\": 0.7610294117647058,\n",
      "          \"holdout_f1\": 0.7586206896551724,\n",
      "          \"holdout_neg_log_loss\": -0.5151502877721112,\n",
      "          \"holdout_precision\": 0.9166666666666666,\n",
      "          \"holdout_recall\": 0.6470588235294118,\n",
      "          \"holdout_roc_auc\": 0.8088235294117647,\n",
      "          \"training_accuracy\": 0.7187987987987988,\n",
      "          \"training_average_precision\": 0.9205829210523921,\n",
      "          \"training_balanced_accuracy\": 0.752635046113307,\n",
      "          \"training_f1\": 0.7674399674399673,\n",
      "          \"training_neg_log_loss\": -0.5532545596504036,\n",
      "          \"training_precision\": 0.9041835357624831,\n",
      "          \"training_recall\": 0.6666666666666666,\n",
      "          \"training_roc_auc\": 0.8273031316509577\n",
      "        },\n",
      "        \"context\": {\n",
      "          \"intermediate_model\": {\n",
      "            \"name\": \"P1\",\n",
      "            \"process\": \"pre_hpo_d_output\",\n",
      "            \"location\": {\n",
      "              \"pipeline\": \"/spaces/9c4eb218-96e8-41e0-8cd5-f783504a11ea/assets/auto_ml/auto_ml.0627b7f6-8708-4c13-b0c9-5d91455561d9/wml_data/f2a01a01-0f16-4e0d-9748-895e7b795c4a/data/automl/pre_hpo_d_output/Pipeline1/pipeline.json\",\n",
      "              \"pipeline_model\": \"/spaces/9c4eb218-96e8-41e0-8cd5-f783504a11ea/assets/auto_ml/auto_ml.0627b7f6-8708-4c13-b0c9-5d91455561d9/wml_data/f2a01a01-0f16-4e0d-9748-895e7b795c4a/data/automl/pre_hpo_d_output/Pipeline1/pipeline-model.json\",\n",
      "              \"model\": \"/spaces/9c4eb218-96e8-41e0-8cd5-f783504a11ea/assets/auto_ml/auto_ml.0627b7f6-8708-4c13-b0c9-5d91455561d9/wml_data/f2a01a01-0f16-4e0d-9748-895e7b795c4a/data/automl/pre_hpo_d_output/Pipeline1/model.pickle\"\n",
      "            },\n",
      "            \"schema_location\": \"/spaces/9c4eb218-96e8-41e0-8cd5-f783504a11ea/assets/auto_ml/auto_ml.0627b7f6-8708-4c13-b0c9-5d91455561d9/wml_data/f2a01a01-0f16-4e0d-9748-895e7b795c4a/data/automl/pre_hpo_d_output/Pipeline1/schema.json\",\n",
      "            \"notebook_location\": \"/spaces/9c4eb218-96e8-41e0-8cd5-f783504a11ea/assets/auto_ml/auto_ml.0627b7f6-8708-4c13-b0c9-5d91455561d9/wml_data/f2a01a01-0f16-4e0d-9748-895e7b795c4a/data/automl/pre_hpo_d_output/Pipeline1/notebook.ipynb\",\n",
      "            \"pipeline_nodes\": [\n",
      "              \"PreprocessingTransformer\",\n",
      "              \"SnapLogisticRegression\"\n",
      "            ],\n",
      "            \"composition_steps\": [\n",
      "              \"Split_TrainingHoldout\",\n",
      "              \"TrainingDataset_full_224_20\",\n",
      "              \"Datetime_FE\",\n",
      "              \"TrainingDataset_full_224_20\",\n",
      "              \"Preprocessor_default\",\n",
      "              \"DAUB\"\n",
      "            ],\n",
      "            \"duration\": 418\n",
      "          },\n",
      "          \"phase\": \"pre_hpo_d_output\",\n",
      "          \"classes\": [\n",
      "            \"Risk\",\n",
      "            \"No Risk\"\n",
      "          ],\n",
      "          \"binary_classification\": {\n",
      "            \"confusion_matrix\": [\n",
      "              {\n",
      "                \"true_class\": \"Risk\",\n",
      "                \"tp\": 7,\n",
      "                \"tn\": 11,\n",
      "                \"fp\": 6,\n",
      "                \"fn\": 1\n",
      "              },\n",
      "              {\n",
      "                \"true_class\": \"No Risk\",\n",
      "                \"tp\": 11,\n",
      "                \"tn\": 7,\n",
      "                \"fp\": 1,\n",
      "                \"fn\": 6\n",
      "              }\n",
      "            ],\n",
      "            \"roc_curve\": [\n",
      "              {\n",
      "                \"true_class\": \"Risk\",\n",
      "                \"tpr\": [\n",
      "                  0,\n",
      "                  0.125,\n",
      "                  0.5,\n",
      "                  0.5,\n",
      "                  0.625,\n",
      "                  0.625,\n",
      "                  0.75,\n",
      "                  0.75,\n",
      "                  0.875,\n",
      "                  0.875,\n",
      "                  1,\n",
      "                  1\n",
      "                ],\n",
      "                \"fpr\": [\n",
      "                  0,\n",
      "                  0,\n",
      "                  0,\n",
      "                  0.11764705882352941,\n",
      "                  0.11764705882352941,\n",
      "                  0.23529411764705882,\n",
      "                  0.23529411764705882,\n",
      "                  0.4117647058823529,\n",
      "                  0.4117647058823529,\n",
      "                  0.7647058823529411,\n",
      "                  0.7647058823529411,\n",
      "                  1\n",
      "                ],\n",
      "                \"thresholds\": [\n",
      "                  1,\n",
      "                  0.9421695470809937,\n",
      "                  0.856395423412323,\n",
      "                  0.7958160042762756,\n",
      "                  0.7922008037567139,\n",
      "                  0.6506691575050354,\n",
      "                  0.6433809399604797,\n",
      "                  0.4648997485637665,\n",
      "                  0.4328538179397583,\n",
      "                  0.13455311954021454,\n",
      "                  0.1330871284008026,\n",
      "                  0.057326167821884155\n",
      "                ]\n",
      "              },\n",
      "              {\n",
      "                \"true_class\": \"No Risk\",\n",
      "                \"tpr\": [\n",
      "                  0,\n",
      "                  0.058823529411764705,\n",
      "                  0.23529411764705882,\n",
      "                  0.23529411764705882,\n",
      "                  0.5882352941176471,\n",
      "                  0.5882352941176471,\n",
      "                  0.7647058823529411,\n",
      "                  0.7647058823529411,\n",
      "                  0.8823529411764706,\n",
      "                  0.8823529411764706,\n",
      "                  1,\n",
      "                  1\n",
      "                ],\n",
      "                \"fpr\": [\n",
      "                  0,\n",
      "                  0,\n",
      "                  0,\n",
      "                  0.125,\n",
      "                  0.125,\n",
      "                  0.25,\n",
      "                  0.25,\n",
      "                  0.375,\n",
      "                  0.375,\n",
      "                  0.5,\n",
      "                  0.5,\n",
      "                  1\n",
      "                ],\n",
      "                \"thresholds\": [\n",
      "                  1,\n",
      "                  0.9426738619804382,\n",
      "                  0.8750686049461365,\n",
      "                  0.8669129014015198,\n",
      "                  0.568006694316864,\n",
      "                  0.5671461820602417,\n",
      "                  0.4318302571773529,\n",
      "                  0.35661906003952026,\n",
      "                  0.215621680021286,\n",
      "                  0.20779918134212494,\n",
      "                  0.20379875600337982,\n",
      "                  0.057830434292554855\n",
      "                ]\n",
      "              }\n",
      "            ]\n",
      "          },\n",
      "          \"features_importance\": [\n",
      "            {\n",
      "              \"stage\": \"Mean\",\n",
      "              \"computation_type\": \"\",\n",
      "              \"features\": {\n",
      "                \"Age\": 0.2788,\n",
      "                \"CheckingStatus\": 0.0462,\n",
      "                \"CreditHistory\": 0.0318,\n",
      "                \"CurrentResidenceDuration\": 0.0252,\n",
      "                \"Dependents\": 0.008,\n",
      "                \"EmploymentDuration\": 0.0165,\n",
      "                \"ExistingCreditsCount\": 0.0031,\n",
      "                \"ExistingSavings\": 0.0228,\n",
      "                \"ForeignWorker\": 0,\n",
      "                \"Housing\": 0.0047,\n",
      "                \"InstallmentPercent\": 0.0069,\n",
      "                \"InstallmentPlans\": 0.0028,\n",
      "                \"Job\": 0.009,\n",
      "                \"LoanAmount\": 0.2862,\n",
      "                \"LoanDuration\": 0.0696,\n",
      "                \"LoanPurpose\": 0.0916,\n",
      "                \"OthersOnLoan\": 0.0349,\n",
      "                \"OwnsProperty\": 0.0368,\n",
      "                \"Sex\": 0.0173,\n",
      "                \"Telephone\": 0.0077\n",
      "              }\n",
      "            }\n",
      "          ],\n",
      "          \"target_column\": \"Risk\",\n",
      "          \"incremental_training\": {},\n",
      "          \"prediction_type\": \"binary\"\n",
      "        }\n",
      "      }\n",
      "    ],\n",
      "    \"hybrid_pipeline_software_specs\": [\n",
      "      {\n",
      "        \"name\": \"autoai-kb_rt25.1-py3.12\"\n",
      "      }\n",
      "    ],\n",
      "    \"training_id\": \"f2a01a01-0f16-4e0d-9748-895e7b795c4a\",\n",
      "    \"data_preprocessing\": [\n",
      "      {\n",
      "        \"stage\": \"sampling\",\n",
      "        \"input\": {\n",
      "          \"rows\": 249,\n",
      "          \"columns\": 21\n",
      "        },\n",
      "        \"output\": {\n",
      "          \"rows\": 249,\n",
      "          \"columns\": 21\n",
      "        },\n",
      "        \"props\": {\n",
      "          \"type\": \"stratified\"\n",
      "        }\n",
      "      },\n",
      "      {\n",
      "        \"stage\": \"cleansing\",\n",
      "        \"input\": {\n",
      "          \"rows\": 249,\n",
      "          \"columns\": 21\n",
      "        },\n",
      "        \"output\": {\n",
      "          \"rows\": 249,\n",
      "          \"columns\": 21\n",
      "        },\n",
      "        \"props\": {\n",
      "          \"duplicated_rows_count\": 0\n",
      "        }\n",
      "      }\n",
      "    ],\n",
      "    \"content_import_state\": \"completed\"\n",
      "  }\n",
      "}\n"
     ]
    }
   ],
   "source": [
    "new_model_revision = client.repository.create_model_revision(model_id)\n",
    "print(json.dumps(new_model_revision, indent=2))"
   ]
  },
  {
   "cell_type": "markdown",
   "metadata": {
    "id": "9f82cb85-b7bb-451f-9f73-a64fcff9d571"
   },
   "source": [
    "**Note:** Model revisions can be identified by model `id` and `rev` number. \n",
    "\n",
    "Get model `rev` number from creation details:"
   ]
  },
  {
   "cell_type": "code",
   "execution_count": 36,
   "metadata": {
    "id": "7f1567c0-b4e2-49b6-8fd5-abd38529d204",
    "tags": []
   },
   "outputs": [],
   "source": [
    "rev_id = new_model_revision[\"metadata\"].get(\"rev\")"
   ]
  },
  {
   "cell_type": "markdown",
   "metadata": {
    "id": "5c66318d-38a4-4ad5-bbb1-bdced5193040"
   },
   "source": [
    "#### List list existing revisions of the model"
   ]
  },
  {
   "cell_type": "code",
   "execution_count": 37,
   "metadata": {
    "id": "7330de25-5b5b-4d41-8085-242419ea3c27"
   },
   "outputs": [
    {
     "data": {
      "text/html": [
       "<div>\n",
       "<style scoped>\n",
       "    .dataframe tbody tr th:only-of-type {\n",
       "        vertical-align: middle;\n",
       "    }\n",
       "\n",
       "    .dataframe tbody tr th {\n",
       "        vertical-align: top;\n",
       "    }\n",
       "\n",
       "    .dataframe thead th {\n",
       "        text-align: right;\n",
       "    }\n",
       "</style>\n",
       "<table border=\"1\" class=\"dataframe\">\n",
       "  <thead>\n",
       "    <tr style=\"text-align: right;\">\n",
       "      <th></th>\n",
       "      <th>REV</th>\n",
       "      <th>NAME</th>\n",
       "      <th>CREATED</th>\n",
       "    </tr>\n",
       "  </thead>\n",
       "  <tbody>\n",
       "    <tr>\n",
       "      <th>0</th>\n",
       "      <td>2</td>\n",
       "      <td>AutoAI credit-risk updated model</td>\n",
       "      <td>2025-05-22T11:41:53Z</td>\n",
       "    </tr>\n",
       "    <tr>\n",
       "      <th>1</th>\n",
       "      <td>1</td>\n",
       "      <td>P1</td>\n",
       "      <td>2025-05-22T11:41:53Z</td>\n",
       "    </tr>\n",
       "  </tbody>\n",
       "</table>\n",
       "</div>"
      ],
      "text/plain": [
       "  REV                              NAME               CREATED\n",
       "0   2  AutoAI credit-risk updated model  2025-05-22T11:41:53Z\n",
       "1   1                                P1  2025-05-22T11:41:53Z"
      ]
     },
     "execution_count": 37,
     "metadata": {},
     "output_type": "execute_result"
    }
   ],
   "source": [
    "client.repository.list_models_revisions(model_id)"
   ]
  },
  {
   "cell_type": "markdown",
   "metadata": {
    "id": "f4e9ab8a-00fe-45d4-87db-e044f8d1ecbd"
   },
   "source": [
    "#### Get details of updated model"
   ]
  },
  {
   "cell_type": "code",
   "execution_count": 38,
   "metadata": {
    "id": "387803e4-5520-4560-9662-55a7446f23a1"
   },
   "outputs": [
    {
     "name": "stdout",
     "output_type": "stream",
     "text": [
      "{\n",
      "  \"metadata\": {\n",
      "    \"name\": \"AutoAI credit-risk updated model\",\n",
      "    \"space_id\": \"9c4eb218-96e8-41e0-8cd5-f783504a11ea\",\n",
      "    \"resource_key\": \"73dd6496-5468-4080-ab0e-2f50aeb7cbe6\",\n",
      "    \"id\": \"b78e56d5-6a90-477b-8ab8-b58d5e5ce1ed\",\n",
      "    \"created_at\": \"2025-05-22T11:41:53Z\",\n",
      "    \"commit_info\": {\n",
      "      \"committed_at\": \"2025-05-22T11:41:53Z\"\n",
      "    },\n",
      "    \"rov\": {\n",
      "      \"member_roles\": {\n",
      "        \"1000331001\": {\n",
      "          \"user_iam_id\": \"1000331001\",\n",
      "          \"roles\": [\n",
      "            \"OWNER\"\n",
      "          ]\n",
      "        }\n",
      "      }\n",
      "    },\n",
      "    \"owner\": \"1000331001\"\n",
      "  },\n",
      "  \"entity\": {\n",
      "    \"pipeline\": {\n",
      "      \"id\": \"91cd7ec2-6bda-417e-82d1-ff8368b03952\"\n",
      "    },\n",
      "    \"software_spec\": {\n",
      "      \"id\": \"8c1a58c6-62b5-4dc4-987a-df751c2756b6\",\n",
      "      \"name\": \"hybrid_0.1\"\n",
      "    },\n",
      "    \"type\": \"wml-hybrid_0.1\",\n",
      "    \"training_data_references\": [\n",
      "      {\n",
      "        \"type\": \"data_asset\",\n",
      "        \"connection\": null,\n",
      "        \"location\": {\n",
      "          \"href\": \"/v2/assets/d414512e-a854-49c3-a8fc-cceff65dd884?space_id=9c4eb218-96e8-41e0-8cd5-f783504a11ea\",\n",
      "          \"id\": \"d414512e-a854-49c3-a8fc-cceff65dd884\",\n",
      "          \"space_id\": \"9c4eb218-96e8-41e0-8cd5-f783504a11ea\"\n",
      "        },\n",
      "        \"schema\": {\n",
      "          \"id\": \"auto_ai_kb_input_schema\",\n",
      "          \"fields\": [\n",
      "            {\n",
      "              \"name\": \"CheckingStatus\",\n",
      "              \"type\": \"other\",\n",
      "              \"nullable\": false\n",
      "            },\n",
      "            {\n",
      "              \"name\": \"LoanDuration\",\n",
      "              \"type\": \"double\",\n",
      "              \"nullable\": false\n",
      "            },\n",
      "            {\n",
      "              \"name\": \"CreditHistory\",\n",
      "              \"type\": \"other\",\n",
      "              \"nullable\": false\n",
      "            },\n",
      "            {\n",
      "              \"name\": \"LoanPurpose\",\n",
      "              \"type\": \"other\",\n",
      "              \"nullable\": false\n",
      "            },\n",
      "            {\n",
      "              \"name\": \"LoanAmount\",\n",
      "              \"type\": \"double\",\n",
      "              \"nullable\": false\n",
      "            },\n",
      "            {\n",
      "              \"name\": \"ExistingSavings\",\n",
      "              \"type\": \"other\",\n",
      "              \"nullable\": false\n",
      "            },\n",
      "            {\n",
      "              \"name\": \"EmploymentDuration\",\n",
      "              \"type\": \"other\",\n",
      "              \"nullable\": false\n",
      "            },\n",
      "            {\n",
      "              \"name\": \"InstallmentPercent\",\n",
      "              \"type\": \"double\",\n",
      "              \"nullable\": false\n",
      "            },\n",
      "            {\n",
      "              \"name\": \"Sex\",\n",
      "              \"type\": \"other\",\n",
      "              \"nullable\": false\n",
      "            },\n",
      "            {\n",
      "              \"name\": \"OthersOnLoan\",\n",
      "              \"type\": \"other\",\n",
      "              \"nullable\": false\n",
      "            },\n",
      "            {\n",
      "              \"name\": \"CurrentResidenceDuration\",\n",
      "              \"type\": \"double\",\n",
      "              \"nullable\": false\n",
      "            },\n",
      "            {\n",
      "              \"name\": \"OwnsProperty\",\n",
      "              \"type\": \"other\",\n",
      "              \"nullable\": false\n",
      "            },\n",
      "            {\n",
      "              \"name\": \"Age\",\n",
      "              \"type\": \"double\",\n",
      "              \"nullable\": false\n",
      "            },\n",
      "            {\n",
      "              \"name\": \"InstallmentPlans\",\n",
      "              \"type\": \"other\",\n",
      "              \"nullable\": false\n",
      "            },\n",
      "            {\n",
      "              \"name\": \"Housing\",\n",
      "              \"type\": \"other\",\n",
      "              \"nullable\": false\n",
      "            },\n",
      "            {\n",
      "              \"name\": \"ExistingCreditsCount\",\n",
      "              \"type\": \"double\",\n",
      "              \"nullable\": false\n",
      "            },\n",
      "            {\n",
      "              \"name\": \"Job\",\n",
      "              \"type\": \"other\",\n",
      "              \"nullable\": false\n",
      "            },\n",
      "            {\n",
      "              \"name\": \"Dependents\",\n",
      "              \"type\": \"double\",\n",
      "              \"nullable\": false\n",
      "            },\n",
      "            {\n",
      "              \"name\": \"Telephone\",\n",
      "              \"type\": \"other\",\n",
      "              \"nullable\": false\n",
      "            },\n",
      "            {\n",
      "              \"name\": \"ForeignWorker\",\n",
      "              \"type\": \"other\",\n",
      "              \"nullable\": false\n",
      "            },\n",
      "            {\n",
      "              \"name\": \"Risk\",\n",
      "              \"type\": \"other\",\n",
      "              \"nullable\": false\n",
      "            }\n",
      "          ]\n",
      "        }\n",
      "      }\n",
      "    ],\n",
      "    \"schemas\": {\n",
      "      \"input\": [\n",
      "        {\n",
      "          \"id\": \"auto_ai_kb_input_schema\",\n",
      "          \"fields\": [\n",
      "            {\n",
      "              \"name\": \"CheckingStatus\",\n",
      "              \"type\": \"other\",\n",
      "              \"nullable\": false\n",
      "            },\n",
      "            {\n",
      "              \"name\": \"LoanDuration\",\n",
      "              \"type\": \"double\",\n",
      "              \"nullable\": false\n",
      "            },\n",
      "            {\n",
      "              \"name\": \"CreditHistory\",\n",
      "              \"type\": \"other\",\n",
      "              \"nullable\": false\n",
      "            },\n",
      "            {\n",
      "              \"name\": \"LoanPurpose\",\n",
      "              \"type\": \"other\",\n",
      "              \"nullable\": false\n",
      "            },\n",
      "            {\n",
      "              \"name\": \"LoanAmount\",\n",
      "              \"type\": \"double\",\n",
      "              \"nullable\": false\n",
      "            },\n",
      "            {\n",
      "              \"name\": \"ExistingSavings\",\n",
      "              \"type\": \"other\",\n",
      "              \"nullable\": false\n",
      "            },\n",
      "            {\n",
      "              \"name\": \"EmploymentDuration\",\n",
      "              \"type\": \"other\",\n",
      "              \"nullable\": false\n",
      "            },\n",
      "            {\n",
      "              \"name\": \"InstallmentPercent\",\n",
      "              \"type\": \"double\",\n",
      "              \"nullable\": false\n",
      "            },\n",
      "            {\n",
      "              \"name\": \"Sex\",\n",
      "              \"type\": \"other\",\n",
      "              \"nullable\": false\n",
      "            },\n",
      "            {\n",
      "              \"name\": \"OthersOnLoan\",\n",
      "              \"type\": \"other\",\n",
      "              \"nullable\": false\n",
      "            },\n",
      "            {\n",
      "              \"name\": \"CurrentResidenceDuration\",\n",
      "              \"type\": \"double\",\n",
      "              \"nullable\": false\n",
      "            },\n",
      "            {\n",
      "              \"name\": \"OwnsProperty\",\n",
      "              \"type\": \"other\",\n",
      "              \"nullable\": false\n",
      "            },\n",
      "            {\n",
      "              \"name\": \"Age\",\n",
      "              \"type\": \"double\",\n",
      "              \"nullable\": false\n",
      "            },\n",
      "            {\n",
      "              \"name\": \"InstallmentPlans\",\n",
      "              \"type\": \"other\",\n",
      "              \"nullable\": false\n",
      "            },\n",
      "            {\n",
      "              \"name\": \"Housing\",\n",
      "              \"type\": \"other\",\n",
      "              \"nullable\": false\n",
      "            },\n",
      "            {\n",
      "              \"name\": \"ExistingCreditsCount\",\n",
      "              \"type\": \"double\",\n",
      "              \"nullable\": false\n",
      "            },\n",
      "            {\n",
      "              \"name\": \"Job\",\n",
      "              \"type\": \"other\",\n",
      "              \"nullable\": false\n",
      "            },\n",
      "            {\n",
      "              \"name\": \"Dependents\",\n",
      "              \"type\": \"double\",\n",
      "              \"nullable\": false\n",
      "            },\n",
      "            {\n",
      "              \"name\": \"Telephone\",\n",
      "              \"type\": \"other\",\n",
      "              \"nullable\": false\n",
      "            },\n",
      "            {\n",
      "              \"name\": \"ForeignWorker\",\n",
      "              \"type\": \"other\",\n",
      "              \"nullable\": false\n",
      "            }\n",
      "          ]\n",
      "        }\n",
      "      ],\n",
      "      \"output\": []\n",
      "    },\n",
      "    \"label_column\": \"Risk\",\n",
      "    \"metrics\": [\n",
      "      {\n",
      "        \"timestamp\": \"2025-05-22T11:40:28Z\",\n",
      "        \"ml_metrics\": {\n",
      "          \"holdout_accuracy\": 0.72,\n",
      "          \"holdout_average_precision\": 0.5175996610541083,\n",
      "          \"holdout_balanced_accuracy\": 0.7610294117647058,\n",
      "          \"holdout_f1\": 0.7586206896551724,\n",
      "          \"holdout_neg_log_loss\": -0.5151502877721112,\n",
      "          \"holdout_precision\": 0.9166666666666666,\n",
      "          \"holdout_recall\": 0.6470588235294118,\n",
      "          \"holdout_roc_auc\": 0.8088235294117647,\n",
      "          \"training_accuracy\": 0.7187987987987988,\n",
      "          \"training_average_precision\": 0.9205829210523921,\n",
      "          \"training_balanced_accuracy\": 0.752635046113307,\n",
      "          \"training_f1\": 0.7674399674399673,\n",
      "          \"training_neg_log_loss\": -0.5532545596504036,\n",
      "          \"training_precision\": 0.9041835357624831,\n",
      "          \"training_recall\": 0.6666666666666666,\n",
      "          \"training_roc_auc\": 0.8273031316509577\n",
      "        },\n",
      "        \"context\": {\n",
      "          \"intermediate_model\": {\n",
      "            \"name\": \"P1\",\n",
      "            \"process\": \"pre_hpo_d_output\",\n",
      "            \"location\": {\n",
      "              \"pipeline\": \"/spaces/9c4eb218-96e8-41e0-8cd5-f783504a11ea/assets/auto_ml/auto_ml.0627b7f6-8708-4c13-b0c9-5d91455561d9/wml_data/f2a01a01-0f16-4e0d-9748-895e7b795c4a/data/automl/pre_hpo_d_output/Pipeline1/pipeline.json\",\n",
      "              \"pipeline_model\": \"/spaces/9c4eb218-96e8-41e0-8cd5-f783504a11ea/assets/auto_ml/auto_ml.0627b7f6-8708-4c13-b0c9-5d91455561d9/wml_data/f2a01a01-0f16-4e0d-9748-895e7b795c4a/data/automl/pre_hpo_d_output/Pipeline1/pipeline-model.json\",\n",
      "              \"model\": \"/spaces/9c4eb218-96e8-41e0-8cd5-f783504a11ea/assets/auto_ml/auto_ml.0627b7f6-8708-4c13-b0c9-5d91455561d9/wml_data/f2a01a01-0f16-4e0d-9748-895e7b795c4a/data/automl/pre_hpo_d_output/Pipeline1/model.pickle\"\n",
      "            },\n",
      "            \"schema_location\": \"/spaces/9c4eb218-96e8-41e0-8cd5-f783504a11ea/assets/auto_ml/auto_ml.0627b7f6-8708-4c13-b0c9-5d91455561d9/wml_data/f2a01a01-0f16-4e0d-9748-895e7b795c4a/data/automl/pre_hpo_d_output/Pipeline1/schema.json\",\n",
      "            \"notebook_location\": \"/spaces/9c4eb218-96e8-41e0-8cd5-f783504a11ea/assets/auto_ml/auto_ml.0627b7f6-8708-4c13-b0c9-5d91455561d9/wml_data/f2a01a01-0f16-4e0d-9748-895e7b795c4a/data/automl/pre_hpo_d_output/Pipeline1/notebook.ipynb\",\n",
      "            \"pipeline_nodes\": [\n",
      "              \"PreprocessingTransformer\",\n",
      "              \"SnapLogisticRegression\"\n",
      "            ],\n",
      "            \"composition_steps\": [\n",
      "              \"Split_TrainingHoldout\",\n",
      "              \"TrainingDataset_full_224_20\",\n",
      "              \"Datetime_FE\",\n",
      "              \"TrainingDataset_full_224_20\",\n",
      "              \"Preprocessor_default\",\n",
      "              \"DAUB\"\n",
      "            ],\n",
      "            \"duration\": 418\n",
      "          },\n",
      "          \"phase\": \"pre_hpo_d_output\",\n",
      "          \"classes\": [\n",
      "            \"Risk\",\n",
      "            \"No Risk\"\n",
      "          ],\n",
      "          \"binary_classification\": {\n",
      "            \"confusion_matrix\": [\n",
      "              {\n",
      "                \"true_class\": \"Risk\",\n",
      "                \"tp\": 7,\n",
      "                \"tn\": 11,\n",
      "                \"fp\": 6,\n",
      "                \"fn\": 1\n",
      "              },\n",
      "              {\n",
      "                \"true_class\": \"No Risk\",\n",
      "                \"tp\": 11,\n",
      "                \"tn\": 7,\n",
      "                \"fp\": 1,\n",
      "                \"fn\": 6\n",
      "              }\n",
      "            ],\n",
      "            \"roc_curve\": [\n",
      "              {\n",
      "                \"true_class\": \"Risk\",\n",
      "                \"tpr\": [\n",
      "                  0,\n",
      "                  0.125,\n",
      "                  0.5,\n",
      "                  0.5,\n",
      "                  0.625,\n",
      "                  0.625,\n",
      "                  0.75,\n",
      "                  0.75,\n",
      "                  0.875,\n",
      "                  0.875,\n",
      "                  1,\n",
      "                  1\n",
      "                ],\n",
      "                \"fpr\": [\n",
      "                  0,\n",
      "                  0,\n",
      "                  0,\n",
      "                  0.11764705882352941,\n",
      "                  0.11764705882352941,\n",
      "                  0.23529411764705882,\n",
      "                  0.23529411764705882,\n",
      "                  0.4117647058823529,\n",
      "                  0.4117647058823529,\n",
      "                  0.7647058823529411,\n",
      "                  0.7647058823529411,\n",
      "                  1\n",
      "                ],\n",
      "                \"thresholds\": [\n",
      "                  1,\n",
      "                  0.9421695470809937,\n",
      "                  0.856395423412323,\n",
      "                  0.7958160042762756,\n",
      "                  0.7922008037567139,\n",
      "                  0.6506691575050354,\n",
      "                  0.6433809399604797,\n",
      "                  0.4648997485637665,\n",
      "                  0.4328538179397583,\n",
      "                  0.13455311954021454,\n",
      "                  0.1330871284008026,\n",
      "                  0.057326167821884155\n",
      "                ]\n",
      "              },\n",
      "              {\n",
      "                \"true_class\": \"No Risk\",\n",
      "                \"tpr\": [\n",
      "                  0,\n",
      "                  0.058823529411764705,\n",
      "                  0.23529411764705882,\n",
      "                  0.23529411764705882,\n",
      "                  0.5882352941176471,\n",
      "                  0.5882352941176471,\n",
      "                  0.7647058823529411,\n",
      "                  0.7647058823529411,\n",
      "                  0.8823529411764706,\n",
      "                  0.8823529411764706,\n",
      "                  1,\n",
      "                  1\n",
      "                ],\n",
      "                \"fpr\": [\n",
      "                  0,\n",
      "                  0,\n",
      "                  0,\n",
      "                  0.125,\n",
      "                  0.125,\n",
      "                  0.25,\n",
      "                  0.25,\n",
      "                  0.375,\n",
      "                  0.375,\n",
      "                  0.5,\n",
      "                  0.5,\n",
      "                  1\n",
      "                ],\n",
      "                \"thresholds\": [\n",
      "                  1,\n",
      "                  0.9426738619804382,\n",
      "                  0.8750686049461365,\n",
      "                  0.8669129014015198,\n",
      "                  0.568006694316864,\n",
      "                  0.5671461820602417,\n",
      "                  0.4318302571773529,\n",
      "                  0.35661906003952026,\n",
      "                  0.215621680021286,\n",
      "                  0.20779918134212494,\n",
      "                  0.20379875600337982,\n",
      "                  0.057830434292554855\n",
      "                ]\n",
      "              }\n",
      "            ]\n",
      "          },\n",
      "          \"features_importance\": [\n",
      "            {\n",
      "              \"stage\": \"Mean\",\n",
      "              \"computation_type\": \"\",\n",
      "              \"features\": {\n",
      "                \"Age\": 0.2788,\n",
      "                \"CheckingStatus\": 0.0462,\n",
      "                \"CreditHistory\": 0.0318,\n",
      "                \"CurrentResidenceDuration\": 0.0252,\n",
      "                \"Dependents\": 0.008,\n",
      "                \"EmploymentDuration\": 0.0165,\n",
      "                \"ExistingCreditsCount\": 0.0031,\n",
      "                \"ExistingSavings\": 0.0228,\n",
      "                \"ForeignWorker\": 0,\n",
      "                \"Housing\": 0.0047,\n",
      "                \"InstallmentPercent\": 0.0069,\n",
      "                \"InstallmentPlans\": 0.0028,\n",
      "                \"Job\": 0.009,\n",
      "                \"LoanAmount\": 0.2862,\n",
      "                \"LoanDuration\": 0.0696,\n",
      "                \"LoanPurpose\": 0.0916,\n",
      "                \"OthersOnLoan\": 0.0349,\n",
      "                \"OwnsProperty\": 0.0368,\n",
      "                \"Sex\": 0.0173,\n",
      "                \"Telephone\": 0.0077\n",
      "              }\n",
      "            }\n",
      "          ],\n",
      "          \"target_column\": \"Risk\",\n",
      "          \"incremental_training\": {},\n",
      "          \"prediction_type\": \"binary\"\n",
      "        }\n",
      "      }\n",
      "    ],\n",
      "    \"hybrid_pipeline_software_specs\": [\n",
      "      {\n",
      "        \"name\": \"autoai-kb_rt25.1-py3.12\"\n",
      "      }\n",
      "    ],\n",
      "    \"training_id\": \"f2a01a01-0f16-4e0d-9748-895e7b795c4a\",\n",
      "    \"data_preprocessing\": [\n",
      "      {\n",
      "        \"stage\": \"sampling\",\n",
      "        \"input\": {\n",
      "          \"rows\": 249,\n",
      "          \"columns\": 21\n",
      "        },\n",
      "        \"output\": {\n",
      "          \"rows\": 249,\n",
      "          \"columns\": 21\n",
      "        },\n",
      "        \"props\": {\n",
      "          \"type\": \"stratified\"\n",
      "        }\n",
      "      },\n",
      "      {\n",
      "        \"stage\": \"cleansing\",\n",
      "        \"input\": {\n",
      "          \"rows\": 249,\n",
      "          \"columns\": 21\n",
      "        },\n",
      "        \"output\": {\n",
      "          \"rows\": 249,\n",
      "          \"columns\": 21\n",
      "        },\n",
      "        \"props\": {\n",
      "          \"duplicated_rows_count\": 0\n",
      "        }\n",
      "      }\n",
      "    ],\n",
      "    \"content_import_state\": \"completed\"\n",
      "  }\n",
      "}\n"
     ]
    }
   ],
   "source": [
    "print(json.dumps(client.repository.get_details(model_id), indent=2))"
   ]
  },
  {
   "cell_type": "markdown",
   "metadata": {
    "id": "a33b4b25-ad2e-410b-bdd5-b6721b45e865"
   },
   "source": [
    "<a id=\"redeploy\"></a>\n",
    "## 6. Redeploy and score new version of the model\n",
    "\n",
    "In this section, you'll learn how to redeploy new version of the model by using the watsonx.ai Client."
   ]
  },
  {
   "cell_type": "code",
   "execution_count": 39,
   "metadata": {
    "id": "a819d669-b0ff-4b26-be42-667ff542ead8"
   },
   "outputs": [
    {
     "name": "stdout",
     "output_type": "stream",
     "text": [
      "Since ASSET is patched, deployment need to be restarted. \n",
      "\n",
      "\n",
      "########################################################################\n",
      "\n",
      "Deployment update for id: '433799b3-5756-4563-96f1-603ab2f5ff1e' started\n",
      "\n",
      "########################################################################\n",
      "\n",
      "\n",
      "updating........\n",
      "ready\n",
      "\n",
      "\n",
      "---------------------------------------------------------------------------------------------\n",
      "Successfully finished deployment update, deployment_id='433799b3-5756-4563-96f1-603ab2f5ff1e'\n",
      "---------------------------------------------------------------------------------------------\n",
      "\n",
      "\n"
     ]
    }
   ],
   "source": [
    "metadata = {\n",
    "    client.deployments.ConfigurationMetaNames.ASSET: {\"id\": model_id, \"rev\": rev_id}\n",
    "}\n",
    "\n",
    "updated_deployment = client.deployments.update(deployment_id, changes=metadata)"
   ]
  },
  {
   "cell_type": "markdown",
   "metadata": {
    "id": "a9c56e53-4776-4938-b2df-58377b7ec91e"
   },
   "source": [
    "Wait for the deployment update: "
   ]
  },
  {
   "cell_type": "code",
   "execution_count": 40,
   "metadata": {
    "id": "1b47c645-728e-485c-8137-4baca45a3dab"
   },
   "outputs": [
    {
     "name": "stdout",
     "output_type": "stream",
     "text": [
      ". Note: online_url is deprecated and will be removed in a future release. Use serving_urls instead.\n",
      "\n",
      "Deployment update finished with status:  ready\n"
     ]
    }
   ],
   "source": [
    "import time\n",
    "\n",
    "status = None\n",
    "while status not in [\"ready\", \"failed\"]:\n",
    "    print(\".\", end=\" \")\n",
    "    time.sleep(2)\n",
    "    deployment_details = client.deployments.get_details(deployment_id)\n",
    "    status = deployment_details[\"entity\"][\"status\"].get(\"state\")\n",
    "\n",
    "print(\"\\nDeployment update finished with status: \", status)"
   ]
  },
  {
   "cell_type": "markdown",
   "metadata": {
    "id": "efa58711-84f6-46ff-bdf3-42d0db27ad3b"
   },
   "source": [
    "#### Get updated deployment details"
   ]
  },
  {
   "cell_type": "code",
   "execution_count": 41,
   "metadata": {
    "id": "bcaf0541-0a0c-4568-bd6e-b58044715c45"
   },
   "outputs": [
    {
     "name": "stdout",
     "output_type": "stream",
     "text": [
      "Note: online_url is deprecated and will be removed in a future release. Use serving_urls instead.\n",
      "{\n",
      "  \"entity\": {\n",
      "    \"asset\": {\n",
      "      \"id\": \"b78e56d5-6a90-477b-8ab8-b58d5e5ce1ed\",\n",
      "      \"rev\": \"2\"\n",
      "    },\n",
      "    \"chat_enabled\": false,\n",
      "    \"custom\": {},\n",
      "    \"deployed_asset_type\": \"model\",\n",
      "    \"hybrid_pipeline_hardware_specs\": [\n",
      "      {\n",
      "        \"hardware_spec\": {\n",
      "          \"id\": \"e7ed1d6c-2e89-42d7-aed5-863b972c1d2b\",\n",
      "          \"name\": \"S\",\n",
      "          \"num_nodes\": 1\n",
      "        },\n",
      "        \"node_runtime_id\": \"auto_ai.kb\"\n",
      "      }\n",
      "    ],\n",
      "    \"name\": \"AutoAI credit-risk deployment\",\n",
      "    \"online\": {},\n",
      "    \"space_id\": \"9c4eb218-96e8-41e0-8cd5-f783504a11ea\",\n",
      "    \"status\": {\n",
      "      \"inference\": [\n",
      "        {\n",
      "          \"url\": \"https://cpd-cpd-instance.apps.ocpwmlautoai-x86-2-nonfips.cp.fyre.ibm.com/ml/v4/deployments/433799b3-5756-4563-96f1-603ab2f5ff1e/predictions\"\n",
      "        }\n",
      "      ],\n",
      "      \"message\": {\n",
      "        \"level\": \"warning\",\n",
      "        \"text\": \"Successfully patched the asset.\"\n",
      "      },\n",
      "      \"online_url\": {\n",
      "        \"url\": \"https://cpd-cpd-instance.apps.ocpwmlautoai-x86-2-nonfips.cp.fyre.ibm.com/ml/v4/deployments/433799b3-5756-4563-96f1-603ab2f5ff1e/predictions\"\n",
      "      },\n",
      "      \"serving_urls\": [\n",
      "        \"https://cpd-cpd-instance.apps.ocpwmlautoai-x86-2-nonfips.cp.fyre.ibm.com/ml/v4/deployments/433799b3-5756-4563-96f1-603ab2f5ff1e/predictions\"\n",
      "      ],\n",
      "      \"state\": \"ready\"\n",
      "    }\n",
      "  },\n",
      "  \"metadata\": {\n",
      "    \"created_at\": \"2025-05-22T11:41:56.099Z\",\n",
      "    \"id\": \"433799b3-5756-4563-96f1-603ab2f5ff1e\",\n",
      "    \"last_updater_id\": \"1000331001\",\n",
      "    \"modified_at\": \"2025-05-22T11:44:52.296Z\",\n",
      "    \"name\": \"AutoAI credit-risk deployment\",\n",
      "    \"owner\": \"1000331001\",\n",
      "    \"space_id\": \"9c4eb218-96e8-41e0-8cd5-f783504a11ea\"\n",
      "  },\n",
      "  \"system\": {\n",
      "    \"warnings\": [\n",
      "      {\n",
      "        \"id\": \"Deprecated\",\n",
      "        \"message\": \"online_url is deprecated and will be removed in a future release. Use serving_urls instead.\"\n",
      "      }\n",
      "    ]\n",
      "  }\n",
      "}\n"
     ]
    }
   ],
   "source": [
    "print(json.dumps(client.deployments.get_details(deployment_id), indent=2))"
   ]
  },
  {
   "cell_type": "markdown",
   "metadata": {
    "id": "4199348b-4005-448a-8db4-4dad0c095864"
   },
   "source": [
    "### Score updated model"
   ]
  },
  {
   "cell_type": "code",
   "execution_count": 42,
   "metadata": {
    "id": "f05c8af4-b9a7-45e0-b5d6-62facb984c0f"
   },
   "outputs": [],
   "source": [
    "scoring_payload = {\"input_data\": [{\"values\": train_df.drop([\"Risk\"], axis=1).iloc[:5]}]}"
   ]
  },
  {
   "cell_type": "markdown",
   "metadata": {
    "id": "581eb076-4580-4790-b426-b717e7fd690f"
   },
   "source": [
    "Use `client.deployments.score()` method to run scoring."
   ]
  },
  {
   "cell_type": "code",
   "execution_count": 43,
   "metadata": {
    "id": "9b7e7111-4c47-4bfa-85c4-cca5e5341024"
   },
   "outputs": [],
   "source": [
    "predictions = client.deployments.score(deployment_id, scoring_payload)"
   ]
  },
  {
   "cell_type": "code",
   "execution_count": 44,
   "metadata": {
    "id": "fbd54ee7-efec-4251-96cc-a2dc41ea0cc5",
    "tags": []
   },
   "outputs": [
    {
     "name": "stdout",
     "output_type": "stream",
     "text": [
      "{\n",
      "  \"predictions\": [\n",
      "    {\n",
      "      \"fields\": [\n",
      "        \"prediction\",\n",
      "        \"probability\"\n",
      "      ],\n",
      "      \"values\": [\n",
      "        [\n",
      "          \"No Risk\",\n",
      "          [\n",
      "            0.815472082175866,\n",
      "            0.18452791782413402\n",
      "          ]\n",
      "        ],\n",
      "        [\n",
      "          \"No Risk\",\n",
      "          [\n",
      "            0.7501849542379176,\n",
      "            0.24981504576208238\n",
      "          ]\n",
      "        ],\n",
      "        [\n",
      "          \"Risk\",\n",
      "          [\n",
      "            0.44323551396938976,\n",
      "            0.5567644860306102\n",
      "          ]\n",
      "        ],\n",
      "        [\n",
      "          \"No Risk\",\n",
      "          [\n",
      "            0.7860837153311935,\n",
      "            0.2139162846688065\n",
      "          ]\n",
      "        ],\n",
      "        [\n",
      "          \"Risk\",\n",
      "          [\n",
      "            0.10388810002019544,\n",
      "            0.8961118999798046\n",
      "          ]\n",
      "        ]\n",
      "      ]\n",
      "    }\n",
      "  ]\n",
      "}\n"
     ]
    }
   ],
   "source": [
    "print(json.dumps(predictions, indent=2))"
   ]
  },
  {
   "cell_type": "markdown",
   "metadata": {
    "id": "f239e2b0-a94c-456c-b6f2-b7ec81a08d03"
   },
   "source": [
    "<a id=\"cleanup\"></a>\n",
    "## 7. Clean up"
   ]
  },
  {
   "cell_type": "markdown",
   "metadata": {
    "id": "2c514ae6-08d5-45f8-a24d-bba7a6b6b1b7"
   },
   "source": [
    "If you want to clean up all created assets:\n",
    "- experiments\n",
    "- trainings\n",
    "- pipelines\n",
    "- model definitions\n",
    "- models\n",
    "- functions\n",
    "- deployments\n",
    "\n",
    "please follow up this sample [notebook](https://github.com/IBM/watsonx-ai-samples/blob/master/cpd5.2/notebooks/python_sdk/instance-management/Machine%20Learning%20artifacts%20management.ipynb)."
   ]
  },
  {
   "cell_type": "markdown",
   "metadata": {
    "id": "74677f53-7ba4-4b84-9b15-6708bd5f2064"
   },
   "source": [
    "<a id=\"summary\"></a>\n",
    "## 8. Summary and next steps"
   ]
  },
  {
   "cell_type": "markdown",
   "metadata": {
    "id": "a254b495-cf37-4f02-8a0f-a158c87d7f6c"
   },
   "source": [
    "You successfully completed this notebook!  \n",
    "\n",
    "Check out our _<a href=\"https://ibm.github.io/watsonx-ai-python-sdk/samples.html\" target=\"_blank\" rel=\"noopener no referrer\">Online Documentation</a>_ for more samples, tutorials, documentation, how-tos, and blog posts. "
   ]
  },
  {
   "cell_type": "markdown",
   "metadata": {
    "id": "2f64f18d-ccef-43ed-8946-f92778e697b8"
   },
   "source": [
    "### Authors\n",
    "\n",
    "**Jan Sołtysik**, Intern at watsonx.ai\n",
    "\n",
    "**Rafał Chrzanowski**, Software Engineer Intern at watsonx.ai."
   ]
  },
  {
   "cell_type": "markdown",
   "metadata": {
    "id": "62d26fba-2e08-4c81-a611-b8abb3ee97fd"
   },
   "source": [
    "Copyright © 2020-2025 IBM. This notebook and its source code are released under the terms of the MIT License."
   ]
  }
 ],
 "metadata": {
  "kernelspec": {
   "display_name": "watsonx-ai-samples-py-312",
   "language": "python",
   "name": "python3"
  },
  "language_info": {
   "codemirror_mode": {
    "name": "ipython",
    "version": 3
   },
   "file_extension": ".py",
   "mimetype": "text/x-python",
   "name": "python",
   "nbconvert_exporter": "python",
   "pygments_lexer": "ipython3",
   "version": "3.12.9"
  },
  "pycharm": {
   "stem_cell": {
    "cell_type": "raw",
    "metadata": {
     "collapsed": false
    },
    "source": []
   }
  }
 },
 "nbformat": 4,
 "nbformat_minor": 4
}

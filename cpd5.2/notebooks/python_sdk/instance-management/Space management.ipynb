{
  "cells": [
    {
      "cell_type": "markdown",
      "metadata": {},
      "source": [
        "# Space management\n",
        "\n",
        "This notebook contains steps and code to demonstrate how to manage spaces in context of Watson Machine Learning service. It facilitates [ibm-watsonx-ai](https://pypi.python.org/pypi/ibm-watsonx-ai) library available in PyPI repository. It introduces commands for creating, updating & deleting spaces, getting list and detailed information about them.\n",
        "\n",
        "Some familiarity with Python is helpful. This notebook uses Python 3.12."
      ]
    },
    {
      "cell_type": "markdown",
      "metadata": {},
      "source": [
        "## Learning goals\n",
        "\n",
        "The learning goals of this notebook are:\n",
        "\n",
        "-  Create new space\n",
        "-  List existing spaces\n",
        "-  Get spaces details\n",
        "-  Set default space\n",
        "-  Update exisitng space\n",
        "-  Delete space\n",
        "\n",
        "\n",
        "## Contents\n",
        "\n",
        "This notebook contains the following parts:\n",
        "\n",
        "1. [Set up the environment](#setup)\n",
        "2. [Create new space](#create_space)\n",
        "3. [List all existing spaces](#list_space)\n",
        "4. [Get details about space](#get_space)\n",
        "5. [Set default space](#set_space)\n",
        "6. [Update space metadata](#update_space)\n",
        "7. [Delete existing space](#delete_space)\n",
        "8. [Summary and next steps](#summary)\n"
      ]
    },
    {
      "cell_type": "markdown",
      "metadata": {},
      "source": [
        "<a id=\"setup\"></a>\n",
        "## 1. Set up the environment\n",
        "\n",
        "Before you use the sample code in this notebook, you must perform the following setup tasks:\n",
        "\n",
        "-  Contact with your Cloud Pak for Data administrator and ask them for your account credentials"
      ]
    },
    {
      "cell_type": "markdown",
      "metadata": {},
      "source": [
        "### Install dependencies\n",
        "**Note:** `ibm-watsonx-ai` documentation can be found <a href=\"https://ibm.github.io/watsonx-ai-python-sdk/index.html\" target=\"_blank\" rel=\"noopener no referrer\">here</a>."
      ]
    },
    {
      "cell_type": "code",
      "execution_count": 1,
      "metadata": {},
      "outputs": [
        {
          "name": "stdout",
          "output_type": "stream",
          "text": [
            "\u001b[1A\u001b[2KSuccessfully installed anyio-4.9.0 certifi-2025.4.26 charset-normalizer-3.4.2 h11-0.16.0 httpcore-1.0.9 httpx-0.28.1 ibm-cos-sdk-2.14.1 ibm-cos-sdk-core-2.14.1 ibm-cos-sdk-s3transfer-2.14.1 ibm-watsonx-ai-1.3.20 idna-3.10 jmespath-1.0.1 lomond-0.3.3 numpy-2.2.6 pandas-2.2.3 pytz-2025.2 requests-2.32.2 sniffio-1.3.1 tabulate-0.9.0 typing_extensions-4.13.2 tzdata-2025.2 urllib3-2.4.0\n"
          ]
        }
      ],
      "source": [
        "%pip install -U ibm-watsonx-ai | tail -n 1"
      ]
    },
    {
      "cell_type": "markdown",
      "metadata": {},
      "source": [
        "#### Define credentials\n",
        "\n",
        "Authenticate the watsonx.ai Runtime service on IBM Cloud Pak for Data. You need to provide the **admin's** `username` and the platform `url`."
      ]
    },
    {
      "cell_type": "code",
      "execution_count": 2,
      "metadata": {},
      "outputs": [],
      "source": [
        "username = \"PASTE YOUR USERNAME HERE\"\n",
        "url = \"PASTE THE PLATFORM URL HERE\""
      ]
    },
    {
      "cell_type": "markdown",
      "metadata": {},
      "source": [
        "Use the **admin's** `api_key` to authenticate watsonx.ai Runtime services:"
      ]
    },
    {
      "cell_type": "code",
      "execution_count": null,
      "metadata": {},
      "outputs": [],
      "source": [
        "import getpass\n",
        "from ibm_watsonx_ai import Credentials\n",
        "\n",
        "credentials = Credentials(\n",
        "    username=username,\n",
        "    api_key=getpass.getpass(\"Enter your watsonx.ai API key and hit enter: \"),\n",
        "    url=url,\n",
        "    instance_id=\"openshift\",\n",
        "    version=\"5.2\",\n",
        ")"
      ]
    },
    {
      "cell_type": "markdown",
      "metadata": {},
      "source": [
        "Alternatively you can use the **admin's** `password`:"
      ]
    },
    {
      "cell_type": "code",
      "execution_count": 3,
      "metadata": {},
      "outputs": [],
      "source": [
        "import getpass\n",
        "from ibm_watsonx_ai import Credentials\n",
        "\n",
        "if \"credentials\" not in locals() or not credentials.api_key:\n",
        "    credentials = Credentials(\n",
        "        username=username,\n",
        "        password=getpass.getpass(\"Enter your watsonx.ai password and hit enter: \"),\n",
        "        url=url,\n",
        "        instance_id=\"openshift\",\n",
        "        version=\"5.2\",\n",
        "    )"
      ]
    },
    {
      "cell_type": "markdown",
      "metadata": {},
      "source": [
        "#### Create `APIClient` instance"
      ]
    },
    {
      "cell_type": "code",
      "execution_count": 4,
      "metadata": {},
      "outputs": [],
      "source": [
        "from ibm_watsonx_ai import APIClient\n",
        "\n",
        "client = APIClient(credentials)"
      ]
    },
    {
      "cell_type": "markdown",
      "metadata": {},
      "source": [
        "<a id=\"create_space\"></a>\n",
        "## 2. Create new space\n"
      ]
    },
    {
      "cell_type": "markdown",
      "metadata": {},
      "source": [
        "Define space metadata"
      ]
    },
    {
      "cell_type": "code",
      "execution_count": 5,
      "metadata": {
        "pycharm": {
          "name": "#%%\n"
        }
      },
      "outputs": [],
      "source": [
        "space_metadata = {\n",
        "    \"name\": \"PASTE YOUR SPACE NAME HERE\",\n",
        "    \"description\": \"PASTE YOUR SPACE DESCRIPTION HERE\",\n",
        "}"
      ]
    },
    {
      "cell_type": "markdown",
      "metadata": {
        "pycharm": {
          "name": "#%% md\n"
        }
      },
      "source": [
        "Next you can create space by following cell execution"
      ]
    },
    {
      "cell_type": "code",
      "execution_count": 6,
      "metadata": {
        "pycharm": {
          "name": "#%%\n"
        }
      },
      "outputs": [
        {
          "name": "stdout",
          "output_type": "stream",
          "text": [
            "Space has been created. However some background setup activities might still be on-going. Check for 'status' field in the response. It has to show 'active' before space can be used. If it's not 'active', you can monitor the state with a call to spaces.get_details(space_id). Alternatively, use background_mode=False when calling client.spaces.store().\n",
            "{'entity': {'compute': [{'crn': 'crn:v1:cpd:private:pm-20:private:a/cpduser:99999999-9999-9999-9999-999999999999::', 'guid': '99999999-9999-9999-9999-999999999999', 'name': 'Watson Machine Learning', 'type': 'machine_learning'}], 'description': 'This space has been created to showcase support for space management', 'members': [{'id': '1000331001', 'role': 'admin', 'state': 'active', 'type': 'user'}], 'name': 'Space management sample space', 'scope': {'bss_account_id': 'cpdaccount'}, 'settings': {'folders': {'enabled': False}}, 'stage': {'production': False}, 'status': {'state': 'preparing'}, 'type': 'cpd'}, 'metadata': {'created_at': '2025-05-21T06:29:55.114Z', 'creator_id': '1000331001', 'id': '82e4033b-0f21-460f-855c-ef10f5f7b355', 'url': '/v2/spaces/82e4033b-0f21-460f-855c-ef10f5f7b355'}}\n"
          ]
        }
      ],
      "source": [
        "space_details = client.spaces.store(space_metadata)\n",
        "print(space_details)"
      ]
    },
    {
      "cell_type": "markdown",
      "metadata": {
        "pycharm": {
          "name": "#%% md\n"
        }
      },
      "source": [
        "You can get space it by executing following cell"
      ]
    },
    {
      "cell_type": "code",
      "execution_count": 7,
      "metadata": {
        "pycharm": {
          "name": "#%%\n"
        }
      },
      "outputs": [
        {
          "name": "stdout",
          "output_type": "stream",
          "text": [
            "82e4033b-0f21-460f-855c-ef10f5f7b355\n"
          ]
        }
      ],
      "source": [
        "space_id = client.spaces.get_id(space_details)\n",
        "print(space_id)"
      ]
    },
    {
      "cell_type": "markdown",
      "metadata": {
        "pycharm": {
          "name": "#%% md\n"
        }
      },
      "source": [
        "**Tip:** In order to check if the space creation is completed succesfully change next cell format to code and execute it. It should return `'active'`"
      ]
    },
    {
      "cell_type": "code",
      "execution_count": 8,
      "metadata": {
        "pycharm": {
          "name": "#%% raw\n"
        }
      },
      "outputs": [
        {
          "data": {
            "text/plain": [
              "'active'"
            ]
          },
          "execution_count": 8,
          "metadata": {},
          "output_type": "execute_result"
        }
      ],
      "source": [
        "client.spaces.get_details(space_id)[\"entity\"][\"status\"][\"state\"]"
      ]
    },
    {
      "cell_type": "markdown",
      "metadata": {
        "pycharm": {
          "name": "#%% md\n"
        }
      },
      "source": [
        "**Action**: If you didn't create new space in this notebook by `ibm_watsonx_ai`, please assign space ID below."
      ]
    },
    {
      "cell_type": "code",
      "execution_count": null,
      "metadata": {
        "pycharm": {
          "name": "#%% raw\n"
        }
      },
      "outputs": [],
      "source": [
        "if \"space_id\" not in locals():\n",
        "    space_id = \"PASTE YOUR SPACE ID HERE\""
      ]
    },
    {
      "cell_type": "markdown",
      "metadata": {},
      "source": [
        "<a id=\"list_space\"></a>\n",
        "## 3. List all existing spaces"
      ]
    },
    {
      "cell_type": "markdown",
      "metadata": {
        "pycharm": {
          "name": "#%% md\n"
        }
      },
      "source": [
        "You can use `list` method to print all existing spaces."
      ]
    },
    {
      "cell_type": "code",
      "execution_count": 9,
      "metadata": {
        "pycharm": {
          "name": "#%%\n"
        }
      },
      "outputs": [
        {
          "data": {
            "text/html": [
              "<div>\n",
              "<style scoped>\n",
              "    .dataframe tbody tr th:only-of-type {\n",
              "        vertical-align: middle;\n",
              "    }\n",
              "\n",
              "    .dataframe tbody tr th {\n",
              "        vertical-align: top;\n",
              "    }\n",
              "\n",
              "    .dataframe thead th {\n",
              "        text-align: right;\n",
              "    }\n",
              "</style>\n",
              "<table border=\"1\" class=\"dataframe\">\n",
              "  <thead>\n",
              "    <tr style=\"text-align: right;\">\n",
              "      <th></th>\n",
              "      <th>ID</th>\n",
              "      <th>NAME</th>\n",
              "      <th>CREATED</th>\n",
              "    </tr>\n",
              "  </thead>\n",
              "  <tbody>\n",
              "    <tr>\n",
              "      <th>0</th>\n",
              "      <td>82e4033b-0f21-460f-855c-ef10f5f7b355</td>\n",
              "      <td>Space management sample space</td>\n",
              "      <td>2025-05-21T06:29:55.114Z</td>\n",
              "    </tr>\n",
              "  </tbody>\n",
              "</table>\n",
              "</div>"
            ],
            "text/plain": [
              "                                      ID  \\\n",
              "0   82e4033b-0f21-460f-855c-ef10f5f7b355   \n",
              "\n",
              "                                     NAME                   CREATED  \n",
              "0           Space management sample space  2025-05-21T06:29:55.114Z  \n"
            ]
          },
          "execution_count": 9,
          "metadata": {},
          "output_type": "execute_result"
        }
      ],
      "source": [
        "client.spaces.list()"
      ]
    },
    {
      "cell_type": "markdown",
      "metadata": {},
      "source": [
        "<a id=\"get_space\"></a>\n",
        "## 4. Get details about space"
      ]
    },
    {
      "cell_type": "markdown",
      "metadata": {},
      "source": [
        "You can use `get_details` method to print details about given space. You need to provide `space_id` of desired space."
      ]
    },
    {
      "cell_type": "code",
      "execution_count": 10,
      "metadata": {
        "scrolled": true
      },
      "outputs": [
        {
          "data": {
            "text/plain": [
              "{'entity': {'compute': [{'crn': 'crn:v1:cpd:private:pm-20:private:a/cpduser:99999999-9999-9999-9999-999999999999::',\n",
              "    'guid': '99999999-9999-9999-9999-999999999999',\n",
              "    'name': 'Watson Machine Learning',\n",
              "    'type': 'machine_learning'}],\n",
              "  'description': 'This space has been created to showcase support for space management',\n",
              "  'name': 'Space management sample space',\n",
              "  'scope': {'bss_account_id': 'cpdaccount'},\n",
              "  'settings': {'folders': {'enabled': False}},\n",
              "  'stage': {'production': False},\n",
              "  'status': {'state': 'active'},\n",
              "  'type': 'cpd'},\n",
              " 'metadata': {'created_at': '2025-05-21T06:29:55.114Z',\n",
              "  'creator_id': '1000331001',\n",
              "  'id': '82e4033b-0f21-460f-855c-ef10f5f7b355',\n",
              "  'updated_at': '2025-05-21T06:29:55.988Z',\n",
              "  'url': '/v2/spaces/82e4033b-0f21-460f-855c-ef10f5f7b355'}}"
            ]
          },
          "execution_count": 10,
          "metadata": {},
          "output_type": "execute_result"
        }
      ],
      "source": [
        "client.spaces.get_details(space_id)"
      ]
    },
    {
      "cell_type": "markdown",
      "metadata": {},
      "source": [
        "<a id=\"set_space\"></a>\n",
        "## 5. Set default space"
      ]
    },
    {
      "cell_type": "markdown",
      "metadata": {
        "pycharm": {
          "name": "#%% md\n"
        }
      },
      "source": [
        "To be able to interact with all resources available in Watson Machine Learning, you need to set **space** which you will be using."
      ]
    },
    {
      "cell_type": "code",
      "execution_count": 11,
      "metadata": {
        "pycharm": {
          "name": "#%%\n"
        }
      },
      "outputs": [
        {
          "data": {
            "text/plain": [
              "'SUCCESS'"
            ]
          },
          "execution_count": 11,
          "metadata": {},
          "output_type": "execute_result"
        }
      ],
      "source": [
        "client.set.default_space(space_id)"
      ]
    },
    {
      "cell_type": "markdown",
      "metadata": {},
      "source": [
        "<a id=\"update_space\"></a>\n",
        "## 6. Update space metadata"
      ]
    },
    {
      "cell_type": "markdown",
      "metadata": {
        "pycharm": {
          "name": "#%% md\n"
        }
      },
      "source": [
        "You can update your space by reassigning space metadata and executing: `client.spaces.update(space_id, space_metadata)`."
      ]
    },
    {
      "cell_type": "code",
      "execution_count": 12,
      "metadata": {
        "pycharm": {
          "name": "#%% raw\n"
        }
      },
      "outputs": [
        {
          "data": {
            "text/plain": [
              "{'entity': {'compute': [{'crn': 'crn:v1:cpd:private:pm-20:private:a/cpduser:99999999-9999-9999-9999-999999999999::',\n",
              "    'guid': '99999999-9999-9999-9999-999999999999',\n",
              "    'name': 'Watson Machine Learning',\n",
              "    'type': 'machine_learning'}],\n",
              "  'description': 'This space has been created to showcase support for space management',\n",
              "  'members': [{'id': '1000331001',\n",
              "    'role': 'admin',\n",
              "    'state': 'active',\n",
              "    'type': 'user'}],\n",
              "  'name': 'Updated space name',\n",
              "  'scope': {'bss_account_id': 'cpdaccount'},\n",
              "  'settings': {'folders': {'enabled': False}},\n",
              "  'stage': {'production': False},\n",
              "  'status': {'state': 'active'},\n",
              "  'type': 'cpd'},\n",
              " 'metadata': {'created_at': '2025-05-21T06:29:55.114Z',\n",
              "  'creator_id': '1000331001',\n",
              "  'id': '82e4033b-0f21-460f-855c-ef10f5f7b355',\n",
              "  'updated_at': '2025-05-21T06:30:37.356Z',\n",
              "  'url': '/v2/spaces/82e4033b-0f21-460f-855c-ef10f5f7b355'}}"
            ]
          },
          "execution_count": 12,
          "metadata": {},
          "output_type": "execute_result"
        }
      ],
      "source": [
        "updated_space_metadata = {\n",
        "    client.spaces.ConfigurationMetaNames.NAME: \"Updated space name\"\n",
        "}\n",
        "\n",
        "client.spaces.update(space_id, updated_space_metadata)"
      ]
    },
    {
      "cell_type": "markdown",
      "metadata": {},
      "source": [
        "<a id=\"delete_space\"></a>\n",
        "## 7. Delete existing space"
      ]
    },
    {
      "cell_type": "markdown",
      "metadata": {},
      "source": [
        "You can use the command below to delete existing space. You need to provide space_id of the space you want to delete."
      ]
    },
    {
      "cell_type": "code",
      "execution_count": 13,
      "metadata": {},
      "outputs": [
        {
          "name": "stdout",
          "output_type": "stream",
          "text": [
            "DELETED\n"
          ]
        },
        {
          "data": {
            "text/plain": [
              "'SUCCESS'"
            ]
          },
          "execution_count": 13,
          "metadata": {},
          "output_type": "execute_result"
        }
      ],
      "source": [
        "client.spaces.delete(space_id)"
      ]
    },
    {
      "cell_type": "markdown",
      "metadata": {},
      "source": [
        "<a id=\"summary\"></a>\n",
        "## 8. Summary and next steps"
      ]
    },
    {
      "cell_type": "markdown",
      "metadata": {},
      "source": [
        "You successfully completed this notebook! You learned how to use `ibm-watsonx-ai` client for Watson Machine Learning instance space management and clean up.\n",
        " \n",
        "Check out our _<a href=\"https://ibm.github.io/watsonx-ai-python-sdk/samples.html\" target=\"_blank\" rel=\"noopener no referrer\">Online Documentation</a>_ for more samples, tutorials, documentation, how-tos, and blog posts. "
      ]
    },
    {
      "cell_type": "markdown",
      "metadata": {},
      "source": [
        "### Authors\n",
        "\n",
        "**Szymon Kucharczyk**, Software Engineer at IBM. <br>\n",
        "\n",
        "**Daniel Ryszka**, Software Engineer at IBM."
      ]
    },
    {
      "cell_type": "markdown",
      "metadata": {},
      "source": [
        "Copyright © 2020-2025 IBM. This notebook and its source code are released under the terms of the MIT License."
      ]
    }
  ],
  "metadata": {
    "kernelspec": {
      "display_name": "watsonx-ai-samples-py-312",
      "language": "python",
      "name": "python3"
    },
    "language_info": {
      "codemirror_mode": {
        "name": "ipython",
        "version": 3
      },
      "file_extension": ".py",
      "mimetype": "text/x-python",
      "name": "python",
      "nbconvert_exporter": "python",
      "pygments_lexer": "ipython3",
      "version": "3.12.9"
    }
  },
  "nbformat": 4,
  "nbformat_minor": 4
}

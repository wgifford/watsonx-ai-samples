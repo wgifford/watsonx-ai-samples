{
  "cells": [
    {
      "cell_type": "markdown",
      "metadata": {},
      "source": [
        "# Export/Import assets with `ibm-watsonx-ai`\n",
        "\n",
        "This notebook demonstrates an example for exporting/importing assets using watsonx.ai service. It contains steps and code to work with [ibm-watsonx-ai](https://pypi.python.org/pypi/ibm-watsonx-ai) library available in PyPI repository.\n",
        "\n",
        "Some familiarity with Python is helpful. This notebook uses Python 3.12."
      ]
    },
    {
      "cell_type": "markdown",
      "metadata": {},
      "source": [
        "## Learning goals\n",
        "\n",
        "The learning goals of this notebook are:\n",
        "\n",
        "-  Download an externally trained Keras model.\n",
        "-  Persist an external model in watsonx.ai repository.\n",
        "-  Export the model from the space\n",
        "-  Import the model to another space (for Cloud Pak for Data 5.2, the space/project where assets are imported has to be empty) and deploy\n",
        "\n",
        "\n",
        "\n",
        "## Contents\n",
        "\n",
        "This notebook contains the following parts:\n",
        "\n",
        "1. [Setup](#setup)\n",
        "2. [Download externally created Keras model](#download)\n",
        "3. [Persist externally created Keras model](#persistence)\n",
        "4. [Export the model](#export)\n",
        "5. [Import the model](#import)\n",
        "6. [Deploy and score the imported model](#scoring)\n",
        "7. [Clean up](#cleanup)\n",
        "8. [Summary and next steps](#summary)"
      ]
    },
    {
      "cell_type": "markdown",
      "metadata": {},
      "source": [
        "<a id=\"setup\"></a>\n",
        "## 1. Set up the environment\n",
        "\n",
        "Before you use the sample code in this notebook, you must perform the following setup tasks:\n",
        "\n",
        "-  Contact with your Cloud Pak for Data administrator and ask them for your account credentials"
      ]
    },
    {
      "cell_type": "markdown",
      "metadata": {},
      "source": [
        "### Install dependencies\n",
        "**Note:** `ibm-watsonx-ai` documentation can be found <a href=\"https://ibm.github.io/watsonx-ai-python-sdk/index.html\" target=\"_blank\" rel=\"noopener no referrer\">here</a>."
      ]
    },
    {
      "cell_type": "code",
      "execution_count": 1,
      "metadata": {},
      "outputs": [
        {
          "name": "stdout",
          "output_type": "stream",
          "text": [
            "Successfully installed wget-3.2\n",
            "\u001b[1A\u001b[2KSuccessfully installed contourpy-1.3.2 cycler-0.12.1 fonttools-4.58.0 kiwisolver-1.4.8 matplotlib-3.10.3 numpy-2.2.6 pillow-11.2.1 pyparsing-3.2.3\n",
            "\u001b[1A\u001b[2KSuccessfully installed anyio-4.9.0 certifi-2025.4.26 charset-normalizer-3.4.2 h11-0.16.0 httpcore-1.0.9 httpx-0.28.1 ibm-cos-sdk-2.14.1 ibm-cos-sdk-core-2.14.1 ibm-cos-sdk-s3transfer-2.14.1 ibm-watsonx-ai-1.3.20 idna-3.10 jmespath-1.0.1 lomond-0.3.3 pandas-2.2.3 pytz-2025.2 requests-2.32.2 sniffio-1.3.1 tabulate-0.9.0 typing_extensions-4.13.2 tzdata-2025.2 urllib3-2.4.0\n"
          ]
        }
      ],
      "source": [
        "%pip install -U wget | tail -n 1\n",
        "%pip install -U matplotlib | tail -n 1\n",
        "%pip install -U ibm-watsonx-ai | tail -n 1"
      ]
    },
    {
      "cell_type": "markdown",
      "metadata": {},
      "source": [
        "#### Define credentials\n",
        "\n",
        "Authenticate the watsonx.ai Runtime service on IBM Cloud Pak for Data. You need to provide the **admin's** `username` and the platform `url`."
      ]
    },
    {
      "cell_type": "code",
      "execution_count": 2,
      "metadata": {},
      "outputs": [],
      "source": [
        "username = \"PASTE YOUR USERNAME HERE\"\n",
        "url = \"PASTE THE PLATFORM URL HERE\""
      ]
    },
    {
      "cell_type": "markdown",
      "metadata": {},
      "source": [
        "Use the **admin's** `api_key` to authenticate watsonx.ai Runtime services:"
      ]
    },
    {
      "cell_type": "code",
      "execution_count": null,
      "metadata": {},
      "outputs": [],
      "source": [
        "import getpass\n",
        "from ibm_watsonx_ai import Credentials\n",
        "\n",
        "credentials = Credentials(\n",
        "    username=username,\n",
        "    api_key=getpass.getpass(\"Enter your watsonx.ai API key and hit enter: \"),\n",
        "    url=url,\n",
        "    instance_id=\"openshift\",\n",
        "    version=\"5.2\",\n",
        ")"
      ]
    },
    {
      "cell_type": "markdown",
      "metadata": {},
      "source": [
        "Alternatively you can use the **admin's** `password`:"
      ]
    },
    {
      "cell_type": "code",
      "execution_count": 3,
      "metadata": {},
      "outputs": [],
      "source": [
        "import getpass\n",
        "from ibm_watsonx_ai import Credentials\n",
        "\n",
        "if \"credentials\" not in locals() or not credentials.api_key:\n",
        "    credentials = Credentials(\n",
        "        username=username,\n",
        "        password=getpass.getpass(\"Enter your watsonx.ai password and hit enter: \"),\n",
        "        url=url,\n",
        "        instance_id=\"openshift\",\n",
        "        version=\"5.2\",\n",
        "    )"
      ]
    },
    {
      "cell_type": "markdown",
      "metadata": {},
      "source": [
        "#### Create `APIClient` instance"
      ]
    },
    {
      "cell_type": "code",
      "execution_count": 4,
      "metadata": {},
      "outputs": [],
      "source": [
        "from ibm_watsonx_ai import APIClient\n",
        "\n",
        "client = APIClient(credentials)"
      ]
    },
    {
      "cell_type": "markdown",
      "metadata": {},
      "source": [
        "### Create two spaces. One for export and one for import\n",
        "\n",
        "**Tip**: You can refer to example for space management APIs [here](https://github.com/IBM/watsonx-ai-samples/blob/master/cpd5.2/notebooks/python_sdk/instance-management/Space%20management.ipynb)."
      ]
    },
    {
      "cell_type": "code",
      "execution_count": 5,
      "metadata": {},
      "outputs": [],
      "source": [
        "import uuid\n",
        "\n",
        "space_name = str(uuid.uuid4())"
      ]
    },
    {
      "cell_type": "markdown",
      "metadata": {},
      "source": [
        "Create export space"
      ]
    },
    {
      "cell_type": "code",
      "execution_count": 6,
      "metadata": {},
      "outputs": [
        {
          "name": "stdout",
          "output_type": "stream",
          "text": [
            "Space has been created. However some background setup activities might still be on-going. Check for 'status' field in the response. It has to show 'active' before space can be used. If it's not 'active', you can monitor the state with a call to spaces.get_details(space_id). Alternatively, use background_mode=False when calling client.spaces.store().\n",
            "\n",
            "export space_id: 5bb7242f-ee83-4526-8b8e-01e12d665e24\n",
            "\n"
          ]
        }
      ],
      "source": [
        "export_space_metadata = {\n",
        "    client.spaces.ConfigurationMetaNames.NAME: \"client_space_export_\" + space_name,\n",
        "    client.spaces.ConfigurationMetaNames.DESCRIPTION: space_name + \" description\",\n",
        "}\n",
        "\n",
        "space = client.spaces.store(meta_props=export_space_metadata)\n",
        "\n",
        "export_space_id = client.spaces.get_id(space)\n",
        "print(f\"\\nexport space_id: {export_space_id}\\n\")"
      ]
    },
    {
      "cell_type": "markdown",
      "metadata": {},
      "source": [
        "Create import space"
      ]
    },
    {
      "cell_type": "code",
      "execution_count": 7,
      "metadata": {},
      "outputs": [
        {
          "name": "stdout",
          "output_type": "stream",
          "text": [
            "Space has been created. However some background setup activities might still be on-going. Check for 'status' field in the response. It has to show 'active' before space can be used. If it's not 'active', you can monitor the state with a call to spaces.get_details(space_id). Alternatively, use background_mode=False when calling client.spaces.store().\n",
            "\n",
            "import space_id: 657787c9-9b1c-470e-a979-a9abd071bbe1\n",
            "\n"
          ]
        }
      ],
      "source": [
        "import_space_metadata = {\n",
        "    client.spaces.ConfigurationMetaNames.NAME: \"client_space_import_\" + space_name,\n",
        "    client.spaces.ConfigurationMetaNames.DESCRIPTION: space_name + \" description\",\n",
        "}\n",
        "\n",
        "space = client.spaces.store(meta_props=import_space_metadata)\n",
        "\n",
        "import_space_id = client.spaces.get_id(space)\n",
        "print(f\"\\nimport space_id: {import_space_id}\\n\")"
      ]
    },
    {
      "cell_type": "markdown",
      "metadata": {
        "pycharm": {
          "name": "#%% md\n"
        }
      },
      "source": [
        "<a id=\"download\"></a>\n",
        "## 2. Download externally created Keras model and data\n",
        "In this section, you will download externally created Keras model for MNIST dataset."
      ]
    },
    {
      "cell_type": "code",
      "execution_count": 8,
      "metadata": {
        "pycharm": {
          "is_executing": false,
          "name": "#%%\n"
        }
      },
      "outputs": [],
      "source": [
        "import os\n",
        "import wget\n",
        "\n",
        "data_dir = \"MNIST_DATA\"\n",
        "if not os.path.isdir(data_dir):\n",
        "    os.mkdir(data_dir)\n",
        "\n",
        "model_path = os.path.join(data_dir, \"mnist_keras.h5.tgz\")\n",
        "if not os.path.isfile(model_path):\n",
        "    wget.download(\n",
        "        \"https://github.com/IBM/watsonx-ai-samples/raw/master/cpd5.2/models/keras/mnist_keras.h5.tgz\",\n",
        "        out=data_dir,\n",
        "    )"
      ]
    },
    {
      "cell_type": "markdown",
      "metadata": {},
      "source": [
        "Download data used for training the Keras model"
      ]
    },
    {
      "cell_type": "code",
      "execution_count": 9,
      "metadata": {},
      "outputs": [],
      "source": [
        "data_dir = \"MNIST_DATA\"\n",
        "if not os.path.isdir(data_dir):\n",
        "    os.mkdir(data_dir)\n",
        "\n",
        "filename = os.path.join(data_dir, \"mnist.npz\")\n",
        "if not os.path.isfile(filename):\n",
        "    wget.download(\"https://s3.amazonaws.com/img-datasets/mnist.npz\", out=data_dir)"
      ]
    },
    {
      "cell_type": "code",
      "execution_count": 10,
      "metadata": {
        "pycharm": {
          "is_executing": false,
          "name": "#%%\n"
        }
      },
      "outputs": [],
      "source": [
        "import numpy as np\n",
        "\n",
        "dataset = np.load(filename)\n",
        "x_test = dataset[\"x_test\"]"
      ]
    },
    {
      "cell_type": "markdown",
      "metadata": {},
      "source": [
        "<a id=\"persistence\"></a>\n",
        "## 3. Persist externally created Keras model"
      ]
    },
    {
      "cell_type": "markdown",
      "metadata": {},
      "source": [
        "In this section, you will learn how to store your model in watsonx.ai repository by using the `ibm-watsonx-ai` client."
      ]
    },
    {
      "cell_type": "markdown",
      "metadata": {},
      "source": [
        "### 3.1: Publish model"
      ]
    },
    {
      "cell_type": "markdown",
      "metadata": {},
      "source": [
        "Define model name, type and software specification needed to deploy model later."
      ]
    },
    {
      "cell_type": "code",
      "execution_count": 11,
      "metadata": {
        "pycharm": {
          "is_executing": false,
          "name": "#%%\n"
        }
      },
      "outputs": [],
      "source": [
        "sofware_spec_id = client.software_specifications.get_id_by_name(\"runtime-24.1-py3.11\")"
      ]
    },
    {
      "cell_type": "code",
      "execution_count": 12,
      "metadata": {
        "pycharm": {
          "is_executing": false,
          "name": "#%%\n"
        }
      },
      "outputs": [],
      "source": [
        "client.set.default_space(export_space_id)\n",
        "\n",
        "metadata = {\n",
        "    client.repository.ModelMetaNames.NAME: \"External Keras model\",\n",
        "    client.repository.ModelMetaNames.TYPE: \"tensorflow_2.14\",\n",
        "    client.repository.ModelMetaNames.SOFTWARE_SPEC_ID: sofware_spec_id,\n",
        "}\n",
        "\n",
        "published_model = client.repository.store_model(model=model_path, meta_props=metadata)"
      ]
    },
    {
      "cell_type": "markdown",
      "metadata": {},
      "source": [
        "### 3.2: Get model details"
      ]
    },
    {
      "cell_type": "code",
      "execution_count": 13,
      "metadata": {
        "pycharm": {
          "is_executing": false,
          "name": "#%%\n"
        }
      },
      "outputs": [
        {
          "name": "stdout",
          "output_type": "stream",
          "text": [
            "{\n",
            "  \"metadata\": {\n",
            "    \"name\": \"External Keras model\",\n",
            "    \"space_id\": \"5bb7242f-ee83-4526-8b8e-01e12d665e24\",\n",
            "    \"resource_key\": \"e18cd9af-ad49-4101-b116-6295bcf8810a\",\n",
            "    \"id\": \"819b311b-9027-4235-a9b8-f03c51028ea9\",\n",
            "    \"created_at\": \"2025-05-21T09:49:12Z\",\n",
            "    \"rov\": {\n",
            "      \"member_roles\": {\n",
            "        \"1000331001\": {\n",
            "          \"user_iam_id\": \"1000331001\",\n",
            "          \"roles\": [\n",
            "            \"OWNER\"\n",
            "          ]\n",
            "        }\n",
            "      }\n",
            "    },\n",
            "    \"owner\": \"1000331001\"\n",
            "  },\n",
            "  \"entity\": {\n",
            "    \"software_spec\": {\n",
            "      \"id\": \"45f12dfe-aa78-5b8d-9f38-0ee223c47309\"\n",
            "    },\n",
            "    \"type\": \"tensorflow_2.14\"\n",
            "  }\n",
            "}\n"
          ]
        }
      ],
      "source": [
        "import json\n",
        "\n",
        "published_model_id = client.repository.get_model_id(published_model)\n",
        "model_details = client.repository.get_details(published_model_id)\n",
        "print(json.dumps(model_details, indent=2))"
      ]
    },
    {
      "cell_type": "markdown",
      "metadata": {},
      "source": [
        "### 3.3 Get all models in the space"
      ]
    },
    {
      "cell_type": "markdown",
      "metadata": {},
      "source": [
        "space_id is automatically picked up from client.set.default_space() api call before"
      ]
    },
    {
      "cell_type": "code",
      "execution_count": 14,
      "metadata": {
        "pycharm": {
          "is_executing": false
        }
      },
      "outputs": [],
      "source": [
        "models_details = client.repository.list_models()"
      ]
    },
    {
      "cell_type": "markdown",
      "metadata": {},
      "source": [
        "<a id=\"export\"></a>\n",
        "## 4. Export"
      ]
    },
    {
      "cell_type": "code",
      "execution_count": 15,
      "metadata": {},
      "outputs": [
        {
          "name": "stdout",
          "output_type": "stream",
          "text": [
            "Help on method start in module ibm_watsonx_ai.export_assets:\n",
            "\n",
            "start(meta_props: 'dict[str, str | bool | list]', space_id: 'str | None' = None, project_id: 'str | None' = None) -> 'dict' method of ibm_watsonx_ai.export_assets.Export instance\n",
            "    Start the export. You must provide the space_id or the project_id.\n",
            "    ALL_ASSETS is by default False. You don't need to provide it unless it is set to True.\n",
            "    You must provide one of the following in the meta_props: ALL_ASSETS, ASSET_TYPES, or ASSET_IDS. Only one of these can be\n",
            "    provided.\n",
            "\n",
            "    In the `meta_props`:\n",
            "\n",
            "    ALL_ASSETS is a boolean. When set to True, it exports all assets in the given space.\n",
            "    ASSET_IDS is an array that contains the list of assets IDs to be exported.\n",
            "    ASSET_TYPES is used to provide the asset types to be exported. All assets of that asset type will be exported.\n",
            "\n",
            "            Eg: wml_model, wml_model_definition, wml_pipeline, wml_function, wml_experiment,\n",
            "            software_specification, hardware_specification, package_extension, script\n",
            "\n",
            "    :param meta_props: metadata,\n",
            "        to see available meta names use ``client.export_assets.ConfigurationMetaNames.get()``\n",
            "    :type meta_props: dict\n",
            "    :param space_id: space identifier\n",
            "    :type space_id: str, optional\n",
            "    :param project_id: project identifier\n",
            "    :type project: str, optional\n",
            "\n",
            "    :return: Response json\n",
            "    :rtype: dict\n",
            "\n",
            "    **Example:**\n",
            "\n",
            "    .. code-block:: python\n",
            "\n",
            "        metadata = {\n",
            "            client.export_assets.ConfigurationMetaNames.NAME: \"export_model\",\n",
            "            client.export_assets.ConfigurationMetaNames.ASSET_IDS: [\"13a53931-a8c0-4c2f-8319-c793155e7517\",\n",
            "                                                                    \"13a53931-a8c0-4c2f-8319-c793155e7518\"]}\n",
            "\n",
            "        details = client.export_assets.start(meta_props=metadata, space_id=\"98a53931-a8c0-4c2f-8319-c793155e4598\")\n",
            "\n",
            "    .. code-block:: python\n",
            "\n",
            "        metadata = {\n",
            "            client.export_assets.ConfigurationMetaNames.NAME: \"export_model\",\n",
            "            client.export_assets.ConfigurationMetaNames.ASSET_TYPES: [\"wml_model\"]}\n",
            "\n",
            "        details = client.export_assets.start(meta_props=metadata, space_id=\"98a53931-a8c0-4c2f-8319-c793155e4598\")\n",
            "\n",
            "    .. code-block:: python\n",
            "\n",
            "        metadata = {\n",
            "            client.export_assets.ConfigurationMetaNames.NAME: \"export_model\",\n",
            "            client.export_assets.ConfigurationMetaNames.ALL_ASSETS: True}\n",
            "\n",
            "        details = client.export_assets.start(meta_props=metadata, space_id=\"98a53931-a8c0-4c2f-8319-c793155e4598\")\n",
            "\n"
          ]
        }
      ],
      "source": [
        "help(client.export_assets.start)"
      ]
    },
    {
      "cell_type": "markdown",
      "metadata": {},
      "source": [
        "client.export_assets has these apis. For any help on these apis, type 'help(api_name)' in your notebook \n",
        "Example: help(client.export_assets.start), help(client.export_assets.get_details)\n",
        "\n",
        "1. client.export_assets.start: This starts the export job. export job is asynchronously executed\n",
        "2. client.export_assets.get_details: Given export_id and corresponding space_id/project_id, this gives the export job details. Usually used for monitoring the export job submitted with start api\n",
        "3. client.export_assets.list: Prints summary of all the export jobs\n",
        "4. client.export_assets.get_exported_content: Downloads the exported content. This information will be used by the import process\n",
        "5. client.export_assets.delete: Deletes the given export job\n",
        "6. client.export_assets.cancel: Cancels the given export job if running"
      ]
    },
    {
      "cell_type": "markdown",
      "metadata": {},
      "source": [
        "### 4.1: Start the export process"
      ]
    },
    {
      "cell_type": "markdown",
      "metadata": {},
      "source": [
        "Start the export process for the model created. Either ASSET_IDS or ASSET_TYPES or ALL_ASSETS can be provided.\n",
        "If you have more than one model ids, you need to provide them as array like client.export_assets.ConfigurationMetaNames.ASSET_IDS: [model_id1, model_id2]\n",
        "Refer to the help api above to see different usages and details"
      ]
    },
    {
      "cell_type": "code",
      "execution_count": 16,
      "metadata": {},
      "outputs": [
        {
          "name": "stdout",
          "output_type": "stream",
          "text": [
            "export job with id 0c162aa9-f2a5-4342-a6d8-ec61d2744e03 has started. Monitor status using client.export_assets.get_details api. Check 'help(client.export_assets.get_details)' for details on the api usage\n",
            "{\n",
            "  \"entity\": {\n",
            "    \"assets\": {\n",
            "      \"all_assets\": false,\n",
            "      \"asset_ids\": [\n",
            "        \"819b311b-9027-4235-a9b8-f03c51028ea9\"\n",
            "      ]\n",
            "    },\n",
            "    \"format\": \"json\",\n",
            "    \"skip_notification\": true,\n",
            "    \"status\": {\n",
            "      \"state\": \"pending\"\n",
            "    }\n",
            "  },\n",
            "  \"metadata\": {\n",
            "    \"created_at\": \"2025-05-21T09:51:58.631Z\",\n",
            "    \"creator_id\": \"1000331001\",\n",
            "    \"id\": \"0c162aa9-f2a5-4342-a6d8-ec61d2744e03\",\n",
            "    \"name\": \"export_model\",\n",
            "    \"space_id\": \"5bb7242f-ee83-4526-8b8e-01e12d665e24\",\n",
            "    \"url\": \"/v2/asset_exports/0c162aa9-f2a5-4342-a6d8-ec61d2744e03\"\n",
            "  }\n",
            "}\n"
          ]
        }
      ],
      "source": [
        "metadata = {\n",
        "    client.export_assets.ConfigurationMetaNames.NAME: \"export_model\",\n",
        "    client.export_assets.ConfigurationMetaNames.ASSET_IDS: [published_model_id],\n",
        "}\n",
        "\n",
        "details = client.export_assets.start(meta_props=metadata, space_id=export_space_id)\n",
        "print(json.dumps(details, indent=2))\n",
        "\n",
        "export_job_id = details[\"metadata\"][\"id\"]"
      ]
    },
    {
      "cell_type": "markdown",
      "metadata": {},
      "source": [
        "### 4.2: Monitor the export process"
      ]
    },
    {
      "cell_type": "code",
      "execution_count": 17,
      "metadata": {},
      "outputs": [
        {
          "name": "stdout",
          "output_type": "stream",
          "text": [
            "completed\n",
            "{\n",
            "  \"entity\": {\n",
            "    \"assets\": {\n",
            "      \"all_assets\": false,\n",
            "      \"asset_ids\": [\n",
            "        \"819b311b-9027-4235-a9b8-f03c51028ea9\"\n",
            "      ]\n",
            "    },\n",
            "    \"format\": \"json\",\n",
            "    \"skip_notification\": true,\n",
            "    \"status\": {\n",
            "      \"state\": \"completed\"\n",
            "    }\n",
            "  },\n",
            "  \"metadata\": {\n",
            "    \"created_at\": \"2025-05-21T09:51:58.631Z\",\n",
            "    \"creator_id\": \"1000331001\",\n",
            "    \"id\": \"0c162aa9-f2a5-4342-a6d8-ec61d2744e03\",\n",
            "    \"name\": \"export_model\",\n",
            "    \"space_id\": \"5bb7242f-ee83-4526-8b8e-01e12d665e24\",\n",
            "    \"updated_at\": \"2025-05-21T09:52:02.911Z\",\n",
            "    \"url\": \"/v2/asset_exports/0c162aa9-f2a5-4342-a6d8-ec61d2744e03\"\n",
            "  }\n",
            "}\n"
          ]
        }
      ],
      "source": [
        "import time\n",
        "\n",
        "start_time = time.time()\n",
        "diff_time = start_time - start_time\n",
        "while diff_time < 10 * 60:\n",
        "    time.sleep(3)\n",
        "    response = client.export_assets.get_details(export_job_id, space_id=export_space_id)\n",
        "\n",
        "    state = response[\"entity\"][\"status\"][\"state\"]\n",
        "    print(state)\n",
        "    if state in (\"completed\", \"error\", \"failed\"):\n",
        "        break\n",
        "\n",
        "    diff_time = time.time() - start_time\n",
        "else:\n",
        "    raise TimeoutError(\"Export wasn't completed in 10 minutes\")\n",
        "\n",
        "print(json.dumps(response, indent=2))"
      ]
    },
    {
      "cell_type": "markdown",
      "metadata": {},
      "source": [
        "### 4.3: Get the exported content"
      ]
    },
    {
      "cell_type": "code",
      "execution_count": 18,
      "metadata": {},
      "outputs": [
        {
          "name": "stdout",
          "output_type": "stream",
          "text": [
            "Successfully saved export content to file: 'EXPORT_DATA/exported_content_dcf11093-d274-4af8-8e9e-e929a78f860d.zip'\n",
            "EXPORT_DATA/exported_content_dcf11093-d274-4af8-8e9e-e929a78f860d.zip\n"
          ]
        }
      ],
      "source": [
        "export_dir = \"EXPORT_DATA\"\n",
        "\n",
        "if not os.path.isdir(export_dir):\n",
        "    os.mkdir(export_dir)\n",
        "\n",
        "export_file_name = f\"exported_content_{uuid.uuid4()}.zip\"\n",
        "export_file_path = os.path.join(export_dir, export_file_name)\n",
        "\n",
        "details = client.export_assets.get_exported_content(\n",
        "    export_job_id, space_id=export_space_id, file_path=export_file_path\n",
        ")\n",
        "\n",
        "print(details)"
      ]
    },
    {
      "cell_type": "markdown",
      "metadata": {},
      "source": [
        "<a id=\"import\"></a>\n",
        "## 5. Import"
      ]
    },
    {
      "cell_type": "markdown",
      "metadata": {},
      "source": [
        "client.import_assets has these apis. For any help on these apis, type 'help(api_name)' in your notebook \n",
        "Example: help(client.import_assets.start), help(client.import_assets.get_details)\n",
        "\n",
        "1. client.import_assets.start: This starts the import job. import job is asynchronously executed\n",
        "2. client.import_assets.get_details: Given import_id and corresponding space_id/project_id, this gives the import job details. Usually used for monitoring the import job submitted with start api\n",
        "3. client.import_assets.list: Prints summary of all the import jobs\n",
        "4. client.import_assets.delete: Deletes the given import job\n",
        "5. client.import_assets.cancel: Cancels the given import job if running"
      ]
    },
    {
      "cell_type": "markdown",
      "metadata": {},
      "source": [
        "### 5.1: Start the import process"
      ]
    },
    {
      "cell_type": "code",
      "execution_count": 19,
      "metadata": {},
      "outputs": [
        {
          "name": "stdout",
          "output_type": "stream",
          "text": [
            "import job with id d3d29ba4-2a95-44d6-b5ff-3c7d79353564 has started. Monitor status using client.import_assets.get_details api. Check 'help(client.import_assets.get_details)' for details on the api usage\n",
            "{\n",
            "  \"entity\": {\n",
            "    \"format\": \"json\",\n",
            "    \"skip_notification\": true,\n",
            "    \"status\": {\n",
            "      \"state\": \"pending\"\n",
            "    }\n",
            "  },\n",
            "  \"metadata\": {\n",
            "    \"created_at\": \"2025-05-21T09:53:46.302Z\",\n",
            "    \"creator_id\": \"1000331001\",\n",
            "    \"id\": \"d3d29ba4-2a95-44d6-b5ff-3c7d79353564\",\n",
            "    \"space_id\": \"657787c9-9b1c-470e-a979-a9abd071bbe1\",\n",
            "    \"url\": \"/v2/asset_imports/d3d29ba4-2a95-44d6-b5ff-3c7d79353564\"\n",
            "  }\n",
            "}\n"
          ]
        }
      ],
      "source": [
        "details = client.import_assets.start(\n",
        "    file_path=export_file_path, space_id=import_space_id\n",
        ")\n",
        "print(json.dumps(details, indent=2))\n",
        "\n",
        "import_job_id = details[\"metadata\"][\"id\"]"
      ]
    },
    {
      "cell_type": "markdown",
      "metadata": {},
      "source": [
        "### 5.2: Monitor the import process"
      ]
    },
    {
      "cell_type": "code",
      "execution_count": 20,
      "metadata": {},
      "outputs": [
        {
          "name": "stdout",
          "output_type": "stream",
          "text": [
            "running\n",
            "completed\n",
            "{\n",
            "  \"entity\": {\n",
            "    \"format\": \"json\",\n",
            "    \"skip_notification\": true,\n",
            "    \"status\": {\n",
            "      \"state\": \"completed\"\n",
            "    }\n",
            "  },\n",
            "  \"metadata\": {\n",
            "    \"created_at\": \"2025-05-21T09:53:46.302Z\",\n",
            "    \"creator_id\": \"1000331001\",\n",
            "    \"id\": \"d3d29ba4-2a95-44d6-b5ff-3c7d79353564\",\n",
            "    \"space_id\": \"657787c9-9b1c-470e-a979-a9abd071bbe1\",\n",
            "    \"updated_at\": \"2025-05-21T09:53:52.768Z\",\n",
            "    \"url\": \"/v2/asset_imports/d3d29ba4-2a95-44d6-b5ff-3c7d79353564\"\n",
            "  }\n",
            "}\n"
          ]
        }
      ],
      "source": [
        "import time\n",
        "\n",
        "start_time = time.time()\n",
        "diff_time = start_time - start_time\n",
        "while diff_time < 10 * 60:\n",
        "    time.sleep(3)\n",
        "    response = client.import_assets.get_details(import_job_id, space_id=import_space_id)\n",
        "\n",
        "    state = response[\"entity\"][\"status\"][\"state\"]\n",
        "    print(state)\n",
        "    if state in (\"completed\", \"error\", \"failed\"):\n",
        "        break\n",
        "\n",
        "    diff_time = time.time() - start_time\n",
        "else:\n",
        "    raise TimeoutError(\"Import wasn't completed in 10 minutes\")\n",
        "\n",
        "print(json.dumps(response, indent=2))"
      ]
    },
    {
      "cell_type": "markdown",
      "metadata": {},
      "source": [
        "Display the list of models in the import space"
      ]
    },
    {
      "cell_type": "code",
      "execution_count": 21,
      "metadata": {},
      "outputs": [
        {
          "name": "stdout",
          "output_type": "stream",
          "text": [
            "\n",
            "List of models:\n",
            "\n",
            "\n",
            "model id for deployment: 9ae2e237-a0db-4c12-b3e4-99a1b33d28ac\n"
          ]
        }
      ],
      "source": [
        "client.set.default_space(import_space_id)\n",
        "\n",
        "print(\"\\nList of models:\\n\")\n",
        "client.repository.list_models()\n",
        "details = client.repository.get_model_details()\n",
        "\n",
        "for obj in details[\"resources\"]:\n",
        "    if obj[\"metadata\"][\"name\"] == \"External Keras model\":\n",
        "        model_id_for_deployment = obj[\"metadata\"][\"id\"]\n",
        "\n",
        "print(f\"\\nmodel id for deployment: {model_id_for_deployment}\")"
      ]
    },
    {
      "cell_type": "markdown",
      "metadata": {},
      "source": [
        "List the import jobs"
      ]
    },
    {
      "cell_type": "code",
      "execution_count": 22,
      "metadata": {},
      "outputs": [
        {
          "data": {
            "text/html": [
              "<div>\n",
              "<style scoped>\n",
              "    .dataframe tbody tr th:only-of-type {\n",
              "        vertical-align: middle;\n",
              "    }\n",
              "\n",
              "    .dataframe tbody tr th {\n",
              "        vertical-align: top;\n",
              "    }\n",
              "\n",
              "    .dataframe thead th {\n",
              "        text-align: right;\n",
              "    }\n",
              "</style>\n",
              "<table border=\"1\" class=\"dataframe\">\n",
              "  <thead>\n",
              "    <tr style=\"text-align: right;\">\n",
              "      <th></th>\n",
              "      <th>ID</th>\n",
              "      <th>CREATED</th>\n",
              "      <th>STATUS</th>\n",
              "    </tr>\n",
              "  </thead>\n",
              "  <tbody>\n",
              "    <tr>\n",
              "      <th>0</th>\n",
              "      <td>d3d29ba4-2a95-44d6-b5ff-3c7d79353564</td>\n",
              "      <td>2025-05-21T09:53:46.302Z</td>\n",
              "      <td>completed</td>\n",
              "    </tr>\n",
              "  </tbody>\n",
              "</table>\n",
              "</div>"
            ],
            "text/plain": [
              "                                     ID                   CREATED     STATUS\n",
              "0  d3d29ba4-2a95-44d6-b5ff-3c7d79353564  2025-05-21T09:53:46.302Z  completed"
            ]
          },
          "execution_count": 22,
          "metadata": {},
          "output_type": "execute_result"
        }
      ],
      "source": [
        "client.import_assets.list(space_id=import_space_id)"
      ]
    },
    {
      "cell_type": "markdown",
      "metadata": {},
      "source": [
        "List the export jobs"
      ]
    },
    {
      "cell_type": "code",
      "execution_count": 23,
      "metadata": {},
      "outputs": [
        {
          "data": {
            "text/html": [
              "<div>\n",
              "<style scoped>\n",
              "    .dataframe tbody tr th:only-of-type {\n",
              "        vertical-align: middle;\n",
              "    }\n",
              "\n",
              "    .dataframe tbody tr th {\n",
              "        vertical-align: top;\n",
              "    }\n",
              "\n",
              "    .dataframe thead th {\n",
              "        text-align: right;\n",
              "    }\n",
              "</style>\n",
              "<table border=\"1\" class=\"dataframe\">\n",
              "  <thead>\n",
              "    <tr style=\"text-align: right;\">\n",
              "      <th></th>\n",
              "      <th>ID</th>\n",
              "      <th>NAME</th>\n",
              "      <th>CREATED</th>\n",
              "      <th>STATUS</th>\n",
              "    </tr>\n",
              "  </thead>\n",
              "  <tbody>\n",
              "    <tr>\n",
              "      <th>0</th>\n",
              "      <td>0c162aa9-f2a5-4342-a6d8-ec61d2744e03</td>\n",
              "      <td>export_model</td>\n",
              "      <td>2025-05-21T09:51:58.631Z</td>\n",
              "      <td>completed</td>\n",
              "    </tr>\n",
              "  </tbody>\n",
              "</table>\n",
              "</div>"
            ],
            "text/plain": [
              "                                     ID          NAME  \\\n",
              "0  0c162aa9-f2a5-4342-a6d8-ec61d2744e03  export_model   \n",
              "\n",
              "                    CREATED     STATUS  \n",
              "0  2025-05-21T09:51:58.631Z  completed  "
            ]
          },
          "execution_count": 23,
          "metadata": {},
          "output_type": "execute_result"
        }
      ],
      "source": [
        "client.export_assets.list(space_id=export_space_id)"
      ]
    },
    {
      "cell_type": "markdown",
      "metadata": {},
      "source": [
        "<a id=\"scoring\"></a>\n",
        "## 6. Deploy and score the imported model"
      ]
    },
    {
      "cell_type": "markdown",
      "metadata": {},
      "source": [
        "### 6.1: Create model deployment"
      ]
    },
    {
      "cell_type": "markdown",
      "metadata": {},
      "source": [
        "#### Create online deployment for published model"
      ]
    },
    {
      "cell_type": "code",
      "execution_count": 24,
      "metadata": {
        "pycharm": {
          "is_executing": false,
          "name": "#%%\n"
        }
      },
      "outputs": [
        {
          "name": "stdout",
          "output_type": "stream",
          "text": [
            "\n",
            "\n",
            "######################################################################################\n",
            "\n",
            "Synchronous deployment creation for id: '9ae2e237-a0db-4c12-b3e4-99a1b33d28ac' started\n",
            "\n",
            "######################################################################################\n",
            "\n",
            "\n",
            "initializing\n",
            "Note: online_url is deprecated and will be removed in a future release. Use serving_urls instead.\n",
            ".......................................\n",
            "ready\n",
            "\n",
            "\n",
            "-----------------------------------------------------------------------------------------------\n",
            "Successfully finished deployment creation, deployment_id='6015e036-6f9c-4bf1-a8e4-97e1fd6cdf04'\n",
            "-----------------------------------------------------------------------------------------------\n",
            "\n",
            "\n"
          ]
        }
      ],
      "source": [
        "metadata = {\n",
        "    client.deployments.ConfigurationMetaNames.NAME: \"Deployment of external Keras model\",\n",
        "    client.deployments.ConfigurationMetaNames.ONLINE: {},\n",
        "}\n",
        "\n",
        "created_deployment = client.deployments.create(\n",
        "    model_id_for_deployment, meta_props=metadata\n",
        ")"
      ]
    },
    {
      "cell_type": "code",
      "execution_count": 25,
      "metadata": {},
      "outputs": [],
      "source": [
        "deployment_id = client.deployments.get_id(created_deployment)"
      ]
    },
    {
      "cell_type": "markdown",
      "metadata": {},
      "source": [
        "Now you can print an online scoring endpoint. "
      ]
    },
    {
      "cell_type": "code",
      "execution_count": null,
      "metadata": {
        "pycharm": {
          "is_executing": false,
          "name": "#%%\n"
        }
      },
      "outputs": [],
      "source": [
        "scoring_endpoint = client.deployments.get_scoring_href(created_deployment)\n",
        "print(scoring_endpoint)"
      ]
    },
    {
      "cell_type": "markdown",
      "metadata": {},
      "source": [
        "You can also list existing deployments."
      ]
    },
    {
      "cell_type": "code",
      "execution_count": 27,
      "metadata": {},
      "outputs": [
        {
          "data": {
            "text/html": [
              "<div>\n",
              "<style scoped>\n",
              "    .dataframe tbody tr th:only-of-type {\n",
              "        vertical-align: middle;\n",
              "    }\n",
              "\n",
              "    .dataframe tbody tr th {\n",
              "        vertical-align: top;\n",
              "    }\n",
              "\n",
              "    .dataframe thead th {\n",
              "        text-align: right;\n",
              "    }\n",
              "</style>\n",
              "<table border=\"1\" class=\"dataframe\">\n",
              "  <thead>\n",
              "    <tr style=\"text-align: right;\">\n",
              "      <th></th>\n",
              "      <th>ID</th>\n",
              "      <th>NAME</th>\n",
              "      <th>STATE</th>\n",
              "      <th>CREATED</th>\n",
              "      <th>ARTIFACT_TYPE</th>\n",
              "      <th>SPEC_STATE</th>\n",
              "      <th>SPEC_REPLACEMENT</th>\n",
              "    </tr>\n",
              "  </thead>\n",
              "  <tbody>\n",
              "    <tr>\n",
              "      <th>0</th>\n",
              "      <td>6015e036-6f9c-4bf1-a8e4-97e1fd6cdf04</td>\n",
              "      <td>Deployment of external Keras model</td>\n",
              "      <td>ready</td>\n",
              "      <td>2025-05-21T09:54:12.341Z</td>\n",
              "      <td>model</td>\n",
              "      <td>supported</td>\n",
              "      <td></td>\n",
              "    </tr>\n",
              "  </tbody>\n",
              "</table>\n",
              "</div>"
            ],
            "text/plain": [
              "                                     ID                                NAME  \\\n",
              "0  6015e036-6f9c-4bf1-a8e4-97e1fd6cdf04  Deployment of external Keras model   \n",
              "\n",
              "   STATE                   CREATED ARTIFACT_TYPE SPEC_STATE SPEC_REPLACEMENT  \n",
              "0  ready  2025-05-21T09:54:12.341Z         model  supported                   "
            ]
          },
          "execution_count": 27,
          "metadata": {},
          "output_type": "execute_result"
        }
      ],
      "source": [
        "client.deployments.list()"
      ]
    },
    {
      "cell_type": "markdown",
      "metadata": {},
      "source": [
        "### 6.2: Get deployment details"
      ]
    },
    {
      "cell_type": "code",
      "execution_count": null,
      "metadata": {
        "pycharm": {
          "is_executing": false,
          "name": "#%%\n"
        }
      },
      "outputs": [],
      "source": [
        "details = client.deployments.get_details(deployment_id)\n",
        "print(json.dumps(details, indent=2))"
      ]
    },
    {
      "cell_type": "markdown",
      "metadata": {},
      "source": [
        "### 6.3: Score"
      ]
    },
    {
      "cell_type": "markdown",
      "metadata": {},
      "source": [
        "You can use below method to do test scoring request against deployed model."
      ]
    },
    {
      "cell_type": "markdown",
      "metadata": {},
      "source": [
        "Let's first visualize two samples from dataset, we'll use for scoring. You must have matplotlib package installed"
      ]
    },
    {
      "cell_type": "code",
      "execution_count": 29,
      "metadata": {},
      "outputs": [],
      "source": [
        "%matplotlib inline\n",
        "import matplotlib.pyplot as plt"
      ]
    },
    {
      "cell_type": "code",
      "execution_count": 30,
      "metadata": {},
      "outputs": [
        {
          "data": {
            "image/png": "[encoded data removed]",
            "text/plain": [
              "<Figure size 640x480 with 2 Axes>"
            ]
          },
          "metadata": {},
          "output_type": "display_data"
        }
      ],
      "source": [
        "for i, image in enumerate([x_test[0], x_test[1]]):\n",
        "    plt.subplot(2, 2, i + 1)\n",
        "    plt.axis(\"off\")\n",
        "    plt.imshow(image, cmap=plt.cm.gray_r, interpolation=\"nearest\")"
      ]
    },
    {
      "cell_type": "markdown",
      "metadata": {},
      "source": [
        "Prepare scoring payload with records to score."
      ]
    },
    {
      "cell_type": "code",
      "execution_count": 31,
      "metadata": {},
      "outputs": [],
      "source": [
        "score_0 = x_test[0].flatten().tolist()\n",
        "score_1 = x_test[1].flatten().tolist()"
      ]
    },
    {
      "cell_type": "code",
      "execution_count": 32,
      "metadata": {
        "pycharm": {
          "is_executing": false,
          "name": "#%%\n"
        }
      },
      "outputs": [],
      "source": [
        "scoring_payload = {\"input_data\": [{\"values\": [score_0, score_1]}]}"
      ]
    },
    {
      "cell_type": "markdown",
      "metadata": {},
      "source": [
        "Use ``client.deployments.score()`` method to run scoring."
      ]
    },
    {
      "cell_type": "code",
      "execution_count": 33,
      "metadata": {
        "pycharm": {
          "is_executing": false,
          "name": "#%%\n"
        }
      },
      "outputs": [],
      "source": [
        "predictions = client.deployments.score(deployment_id, scoring_payload)"
      ]
    },
    {
      "cell_type": "code",
      "execution_count": 34,
      "metadata": {
        "pycharm": {
          "is_executing": false,
          "name": "#%%\n"
        }
      },
      "outputs": [
        {
          "name": "stdout",
          "output_type": "stream",
          "text": [
            "{\n",
            "  \"predictions\": [\n",
            "    {\n",
            "      \"fields\": [\n",
            "        \"prediction\",\n",
            "        \"prediction_classes\",\n",
            "        \"probability\"\n",
            "      ],\n",
            "      \"id\": \"dense_2\",\n",
            "      \"values\": [\n",
            "        [\n",
            "          [\n",
            "            0.0,\n",
            "            0.0,\n",
            "            0.0,\n",
            "            0.0,\n",
            "            0.0,\n",
            "            0.0,\n",
            "            0.0,\n",
            "            1.0,\n",
            "            0.0,\n",
            "            0.0\n",
            "          ],\n",
            "          7,\n",
            "          [\n",
            "            0.0,\n",
            "            0.0,\n",
            "            0.0,\n",
            "            0.0,\n",
            "            0.0,\n",
            "            0.0,\n",
            "            0.0,\n",
            "            1.0,\n",
            "            0.0,\n",
            "            0.0\n",
            "          ]\n",
            "        ],\n",
            "        [\n",
            "          [\n",
            "            0.0,\n",
            "            0.0,\n",
            "            1.0,\n",
            "            0.0,\n",
            "            0.0,\n",
            "            0.0,\n",
            "            0.0,\n",
            "            0.0,\n",
            "            0.0,\n",
            "            0.0\n",
            "          ],\n",
            "          2,\n",
            "          [\n",
            "            0.0,\n",
            "            0.0,\n",
            "            1.0,\n",
            "            0.0,\n",
            "            0.0,\n",
            "            0.0,\n",
            "            0.0,\n",
            "            0.0,\n",
            "            0.0,\n",
            "            0.0\n",
            "          ]\n",
            "        ]\n",
            "      ]\n",
            "    }\n",
            "  ]\n",
            "}\n"
          ]
        }
      ],
      "source": [
        "print(json.dumps(predictions, indent=2))"
      ]
    },
    {
      "cell_type": "markdown",
      "metadata": {},
      "source": [
        "<a id=\"cleanup\"></a>\n",
        "## 7. Clean up "
      ]
    },
    {
      "cell_type": "code",
      "execution_count": 35,
      "metadata": {},
      "outputs": [
        {
          "name": "stdout",
          "output_type": "stream",
          "text": [
            "Export job deleted\n",
            "Import job deleted\n",
            "DELETED\n",
            "DELETED\n"
          ]
        },
        {
          "data": {
            "text/plain": [
              "'SUCCESS'"
            ]
          },
          "execution_count": 35,
          "metadata": {},
          "output_type": "execute_result"
        }
      ],
      "source": [
        "client.export_assets.delete(export_job_id, space_id=export_space_id)\n",
        "client.import_assets.delete(import_job_id, space_id=import_space_id)\n",
        "\n",
        "client.spaces.delete(export_space_id)\n",
        "client.spaces.delete(import_space_id)"
      ]
    },
    {
      "cell_type": "markdown",
      "metadata": {},
      "source": [
        "If you want to clean up all created assets:\n",
        "- experiments\n",
        "- trainings\n",
        "- pipelines\n",
        "- model definitions\n",
        "- models\n",
        "- functions\n",
        "- deployments\n",
        "\n",
        "please follow up this sample [notebook](https://github.com/IBM/watsonx-ai-samples/blob/master/cpd5.2/notebooks/python_sdk/instance-management/Machine%20Learning%20artifacts%20management.ipynb)."
      ]
    },
    {
      "cell_type": "markdown",
      "metadata": {},
      "source": [
        "<a id=\"summary\"></a>\n",
        "## 8. Summary and next steps"
      ]
    },
    {
      "cell_type": "markdown",
      "metadata": {},
      "source": [
        "You successfully completed this notebook! You learned how to use export/import assets client apis.\n",
        "\n",
        "Check out our _<a href=\"https://ibm.github.io/watsonx-ai-python-sdk/samples.html\" target=\"_blank\" rel=\"noopener no referrer\">Online Documentation</a>_ for more samples, tutorials, documentation, how-tos, and blog posts. "
      ]
    },
    {
      "cell_type": "markdown",
      "metadata": {},
      "source": [
        "### Authors\n",
        "\n",
        "*Mithun - *vbmithun@in.ibm.com**, Software Engineer"
      ]
    },
    {
      "cell_type": "markdown",
      "metadata": {},
      "source": [
        "Copyright © 2020-2025 IBM. This notebook and its source code are released under the terms of the MIT License."
      ]
    }
  ],
  "metadata": {
    "kernelspec": {
      "display_name": "watsonx-ai-samples-py-312",
      "language": "python",
      "name": "python3"
    },
    "language_info": {
      "codemirror_mode": {
        "name": "ipython",
        "version": 3
      },
      "file_extension": ".py",
      "mimetype": "text/x-python",
      "name": "python",
      "nbconvert_exporter": "python",
      "pygments_lexer": "ipython3",
      "version": "3.12.9"
    },
    "pycharm": {
      "stem_cell": {
        "cell_type": "raw",
        "metadata": {
          "collapsed": false
        },
        "source": []
      }
    }
  },
  "nbformat": 4,
  "nbformat_minor": 4
}

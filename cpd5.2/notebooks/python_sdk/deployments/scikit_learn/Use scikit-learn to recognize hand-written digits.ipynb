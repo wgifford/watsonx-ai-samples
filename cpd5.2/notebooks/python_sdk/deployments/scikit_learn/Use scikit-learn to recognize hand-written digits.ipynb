{
 "cells": [
  {
   "cell_type": "markdown",
   "metadata": {
    "id": "575f193e-addb-4804-899a-77d52d268e1b"
   },
   "source": [
    "# Use scikit-learn to recognize hand-written digits with `ibm-watsonx-ai`\n",
    "\n",
    "This notebook contains steps and code to demonstrate how to persist and deploy a locally trained scikit-learn model in the watsonx.ai with [ibm-watsonx-ai](https://pypi.python.org/pypi/ibm-watsonx-ai) library available in PyPI repository. This notebook introduces commands for getting a model and training data, persisting the model, deploying it, scoring it, updating it, and redeploying it.\n",
    "\n",
    "Some familiarity with Python is helpful. This notebook uses Python 3.12."
   ]
  },
  {
   "cell_type": "markdown",
   "metadata": {
    "id": "f5ff91f3-b7ab-4098-bf58-3a75edbfe314"
   },
   "source": [
    "## Learning goals\n",
    "\n",
    "The learning goals of this notebook are:\n",
    "\n",
    "-  Train an scikit-learn model\n",
    "-  Persist the trained model in the watsonx.ai\n",
    "-  Deploy the model for online scoring using the client library\n",
    "-  Score sample records using the client library\n",
    "\n",
    "\n",
    "## Contents\n",
    "\n",
    "This notebook contains the following parts:\n",
    "\n",
    "1. [Setup](#setup)\n",
    "2. [Explore data and create a scikit-learn model](#train)\n",
    "3. [Persist the externally created scikit model](#upload)\n",
    "4. [Deploy and score](#deploy)\n",
    "5. [Clean up](#cleanup)\n",
    "6. [Summary and next steps](#summary)"
   ]
  },
  {
   "cell_type": "markdown",
   "metadata": {
    "id": "989fb228-5eb4-4f9e-a5ef-67634dba3849"
   },
   "source": [
    "<a id=\"setup\"></a>\n",
    "## 1. Set up the environment\n",
    "\n",
    "Before you use the sample code in this notebook, contact your Cloud Pak for Data administrator and ask for your account credentials.\n"
   ]
  },
  {
   "cell_type": "markdown",
   "metadata": {
    "id": "927c26ac-1fb5-4110-b72a-022b9d2beedb"
   },
   "source": [
    "### Install dependencies\n",
    "**Note:** `ibm-watsonx-ai` documentation can be found <a href=\"https://ibm.github.io/watsonx-ai-python-sdk/index.html\" target=\"_blank\" rel=\"noopener no referrer\">here</a>."
   ]
  },
  {
   "cell_type": "code",
   "execution_count": 1,
   "metadata": {
    "id": "c4fc7663-6dc8-4b3b-8a78-4f4bdade07b4"
   },
   "outputs": [
    {
     "name": "stdout",
     "output_type": "stream",
     "text": [
      "Successfully installed wget-3.2\n",
      "\u001b[1A\u001b[2KSuccessfully installed joblib-1.5.0 numpy-2.2.5 scikit-learn-1.6.1 scipy-1.15.3 threadpoolctl-3.6.0\n",
      "\u001b[1A\u001b[2KSuccessfully installed anyio-4.9.0 certifi-2025.4.26 charset-normalizer-3.4.2 h11-0.16.0 httpcore-1.0.9 httpx-0.28.1 ibm-cos-sdk-2.14.1 ibm-cos-sdk-core-2.14.1 ibm-cos-sdk-s3transfer-2.14.1 ibm-watsonx-ai-1.3.13 idna-3.10 jmespath-1.0.1 lomond-0.3.3 pandas-2.2.3 pytz-2025.2 requests-2.32.2 sniffio-1.3.1 tabulate-0.9.0 typing_extensions-4.13.2 tzdata-2025.2 urllib3-2.4.0\n"
     ]
    }
   ],
   "source": [
    "%pip install wget | tail -n 1\n",
    "%pip install \"scikit-learn==1.6.1\" | tail -n 1\n",
    "%pip install -U ibm-watsonx-ai | tail -n 1"
   ]
  },
  {
   "cell_type": "markdown",
   "metadata": {
    "id": "4f0902bf-99c5-4b45-8989-29dad429ef88"
   },
   "source": [
    "#### Define credentials\n",
    "\n",
    "Authenticate the watsonx.ai Runtime service on IBM Cloud Pak for Data. You need to provide the **admin's** `username` and the platform `url`."
   ]
  },
  {
   "cell_type": "code",
   "execution_count": null,
   "metadata": {},
   "outputs": [],
   "source": [
    "username = \"PASTE YOUR USERNAME HERE\"\n",
    "url = \"PASTE THE PLATFORM URL HERE\""
   ]
  },
  {
   "cell_type": "markdown",
   "metadata": {},
   "source": [
    "Use the **admin's** `api_key` to authenticate watsonx.ai Runtime services:"
   ]
  },
  {
   "cell_type": "code",
   "execution_count": null,
   "metadata": {},
   "outputs": [],
   "source": [
    "import getpass\n",
    "from ibm_watsonx_ai import Credentials\n",
    "\n",
    "credentials = Credentials(\n",
    "    username=username,\n",
    "    api_key=getpass.getpass(\"Enter your watsonx.ai API key and hit enter: \"),\n",
    "    url=url,\n",
    "    instance_id=\"openshift\",\n",
    "    version=\"5.2\",\n",
    ")"
   ]
  },
  {
   "cell_type": "markdown",
   "metadata": {},
   "source": [
    "Alternatively you can use the **admin's** `password`:"
   ]
  },
  {
   "cell_type": "code",
   "execution_count": 3,
   "metadata": {
    "id": "9639e889-975a-429c-be59-e9195195a89a"
   },
   "outputs": [],
   "source": [
    "import getpass\n",
    "from ibm_watsonx_ai import Credentials\n",
    "\n",
    "if \"credentials\" not in locals() or not credentials.api_key:\n",
    "    credentials = Credentials(\n",
    "        username=username,\n",
    "        password=getpass.getpass(\"Enter your watsonx.ai password and hit enter: \"),\n",
    "        url=url,\n",
    "        instance_id=\"openshift\",\n",
    "        version=\"5.2\",\n",
    "    )"
   ]
  },
  {
   "cell_type": "markdown",
   "metadata": {
    "id": "4b5a9b33-29f8-421f-8fda-6ba6255404d5"
   },
   "source": [
    "#### Create `APIClient` instance"
   ]
  },
  {
   "cell_type": "code",
   "execution_count": 4,
   "metadata": {
    "id": "c1f20cab-f31a-4c03-ae13-bd810b758569"
   },
   "outputs": [],
   "source": [
    "from ibm_watsonx_ai import APIClient\n",
    "\n",
    "client = APIClient(credentials)"
   ]
  },
  {
   "cell_type": "markdown",
   "metadata": {
    "id": "a2cc45f6-8a38-4140-9e8f-eb61b6ea998d"
   },
   "source": [
    "### Working with spaces\n",
    "\n",
    "First of all, you need to create a space that will be used for your work. If you do not have a space, you can use `{PLATFORM_URL}/ml-runtime/spaces?context=icp4data` to create one.\n",
    "\n",
    "- Click New Deployment Space\n",
    "- Create an empty space\n",
    "- Go to space `Settings` tab\n",
    "- Copy `space_id` and paste it below\n",
    "\n",
    "**Tip**: You can also use SDK to prepare the space for your work. More information can be found [here](https://github.com/IBM/watsonx-ai-samples/blob/master/cpd5.2/notebooks/python_sdk/instance-management/Space%20management.ipynb).\n",
    "\n",
    "**Action**: Assign space ID below"
   ]
  },
  {
   "cell_type": "code",
   "execution_count": null,
   "metadata": {
    "id": "061ad87b-6e84-4147-b114-02a9a7a1088d"
   },
   "outputs": [],
   "source": [
    "space_id = \"PASTE YOUR SPACE ID HERE\""
   ]
  },
  {
   "cell_type": "markdown",
   "metadata": {
    "id": "4925d47a-24d9-4efa-823f-309a946e34f5"
   },
   "source": [
    "You can use the `list()` method to print all existing spaces."
   ]
  },
  {
   "cell_type": "code",
   "execution_count": null,
   "metadata": {
    "id": "9c4a6973-f75e-4966-bd95-d6f850b9bfb2"
   },
   "outputs": [],
   "source": [
    "client.spaces.list(limit=10)"
   ]
  },
  {
   "cell_type": "markdown",
   "metadata": {
    "id": "e399fbd0-3606-41ac-a0c7-05d64dadc1ba"
   },
   "source": [
    "To be able to interact with all resources available in Watson Machine Learning, you need to set **space** which you will be using."
   ]
  },
  {
   "cell_type": "code",
   "execution_count": 6,
   "metadata": {
    "id": "da294c74-5506-4946-9b7c-c45d7657a3de"
   },
   "outputs": [
    {
     "data": {
      "text/plain": [
       "'SUCCESS'"
      ]
     },
     "execution_count": 6,
     "metadata": {},
     "output_type": "execute_result"
    }
   ],
   "source": [
    "client.set.default_space(space_id)"
   ]
  },
  {
   "cell_type": "markdown",
   "metadata": {
    "id": "e71cd34d-226b-4485-9b83-a3a12f8eef38",
    "pycharm": {
     "name": "#%% md\n"
    }
   },
   "source": [
    "<a id=\"train\"></a>\n",
    "## 2. Explore data and create an scikit-learn model\n",
    "In this section, you will prepare and train a handwritten digits model using the scikit-learn library."
   ]
  },
  {
   "cell_type": "markdown",
   "metadata": {
    "id": "098ae887-ff4c-45fb-8f74-f07050eec6be"
   },
   "source": [
    "### 2.1 Explore data"
   ]
  },
  {
   "cell_type": "markdown",
   "metadata": {
    "id": "63498aa9-f3a5-4838-ab59-7223c63351bb"
   },
   "source": [
    "As the first step, you will load the data from scikit-learn sample datasets and perform basic exploration."
   ]
  },
  {
   "cell_type": "code",
   "execution_count": 7,
   "metadata": {
    "id": "fe52bd72-3f2c-41af-bb19-2756488ed887",
    "pycharm": {
     "is_executing": false,
     "name": "#%%\n"
    }
   },
   "outputs": [],
   "source": [
    "from sklearn import datasets\n",
    "\n",
    "digits = datasets.load_digits()"
   ]
  },
  {
   "cell_type": "markdown",
   "metadata": {
    "id": "5296a359-46e9-47a4-a19d-dbb24789ed11"
   },
   "source": [
    "Loaded dataset consists of 8x8 pixels images of hand-written digits.\n",
    "\n",
    "Let's display first digit data and label using **data** and **target**."
   ]
  },
  {
   "cell_type": "code",
   "execution_count": 8,
   "metadata": {
    "id": "edec5d9a-f2c9-48c3-ba09-1b69e4042596",
    "pycharm": {
     "is_executing": false,
     "name": "#%%\n"
    }
   },
   "outputs": [
    {
     "name": "stdout",
     "output_type": "stream",
     "text": [
      "[[ 0.  0.  5. 13.  9.  1.  0.  0.]\n",
      " [ 0.  0. 13. 15. 10. 15.  5.  0.]\n",
      " [ 0.  3. 15.  2.  0. 11.  8.  0.]\n",
      " [ 0.  4. 12.  0.  0.  8.  8.  0.]\n",
      " [ 0.  5.  8.  0.  0.  9.  8.  0.]\n",
      " [ 0.  4. 11.  0.  1. 12.  7.  0.]\n",
      " [ 0.  2. 14.  5. 10. 12.  0.  0.]\n",
      " [ 0.  0.  6. 13. 10.  0.  0.  0.]]\n"
     ]
    }
   ],
   "source": [
    "print(digits.data[0].reshape((8, 8)))"
   ]
  },
  {
   "cell_type": "code",
   "execution_count": 9,
   "metadata": {
    "id": "87b4b689-bf79-4faa-a0dd-609c3c0ff304"
   },
   "outputs": [
    {
     "data": {
      "text/plain": [
       "np.int64(0)"
      ]
     },
     "execution_count": 9,
     "metadata": {},
     "output_type": "execute_result"
    }
   ],
   "source": [
    "digits.target[0]"
   ]
  },
  {
   "cell_type": "markdown",
   "metadata": {
    "id": "85bbc61d-71a1-4c58-a05d-2de41d970c9a"
   },
   "source": [
    "In the next step, you will count data examples."
   ]
  },
  {
   "cell_type": "code",
   "execution_count": 10,
   "metadata": {
    "id": "563fea71-93d4-4cd3-8e48-096bdcea5681"
   },
   "outputs": [
    {
     "name": "stdout",
     "output_type": "stream",
     "text": [
      "Number of samples: 1797\n"
     ]
    }
   ],
   "source": [
    "samples_count = len(digits.images)\n",
    "print(f\"Number of samples: {samples_count}\")"
   ]
  },
  {
   "cell_type": "markdown",
   "metadata": {
    "id": "2c08c5ee-f6b7-4414-9a9e-7812c7a6733e"
   },
   "source": [
    "### 2.2. Create a scikit-learn model"
   ]
  },
  {
   "cell_type": "markdown",
   "metadata": {
    "id": "586068f3-b99d-4cf7-b224-478fdcf816d9"
   },
   "source": [
    "**Prepare data**"
   ]
  },
  {
   "cell_type": "markdown",
   "metadata": {
    "id": "49a5ee41-e0cd-42d5-aa52-f6ee554ac5d6"
   },
   "source": [
    "In this step, you'll split your data into three datasets:\n",
    "- train\n",
    "- test\n",
    "- score"
   ]
  },
  {
   "cell_type": "code",
   "execution_count": 11,
   "metadata": {
    "id": "82a039ac-afff-415a-a4b6-fd1d586e9b4f"
   },
   "outputs": [
    {
     "name": "stdout",
     "output_type": "stream",
     "text": [
      "Number of training records: 1257\n",
      "Number of testing records : 360\n",
      "Number of scoring records : 180\n"
     ]
    }
   ],
   "source": [
    "train_data = digits.data[: int(0.7 * samples_count)]\n",
    "train_labels = digits.target[: int(0.7 * samples_count)]\n",
    "\n",
    "test_data = digits.data[int(0.7 * samples_count) : int(0.9 * samples_count)]\n",
    "test_labels = digits.target[int(0.7 * samples_count) : int(0.9 * samples_count)]\n",
    "\n",
    "score_data = digits.data[int(0.9 * samples_count) :]\n",
    "\n",
    "print(f\"Number of training records: {len(train_data)}\")\n",
    "print(f\"Number of testing records : {len(test_data)}\")\n",
    "print(f\"Number of scoring records : {len(score_data)}\")"
   ]
  },
  {
   "cell_type": "markdown",
   "metadata": {
    "id": "d9b3c013-afd4-43d0-ae88-42f0cf06eca6"
   },
   "source": [
    "**Create pipeline**"
   ]
  },
  {
   "cell_type": "markdown",
   "metadata": {
    "id": "1365853b-1067-4163-a9b3-7cf049a8f0f5"
   },
   "source": [
    "Standardize features by removing the mean and scaling to unit variance."
   ]
  },
  {
   "cell_type": "code",
   "execution_count": 12,
   "metadata": {
    "id": "99a09c2b-c1a5-4e20-8543-09667ece8a83"
   },
   "outputs": [],
   "source": [
    "from sklearn import preprocessing\n",
    "\n",
    "scaler = preprocessing.StandardScaler()"
   ]
  },
  {
   "cell_type": "markdown",
   "metadata": {
    "id": "7302631f-4fc7-4103-8f98-5e22b609fcf0"
   },
   "source": [
    "Next, define estimators you want to use for classification. Support Vector Machines (SVM) with the radial basis function as kernel is used in the following example."
   ]
  },
  {
   "cell_type": "code",
   "execution_count": 13,
   "metadata": {
    "id": "baff5e12-ee37-463c-8b1c-f405b012e766"
   },
   "outputs": [],
   "source": [
    "from sklearn import svm\n",
    "\n",
    "clf = svm.SVC(kernel=\"rbf\")"
   ]
  },
  {
   "cell_type": "markdown",
   "metadata": {
    "id": "2cd2d4f0-84ec-498b-a09c-8c89a79a01c7"
   },
   "source": [
    "Let's build the pipeline now. This pipeline consists of a transformer and an estimator."
   ]
  },
  {
   "cell_type": "code",
   "execution_count": 14,
   "metadata": {
    "id": "5a6d7d37-65b1-42c7-a737-808b5afa7b13"
   },
   "outputs": [],
   "source": [
    "from sklearn.pipeline import Pipeline\n",
    "\n",
    "pipeline = Pipeline([(\"scaler\", scaler), (\"svc\", clf)])"
   ]
  },
  {
   "cell_type": "markdown",
   "metadata": {
    "id": "3aea1dba-c5fd-42f6-992c-530e631ae3b3"
   },
   "source": [
    "**Train model**"
   ]
  },
  {
   "cell_type": "markdown",
   "metadata": {
    "id": "2e6d9865-1be3-49a5-a244-7e356d847f7c"
   },
   "source": [
    "Now, you can train your SVM model by using the previously defined **pipeline** and **train data**."
   ]
  },
  {
   "cell_type": "code",
   "execution_count": 15,
   "metadata": {
    "id": "0ee317fb-4dc4-4318-a011-e01e935959e5"
   },
   "outputs": [],
   "source": [
    "model = pipeline.fit(train_data, train_labels)"
   ]
  },
  {
   "cell_type": "markdown",
   "metadata": {
    "id": "8c6cf07e-535d-4140-956c-0e5d049b3ab2"
   },
   "source": [
    "**Evaluate model**"
   ]
  },
  {
   "cell_type": "markdown",
   "metadata": {
    "id": "dc6a8821-c469-499b-a02a-036b61fdfa1c"
   },
   "source": [
    "You can check your **model quality** now. To evaluate the model, use **test data**."
   ]
  },
  {
   "cell_type": "code",
   "execution_count": 16,
   "metadata": {
    "id": "c188d993-42a9-40f9-9ec2-e7b203a27e34"
   },
   "outputs": [
    {
     "name": "stdout",
     "output_type": "stream",
     "text": [
      "Evaluation report:\n",
      "\n",
      "              precision    recall  f1-score   support\n",
      "\n",
      "           0       1.00      0.97      0.99        37\n",
      "           1       0.97      0.97      0.97        34\n",
      "           2       1.00      0.97      0.99        36\n",
      "           3       1.00      0.94      0.97        35\n",
      "           4       0.78      0.97      0.87        37\n",
      "           5       0.97      0.97      0.97        38\n",
      "           6       0.97      0.86      0.91        36\n",
      "           7       0.92      0.97      0.94        35\n",
      "           8       0.91      0.89      0.90        35\n",
      "           9       0.97      0.92      0.94        37\n",
      "\n",
      "    accuracy                           0.94       360\n",
      "   macro avg       0.95      0.94      0.95       360\n",
      "weighted avg       0.95      0.94      0.95       360\n",
      "\n"
     ]
    }
   ],
   "source": [
    "from sklearn import metrics\n",
    "\n",
    "predicted = model.predict(test_data)\n",
    "\n",
    "print(\n",
    "    \"Evaluation report:\",\n",
    "    metrics.classification_report(test_labels, predicted),\n",
    "    sep=\"\\n\\n\",\n",
    ")"
   ]
  },
  {
   "cell_type": "markdown",
   "metadata": {
    "id": "412c0f74-c3ff-4745-8588-44b42c68e94b"
   },
   "source": [
    "You can tune your model now to achieve better accuracy. For simplicity, tuning section is omitted."
   ]
  },
  {
   "cell_type": "markdown",
   "metadata": {
    "id": "053ca905-f7f2-4719-8a40-b429c50637df"
   },
   "source": [
    "<a id=\"upload\"></a>\n",
    "## 3. Persist the locally created scikit-learn model"
   ]
  },
  {
   "cell_type": "markdown",
   "metadata": {
    "id": "35bb6c37-f855-43a2-b606-47846b6a9695"
   },
   "source": [
    "In this section, you will learn how to store your model in the Watson Machine Learning repository by using the IBM watsonx.ai SDK."
   ]
  },
  {
   "cell_type": "markdown",
   "metadata": {
    "id": "d48d004c-155e-45f9-90f4-2fbea2dfb5f4"
   },
   "source": [
    "### 3.1: Publish model"
   ]
  },
  {
   "cell_type": "markdown",
   "metadata": {
    "id": "2efa986a-1c1e-46d7-be55-aaa7a5020458"
   },
   "source": [
    "#### Publish the model in the Watson Machine Learning repository on Cloud."
   ]
  },
  {
   "cell_type": "markdown",
   "metadata": {
    "id": "b28d11ce-d094-45b7-9d18-9aba621f939e"
   },
   "source": [
    "Define model name, autor name and email."
   ]
  },
  {
   "cell_type": "code",
   "execution_count": 17,
   "metadata": {
    "id": "2f2a31ac-495b-4026-9218-31e043a1565c",
    "pycharm": {
     "is_executing": false,
     "name": "#%%\n"
    }
   },
   "outputs": [],
   "source": [
    "sofware_spec_id = client.software_specifications.get_id_by_name(\"runtime-25.1-py3.12\")"
   ]
  },
  {
   "cell_type": "code",
   "execution_count": 18,
   "metadata": {
    "id": "d27a2b27-303b-40fe-84e5-58b258df5aa3",
    "pycharm": {
     "is_executing": false,
     "name": "#%%\n"
    }
   },
   "outputs": [],
   "source": [
    "metadata = {\n",
    "    client.repository.ModelMetaNames.NAME: \"Scikit model\",\n",
    "    client.repository.ModelMetaNames.TYPE: \"scikit-learn_1.6\",\n",
    "    client.repository.ModelMetaNames.SOFTWARE_SPEC_ID: sofware_spec_id,\n",
    "}\n",
    "\n",
    "published_model = client.repository.store_model(\n",
    "    model=model,\n",
    "    meta_props=metadata,\n",
    "    training_data=train_data,\n",
    "    training_target=train_labels,\n",
    ")"
   ]
  },
  {
   "cell_type": "markdown",
   "metadata": {
    "id": "bb4b4626-0403-484a-854e-7d4568aefdcb"
   },
   "source": [
    "### 3.2: Get model details"
   ]
  },
  {
   "cell_type": "code",
   "execution_count": 19,
   "metadata": {
    "id": "e77ef110-6cab-4ecc-8b04-a60980ad58ed",
    "pycharm": {
     "is_executing": false,
     "name": "#%%\n"
    }
   },
   "outputs": [
    {
     "name": "stdout",
     "output_type": "stream",
     "text": [
      "{\n",
      "  \"metadata\": {\n",
      "    \"name\": \"Scikit model\",\n",
      "    \"space_id\": \"8a13841b-df99-4b4d-bf2a-161ad2e33980\",\n",
      "    \"resource_key\": \"fe4d8ae4-eb9a-40a5-88f2-244ceea804f7\",\n",
      "    \"id\": \"4979c0ed-b412-4f73-a293-f0b952e2c988\",\n",
      "    \"created_at\": \"2025-05-15T07:38:26Z\",\n",
      "    \"rov\": {\n",
      "      \"member_roles\": {\n",
      "        \"1000331001\": {\n",
      "          \"user_iam_id\": \"1000331001\",\n",
      "          \"roles\": [\n",
      "            \"OWNER\"\n",
      "          ]\n",
      "        }\n",
      "      }\n",
      "    },\n",
      "    \"owner\": \"1000331001\"\n",
      "  },\n",
      "  \"entity\": {\n",
      "    \"software_spec\": {\n",
      "      \"id\": \"f47ae1c3-198e-5718-b59d-2ea471561e9e\"\n",
      "    },\n",
      "    \"type\": \"scikit-learn_1.6\",\n",
      "    \"training_data_references\": [\n",
      "      {\n",
      "        \"id\": \"1\",\n",
      "        \"type\": \"fs\",\n",
      "        \"connection\": null,\n",
      "        \"location\": {},\n",
      "        \"schema\": {\n",
      "          \"id\": \"1\",\n",
      "          \"type\": \"ndarray\",\n",
      "          \"fields\": [\n",
      "            {\n",
      "              \"name\": \"f0\",\n",
      "              \"type\": \"float\",\n",
      "              \"nullable\": false\n",
      "            },\n",
      "            {\n",
      "              \"name\": \"f1\",\n",
      "              \"type\": \"float\",\n",
      "              \"nullable\": false\n",
      "            },\n",
      "            {\n",
      "              \"name\": \"f2\",\n",
      "              \"type\": \"float\",\n",
      "              \"nullable\": false\n",
      "            },\n",
      "            {\n",
      "              \"name\": \"f3\",\n",
      "              \"type\": \"float\",\n",
      "              \"nullable\": false\n",
      "            },\n",
      "            {\n",
      "              \"name\": \"f4\",\n",
      "              \"type\": \"float\",\n",
      "              \"nullable\": false\n",
      "            },\n",
      "            {\n",
      "              \"name\": \"f5\",\n",
      "              \"type\": \"float\",\n",
      "              \"nullable\": false\n",
      "            },\n",
      "            {\n",
      "              \"name\": \"f6\",\n",
      "              \"type\": \"float\",\n",
      "              \"nullable\": false\n",
      "            },\n",
      "            {\n",
      "              \"name\": \"f7\",\n",
      "              \"type\": \"float\",\n",
      "              \"nullable\": false\n",
      "            },\n",
      "            {\n",
      "              \"name\": \"f8\",\n",
      "              \"type\": \"float\",\n",
      "              \"nullable\": false\n",
      "            },\n",
      "            {\n",
      "              \"name\": \"f9\",\n",
      "              \"type\": \"float\",\n",
      "              \"nullable\": false\n",
      "            },\n",
      "            {\n",
      "              \"name\": \"f10\",\n",
      "              \"type\": \"float\",\n",
      "              \"nullable\": false\n",
      "            },\n",
      "            {\n",
      "              \"name\": \"f11\",\n",
      "              \"type\": \"float\",\n",
      "              \"nullable\": false\n",
      "            },\n",
      "            {\n",
      "              \"name\": \"f12\",\n",
      "              \"type\": \"float\",\n",
      "              \"nullable\": false\n",
      "            },\n",
      "            {\n",
      "              \"name\": \"f13\",\n",
      "              \"type\": \"float\",\n",
      "              \"nullable\": false\n",
      "            },\n",
      "            {\n",
      "              \"name\": \"f14\",\n",
      "              \"type\": \"float\",\n",
      "              \"nullable\": false\n",
      "            },\n",
      "            {\n",
      "              \"name\": \"f15\",\n",
      "              \"type\": \"float\",\n",
      "              \"nullable\": false\n",
      "            },\n",
      "            {\n",
      "              \"name\": \"f16\",\n",
      "              \"type\": \"float\",\n",
      "              \"nullable\": false\n",
      "            },\n",
      "            {\n",
      "              \"name\": \"f17\",\n",
      "              \"type\": \"float\",\n",
      "              \"nullable\": false\n",
      "            },\n",
      "            {\n",
      "              \"name\": \"f18\",\n",
      "              \"type\": \"float\",\n",
      "              \"nullable\": false\n",
      "            },\n",
      "            {\n",
      "              \"name\": \"f19\",\n",
      "              \"type\": \"float\",\n",
      "              \"nullable\": false\n",
      "            },\n",
      "            {\n",
      "              \"name\": \"f20\",\n",
      "              \"type\": \"float\",\n",
      "              \"nullable\": false\n",
      "            },\n",
      "            {\n",
      "              \"name\": \"f21\",\n",
      "              \"type\": \"float\",\n",
      "              \"nullable\": false\n",
      "            },\n",
      "            {\n",
      "              \"name\": \"f22\",\n",
      "              \"type\": \"float\",\n",
      "              \"nullable\": false\n",
      "            },\n",
      "            {\n",
      "              \"name\": \"f23\",\n",
      "              \"type\": \"float\",\n",
      "              \"nullable\": false\n",
      "            },\n",
      "            {\n",
      "              \"name\": \"f24\",\n",
      "              \"type\": \"float\",\n",
      "              \"nullable\": false\n",
      "            },\n",
      "            {\n",
      "              \"name\": \"f25\",\n",
      "              \"type\": \"float\",\n",
      "              \"nullable\": false\n",
      "            },\n",
      "            {\n",
      "              \"name\": \"f26\",\n",
      "              \"type\": \"float\",\n",
      "              \"nullable\": false\n",
      "            },\n",
      "            {\n",
      "              \"name\": \"f27\",\n",
      "              \"type\": \"float\",\n",
      "              \"nullable\": false\n",
      "            },\n",
      "            {\n",
      "              \"name\": \"f28\",\n",
      "              \"type\": \"float\",\n",
      "              \"nullable\": false\n",
      "            },\n",
      "            {\n",
      "              \"name\": \"f29\",\n",
      "              \"type\": \"float\",\n",
      "              \"nullable\": false\n",
      "            },\n",
      "            {\n",
      "              \"name\": \"f30\",\n",
      "              \"type\": \"float\",\n",
      "              \"nullable\": false\n",
      "            },\n",
      "            {\n",
      "              \"name\": \"f31\",\n",
      "              \"type\": \"float\",\n",
      "              \"nullable\": false\n",
      "            },\n",
      "            {\n",
      "              \"name\": \"f32\",\n",
      "              \"type\": \"float\",\n",
      "              \"nullable\": false\n",
      "            },\n",
      "            {\n",
      "              \"name\": \"f33\",\n",
      "              \"type\": \"float\",\n",
      "              \"nullable\": false\n",
      "            },\n",
      "            {\n",
      "              \"name\": \"f34\",\n",
      "              \"type\": \"float\",\n",
      "              \"nullable\": false\n",
      "            },\n",
      "            {\n",
      "              \"name\": \"f35\",\n",
      "              \"type\": \"float\",\n",
      "              \"nullable\": false\n",
      "            },\n",
      "            {\n",
      "              \"name\": \"f36\",\n",
      "              \"type\": \"float\",\n",
      "              \"nullable\": false\n",
      "            },\n",
      "            {\n",
      "              \"name\": \"f37\",\n",
      "              \"type\": \"float\",\n",
      "              \"nullable\": false\n",
      "            },\n",
      "            {\n",
      "              \"name\": \"f38\",\n",
      "              \"type\": \"float\",\n",
      "              \"nullable\": false\n",
      "            },\n",
      "            {\n",
      "              \"name\": \"f39\",\n",
      "              \"type\": \"float\",\n",
      "              \"nullable\": false\n",
      "            },\n",
      "            {\n",
      "              \"name\": \"f40\",\n",
      "              \"type\": \"float\",\n",
      "              \"nullable\": false\n",
      "            },\n",
      "            {\n",
      "              \"name\": \"f41\",\n",
      "              \"type\": \"float\",\n",
      "              \"nullable\": false\n",
      "            },\n",
      "            {\n",
      "              \"name\": \"f42\",\n",
      "              \"type\": \"float\",\n",
      "              \"nullable\": false\n",
      "            },\n",
      "            {\n",
      "              \"name\": \"f43\",\n",
      "              \"type\": \"float\",\n",
      "              \"nullable\": false\n",
      "            },\n",
      "            {\n",
      "              \"name\": \"f44\",\n",
      "              \"type\": \"float\",\n",
      "              \"nullable\": false\n",
      "            },\n",
      "            {\n",
      "              \"name\": \"f45\",\n",
      "              \"type\": \"float\",\n",
      "              \"nullable\": false\n",
      "            },\n",
      "            {\n",
      "              \"name\": \"f46\",\n",
      "              \"type\": \"float\",\n",
      "              \"nullable\": false\n",
      "            },\n",
      "            {\n",
      "              \"name\": \"f47\",\n",
      "              \"type\": \"float\",\n",
      "              \"nullable\": false\n",
      "            },\n",
      "            {\n",
      "              \"name\": \"f48\",\n",
      "              \"type\": \"float\",\n",
      "              \"nullable\": false\n",
      "            },\n",
      "            {\n",
      "              \"name\": \"f49\",\n",
      "              \"type\": \"float\",\n",
      "              \"nullable\": false\n",
      "            },\n",
      "            {\n",
      "              \"name\": \"f50\",\n",
      "              \"type\": \"float\",\n",
      "              \"nullable\": false\n",
      "            },\n",
      "            {\n",
      "              \"name\": \"f51\",\n",
      "              \"type\": \"float\",\n",
      "              \"nullable\": false\n",
      "            },\n",
      "            {\n",
      "              \"name\": \"f52\",\n",
      "              \"type\": \"float\",\n",
      "              \"nullable\": false\n",
      "            },\n",
      "            {\n",
      "              \"name\": \"f53\",\n",
      "              \"type\": \"float\",\n",
      "              \"nullable\": false\n",
      "            },\n",
      "            {\n",
      "              \"name\": \"f54\",\n",
      "              \"type\": \"float\",\n",
      "              \"nullable\": false\n",
      "            },\n",
      "            {\n",
      "              \"name\": \"f55\",\n",
      "              \"type\": \"float\",\n",
      "              \"nullable\": false\n",
      "            },\n",
      "            {\n",
      "              \"name\": \"f56\",\n",
      "              \"type\": \"float\",\n",
      "              \"nullable\": false\n",
      "            },\n",
      "            {\n",
      "              \"name\": \"f57\",\n",
      "              \"type\": \"float\",\n",
      "              \"nullable\": false\n",
      "            },\n",
      "            {\n",
      "              \"name\": \"f58\",\n",
      "              \"type\": \"float\",\n",
      "              \"nullable\": false\n",
      "            },\n",
      "            {\n",
      "              \"name\": \"f59\",\n",
      "              \"type\": \"float\",\n",
      "              \"nullable\": false\n",
      "            },\n",
      "            {\n",
      "              \"name\": \"f60\",\n",
      "              \"type\": \"float\",\n",
      "              \"nullable\": false\n",
      "            },\n",
      "            {\n",
      "              \"name\": \"f61\",\n",
      "              \"type\": \"float\",\n",
      "              \"nullable\": false\n",
      "            },\n",
      "            {\n",
      "              \"name\": \"f62\",\n",
      "              \"type\": \"float\",\n",
      "              \"nullable\": false\n",
      "            },\n",
      "            {\n",
      "              \"name\": \"f63\",\n",
      "              \"type\": \"float\",\n",
      "              \"nullable\": false\n",
      "            }\n",
      "          ]\n",
      "        }\n",
      "      }\n",
      "    ],\n",
      "    \"schemas\": {\n",
      "      \"input\": [\n",
      "        {\n",
      "          \"id\": \"1\",\n",
      "          \"type\": \"struct\",\n",
      "          \"fields\": [\n",
      "            {\n",
      "              \"name\": \"f0\",\n",
      "              \"type\": \"float\",\n",
      "              \"nullable\": false\n",
      "            },\n",
      "            {\n",
      "              \"name\": \"f1\",\n",
      "              \"type\": \"float\",\n",
      "              \"nullable\": false\n",
      "            },\n",
      "            {\n",
      "              \"name\": \"f2\",\n",
      "              \"type\": \"float\",\n",
      "              \"nullable\": false\n",
      "            },\n",
      "            {\n",
      "              \"name\": \"f3\",\n",
      "              \"type\": \"float\",\n",
      "              \"nullable\": false\n",
      "            },\n",
      "            {\n",
      "              \"name\": \"f4\",\n",
      "              \"type\": \"float\",\n",
      "              \"nullable\": false\n",
      "            },\n",
      "            {\n",
      "              \"name\": \"f5\",\n",
      "              \"type\": \"float\",\n",
      "              \"nullable\": false\n",
      "            },\n",
      "            {\n",
      "              \"name\": \"f6\",\n",
      "              \"type\": \"float\",\n",
      "              \"nullable\": false\n",
      "            },\n",
      "            {\n",
      "              \"name\": \"f7\",\n",
      "              \"type\": \"float\",\n",
      "              \"nullable\": false\n",
      "            },\n",
      "            {\n",
      "              \"name\": \"f8\",\n",
      "              \"type\": \"float\",\n",
      "              \"nullable\": false\n",
      "            },\n",
      "            {\n",
      "              \"name\": \"f9\",\n",
      "              \"type\": \"float\",\n",
      "              \"nullable\": false\n",
      "            },\n",
      "            {\n",
      "              \"name\": \"f10\",\n",
      "              \"type\": \"float\",\n",
      "              \"nullable\": false\n",
      "            },\n",
      "            {\n",
      "              \"name\": \"f11\",\n",
      "              \"type\": \"float\",\n",
      "              \"nullable\": false\n",
      "            },\n",
      "            {\n",
      "              \"name\": \"f12\",\n",
      "              \"type\": \"float\",\n",
      "              \"nullable\": false\n",
      "            },\n",
      "            {\n",
      "              \"name\": \"f13\",\n",
      "              \"type\": \"float\",\n",
      "              \"nullable\": false\n",
      "            },\n",
      "            {\n",
      "              \"name\": \"f14\",\n",
      "              \"type\": \"float\",\n",
      "              \"nullable\": false\n",
      "            },\n",
      "            {\n",
      "              \"name\": \"f15\",\n",
      "              \"type\": \"float\",\n",
      "              \"nullable\": false\n",
      "            },\n",
      "            {\n",
      "              \"name\": \"f16\",\n",
      "              \"type\": \"float\",\n",
      "              \"nullable\": false\n",
      "            },\n",
      "            {\n",
      "              \"name\": \"f17\",\n",
      "              \"type\": \"float\",\n",
      "              \"nullable\": false\n",
      "            },\n",
      "            {\n",
      "              \"name\": \"f18\",\n",
      "              \"type\": \"float\",\n",
      "              \"nullable\": false\n",
      "            },\n",
      "            {\n",
      "              \"name\": \"f19\",\n",
      "              \"type\": \"float\",\n",
      "              \"nullable\": false\n",
      "            },\n",
      "            {\n",
      "              \"name\": \"f20\",\n",
      "              \"type\": \"float\",\n",
      "              \"nullable\": false\n",
      "            },\n",
      "            {\n",
      "              \"name\": \"f21\",\n",
      "              \"type\": \"float\",\n",
      "              \"nullable\": false\n",
      "            },\n",
      "            {\n",
      "              \"name\": \"f22\",\n",
      "              \"type\": \"float\",\n",
      "              \"nullable\": false\n",
      "            },\n",
      "            {\n",
      "              \"name\": \"f23\",\n",
      "              \"type\": \"float\",\n",
      "              \"nullable\": false\n",
      "            },\n",
      "            {\n",
      "              \"name\": \"f24\",\n",
      "              \"type\": \"float\",\n",
      "              \"nullable\": false\n",
      "            },\n",
      "            {\n",
      "              \"name\": \"f25\",\n",
      "              \"type\": \"float\",\n",
      "              \"nullable\": false\n",
      "            },\n",
      "            {\n",
      "              \"name\": \"f26\",\n",
      "              \"type\": \"float\",\n",
      "              \"nullable\": false\n",
      "            },\n",
      "            {\n",
      "              \"name\": \"f27\",\n",
      "              \"type\": \"float\",\n",
      "              \"nullable\": false\n",
      "            },\n",
      "            {\n",
      "              \"name\": \"f28\",\n",
      "              \"type\": \"float\",\n",
      "              \"nullable\": false\n",
      "            },\n",
      "            {\n",
      "              \"name\": \"f29\",\n",
      "              \"type\": \"float\",\n",
      "              \"nullable\": false\n",
      "            },\n",
      "            {\n",
      "              \"name\": \"f30\",\n",
      "              \"type\": \"float\",\n",
      "              \"nullable\": false\n",
      "            },\n",
      "            {\n",
      "              \"name\": \"f31\",\n",
      "              \"type\": \"float\",\n",
      "              \"nullable\": false\n",
      "            },\n",
      "            {\n",
      "              \"name\": \"f32\",\n",
      "              \"type\": \"float\",\n",
      "              \"nullable\": false\n",
      "            },\n",
      "            {\n",
      "              \"name\": \"f33\",\n",
      "              \"type\": \"float\",\n",
      "              \"nullable\": false\n",
      "            },\n",
      "            {\n",
      "              \"name\": \"f34\",\n",
      "              \"type\": \"float\",\n",
      "              \"nullable\": false\n",
      "            },\n",
      "            {\n",
      "              \"name\": \"f35\",\n",
      "              \"type\": \"float\",\n",
      "              \"nullable\": false\n",
      "            },\n",
      "            {\n",
      "              \"name\": \"f36\",\n",
      "              \"type\": \"float\",\n",
      "              \"nullable\": false\n",
      "            },\n",
      "            {\n",
      "              \"name\": \"f37\",\n",
      "              \"type\": \"float\",\n",
      "              \"nullable\": false\n",
      "            },\n",
      "            {\n",
      "              \"name\": \"f38\",\n",
      "              \"type\": \"float\",\n",
      "              \"nullable\": false\n",
      "            },\n",
      "            {\n",
      "              \"name\": \"f39\",\n",
      "              \"type\": \"float\",\n",
      "              \"nullable\": false\n",
      "            },\n",
      "            {\n",
      "              \"name\": \"f40\",\n",
      "              \"type\": \"float\",\n",
      "              \"nullable\": false\n",
      "            },\n",
      "            {\n",
      "              \"name\": \"f41\",\n",
      "              \"type\": \"float\",\n",
      "              \"nullable\": false\n",
      "            },\n",
      "            {\n",
      "              \"name\": \"f42\",\n",
      "              \"type\": \"float\",\n",
      "              \"nullable\": false\n",
      "            },\n",
      "            {\n",
      "              \"name\": \"f43\",\n",
      "              \"type\": \"float\",\n",
      "              \"nullable\": false\n",
      "            },\n",
      "            {\n",
      "              \"name\": \"f44\",\n",
      "              \"type\": \"float\",\n",
      "              \"nullable\": false\n",
      "            },\n",
      "            {\n",
      "              \"name\": \"f45\",\n",
      "              \"type\": \"float\",\n",
      "              \"nullable\": false\n",
      "            },\n",
      "            {\n",
      "              \"name\": \"f46\",\n",
      "              \"type\": \"float\",\n",
      "              \"nullable\": false\n",
      "            },\n",
      "            {\n",
      "              \"name\": \"f47\",\n",
      "              \"type\": \"float\",\n",
      "              \"nullable\": false\n",
      "            },\n",
      "            {\n",
      "              \"name\": \"f48\",\n",
      "              \"type\": \"float\",\n",
      "              \"nullable\": false\n",
      "            },\n",
      "            {\n",
      "              \"name\": \"f49\",\n",
      "              \"type\": \"float\",\n",
      "              \"nullable\": false\n",
      "            },\n",
      "            {\n",
      "              \"name\": \"f50\",\n",
      "              \"type\": \"float\",\n",
      "              \"nullable\": false\n",
      "            },\n",
      "            {\n",
      "              \"name\": \"f51\",\n",
      "              \"type\": \"float\",\n",
      "              \"nullable\": false\n",
      "            },\n",
      "            {\n",
      "              \"name\": \"f52\",\n",
      "              \"type\": \"float\",\n",
      "              \"nullable\": false\n",
      "            },\n",
      "            {\n",
      "              \"name\": \"f53\",\n",
      "              \"type\": \"float\",\n",
      "              \"nullable\": false\n",
      "            },\n",
      "            {\n",
      "              \"name\": \"f54\",\n",
      "              \"type\": \"float\",\n",
      "              \"nullable\": false\n",
      "            },\n",
      "            {\n",
      "              \"name\": \"f55\",\n",
      "              \"type\": \"float\",\n",
      "              \"nullable\": false\n",
      "            },\n",
      "            {\n",
      "              \"name\": \"f56\",\n",
      "              \"type\": \"float\",\n",
      "              \"nullable\": false\n",
      "            },\n",
      "            {\n",
      "              \"name\": \"f57\",\n",
      "              \"type\": \"float\",\n",
      "              \"nullable\": false\n",
      "            },\n",
      "            {\n",
      "              \"name\": \"f58\",\n",
      "              \"type\": \"float\",\n",
      "              \"nullable\": false\n",
      "            },\n",
      "            {\n",
      "              \"name\": \"f59\",\n",
      "              \"type\": \"float\",\n",
      "              \"nullable\": false\n",
      "            },\n",
      "            {\n",
      "              \"name\": \"f60\",\n",
      "              \"type\": \"float\",\n",
      "              \"nullable\": false\n",
      "            },\n",
      "            {\n",
      "              \"name\": \"f61\",\n",
      "              \"type\": \"float\",\n",
      "              \"nullable\": false\n",
      "            },\n",
      "            {\n",
      "              \"name\": \"f62\",\n",
      "              \"type\": \"float\",\n",
      "              \"nullable\": false\n",
      "            },\n",
      "            {\n",
      "              \"name\": \"f63\",\n",
      "              \"type\": \"float\",\n",
      "              \"nullable\": false\n",
      "            }\n",
      "          ]\n",
      "        }\n",
      "      ],\n",
      "      \"output\": []\n",
      "    },\n",
      "    \"label_column\": \"l1\"\n",
      "  }\n",
      "}\n"
     ]
    }
   ],
   "source": [
    "import json\n",
    "\n",
    "published_model_id = client.repository.get_model_id(published_model)\n",
    "model_details = client.repository.get_details(published_model_id)\n",
    "print(json.dumps(model_details, indent=2))"
   ]
  },
  {
   "cell_type": "markdown",
   "metadata": {
    "id": "b53d8cd4-9a11-496f-9c5d-81c85245528c"
   },
   "source": [
    "### 3.3 Get all models"
   ]
  },
  {
   "cell_type": "code",
   "execution_count": 20,
   "metadata": {
    "id": "01b88ab6-8062-47d7-8921-fd9bb520784f",
    "pycharm": {
     "is_executing": false,
     "name": "#%%\n"
    }
   },
   "outputs": [],
   "source": [
    "models_details = client.repository.list_models()"
   ]
  },
  {
   "cell_type": "markdown",
   "metadata": {
    "id": "e45fe0df-ebd1-4dd0-adae-3b33d5dee180"
   },
   "source": [
    "<a id=\"deploy\"></a>\n",
    "## 4. Deploy and score"
   ]
  },
  {
   "cell_type": "markdown",
   "metadata": {
    "id": "10c02b99-99ee-4885-9fa2-377dece009c9"
   },
   "source": [
    "In this section, you will learn how to create online scoring and to score a new data record by using the IBM watsonx.ai SDK."
   ]
  },
  {
   "cell_type": "markdown",
   "metadata": {
    "id": "26a7a5f5-908d-45d1-a19f-fe4cd28055f3"
   },
   "source": [
    "### 4.1: Create a model deployment"
   ]
  },
  {
   "cell_type": "markdown",
   "metadata": {
    "id": "e9c442c5-d517-42e0-96a4-853be360071b"
   },
   "source": [
    "#### Create an online deployment for the published model"
   ]
  },
  {
   "cell_type": "code",
   "execution_count": 21,
   "metadata": {
    "id": "8b83c283-2bfa-4670-ad36-6ccdc69774b7",
    "pycharm": {
     "is_executing": false,
     "name": "#%%\n"
    }
   },
   "outputs": [
    {
     "name": "stdout",
     "output_type": "stream",
     "text": [
      "\n",
      "\n",
      "######################################################################################\n",
      "\n",
      "Synchronous deployment creation for id: '4979c0ed-b412-4f73-a293-f0b952e2c988' started\n",
      "\n",
      "######################################################################################\n",
      "\n",
      "\n",
      "initializing\n",
      "Note: online_url is deprecated and will be removed in a future release. Use serving_urls instead.\n",
      "\n",
      "ready\n",
      "\n",
      "\n",
      "-----------------------------------------------------------------------------------------------\n",
      "Successfully finished deployment creation, deployment_id='924ce586-edfc-4e3f-b07b-587935859f5e'\n",
      "-----------------------------------------------------------------------------------------------\n",
      "\n",
      "\n"
     ]
    }
   ],
   "source": [
    "metadata = {\n",
    "    client.deployments.ConfigurationMetaNames.NAME: \"Deployment of scikit model\",\n",
    "    client.deployments.ConfigurationMetaNames.ONLINE: {},\n",
    "}\n",
    "\n",
    "created_deployment = client.deployments.create(published_model_id, meta_props=metadata)"
   ]
  },
  {
   "cell_type": "markdown",
   "metadata": {
    "id": "101e7492-df3e-4563-9263-5b215ef802aa"
   },
   "source": [
    "**Note**: Here we use the deployment url saved in the published_model object. In the next section, we show how to retrieve the deployment url from the Watson Machine Learning instance."
   ]
  },
  {
   "cell_type": "code",
   "execution_count": 22,
   "metadata": {
    "id": "4678dfb7-c850-4ada-a761-08ed2f3e64a9"
   },
   "outputs": [],
   "source": [
    "deployment_id = client.deployments.get_id(created_deployment)"
   ]
  },
  {
   "cell_type": "markdown",
   "metadata": {
    "id": "ad774714-2a7f-4450-9afc-a4f252b90dbc"
   },
   "source": [
    "Now you can print an online scoring endpoint. "
   ]
  },
  {
   "cell_type": "code",
   "execution_count": 23,
   "metadata": {
    "id": "01ba32cb-2258-4dc7-8597-260fa1280762",
    "pycharm": {
     "is_executing": false,
     "name": "#%%\n"
    }
   },
   "outputs": [],
   "source": [
    "scoring_endpoint = client.deployments.get_scoring_href(created_deployment)\n",
    "print(scoring_endpoint)"
   ]
  },
  {
   "cell_type": "markdown",
   "metadata": {
    "id": "ad060338-4c30-408e-a078-2b149edff4b7"
   },
   "source": [
    "You can also list existing deployments."
   ]
  },
  {
   "cell_type": "code",
   "execution_count": 24,
   "metadata": {
    "id": "40f5cba6-1b75-4f99-8b18-29b17d93b3a6"
   },
   "outputs": [
    {
     "data": {
      "text/html": [
       "<div>\n",
       "<style scoped>\n",
       "    .dataframe tbody tr th:only-of-type {\n",
       "        vertical-align: middle;\n",
       "    }\n",
       "\n",
       "    .dataframe tbody tr th {\n",
       "        vertical-align: top;\n",
       "    }\n",
       "\n",
       "    .dataframe thead th {\n",
       "        text-align: right;\n",
       "    }\n",
       "</style>\n",
       "<table border=\"1\" class=\"dataframe\">\n",
       "  <thead>\n",
       "    <tr style=\"text-align: right;\">\n",
       "      <th></th>\n",
       "      <th>ID</th>\n",
       "      <th>NAME</th>\n",
       "      <th>STATE</th>\n",
       "      <th>CREATED</th>\n",
       "      <th>ARTIFACT_TYPE</th>\n",
       "      <th>SPEC_STATE</th>\n",
       "      <th>SPEC_REPLACEMENT</th>\n",
       "    </tr>\n",
       "  </thead>\n",
       "  <tbody>\n",
       "    <tr>\n",
       "      <th>0</th>\n",
       "      <td>924ce586-edfc-4e3f-b07b-587935859f5e</td>\n",
       "      <td>Deployment of scikit model</td>\n",
       "      <td>ready</td>\n",
       "      <td>2025-05-15T07:38:43.081Z</td>\n",
       "      <td>model</td>\n",
       "      <td>supported</td>\n",
       "      <td></td>\n",
       "    </tr>\n",
       "  </tbody>\n",
       "</table>\n",
       "</div>"
      ],
      "text/plain": [
       "                                     ID                        NAME  STATE  \\\n",
       "0  924ce586-edfc-4e3f-b07b-587935859f5e  Deployment of scikit model  ready   \n",
       "\n",
       "                    CREATED ARTIFACT_TYPE SPEC_STATE SPEC_REPLACEMENT  \n",
       "0  2025-05-15T07:38:43.081Z         model  supported                   "
      ]
     },
     "execution_count": 24,
     "metadata": {},
     "output_type": "execute_result"
    }
   ],
   "source": [
    "client.deployments.list()"
   ]
  },
  {
   "cell_type": "markdown",
   "metadata": {
    "id": "b8ffa2aa-6e47-47f0-8779-af9c42502384"
   },
   "source": [
    "### 4.2: Get deployment details"
   ]
  },
  {
   "cell_type": "code",
   "execution_count": 25,
   "metadata": {
    "id": "72eb8aa9-58b8-401c-bb20-e75341399176",
    "pycharm": {
     "is_executing": false,
     "name": "#%%\n"
    }
   },
   "outputs": [],
   "source": [
    "client.deployments.get_details(deployment_id)"
   ]
  },
  {
   "cell_type": "markdown",
   "metadata": {
    "id": "388b2e6b-6cdd-4fb7-af9d-1edf435848b5"
   },
   "source": [
    "### 4.3: Score"
   ]
  },
  {
   "cell_type": "markdown",
   "metadata": {
    "id": "77f815c4-d2e3-45bd-ab5a-5514a9d28e9b"
   },
   "source": [
    "You can use the following method to perform a test scoring request against the deployed model."
   ]
  },
  {
   "cell_type": "markdown",
   "metadata": {
    "id": "2b17762d-f01f-42b0-99a3-46cdb7f0fa22"
   },
   "source": [
    "**Action**: Prepare scoring payload with records to score."
   ]
  },
  {
   "cell_type": "code",
   "execution_count": 26,
   "metadata": {
    "id": "2e65eec8-e31c-4a01-b5c1-11d2cc6476a2"
   },
   "outputs": [],
   "source": [
    "score_0 = list(score_data[0])\n",
    "score_1 = list(score_data[1])"
   ]
  },
  {
   "cell_type": "code",
   "execution_count": 27,
   "metadata": {
    "id": "29e75346-ff93-4f5e-b203-03b32a46b95b",
    "pycharm": {
     "is_executing": false,
     "name": "#%%\n"
    }
   },
   "outputs": [],
   "source": [
    "scoring_payload = {\"input_data\": [{\"values\": [score_0, score_1]}]}"
   ]
  },
  {
   "cell_type": "markdown",
   "metadata": {
    "id": "efd1a7a8-fbe9-46f5-b6cc-1b1d3f3bfa53"
   },
   "source": [
    "Use ``client.deployments.score()`` method to run scoring."
   ]
  },
  {
   "cell_type": "code",
   "execution_count": 28,
   "metadata": {
    "id": "390c06c9-d258-463b-9483-9133db5a0eb2",
    "pycharm": {
     "is_executing": false,
     "name": "#%%\n"
    }
   },
   "outputs": [],
   "source": [
    "predictions = client.deployments.score(deployment_id, scoring_payload)"
   ]
  },
  {
   "cell_type": "code",
   "execution_count": 29,
   "metadata": {
    "id": "4f1b3fb3-8fd3-49f3-846c-007d42e1b89d",
    "pycharm": {
     "is_executing": false,
     "name": "#%%\n"
    }
   },
   "outputs": [
    {
     "name": "stdout",
     "output_type": "stream",
     "text": [
      "{\n",
      "  \"predictions\": [\n",
      "    {\n",
      "      \"fields\": [\n",
      "        \"prediction\"\n",
      "      ],\n",
      "      \"values\": [\n",
      "        [\n",
      "          5\n",
      "        ],\n",
      "        [\n",
      "          4\n",
      "        ]\n",
      "      ]\n",
      "    }\n",
      "  ]\n",
      "}\n"
     ]
    }
   ],
   "source": [
    "print(json.dumps(predictions, indent=2))"
   ]
  },
  {
   "cell_type": "markdown",
   "metadata": {
    "id": "da3d047b-85f7-4431-975d-8c950cc51161"
   },
   "source": [
    "<a id=\"cleanup\"></a>\n",
    "## 5. Cleanup "
   ]
  },
  {
   "cell_type": "markdown",
   "metadata": {
    "id": "bec5e73c-8dae-432a-8db2-c3d0306c3a6f"
   },
   "source": [
    "If you want to clean up all created assets:\n",
    "- experiments\n",
    "- trainings\n",
    "- pipelines\n",
    "- model definitions\n",
    "- models\n",
    "- functions\n",
    "- deployments\n",
    "\n",
    "follow the steps listed in this sample [notebook](https://github.com/IBM/watsonx-ai-samples/blob/master/cpd5.2/notebooks/python_sdk/instance-management/Machine%20Learning%20artifacts%20management.ipynb)."
   ]
  },
  {
   "cell_type": "markdown",
   "metadata": {
    "id": "c09de03d-9972-4219-ae1b-f95792099f12"
   },
   "source": [
    "<a id=\"summary\"></a>\n",
    "## 6. Summary and next steps"
   ]
  },
  {
   "cell_type": "markdown",
   "metadata": {
    "id": "eaad808e-bdb0-41a1-a33b-2784b6551508"
   },
   "source": [
    "You successfully completed this notebook! You learned how to use scikit-learn machine learning as well as Watson Machine Learning for model creation and deployment. \n",
    " \n",
    "Check out our _<a href=\"https://ibm.github.io/watsonx-ai-python-sdk/samples.html\" target=\"_blank\" rel=\"noopener no referrer\">Online Documentation</a>_ for more samples, tutorials, documentation, how-tos, and blog posts. "
   ]
  },
  {
   "cell_type": "markdown",
   "metadata": {
    "id": "054a118d-083f-49cc-ad01-b73701ef69a4"
   },
   "source": [
    "### Authors\n",
    "\n",
    "**Daniel Ryszka**, Software Engineer"
   ]
  },
  {
   "cell_type": "markdown",
   "metadata": {
    "id": "67b0a3e6-47b9-4e07-8ec9-653729abe2fd"
   },
   "source": [
    "Copyright © 2020-2025 IBM. This notebook and its source code are released under the terms of the MIT License."
   ]
  }
 ],
 "metadata": {
  "kernelspec": {
   "display_name": "watsonx-ai-samples-py-312",
   "language": "python",
   "name": "python3"
  },
  "language_info": {
   "codemirror_mode": {
    "name": "ipython",
    "version": 3
   },
   "file_extension": ".py",
   "mimetype": "text/x-python",
   "name": "python",
   "nbconvert_exporter": "python",
   "pygments_lexer": "ipython3",
   "version": "3.12.9"
  }
 },
 "nbformat": 4,
 "nbformat_minor": 4
}

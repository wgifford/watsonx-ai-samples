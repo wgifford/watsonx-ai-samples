{
    "cells": [
        {
            "cell_type": "markdown",
            "metadata": {},
            "source": [
                "# Use Python function to recognize hand-written digits with `ibm-watsonx-ai`\n",
                "\n",
                "Create and deploy a function that receives HTML canvas image data from a web app and then processes and sends that data to a model trained to recognize handwritten digits.  \n",
                "See: <a href=\"https://dataplatform.cloud.ibm.com/docs/content/wsj/analyze-data/fl-tf2-tutorial.html?context=wx&audience=wdp\" target=\"_blank\">MNIST function deployment tutorial</a>  \n",
                "\n",
                "This notebook runs on Python 3.12.\n",
                "\n",
                "## Learning goals\n",
                "\n",
                "The learning goals of this notebook are:\n",
                "\n",
                "-  AI function definition\n",
                "-  Store AI function\n",
                "-  Deployment creation\n",
                "\n",
                "## Contents\n",
                "\n",
                "This notebook contains the following parts:\n",
                "1. [Setup](#setup)\n",
                "2. [Get an ID for a model deployment](#step4)\n",
                "3. [Get sample canvas data](#step5)\n",
                "4. [Create a deployable function](#upload)\n",
                "5. [Store and deploy the function](#deploy)\n",
                "6. [Test the deployed function](#score)\n",
                "7. [Clean up](#cleanup)\n",
                "8. [Summary](#summary)"
            ]
        },
        {
            "cell_type": "markdown",
            "metadata": {},
            "source": [
                "<a id=\"setup\"></a>\n",
                "## 1. Set up the environment\n",
                "\n",
                "Before you use the sample code in this notebook, you must perform the following setup tasks:\n",
                "\n",
                "-  Contact your Cloud Pak for Data administrator and ask them for your account credentials"
            ]
        },
        {
            "cell_type": "markdown",
            "metadata": {},
            "source": [
                "### Install dependencies\n",
                "**Note:** `ibm-watsonx-ai` documentation can be found <a href=\"https://ibm.github.io/watsonx-ai-python-sdk/index.html\" target=\"_blank\" rel=\"noopener no referrer\">here</a>."
            ]
        },
        {
            "cell_type": "code",
            "execution_count": 1,
            "metadata": {},
            "outputs": [
                {
                    "name": "stdout",
                    "output_type": "stream",
                    "text": [
                        "Successfully installed wget-3.2\n",
                        "\u001b[1A\u001b[2KSuccessfully installed contourpy-1.3.2 cycler-0.12.1 fonttools-4.58.4 kiwisolver-1.4.8 matplotlib-3.10.3 numpy-2.3.0 pillow-11.2.1 pyparsing-3.2.3\n",
                        "\u001b[1A\u001b[2KSuccessfully installed anyio-4.9.0 certifi-2025.6.15 charset_normalizer-3.4.2 h11-0.16.0 httpcore-1.0.9 httpx-0.28.1 ibm-cos-sdk-2.14.2 ibm-cos-sdk-core-2.14.2 ibm-cos-sdk-s3transfer-2.14.2 ibm-watsonx-ai-1.3.26 idna-3.10 jmespath-1.0.1 lomond-0.3.3 pandas-2.2.3 pytz-2025.2 requests-2.32.4 sniffio-1.3.1 tabulate-0.9.0 typing_extensions-4.14.0 tzdata-2025.2 urllib3-2.5.0\n"
                    ]
                }
            ],
            "source": [
                "%pip install -U wget | tail -n 1\n",
                "%pip install -U matplotlib | tail -n 1\n",
                "%pip install -U ibm-watsonx-ai | tail -n 1"
            ]
        },
        {
            "cell_type": "markdown",
            "metadata": {},
            "source": [
                "#### Define credentials\n",
                "\n",
                "Authenticate the watsonx.ai Runtime service on IBM Cloud Pak for Data. You need to provide the **admin's** `username` and the platform `url`."
            ]
        },
        {
            "cell_type": "code",
            "execution_count": 2,
            "metadata": {},
            "outputs": [],
            "source": [
                "username = \"PASTE YOUR USERNAME HERE\"\n",
                "url = \"PASTE THE PLATFORM URL HERE\""
            ]
        },
        {
            "cell_type": "markdown",
            "metadata": {},
            "source": [
                "Use the **admin's** `api_key` to authenticate watsonx.ai Runtime services:"
            ]
        },
        {
            "cell_type": "code",
            "execution_count": null,
            "metadata": {},
            "outputs": [],
            "source": [
                "import getpass\n",
                "from ibm_watsonx_ai import Credentials\n",
                "\n",
                "credentials = Credentials(\n",
                "    username=username,\n",
                "    api_key=getpass.getpass(\"Enter your watsonx.ai API key and hit enter: \"),\n",
                "    url=url,\n",
                "    instance_id=\"openshift\",\n",
                "    version=\"5.2\",\n",
                ")"
            ]
        },
        {
            "cell_type": "markdown",
            "metadata": {},
            "source": [
                "Alternatively you can use the **admin's** `password`:"
            ]
        },
        {
            "cell_type": "code",
            "execution_count": 3,
            "metadata": {},
            "outputs": [],
            "source": [
                "import getpass\n",
                "from ibm_watsonx_ai import Credentials\n",
                "\n",
                "if \"credentials\" not in locals() or not credentials.api_key:\n",
                "    credentials = Credentials(\n",
                "        username=username,\n",
                "        password=getpass.getpass(\"Enter your watsonx.ai password and hit enter: \"),\n",
                "        url=url,\n",
                "        instance_id=\"openshift\",\n",
                "        version=\"5.2\",\n",
                "    )"
            ]
        },
        {
            "cell_type": "markdown",
            "metadata": {},
            "source": [
                "#### Create `APIClient` instance"
            ]
        },
        {
            "cell_type": "code",
            "execution_count": 4,
            "metadata": {},
            "outputs": [],
            "source": [
                "from ibm_watsonx_ai import APIClient\n",
                "\n",
                "client = APIClient(credentials)"
            ]
        },
        {
            "cell_type": "markdown",
            "metadata": {},
            "source": [
                "### Working with spaces\n",
                "\n",
                "First of all, you need to create a space that will be used for your work. If you do not have space already created, you can use `{PLATFORM_URL}/ml-runtime/spaces?context=icp4data` to create one.\n",
                "\n",
                "- Click New Deployment Space\n",
                "- Create an empty space\n",
                "- Go to space `Settings` tab\n",
                "- Copy `space_id` and paste it below\n",
                "\n",
                "**Tip**: You can also use SDK to prepare the space for your work. More information can be found [here](https://github.com/IBM/watsonx-ai-samples/blob/master/cpd5.2/notebooks/python_sdk/instance-management/Space%20management.ipynb).\n",
                "\n",
                "**Action**: Assign space ID below"
            ]
        },
        {
            "cell_type": "code",
            "execution_count": 5,
            "metadata": {},
            "outputs": [],
            "source": [
                "space_id = \"PASTE YOUR SPACE ID HERE\""
            ]
        },
        {
            "cell_type": "markdown",
            "metadata": {},
            "source": [
                "You can use `list` method to print all existing spaces."
            ]
        },
        {
            "cell_type": "code",
            "execution_count": null,
            "metadata": {},
            "outputs": [],
            "source": [
                "client.spaces.list(limit=10)"
            ]
        },
        {
            "cell_type": "markdown",
            "metadata": {},
            "source": [
                "To be able to interact with all resources available in Watson Machine Learning, you need to set **space** which you will be using."
            ]
        },
        {
            "cell_type": "code",
            "execution_count": 6,
            "metadata": {},
            "outputs": [
                {
                    "data": {
                        "text/plain": [
                            "'SUCCESS'"
                        ]
                    },
                    "execution_count": 6,
                    "metadata": {},
                    "output_type": "execute_result"
                }
            ],
            "source": [
                "client.set.default_space(space_id)"
            ]
        },
        {
            "cell_type": "markdown",
            "metadata": {},
            "source": [
                "## 2. <a id=\"step4\"></a> Get an ID for a model deployment\n",
                "\n",
                "The deployed function created in this notebook is designed to send payload data to a TensorFlow model created with MNIST."
            ]
        },
        {
            "cell_type": "markdown",
            "metadata": {},
            "source": [
                "### Option 1: Use your own, existing model deployment\n",
                "\n",
                "If you already deployed a model while working through one of the following MNIST tutorials, you can use that model deployment:\n",
                "- <a href=\"https://dataplatform.cloud.ibm.com/docs/content/wsj/analyze-data/fl-tf2-tutorial.html?context=wx&audience=wdp\" target=\"_blank\" rel=\"noopener noreferrer\">Experiment builder MNIST tutorial</a>\n",
                "\n",
                "Paste the model deployment ID in the following cell.\n",
                "\n",
                "See: <a href=\"https://dataplatform.cloud.ibm.com/docs/content/wsj/wmls/wmls-deploy-overview.html?context=wx&audience=wdp\" target=\"_blank\" rel=\"noopener noreferrer\">Looking up an online deployment ID</a>\n"
            ]
        },
        {
            "cell_type": "code",
            "execution_count": null,
            "metadata": {},
            "outputs": [],
            "source": [
                "for x in client.deployments.get_details()[\"resources\"]:\n",
                "    if x[\"entity\"][\"name\"] == \"Scikit German Risk Deployment WML V4\":\n",
                "        deployment_id = x[\"metadata\"][\"id\"]"
            ]
        },
        {
            "cell_type": "code",
            "execution_count": null,
            "metadata": {},
            "outputs": [],
            "source": [
                "model_deployment_id = \"\""
            ]
        },
        {
            "cell_type": "markdown",
            "metadata": {},
            "source": [
                "### Option 2: Download, store, and deploy a sample model\n",
                "You can deployed a sample model and get its deployment ID by running the code in the following four cells."
            ]
        },
        {
            "cell_type": "markdown",
            "metadata": {},
            "source": [
                "#### Download a sample model to the notebook working directory"
            ]
        },
        {
            "cell_type": "code",
            "execution_count": 7,
            "metadata": {},
            "outputs": [],
            "source": [
                "import os\n",
                "import wget\n",
                "\n",
                "sample_saved_model_filename = \"mnist-tf-model.tar.gz\"\n",
                "url = f\"https://github.com/IBM/watsonx-ai-samples/raw/master/cpd5.2/models/tensorflow/mnist/{sample_saved_model_filename}\"\n",
                "if not os.path.isfile(sample_saved_model_filename):\n",
                "    wget.download(url)"
            ]
        },
        {
            "cell_type": "markdown",
            "metadata": {},
            "source": [
                "#### Look up software specification for the MNIST model"
            ]
        },
        {
            "cell_type": "code",
            "execution_count": 8,
            "metadata": {},
            "outputs": [],
            "source": [
                "software_spec_id = client.software_specifications.get_id_by_name(\"runtime-25.1-py3.12\")"
            ]
        },
        {
            "cell_type": "markdown",
            "metadata": {},
            "source": [
                "#### Store the sample model in your watsonx.ai Runtime"
            ]
        },
        {
            "cell_type": "code",
            "execution_count": 9,
            "metadata": {},
            "outputs": [
                {
                    "data": {
                        "text/plain": [
                            "{'metadata': {'name': 'Saved MNIST model',\n",
                            "  'space_id': '8a13841b-df99-4b4d-bf2a-161ad2e33980',\n",
                            "  'resource_key': 'e7dd7bb9-8588-4c52-a85c-42fb37c1187e',\n",
                            "  'id': '00e8e023-8153-4ef1-b499-14c59e6d884b',\n",
                            "  'created_at': '2025-06-20T11:32:11Z',\n",
                            "  'rov': {'member_roles': {'1000331001': {'user_iam_id': '1000331001',\n",
                            "     'roles': ['OWNER']}}},\n",
                            "  'owner': '1000331001'},\n",
                            " 'entity': {'software_spec': {'id': 'f47ae1c3-198e-5718-b59d-2ea471561e9e'},\n",
                            "  'type': 'tensorflow_2.18'}}"
                        ]
                    },
                    "execution_count": 9,
                    "metadata": {},
                    "output_type": "execute_result"
                }
            ],
            "source": [
                "metadata = {\n",
                "    client.repository.ModelMetaNames.NAME: \"Saved MNIST model\",\n",
                "    client.repository.ModelMetaNames.TYPE: \"tensorflow_2.18\",\n",
                "    client.repository.ModelMetaNames.SOFTWARE_SPEC_UID: software_spec_id,\n",
                "}\n",
                "\n",
                "model_details = client.repository.store_model(\n",
                "    model=sample_saved_model_filename, meta_props=metadata\n",
                ")\n",
                "\n",
                "model_details"
            ]
        },
        {
            "cell_type": "markdown",
            "metadata": {},
            "source": [
                "#### Get published model ID"
            ]
        },
        {
            "cell_type": "code",
            "execution_count": 10,
            "metadata": {},
            "outputs": [],
            "source": [
                "published_model_id = client.repository.get_model_id(model_details)"
            ]
        },
        {
            "cell_type": "markdown",
            "metadata": {},
            "source": [
                "#### Deploy the stored model"
            ]
        },
        {
            "cell_type": "code",
            "execution_count": 11,
            "metadata": {},
            "outputs": [
                {
                    "name": "stdout",
                    "output_type": "stream",
                    "text": [
                        "\n",
                        "\n",
                        "######################################################################################\n",
                        "\n",
                        "Synchronous deployment creation for id: '00e8e023-8153-4ef1-b499-14c59e6d884b' started\n",
                        "\n",
                        "######################################################################################\n",
                        "\n",
                        "\n",
                        "initializing\n",
                        "Note: online_url is deprecated and will be removed in a future release. Use serving_urls instead.\n",
                        "........\n",
                        "ready\n",
                        "\n",
                        "\n",
                        "-----------------------------------------------------------------------------------------------\n",
                        "Successfully finished deployment creation, deployment_id='e98b3f47-8f12-4701-ab4e-af075e4fb4b8'\n",
                        "-----------------------------------------------------------------------------------------------\n",
                        "\n",
                        "\n"
                    ]
                }
            ],
            "source": [
                "metadata = {\n",
                "    client.deployments.ConfigurationMetaNames.NAME: \"MNIST saved model deployment\",\n",
                "    client.deployments.ConfigurationMetaNames.ONLINE: {},\n",
                "}\n",
                "\n",
                "model_deployment_details = client.deployments.create(\n",
                "    published_model_id, meta_props=metadata\n",
                ")"
            ]
        },
        {
            "cell_type": "markdown",
            "metadata": {},
            "source": [
                "#### Get the ID of the model deployment just created"
            ]
        },
        {
            "cell_type": "code",
            "execution_count": 12,
            "metadata": {},
            "outputs": [
                {
                    "data": {
                        "text/plain": [
                            "'e98b3f47-8f12-4701-ab4e-af075e4fb4b8'"
                        ]
                    },
                    "execution_count": 12,
                    "metadata": {},
                    "output_type": "execute_result"
                }
            ],
            "source": [
                "model_deployment_id = client.deployments.get_id(model_deployment_details)\n",
                "model_deployment_id"
            ]
        },
        {
            "cell_type": "markdown",
            "metadata": {},
            "source": [
                "## <a id=\"step5\"></a> 3. Get sample canvas data\n",
                "\n",
                "The deployed function created in this notebook is designed to accept RGBA image data from an HTML canvas object.\n",
                "\n",
                "Run the following cells to download and view sample canvas data for testing the deployed function."
            ]
        },
        {
            "cell_type": "markdown",
            "metadata": {},
            "source": [
                "### 3.1 Download sample data file"
            ]
        },
        {
            "cell_type": "markdown",
            "metadata": {},
            "source": [
                "Download the file containing the sample data"
            ]
        },
        {
            "cell_type": "code",
            "execution_count": 13,
            "metadata": {},
            "outputs": [],
            "source": [
                "sample_canvas_data_filename = \"mnist-html-canvas-image-data.json\"\n",
                "url = f\"https://github.com/IBM/watsonx-ai-samples/raw/master/cpd5.2/data/mnist/{sample_canvas_data_filename}\"\n",
                "if not os.path.isfile(sample_canvas_data_filename):\n",
                "    wget.download(url)"
            ]
        },
        {
            "cell_type": "markdown",
            "metadata": {},
            "source": [
                "Load the sample data from the file into a variable"
            ]
        },
        {
            "cell_type": "code",
            "execution_count": 14,
            "metadata": {},
            "outputs": [],
            "source": [
                "import json\n",
                "\n",
                "with open(sample_canvas_data_filename) as data_file:\n",
                "    sample_canvas_data = json.load(data_file)"
            ]
        },
        {
            "cell_type": "markdown",
            "metadata": {},
            "source": [
                "### 3.2 View sample data"
            ]
        },
        {
            "cell_type": "markdown",
            "metadata": {},
            "source": [
                "View the raw contents of the sample data"
            ]
        },
        {
            "cell_type": "code",
            "execution_count": 15,
            "metadata": {},
            "outputs": [
                {
                    "name": "stdout",
                    "output_type": "stream",
                    "text": [
                        "Height (n): 187 pixels\n",
                        "\n",
                        "Num image data entries: 139876 - (n * n * 4) elements - RGBA values\n",
                        "\n",
                        "{\n",
                        "   \"data\": [\n",
                        "      0,\n",
                        "      0,\n",
                        "      0,\n",
                        "      0,\n",
                        "      0,\n",
                        "      0,\n",
                        "      ...\n",
                        "      0,\n",
                        "      0,\n",
                        "      0\n",
                        "   ],\n",
                        "   \"height\": 187\n",
                        "}\n"
                    ]
                }
            ],
            "source": [
                "print(\"Height (n): \" + str(sample_canvas_data[\"height\"]) + \" pixels\\n\")\n",
                "print(\n",
                "    \"Num image data entries: \"\n",
                "    + str(len(sample_canvas_data[\"data\"]))\n",
                "    + \" - (n * n * 4) elements - RGBA values\\n\"\n",
                ")\n",
                "print(\n",
                "    json.dumps(sample_canvas_data, indent=3)[:75]\n",
                "    + \"...\\n\"\n",
                "    + json.dumps(sample_canvas_data, indent=3)[-50:]\n",
                ")"
            ]
        },
        {
            "cell_type": "markdown",
            "metadata": {},
            "source": [
                "See what hand-drawn digit the sample data represents"
            ]
        },
        {
            "cell_type": "code",
            "execution_count": 16,
            "metadata": {},
            "outputs": [
                {
                    "data": {
                        "image/png": "[encoded data removed]",
                        "text/plain": [
                            "<Figure size 640x480 with 1 Axes>"
                        ]
                    },
                    "metadata": {},
                    "output_type": "display_data"
                }
            ],
            "source": [
                "import numpy as np\n",
                "import matplotlib.pyplot as plt\n",
                "\n",
                "rgba_arr = np.asarray(sample_canvas_data[\"data\"]).astype(\"uint8\")\n",
                "n = sample_canvas_data[\"height\"]\n",
                "plt.figure()\n",
                "plt.imshow(rgba_arr.reshape(n, n, 4))\n",
                "plt.xticks([])\n",
                "plt.yticks([])\n",
                "plt.show()"
            ]
        },
        {
            "cell_type": "markdown",
            "metadata": {},
            "source": [
                "## <a id=\"upload\"></a> 4. Create a deployable function\n",
                "\n",
                "The basics of creating and deploying functions in watsonx.ai."
            ]
        },
        {
            "cell_type": "markdown",
            "metadata": {},
            "source": [
                "### 4.1 Define the function\n",
                "1. Define a Python closure with an inner function named \"score\".\n",
                "2. Use default parameters to save your Watson Machine Learning credentials and the model deployment ID with the deployed function.\n",
                "3. Process the canvas data (reshape and normalize) and then send the processed data to the model deployment.\n",
                "4. Process the results from the model deployment so the deployed function returns simpler results.\n",
                "5. Implement error handling so the function will behave gracefully if there is an error."
            ]
        },
        {
            "cell_type": "code",
            "execution_count": 17,
            "metadata": {},
            "outputs": [],
            "source": [
                "parameters = {\n",
                "    \"credentials\": credentials.to_dict(),\n",
                "    \"space_id\": space_id,\n",
                "    \"model_deployment_id\": model_deployment_id,\n",
                "}\n",
                "\n",
                "\n",
                "def my_deployable_function(params=parameters):\n",
                "    import numpy as np\n",
                "    from PIL import Image\n",
                "    from ibm_watsonx_ai import APIClient\n",
                "\n",
                "    def get_image_array(canvas_data):\n",
                "        rgba_data, dimension = canvas_data[\"data\"], canvas_data[\"height\"]\n",
                "        rgba_array = np.asarray(rgba_data).astype(\"uint8\")\n",
                "\n",
                "        return rgba_array.reshape(dimension, dimension, 4)\n",
                "\n",
                "    def score(function_payload):\n",
                "        try:\n",
                "            # Read the payload received by the function\n",
                "            canvas_data = function_payload[\"input_data\"][0][\"values\"][0]\n",
                "\n",
                "            # Create an array object with the required shape\n",
                "            image_array = get_image_array(canvas_data)\n",
                "\n",
                "            # Create an image object that can be resized\n",
                "            img = Image.fromarray(image_array, \"RGBA\")\n",
                "\n",
                "            # Resize the image to 28 x 28 pixels\n",
                "            sm_img = img.resize((28, 28), Image.LANCZOS)\n",
                "\n",
                "            # Get alpha channel of resized image\n",
                "            alpha_arr = np.array(sm_img.split()[-1]).reshape((28, 28, 1))\n",
                "\n",
                "            # Create a payload to be sent to the model\n",
                "            model_payload = {\"input_data\": [{\"values\": [alpha_arr]}]}\n",
                "\n",
                "            client = APIClient(\n",
                "                credentials=params[\"credentials\"], space_id=params[\"space_id\"]\n",
                "            )\n",
                "\n",
                "            model_result = client.deployments.score(\n",
                "                params[\"model_deployment_id\"], model_payload\n",
                "            )\n",
                "\n",
                "            return model_result\n",
                "        except Exception as exc:\n",
                "            return {\"predictions\": [{\"values\": [repr(exc)]}]}\n",
                "\n",
                "    return score"
            ]
        },
        {
            "cell_type": "markdown",
            "metadata": {},
            "source": [
                "### 4.2 Test locally\n",
                "You can test your function in the notebook before deploying the function."
            ]
        },
        {
            "cell_type": "code",
            "execution_count": 18,
            "metadata": {},
            "outputs": [
                {
                    "name": "stdout",
                    "output_type": "stream",
                    "text": [
                        "{\n",
                        "  \"predictions\": [\n",
                        "    {\n",
                        "      \"id\": \"output_0\",\n",
                        "      \"values\": [\n",
                        "        [\n",
                        "          2.65692210632551e-06,\n",
                        "          0.0010547457495704293,\n",
                        "          3.4101554774679244e-05,\n",
                        "          1.9494355001370423e-06,\n",
                        "          0.9868835806846619,\n",
                        "          0.00032408724655397236,\n",
                        "          0.005543855484575033,\n",
                        "          0.0006548759411089122,\n",
                        "          0.004688874818384647,\n",
                        "          0.0008112657815217972\n",
                        "        ]\n",
                        "      ]\n",
                        "    }\n",
                        "  ]\n",
                        "}\n"
                    ]
                }
            ],
            "source": [
                "local_function = my_deployable_function()\n",
                "\n",
                "func_result = local_function({\"input_data\": [{\"values\": [sample_canvas_data]}]})\n",
                "\n",
                "print(json.dumps(func_result, indent=2))"
            ]
        },
        {
            "cell_type": "markdown",
            "metadata": {},
            "source": [
                "Visualize result"
            ]
        },
        {
            "cell_type": "code",
            "execution_count": 19,
            "metadata": {},
            "outputs": [
                {
                    "data": {
                        "image/png": "[encoded data removed]",
                        "text/plain": [
                            "<Figure size 640x480 with 1 Axes>"
                        ]
                    },
                    "metadata": {},
                    "output_type": "display_data"
                }
            ],
            "source": [
                "plt.bar(range(10), func_result[\"predictions\"][0][\"values\"][0])\n",
                "plt.title(\"Digit probability\")\n",
                "plt.xlabel(\"Digit\")\n",
                "plt.ylabel(\"Probability\")\n",
                "plt.xticks(range(10))\n",
                "plt.yscale(\"log\")\n",
                "plt.show()"
            ]
        },
        {
            "cell_type": "markdown",
            "metadata": {},
            "source": [
                "## <a id=\"deploy\"></a> 5. Store and deploy the function\n",
                "Before you can deploy the function, you must store the function in your watsonx.ai Runtime."
            ]
        },
        {
            "cell_type": "markdown",
            "metadata": {},
            "source": [
                "#### Look up software specification for the deployable function"
            ]
        },
        {
            "cell_type": "code",
            "execution_count": 20,
            "metadata": {},
            "outputs": [],
            "source": [
                "software_spec_id = client.software_specifications.get_id_by_name(\"runtime-25.1-py3.12\")"
            ]
        },
        {
            "cell_type": "markdown",
            "metadata": {},
            "source": [
                "#### Store the deployable function in your watsonx.ai Runtime"
            ]
        },
        {
            "cell_type": "code",
            "execution_count": 21,
            "metadata": {},
            "outputs": [],
            "source": [
                "meta_data = {\n",
                "    client.repository.FunctionMetaNames.NAME: \"MNIST deployable function\",\n",
                "    client.repository.FunctionMetaNames.SOFTWARE_SPEC_UID: software_spec_id,\n",
                "}\n",
                "\n",
                "function_details = client.repository.store_function(\n",
                "    meta_props=meta_data, function=my_deployable_function\n",
                ")"
            ]
        },
        {
            "cell_type": "markdown",
            "metadata": {},
            "source": [
                "#### Get published function ID"
            ]
        },
        {
            "cell_type": "code",
            "execution_count": 22,
            "metadata": {},
            "outputs": [],
            "source": [
                "function_id = client.repository.get_function_id(function_details)"
            ]
        },
        {
            "cell_type": "markdown",
            "metadata": {},
            "source": [
                "#### Deploy the stored function"
            ]
        },
        {
            "cell_type": "code",
            "execution_count": 23,
            "metadata": {},
            "outputs": [
                {
                    "name": "stdout",
                    "output_type": "stream",
                    "text": [
                        "\n",
                        "\n",
                        "######################################################################################\n",
                        "\n",
                        "Synchronous deployment creation for id: '8e8e71ad-7da1-4516-99a9-b5aa98c89e40' started\n",
                        "\n",
                        "######################################################################################\n",
                        "\n",
                        "\n",
                        "initializing\n",
                        "Note: online_url is deprecated and will be removed in a future release. Use serving_urls instead.\n",
                        ".......\n",
                        "ready\n",
                        "\n",
                        "\n",
                        "-----------------------------------------------------------------------------------------------\n",
                        "Successfully finished deployment creation, deployment_id='b23ea91c-93af-4809-a803-1daf930c5d6c'\n",
                        "-----------------------------------------------------------------------------------------------\n",
                        "\n",
                        "\n"
                    ]
                }
            ],
            "source": [
                "metadata = {\n",
                "    client.deployments.ConfigurationMetaNames.NAME: \"MNIST function deployment\",\n",
                "    client.deployments.ConfigurationMetaNames.ONLINE: {},\n",
                "}\n",
                "\n",
                "function_deployment_details = client.deployments.create(\n",
                "    function_id, meta_props=metadata\n",
                ")"
            ]
        },
        {
            "cell_type": "markdown",
            "metadata": {},
            "source": [
                "<a id=\"score\"></a>\n",
                "## 6. Test the deployed function\n",
                "\n",
                "You can use the watsonx.ai Python client or REST API to send data to your function deployment for processing in exactly the same way you send data to model deployments for processing."
            ]
        },
        {
            "cell_type": "code",
            "execution_count": null,
            "metadata": {},
            "outputs": [],
            "source": [
                "function_deployment_id = client.deployments.get_id(function_deployment_details)\n",
                "function_deployment_endpoint_url = client.deployments.get_scoring_href(\n",
                "    function_deployment_details\n",
                ")\n",
                "print(function_deployment_id)\n",
                "print(function_deployment_endpoint_url)"
            ]
        },
        {
            "cell_type": "code",
            "execution_count": 25,
            "metadata": {},
            "outputs": [],
            "source": [
                "payload = {\"input_data\": [{\"values\": [sample_canvas_data]}]}"
            ]
        },
        {
            "cell_type": "markdown",
            "metadata": {},
            "source": [
                "Score the deployment"
            ]
        },
        {
            "cell_type": "code",
            "execution_count": 26,
            "metadata": {},
            "outputs": [
                {
                    "name": "stdout",
                    "output_type": "stream",
                    "text": [
                        "{'predictions': [{'id': 'output_0', 'values': [[2.65692210632551e-06, 0.0010547457495704293, 3.4101554774679244e-05, 1.9494355001370423e-06, 0.9868835806846619, 0.00032408724655397236, 0.005543855484575033, 0.0006548759411089122, 0.004688874818384647, 0.0008112657815217972]]}]}\n"
                    ]
                }
            ],
            "source": [
                "result = client.deployments.score(function_deployment_id, payload)\n",
                "if \"error\" in result:\n",
                "    print(result[\"error\"])\n",
                "else:\n",
                "    print(result)"
            ]
        },
        {
            "cell_type": "markdown",
            "metadata": {},
            "source": [
                "Visualize result"
            ]
        },
        {
            "cell_type": "code",
            "execution_count": 27,
            "metadata": {},
            "outputs": [
                {
                    "data": {
                        "image/png": "[encoded data removed]",
                        "text/plain": [
                            "<Figure size 640x480 with 1 Axes>"
                        ]
                    },
                    "metadata": {},
                    "output_type": "display_data"
                }
            ],
            "source": [
                "plt.bar(range(10), func_result[\"predictions\"][0][\"values\"][0])\n",
                "plt.title(\"Digit probability\")\n",
                "plt.xlabel(\"Digit\")\n",
                "plt.ylabel(\"Probability\")\n",
                "plt.xticks(range(10))\n",
                "plt.yscale(\"log\")\n",
                "plt.show()"
            ]
        },
        {
            "cell_type": "markdown",
            "metadata": {},
            "source": [
                "## <a id=\"cleanup\"></a> 7. Clean up"
            ]
        },
        {
            "cell_type": "markdown",
            "metadata": {},
            "source": [
                "If you want to clean up all created assets:\n",
                "- experiments\n",
                "- trainings\n",
                "- pipelines\n",
                "- model definitions\n",
                "- models\n",
                "- functions\n",
                "- deployments\n",
                "\n",
                "please follow up this sample [notebook](https://github.com/IBM/watsonx-ai-samples/blob/master/cpd5.2/notebooks/python_sdk/instance-management/Machine%20Learning%20artifacts%20management.ipynb)."
            ]
        },
        {
            "cell_type": "markdown",
            "metadata": {},
            "source": [
                "<a id=\"summary\"></a>\n",
                "## 8. Summary and next steps\n",
                "In this notebook, you created a Python function that receives HTML canvas image data and then processes and sends that data to a model trained to recognize handwritten digits.\n",
                "\n",
                "Check out our _<a href=\"https://ibm.github.io/watsonx-ai-python-sdk/samples.html\" target=\"_blank\" rel=\"noopener no referrer\">Online Documentation</a>_ for more samples, tutorials, documentation, how-tos, and blog posts. "
            ]
        },
        {
            "cell_type": "markdown",
            "metadata": {},
            "source": [
                "### <a id=\"authors\"></a>Authors\n",
                "\n",
                "**Sarah Packowski** is a member of the IBM Watson Studio Content Design team in Canada.\n",
                "\n",
                "**Rafał Chrzanowski**, Software Engineer Intern at watsonx.ai."
            ]
        },
        {
            "cell_type": "markdown",
            "metadata": {},
            "source": [
                "Copyright © 2018-2025 IBM. This notebook and its source code are released under the terms of the MIT License."
            ]
        }
    ],
    "metadata": {
        "kernelspec": {
            "display_name": "watsonx-ai-samples-py-312",
            "language": "python",
            "name": "python3"
        },
        "language_info": {
            "codemirror_mode": {
                "name": "ipython",
                "version": 3
            },
            "file_extension": ".py",
            "mimetype": "text/x-python",
            "name": "python",
            "nbconvert_exporter": "python",
            "pygments_lexer": "ipython3",
            "version": "3.12.9"
        }
    },
    "nbformat": 4,
    "nbformat_minor": 4
}

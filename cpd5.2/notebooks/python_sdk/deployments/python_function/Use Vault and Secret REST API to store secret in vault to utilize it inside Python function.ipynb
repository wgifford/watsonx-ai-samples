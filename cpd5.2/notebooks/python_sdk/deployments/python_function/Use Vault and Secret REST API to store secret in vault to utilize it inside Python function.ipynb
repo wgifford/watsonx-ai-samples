{
 "cells": [
  {
   "cell_type": "markdown",
   "metadata": {
    "id": "04341bd2-f7a6-4924-a25a-45d00d8ee869"
   },
   "source": [
    "# Use Vault and Secret REST API to store secret in vault and utilize it inside Python function with `ibm-watsonx-ai`\n",
    "\n",
    "This notebook demonstrates an example for using Vault and Secret REST API services to store secrets in order to utilize it inside Python function. It contains steps and code to work with [ibm-watsonx-ai](https://pypi.python.org/pypi/ibm-watsonx-ai) library available in PyPI repository.\n",
    "\n",
    "Some familiarity with Python is helpful. This notebook uses Python 3.12."
   ]
  },
  {
   "cell_type": "markdown",
   "metadata": {
    "id": "b661a8d8-ee22-432e-b482-81fac9805e92"
   },
   "source": [
    "## Learning goals\n",
    "\n",
    "The learning goals of this notebook are:\n",
    "\n",
    "-  Store secret in Vault using Secret REST API.\n",
    "-  Utilize secret inside Python function.\n",
    "\n",
    "## Contents\n",
    "\n",
    "This notebook contains the following parts:\n",
    "\n",
    "1. [Setup](#setup)\n",
    "2. [Secret definition](#define-secret)\n",
    "3. [Python function definition](#define-function)\n",
    "4. [Testing Python function locally](#testing-locally)\n",
    "5. [Deployment of Python function](#testing-locally)\n",
    "6. [Testing deployed function](#testing-deployment)\n",
    "7. [Clean up](#cleanup)\n",
    "8. [Summary and next steps](#summary)"
   ]
  },
  {
   "cell_type": "markdown",
   "metadata": {
    "id": "310dd653-c23a-4479-bf5e-06cd24d5afec"
   },
   "source": [
    "<a id=\"setup\"></a>\n",
    "## Set up the environment\n",
    "\n",
    "Before you use the sample code in this notebook, you must perform the following setup tasks:\n",
    "\n",
    "-  Contact with your Cloud Pak for Data administrator and ask them for your account credentials"
   ]
  },
  {
   "cell_type": "markdown",
   "metadata": {
    "id": "a64bd4e5-c5a7-4acf-9acb-1bd8821eba1c"
   },
   "source": [
    "### Install `ibm-watsonx-ai`\n",
    "**Note:** `ibm-watsonx-ai` documentation can be found <a href=\"https://ibm.github.io/watsonx-ai-python-sdk/index.html\" target=\"_blank\" rel=\"noopener no referrer\">here</a>."
   ]
  },
  {
   "cell_type": "code",
   "execution_count": 1,
   "metadata": {
    "id": "7cb063b8-6c57-4212-8948-611e6b19f675"
   },
   "outputs": [],
   "source": [
    "%pip install -U \"ibm-watsonx-ai\" | tail -n 1"
   ]
  },
  {
   "cell_type": "markdown",
   "metadata": {
    "id": "d9cb924a-25fd-4842-9e9b-b9a114957acb"
   },
   "source": [
    "#### Define credentials\n",
    "\n",
    "Authenticate the watsonx.ai Runtime on IBM Cloud Pak for Data. You need to provide the **admin's** `username` and the platform `url`."
   ]
  },
  {
   "cell_type": "code",
   "execution_count": 2,
   "metadata": {
    "id": "c946a881-4a75-40ee-9e5a-837d311c2730"
   },
   "outputs": [
    {
     "name": "stdout",
     "output_type": "stream",
     "text": [
      "Enter your watsonx.ai password and hit enter:  ········\n"
     ]
    }
   ],
   "source": [
    "import getpass\n",
    "\n",
    "url = \"PASTE THE PLATFORM URL HERE\"\n",
    "username = \"PASTE YOUR USERNAME HERE\"\n",
    "password = getpass.getpass(\"Enter your watsonx.ai password and hit enter: \")"
   ]
  },
  {
   "cell_type": "markdown",
   "metadata": {
    "id": "d55a8ab2-457e-4d8f-ac8c-82a6ee0b06ac"
   },
   "source": [
    "Use the **admin's** password to authenticate watsonx.ai Runtime:"
   ]
  },
  {
   "cell_type": "code",
   "execution_count": 3,
   "metadata": {
    "id": "e32c3499-aa05-4d52-9353-d6a62bc7c722"
   },
   "outputs": [],
   "source": [
    "from ibm_watsonx_ai import Credentials\n",
    "\n",
    "credentials = Credentials(\n",
    "    username=username,\n",
    "    password=password,\n",
    "    url=url,\n",
    "    instance_id=\"openshift\",\n",
    "    version=\"5.2\",\n",
    ")"
   ]
  },
  {
   "cell_type": "markdown",
   "metadata": {
    "id": "834588e4-f65f-4b15-9381-dc1bd0ff8a4a"
   },
   "source": [
    "#### Create `APIClient` instance"
   ]
  },
  {
   "cell_type": "code",
   "execution_count": 4,
   "metadata": {
    "id": "49f6bd35-9929-486c-9ea4-e5f9afdd8677"
   },
   "outputs": [],
   "source": [
    "from ibm_watsonx_ai import APIClient\n",
    "\n",
    "client = APIClient(credentials)"
   ]
  },
  {
   "cell_type": "markdown",
   "metadata": {
    "id": "4df61a4b-13d5-48c3-9832-8777670611bc"
   },
   "source": [
    "### Working with spaces\n",
    "\n",
    "First of all, you need to create a space that will be used for your work. If you do not have space already created, you can use `{PLATFORM_URL}/ml-runtime/spaces?context=icp4data` to create one.\n",
    "\n",
    "- Click New Deployment Space\n",
    "- Create an empty space\n",
    "- Go to space `Settings` tab\n",
    "- Copy `space_id` and paste it below\n",
    "\n",
    "**Tip**: You can also use SDK to prepare the space for your work. More information can be found [here](https://github.com/IBM/watsonx-ai-samples/blob/master/cpd5.2/notebooks/python_sdk/instance-management/Space%20management.ipynb).\n",
    "\n",
    "**Action**: Assign space ID below"
   ]
  },
  {
   "cell_type": "code",
   "execution_count": 5,
   "metadata": {
    "id": "d3c92e2c-4aa6-4fd5-801f-af41330ea63a"
   },
   "outputs": [],
   "source": [
    "space_id = \"PASTE YOUR SPACE ID HERE\""
   ]
  },
  {
   "cell_type": "markdown",
   "metadata": {
    "id": "6d689e01-e8cf-4fca-a54c-19bb68adc934"
   },
   "source": [
    "You can use `list` method to print all existing spaces."
   ]
  },
  {
   "cell_type": "code",
   "execution_count": null,
   "metadata": {
    "id": "9d807666-4758-4d8e-bb81-924f83b83003"
   },
   "outputs": [],
   "source": [
    "client.spaces.list(limit=10)"
   ]
  },
  {
   "cell_type": "markdown",
   "metadata": {
    "id": "52cec9bb-a614-4225-8c00-f181f964bfd3"
   },
   "source": [
    "To be able to interact with all resources available in watsonx.ai Runtime, you need to set **space** which you will be using."
   ]
  },
  {
   "cell_type": "code",
   "execution_count": 6,
   "metadata": {
    "id": "0ce6d5fc-382c-490c-aa92-41bc234a6c9f"
   },
   "outputs": [
    {
     "data": {
      "text/plain": [
       "'SUCCESS'"
      ]
     },
     "execution_count": 6,
     "metadata": {},
     "output_type": "execute_result"
    }
   ],
   "source": [
    "client.set.default_space(space_id)"
   ]
  },
  {
   "cell_type": "markdown",
   "metadata": {
    "id": "12644418-d14b-4ded-b1c9-26a41e0f5264"
   },
   "source": [
    "# Define the secret\n",
    "<a id=\"define-secret\"></a>\n",
    "\n",
    "Create a secret utilizing the credentials defined above.\n",
    "\n",
    "**Note**: Vault and Secret REST API documentation is available [here](https://www.ibm.com/docs/en/software-hub/5.2.x?topic=2-managing-secrets-vaults)."
   ]
  },
  {
   "cell_type": "markdown",
   "metadata": {
    "id": "d7c5951e-6816-41c9-8ac2-31d22201eea1"
   },
   "source": [
    "### Fetch Vault URN\n",
    "\n",
    "In order to use the Secret REST API, you need to retrieve the Vault URN, which points to the vault where your secret will be stored."
   ]
  },
  {
   "cell_type": "markdown",
   "metadata": {
    "id": "6400e183-a57f-4c34-a3af-994c300e7fb7"
   },
   "source": [
    "#### Define the Cloud Pak for Data host"
   ]
  },
  {
   "cell_type": "code",
   "execution_count": 7,
   "metadata": {
    "id": "2e4316d9-0a83-4101-8dd5-e86a7ecfe437"
   },
   "outputs": [],
   "source": [
    "import os\n",
    "\n",
    "try:\n",
    "    host = os.environ.get(\"RUNTIME_ENV_APSX_URL\")\n",
    "except KeyError:\n",
    "    host = input(\"Please enter your Cloud Pak for Data URL (hit enter): \")"
   ]
  },
  {
   "cell_type": "markdown",
   "metadata": {
    "id": "d28f6d16-b725-41ea-8f0d-0b5c574aa3f4"
   },
   "source": [
    "#### Define request parameters"
   ]
  },
  {
   "cell_type": "code",
   "execution_count": 8,
   "metadata": {
    "id": "be4a4012-3105-48d8-ba93-ba77e2ccaefe"
   },
   "outputs": [],
   "source": [
    "provider_name = \"internal\"\n",
    "\n",
    "url = f\"{host}/zen-data/v2/vaults\"\n",
    "headers = client.get_headers()\n",
    "params = {\"provider_name\": provider_name}"
   ]
  },
  {
   "cell_type": "markdown",
   "metadata": {
    "id": "e80e89ef-637f-4170-afb7-fd4b661f1ac3"
   },
   "source": [
    "#### List available vaults"
   ]
  },
  {
   "cell_type": "code",
   "execution_count": 9,
   "metadata": {
    "id": "5b64532c-05ae-4087-be6f-585729c8e9b3"
   },
   "outputs": [
    {
     "name": "stdout",
     "output_type": "stream",
     "text": [
      "[\n",
      "  {\n",
      "    \"created_at\": \"2025-05-03T14:04:30.970485Z\",\n",
      "    \"created_by\": \"admin\",\n",
      "    \"invalid_auth\": false,\n",
      "    \"invalid_owner\": false,\n",
      "    \"owned_by\": \"admin\",\n",
      "    \"owner_uid\": \"1000330999\",\n",
      "    \"provider_name\": \"Internal vault\",\n",
      "    \"requires_auth_update\": false,\n",
      "    \"secret_preview\": \"secret-name\",\n",
      "    \"total_secrets\": 1,\n",
      "    \"updated_at\": \"2025-05-03T14:04:30.970485Z\",\n",
      "    \"vault_name\": \"Internal vault\",\n",
      "    \"vault_type\": \"internal\",\n",
      "    \"vault_urn\": \"0000000000:internal\"\n",
      "  }\n",
      "]\n"
     ]
    }
   ],
   "source": [
    "import json\n",
    "import requests\n",
    "\n",
    "response = requests.get(url, headers=headers, params=params)\n",
    "vault_list = response.json()[\"vaults\"]\n",
    "\n",
    "print(json.dumps(vault_list, indent=2))"
   ]
  },
  {
   "cell_type": "markdown",
   "metadata": {
    "id": "8c932482-e1a0-4ca8-b27a-b8be661bc4bb"
   },
   "source": [
    "#### Specify Vault URN"
   ]
  },
  {
   "cell_type": "code",
   "execution_count": 10,
   "metadata": {
    "id": "56954ed5-d215-43d6-b4ac-837b09bf45bd"
   },
   "outputs": [
    {
     "data": {
      "text/plain": [
       "'0000000000:internal'"
      ]
     },
     "execution_count": 10,
     "metadata": {},
     "output_type": "execute_result"
    }
   ],
   "source": [
    "vault_urn = vault_list[0][\"vault_urn\"]\n",
    "\n",
    "vault_urn"
   ]
  },
  {
   "cell_type": "markdown",
   "metadata": {
    "id": "5fac2f27-40bd-4b5e-93b6-b1bc1a63731f"
   },
   "source": [
    "### Store secret in Vault\n",
    "\n",
    "In order to utilize your secret inside the Python function, it needs to be stored in the Vault."
   ]
  },
  {
   "cell_type": "markdown",
   "metadata": {
    "id": "74c54dd1-de4d-4a31-a615-6aebb93ccf5c"
   },
   "source": [
    "#### Define request parameters"
   ]
  },
  {
   "cell_type": "code",
   "execution_count": 11,
   "metadata": {
    "id": "2d0e5b79-fe46-4700-ba19-ee41ed4cfdb4"
   },
   "outputs": [],
   "source": [
    "secret_name = \"secret-name\"\n",
    "\n",
    "url = f\"{host}/zen-data/v2/secrets\"\n",
    "headers = client._get_headers(zen=True)\n",
    "payload = {\n",
    "    \"secret_name\": secret_name,\n",
    "    \"description\": \"This secret was created for a demonstration of Vault and Secret REST API\",\n",
    "    \"secret\": {\"credentials\": {\"username\": username, \"password\": password}},\n",
    "    \"type\": \"credentials\",\n",
    "    \"vault_urn\": vault_urn,\n",
    "}"
   ]
  },
  {
   "cell_type": "markdown",
   "metadata": {
    "id": "cb158430-3617-4b07-acfd-2838ecc1e6fd"
   },
   "source": [
    "#### Store the secret"
   ]
  },
  {
   "cell_type": "code",
   "execution_count": 12,
   "metadata": {
    "id": "f2a87cde-0d98-40c8-ae56-062190622225"
   },
   "outputs": [
    {
     "name": "stdout",
     "output_type": "stream",
     "text": [
      "{\n",
      "  \"errors\": [\n",
      "    {\n",
      "      \"code\": \"service_instance_exist\",\n",
      "      \"target\": {\n",
      "        \"name\": \"field\",\n",
      "        \"type\": \"display_name\"\n",
      "      }\n",
      "    }\n",
      "  ],\n",
      "  \"status_code\": 409,\n",
      "  \"trace\": \"08eb472a-805f-4cb5-ba31-0a812776fae3\"\n",
      "}\n"
     ]
    }
   ],
   "source": [
    "response = requests.post(url, headers=headers, json=payload)\n",
    "\n",
    "print(json.dumps(response.json(), indent=2))"
   ]
  },
  {
   "cell_type": "markdown",
   "metadata": {
    "id": "e5a50f8d-0f87-469d-a69b-47304babe161"
   },
   "source": [
    "# Define the Python function\n",
    "<a id=\"define-function\"></a>\n",
    "\n",
    "Create a Python function which utilizes the secret defined above."
   ]
  },
  {
   "cell_type": "code",
   "execution_count": 13,
   "metadata": {
    "id": "5a7ec5fa-c0b5-44e8-bc07-8749d71d1c16"
   },
   "outputs": [],
   "source": [
    "def deployable_function_with_secret(space_id=space_id, secret_name=secret_name):\n",
    "    import os\n",
    "    import requests\n",
    "\n",
    "    from ibm_watsonx_ai import APIClient, Credentials\n",
    "\n",
    "    host = os.environ.get(\"RUNTIME_ENV_APSX_URL\")\n",
    "    credentials = Credentials(\n",
    "        instance_id=\"openshift\",\n",
    "        url=host,\n",
    "        version=\"5.2\",\n",
    "    )\n",
    "    client = APIClient(credentials)\n",
    "\n",
    "    def get_secret_urn(host, secret_name):\n",
    "        url = f\"{host}/zen-data/v2/secrets\"\n",
    "        headers = client._get_headers(zen=True)\n",
    "        params = {\"secret_name\": secret_name}\n",
    "\n",
    "        response = requests.get(url, headers=headers, params=params)\n",
    "        secret_list = response.json()[\"secrets\"]\n",
    "\n",
    "        return secret_list[0][\"secret_urn\"]\n",
    "\n",
    "    def get_secret_details(host, secret_urn):\n",
    "        url = f\"{host}/zen-data/v2/secrets/{secret_urn}\"\n",
    "        headers = client._get_headers(zen=True)\n",
    "\n",
    "        response = requests.get(url, headers=headers, verify=False)\n",
    "        secret_details = response.json()\n",
    "\n",
    "        return secret_details[\"data\"][\"secret\"][\"credentials\"]\n",
    "\n",
    "    secret_urn = get_secret_urn(host, secret_name)\n",
    "    client_credentials = get_secret_details(host, secret_urn)\n",
    "\n",
    "    vault_username = client_credentials[\"username\"]\n",
    "    vault_password = client_credentials[\"password\"]\n",
    "\n",
    "    vault_credentials = Credentials(\n",
    "        url=os.environ.get(\"RUNTIME_ENV_APSX_URL\"),\n",
    "        username=vault_username,\n",
    "        password=vault_password,\n",
    "        instance_id=\"openshift\",\n",
    "        version=\"5.2\",\n",
    "    )\n",
    "\n",
    "    client_from_vault = APIClient(credentials=vault_credentials, space_id=space_id)\n",
    "\n",
    "    def score(payload):\n",
    "        stored_models = client_from_vault.repository.list()\n",
    "        use_score_token_values = stored_models[\"ID\"].tolist()\n",
    "\n",
    "        score_response = {\n",
    "            \"predictions\": [\n",
    "                {\"fields\": [\"use_score_token\"], \"values\": [use_score_token_values]}\n",
    "            ]\n",
    "        }\n",
    "\n",
    "        return score_response\n",
    "\n",
    "    return score\n",
    "\n",
    "\n",
    "score = deployable_function_with_secret()"
   ]
  },
  {
   "cell_type": "markdown",
   "metadata": {
    "id": "beb0a192-5930-4063-b634-55beef921028"
   },
   "source": [
    "<a id=\"testing-locally\"></a>\n",
    "## Testing function locally\n",
    "\n",
    "You can test your Python function locally before deploying it to the space."
   ]
  },
  {
   "cell_type": "code",
   "execution_count": 14,
   "metadata": {
    "id": "c393cabc-865d-4f79-bec0-3ef9e9de611d"
   },
   "outputs": [
    {
     "name": "stdout",
     "output_type": "stream",
     "text": [
      "{\n",
      "  \"predictions\": [\n",
      "    {\n",
      "      \"fields\": [\n",
      "        \"use_score_token\"\n",
      "      ],\n",
      "      \"values\": [\n",
      "        []\n",
      "      ]\n",
      "    }\n",
      "  ]\n",
      "}\n"
     ]
    }
   ],
   "source": [
    "local_function = deployable_function_with_secret(space_id, secret_name)\n",
    "\n",
    "payload = {\"input_data\": [{\"values\": [1]}]}\n",
    "result = local_function(payload)\n",
    "\n",
    "print(json.dumps(result, indent=2))"
   ]
  },
  {
   "cell_type": "markdown",
   "metadata": {
    "id": "bd5220e6-13ba-4eac-93f6-f945e9b85b55"
   },
   "source": [
    "## Store and deploy the function\n",
    "\n",
    "Before you can deploy the function, you must store it in your watsonx.ai Runtime."
   ]
  },
  {
   "cell_type": "markdown",
   "metadata": {
    "id": "6ea97c04-4af7-48a2-8650-da34232ce9e5"
   },
   "source": [
    "### Store the function\n",
    "In order to deploy the function, you need to specify your software specification."
   ]
  },
  {
   "cell_type": "markdown",
   "metadata": {
    "id": "92ec2f8a-b223-4f45-9e42-e7fb7932ee1d"
   },
   "source": [
    "#### Get software specification ID"
   ]
  },
  {
   "cell_type": "code",
   "execution_count": 15,
   "metadata": {
    "id": "d74863e6-494c-425c-81ff-c75498df3afe"
   },
   "outputs": [],
   "source": [
    "software_spec_id = client.software_specifications.get_id_by_name(\"runtime-25.1-py3.12\")"
   ]
  },
  {
   "cell_type": "markdown",
   "metadata": {
    "id": "99a8f3b1-194a-4087-b8b1-913e10d74217"
   },
   "source": [
    "#### Store the function in watsonx.ai Runtime"
   ]
  },
  {
   "cell_type": "code",
   "execution_count": 16,
   "metadata": {
    "id": "69a81998-9ad1-47ee-9003-ba29c5e4921e"
   },
   "outputs": [],
   "source": [
    "store_function_meta_props = {\n",
    "    client.repository.FunctionMetaNames.NAME: \"Deployable function with secret from Vault\",\n",
    "    client.repository.FunctionMetaNames.SOFTWARE_SPEC_ID: software_spec_id,\n",
    "}\n",
    "\n",
    "function_artifact = client.repository.store_function(\n",
    "    function=deployable_function_with_secret,\n",
    "    meta_props=store_function_meta_props,\n",
    ")"
   ]
  },
  {
   "cell_type": "markdown",
   "metadata": {
    "id": "a42ee8d8-1ccd-4e18-942f-50972121e8cd"
   },
   "source": [
    "#### Get ID of deployed function"
   ]
  },
  {
   "cell_type": "code",
   "execution_count": 17,
   "metadata": {
    "id": "5d20d4b2-8bfb-4cb9-b1c0-ab99756fbd28"
   },
   "outputs": [
    {
     "data": {
      "text/plain": [
       "'ffc713f0-50c5-45be-ae95-afba9f5566a2'"
      ]
     },
     "execution_count": 17,
     "metadata": {},
     "output_type": "execute_result"
    }
   ],
   "source": [
    "function_id = client.repository.get_function_id(function_artifact)\n",
    "\n",
    "function_id"
   ]
  },
  {
   "cell_type": "markdown",
   "metadata": {
    "id": "9559b3ec-2ea2-4fdc-94c6-402ac53b04cb"
   },
   "source": [
    "### Deploy the function\n",
    "\n",
    "After storing the function in your watsonx.ai Runtime, you can deploy it to your deployment space."
   ]
  },
  {
   "cell_type": "code",
   "execution_count": 18,
   "metadata": {
    "id": "6445ab8e-4309-4bd1-89e0-c9981c9c2852"
   },
   "outputs": [
    {
     "name": "stdout",
     "output_type": "stream",
     "text": [
      "\n",
      "\n",
      "######################################################################################\n",
      "\n",
      "Synchronous deployment creation for id: 'ffc713f0-50c5-45be-ae95-afba9f5566a2' started\n",
      "\n",
      "######################################################################################\n",
      "\n",
      "\n",
      "initializing\n",
      "Note: online_url is deprecated and will be removed in a future release. Use serving_urls instead.\n",
      "........\n",
      "ready\n",
      "\n",
      "\n",
      "-----------------------------------------------------------------------------------------------\n",
      "Successfully finished deployment creation, deployment_id='db0ebd69-bbd6-4f7d-9a06-503d0e889ffa'\n",
      "-----------------------------------------------------------------------------------------------\n",
      "\n",
      "\n"
     ]
    }
   ],
   "source": [
    "deployment_meta_props = {\n",
    "    client.deployments.ConfigurationMetaNames.NAME: \"Deployed function with secret from Vault\",\n",
    "    client.deployments.ConfigurationMetaNames.ONLINE: {},\n",
    "}\n",
    "\n",
    "deployment_details = client.deployments.create(\n",
    "    artifact_id=function_id,\n",
    "    meta_props=deployment_meta_props,\n",
    ")"
   ]
  },
  {
   "cell_type": "markdown",
   "metadata": {
    "id": "8f6e994f-0a14-40a8-86bd-384f5287370f"
   },
   "source": [
    "<a id=\"testing-deployment\"></a>\n",
    "## Test the deployed function\n",
    "\n",
    "You can use `ibm-watsonx-ai` Python SDK or REST API to send data to your function deployment for processing in exactly the same way you send data to model deployments for processing."
   ]
  },
  {
   "cell_type": "markdown",
   "metadata": {
    "id": "90354b05-25a3-4db4-a80b-0c4d82610860"
   },
   "source": [
    "#### Test using `ibm-watsonx-ai` Python SDK"
   ]
  },
  {
   "cell_type": "code",
   "execution_count": 19,
   "metadata": {
    "id": "dc533c86-57ce-454a-9c2d-4d6447065fa5"
   },
   "outputs": [
    {
     "name": "stdout",
     "output_type": "stream",
     "text": [
      "{\n",
      "  \"predictions\": [\n",
      "    {\n",
      "      \"fields\": [\n",
      "        \"use_score_token\"\n",
      "      ],\n",
      "      \"values\": [\n",
      "        [\n",
      "          \"ffc713f0-50c5-45be-ae95-afba9f5566a2\"\n",
      "        ]\n",
      "      ]\n",
      "    }\n",
      "  ]\n",
      "}\n"
     ]
    }
   ],
   "source": [
    "payload = {\"input_data\": [{\"values\": [1]}]}\n",
    "\n",
    "deployment_id = client.deployments.get_id(deployment_details)\n",
    "result = client.deployments.score(deployment_id, payload)\n",
    "\n",
    "if \"error\" in result:\n",
    "    print(result[\"error\"])\n",
    "else:\n",
    "    print(json.dumps(result, indent=2))"
   ]
  },
  {
   "cell_type": "markdown",
   "metadata": {
    "id": "b48cc60a-0d24-47ee-8e9c-15e2a2a7098c"
   },
   "source": [
    "#### Get deployment endpoint URL for REST API testing"
   ]
  },
  {
   "cell_type": "code",
   "execution_count": null,
   "metadata": {
    "id": "f90b411e-6d37-4ffb-a5e8-f54a8b945f00"
   },
   "outputs": [],
   "source": [
    "deployment_endpoint_url = client.deployments.get_scoring_href(deployment_details)\n",
    "\n",
    "deployment_endpoint_url"
   ]
  },
  {
   "cell_type": "markdown",
   "metadata": {
    "id": "bc88c9fe-c18d-4421-a0e8-dca4bdd40d71"
   },
   "source": [
    "<a id=\"cleanup\"></a>\n",
    "## Cleanup"
   ]
  },
  {
   "cell_type": "markdown",
   "metadata": {
    "id": "342587a6-bb26-47f7-9963-2f5ad19086da"
   },
   "source": [
    "If you want to clean up all created assets:\n",
    "- experiments\n",
    "- trainings\n",
    "- pipelines\n",
    "- model definitions\n",
    "- models\n",
    "- functions\n",
    "- deployments\n",
    "\n",
    "please follow up this sample [notebook](https://github.com/IBM/watsonx-ai-samples/blob/master/cpd5.2/notebooks/python_sdk/instance-management/Machine%20Learning%20artifacts%20management.ipynb)."
   ]
  },
  {
   "cell_type": "markdown",
   "metadata": {
    "id": "1e48085c-9c34-4148-8a6f-5ddab31fc576"
   },
   "source": [
    "<a id=\"summary\"></a>\n",
    "## Summary and next steps\n",
    "In this notebook, you created a Python function that receives HTML canvas image data and then processes and sends that data to a model trained to recognize handwritten digits.\n",
    "\n",
    "Check out our _<a href=\"https://ibm.github.io/watsonx-ai-python-sdk/samples.html\" target=\"_blank\" rel=\"noopener no referrer\">Online Documentation</a>_ for more samples, tutorials, documentation, how-tos, and blog posts. "
   ]
  },
  {
   "cell_type": "markdown",
   "metadata": {
    "id": "7b5f3851-ff53-413e-873e-29e714fb39fa"
   },
   "source": [
    "### <a id=\"authors\"></a>Authors\n",
    "\n",
    "**Rafał Chrzanowski**, Software Engineer Intern at watsonx.ai."
   ]
  },
  {
   "cell_type": "markdown",
   "metadata": {
    "id": "288b6769-2519-4a3a-a68b-0a68be149fc2"
   },
   "source": [
    "Copyright © 2025 IBM. This notebook and its source code are released under the terms of the MIT License."
   ]
  }
 ],
 "metadata": {
  "kernelspec": {
   "display_name": "Python 3.12",
   "language": "python",
   "name": "python3"
  },
  "language_info": {
   "codemirror_mode": {
    "name": "ipython",
    "version": 3
   },
   "file_extension": ".py",
   "mimetype": "text/x-python",
   "name": "python",
   "nbconvert_exporter": "python",
   "pygments_lexer": "ipython3",
   "version": "3.12.5"
  }
 },
 "nbformat": 4,
 "nbformat_minor": 4
}

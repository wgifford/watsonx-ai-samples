{
  "cells": [
    {
      "cell_type": "markdown",
      "metadata": {},
      "source": [
        "# Use custom software_spec to create statsmodels function describing data with `ibm-watsonx-ai`\n",
        "\n",
        "This notebook demonstrates how to deploy in watsonx.ai Runtime service as Python function with `statsmodel`, which requires creation of custom software specification using `requirements.txt` file with all required libraries.\n",
        "\n",
        "Some familiarity with Python is helpful. This notebook uses Python 3.12."
      ]
    },
    {
      "cell_type": "markdown",
      "metadata": {},
      "source": [
        "## Learning goals\n",
        "\n",
        "The learning goals of this notebook are:\n",
        "\n",
        "-  Working with the watsonx.ai instance\n",
        "-  Creating custom software specification\n",
        "-  Online deployment of python function\n",
        "-  Scoring data using deployed function\n",
        "\n",
        "## Contents\n",
        "\n",
        "This notebook contains the following parts:\n",
        "\n",
        "1. [Setup](#setup)\n",
        "2. [Function creation](#create)\n",
        "3. [Function upload](#upload) \n",
        "4. [Web service creation](#deploy)\n",
        "5. [Scoring](#score)\n",
        "6. [Clean up](#cleanup)\n",
        "7. [Summary and next steps](#summary)"
      ]
    },
    {
      "cell_type": "markdown",
      "metadata": {},
      "source": [
        "<a id=\"setup\"></a>\n",
        "## 1. Set up the environment\n",
        "\n",
        "Before you use the sample code in this notebook, you must perform the following setup tasks:\n",
        "\n",
        "-  Contact with your Cloud Pak for Data administrator and ask them for your account credentials"
      ]
    },
    {
      "cell_type": "markdown",
      "metadata": {},
      "source": [
        "### Install dependencies\n",
        "**Note:** `ibm-watsonx-ai` documentation can be found <a href=\"https://ibm.github.io/watsonx-ai-python-sdk/index.html\" target=\"_blank\" rel=\"noopener no referrer\">here</a>."
      ]
    },
    {
      "cell_type": "code",
      "execution_count": 1,
      "metadata": {},
      "outputs": [
        {
          "name": "stdout",
          "output_type": "stream",
          "text": [
            "Successfully installed wget-3.2\n",
            "\u001b[1A\u001b[2KSuccessfully installed anyio-4.9.0 certifi-2025.4.26 charset-normalizer-3.4.2 h11-0.16.0 httpcore-1.0.9 httpx-0.28.1 ibm-cos-sdk-2.14.0 ibm-cos-sdk-core-2.14.0 ibm-cos-sdk-s3transfer-2.14.0 ibm-watsonx-ai-1.3.13 idna-3.10 jmespath-1.0.1 lomond-0.3.3 numpy-2.2.5 pandas-2.2.3 pytz-2025.2 requests-2.32.2 sniffio-1.3.1 tabulate-0.9.0 typing_extensions-4.13.2 tzdata-2025.2 urllib3-2.4.0\n",
            "\u001b[1A\u001b[2KSuccessfully installed patsy-1.0.1 scipy-1.15.2 statsmodels-0.14.4\n"
          ]
        }
      ],
      "source": [
        "%pip install wget | tail -n 1\n",
        "%pip install -U ibm-watsonx-ai | tail -n 1\n",
        "%pip install statsmodels | tail -n 1"
      ]
    },
    {
      "cell_type": "markdown",
      "metadata": {},
      "source": [
        "#### Define credentials\n",
        "\n",
        "Authenticate the watsonx.ai Runtime service on IBM Cloud Pak for Data. You need to provide the **admin's** `username` and the platform `url`."
      ]
    },
    {
      "cell_type": "code",
      "execution_count": null,
      "metadata": {},
      "outputs": [],
      "source": [
        "username = \"PASTE YOUR USERNAME HERE\"\n",
        "url = \"PASTE THE PLATFORM URL HERE\""
      ]
    },
    {
      "cell_type": "markdown",
      "metadata": {},
      "source": [
        "Use the **admin's** `api_key` to authenticate WML services:"
      ]
    },
    {
      "cell_type": "code",
      "execution_count": null,
      "metadata": {},
      "outputs": [],
      "source": [
        "import getpass\n",
        "from ibm_watsonx_ai import Credentials\n",
        "\n",
        "credentials = Credentials(\n",
        "    username=username,\n",
        "    api_key=getpass.getpass(\"Enter your watsonx.ai API key and hit enter: \"),\n",
        "    url=url,\n",
        "    instance_id=\"openshift\",\n",
        "    version=\"5.2\",\n",
        ")"
      ]
    },
    {
      "cell_type": "markdown",
      "metadata": {},
      "source": [
        "Alternatively you can use the **admin's** `password`:"
      ]
    },
    {
      "cell_type": "code",
      "execution_count": 3,
      "metadata": {},
      "outputs": [],
      "source": [
        "import getpass\n",
        "from ibm_watsonx_ai import Credentials\n",
        "\n",
        "if \"credentials\" not in locals() or not credentials.api_key:\n",
        "    credentials = Credentials(\n",
        "        username=username,\n",
        "        password=getpass.getpass(\"Enter your watsonx.ai password and hit enter: \"),\n",
        "        url=url,\n",
        "        instance_id=\"openshift\",\n",
        "        version=\"5.2\",\n",
        "    )"
      ]
    },
    {
      "cell_type": "markdown",
      "metadata": {},
      "source": [
        "#### Create `APIClient` instance"
      ]
    },
    {
      "cell_type": "code",
      "execution_count": 4,
      "metadata": {},
      "outputs": [],
      "source": [
        "from ibm_watsonx_ai import APIClient\n",
        "\n",
        "client = APIClient(credentials)"
      ]
    },
    {
      "cell_type": "markdown",
      "metadata": {},
      "source": [
        "### Working with spaces\n",
        "\n",
        "First of all, you need to create a space that will be used for your work. If you do not have space already created, you can use `{PLATFORM_URL}/ml-runtime/spaces?context=icp4data` to create one.\n",
        "\n",
        "- Click New Deployment Space\n",
        "- Create an empty space\n",
        "- Go to space `Settings` tab\n",
        "- Copy `space_id` and paste it below\n",
        "\n",
        "**Tip**: You can also use SDK to prepare the space for your work. More information can be found [here](https://github.com/IBM/watsonx-ai-samples/blob/master/cpd5.2/notebooks/python_sdk/instance-management/Space%20management.ipynb).\n",
        "\n",
        "**Action**: Assign space ID below"
      ]
    },
    {
      "cell_type": "code",
      "execution_count": null,
      "metadata": {},
      "outputs": [],
      "source": [
        "space_id = \"PASTE YOUR SPACE ID HERE\""
      ]
    },
    {
      "cell_type": "markdown",
      "metadata": {},
      "source": [
        "You can use `list` method to print all existing spaces."
      ]
    },
    {
      "cell_type": "code",
      "execution_count": null,
      "metadata": {},
      "outputs": [],
      "source": [
        "client.spaces.list(limit=10)"
      ]
    },
    {
      "cell_type": "markdown",
      "metadata": {},
      "source": [
        "To be able to interact with all resources available in watsonx.ai, you need to set **space** which you will be using."
      ]
    },
    {
      "cell_type": "code",
      "execution_count": 6,
      "metadata": {},
      "outputs": [
        {
          "data": {
            "text/plain": [
              "'SUCCESS'"
            ]
          },
          "execution_count": 6,
          "metadata": {},
          "output_type": "execute_result"
        }
      ],
      "source": [
        "client.set.default_space(space_id)"
      ]
    },
    {
      "cell_type": "markdown",
      "metadata": {},
      "source": [
        "<a id=\"create\"></a>\n",
        "## 2. Create function\n",
        "\n",
        "In this section you will learn how to create deployable function with statsmodels module calculating describition of a given data."
      ]
    },
    {
      "cell_type": "markdown",
      "metadata": {},
      "source": [
        "#### Create deployable callable which uses `statsmodels` library"
      ]
    },
    {
      "cell_type": "code",
      "execution_count": 7,
      "metadata": {},
      "outputs": [],
      "source": [
        "def deployable_callable():\n",
        "    \"\"\"\n",
        "    Deployable python function with score\n",
        "    function implemented.\n",
        "    \"\"\"\n",
        "\n",
        "    try:\n",
        "        from statsmodels.stats.descriptivestats import describe\n",
        "    except ModuleNotFoundError as e:\n",
        "        print(f\"statsmodels not installed: {str(e)}\")\n",
        "\n",
        "    def score(payload):\n",
        "        \"\"\"\n",
        "        Score method.\n",
        "        \"\"\"\n",
        "        try:\n",
        "            data = payload[\"input_data\"][0][\"values\"]\n",
        "            return {\"predictions\": [{\"values\": str(describe(data))}]}\n",
        "        except Exception as e:\n",
        "            return {\"predictions\": [{\"values\": [repr(e)]}]}\n",
        "\n",
        "    return score"
      ]
    },
    {
      "cell_type": "markdown",
      "metadata": {},
      "source": [
        "####  Test callable locally"
      ]
    },
    {
      "cell_type": "code",
      "execution_count": 8,
      "metadata": {},
      "outputs": [
        {
          "name": "stdout",
          "output_type": "stream",
          "text": [
            "                          0          1          2          3          4  \\\n",
            "nobs              10.000000  10.000000  10.000000  10.000000  10.000000   \n",
            "missing            0.000000   0.000000   0.000000   0.000000   0.000000   \n",
            "mean               0.109419  -0.396759   0.230355  -0.300086  -0.404532   \n",
            "std_err            0.366493   0.353975   0.292359   0.310328   0.303524   \n",
            "upper_ci           0.827732   0.297020   0.803369   0.308147   0.190363   \n",
            "lower_ci          -0.608894  -1.090538  -0.342659  -0.908318  -0.999428   \n",
            "std                1.158952   1.119368   0.924521   0.981344   0.959826   \n",
            "iqr                1.658504   0.502628   0.783272   1.306470   1.403269   \n",
            "iqr_normal         1.229451   0.372599   0.580640   0.968488   1.040245   \n",
            "mad                0.914476   0.643780   0.667696   0.786667   0.797205   \n",
            "mad_normal         1.146126   0.806858   0.836833   0.985941   0.999148   \n",
            "coef_var          10.591883  -2.821279   4.013468  -3.270214  -2.372679   \n",
            "range              3.488891   4.035260   3.012839   3.218347   3.073067   \n",
            "max                2.444000   0.805701   2.083121   1.060559   1.365585   \n",
            "min               -1.044890  -3.229559  -0.929718  -2.157787  -1.707481   \n",
            "skew               0.863106  -1.599627   0.876143  -0.527975   0.502819   \n",
            "kurtosis           2.533978   5.397330   2.830348   2.352143   2.165138   \n",
            "jarque_bera        1.332076   6.659342   1.291370   0.639479   0.711792   \n",
            "jarque_bera_pval   0.513740   0.035805   0.524303   0.726338   0.700546   \n",
            "mode              -1.044890  -3.229559  -0.929718  -2.157787  -1.707481   \n",
            "mode_freq          0.100000   0.100000   0.100000   0.100000   0.100000   \n",
            "median            -0.235313  -0.331667   0.045002  -0.005845  -0.711699   \n",
            "1%                -1.037849  -2.997851  -0.894753  -2.074665  -1.664691   \n",
            "5%                -1.009683  -2.071020  -0.754893  -1.742177  -1.493531   \n",
            "10%               -0.974476  -0.912480  -0.580069  -1.326566  -1.279581   \n",
            "25%               -0.755378  -0.489836  -0.388339  -1.032802  -1.038413   \n",
            "50%               -0.235313  -0.331667   0.045002  -0.005845  -0.711699   \n",
            "75%                0.903126   0.012792   0.394933   0.273668   0.364856   \n",
            "90%                1.385126   0.805457   1.547382   0.661974   0.605617   \n",
            "95%                1.914563   0.805579   1.815251   0.861267   0.985601   \n",
            "99%                2.338113   0.805676   2.029547   1.020701   1.289589   \n",
            "\n",
            "                          5          6          7          8          9  \n",
            "nobs              10.000000  10.000000  10.000000  10.000000  10.000000  \n",
            "missing            0.000000   0.000000   0.000000   0.000000   0.000000  \n",
            "mean               0.148414   0.137150  -0.123837  -0.223200  -0.598800  \n",
            "std_err            0.279302   0.271738   0.339934   0.212003   0.273558  \n",
            "upper_ci           0.695836   0.669747   0.542420   0.192318  -0.062636  \n",
            "lower_ci          -0.399008  -0.395448  -0.790095  -0.638718  -1.134963  \n",
            "std                0.883231   0.859312   1.074964   0.670412   0.865066  \n",
            "iqr                0.959306   1.166451   1.045893   0.463584   1.196036  \n",
            "iqr_normal         0.711135   0.864691   0.775321   0.343656   0.886623  \n",
            "mad                0.694898   0.746995   0.816197   0.469066   0.706356  \n",
            "mad_normal         0.870925   0.936219   1.022952   0.587887   0.885287  \n",
            "coef_var           5.951126   6.265513  -8.680468  -3.003640  -1.444666  \n",
            "range              2.738575   2.362325   3.659138   2.252933   2.769094  \n",
            "max                1.015273   1.015773   1.390455   0.693056   0.683264  \n",
            "min               -1.723302  -1.346552  -2.268684  -1.559877  -2.085830  \n",
            "skew              -1.037692  -0.459174  -0.370394  -0.663394  -0.148528  \n",
            "kurtosis           2.954114   1.790141   2.809943   2.841604   2.054778  \n",
            "jarque_bera        1.795553   0.961300   0.243704   0.743939   0.409036  \n",
            "jarque_bera_pval   0.407475   0.618381   0.885280   0.689375   0.815040  \n",
            "mode              -1.723302  -1.346552  -2.268684  -1.559877  -2.085830  \n",
            "mode_freq          0.100000   0.100000   0.100000   0.100000   0.100000  \n",
            "median             0.495079   0.284466  -0.362117  -0.139210  -0.597810  \n",
            "1%                -1.647391  -1.308704  -2.139648  -1.512734  -2.029969  \n",
            "5%                -1.343747  -1.157311  -1.623503  -1.324160  -1.806522  \n",
            "10%               -0.964192  -0.968070  -0.978322  -1.088442  -1.527213  \n",
            "25%               -0.170491  -0.307490  -0.498677  -0.368516  -1.101316  \n",
            "50%                0.495079   0.284466  -0.362117  -0.139210  -0.597810  \n",
            "75%                0.788815   0.858961   0.547216   0.095068   0.094719  \n",
            "90%                0.836263   0.954100   1.242465   0.530940   0.326458  \n",
            "95%                0.925768   0.984937   1.316460   0.611998   0.504861  \n",
            "99%                0.997372   1.009606   1.375656   0.676844   0.647583  \n"
          ]
        }
      ],
      "source": [
        "import numpy as np\n",
        "\n",
        "score_function = deployable_callable()\n",
        "\n",
        "data = np.random.randn(10, 10)\n",
        "data_description = score_function({\"input_data\": [{\"values\": data}]})\n",
        "\n",
        "print(data_description[\"predictions\"][0][\"values\"])"
      ]
    },
    {
      "cell_type": "markdown",
      "metadata": {},
      "source": [
        "<a id=\"upload\"></a>\n",
        "## 3. Upload python function\n",
        "\n",
        "In this section you will learn how to upload the Python function to watsonx.ai."
      ]
    },
    {
      "cell_type": "markdown",
      "metadata": {},
      "source": [
        "#### Custom software_specification\n",
        "Create new software specification based on `runtime-25.1-py3.12`."
      ]
    },
    {
      "cell_type": "code",
      "execution_count": 9,
      "metadata": {},
      "outputs": [],
      "source": [
        "requirements_txt_content = \"statsmodels==0.14.4\"\n",
        "\n",
        "with open(\"requirements.txt\", \"w\") as file:\n",
        "    file.write(requirements_txt_content)"
      ]
    },
    {
      "cell_type": "code",
      "execution_count": 10,
      "metadata": {},
      "outputs": [],
      "source": [
        "base_sw_spec_id = client.software_specifications.get_id_by_name(\"runtime-25.1-py3.12\")"
      ]
    },
    {
      "cell_type": "markdown",
      "metadata": {},
      "source": [
        "The `requirements.txt` file describes details of package extension. Now you need to store new package extension using `APIClient`."
      ]
    },
    {
      "cell_type": "code",
      "execution_count": 11,
      "metadata": {},
      "outputs": [
        {
          "name": "stdout",
          "output_type": "stream",
          "text": [
            "Creating package extensions\n",
            "SUCCESS\n"
          ]
        }
      ],
      "source": [
        "meta_prop_pkg_extn = {\n",
        "    client.package_extensions.ConfigurationMetaNames.NAME: \"statsmodels env\",\n",
        "    client.package_extensions.ConfigurationMetaNames.DESCRIPTION: \"Environment with statsmodels\",\n",
        "    client.package_extensions.ConfigurationMetaNames.TYPE: \"requirements_txt\",\n",
        "}\n",
        "\n",
        "pkg_extn_details = client.package_extensions.store(\n",
        "    meta_props=meta_prop_pkg_extn, file_path=\"requirements.txt\"\n",
        ")\n",
        "pkg_extn_id = client.package_extensions.get_id(pkg_extn_details)\n",
        "pkg_extn_url = client.package_extensions.get_href(pkg_extn_details)"
      ]
    },
    {
      "cell_type": "markdown",
      "metadata": {},
      "source": [
        "#### Create new software specification and add created package extention to it."
      ]
    },
    {
      "cell_type": "code",
      "execution_count": 12,
      "metadata": {},
      "outputs": [
        {
          "name": "stdout",
          "output_type": "stream",
          "text": [
            "SUCCESS\n"
          ]
        },
        {
          "data": {
            "text/plain": [
              "'SUCCESS'"
            ]
          },
          "execution_count": 12,
          "metadata": {},
          "output_type": "execute_result"
        }
      ],
      "source": [
        "meta_prop_sw_spec = {\n",
        "    client.software_specifications.ConfigurationMetaNames.NAME: \"statsmodels software_spec\",\n",
        "    client.software_specifications.ConfigurationMetaNames.DESCRIPTION: \"Software specification for statsmodels\",\n",
        "    client.software_specifications.ConfigurationMetaNames.BASE_SOFTWARE_SPECIFICATION: {\n",
        "        \"guid\": base_sw_spec_id\n",
        "    },\n",
        "}\n",
        "\n",
        "sw_spec_details = client.software_specifications.store(meta_props=meta_prop_sw_spec)\n",
        "sw_spec_id = client.software_specifications.get_id(sw_spec_details)\n",
        "\n",
        "client.software_specifications.add_package_extension(sw_spec_id, pkg_extn_id)"
      ]
    },
    {
      "cell_type": "markdown",
      "metadata": {},
      "source": [
        "#### Get the details of created software specification"
      ]
    },
    {
      "cell_type": "code",
      "execution_count": 13,
      "metadata": {
        "scrolled": true
      },
      "outputs": [
        {
          "data": {
            "text/plain": [
              "{'metadata': {'name': 'statsmodels software_spec',\n",
              "  'asset_id': 'a3445242-780d-4350-8d19-ff5ac6030191',\n",
              "  'href': '/v2/software_specifications/a3445242-780d-4350-8d19-ff5ac6030191',\n",
              "  'asset_type': 'software_specification',\n",
              "  'created_at': '2025-05-07T09:00:52Z',\n",
              "  'life_cycle': {'since_version': '5.2.0'}},\n",
              " 'entity': {'software_specification': {'type': 'derived',\n",
              "   'display_name': 'statsmodels software_spec',\n",
              "   'package_extensions': [{'metadata': {'space_id': '8a13841b-df99-4b4d-bf2a-161ad2e33980',\n",
              "      'usage': {'last_updated_at': '2025-05-07T09:00:48Z',\n",
              "       'last_updater_id': '1000331001',\n",
              "       'last_update_time': 1746608448593,\n",
              "       'last_accessed_at': '2025-05-07T09:00:48Z',\n",
              "       'last_access_time': 1746608448593,\n",
              "       'last_accessor_id': '1000331001',\n",
              "       'access_count': 0},\n",
              "      'rov': {'mode': 0,\n",
              "       'collaborator_ids': {},\n",
              "       'member_roles': {'1000331001': {'user_iam_id': '1000331001',\n",
              "         'roles': ['OWNER']}}},\n",
              "      'is_linked_with_sub_container': False,\n",
              "      'is_primary_attachment_downloadable': True,\n",
              "      'name': 'statsmodels env',\n",
              "      'description': 'Environment with statsmodels',\n",
              "      'tags': ['dsx'],\n",
              "      'asset_type': 'package_extension',\n",
              "      'origin_country': 'us',\n",
              "      'rating': 0,\n",
              "      'total_ratings': 0,\n",
              "      'catalog_id': 'd396e465-1b0f-4eaf-a6ea-78291dcae56f',\n",
              "      'created': 1746608446840,\n",
              "      'created_at': '2025-05-07T09:00:46Z',\n",
              "      'owner_id': '1000331001',\n",
              "      'size': 19,\n",
              "      'version': 0,\n",
              "      'asset_state': 'available',\n",
              "      'asset_attributes': ['package_extension'],\n",
              "      'asset_id': 'e58d185f-39e4-446e-96af-c3a412085e2c',\n",
              "      'asset_category': 'USER',\n",
              "      'creator_id': '1000331001'},\n",
              "     'entity': {'package_extension': {'type': 'requirements_txt',\n",
              "       'object_key': 'package_extension/statsmodels_env_dHDcIs5ZM.txt',\n",
              "       'interpreter': 'pip'}}}],\n",
              "   'base_software_specification': {'guid': 'f47ae1c3-198e-5718-b59d-2ea471561e9e',\n",
              "    'href': '/v2/software_specifications/f47ae1c3-198e-5718-b59d-2ea471561e9e'},\n",
              "   'software_configuration': {'included_packages': [{'name': 'Python',\n",
              "      'version': '3.12'},\n",
              "     {'name': 'Open CE', 'version': '2.0'}],\n",
              "    'platform': {'name': 'python',\n",
              "     'version': '3.12',\n",
              "     'facilities': ['pyvenv']}}}}}"
            ]
          },
          "execution_count": 13,
          "metadata": {},
          "output_type": "execute_result"
        }
      ],
      "source": [
        "client.software_specifications.get_details(sw_spec_id)"
      ]
    },
    {
      "cell_type": "markdown",
      "metadata": {},
      "source": [
        "#### Store the function"
      ]
    },
    {
      "cell_type": "code",
      "execution_count": 14,
      "metadata": {},
      "outputs": [],
      "source": [
        "meta_props = {\n",
        "    client.repository.FunctionMetaNames.NAME: \"statsmodels function\",\n",
        "    client.repository.FunctionMetaNames.SOFTWARE_SPEC_ID: sw_spec_id,\n",
        "}\n",
        "\n",
        "function_details = client.repository.store_function(\n",
        "    meta_props=meta_props, function=deployable_callable\n",
        ")\n",
        "function_id = client.repository.get_function_id(function_details)"
      ]
    },
    {
      "cell_type": "markdown",
      "metadata": {},
      "source": [
        "#### Get function details"
      ]
    },
    {
      "cell_type": "code",
      "execution_count": 15,
      "metadata": {},
      "outputs": [
        {
          "data": {
            "text/plain": [
              "{'metadata': {'name': 'statsmodels function',\n",
              "  'space_id': '8a13841b-df99-4b4d-bf2a-161ad2e33980',\n",
              "  'resource_key': '5d669d9c-4f17-47ff-a708-ca513ad1aaf5',\n",
              "  'id': 'eb782a4f-db22-458b-9d15-9db52b5ff7f4',\n",
              "  'created_at': '2025-05-07T09:17:48Z',\n",
              "  'rov': {'member_roles': {'1000331001': {'user_iam_id': '1000331001',\n",
              "     'roles': ['OWNER']}}},\n",
              "  'owner': '1000331001'},\n",
              " 'entity': {'software_spec': {'id': 'a3445242-780d-4350-8d19-ff5ac6030191'},\n",
              "  'type': 'python'}}"
            ]
          },
          "execution_count": 15,
          "metadata": {},
          "output_type": "execute_result"
        }
      ],
      "source": [
        "client.repository.get_details(function_id)"
      ]
    },
    {
      "cell_type": "markdown",
      "metadata": {},
      "source": [
        "**Note:** You can see that function is successfully stored in watsonx.ai Runtime service."
      ]
    },
    {
      "cell_type": "code",
      "execution_count": 16,
      "metadata": {},
      "outputs": [
        {
          "data": {
            "text/html": [
              "<div>\n",
              "<style scoped>\n",
              "    .dataframe tbody tr th:only-of-type {\n",
              "        vertical-align: middle;\n",
              "    }\n",
              "\n",
              "    .dataframe tbody tr th {\n",
              "        vertical-align: top;\n",
              "    }\n",
              "\n",
              "    .dataframe thead th {\n",
              "        text-align: right;\n",
              "    }\n",
              "</style>\n",
              "<table border=\"1\" class=\"dataframe\">\n",
              "  <thead>\n",
              "    <tr style=\"text-align: right;\">\n",
              "      <th></th>\n",
              "      <th>ID</th>\n",
              "      <th>NAME</th>\n",
              "      <th>CREATED</th>\n",
              "      <th>TYPE</th>\n",
              "      <th>SPEC_STATE</th>\n",
              "      <th>SPEC_REPLACEMENT</th>\n",
              "    </tr>\n",
              "  </thead>\n",
              "  <tbody>\n",
              "    <tr>\n",
              "      <th>0</th>\n",
              "      <td>eb782a4f-db22-458b-9d15-9db52b5ff7f4</td>\n",
              "      <td>statsmodels function</td>\n",
              "      <td>2025-05-07T09:17:48Z</td>\n",
              "      <td>python</td>\n",
              "      <td></td>\n",
              "      <td></td>\n",
              "    </tr>\n",
              "  </tbody>\n",
              "</table>\n",
              "</div>"
            ],
            "text/plain": [
              "                                     ID                  NAME  \\\n",
              "0  eb782a4f-db22-458b-9d15-9db52b5ff7f4  statsmodels function   \n",
              "\n",
              "                CREATED    TYPE    SPEC_STATE SPEC_REPLACEMENT  \n",
              "0  2025-05-07T09:17:48Z  python                                 \n"
            ]
          },
          "execution_count": 16,
          "metadata": {},
          "output_type": "execute_result"
        }
      ],
      "source": [
        "client.repository.list_functions()"
      ]
    },
    {
      "cell_type": "markdown",
      "metadata": {},
      "source": [
        "<a id=\"deploy\"></a>\n",
        "## 4. Create online deployment\n",
        "You can use commands bellow to create online deployment for stored function (web service)."
      ]
    },
    {
      "cell_type": "markdown",
      "metadata": {},
      "source": [
        "#### Create online deployment of a python function"
      ]
    },
    {
      "cell_type": "code",
      "execution_count": 17,
      "metadata": {},
      "outputs": [
        {
          "name": "stdout",
          "output_type": "stream",
          "text": [
            "\n",
            "\n",
            "######################################################################################\n",
            "\n",
            "Synchronous deployment creation for id: 'eb782a4f-db22-458b-9d15-9db52b5ff7f4' started\n",
            "\n",
            "######################################################################################\n",
            "\n",
            "\n",
            "initializing\n",
            "Note: online_url is deprecated and will be removed in a future release. Use serving_urls instead.\n",
            ".....\n",
            "ready\n",
            "\n",
            "\n",
            "-----------------------------------------------------------------------------------------------\n",
            "Successfully finished deployment creation, deployment_id='ad172150-7d99-410c-b899-b1357b9b0478'\n",
            "-----------------------------------------------------------------------------------------------\n",
            "\n",
            "\n"
          ]
        }
      ],
      "source": [
        "metadata = {\n",
        "    client.deployments.ConfigurationMetaNames.NAME: \"Deployment of statsmodels function\",\n",
        "    client.deployments.ConfigurationMetaNames.ONLINE: {},\n",
        "}\n",
        "\n",
        "function_deployment = client.deployments.create(function_id, meta_props=metadata)"
      ]
    },
    {
      "cell_type": "code",
      "execution_count": 18,
      "metadata": {},
      "outputs": [
        {
          "data": {
            "text/html": [
              "<div>\n",
              "<style scoped>\n",
              "    .dataframe tbody tr th:only-of-type {\n",
              "        vertical-align: middle;\n",
              "    }\n",
              "\n",
              "    .dataframe tbody tr th {\n",
              "        vertical-align: top;\n",
              "    }\n",
              "\n",
              "    .dataframe thead th {\n",
              "        text-align: right;\n",
              "    }\n",
              "</style>\n",
              "<table border=\"1\" class=\"dataframe\">\n",
              "  <thead>\n",
              "    <tr style=\"text-align: right;\">\n",
              "      <th></th>\n",
              "      <th>ID</th>\n",
              "      <th>NAME</th>\n",
              "      <th>STATE</th>\n",
              "      <th>CREATED</th>\n",
              "      <th>ARTIFACT_TYPE</th>\n",
              "      <th>SPEC_STATE</th>\n",
              "      <th>SPEC_REPLACEMENT</th>\n",
              "    </tr>\n",
              "  </thead>\n",
              "  <tbody>\n",
              "    <tr>\n",
              "      <th>0</th>\n",
              "      <td>ad172150-7d99-410c-b899-b1357b9b0478</td>\n",
              "      <td>Deployment of statsmodels function</td>\n",
              "      <td>ready</td>\n",
              "      <td>2025-05-07T09:18:21.937Z</td>\n",
              "      <td>function</td>\n",
              "      <td></td>\n",
              "      <td></td>\n",
              "    </tr>\n",
              "  </tbody>\n",
              "</table>\n",
              "</div>"
            ],
            "text/plain": [
              "                                     ID                                NAME  \\\n",
              "0  ad172150-7d99-410c-b899-b1357b9b0478  Deployment of statsmodels function   \n",
              "\n",
              "   STATE                   CREATED ARTIFACT_TYPE SPEC_STATE SPEC_REPLACEMENT  \n",
              "0  ready  2025-05-07T09:18:21.937Z      function                              "
            ]
          },
          "execution_count": 18,
          "metadata": {},
          "output_type": "execute_result"
        }
      ],
      "source": [
        "client.deployments.list()"
      ]
    },
    {
      "cell_type": "markdown",
      "metadata": {},
      "source": [
        "Get deployment id."
      ]
    },
    {
      "cell_type": "code",
      "execution_count": 19,
      "metadata": {},
      "outputs": [
        {
          "data": {
            "text/plain": [
              "'ad172150-7d99-410c-b899-b1357b9b0478'"
            ]
          },
          "execution_count": 19,
          "metadata": {},
          "output_type": "execute_result"
        }
      ],
      "source": [
        "deployment_id = client.deployments.get_id(function_deployment)\n",
        "deployment_id"
      ]
    },
    {
      "cell_type": "markdown",
      "metadata": {},
      "source": [
        "<a id=\"score\"></a>\n",
        "## 5. Scoring\n",
        "\n",
        "You can send new scoring records to web-service deployment using `score` method."
      ]
    },
    {
      "cell_type": "code",
      "execution_count": 20,
      "metadata": {},
      "outputs": [],
      "source": [
        "scoring_payload = {\"input_data\": [{\"values\": data}]}"
      ]
    },
    {
      "cell_type": "code",
      "execution_count": 21,
      "metadata": {},
      "outputs": [
        {
          "name": "stdout",
          "output_type": "stream",
          "text": [
            "                          0          1          2          3          4  \\\n",
            "nobs              10.000000  10.000000  10.000000  10.000000  10.000000   \n",
            "missing            0.000000   0.000000   0.000000   0.000000   0.000000   \n",
            "mean               0.109419  -0.396759   0.230355  -0.300086  -0.404532   \n",
            "std_err            0.366493   0.353975   0.292359   0.310328   0.303524   \n",
            "upper_ci           0.827732   0.297020   0.803369   0.308147   0.190363   \n",
            "lower_ci          -0.608894  -1.090538  -0.342659  -0.908318  -0.999428   \n",
            "std                1.158952   1.119368   0.924521   0.981344   0.959826   \n",
            "iqr                1.658504   0.502628   0.783272   1.306470   1.403269   \n",
            "iqr_normal         1.229451   0.372599   0.580640   0.968488   1.040245   \n",
            "mad                0.914476   0.643780   0.667696   0.786667   0.797205   \n",
            "mad_normal         1.146126   0.806858   0.836833   0.985941   0.999148   \n",
            "coef_var          10.591883  -2.821279   4.013468  -3.270214  -2.372679   \n",
            "range              3.488891   4.035260   3.012839   3.218347   3.073067   \n",
            "max                2.444000   0.805701   2.083121   1.060559   1.365585   \n",
            "min               -1.044890  -3.229559  -0.929718  -2.157787  -1.707481   \n",
            "skew               0.863106  -1.599627   0.876143  -0.527975   0.502819   \n",
            "kurtosis           2.533978   5.397330   2.830348   2.352143   2.165138   \n",
            "jarque_bera        1.332076   6.659342   1.291370   0.639479   0.711792   \n",
            "jarque_bera_pval   0.513740   0.035805   0.524303   0.726338   0.700546   \n",
            "mode              -1.044890  -3.229559  -0.929718  -2.157787  -1.707481   \n",
            "mode_freq          0.100000   0.100000   0.100000   0.100000   0.100000   \n",
            "median            -0.235313  -0.331667   0.045002  -0.005845  -0.711699   \n",
            "1%                -1.037849  -2.997851  -0.894753  -2.074665  -1.664691   \n",
            "5%                -1.009683  -2.071020  -0.754893  -1.742177  -1.493531   \n",
            "10%               -0.974476  -0.912480  -0.580069  -1.326566  -1.279581   \n",
            "25%               -0.755378  -0.489836  -0.388339  -1.032802  -1.038413   \n",
            "50%               -0.235313  -0.331667   0.045002  -0.005845  -0.711699   \n",
            "75%                0.903126   0.012792   0.394933   0.273668   0.364856   \n",
            "90%                1.385126   0.805457   1.547382   0.661974   0.605617   \n",
            "95%                1.914563   0.805579   1.815251   0.861267   0.985601   \n",
            "99%                2.338113   0.805676   2.029547   1.020701   1.289589   \n",
            "\n",
            "                          5          6          7          8          9  \n",
            "nobs              10.000000  10.000000  10.000000  10.000000  10.000000  \n",
            "missing            0.000000   0.000000   0.000000   0.000000   0.000000  \n",
            "mean               0.148414   0.137150  -0.123837  -0.223200  -0.598800  \n",
            "std_err            0.279302   0.271738   0.339934   0.212003   0.273558  \n",
            "upper_ci           0.695836   0.669747   0.542420   0.192318  -0.062636  \n",
            "lower_ci          -0.399008  -0.395448  -0.790095  -0.638718  -1.134963  \n",
            "std                0.883231   0.859312   1.074964   0.670412   0.865066  \n",
            "iqr                0.959306   1.166451   1.045893   0.463584   1.196036  \n",
            "iqr_normal         0.711135   0.864691   0.775321   0.343656   0.886623  \n",
            "mad                0.694898   0.746995   0.816197   0.469066   0.706356  \n",
            "mad_normal         0.870925   0.936219   1.022952   0.587887   0.885287  \n",
            "coef_var           5.951126   6.265513  -8.680468  -3.003640  -1.444666  \n",
            "range              2.738575   2.362325   3.659138   2.252933   2.769094  \n",
            "max                1.015273   1.015773   1.390455   0.693056   0.683264  \n",
            "min               -1.723302  -1.346552  -2.268684  -1.559877  -2.085830  \n",
            "skew              -1.037692  -0.459174  -0.370394  -0.663394  -0.148528  \n",
            "kurtosis           2.954114   1.790141   2.809943   2.841604   2.054778  \n",
            "jarque_bera        1.795553   0.961300   0.243704   0.743939   0.409036  \n",
            "jarque_bera_pval   0.407475   0.618381   0.885280   0.689375   0.815040  \n",
            "mode              -1.723302  -1.346552  -2.268684  -1.559877  -2.085830  \n",
            "mode_freq          0.100000   0.100000   0.100000   0.100000   0.100000  \n",
            "median             0.495079   0.284466  -0.362117  -0.139210  -0.597810  \n",
            "1%                -1.647391  -1.308704  -2.139648  -1.512734  -2.029969  \n",
            "5%                -1.343747  -1.157311  -1.623503  -1.324160  -1.806522  \n",
            "10%               -0.964192  -0.968070  -0.978322  -1.088442  -1.527213  \n",
            "25%               -0.170491  -0.307490  -0.498677  -0.368516  -1.101316  \n",
            "50%                0.495079   0.284466  -0.362117  -0.139210  -0.597810  \n",
            "75%                0.788815   0.858961   0.547216   0.095068   0.094719  \n",
            "90%                0.836263   0.954100   1.242465   0.530940   0.326458  \n",
            "95%                0.925768   0.984937   1.316460   0.611998   0.504861  \n",
            "99%                0.997372   1.009606   1.375656   0.676844   0.647583  \n"
          ]
        }
      ],
      "source": [
        "predictions = client.deployments.score(deployment_id, scoring_payload)\n",
        "print(data_description[\"predictions\"][0][\"values\"])"
      ]
    },
    {
      "cell_type": "markdown",
      "metadata": {},
      "source": [
        "<a id=\"cleanup\"></a>\n",
        "## 6. Clean up   "
      ]
    },
    {
      "cell_type": "markdown",
      "metadata": {},
      "source": [
        "If you want to clean up all created assets:\n",
        "- experiments\n",
        "- trainings\n",
        "- pipelines\n",
        "- model definitions\n",
        "- models\n",
        "- functions\n",
        "- deployments\n",
        "\n",
        "please follow up this sample [notebook](https://github.com/IBM/watsonx-ai-samples/blob/master/cpd5.2/notebooks/python_sdk/instance-management/Machine%20Learning%20artifacts%20management.ipynb)."
      ]
    },
    {
      "cell_type": "markdown",
      "metadata": {},
      "source": [
        "<a id=\"summary\"></a>\n",
        "## 7. Summary and next steps     "
      ]
    },
    {
      "cell_type": "markdown",
      "metadata": {},
      "source": [
        "You successfully completed this notebook! You learned how to use watsonx.ai for function deployment and scoring with custom `software_spec`.  \n",
        "\n",
        "Check out our _<a href=\"https://ibm.github.io/watsonx-ai-python-sdk/samples.html\" target=\"_blank\" rel=\"noopener no referrer\">Online Documentation</a>_ for more samples, tutorials, documentation, how-tos, and blog posts. "
      ]
    },
    {
      "cell_type": "markdown",
      "metadata": {},
      "source": [
        "### Authors\n",
        "\n",
        "**Jan Sołtysik**, Software Engineer Intern at watsonx.ai.\n",
        "\n",
        "**Rafał Chrzanowski**, Software Engineer Intern at watsonx.ai."
      ]
    },
    {
      "cell_type": "markdown",
      "metadata": {},
      "source": [
        "Copyright © 2020-2025 IBM. This notebook and its source code are released under the terms of the MIT License."
      ]
    }
  ],
  "metadata": {
    "kernelspec": {
      "display_name": "watsonx-ai-samples-py-312",
      "language": "python",
      "name": "python3"
    },
    "language_info": {
      "codemirror_mode": {
        "name": "ipython",
        "version": 3
      },
      "file_extension": ".py",
      "mimetype": "text/x-python",
      "name": "python",
      "nbconvert_exporter": "python",
      "pygments_lexer": "ipython3",
      "version": "3.12.9"
    }
  },
  "nbformat": 4,
  "nbformat_minor": 4
}

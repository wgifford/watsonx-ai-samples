{
  "cells": [
    {
      "cell_type": "markdown",
      "metadata": {
        "pycharm": {
          "name": "#%% md\n"
        }
      },
      "source": [
        "# Use scikit-learn and custom library to predict temperature with `ibm-watsonx-ai`"
      ]
    },
    {
      "cell_type": "markdown",
      "metadata": {
        "pycharm": {
          "name": "#%% md\n"
        }
      },
      "source": [
        "This notebook contains steps and code to train a `scikit-learn` model that uses a custom defined transformer and use it with watsonx.ai Runtime service. Once the model is trained, this notebook contains steps to persist the model and custom defined transformer to watsonx.ai Runtime, deploy and score it using `ibm-watsonx-ai` python client.\n",
        "\n",
        "In this notebook, we use GNFUV dataset that contains mobile sensor readings data about humidity and temperature from Unmanned Surface Vehicles in a test-bed in Athens, to train a Scikit-Learn model for predicting the temperature. \n",
        "\n",
        "Some familiarity with Python and Bash is helpful. This notebook uses Python 3.12."
      ]
    },
    {
      "cell_type": "markdown",
      "metadata": {
        "pycharm": {
          "name": "#%% md\n"
        }
      },
      "source": [
        "## Learning goals\n",
        "\n",
        "The learning goals of this notebook are:\n",
        "\n",
        "- Train a model with custom defined transformer\n",
        "- Persist the custom defined transformer and the model in watsonx.ai Runtime.\n",
        "- Deploy the model using watsonx.ai Runtime service\n",
        "- Perform predictions using the deployed model\n",
        "\n",
        "## Contents\n",
        "1. [Set up the environment](#setup)\n",
        "2. [Install python library containing custom transformer implementation](#install_lib)\n",
        "3. [Prepare training data](#load)\n",
        "4. [Train the scikit-learn model](#train)\n",
        "5. [Save the model and library to WML Repository](#upload)\n",
        "6. [Deploy and score data](#deploy)\n",
        "7. [Clean up](#cleanup)\n",
        "8. [Summary and next steps](#summary)\n"
      ]
    },
    {
      "cell_type": "markdown",
      "metadata": {
        "pycharm": {
          "name": "#%% md\n"
        }
      },
      "source": [
        "<a id=\"setup\"></a>\n",
        "## 1. Set up the environment\n",
        "\n",
        "Before you use the sample code in this notebook, you must perform the following setup tasks:\n",
        "\n",
        "-  Contact with your Cloud Pak for Data administrator and ask them for your account credentials"
      ]
    },
    {
      "cell_type": "markdown",
      "metadata": {},
      "source": [
        "### Install dependencies\n",
        "**Note:** `ibm-watsonx-ai` documentation can be found <a href=\"https://ibm.github.io/watsonx-ai-python-sdk/index.html\" target=\"_blank\" rel=\"noopener no referrer\">here</a>."
      ]
    },
    {
      "cell_type": "code",
      "execution_count": 1,
      "metadata": {},
      "outputs": [
        {
          "name": "stdout",
          "output_type": "stream",
          "text": [
            "Successfully installed wget-3.2\n",
            "\u001b[1A\u001b[2KSuccessfully installed joblib-1.5.0 numpy-2.2.5 scikit-learn-1.6.1 scipy-1.15.2 threadpoolctl-3.6.0\n",
            "Successfully installed setuptools-80.3.1\n",
            "\u001b[1A\u001b[2KSuccessfully installed anyio-4.9.0 certifi-2025.4.26 charset-normalizer-3.4.2 h11-0.16.0 httpcore-1.0.9 httpx-0.28.1 ibm-cos-sdk-2.14.0 ibm-cos-sdk-core-2.14.0 ibm-cos-sdk-s3transfer-2.14.0 ibm-watsonx-ai-1.3.13 idna-3.10 jmespath-1.0.1 lomond-0.3.3 pandas-2.2.3 pytz-2025.2 requests-2.32.2 sniffio-1.3.1 tabulate-0.9.0 typing_extensions-4.13.2 tzdata-2025.2 urllib3-2.4.0\n"
          ]
        }
      ],
      "source": [
        "%pip install wget | tail -n 1\n",
        "%pip install \"scikit-learn==1.6.1\" | tail -n 1\n",
        "%pip install -U setuptools | tail -n 1\n",
        "%pip install -U ibm-watsonx-ai | tail -n 1"
      ]
    },
    {
      "cell_type": "markdown",
      "metadata": {
        "pycharm": {
          "name": "#%% md\n"
        }
      },
      "source": [
        "#### Define credentials\n",
        "\n",
        "Authenticate the watsonx.ai Runtime service on IBM Cloud Pak for Data. You need to provide the **admin's** `username` and the platform `url`."
      ]
    },
    {
      "cell_type": "code",
      "execution_count": 2,
      "metadata": {
        "pycharm": {
          "name": "#%%\n"
        }
      },
      "outputs": [],
      "source": [
        "username = \"PASTE YOUR USERNAME HERE\"\n",
        "url = \"PASTE THE PLATFORM URL HERE\""
      ]
    },
    {
      "cell_type": "markdown",
      "metadata": {},
      "source": [
        "Use the **admin's** `api_key` to authenticate watsonx.ai Runtime services:"
      ]
    },
    {
      "cell_type": "code",
      "execution_count": 3,
      "metadata": {
        "pycharm": {
          "name": "#%%\n"
        }
      },
      "outputs": [],
      "source": [
        "import getpass\n",
        "from ibm_watsonx_ai import Credentials\n",
        "\n",
        "credentials = Credentials(\n",
        "    username=username,\n",
        "    api_key=getpass.getpass(\"Enter your watsonx.ai API key and hit enter: \"),\n",
        "    url=url,\n",
        "    instance_id=\"openshift\",\n",
        "    version=\"5.2\",\n",
        ")"
      ]
    },
    {
      "cell_type": "markdown",
      "metadata": {
        "pycharm": {
          "name": "#%% md\n"
        }
      },
      "source": [
        "Alternatively you can use the **admin's** `password`:"
      ]
    },
    {
      "cell_type": "code",
      "execution_count": 3,
      "metadata": {},
      "outputs": [],
      "source": [
        "import getpass\n",
        "from ibm_watsonx_ai import Credentials\n",
        "\n",
        "if \"credentials\" not in locals() or not credentials.api_key:\n",
        "    credentials = Credentials(\n",
        "        username=username,\n",
        "        password=getpass.getpass(\"Enter your watsonx.ai password and hit enter: \"),\n",
        "        url=url,\n",
        "        instance_id=\"openshift\",\n",
        "        version=\"5.2\",\n",
        "    )"
      ]
    },
    {
      "cell_type": "markdown",
      "metadata": {},
      "source": [
        "#### Create `APIClient` instance"
      ]
    },
    {
      "cell_type": "code",
      "execution_count": 4,
      "metadata": {
        "pycharm": {
          "name": "#%%\n"
        }
      },
      "outputs": [],
      "source": [
        "from ibm_watsonx_ai import APIClient\n",
        "\n",
        "client = APIClient(credentials)"
      ]
    },
    {
      "cell_type": "markdown",
      "metadata": {
        "pycharm": {
          "name": "#%% md\n"
        }
      },
      "source": [
        "### Working with spaces\n",
        "\n",
        "First of all, you need to create a space that will be used for your work. If you do not have space already created, you can use `{PLATFORM_URL}/ml-runtime/spaces?context=icp4data` to create one.\n",
        "\n",
        "- Click New Deployment Space\n",
        "- Create an empty space\n",
        "- Go to space `Settings` tab\n",
        "- Copy `space_id` and paste it below\n",
        "\n",
        "**Tip**: You can also use SDK to prepare the space for your work. More information can be found [here](https://github.com/IBM/watsonx-ai-samples/blob/master/cpd5.2/notebooks/python_sdk/instance-management/Space%20management.ipynb).\n",
        "\n",
        "**Action**: Assign space ID below"
      ]
    },
    {
      "cell_type": "code",
      "execution_count": 5,
      "metadata": {
        "pycharm": {
          "name": "#%%\n"
        }
      },
      "outputs": [],
      "source": [
        "space_id = \"PASTE YOUR SPACE ID HERE\""
      ]
    },
    {
      "cell_type": "markdown",
      "metadata": {
        "pycharm": {
          "name": "#%% md\n"
        }
      },
      "source": [
        "You can use `list` method to print all existing spaces."
      ]
    },
    {
      "cell_type": "code",
      "execution_count": null,
      "metadata": {
        "pycharm": {
          "name": "#%%\n"
        }
      },
      "outputs": [],
      "source": [
        "client.spaces.list(limit=10)"
      ]
    },
    {
      "cell_type": "markdown",
      "metadata": {
        "pycharm": {
          "name": "#%% md\n"
        }
      },
      "source": [
        "To be able to interact with all resources available in watsonx.ai, you need to set **space** which you will be using."
      ]
    },
    {
      "cell_type": "code",
      "execution_count": 6,
      "metadata": {
        "pycharm": {
          "name": "#%%\n"
        }
      },
      "outputs": [
        {
          "data": {
            "text/plain": [
              "'SUCCESS'"
            ]
          },
          "execution_count": 6,
          "metadata": {},
          "output_type": "execute_result"
        }
      ],
      "source": [
        "client.set.default_space(space_id)"
      ]
    },
    {
      "cell_type": "markdown",
      "metadata": {
        "pycharm": {
          "name": "#%% md\n"
        }
      },
      "source": [
        "<a id=\"install_lib\"></a>\n",
        "\n",
        "## 2. Install the library containing custom transformer"
      ]
    },
    {
      "cell_type": "markdown",
      "metadata": {
        "pycharm": {
          "name": "#%% md\n"
        }
      },
      "source": [
        "Library `linalgnorm-0.1` is a Python distributable package that contains the implementation of a user defined Scikit-Learn transformer - `LNormalizer`. Any 3rd party libraries that are required for the custom transformer must be defined as a dependency for the corresponding library that contains implementation of the transformer.\n",
        "\n",
        "In this section, we will create the library and install it in the current notebook environment. "
      ]
    },
    {
      "cell_type": "code",
      "execution_count": 7,
      "metadata": {
        "pycharm": {
          "name": "#%%\n"
        }
      },
      "outputs": [],
      "source": [
        "!mkdir -p linalgnorm-0.1/linalg_norm"
      ]
    },
    {
      "cell_type": "markdown",
      "metadata": {
        "pycharm": {
          "name": "#%% md\n"
        }
      },
      "source": [
        "Define a custom Scikit transformer."
      ]
    },
    {
      "cell_type": "code",
      "execution_count": 8,
      "metadata": {
        "pycharm": {
          "name": "#%%\n"
        }
      },
      "outputs": [
        {
          "name": "stdout",
          "output_type": "stream",
          "text": [
            "Writing linalgnorm-0.1/linalg_norm/sklearn_transformers.py\n"
          ]
        }
      ],
      "source": [
        "%%writefile linalgnorm-0.1/linalg_norm/sklearn_transformers.py\n",
        "\n",
        "from sklearn.base import BaseEstimator, TransformerMixin\n",
        "import numpy as np\n",
        "\n",
        "\n",
        "class LNormalizer(BaseEstimator, TransformerMixin):\n",
        "    def __init__(self, norm_ord=2):\n",
        "        self.norm_ord = norm_ord\n",
        "        self.row_norm_vals = None\n",
        "\n",
        "    def fit(self, X, y=None):\n",
        "        self.row_norm_vals = np.linalg.norm(X, ord=self.norm_ord, axis=0)\n",
        "\n",
        "    def transform(self, X, y=None):\n",
        "        return X / self.row_norm_vals\n",
        "\n",
        "    def fit_transform(self, X, y=None):\n",
        "        self.fit(X, y)\n",
        "        return self.transform(X, y)\n",
        "\n",
        "    def get_norm_vals(self):\n",
        "        return self.row_norm_vals"
      ]
    },
    {
      "cell_type": "markdown",
      "metadata": {
        "pycharm": {
          "name": "#%% md\n"
        }
      },
      "source": [
        "Wrap created code into Python source distribution package."
      ]
    },
    {
      "cell_type": "code",
      "execution_count": 9,
      "metadata": {
        "pycharm": {
          "name": "#%%\n"
        }
      },
      "outputs": [
        {
          "name": "stdout",
          "output_type": "stream",
          "text": [
            "Writing linalgnorm-0.1/linalg_norm/__init__.py\n"
          ]
        }
      ],
      "source": [
        "%%writefile linalgnorm-0.1/linalg_norm/__init__.py\n",
        "\n",
        "__version__ = \"0.1\""
      ]
    },
    {
      "cell_type": "code",
      "execution_count": 10,
      "metadata": {
        "pycharm": {
          "name": "#%%\n"
        }
      },
      "outputs": [
        {
          "name": "stdout",
          "output_type": "stream",
          "text": [
            "Writing linalgnorm-0.1/README.md\n"
          ]
        }
      ],
      "source": [
        "%%writefile linalgnorm-0.1/README.md\n",
        "\n",
        "A simple library containing a simple custom scikit estimator."
      ]
    },
    {
      "cell_type": "code",
      "execution_count": null,
      "metadata": {
        "pycharm": {
          "name": "#%%\n"
        }
      },
      "outputs": [
        {
          "name": "stdout",
          "output_type": "stream",
          "text": [
            "Writing linalgnorm-0.1/setup.py\n"
          ]
        }
      ],
      "source": [
        "%%writefile linalgnorm-0.1/setup.py\n",
        "\n",
        "from setuptools import setup\n",
        "\n",
        "VERSION=\"0.1\"\n",
        "\n",
        "setup(\n",
        "    name=\"linalgnorm\",\n",
        "    version=VERSION,\n",
        "    url=\"https://github.ibm.com/NGP-TWC/repository/\",\n",
        "    author=\"IBM\",\n",
        "    author_email=\"ibm@ibm.com\",\n",
        "    license=\"IBM\",\n",
        "    packages=[\n",
        "        \"linalg_norm\"\n",
        "    ],\n",
        "    zip_safe=False\n",
        ")"
      ]
    },
    {
      "cell_type": "code",
      "execution_count": 12,
      "metadata": {
        "pycharm": {
          "name": "#%%\n"
        }
      },
      "outputs": [
        {
          "name": "stdout",
          "output_type": "stream",
          "text": [
            "running sdist\n",
            "running egg_info\n",
            "creating linalgnorm.egg-info\n",
            "writing linalgnorm.egg-info/PKG-INFO\n",
            "writing dependency_links to linalgnorm.egg-info/dependency_links.txt\n",
            "writing top-level names to linalgnorm.egg-info/top_level.txt\n",
            "writing manifest file 'linalgnorm.egg-info/SOURCES.txt'\n",
            "reading manifest file 'linalgnorm.egg-info/SOURCES.txt'\n",
            "writing manifest file 'linalgnorm.egg-info/SOURCES.txt'\n",
            "running check\n",
            "creating linalgnorm-0.1\n",
            "creating linalgnorm-0.1/linalg_norm\n",
            "creating linalgnorm-0.1/linalgnorm.egg-info\n",
            "copying files to linalgnorm-0.1...\n",
            "copying README.md -> linalgnorm-0.1\n",
            "copying setup.py -> linalgnorm-0.1\n",
            "copying linalg_norm/__init__.py -> linalgnorm-0.1/linalg_norm\n",
            "copying linalg_norm/sklearn_transformers.py -> linalgnorm-0.1/linalg_norm\n",
            "copying linalgnorm.egg-info/PKG-INFO -> linalgnorm-0.1/linalgnorm.egg-info\n",
            "copying linalgnorm.egg-info/SOURCES.txt -> linalgnorm-0.1/linalgnorm.egg-info\n",
            "copying linalgnorm.egg-info/dependency_links.txt -> linalgnorm-0.1/linalgnorm.egg-info\n",
            "copying linalgnorm.egg-info/not-zip-safe -> linalgnorm-0.1/linalgnorm.egg-info\n",
            "copying linalgnorm.egg-info/top_level.txt -> linalgnorm-0.1/linalgnorm.egg-info\n",
            "copying linalgnorm.egg-info/SOURCES.txt -> linalgnorm-0.1/linalgnorm.egg-info\n",
            "Writing linalgnorm-0.1/setup.cfg\n",
            "creating dist\n",
            "creating 'dist/linalgnorm-0.1.zip' and adding 'linalgnorm-0.1' to it\n",
            "adding 'linalgnorm-0.1'\n",
            "adding 'linalgnorm-0.1/linalg_norm'\n",
            "adding 'linalgnorm-0.1/linalgnorm.egg-info'\n",
            "adding 'linalgnorm-0.1/PKG-INFO'\n",
            "adding 'linalgnorm-0.1/README.md'\n",
            "adding 'linalgnorm-0.1/setup.py'\n",
            "adding 'linalgnorm-0.1/setup.cfg'\n",
            "adding 'linalgnorm-0.1/linalg_norm/sklearn_transformers.py'\n",
            "adding 'linalgnorm-0.1/linalg_norm/__init__.py'\n",
            "adding 'linalgnorm-0.1/linalgnorm.egg-info/PKG-INFO'\n",
            "adding 'linalgnorm-0.1/linalgnorm.egg-info/not-zip-safe'\n",
            "adding 'linalgnorm-0.1/linalgnorm.egg-info/SOURCES.txt'\n",
            "adding 'linalgnorm-0.1/linalgnorm.egg-info/top_level.txt'\n",
            "adding 'linalgnorm-0.1/linalgnorm.egg-info/dependency_links.txt'\n",
            "removing 'linalgnorm-0.1' (and everything under it)\n"
          ]
        }
      ],
      "source": [
        "%%bash\n",
        "\n",
        "cd linalgnorm-0.1\n",
        "python setup.py sdist --formats=zip\n",
        "cd ..\n",
        "mv linalgnorm-0.1/dist/linalgnorm-0.1.zip .\n",
        "rm -rf linalgnorm-0.1"
      ]
    },
    {
      "cell_type": "markdown",
      "metadata": {
        "pycharm": {
          "name": "#%% md\n"
        }
      },
      "source": [
        "Install the downloaded library using `pip` command"
      ]
    },
    {
      "cell_type": "code",
      "execution_count": null,
      "metadata": {
        "pycharm": {
          "name": "#%%\n"
        }
      },
      "outputs": [],
      "source": [
        "%pip install linalgnorm-0.1.zip"
      ]
    },
    {
      "cell_type": "markdown",
      "metadata": {
        "pycharm": {
          "name": "#%% md\n"
        }
      },
      "source": [
        "<a id=\"load\"></a>\n",
        "\n",
        "## 3. Download training dataset and prepare training data"
      ]
    },
    {
      "cell_type": "markdown",
      "metadata": {
        "pycharm": {
          "name": "#%% md\n"
        }
      },
      "source": [
        "Download the data from UCI repository - https://archive.ics.uci.edu/ml/machine-learning-databases/00452/GNFUV%20USV%20Dataset.zip"
      ]
    },
    {
      "cell_type": "code",
      "execution_count": 14,
      "metadata": {
        "pycharm": {
          "name": "#%%\n"
        }
      },
      "outputs": [],
      "source": [
        "!rm -rf dataset\n",
        "!mkdir dataset"
      ]
    },
    {
      "cell_type": "code",
      "execution_count": null,
      "metadata": {
        "pycharm": {
          "name": "#%%\n"
        }
      },
      "outputs": [
        {
          "data": {
            "text/plain": [
              "'dataset/gnfuv_dataset.zip'"
            ]
          },
          "execution_count": 15,
          "metadata": {},
          "output_type": "execute_result"
        }
      ],
      "source": [
        "import wget\n",
        "\n",
        "wget.download(\n",
        "    url=\"https://archive.ics.uci.edu/ml/machine-learning-databases/00452/GNFUV%20USV%20Dataset.zip\",\n",
        "    out=\"dataset/gnfuv_dataset.zip\",\n",
        ")"
      ]
    },
    {
      "cell_type": "code",
      "execution_count": 16,
      "metadata": {
        "pycharm": {
          "name": "#%%\n"
        }
      },
      "outputs": [
        {
          "name": "stdout",
          "output_type": "stream",
          "text": [
            "Archive:  dataset/gnfuv_dataset.zip\n",
            "  inflating: dataset/pi2/gnfuv-temp-exp1-55d487b85b-5g2xh_1.0.csv  \n",
            "  inflating: dataset/pi3/gnfuv-temp-exp1-55d487b85b-2bl8b_1.0.csv  \n",
            "  inflating: dataset/pi4/gnfuv-temp-exp1-55d487b85b-xcl97_1.0.csv  \n",
            "  inflating: dataset/pi5/gnfuv-temp-exp1-55d487b85b-5ztk8_1.0.csv  \n",
            "  inflating: dataset/README.pdf      \n"
          ]
        }
      ],
      "source": [
        "!unzip dataset/gnfuv_dataset.zip -d dataset"
      ]
    },
    {
      "cell_type": "markdown",
      "metadata": {
        "pycharm": {
          "name": "#%% md\n"
        }
      },
      "source": [
        "Create pandas datafame based on the downloaded dataset"
      ]
    },
    {
      "cell_type": "code",
      "execution_count": 17,
      "metadata": {
        "pycharm": {
          "name": "#%%\n"
        }
      },
      "outputs": [],
      "source": [
        "import json\n",
        "import pandas as pd\n",
        "import numpy as np\n",
        "import os\n",
        "from datetime import datetime\n",
        "from json import JSONDecodeError"
      ]
    },
    {
      "cell_type": "code",
      "execution_count": 18,
      "metadata": {
        "pycharm": {
          "name": "#%%\n"
        }
      },
      "outputs": [],
      "source": [
        "home_dir = \"./dataset\"\n",
        "pi_dirs = os.listdir(home_dir)\n",
        "\n",
        "data_list = []\n",
        "base_time = None\n",
        "columns = None\n",
        "\n",
        "for pi_dir in pi_dirs:\n",
        "    if \"pi\" not in pi_dir:\n",
        "        continue\n",
        "\n",
        "    curr_dir = os.path.join(home_dir, pi_dir)\n",
        "    data_file = os.path.join(curr_dir, os.listdir(curr_dir)[0])\n",
        "\n",
        "    with open(data_file) as file:\n",
        "        line = file.readline().strip().replace(\"'\", '\"')\n",
        "        while line != \"\":\n",
        "            try:\n",
        "                input_json = json.loads(line)\n",
        "                sensor_datetime = datetime.fromtimestamp(input_json[\"time\"])\n",
        "\n",
        "                if base_time is None:\n",
        "                    base_time = datetime(\n",
        "                        year=sensor_datetime.year,\n",
        "                        month=sensor_datetime.month,\n",
        "                        day=sensor_datetime.day,\n",
        "                        hour=0,\n",
        "                        minute=0,\n",
        "                        second=0,\n",
        "                        microsecond=0,\n",
        "                    )\n",
        "\n",
        "                input_json[\"time\"] = (sensor_datetime - base_time).seconds\n",
        "                data_list.append(list(input_json.values()))\n",
        "\n",
        "                if columns is None:\n",
        "                    columns = list(input_json.keys())\n",
        "            except JSONDecodeError:\n",
        "                pass\n",
        "\n",
        "            line = file.readline().strip().replace(\"'\", '\"')\n",
        "\n",
        "data_df = pd.DataFrame(data_list, columns=columns)"
      ]
    },
    {
      "cell_type": "code",
      "execution_count": 19,
      "metadata": {
        "pycharm": {
          "name": "#%%\n"
        }
      },
      "outputs": [
        {
          "data": {
            "text/html": [
              "<div>\n",
              "<style scoped>\n",
              "    .dataframe tbody tr th:only-of-type {\n",
              "        vertical-align: middle;\n",
              "    }\n",
              "\n",
              "    .dataframe tbody tr th {\n",
              "        vertical-align: top;\n",
              "    }\n",
              "\n",
              "    .dataframe thead th {\n",
              "        text-align: right;\n",
              "    }\n",
              "</style>\n",
              "<table border=\"1\" class=\"dataframe\">\n",
              "  <thead>\n",
              "    <tr style=\"text-align: right;\">\n",
              "      <th></th>\n",
              "      <th>device</th>\n",
              "      <th>humidity</th>\n",
              "      <th>temperature</th>\n",
              "      <th>experiment</th>\n",
              "      <th>time</th>\n",
              "    </tr>\n",
              "  </thead>\n",
              "  <tbody>\n",
              "    <tr>\n",
              "      <th>0</th>\n",
              "      <td>gnfuv-temp-exp1-55d487b85b-5g2xh</td>\n",
              "      <td>21.0</td>\n",
              "      <td>40.0</td>\n",
              "      <td>1.0</td>\n",
              "      <td>69557</td>\n",
              "    </tr>\n",
              "    <tr>\n",
              "      <th>1</th>\n",
              "      <td>gnfuv-temp-exp1-55d487b85b-5g2xh</td>\n",
              "      <td>21.0</td>\n",
              "      <td>40.0</td>\n",
              "      <td>1.0</td>\n",
              "      <td>69571</td>\n",
              "    </tr>\n",
              "    <tr>\n",
              "      <th>2</th>\n",
              "      <td>gnfuv-temp-exp1-55d487b85b-5g2xh</td>\n",
              "      <td>21.0</td>\n",
              "      <td>40.0</td>\n",
              "      <td>1.0</td>\n",
              "      <td>69577</td>\n",
              "    </tr>\n",
              "    <tr>\n",
              "      <th>3</th>\n",
              "      <td>gnfuv-temp-exp1-55d487b85b-5g2xh</td>\n",
              "      <td>21.0</td>\n",
              "      <td>40.0</td>\n",
              "      <td>1.0</td>\n",
              "      <td>69583</td>\n",
              "    </tr>\n",
              "    <tr>\n",
              "      <th>4</th>\n",
              "      <td>gnfuv-temp-exp1-55d487b85b-5g2xh</td>\n",
              "      <td>22.0</td>\n",
              "      <td>40.0</td>\n",
              "      <td>1.0</td>\n",
              "      <td>69589</td>\n",
              "    </tr>\n",
              "  </tbody>\n",
              "</table>\n",
              "</div>"
            ],
            "text/plain": [
              "                             device  humidity  temperature  experiment   time\n",
              "0  gnfuv-temp-exp1-55d487b85b-5g2xh      21.0         40.0         1.0  69557\n",
              "1  gnfuv-temp-exp1-55d487b85b-5g2xh      21.0         40.0         1.0  69571\n",
              "2  gnfuv-temp-exp1-55d487b85b-5g2xh      21.0         40.0         1.0  69577\n",
              "3  gnfuv-temp-exp1-55d487b85b-5g2xh      21.0         40.0         1.0  69583\n",
              "4  gnfuv-temp-exp1-55d487b85b-5g2xh      22.0         40.0         1.0  69589"
            ]
          },
          "execution_count": 19,
          "metadata": {},
          "output_type": "execute_result"
        }
      ],
      "source": [
        "data_df.head()"
      ]
    },
    {
      "cell_type": "markdown",
      "metadata": {
        "pycharm": {
          "name": "#%% md\n"
        }
      },
      "source": [
        "Create training and test datasets from the downloaded GNFUV-USV dataset."
      ]
    },
    {
      "cell_type": "code",
      "execution_count": 20,
      "metadata": {
        "pycharm": {
          "name": "#%%\n"
        }
      },
      "outputs": [],
      "source": [
        "from sklearn.model_selection import train_test_split\n",
        "\n",
        "y = data_df[\"temperature\"]\n",
        "X = data_df.drop(\"temperature\", axis=1)\n",
        "\n",
        "X_train, X_test, y_train, y_test = train_test_split(\n",
        "    X, y, test_size=0.25, random_state=143\n",
        ")"
      ]
    },
    {
      "cell_type": "markdown",
      "metadata": {
        "pycharm": {
          "name": "#%% md\n"
        }
      },
      "source": [
        "<a id=\"train\"></a>\n",
        "\n",
        "## 4. Train a model\n",
        "\n",
        "In this section, you will use the custom transformer as a stage in the Scikit-Learn `Pipeline` and train a model."
      ]
    },
    {
      "cell_type": "markdown",
      "metadata": {
        "pycharm": {
          "name": "#%% md\n"
        }
      },
      "source": [
        "#### Import the custom transformer \n",
        "Here, import the custom transformer that has been defined in `linalgnorm-0.1.zip` and create an instance of it that will inturn be used as stage in `sklearn.Pipeline`"
      ]
    },
    {
      "cell_type": "code",
      "execution_count": 21,
      "metadata": {
        "pycharm": {
          "name": "#%%\n"
        }
      },
      "outputs": [],
      "source": [
        "from linalg_norm.sklearn_transformers import LNormalizer"
      ]
    },
    {
      "cell_type": "code",
      "execution_count": 22,
      "metadata": {
        "pycharm": {
          "name": "#%%\n"
        }
      },
      "outputs": [],
      "source": [
        "lnorm_transf = LNormalizer()"
      ]
    },
    {
      "cell_type": "markdown",
      "metadata": {
        "pycharm": {
          "name": "#%% md\n"
        }
      },
      "source": [
        "Import other objects required to train a model"
      ]
    },
    {
      "cell_type": "code",
      "execution_count": 23,
      "metadata": {
        "pycharm": {
          "name": "#%%\n"
        }
      },
      "outputs": [],
      "source": [
        "from sklearn.pipeline import Pipeline\n",
        "from sklearn.linear_model import LinearRegression"
      ]
    },
    {
      "cell_type": "markdown",
      "metadata": {
        "pycharm": {
          "name": "#%% md\n"
        }
      },
      "source": [
        "Now, you can create a `Pipeline` with user defined transformer as one of the stages and train the model"
      ]
    },
    {
      "cell_type": "code",
      "execution_count": 24,
      "metadata": {
        "pycharm": {
          "name": "#%%\n"
        }
      },
      "outputs": [
        {
          "data": {
            "text/html": [
              "<style>#sk-container-id-1 {\n",
              "  /* Definition of color scheme common for light and dark mode */\n",
              "  --sklearn-color-text: #000;\n",
              "  --sklearn-color-text-muted: #666;\n",
              "  --sklearn-color-line: gray;\n",
              "  /* Definition of color scheme for unfitted estimators */\n",
              "  --sklearn-color-unfitted-level-0: #fff5e6;\n",
              "  --sklearn-color-unfitted-level-1: #f6e4d2;\n",
              "  --sklearn-color-unfitted-level-2: #ffe0b3;\n",
              "  --sklearn-color-unfitted-level-3: chocolate;\n",
              "  /* Definition of color scheme for fitted estimators */\n",
              "  --sklearn-color-fitted-level-0: #f0f8ff;\n",
              "  --sklearn-color-fitted-level-1: #d4ebff;\n",
              "  --sklearn-color-fitted-level-2: #b3dbfd;\n",
              "  --sklearn-color-fitted-level-3: cornflowerblue;\n",
              "\n",
              "  /* Specific color for light theme */\n",
              "  --sklearn-color-text-on-default-background: var(--sg-text-color, var(--theme-code-foreground, var(--jp-content-font-color1, black)));\n",
              "  --sklearn-color-background: var(--sg-background-color, var(--theme-background, var(--jp-layout-color0, white)));\n",
              "  --sklearn-color-border-box: var(--sg-text-color, var(--theme-code-foreground, var(--jp-content-font-color1, black)));\n",
              "  --sklearn-color-icon: #696969;\n",
              "\n",
              "  @media (prefers-color-scheme: dark) {\n",
              "    /* Redefinition of color scheme for dark theme */\n",
              "    --sklearn-color-text-on-default-background: var(--sg-text-color, var(--theme-code-foreground, var(--jp-content-font-color1, white)));\n",
              "    --sklearn-color-background: var(--sg-background-color, var(--theme-background, var(--jp-layout-color0, #111)));\n",
              "    --sklearn-color-border-box: var(--sg-text-color, var(--theme-code-foreground, var(--jp-content-font-color1, white)));\n",
              "    --sklearn-color-icon: #878787;\n",
              "  }\n",
              "}\n",
              "\n",
              "#sk-container-id-1 {\n",
              "  color: var(--sklearn-color-text);\n",
              "}\n",
              "\n",
              "#sk-container-id-1 pre {\n",
              "  padding: 0;\n",
              "}\n",
              "\n",
              "#sk-container-id-1 input.sk-hidden--visually {\n",
              "  border: 0;\n",
              "  clip: rect(1px 1px 1px 1px);\n",
              "  clip: rect(1px, 1px, 1px, 1px);\n",
              "  height: 1px;\n",
              "  margin: -1px;\n",
              "  overflow: hidden;\n",
              "  padding: 0;\n",
              "  position: absolute;\n",
              "  width: 1px;\n",
              "}\n",
              "\n",
              "#sk-container-id-1 div.sk-dashed-wrapped {\n",
              "  border: 1px dashed var(--sklearn-color-line);\n",
              "  margin: 0 0.4em 0.5em 0.4em;\n",
              "  box-sizing: border-box;\n",
              "  padding-bottom: 0.4em;\n",
              "  background-color: var(--sklearn-color-background);\n",
              "}\n",
              "\n",
              "#sk-container-id-1 div.sk-container {\n",
              "  /* jupyter's `normalize.less` sets `[hidden] { display: none; }`\n",
              "     but bootstrap.min.css set `[hidden] { display: none !important; }`\n",
              "     so we also need the `!important` here to be able to override the\n",
              "     default hidden behavior on the sphinx rendered scikit-learn.org.\n",
              "     See: https://github.com/scikit-learn/scikit-learn/issues/21755 */\n",
              "  display: inline-block !important;\n",
              "  position: relative;\n",
              "}\n",
              "\n",
              "#sk-container-id-1 div.sk-text-repr-fallback {\n",
              "  display: none;\n",
              "}\n",
              "\n",
              "div.sk-parallel-item,\n",
              "div.sk-serial,\n",
              "div.sk-item {\n",
              "  /* draw centered vertical line to link estimators */\n",
              "  background-image: linear-gradient(var(--sklearn-color-text-on-default-background), var(--sklearn-color-text-on-default-background));\n",
              "  background-size: 2px 100%;\n",
              "  background-repeat: no-repeat;\n",
              "  background-position: center center;\n",
              "}\n",
              "\n",
              "/* Parallel-specific style estimator block */\n",
              "\n",
              "#sk-container-id-1 div.sk-parallel-item::after {\n",
              "  content: \"\";\n",
              "  width: 100%;\n",
              "  border-bottom: 2px solid var(--sklearn-color-text-on-default-background);\n",
              "  flex-grow: 1;\n",
              "}\n",
              "\n",
              "#sk-container-id-1 div.sk-parallel {\n",
              "  display: flex;\n",
              "  align-items: stretch;\n",
              "  justify-content: center;\n",
              "  background-color: var(--sklearn-color-background);\n",
              "  position: relative;\n",
              "}\n",
              "\n",
              "#sk-container-id-1 div.sk-parallel-item {\n",
              "  display: flex;\n",
              "  flex-direction: column;\n",
              "}\n",
              "\n",
              "#sk-container-id-1 div.sk-parallel-item:first-child::after {\n",
              "  align-self: flex-end;\n",
              "  width: 50%;\n",
              "}\n",
              "\n",
              "#sk-container-id-1 div.sk-parallel-item:last-child::after {\n",
              "  align-self: flex-start;\n",
              "  width: 50%;\n",
              "}\n",
              "\n",
              "#sk-container-id-1 div.sk-parallel-item:only-child::after {\n",
              "  width: 0;\n",
              "}\n",
              "\n",
              "/* Serial-specific style estimator block */\n",
              "\n",
              "#sk-container-id-1 div.sk-serial {\n",
              "  display: flex;\n",
              "  flex-direction: column;\n",
              "  align-items: center;\n",
              "  background-color: var(--sklearn-color-background);\n",
              "  padding-right: 1em;\n",
              "  padding-left: 1em;\n",
              "}\n",
              "\n",
              "\n",
              "/* Toggleable style: style used for estimator/Pipeline/ColumnTransformer box that is\n",
              "clickable and can be expanded/collapsed.\n",
              "- Pipeline and ColumnTransformer use this feature and define the default style\n",
              "- Estimators will overwrite some part of the style using the `sk-estimator` class\n",
              "*/\n",
              "\n",
              "/* Pipeline and ColumnTransformer style (default) */\n",
              "\n",
              "#sk-container-id-1 div.sk-toggleable {\n",
              "  /* Default theme specific background. It is overwritten whether we have a\n",
              "  specific estimator or a Pipeline/ColumnTransformer */\n",
              "  background-color: var(--sklearn-color-background);\n",
              "}\n",
              "\n",
              "/* Toggleable label */\n",
              "#sk-container-id-1 label.sk-toggleable__label {\n",
              "  cursor: pointer;\n",
              "  display: flex;\n",
              "  width: 100%;\n",
              "  margin-bottom: 0;\n",
              "  padding: 0.5em;\n",
              "  box-sizing: border-box;\n",
              "  text-align: center;\n",
              "  align-items: start;\n",
              "  justify-content: space-between;\n",
              "  gap: 0.5em;\n",
              "}\n",
              "\n",
              "#sk-container-id-1 label.sk-toggleable__label .caption {\n",
              "  font-size: 0.6rem;\n",
              "  font-weight: lighter;\n",
              "  color: var(--sklearn-color-text-muted);\n",
              "}\n",
              "\n",
              "#sk-container-id-1 label.sk-toggleable__label-arrow:before {\n",
              "  /* Arrow on the left of the label */\n",
              "  content: \"▸\";\n",
              "  float: left;\n",
              "  margin-right: 0.25em;\n",
              "  color: var(--sklearn-color-icon);\n",
              "}\n",
              "\n",
              "#sk-container-id-1 label.sk-toggleable__label-arrow:hover:before {\n",
              "  color: var(--sklearn-color-text);\n",
              "}\n",
              "\n",
              "/* Toggleable content - dropdown */\n",
              "\n",
              "#sk-container-id-1 div.sk-toggleable__content {\n",
              "  max-height: 0;\n",
              "  max-width: 0;\n",
              "  overflow: hidden;\n",
              "  text-align: left;\n",
              "  /* unfitted */\n",
              "  background-color: var(--sklearn-color-unfitted-level-0);\n",
              "}\n",
              "\n",
              "#sk-container-id-1 div.sk-toggleable__content.fitted {\n",
              "  /* fitted */\n",
              "  background-color: var(--sklearn-color-fitted-level-0);\n",
              "}\n",
              "\n",
              "#sk-container-id-1 div.sk-toggleable__content pre {\n",
              "  margin: 0.2em;\n",
              "  border-radius: 0.25em;\n",
              "  color: var(--sklearn-color-text);\n",
              "  /* unfitted */\n",
              "  background-color: var(--sklearn-color-unfitted-level-0);\n",
              "}\n",
              "\n",
              "#sk-container-id-1 div.sk-toggleable__content.fitted pre {\n",
              "  /* unfitted */\n",
              "  background-color: var(--sklearn-color-fitted-level-0);\n",
              "}\n",
              "\n",
              "#sk-container-id-1 input.sk-toggleable__control:checked~div.sk-toggleable__content {\n",
              "  /* Expand drop-down */\n",
              "  max-height: 200px;\n",
              "  max-width: 100%;\n",
              "  overflow: auto;\n",
              "}\n",
              "\n",
              "#sk-container-id-1 input.sk-toggleable__control:checked~label.sk-toggleable__label-arrow:before {\n",
              "  content: \"▾\";\n",
              "}\n",
              "\n",
              "/* Pipeline/ColumnTransformer-specific style */\n",
              "\n",
              "#sk-container-id-1 div.sk-label input.sk-toggleable__control:checked~label.sk-toggleable__label {\n",
              "  color: var(--sklearn-color-text);\n",
              "  background-color: var(--sklearn-color-unfitted-level-2);\n",
              "}\n",
              "\n",
              "#sk-container-id-1 div.sk-label.fitted input.sk-toggleable__control:checked~label.sk-toggleable__label {\n",
              "  background-color: var(--sklearn-color-fitted-level-2);\n",
              "}\n",
              "\n",
              "/* Estimator-specific style */\n",
              "\n",
              "/* Colorize estimator box */\n",
              "#sk-container-id-1 div.sk-estimator input.sk-toggleable__control:checked~label.sk-toggleable__label {\n",
              "  /* unfitted */\n",
              "  background-color: var(--sklearn-color-unfitted-level-2);\n",
              "}\n",
              "\n",
              "#sk-container-id-1 div.sk-estimator.fitted input.sk-toggleable__control:checked~label.sk-toggleable__label {\n",
              "  /* fitted */\n",
              "  background-color: var(--sklearn-color-fitted-level-2);\n",
              "}\n",
              "\n",
              "#sk-container-id-1 div.sk-label label.sk-toggleable__label,\n",
              "#sk-container-id-1 div.sk-label label {\n",
              "  /* The background is the default theme color */\n",
              "  color: var(--sklearn-color-text-on-default-background);\n",
              "}\n",
              "\n",
              "/* On hover, darken the color of the background */\n",
              "#sk-container-id-1 div.sk-label:hover label.sk-toggleable__label {\n",
              "  color: var(--sklearn-color-text);\n",
              "  background-color: var(--sklearn-color-unfitted-level-2);\n",
              "}\n",
              "\n",
              "/* Label box, darken color on hover, fitted */\n",
              "#sk-container-id-1 div.sk-label.fitted:hover label.sk-toggleable__label.fitted {\n",
              "  color: var(--sklearn-color-text);\n",
              "  background-color: var(--sklearn-color-fitted-level-2);\n",
              "}\n",
              "\n",
              "/* Estimator label */\n",
              "\n",
              "#sk-container-id-1 div.sk-label label {\n",
              "  font-family: monospace;\n",
              "  font-weight: bold;\n",
              "  display: inline-block;\n",
              "  line-height: 1.2em;\n",
              "}\n",
              "\n",
              "#sk-container-id-1 div.sk-label-container {\n",
              "  text-align: center;\n",
              "}\n",
              "\n",
              "/* Estimator-specific */\n",
              "#sk-container-id-1 div.sk-estimator {\n",
              "  font-family: monospace;\n",
              "  border: 1px dotted var(--sklearn-color-border-box);\n",
              "  border-radius: 0.25em;\n",
              "  box-sizing: border-box;\n",
              "  margin-bottom: 0.5em;\n",
              "  /* unfitted */\n",
              "  background-color: var(--sklearn-color-unfitted-level-0);\n",
              "}\n",
              "\n",
              "#sk-container-id-1 div.sk-estimator.fitted {\n",
              "  /* fitted */\n",
              "  background-color: var(--sklearn-color-fitted-level-0);\n",
              "}\n",
              "\n",
              "/* on hover */\n",
              "#sk-container-id-1 div.sk-estimator:hover {\n",
              "  /* unfitted */\n",
              "  background-color: var(--sklearn-color-unfitted-level-2);\n",
              "}\n",
              "\n",
              "#sk-container-id-1 div.sk-estimator.fitted:hover {\n",
              "  /* fitted */\n",
              "  background-color: var(--sklearn-color-fitted-level-2);\n",
              "}\n",
              "\n",
              "/* Specification for estimator info (e.g. \"i\" and \"?\") */\n",
              "\n",
              "/* Common style for \"i\" and \"?\" */\n",
              "\n",
              ".sk-estimator-doc-link,\n",
              "a:link.sk-estimator-doc-link,\n",
              "a:visited.sk-estimator-doc-link {\n",
              "  float: right;\n",
              "  font-size: smaller;\n",
              "  line-height: 1em;\n",
              "  font-family: monospace;\n",
              "  background-color: var(--sklearn-color-background);\n",
              "  border-radius: 1em;\n",
              "  height: 1em;\n",
              "  width: 1em;\n",
              "  text-decoration: none !important;\n",
              "  margin-left: 0.5em;\n",
              "  text-align: center;\n",
              "  /* unfitted */\n",
              "  border: var(--sklearn-color-unfitted-level-1) 1pt solid;\n",
              "  color: var(--sklearn-color-unfitted-level-1);\n",
              "}\n",
              "\n",
              ".sk-estimator-doc-link.fitted,\n",
              "a:link.sk-estimator-doc-link.fitted,\n",
              "a:visited.sk-estimator-doc-link.fitted {\n",
              "  /* fitted */\n",
              "  border: var(--sklearn-color-fitted-level-1) 1pt solid;\n",
              "  color: var(--sklearn-color-fitted-level-1);\n",
              "}\n",
              "\n",
              "/* On hover */\n",
              "div.sk-estimator:hover .sk-estimator-doc-link:hover,\n",
              ".sk-estimator-doc-link:hover,\n",
              "div.sk-label-container:hover .sk-estimator-doc-link:hover,\n",
              ".sk-estimator-doc-link:hover {\n",
              "  /* unfitted */\n",
              "  background-color: var(--sklearn-color-unfitted-level-3);\n",
              "  color: var(--sklearn-color-background);\n",
              "  text-decoration: none;\n",
              "}\n",
              "\n",
              "div.sk-estimator.fitted:hover .sk-estimator-doc-link.fitted:hover,\n",
              ".sk-estimator-doc-link.fitted:hover,\n",
              "div.sk-label-container:hover .sk-estimator-doc-link.fitted:hover,\n",
              ".sk-estimator-doc-link.fitted:hover {\n",
              "  /* fitted */\n",
              "  background-color: var(--sklearn-color-fitted-level-3);\n",
              "  color: var(--sklearn-color-background);\n",
              "  text-decoration: none;\n",
              "}\n",
              "\n",
              "/* Span, style for the box shown on hovering the info icon */\n",
              ".sk-estimator-doc-link span {\n",
              "  display: none;\n",
              "  z-index: 9999;\n",
              "  position: relative;\n",
              "  font-weight: normal;\n",
              "  right: .2ex;\n",
              "  padding: .5ex;\n",
              "  margin: .5ex;\n",
              "  width: min-content;\n",
              "  min-width: 20ex;\n",
              "  max-width: 50ex;\n",
              "  color: var(--sklearn-color-text);\n",
              "  box-shadow: 2pt 2pt 4pt #999;\n",
              "  /* unfitted */\n",
              "  background: var(--sklearn-color-unfitted-level-0);\n",
              "  border: .5pt solid var(--sklearn-color-unfitted-level-3);\n",
              "}\n",
              "\n",
              ".sk-estimator-doc-link.fitted span {\n",
              "  /* fitted */\n",
              "  background: var(--sklearn-color-fitted-level-0);\n",
              "  border: var(--sklearn-color-fitted-level-3);\n",
              "}\n",
              "\n",
              ".sk-estimator-doc-link:hover span {\n",
              "  display: block;\n",
              "}\n",
              "\n",
              "/* \"?\"-specific style due to the `<a>` HTML tag */\n",
              "\n",
              "#sk-container-id-1 a.estimator_doc_link {\n",
              "  float: right;\n",
              "  font-size: 1rem;\n",
              "  line-height: 1em;\n",
              "  font-family: monospace;\n",
              "  background-color: var(--sklearn-color-background);\n",
              "  border-radius: 1rem;\n",
              "  height: 1rem;\n",
              "  width: 1rem;\n",
              "  text-decoration: none;\n",
              "  /* unfitted */\n",
              "  color: var(--sklearn-color-unfitted-level-1);\n",
              "  border: var(--sklearn-color-unfitted-level-1) 1pt solid;\n",
              "}\n",
              "\n",
              "#sk-container-id-1 a.estimator_doc_link.fitted {\n",
              "  /* fitted */\n",
              "  border: var(--sklearn-color-fitted-level-1) 1pt solid;\n",
              "  color: var(--sklearn-color-fitted-level-1);\n",
              "}\n",
              "\n",
              "/* On hover */\n",
              "#sk-container-id-1 a.estimator_doc_link:hover {\n",
              "  /* unfitted */\n",
              "  background-color: var(--sklearn-color-unfitted-level-3);\n",
              "  color: var(--sklearn-color-background);\n",
              "  text-decoration: none;\n",
              "}\n",
              "\n",
              "#sk-container-id-1 a.estimator_doc_link.fitted:hover {\n",
              "  /* fitted */\n",
              "  background-color: var(--sklearn-color-fitted-level-3);\n",
              "}\n",
              "</style><div id=\"sk-container-id-1\" class=\"sk-top-container\"><div class=\"sk-text-repr-fallback\"><pre>Pipeline(steps=[(&#x27;normalizer&#x27;, LNormalizer()),\n",
              "                (&#x27;regression_estimator&#x27;, LinearRegression())])</pre><b>In a Jupyter environment, please rerun this cell to show the HTML representation or trust the notebook. <br />On GitHub, the HTML representation is unable to render, please try loading this page with nbviewer.org.</b></div><div class=\"sk-container\" hidden><div class=\"sk-item sk-dashed-wrapped\"><div class=\"sk-label-container\"><div class=\"sk-label fitted sk-toggleable\"><input class=\"sk-toggleable__control sk-hidden--visually\" id=\"sk-estimator-id-1\" type=\"checkbox\" ><label for=\"sk-estimator-id-1\" class=\"sk-toggleable__label fitted sk-toggleable__label-arrow\"><div><div>Pipeline</div></div><div><a class=\"sk-estimator-doc-link fitted\" rel=\"noreferrer\" target=\"_blank\" href=\"https://scikit-learn.org/1.6/modules/generated/sklearn.pipeline.Pipeline.html\">?<span>Documentation for Pipeline</span></a><span class=\"sk-estimator-doc-link fitted\">i<span>Fitted</span></span></div></label><div class=\"sk-toggleable__content fitted\"><pre>Pipeline(steps=[(&#x27;normalizer&#x27;, LNormalizer()),\n",
              "                (&#x27;regression_estimator&#x27;, LinearRegression())])</pre></div> </div></div><div class=\"sk-serial\"><div class=\"sk-item\"><div class=\"sk-estimator fitted sk-toggleable\"><input class=\"sk-toggleable__control sk-hidden--visually\" id=\"sk-estimator-id-2\" type=\"checkbox\" ><label for=\"sk-estimator-id-2\" class=\"sk-toggleable__label fitted sk-toggleable__label-arrow\"><div><div>LNormalizer</div></div></label><div class=\"sk-toggleable__content fitted\"><pre>LNormalizer()</pre></div> </div></div><div class=\"sk-item\"><div class=\"sk-estimator fitted sk-toggleable\"><input class=\"sk-toggleable__control sk-hidden--visually\" id=\"sk-estimator-id-3\" type=\"checkbox\" ><label for=\"sk-estimator-id-3\" class=\"sk-toggleable__label fitted sk-toggleable__label-arrow\"><div><div>LinearRegression</div></div><div><a class=\"sk-estimator-doc-link fitted\" rel=\"noreferrer\" target=\"_blank\" href=\"https://scikit-learn.org/1.6/modules/generated/sklearn.linear_model.LinearRegression.html\">?<span>Documentation for LinearRegression</span></a></div></label><div class=\"sk-toggleable__content fitted\"><pre>LinearRegression()</pre></div> </div></div></div></div></div></div>"
            ],
            "text/plain": [
              "Pipeline(steps=[('normalizer', LNormalizer()),\n",
              "                ('regression_estimator', LinearRegression())])"
            ]
          },
          "execution_count": 24,
          "metadata": {},
          "output_type": "execute_result"
        }
      ],
      "source": [
        "skl_pipeline = Pipeline(\n",
        "    steps=[(\"normalizer\", lnorm_transf), (\"regression_estimator\", LinearRegression())]\n",
        ")\n",
        "skl_pipeline.fit(X_train.loc[:, [\"time\", \"humidity\"]].values, y_train)"
      ]
    },
    {
      "cell_type": "code",
      "execution_count": 25,
      "metadata": {
        "pycharm": {
          "name": "#%%\n"
        }
      },
      "outputs": [
        {
          "name": "stdout",
          "output_type": "stream",
          "text": [
            "RMSE: 2.213758431322581\n"
          ]
        }
      ],
      "source": [
        "y_pred = skl_pipeline.predict(X_test.loc[:, [\"time\", \"humidity\"]].values)\n",
        "rmse = np.mean((np.round(y_pred) - y_test.values) ** 2) ** 0.5\n",
        "print(\"RMSE: {}\".format(rmse))"
      ]
    },
    {
      "cell_type": "markdown",
      "metadata": {
        "pycharm": {
          "name": "#%% md\n"
        }
      },
      "source": [
        "<a id=\"upload\"></a>\n",
        "\n",
        "## 5. Persist the model and custom library\n",
        "\n",
        "In this section, using `ibm-watsonx-ai` SDK, you will ...\n",
        "- save the library `linalgnorm-0.1.zip` in WML Repository by creating a package extension resource\n",
        "- create a Software Specification resource and bind the package resource to it. This Software Specification resource will be used to configure the online deployment runtime environment for a model \n",
        "- bind Software Specification resource to the model and save the model to WML Repository"
      ]
    },
    {
      "cell_type": "markdown",
      "metadata": {
        "pycharm": {
          "name": "#%% md\n"
        }
      },
      "source": [
        "### Create package extension"
      ]
    },
    {
      "cell_type": "markdown",
      "metadata": {
        "pycharm": {
          "name": "#%% md\n"
        }
      },
      "source": [
        "Define the meta data required to create package extension resource. <br>\n",
        "\n",
        "The value for `file_path` in `client.package_extensions.LibraryMetaNames.store()` contains the library file name that must be uploaded to the WML.\n",
        "\n",
        "**Note:** You can also use `requirements.txt` file as package extension input. In such case set the `TYPE` to `requirements_txt` and `file_path` to the `txt` file.\n",
        "```\n",
        "client.package_extensions.ConfigurationMetaNames.TYPE = \"requirements_txt\"\n",
        "```"
      ]
    },
    {
      "cell_type": "code",
      "execution_count": 26,
      "metadata": {
        "pycharm": {
          "name": "#%%\n"
        }
      },
      "outputs": [
        {
          "name": "stdout",
          "output_type": "stream",
          "text": [
            "Creating package extensions\n",
            "SUCCESS\n"
          ]
        }
      ],
      "source": [
        "meta_prop_pkg_extn = {\n",
        "    client.package_extensions.ConfigurationMetaNames.NAME: \"K_Linag_norm_skl\",\n",
        "    client.package_extensions.ConfigurationMetaNames.DESCRIPTION: \"Pkg extension for custom lib\",\n",
        "    client.package_extensions.ConfigurationMetaNames.TYPE: \"pip_zip\",\n",
        "}\n",
        "\n",
        "pkg_extn_details = client.package_extensions.store(\n",
        "    meta_props=meta_prop_pkg_extn, file_path=\"linalgnorm-0.1.zip\"\n",
        ")\n",
        "pkg_extn_id = client.package_extensions.get_id(pkg_extn_details)\n",
        "pkg_extn_url = client.package_extensions.get_href(pkg_extn_details)"
      ]
    },
    {
      "cell_type": "markdown",
      "metadata": {
        "pycharm": {
          "name": "#%% md\n"
        }
      },
      "source": [
        "Display the details of the package extension resource that was created in the above cell."
      ]
    },
    {
      "cell_type": "code",
      "execution_count": 27,
      "metadata": {
        "pycharm": {
          "name": "#%%\n"
        }
      },
      "outputs": [],
      "source": [
        "details = client.package_extensions.get_details(pkg_extn_id)"
      ]
    },
    {
      "cell_type": "markdown",
      "metadata": {
        "pycharm": {
          "name": "#%% md\n"
        }
      },
      "source": [
        "### Create software specification and add custom library"
      ]
    },
    {
      "cell_type": "markdown",
      "metadata": {
        "pycharm": {
          "name": "#%% md\n"
        }
      },
      "source": [
        "Define the meta data required to create software spec resource and bind the package. This software spec resource will be used to configure the online deployment runtime environment for a model."
      ]
    },
    {
      "cell_type": "code",
      "execution_count": 28,
      "metadata": {
        "pycharm": {
          "name": "#%%\n"
        }
      },
      "outputs": [
        {
          "name": "stdout",
          "output_type": "stream",
          "text": [
            "---------------------------  ----  --------  --------------------------------\n",
            "META_PROP NAME               TYPE  REQUIRED  SCHEMA\n",
            "NAME                         str   Y\n",
            "DESCRIPTION                  str   N\n",
            "PACKAGE_EXTENSIONS           list  N\n",
            "SOFTWARE_CONFIGURATION       dict  N         {'platform(required)': 'string'}\n",
            "BASE_SOFTWARE_SPECIFICATION  dict  Y\n",
            "---------------------------  ----  --------  --------------------------------\n"
          ]
        }
      ],
      "source": [
        "client.software_specifications.ConfigurationMetaNames.show()"
      ]
    },
    {
      "cell_type": "markdown",
      "metadata": {
        "pycharm": {
          "name": "#%% md\n"
        }
      },
      "source": [
        "#### List base software specifications"
      ]
    },
    {
      "cell_type": "code",
      "execution_count": 29,
      "metadata": {
        "pycharm": {
          "name": "#%%\n"
        }
      },
      "outputs": [
        {
          "data": {
            "text/html": [
              "<div>\n",
              "<style scoped>\n",
              "    .dataframe tbody tr th:only-of-type {\n",
              "        vertical-align: middle;\n",
              "    }\n",
              "\n",
              "    .dataframe tbody tr th {\n",
              "        vertical-align: top;\n",
              "    }\n",
              "\n",
              "    .dataframe thead th {\n",
              "        text-align: right;\n",
              "    }\n",
              "</style>\n",
              "<table border=\"1\" class=\"dataframe\">\n",
              "  <thead>\n",
              "    <tr style=\"text-align: right;\">\n",
              "      <th></th>\n",
              "      <th>NAME</th>\n",
              "      <th>ID</th>\n",
              "      <th>TYPE</th>\n",
              "      <th>STATE</th>\n",
              "      <th>REPLACEMENT</th>\n",
              "    </tr>\n",
              "  </thead>\n",
              "  <tbody>\n",
              "    <tr>\n",
              "      <th>0</th>\n",
              "      <td>autoai-kb_rt25.1-py3.12</td>\n",
              "      <td>046f5252-0d07-5c23-81ef-18a1a31cdce3</td>\n",
              "      <td>base</td>\n",
              "      <td>supported</td>\n",
              "      <td></td>\n",
              "    </tr>\n",
              "    <tr>\n",
              "      <th>1</th>\n",
              "      <td>watsonx-cfm-caikit-1.0</td>\n",
              "      <td>0cee3c55-472f-57b1-84bd-72f5d066dbe4</td>\n",
              "      <td>base</td>\n",
              "      <td>supported</td>\n",
              "      <td></td>\n",
              "    </tr>\n",
              "    <tr>\n",
              "      <th>2</th>\n",
              "      <td>watsonx-textgen-fm-1.0</td>\n",
              "      <td>129aec82-7e65-5c78-b812-4c0a74b916f5</td>\n",
              "      <td>base</td>\n",
              "      <td>supported</td>\n",
              "      <td></td>\n",
              "    </tr>\n",
              "    <tr>\n",
              "      <th>3</th>\n",
              "      <td>masking-flows-spark</td>\n",
              "      <td>13666829-5570-53a7-927b-52d42a101d93</td>\n",
              "      <td>base</td>\n",
              "      <td>supported</td>\n",
              "      <td></td>\n",
              "    </tr>\n",
              "    <tr>\n",
              "      <th>4</th>\n",
              "      <td>autoai-ts_rt25.1-py3.12</td>\n",
              "      <td>1c0c9e1d-8523-520f-867e-102173f16f5e</td>\n",
              "      <td>base</td>\n",
              "      <td>supported</td>\n",
              "      <td></td>\n",
              "    </tr>\n",
              "    <tr>\n",
              "      <th>5</th>\n",
              "      <td>tensorflow_rt24.1-py3.11</td>\n",
              "      <td>2c33167d-b11c-5490-a305-3e5e95db5c4d</td>\n",
              "      <td>base</td>\n",
              "      <td>supported</td>\n",
              "      <td></td>\n",
              "    </tr>\n",
              "    <tr>\n",
              "      <th>6</th>\n",
              "      <td>pytorch-onnx_rt24.1-py3.11</td>\n",
              "      <td>2da185aa-eac3-59a5-bb8e-0e5b60458a15</td>\n",
              "      <td>base</td>\n",
              "      <td>supported</td>\n",
              "      <td></td>\n",
              "    </tr>\n",
              "    <tr>\n",
              "      <th>7</th>\n",
              "      <td>tensorflow_rt24.1-py3.11-edt</td>\n",
              "      <td>2f53b747-c01a-58a6-a20c-8390ecfd8625</td>\n",
              "      <td>base</td>\n",
              "      <td>supported</td>\n",
              "      <td></td>\n",
              "    </tr>\n",
              "    <tr>\n",
              "      <th>8</th>\n",
              "      <td>kernel-spark3.5-py3.11</td>\n",
              "      <td>30ad99e2-7cfb-511a-9a3e-4cc308071fd3</td>\n",
              "      <td>base</td>\n",
              "      <td>supported</td>\n",
              "      <td></td>\n",
              "    </tr>\n",
              "    <tr>\n",
              "      <th>9</th>\n",
              "      <td>kernel-spark3.5-r4.3</td>\n",
              "      <td>3668b4d5-b8b8-5926-badf-1134137613d4</td>\n",
              "      <td>base</td>\n",
              "      <td>supported</td>\n",
              "      <td></td>\n",
              "    </tr>\n",
              "    <tr>\n",
              "      <th>10</th>\n",
              "      <td>onnxruntime_opset_19</td>\n",
              "      <td>368d2795-aaa7-59a0-834c-248c64a5a99e</td>\n",
              "      <td>base</td>\n",
              "      <td>supported</td>\n",
              "      <td></td>\n",
              "    </tr>\n",
              "    <tr>\n",
              "      <th>11</th>\n",
              "      <td>rstudio-24.1-r4.3</td>\n",
              "      <td>3f54a6c2-0df5-58db-8121-ca947a0691d0</td>\n",
              "      <td>base</td>\n",
              "      <td>supported</td>\n",
              "      <td></td>\n",
              "    </tr>\n",
              "    <tr>\n",
              "      <th>12</th>\n",
              "      <td>runtime-24.1-py3.11</td>\n",
              "      <td>45f12dfe-aa78-5b8d-9f38-0ee223c47309</td>\n",
              "      <td>base</td>\n",
              "      <td>supported</td>\n",
              "      <td></td>\n",
              "    </tr>\n",
              "    <tr>\n",
              "      <th>13</th>\n",
              "      <td>kernel-spark3.4-py3.11</td>\n",
              "      <td>47c18b7b-f719-5f8c-ad84-a1a64a174204</td>\n",
              "      <td>base</td>\n",
              "      <td>supported</td>\n",
              "      <td></td>\n",
              "    </tr>\n",
              "    <tr>\n",
              "      <th>14</th>\n",
              "      <td>pmml-3.0_4.3</td>\n",
              "      <td>493bcb95-16f1-5bc5-bee8-81b8af80e9c7</td>\n",
              "      <td>base</td>\n",
              "      <td>supported</td>\n",
              "      <td></td>\n",
              "    </tr>\n",
              "    <tr>\n",
              "      <th>15</th>\n",
              "      <td>tensorflow_rt24.1-py3.11-dist</td>\n",
              "      <td>5664b780-493c-59db-a165-c57ad6417db7</td>\n",
              "      <td>base</td>\n",
              "      <td>supported</td>\n",
              "      <td></td>\n",
              "    </tr>\n",
              "    <tr>\n",
              "      <th>16</th>\n",
              "      <td>spss-modeler_18.1</td>\n",
              "      <td>5c3cad7e-507f-4b2a-a9a3-ab53a21dee8b</td>\n",
              "      <td>base</td>\n",
              "      <td>supported</td>\n",
              "      <td></td>\n",
              "    </tr>\n",
              "    <tr>\n",
              "      <th>17</th>\n",
              "      <td>wx_data-spark3.5-py3.11</td>\n",
              "      <td>63e7aeea-51bd-5638-b645-db93f2deb1c7</td>\n",
              "      <td>base</td>\n",
              "      <td>supported</td>\n",
              "      <td></td>\n",
              "    </tr>\n",
              "    <tr>\n",
              "      <th>18</th>\n",
              "      <td>spss-modeler_18.2</td>\n",
              "      <td>687eddc9-028a-4117-b9dd-e57b36f1efa5</td>\n",
              "      <td>base</td>\n",
              "      <td>supported</td>\n",
              "      <td></td>\n",
              "    </tr>\n",
              "    <tr>\n",
              "      <th>19</th>\n",
              "      <td>watsonx-cfm-caikit-1.1</td>\n",
              "      <td>69fcc3e0-48de-5ef5-8682-53e86781d1a6</td>\n",
              "      <td>base</td>\n",
              "      <td>supported</td>\n",
              "      <td></td>\n",
              "    </tr>\n",
              "    <tr>\n",
              "      <th>20</th>\n",
              "      <td>rstudio-25.1-r4.4</td>\n",
              "      <td>75de0dd4-ff77-51dd-9716-834b0671bb37</td>\n",
              "      <td>base</td>\n",
              "      <td>supported</td>\n",
              "      <td></td>\n",
              "    </tr>\n",
              "    <tr>\n",
              "      <th>21</th>\n",
              "      <td>wx_data-spark3.4-py3.10</td>\n",
              "      <td>76615114-0e24-5e14-ac71-5aa197d82062</td>\n",
              "      <td>base</td>\n",
              "      <td>supported</td>\n",
              "      <td></td>\n",
              "    </tr>\n",
              "    <tr>\n",
              "      <th>22</th>\n",
              "      <td>autoai-ts_rt24.1-py3.11</td>\n",
              "      <td>7d222e1d-b062-5740-b34a-453a63755976</td>\n",
              "      <td>base</td>\n",
              "      <td>supported</td>\n",
              "      <td></td>\n",
              "    </tr>\n",
              "    <tr>\n",
              "      <th>23</th>\n",
              "      <td>autoai-kb_rt24.1-py3.11</td>\n",
              "      <td>82f1bc6d-59c3-55e8-b612-cd908a2f7cc7</td>\n",
              "      <td>base</td>\n",
              "      <td>supported</td>\n",
              "      <td></td>\n",
              "    </tr>\n",
              "    <tr>\n",
              "      <th>24</th>\n",
              "      <td>hybrid_0.1</td>\n",
              "      <td>8c1a58c6-62b5-4dc4-987a-df751c2756b6</td>\n",
              "      <td>base</td>\n",
              "      <td>supported</td>\n",
              "      <td></td>\n",
              "    </tr>\n",
              "    <tr>\n",
              "      <th>25</th>\n",
              "      <td>spss-modeler_17.1</td>\n",
              "      <td>902d0051-84bd-4af6-ab6b-8f6aa6fdeabb</td>\n",
              "      <td>base</td>\n",
              "      <td>supported</td>\n",
              "      <td></td>\n",
              "    </tr>\n",
              "    <tr>\n",
              "      <th>26</th>\n",
              "      <td>hybrid_0.2</td>\n",
              "      <td>9b3f9040-9cee-4ead-8d7a-780600f542f7</td>\n",
              "      <td>base</td>\n",
              "      <td>supported</td>\n",
              "      <td></td>\n",
              "    </tr>\n",
              "    <tr>\n",
              "      <th>27</th>\n",
              "      <td>kernel-spark3.4-r4.3</td>\n",
              "      <td>a3ce4e69-29af-536d-9c5b-e8142fbd2629</td>\n",
              "      <td>base</td>\n",
              "      <td>supported</td>\n",
              "      <td></td>\n",
              "    </tr>\n",
              "    <tr>\n",
              "      <th>28</th>\n",
              "      <td>runtime-24.1-py3.11-cuda</td>\n",
              "      <td>b5993284-af60-57ff-aaf2-e0989be7ca2d</td>\n",
              "      <td>base</td>\n",
              "      <td>supported</td>\n",
              "      <td></td>\n",
              "    </tr>\n",
              "    <tr>\n",
              "      <th>29</th>\n",
              "      <td>runtime-24.1-r4.3</td>\n",
              "      <td>c9679e95-1b5e-590d-a6ce-0c15dc870a0a</td>\n",
              "      <td>base</td>\n",
              "      <td>supported</td>\n",
              "      <td></td>\n",
              "    </tr>\n",
              "    <tr>\n",
              "      <th>30</th>\n",
              "      <td>watsonx-tsfm-runtime-1.0</td>\n",
              "      <td>cc8d3794-43e5-5bcf-a657-9cfed2f278c4</td>\n",
              "      <td>base</td>\n",
              "      <td>supported</td>\n",
              "      <td></td>\n",
              "    </tr>\n",
              "    <tr>\n",
              "      <th>31</th>\n",
              "      <td>spark-mllib_3.4</td>\n",
              "      <td>dabb5e1b-e1c7-5ef5-95ea-34a8223e436c</td>\n",
              "      <td>base</td>\n",
              "      <td>supported</td>\n",
              "      <td></td>\n",
              "    </tr>\n",
              "    <tr>\n",
              "      <th>32</th>\n",
              "      <td>do_22.1</td>\n",
              "      <td>e51999ba-6452-5f1f-8287-17228b88b652</td>\n",
              "      <td>base</td>\n",
              "      <td>supported</td>\n",
              "      <td></td>\n",
              "    </tr>\n",
              "    <tr>\n",
              "      <th>33</th>\n",
              "      <td>spark-mllib_3.5</td>\n",
              "      <td>e8cd7001-fd05-5eea-b697-0a3bff9cf51f</td>\n",
              "      <td>base</td>\n",
              "      <td>supported</td>\n",
              "      <td></td>\n",
              "    </tr>\n",
              "    <tr>\n",
              "      <th>34</th>\n",
              "      <td>autoai-rag_rt24.1-py3.11</td>\n",
              "      <td>ec4289a9-174e-5eae-ae49-30fa015ed1e6</td>\n",
              "      <td>base</td>\n",
              "      <td>supported</td>\n",
              "      <td></td>\n",
              "    </tr>\n",
              "    <tr>\n",
              "      <th>35</th>\n",
              "      <td>pytorch-onnx_rt24.1-py3.11-edt</td>\n",
              "      <td>ed4d5b3c-faaf-5739-a8d3-ec5cffbc5f13</td>\n",
              "      <td>base</td>\n",
              "      <td>supported</td>\n",
              "      <td></td>\n",
              "    </tr>\n",
              "    <tr>\n",
              "      <th>36</th>\n",
              "      <td>pytorch-onnx_rt24.1-py3.11-dist</td>\n",
              "      <td>f0ad08b8-3326-59aa-ba41-ca6694a4e6bc</td>\n",
              "      <td>base</td>\n",
              "      <td>supported</td>\n",
              "      <td></td>\n",
              "    </tr>\n",
              "    <tr>\n",
              "      <th>37</th>\n",
              "      <td>runtime-25.1-py3.12</td>\n",
              "      <td>f47ae1c3-198e-5718-b59d-2ea471561e9e</td>\n",
              "      <td>base</td>\n",
              "      <td>supported</td>\n",
              "      <td></td>\n",
              "    </tr>\n",
              "    <tr>\n",
              "      <th>38</th>\n",
              "      <td>wx_data-spark3.5-py3.10</td>\n",
              "      <td>f58861f2-03bb-5f30-ba39-af0ea6939ede</td>\n",
              "      <td>base</td>\n",
              "      <td>supported</td>\n",
              "      <td></td>\n",
              "    </tr>\n",
              "    <tr>\n",
              "      <th>39</th>\n",
              "      <td>do_20.1</td>\n",
              "      <td>f686cdd9-7904-5f9d-a732-01b0d6b10dc5</td>\n",
              "      <td>base</td>\n",
              "      <td>supported</td>\n",
              "      <td></td>\n",
              "    </tr>\n",
              "  </tbody>\n",
              "</table>\n",
              "</div>"
            ],
            "text/plain": [
              "                               NAME                                    ID  \\\n",
              "0           autoai-kb_rt25.1-py3.12  046f5252-0d07-5c23-81ef-18a1a31cdce3   \n",
              "1            watsonx-cfm-caikit-1.0  0cee3c55-472f-57b1-84bd-72f5d066dbe4   \n",
              "2            watsonx-textgen-fm-1.0  129aec82-7e65-5c78-b812-4c0a74b916f5   \n",
              "3               masking-flows-spark  13666829-5570-53a7-927b-52d42a101d93   \n",
              "4           autoai-ts_rt25.1-py3.12  1c0c9e1d-8523-520f-867e-102173f16f5e   \n",
              "5          tensorflow_rt24.1-py3.11  2c33167d-b11c-5490-a305-3e5e95db5c4d   \n",
              "6        pytorch-onnx_rt24.1-py3.11  2da185aa-eac3-59a5-bb8e-0e5b60458a15   \n",
              "7      tensorflow_rt24.1-py3.11-edt  2f53b747-c01a-58a6-a20c-8390ecfd8625   \n",
              "8            kernel-spark3.5-py3.11  30ad99e2-7cfb-511a-9a3e-4cc308071fd3   \n",
              "9              kernel-spark3.5-r4.3  3668b4d5-b8b8-5926-badf-1134137613d4   \n",
              "10             onnxruntime_opset_19  368d2795-aaa7-59a0-834c-248c64a5a99e   \n",
              "11                rstudio-24.1-r4.3  3f54a6c2-0df5-58db-8121-ca947a0691d0   \n",
              "12              runtime-24.1-py3.11  45f12dfe-aa78-5b8d-9f38-0ee223c47309   \n",
              "13           kernel-spark3.4-py3.11  47c18b7b-f719-5f8c-ad84-a1a64a174204   \n",
              "14                     pmml-3.0_4.3  493bcb95-16f1-5bc5-bee8-81b8af80e9c7   \n",
              "15    tensorflow_rt24.1-py3.11-dist  5664b780-493c-59db-a165-c57ad6417db7   \n",
              "16                spss-modeler_18.1  5c3cad7e-507f-4b2a-a9a3-ab53a21dee8b   \n",
              "17          wx_data-spark3.5-py3.11  63e7aeea-51bd-5638-b645-db93f2deb1c7   \n",
              "18                spss-modeler_18.2  687eddc9-028a-4117-b9dd-e57b36f1efa5   \n",
              "19           watsonx-cfm-caikit-1.1  69fcc3e0-48de-5ef5-8682-53e86781d1a6   \n",
              "20                rstudio-25.1-r4.4  75de0dd4-ff77-51dd-9716-834b0671bb37   \n",
              "21          wx_data-spark3.4-py3.10  76615114-0e24-5e14-ac71-5aa197d82062   \n",
              "22          autoai-ts_rt24.1-py3.11  7d222e1d-b062-5740-b34a-453a63755976   \n",
              "23          autoai-kb_rt24.1-py3.11  82f1bc6d-59c3-55e8-b612-cd908a2f7cc7   \n",
              "24                       hybrid_0.1  8c1a58c6-62b5-4dc4-987a-df751c2756b6   \n",
              "25                spss-modeler_17.1  902d0051-84bd-4af6-ab6b-8f6aa6fdeabb   \n",
              "26                       hybrid_0.2  9b3f9040-9cee-4ead-8d7a-780600f542f7   \n",
              "27             kernel-spark3.4-r4.3  a3ce4e69-29af-536d-9c5b-e8142fbd2629   \n",
              "28         runtime-24.1-py3.11-cuda  b5993284-af60-57ff-aaf2-e0989be7ca2d   \n",
              "29                runtime-24.1-r4.3  c9679e95-1b5e-590d-a6ce-0c15dc870a0a   \n",
              "30         watsonx-tsfm-runtime-1.0  cc8d3794-43e5-5bcf-a657-9cfed2f278c4   \n",
              "31                  spark-mllib_3.4  dabb5e1b-e1c7-5ef5-95ea-34a8223e436c   \n",
              "32                          do_22.1  e51999ba-6452-5f1f-8287-17228b88b652   \n",
              "33                  spark-mllib_3.5  e8cd7001-fd05-5eea-b697-0a3bff9cf51f   \n",
              "34         autoai-rag_rt24.1-py3.11  ec4289a9-174e-5eae-ae49-30fa015ed1e6   \n",
              "35   pytorch-onnx_rt24.1-py3.11-edt  ed4d5b3c-faaf-5739-a8d3-ec5cffbc5f13   \n",
              "36  pytorch-onnx_rt24.1-py3.11-dist  f0ad08b8-3326-59aa-ba41-ca6694a4e6bc   \n",
              "37              runtime-25.1-py3.12  f47ae1c3-198e-5718-b59d-2ea471561e9e   \n",
              "38          wx_data-spark3.5-py3.10  f58861f2-03bb-5f30-ba39-af0ea6939ede   \n",
              "39                          do_20.1  f686cdd9-7904-5f9d-a732-01b0d6b10dc5   \n",
              "\n",
              "    TYPE      STATE REPLACEMENT  \n",
              "0   base  supported              \n",
              "1   base  supported              \n",
              "2   base  supported              \n",
              "3   base  supported              \n",
              "4   base  supported              \n",
              "5   base  supported              \n",
              "6   base  supported              \n",
              "7   base  supported              \n",
              "8   base  supported              \n",
              "9   base  supported              \n",
              "10  base  supported              \n",
              "11  base  supported              \n",
              "12  base  supported              \n",
              "13  base  supported              \n",
              "14  base  supported              \n",
              "15  base  supported              \n",
              "16  base  supported              \n",
              "17  base  supported              \n",
              "18  base  supported              \n",
              "19  base  supported              \n",
              "20  base  supported              \n",
              "21  base  supported              \n",
              "22  base  supported              \n",
              "23  base  supported              \n",
              "24  base  supported              \n",
              "25  base  supported              \n",
              "26  base  supported              \n",
              "27  base  supported              \n",
              "28  base  supported              \n",
              "29  base  supported              \n",
              "30  base  supported              \n",
              "31  base  supported              \n",
              "32  base  supported              \n",
              "33  base  supported              \n",
              "34  base  supported              \n",
              "35  base  supported              \n",
              "36  base  supported              \n",
              "37  base  supported              \n",
              "38  base  supported              \n",
              "39  base  supported              "
            ]
          },
          "execution_count": 29,
          "metadata": {},
          "output_type": "execute_result"
        }
      ],
      "source": [
        "client.software_specifications.list()"
      ]
    },
    {
      "cell_type": "markdown",
      "metadata": {
        "pycharm": {
          "name": "#%% md\n"
        }
      },
      "source": [
        "#### Select base software specification to extend"
      ]
    },
    {
      "cell_type": "code",
      "execution_count": 30,
      "metadata": {
        "pycharm": {
          "name": "#%%\n"
        }
      },
      "outputs": [],
      "source": [
        "base_sw_spec_id = client.software_specifications.get_id_by_name(\"runtime-25.1-py3.12\")"
      ]
    },
    {
      "cell_type": "markdown",
      "metadata": {
        "pycharm": {
          "name": "#%% md\n"
        }
      },
      "source": [
        "#### Define new software specification based on base one and custom library"
      ]
    },
    {
      "cell_type": "code",
      "execution_count": 31,
      "metadata": {
        "pycharm": {
          "name": "#%%\n"
        }
      },
      "outputs": [
        {
          "name": "stdout",
          "output_type": "stream",
          "text": [
            "SUCCESS\n"
          ]
        },
        {
          "data": {
            "text/plain": [
              "'SUCCESS'"
            ]
          },
          "execution_count": 31,
          "metadata": {},
          "output_type": "execute_result"
        }
      ],
      "source": [
        "meta_prop_sw_spec = {\n",
        "    client.software_specifications.ConfigurationMetaNames.NAME: \"linalgnorm-0.1\",\n",
        "    client.software_specifications.ConfigurationMetaNames.DESCRIPTION: \"Software specification for linalgnorm-0.1\",\n",
        "    client.software_specifications.ConfigurationMetaNames.BASE_SOFTWARE_SPECIFICATION: {\n",
        "        \"guid\": base_sw_spec_id\n",
        "    },\n",
        "}\n",
        "\n",
        "sw_spec_details = client.software_specifications.store(meta_props=meta_prop_sw_spec)\n",
        "sw_spec_id = client.software_specifications.get_id(sw_spec_details)\n",
        "\n",
        "\n",
        "client.software_specifications.add_package_extension(sw_spec_id, pkg_extn_id)"
      ]
    },
    {
      "cell_type": "markdown",
      "metadata": {
        "pycharm": {
          "name": "#%% md\n"
        }
      },
      "source": [
        "### Save the model"
      ]
    },
    {
      "cell_type": "markdown",
      "metadata": {
        "pycharm": {
          "name": "#%% md\n"
        }
      },
      "source": [
        "Define the metadata to save the trained model to watsonx.ai Runtime along with the information about the software spec resource required for the model. \n",
        "\n",
        "The `client.repository.ModelMetaNames.SOFTWARE_SPEC_ID` metadata property is used to specify the ID of the software spec resource that needs to be associated with the model."
      ]
    },
    {
      "cell_type": "code",
      "execution_count": 32,
      "metadata": {
        "pycharm": {
          "name": "#%%\n"
        }
      },
      "outputs": [],
      "source": [
        "model_props = {\n",
        "    client.repository.ModelMetaNames.NAME: \"Temp prediction model with custom lib\",\n",
        "    client.repository.ModelMetaNames.TYPE: \"scikit-learn_1.6\",\n",
        "    client.repository.ModelMetaNames.SOFTWARE_SPEC_ID: sw_spec_id,\n",
        "}"
      ]
    },
    {
      "cell_type": "markdown",
      "metadata": {
        "pycharm": {
          "name": "#%% md\n"
        }
      },
      "source": [
        "Save the model to the watsonx.ai Runtime and display its saved metadata. "
      ]
    },
    {
      "cell_type": "code",
      "execution_count": 33,
      "metadata": {
        "pycharm": {
          "name": "#%%\n"
        }
      },
      "outputs": [],
      "source": [
        "published_model = client.repository.store_model(\n",
        "    model=skl_pipeline, meta_props=model_props\n",
        ")"
      ]
    },
    {
      "cell_type": "code",
      "execution_count": 34,
      "metadata": {
        "pycharm": {
          "name": "#%%\n"
        }
      },
      "outputs": [
        {
          "name": "stdout",
          "output_type": "stream",
          "text": [
            "{\n",
            "  \"metadata\": {\n",
            "    \"name\": \"Temp prediction model with custom lib\",\n",
            "    \"space_id\": \"8a13841b-df99-4b4d-bf2a-161ad2e33980\",\n",
            "    \"resource_key\": \"5f64edb3-2ea3-444b-a4ca-a40016632676\",\n",
            "    \"id\": \"d0e0164c-0cbc-4288-b3a7-6169a96d3368\",\n",
            "    \"created_at\": \"2025-05-07T10:06:36Z\",\n",
            "    \"rov\": {\n",
            "      \"member_roles\": {\n",
            "        \"1000331001\": {\n",
            "          \"user_iam_id\": \"1000331001\",\n",
            "          \"roles\": [\n",
            "            \"OWNER\"\n",
            "          ]\n",
            "        }\n",
            "      }\n",
            "    },\n",
            "    \"owner\": \"1000331001\"\n",
            "  },\n",
            "  \"entity\": {\n",
            "    \"software_spec\": {\n",
            "      \"id\": \"3114fcfc-f3f8-4b80-b719-682234b1d232\"\n",
            "    },\n",
            "    \"type\": \"scikit-learn_1.6\"\n",
            "  }\n",
            "}\n"
          ]
        }
      ],
      "source": [
        "published_model_id = client.repository.get_model_id(published_model)\n",
        "model_details = client.repository.get_details(published_model_id)\n",
        "print(json.dumps(model_details, indent=2))"
      ]
    },
    {
      "cell_type": "markdown",
      "metadata": {
        "pycharm": {
          "name": "#%% md\n"
        }
      },
      "source": [
        "<a id=\"deploy\"></a>\n",
        "\n",
        "## 6 Deploy and Score\n",
        "\n",
        "In this section, you will deploy the saved model that uses the custom transformer and perform predictions. You will use WML client to perform these tasks."
      ]
    },
    {
      "cell_type": "markdown",
      "metadata": {
        "pycharm": {
          "name": "#%% md\n"
        }
      },
      "source": [
        "### Deploy the model"
      ]
    },
    {
      "cell_type": "code",
      "execution_count": 35,
      "metadata": {
        "pycharm": {
          "name": "#%%\n"
        }
      },
      "outputs": [
        {
          "name": "stdout",
          "output_type": "stream",
          "text": [
            "\n",
            "\n",
            "######################################################################################\n",
            "\n",
            "Synchronous deployment creation for id: 'd0e0164c-0cbc-4288-b3a7-6169a96d3368' started\n",
            "\n",
            "######################################################################################\n",
            "\n",
            "\n",
            "initializing\n",
            "Note: online_url is deprecated and will be removed in a future release. Use serving_urls instead.\n",
            "......\n",
            "ready\n",
            "\n",
            "\n",
            "-----------------------------------------------------------------------------------------------\n",
            "Successfully finished deployment creation, deployment_id='6fba4930-ad32-46bd-842e-da7f96d8a62c'\n",
            "-----------------------------------------------------------------------------------------------\n",
            "\n",
            "\n"
          ]
        }
      ],
      "source": [
        "metadata = {\n",
        "    client.deployments.ConfigurationMetaNames.NAME: \"Deployment of custom lib model\",\n",
        "    client.deployments.ConfigurationMetaNames.ONLINE: {},\n",
        "}\n",
        "\n",
        "created_deployment = client.deployments.create(published_model_id, meta_props=metadata)"
      ]
    },
    {
      "cell_type": "markdown",
      "metadata": {
        "pycharm": {
          "name": "#%% md\n"
        }
      },
      "source": [
        "<a id=\"score\"></a>\n",
        "### Predict using the deployed model"
      ]
    },
    {
      "cell_type": "markdown",
      "metadata": {
        "pycharm": {
          "name": "#%% md\n"
        }
      },
      "source": [
        "**Note**: Here we use deployment `id` saved in published_model object. In next section, we show how to retrive deployment url from watsonx.ai instance."
      ]
    },
    {
      "cell_type": "code",
      "execution_count": 36,
      "metadata": {
        "pycharm": {
          "name": "#%%\n"
        }
      },
      "outputs": [],
      "source": [
        "deployment_id = client.deployments.get_id(created_deployment)"
      ]
    },
    {
      "cell_type": "markdown",
      "metadata": {
        "pycharm": {
          "name": "#%% md\n"
        }
      },
      "source": [
        "Now you can print an online scoring endpoint. "
      ]
    },
    {
      "cell_type": "code",
      "execution_count": null,
      "metadata": {
        "pycharm": {
          "name": "#%%\n"
        }
      },
      "outputs": [],
      "source": [
        "scoring_endpoint = client.deployments.get_scoring_href(created_deployment)\n",
        "print(scoring_endpoint)"
      ]
    },
    {
      "cell_type": "markdown",
      "metadata": {
        "pycharm": {
          "name": "#%% md\n"
        }
      },
      "source": [
        "Prepare the payload for prediction. The payload contains the input records for which predictions has to be performed."
      ]
    },
    {
      "cell_type": "code",
      "execution_count": 38,
      "metadata": {
        "pycharm": {
          "name": "#%%\n"
        }
      },
      "outputs": [],
      "source": [
        "scoring_payload = {\n",
        "    \"input_data\": [{\"fields\": [\"time\", \"humidity\"], \"values\": [[79863, 47]]}]\n",
        "}"
      ]
    },
    {
      "cell_type": "markdown",
      "metadata": {
        "pycharm": {
          "name": "#%% md\n"
        }
      },
      "source": [
        "Execute the method to perform online predictions and display the prediction results"
      ]
    },
    {
      "cell_type": "code",
      "execution_count": 39,
      "metadata": {
        "pycharm": {
          "name": "#%%\n"
        }
      },
      "outputs": [],
      "source": [
        "predictions = client.deployments.score(deployment_id, scoring_payload)"
      ]
    },
    {
      "cell_type": "code",
      "execution_count": 40,
      "metadata": {
        "pycharm": {
          "name": "#%%\n"
        }
      },
      "outputs": [
        {
          "name": "stdout",
          "output_type": "stream",
          "text": [
            "{\n",
            "  \"predictions\": [\n",
            "    {\n",
            "      \"fields\": [\n",
            "        \"prediction\"\n",
            "      ],\n",
            "      \"values\": [\n",
            "        [\n",
            "          14.629242312262988\n",
            "        ]\n",
            "      ]\n",
            "    }\n",
            "  ]\n",
            "}\n"
          ]
        }
      ],
      "source": [
        "print(json.dumps(predictions, indent=2))"
      ]
    },
    {
      "cell_type": "markdown",
      "metadata": {
        "pycharm": {
          "name": "#%% md\n"
        }
      },
      "source": [
        "<a id=\"cleanup\"></a>\n",
        "## 7. Clean up "
      ]
    },
    {
      "cell_type": "markdown",
      "metadata": {
        "pycharm": {
          "name": "#%% md\n"
        }
      },
      "source": [
        "If you want to clean up all created assets:\n",
        "- experiments\n",
        "- trainings\n",
        "- pipelines\n",
        "- model definitions\n",
        "- models\n",
        "- functions\n",
        "- deployments\n",
        "\n",
        "please follow up this sample [notebook](https://github.com/IBM/watsonx-ai-samples/blob/master/cpd5.2/notebooks/python_sdk/instance-management/Machine%20Learning%20artifacts%20management.ipynb)."
      ]
    },
    {
      "cell_type": "markdown",
      "metadata": {
        "pycharm": {
          "name": "#%% md\n"
        }
      },
      "source": [
        "<a id=\"summary\"></a>\n",
        "\n",
        "## 8. Summary\n",
        "\n",
        "You successfully completed this notebook! \n",
        " \n",
        "You learned how to use a scikit-learn model with custom transformer in watsonx.ai Runtime service to deploy and score.\n",
        "\n",
        "Check out our _<a href=\"https://ibm.github.io/watsonx-ai-python-sdk/samples.html\" target=\"_blank\" rel=\"noopener no referrer\">Online Documentation</a>_ for more samples, tutorials, documentation, how-tos, and blog posts. "
      ]
    },
    {
      "cell_type": "markdown",
      "metadata": {
        "pycharm": {
          "name": "#%% md\n"
        }
      },
      "source": [
        "## Author\n",
        "\n",
        "**Krishnamurthy Arthanarisamy**, is a senior technical lead in IBM watsonx.ai team. Krishna works on developing cloud services that caters to different stages of machine learning and deep learning modeling life cycle.\n",
        "\n",
        "**Lukasz Cmielowski**, PhD, is a Software Architect and Data Scientist at IBM."
      ]
    },
    {
      "cell_type": "markdown",
      "metadata": {
        "pycharm": {
          "name": "#%% md\n"
        }
      },
      "source": [
        "Copyright © 2020-2025 IBM. This notebook and its source code are released under the terms of the MIT License."
      ]
    }
  ],
  "metadata": {
    "kernelspec": {
      "display_name": "watsonx-ai-samples-py-312-throwaway",
      "language": "python",
      "name": "python3"
    },
    "language_info": {
      "codemirror_mode": {
        "name": "ipython",
        "version": 3
      },
      "file_extension": ".py",
      "mimetype": "text/x-python",
      "name": "python",
      "nbconvert_exporter": "python",
      "pygments_lexer": "ipython3",
      "version": "3.12.9"
    }
  },
  "nbformat": 4,
  "nbformat_minor": 4
}

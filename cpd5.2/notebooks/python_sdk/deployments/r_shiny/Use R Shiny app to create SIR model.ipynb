{
  "cells": [
    {
      "cell_type": "markdown",
      "id": "spare-booking",
      "metadata": {},
      "source": [
        "# Use R Shiny app to create SIR model with `ibm-watsonx-ai`\n",
        "\n",
        "This notebook contains steps and code to demonstrate support of external R Shiny application code with [ibm-watsonx-ai](https://pypi.python.org/pypi/ibm-watsonx-ai) library available in PyPI repository. \n",
        "\n",
        "Some familiarity with Python is helpful. This notebook uses Python 3.12."
      ]
    },
    {
      "cell_type": "markdown",
      "id": "instrumental-utility",
      "metadata": {},
      "source": [
        "## Learning goals\n",
        "\n",
        "The learning goals of this notebook are:\n",
        "\n",
        "-  Persist a R Shiny app in in watsonx.ai repository.\n",
        "-  Deploy application for online scoring using client library.\n",
        "-  Score sample records using client library.\n",
        "\n",
        "\n",
        "## Contents\n",
        "\n",
        "This notebook contains the following parts:\n",
        "\n",
        "1. [Setup](#setup)\n",
        "2. [Application upload](#upload)\n",
        "3. [Web service creation](#deploy)\n",
        "4. [Clean up](#cleanup)\n",
        "5. [Summary and next steps](#summary)"
      ]
    },
    {
      "cell_type": "markdown",
      "id": "fifty-investment",
      "metadata": {},
      "source": [
        "<a id=\"setup\"></a>\n",
        "## 1. Set up the environment\n",
        "\n",
        "Before you use the sample code in this notebook, you must perform the following setup tasks:\n",
        "\n",
        "-  Contact with your Cloud Pak for Data administrator and ask them for your account credentials"
      ]
    },
    {
      "cell_type": "markdown",
      "id": "1d479e20",
      "metadata": {},
      "source": [
        "### Install dependencies\n",
        "**Note:** `ibm-watsonx-ai` documentation can be found <a href=\"https://ibm.github.io/watsonx-ai-python-sdk/index.html\" target=\"_blank\" rel=\"noopener no referrer\">here</a>."
      ]
    },
    {
      "cell_type": "code",
      "execution_count": 1,
      "id": "da898c08",
      "metadata": {},
      "outputs": [
        {
          "name": "stdout",
          "output_type": "stream",
          "text": [
            "Successfully installed wget-3.2\n",
            "\u001b[1A\u001b[2KSuccessfully installed anyio-4.9.0 certifi-2025.4.26 charset-normalizer-3.4.2 h11-0.16.0 httpcore-1.0.9 httpx-0.28.1 ibm-cos-sdk-2.14.1 ibm-cos-sdk-core-2.14.1 ibm-cos-sdk-s3transfer-2.14.1 ibm-watsonx-ai-1.3.13 idna-3.10 jmespath-1.0.1 lomond-0.3.3 numpy-2.2.5 pandas-2.2.3 pytz-2025.2 requests-2.32.2 sniffio-1.3.1 tabulate-0.9.0 typing_extensions-4.13.2 tzdata-2025.2 urllib3-2.4.0\n"
          ]
        }
      ],
      "source": [
        "%pip install -U wget | tail -n 1\n",
        "%pip install -U ibm-watsonx-ai | tail -n 1"
      ]
    },
    {
      "cell_type": "markdown",
      "id": "southwest-institution",
      "metadata": {},
      "source": [
        "#### Define credentials\n",
        "\n",
        "Authenticate the watsonx.ai Runtime service on IBM Cloud Pak for Data. You need to provide the **admin's** `username` and the platform `url`."
      ]
    },
    {
      "cell_type": "code",
      "execution_count": null,
      "id": "absent-nickel",
      "metadata": {},
      "outputs": [],
      "source": [
        "username = \"PASTE YOUR USERNAME HERE\"\n",
        "url = \"PASTE THE PLATFORM URL HERE\""
      ]
    },
    {
      "cell_type": "markdown",
      "id": "dc76f077",
      "metadata": {},
      "source": [
        "Use the **admin's** `api_key` to authenticate watsonx.ai Runtime services:"
      ]
    },
    {
      "cell_type": "code",
      "execution_count": null,
      "id": "e5bbe51a",
      "metadata": {},
      "outputs": [],
      "source": [
        "import getpass\n",
        "from ibm_watsonx_ai import Credentials\n",
        "\n",
        "credentials = Credentials(\n",
        "    username=username,\n",
        "    api_key=getpass.getpass(\"Enter your watsonx.ai API key and hit enter: \"),\n",
        "    url=url,\n",
        "    instance_id=\"openshift\",\n",
        "    version=\"5.2\",\n",
        ")"
      ]
    },
    {
      "cell_type": "markdown",
      "id": "dddea8fe",
      "metadata": {},
      "source": [
        "Alternatively you can use the **admin's** `password`:"
      ]
    },
    {
      "cell_type": "code",
      "execution_count": 3,
      "id": "accepted-literature",
      "metadata": {},
      "outputs": [],
      "source": [
        "import getpass\n",
        "from ibm_watsonx_ai import Credentials\n",
        "\n",
        "if \"credentials\" not in locals() or not credentials.api_key:\n",
        "    credentials = Credentials(\n",
        "        username=username,\n",
        "        password=getpass.getpass(\"Enter your watsonx.ai password and hit enter: \"),\n",
        "        url=url,\n",
        "        instance_id=\"openshift\",\n",
        "        version=\"5.2\",\n",
        "    )"
      ]
    },
    {
      "cell_type": "markdown",
      "id": "0410661c",
      "metadata": {},
      "source": [
        "#### Create `APIClient` instance"
      ]
    },
    {
      "cell_type": "code",
      "execution_count": 4,
      "id": "inappropriate-cleanup",
      "metadata": {},
      "outputs": [],
      "source": [
        "from ibm_watsonx_ai import APIClient\n",
        "\n",
        "client = APIClient(credentials)"
      ]
    },
    {
      "cell_type": "markdown",
      "id": "cardiovascular-manor",
      "metadata": {},
      "source": [
        "### Working with spaces\n",
        "\n",
        "First of all, you need to create a space that will be used for your work. If you do not have space already created, you can use `{PLATFORM_URL}/ml-runtime/spaces?context=icp4data` to create one.\n",
        "\n",
        "- Click New Deployment Space\n",
        "- Create an empty space\n",
        "- Go to space `Settings` tab\n",
        "- Copy `space_id` and paste it below\n",
        "\n",
        "**Tip**: You can also use SDK to prepare the space for your work. More information can be found [here](https://github.com/IBM/watsonx-ai-samples/blob/master/cpd5.2/notebooks/python_sdk/instance-management/Space%20management.ipynb).\n",
        "\n",
        "**Action**: Assign space ID below"
      ]
    },
    {
      "cell_type": "code",
      "execution_count": null,
      "id": "frequent-pavilion",
      "metadata": {},
      "outputs": [],
      "source": [
        "space_id = \"PASTE YOUR SPACE ID HERE\""
      ]
    },
    {
      "cell_type": "markdown",
      "id": "warming-wedding",
      "metadata": {},
      "source": [
        "You can use `list` method to print all existing spaces."
      ]
    },
    {
      "cell_type": "code",
      "execution_count": null,
      "id": "greek-ivory",
      "metadata": {},
      "outputs": [],
      "source": [
        "client.spaces.list(limit=10)"
      ]
    },
    {
      "cell_type": "markdown",
      "id": "protective-sudan",
      "metadata": {},
      "source": [
        "To be able to interact with all resources available in Watson Machine Learning, you need to set **space** which you will be using."
      ]
    },
    {
      "cell_type": "code",
      "execution_count": 6,
      "id": "favorite-bronze",
      "metadata": {},
      "outputs": [
        {
          "data": {
            "text/plain": [
              "'SUCCESS'"
            ]
          },
          "execution_count": 6,
          "metadata": {},
          "output_type": "execute_result"
        }
      ],
      "source": [
        "client.set.default_space(space_id)"
      ]
    },
    {
      "cell_type": "markdown",
      "id": "attempted-speaking",
      "metadata": {},
      "source": [
        "<a id=\"upload\"></a>\n",
        "## 2. Application upload\n",
        "\n",
        "In this section you will learn how to store downloaded application as an asset."
      ]
    },
    {
      "cell_type": "markdown",
      "id": "filled-david",
      "metadata": {},
      "source": [
        "#### Download an R Shiny app"
      ]
    },
    {
      "cell_type": "code",
      "execution_count": null,
      "id": "tight-lawyer",
      "metadata": {},
      "outputs": [],
      "source": [
        "import os\n",
        "import wget\n",
        "\n",
        "filename = \"app.R.zip\"\n",
        "url = \"https://github.com/IBM/watsonx-ai-samples/raw/master/cpd5.2/models/r_shiny/app.R.zip\"\n",
        "if not os.path.isfile(filename):\n",
        "    filename = wget.download(url)"
      ]
    },
    {
      "cell_type": "markdown",
      "id": "naked-algebra",
      "metadata": {},
      "source": [
        "#### Upload application as data asset"
      ]
    },
    {
      "cell_type": "code",
      "execution_count": 8,
      "id": "still-computer",
      "metadata": {},
      "outputs": [
        {
          "name": "stdout",
          "output_type": "stream",
          "text": [
            "Creating Shiny asset...\n",
            "SUCCESS\n"
          ]
        }
      ],
      "source": [
        "shiny_details = client.shiny.store(\n",
        "    meta_props={\n",
        "        client.shiny.ConfigurationMetaNames.NAME: \"R Shiny app - SIR\",\n",
        "    },\n",
        "    file_path=filename,\n",
        ")\n",
        "shiny_asset_id = client.shiny.get_id(shiny_details)"
      ]
    },
    {
      "cell_type": "markdown",
      "id": "wrapped-fashion",
      "metadata": {},
      "source": [
        "You can now see that the application is saved in watsonx.ai"
      ]
    },
    {
      "cell_type": "code",
      "execution_count": 9,
      "id": "ordinary-bloom",
      "metadata": {},
      "outputs": [
        {
          "data": {
            "text/html": [
              "<div>\n",
              "<style scoped>\n",
              "    .dataframe tbody tr th:only-of-type {\n",
              "        vertical-align: middle;\n",
              "    }\n",
              "\n",
              "    .dataframe tbody tr th {\n",
              "        vertical-align: top;\n",
              "    }\n",
              "\n",
              "    .dataframe thead th {\n",
              "        text-align: right;\n",
              "    }\n",
              "</style>\n",
              "<table border=\"1\" class=\"dataframe\">\n",
              "  <thead>\n",
              "    <tr style=\"text-align: right;\">\n",
              "      <th></th>\n",
              "      <th>NAME</th>\n",
              "      <th>ASSET_TYPE</th>\n",
              "      <th>ASSET_ID</th>\n",
              "    </tr>\n",
              "  </thead>\n",
              "  <tbody>\n",
              "    <tr>\n",
              "      <th>0</th>\n",
              "      <td>R Shiny app - SIR</td>\n",
              "      <td>shiny_asset</td>\n",
              "      <td>dd053eb9-b8fc-4e98-9fad-3bae97f8fc37</td>\n",
              "    </tr>\n",
              "  </tbody>\n",
              "</table>\n",
              "</div>"
            ],
            "text/plain": [
              "                NAME   ASSET_TYPE                              ASSET_ID\n",
              "0  R Shiny app - SIR  shiny_asset  dd053eb9-b8fc-4e98-9fad-3bae97f8fc37"
            ]
          },
          "execution_count": 9,
          "metadata": {},
          "output_type": "execute_result"
        }
      ],
      "source": [
        "client.shiny.list(limit=5)"
      ]
    },
    {
      "cell_type": "markdown",
      "id": "found-responsibility",
      "metadata": {},
      "source": [
        "<a id=\"deploy\"></a>\n",
        "## 3. Create online deployment\n",
        "You can use commands bellow to create online deployment for stored application (web service)."
      ]
    },
    {
      "cell_type": "code",
      "execution_count": 10,
      "id": "disabled-virginia",
      "metadata": {},
      "outputs": [
        {
          "name": "stdout",
          "output_type": "stream",
          "text": [
            "\n",
            "\n",
            "######################################################################################\n",
            "\n",
            "Synchronous deployment creation for id: 'dd053eb9-b8fc-4e98-9fad-3bae97f8fc37' started\n",
            "\n",
            "######################################################################################\n",
            "\n",
            "\n",
            "initializing\n",
            "Note: rshiny_url is deprecated and will be removed in a future release. Use serving_urls instead.\n",
            ".........\n",
            "ready\n",
            "\n",
            "\n",
            "-----------------------------------------------------------------------------------------------\n",
            "Successfully finished deployment creation, deployment_id='145cf352-3d40-40f5-a460-adb6a1a4ac4c'\n",
            "-----------------------------------------------------------------------------------------------\n",
            "\n",
            "\n"
          ]
        }
      ],
      "source": [
        "deployment = client.deployments.create(\n",
        "    artifact_id=shiny_asset_id,\n",
        "    meta_props={\n",
        "        client.deployments.ConfigurationMetaNames.NAME: \"Deployment R Shiny's SIR\",\n",
        "        client.deployments.ConfigurationMetaNames.R_SHINY: {\n",
        "            \"authentication\": \"anyone_with_url\"\n",
        "        },\n",
        "        client.deployments.ConfigurationMetaNames.HARDWARE_SPEC: {\n",
        "            \"name\": \"S\",\n",
        "            \"num_nodes\": 1,\n",
        "        },\n",
        "    },\n",
        ")"
      ]
    },
    {
      "cell_type": "markdown",
      "id": "applied-wealth",
      "metadata": {},
      "source": [
        "#### Get deployments details"
      ]
    },
    {
      "cell_type": "code",
      "execution_count": null,
      "id": "engaging-validity",
      "metadata": {},
      "outputs": [],
      "source": [
        "deployment_id = client.deployments.get_id(deployment)\n",
        "client.deployments.get_details(deployment_id)"
      ]
    },
    {
      "cell_type": "markdown",
      "id": "affected-beginning",
      "metadata": {},
      "source": [
        "<a id=\"cleanup\"></a>\n",
        "## 4. Clean up "
      ]
    },
    {
      "cell_type": "markdown",
      "id": "abroad-holder",
      "metadata": {},
      "source": [
        "If you want to clean up all created assets:\n",
        "- experiments\n",
        "- trainings\n",
        "- pipelines\n",
        "- model definitions\n",
        "- models\n",
        "- functions\n",
        "- deployments\n",
        "\n",
        "please follow up this sample [notebook](https://github.com/IBM/watsonx-ai-samples/blob/master/cpd5.2/notebooks/python_sdk/instance-management/Machine%20Learning%20artifacts%20management.ipynb)."
      ]
    },
    {
      "cell_type": "markdown",
      "id": "marked-dispute",
      "metadata": {},
      "source": [
        "<a id=\"summary\"></a>\n",
        "## 5. Summary and next steps     "
      ]
    },
    {
      "cell_type": "markdown",
      "id": "starting-agriculture",
      "metadata": {},
      "source": [
        "You successfully completed this notebook! You learned how to use Watson Machine Learning for SPSS model deployment and scoring. \n",
        " \n",
        "Check out our _<a href=\"https://ibm.github.io/watsonx-ai-python-sdk/samples.html\" target=\"_blank\" rel=\"noopener no referrer\">Online Documentation</a>_ for more samples, tutorials, documentation, how-tos, and blog posts. "
      ]
    },
    {
      "cell_type": "markdown",
      "id": "thrown-trademark",
      "metadata": {},
      "source": [
        "### Author\n",
        "\n",
        "**Mateusz Szewczyk**, Software Engineer at watsonx.ai."
      ]
    },
    {
      "cell_type": "markdown",
      "id": "knowing-drive",
      "metadata": {},
      "source": [
        "Copyright © 2020-2025 IBM. This notebook and its source code are released under the terms of the MIT License."
      ]
    }
  ],
  "metadata": {
    "kernelspec": {
      "display_name": "watsonx-ai-samples-py-312",
      "language": "python",
      "name": "python3"
    },
    "language_info": {
      "codemirror_mode": {
        "name": "ipython",
        "version": 3
      },
      "file_extension": ".py",
      "mimetype": "text/x-python",
      "name": "python",
      "nbconvert_exporter": "python",
      "pygments_lexer": "ipython3",
      "version": "3.12.9"
    }
  },
  "nbformat": 4,
  "nbformat_minor": 5
}

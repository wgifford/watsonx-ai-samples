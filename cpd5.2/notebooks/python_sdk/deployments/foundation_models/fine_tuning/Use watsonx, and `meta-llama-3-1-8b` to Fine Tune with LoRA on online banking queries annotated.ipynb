{
 "cells": [
  {
   "cell_type": "markdown",
   "metadata": {},
   "source": [
    "![image](https://raw.githubusercontent.com/IBM/watsonx-ai-samples/master/cloud/notebooks/headers/watsonx-Prompt_Lab-Notebook.png)\n",
    "# Use watsonx, and `meta-llama/llama-3-1-8b` to Fine Tune with LoRA on online banking queries annotated"
   ]
  },
  {
   "cell_type": "markdown",
   "metadata": {},
   "source": [
    "#### Disclaimers\n",
    "\n",
    "- Use only Projects and Spaces that are available in watsonx context.\n",
    "\n",
    "\n",
    "## Notebook content\n",
    "\n",
    "This notebook contains the steps and code to demonstrate support of LoRA Fine Tuning in watsonx.\n",
    "\n",
    "Some familiarity with Python is helpful. This notebook uses Python 3.12.\n",
    "\n",
    "\n",
    "## Learning goal\n",
    "\n",
    "The goal of this notebook is to demonstrate how to:\n",
    "- upload of dataset with prompts\n",
    "- trigger fine tuning process\n",
    "- review of fine tuning process details\n",
    "- deploy fine-tuned model\n",
    "- inference of fine-tuned model\n",
    "- compare with base model\n",
    "\n",
    "\n",
    "## Contents\n",
    "\n",
    "This notebook contains the following parts:\n",
    "\n",
    "- [Setup](#setup)\n",
    "- [Data loading](#data_loading)\n",
    "- [Initialize experiment](#initialize)\n",
    "- [Run Fine Tuning](#run_tuning)\n",
    "- [Fine Tuning details](#run_details)\n",
    "- [Deploy Tuned Model](#deploy)\n",
    "- [Preparing data for testing process](#test_data)\n",
    "- [Foundation Models Inference on `watsonx.ai`](#models_inference)\n",
    "- [Deploy Base Model](#deploy_base)\n",
    "- [Comparison of prediction results](#comparison)\n",
    "- [Clean up](#cleanup)\n",
    "- [Summary and next steps](#summary)\n"
   ]
  },
  {
   "cell_type": "markdown",
   "metadata": {},
   "source": [
    "<a id=\"setup\"></a>\n",
    "## Set up the environment\n",
    "\n",
    "Before you use the sample code in this notebook, you must perform the following setup tasks:\n",
    "\n",
    "-  Contact with your Cloud Pak for Data administrator and ask them for your account credentials"
   ]
  },
  {
   "cell_type": "markdown",
   "metadata": {},
   "source": [
    "### Install dependencies"
   ]
  },
  {
   "cell_type": "code",
   "execution_count": null,
   "metadata": {},
   "outputs": [],
   "source": [
    "%pip install wget | tail -n 1\n",
    "%pip install -U ibm-watsonx-ai | tail -n 1\n",
    "%pip install \"scikit-learn==1.6.1\" | tail -n 1"
   ]
  },
  {
   "cell_type": "markdown",
   "metadata": {},
   "source": [
    "#### Define credentials\n",
    "\n",
    "Authenticate the watsonx.ai Runtime service on IBM Cloud Pak for Data. You need to provide the **admin's** `username` and the platform `url`."
   ]
  },
  {
   "cell_type": "code",
   "execution_count": null,
   "metadata": {},
   "outputs": [],
   "source": [
    "username = \"PASTE YOUR USERNAME HERE\"\n",
    "url = \"PASTE THE PLATFORM URL HERE\""
   ]
  },
  {
   "cell_type": "markdown",
   "metadata": {},
   "source": [
    "Use the **admin's** `api_key` to authenticate watsonx.ai Runtime services:"
   ]
  },
  {
   "cell_type": "code",
   "execution_count": null,
   "metadata": {},
   "outputs": [],
   "source": [
    "import getpass\n",
    "from ibm_watsonx_ai import Credentials\n",
    "\n",
    "credentials = Credentials(\n",
    "    username=username,\n",
    "    api_key=getpass.getpass(\"Enter your watsonx.ai API key and hit enter: \"),\n",
    "    url=url,\n",
    "    instance_id=\"openshift\",\n",
    "    version=\"5.2\",\n",
    ")"
   ]
  },
  {
   "cell_type": "markdown",
   "metadata": {},
   "source": [
    "Alternatively you can use the **admin's** `password`:"
   ]
  },
  {
   "cell_type": "code",
   "execution_count": null,
   "metadata": {},
   "outputs": [],
   "source": [
    "import getpass\n",
    "from ibm_watsonx_ai import Credentials\n",
    "\n",
    "if \"credentials\" not in locals() or not credentials.api_key:\n",
    "    credentials = Credentials(\n",
    "        username=username,\n",
    "        password=getpass.getpass(\"Enter your watsonx.ai password and hit enter: \"),\n",
    "        url=url,\n",
    "        instance_id=\"openshift\",\n",
    "        version=\"5.2\",\n",
    "    )"
   ]
  },
  {
   "cell_type": "markdown",
   "metadata": {},
   "source": [
    "### Working with projects\n",
    "\n",
    "First of all, you need to create a project that will be used for your work. If you do not have a project created already, follow the steps below:\n",
    "\n",
    "- Open IBM Cloud Pak main page\n",
    "- Click all projects\n",
    "- Create an empty project\n",
    "- Copy `project_id` from url and paste it below\n",
    "\n",
    "**Action**: Assign project ID below"
   ]
  },
  {
   "cell_type": "code",
   "execution_count": null,
   "metadata": {},
   "outputs": [],
   "source": [
    "import os\n",
    "\n",
    "try:\n",
    "    project_id = os.environ[\"PROJECT_ID\"]\n",
    "except KeyError:\n",
    "    project_id = input(\"Please enter your project_id (hit enter): \")"
   ]
  },
  {
   "cell_type": "markdown",
   "metadata": {},
   "source": [
    "#### Create `APIClient` instance"
   ]
  },
  {
   "cell_type": "code",
   "execution_count": null,
   "metadata": {},
   "outputs": [],
   "source": [
    "from ibm_watsonx_ai import APIClient\n",
    "\n",
    "client = APIClient(credentials, project_id)"
   ]
  },
  {
   "cell_type": "markdown",
   "metadata": {},
   "source": [
    "<a id=\"data_loading\"></a>\n",
    "## Preparing data for Fine Tuning training process\n",
    "\n",
    "This example uses the <a href=\"https://huggingface.co/datasets/PolyAI/banking77\" target=\"_blank\" rel=\"noopener no referrer\">Banking77</a> training dataset with 200 samples. "
   ]
  },
  {
   "cell_type": "code",
   "execution_count": null,
   "metadata": {},
   "outputs": [],
   "source": [
    "import wget\n",
    "import json\n",
    "import pandas as pd\n",
    "from pathlib import Path\n",
    "\n",
    "filename = \"train.csv\"\n",
    "base_url = \"https://raw.githubusercontent.com/PolyAI-LDN/task-specific-datasets/master/banking_data/\"\n",
    "\n",
    "path = Path.cwd() / filename\n",
    "if path.exists():\n",
    "    path.unlink()\n",
    "wget.download(f\"{base_url}{filename}\")\n",
    "\n",
    "banking_df = pd.read_csv(\"train.csv\").sample(n=200, random_state=42)\n",
    "\n",
    "data = [\n",
    "    {\"input\": row[\"text\"], \"output\": row[\"category\"]}\n",
    "    for _, row in banking_df.iterrows()\n",
    "]\n",
    "\n",
    "ft_training_data = \"ft_training_data.json\"\n",
    "with open(ft_training_data, \"w\", encoding=\"utf-8\") as json_file:\n",
    "    json.dump(data, json_file, indent=4, ensure_ascii=False)"
   ]
  },
  {
   "cell_type": "markdown",
   "metadata": {},
   "source": [
    "To create a data asset for your project, execute the cell below. The asset will be utilized in the Fine-Tuning training process."
   ]
  },
  {
   "cell_type": "code",
   "execution_count": null,
   "metadata": {},
   "outputs": [
    {
     "name": "stdout",
     "output_type": "stream",
     "text": [
      "Creating data asset...\n",
      "SUCCESS\n"
     ]
    }
   ],
   "source": [
    "asset_details = client.data_assets.create(\n",
    "    name=ft_training_data, file_path=ft_training_data\n",
    ")\n",
    "asset_id = client.data_assets.get_id(asset_details)"
   ]
  },
  {
   "cell_type": "markdown",
   "metadata": {},
   "source": [
    "Define connection information to training data."
   ]
  },
  {
   "cell_type": "code",
   "execution_count": 8,
   "metadata": {},
   "outputs": [],
   "source": [
    "from ibm_watsonx_ai.helpers import DataConnection\n",
    "from ibm_watsonx_ai.helpers.connections.base_connection import BaseConnection\n",
    "\n",
    "data_conn = DataConnection(data_asset_id=asset_id, connection=BaseConnection())"
   ]
  },
  {
   "cell_type": "markdown",
   "metadata": {},
   "source": [
    "<a id=\"initialize\"></a>\n",
    "## Initialize Fine Tuning experiment "
   ]
  },
  {
   "cell_type": "code",
   "execution_count": 9,
   "metadata": {},
   "outputs": [],
   "source": [
    "from ibm_watsonx_ai.experiment import TuneExperiment\n",
    "\n",
    "experiment = TuneExperiment(credentials, project_id=project_id)"
   ]
  },
  {
   "cell_type": "markdown",
   "metadata": {},
   "source": [
    "To display all available foundation models with LoRA fine tuning support, execute the cell below."
   ]
  },
  {
   "cell_type": "code",
   "execution_count": null,
   "metadata": {},
   "outputs": [
    {
     "data": {
      "text/plain": [
       "['ibm/granite-3-1-8b-base', 'meta-llama/llama-3-1-8b']"
      ]
     },
     "execution_count": 10,
     "metadata": {},
     "output_type": "execute_result"
    }
   ],
   "source": [
    "[\n",
    "    model[\"model_id\"]\n",
    "    for model in client.foundation_models.get_model_specs_with_lora_fine_tuning_support().get(\n",
    "        \"resources\"\n",
    "    )\n",
    "]"
   ]
  },
  {
   "cell_type": "markdown",
   "metadata": {},
   "source": [
    "Define `fine_tuner` parameters with set `peft_parameters`."
   ]
  },
  {
   "cell_type": "code",
   "execution_count": null,
   "metadata": {},
   "outputs": [],
   "source": [
    "from ibm_watsonx_ai.foundation_models.schema import PeftParameters\n",
    "\n",
    "peft_parameters = PeftParameters(\n",
    "    type=\"lora\",\n",
    "    rank=32,\n",
    "    lora_alpha=64,\n",
    ")\n",
    "\n",
    "fine_tuner = experiment.fine_tuner(\n",
    "    name=\"IBM watsonx.ai SDK - Fine Tune with LoRA\",\n",
    "    description=\"IBM watsonx.ai SDK - Fine Tune with LoRA\",\n",
    "    base_model=\"meta-llama/llama-3-1-8b\",\n",
    "    task_id=\"classification\",\n",
    "    num_epochs=5,\n",
    "    learning_rate=5e-05,\n",
    "    batch_size=2,\n",
    "    accumulate_steps=4,\n",
    "    verbalizer=\"### Instruction:\\nClassify the text into one of the following categories: activate my card, age limit, apple pay or google pay, atm support, automatic top up, balance not updated after bank transfer, balance not updated after cheque or cash deposit, beneficiary not allowed, cancel transfer, card about to expire, card acceptance, card arrival, card delivery estimate, card linking, card not working, card payment fee charged, card payment not recognised, card payment wrong exchange rate, card swallowed, cash withdrawal charge, cash withdrawal not recognised, change pin, compromised card, contactless not working, country support, declined card payment, declined cash withdrawal, declined transfer, direct debit payment not recognised, disposable card limits, edit personal details, exchange charge, exchange rate, exchange via app, extra charge on statement, failed transfer, fiat currency support, get disposable virtual card, get physical card, getting spare card, getting virtual card, lost or stolen card, lost or stolen phone, order physical card, passcode forgotten, pending card payment, pending cash withdrawal, pending top up, pending transfer, pin blocked, receiving money, Refund not showing up, request refund, reverted card payment?, supported cards and currencies, terminate account, top up by bank transfer charge, top up by card charge, top up by cash or cheque, top up failed, top up limits, top up reverted, topping up by card, transaction charged twice, transfer fee charged, transfer into account, transfer not received by recipient, transfer timing, unable to verify identity, verify my identity, verify source of funds, verify top up, virtual card not working, visa or mastercard, why verify identity, wrong amount of cash received, wrong exchange rate for cash withdrawal\\n\\n### Input:\\n{{input}}\\n\\n### Response:\\n{{output}}\",\n",
    "    response_template=\"\\n### Response:\\n\",\n",
    "    auto_update_model=True,\n",
    "    gpu={\"num\": 1},\n",
    "    peft_parameters=peft_parameters,\n",
    ")"
   ]
  },
  {
   "cell_type": "markdown",
   "metadata": {},
   "source": [
    "You can review previous set parameters with `get_params()` method."
   ]
  },
  {
   "cell_type": "code",
   "execution_count": 12,
   "metadata": {},
   "outputs": [
    {
     "data": {
      "text/plain": [
       "{'base_model': {'model_id': 'meta-llama/llama-3-1-8b'},\n",
       " 'task_id': 'classification',\n",
       " 'num_epochs': 5,\n",
       " 'learning_rate': 5e-05,\n",
       " 'batch_size': 2,\n",
       " 'accumulate_steps': 4,\n",
       " 'verbalizer': '### Instruction:\\nClassify the text into one of the following categories: activate my card, age limit, apple pay or google pay, atm support, automatic top up, balance not updated after bank transfer, balance not updated after cheque or cash deposit, beneficiary not allowed, cancel transfer, card about to expire, card acceptance, card arrival, card delivery estimate, card linking, card not working, card payment fee charged, card payment not recognised, card payment wrong exchange rate, card swallowed, cash withdrawal charge, cash withdrawal not recognised, change pin, compromised card, contactless not working, country support, declined card payment, declined cash withdrawal, declined transfer, direct debit payment not recognised, disposable card limits, edit personal details, exchange charge, exchange rate, exchange via app, extra charge on statement, failed transfer, fiat currency support, get disposable virtual card, get physical card, getting spare card, getting virtual card, lost or stolen card, lost or stolen phone, order physical card, passcode forgotten, pending card payment, pending cash withdrawal, pending top up, pending transfer, pin blocked, receiving money, Refund not showing up, request refund, reverted card payment?, supported cards and currencies, terminate account, top up by bank transfer charge, top up by card charge, top up by cash or cheque, top up failed, top up limits, top up reverted, topping up by card, transaction charged twice, transfer fee charged, transfer into account, transfer not received by recipient, transfer timing, unable to verify identity, verify my identity, verify source of funds, verify top up, virtual card not working, visa or mastercard, why verify identity, wrong amount of cash received, wrong exchange rate for cash withdrawal\\n\\n### Input:\\n{{input}}\\n\\n### Response:\\n{{output}}',\n",
       " 'response_template': '\\n### Response:\\n',\n",
       " 'gpu': {'num': 1},\n",
       " 'peft_parameters': {'type': 'lora', 'rank': 32, 'lora_alpha': 64},\n",
       " 'name': 'IBM watsonx.ai SDK - Fine Tune with LoRA',\n",
       " 'description': 'IBM watsonx.ai SDK - Fine Tune with LoRA',\n",
       " 'auto_update_model': True,\n",
       " 'group_by_name': False}"
      ]
     },
     "execution_count": 12,
     "metadata": {},
     "output_type": "execute_result"
    }
   ],
   "source": [
    "fine_tuner.get_params()"
   ]
  },
  {
   "cell_type": "markdown",
   "metadata": {},
   "source": [
    "<a id=\"run_tuning\"></a>\n",
    "## Run Fine Tuning\n",
    "\n",
    "\n",
    "Run a fine tuning process of foundation model on top of the training data referenced by DataConnection (tuning may take some time).\n",
    "\n",
    "\n",
    "By changing the `background_mode` parameter to `True`, the fine tuning process will run in the background."
   ]
  },
  {
   "cell_type": "code",
   "execution_count": null,
   "metadata": {},
   "outputs": [
    {
     "name": "stdout",
     "output_type": "stream",
     "text": [
      "\n",
      "\n",
      "##############################################\n",
      "\n",
      "Running '0ceef09f-95af-442c-9924-5a96d77be84e'\n",
      "\n",
      "##############################################\n",
      "\n",
      "\n",
      "pending......\n",
      "running....................................\n",
      "completed\n",
      "Training of '0ceef09f-95af-442c-9924-5a96d77be84e' finished successfully.\n"
     ]
    }
   ],
   "source": [
    "tuning_details = fine_tuner.run(\n",
    "    training_data_references=[data_conn], background_mode=False\n",
    ")"
   ]
  },
  {
   "cell_type": "markdown",
   "metadata": {},
   "source": [
    "<a id=\"run_details\"></a>\n",
    "## LoRA Fine Tuning details\n",
    "\n",
    "\n",
    "Check the status/state of the initialized LoRA Fine-Tuning run if it was run in background mode, or when the process finishes if background mode is off."
   ]
  },
  {
   "cell_type": "code",
   "execution_count": 14,
   "metadata": {},
   "outputs": [
    {
     "data": {
      "text/plain": [
       "'completed'"
      ]
     },
     "execution_count": 14,
     "metadata": {},
     "output_type": "execute_result"
    }
   ],
   "source": [
    "fine_tuner.get_run_status()"
   ]
  },
  {
   "cell_type": "markdown",
   "metadata": {},
   "source": [
    "Get fine tuning run details."
   ]
  },
  {
   "cell_type": "code",
   "execution_count": 15,
   "metadata": {},
   "outputs": [
    {
     "data": {
      "text/plain": [
       "{'entity': {'auto_update_model': True,\n",
       "  'parameters': {'accumulate_steps': 4,\n",
       "   'base_model': {'model_id': 'meta-llama/llama-3-1-8b'},\n",
       "   'batch_size': 2,\n",
       "   'gpu': {'num': 1},\n",
       "   'gradient_checkpointing': True,\n",
       "   'learning_rate': 5e-05,\n",
       "   'max_seq_length': 1024,\n",
       "   'num_epochs': 5,\n",
       "   'peft_parameters': {'lora_alpha': 64,\n",
       "    'lora_dropout': 0.05,\n",
       "    'rank': 32,\n",
       "    'target_modules': [],\n",
       "    'type': 'lora'},\n",
       "   'response_template': '\\n### Response:\\n',\n",
       "   'task_id': 'classification',\n",
       "   'verbalizer': '### Instruction:\\nClassify the text into one of the following categories: activate my card, age limit, apple pay or google pay, atm support, automatic top up, balance not updated after bank transfer, balance not updated after cheque or cash deposit, beneficiary not allowed, cancel transfer, card about to expire, card acceptance, card arrival, card delivery estimate, card linking, card not working, card payment fee charged, card payment not recognised, card payment wrong exchange rate, card swallowed, cash withdrawal charge, cash withdrawal not recognised, change pin, compromised card, contactless not working, country support, declined card payment, declined cash withdrawal, declined transfer, direct debit payment not recognised, disposable card limits, edit personal details, exchange charge, exchange rate, exchange via app, extra charge on statement, failed transfer, fiat currency support, get disposable virtual card, get physical card, getting spare card, getting virtual card, lost or stolen card, lost or stolen phone, order physical card, passcode forgotten, pending card payment, pending cash withdrawal, pending top up, pending transfer, pin blocked, receiving money, Refund not showing up, request refund, reverted card payment?, supported cards and currencies, terminate account, top up by bank transfer charge, top up by card charge, top up by cash or cheque, top up failed, top up limits, top up reverted, topping up by card, transaction charged twice, transfer fee charged, transfer into account, transfer not received by recipient, transfer timing, unable to verify identity, verify my identity, verify source of funds, verify top up, virtual card not working, visa or mastercard, why verify identity, wrong amount of cash received, wrong exchange rate for cash withdrawal\\n\\n### Input:\\n{{input}}\\n\\n### Response:\\n{{output}}'},\n",
       "  'results_reference': {'location': {'path': '/projects/2b619ec9-db74-40d8-a203-4d3a6bf8d20f/assets/wx_fine_tune',\n",
       "    'notebooks_path': '/projects/2b619ec9-db74-40d8-a203-4d3a6bf8d20f/assets/wx_fine_tune/0ceef09f-95af-442c-9924-5a96d77be84e/notebooks',\n",
       "    'training': '/projects/2b619ec9-db74-40d8-a203-4d3a6bf8d20f/assets/wx_fine_tune/0ceef09f-95af-442c-9924-5a96d77be84e',\n",
       "    'training_status': '/projects/2b619ec9-db74-40d8-a203-4d3a6bf8d20f/assets/wx_fine_tune/0ceef09f-95af-442c-9924-5a96d77be84e/training-status.json',\n",
       "    'model_request_path': '/projects/2b619ec9-db74-40d8-a203-4d3a6bf8d20f/assets/wx_fine_tune/0ceef09f-95af-442c-9924-5a96d77be84e/assets/0ceef09f-95af-442c-9924-5a96d77be84e/resources/wml_model/request.json',\n",
       "    'assets_path': '/projects/2b619ec9-db74-40d8-a203-4d3a6bf8d20f/assets/wx_fine_tune/0ceef09f-95af-442c-9924-5a96d77be84e/assets'},\n",
       "   'type': 'fs'},\n",
       "  'status': {'completed_at': '2025-03-20T07:29:58.133Z',\n",
       "   'running_at': '2025-03-20T07:26:14.814Z',\n",
       "   'state': 'completed'},\n",
       "  'training_data_references': [{'connection': {},\n",
       "    'location': {'href': '/v2/assets/108d7776-532a-4883-8fb0-cf984af4c3ef',\n",
       "     'id': '108d7776-532a-4883-8fb0-cf984af4c3ef'},\n",
       "    'type': 'data_asset'}],\n",
       "  'tuned_model': {'id': 'dcdd638a-87d9-497f-aab1-6c494252e254',\n",
       "   'name': 'model-0ceef09f-95af-442c-9924-5a96d77be84e'}},\n",
       " 'metadata': {'created_at': '2025-03-20T07:25:32.859Z',\n",
       "  'description': 'IBM watsonx.ai SDK - Fine Tune with LoRA',\n",
       "  'id': '0ceef09f-95af-442c-9924-5a96d77be84e',\n",
       "  'modified_at': '2025-03-20T07:29:58.143Z',\n",
       "  'name': 'IBM watsonx.ai SDK - Fine Tune with LoRA',\n",
       "  'project_id': '2b619ec9-db74-40d8-a203-4d3a6bf8d20f'}}"
      ]
     },
     "execution_count": 15,
     "metadata": {},
     "output_type": "execute_result"
    }
   ],
   "source": [
    "fine_tuner.get_run_details()"
   ]
  },
  {
   "cell_type": "markdown",
   "metadata": {},
   "source": [
    "Alternatively you can use `get_run_details()` method with metrics.\n",
    "\n",
    "```python\n",
    "fine_tuner.get_run_details(include_metrics=True)\n",
    "```"
   ]
  },
  {
   "cell_type": "markdown",
   "metadata": {},
   "source": [
    "Let's summarize the run."
   ]
  },
  {
   "cell_type": "code",
   "execution_count": 16,
   "metadata": {},
   "outputs": [
    {
     "data": {
      "text/html": [
       "<div>\n",
       "<style scoped>\n",
       "    .dataframe tbody tr th:only-of-type {\n",
       "        vertical-align: middle;\n",
       "    }\n",
       "\n",
       "    .dataframe tbody tr th {\n",
       "        vertical-align: top;\n",
       "    }\n",
       "\n",
       "    .dataframe thead th {\n",
       "        text-align: right;\n",
       "    }\n",
       "</style>\n",
       "<table border=\"1\" class=\"dataframe\">\n",
       "  <thead>\n",
       "    <tr style=\"text-align: right;\">\n",
       "      <th></th>\n",
       "      <th>Enhancements</th>\n",
       "      <th>Base model</th>\n",
       "      <th>Auto store</th>\n",
       "      <th>Epochs</th>\n",
       "      <th>loss</th>\n",
       "    </tr>\n",
       "    <tr>\n",
       "      <th>Model Name</th>\n",
       "      <th></th>\n",
       "      <th></th>\n",
       "      <th></th>\n",
       "      <th></th>\n",
       "      <th></th>\n",
       "    </tr>\n",
       "  </thead>\n",
       "  <tbody>\n",
       "    <tr>\n",
       "      <th>model_0ceef09f-95af-442c-9924-5a96d77be84e</th>\n",
       "      <td>[fine tuning]</td>\n",
       "      <td>meta-llama/llama-3-1-8b</td>\n",
       "      <td>True</td>\n",
       "      <td>5</td>\n",
       "      <td>0.0552</td>\n",
       "    </tr>\n",
       "  </tbody>\n",
       "</table>\n",
       "</div>"
      ],
      "text/plain": [
       "                                             Enhancements  \\\n",
       "Model Name                                                  \n",
       "model_0ceef09f-95af-442c-9924-5a96d77be84e  [fine tuning]   \n",
       "\n",
       "                                                         Base model  \\\n",
       "Model Name                                                            \n",
       "model_0ceef09f-95af-442c-9924-5a96d77be84e  meta-llama/llama-3-1-8b   \n",
       "\n",
       "                                            Auto store  Epochs    loss  \n",
       "Model Name                                                              \n",
       "model_0ceef09f-95af-442c-9924-5a96d77be84e        True       5  0.0552  "
      ]
     },
     "execution_count": 16,
     "metadata": {},
     "output_type": "execute_result"
    }
   ],
   "source": [
    "fine_tuner.summary()"
   ]
  },
  {
   "cell_type": "markdown",
   "metadata": {},
   "source": [
    "Plot the learning curves to visualize the loss function."
   ]
  },
  {
   "cell_type": "code",
   "execution_count": 17,
   "metadata": {},
   "outputs": [
    {
     "data": {
      "image/png": "[encoded data removed]",
      "text/plain": [
       "<Figure size 1800x400 with 3 Axes>"
      ]
     },
     "metadata": {},
     "output_type": "display_data"
    }
   ],
   "source": [
    "fine_tuner.plot_learning_curve()"
   ]
  },
  {
   "cell_type": "markdown",
   "metadata": {},
   "source": [
    "You can specify `tuned_model_id` from tuning details."
   ]
  },
  {
   "cell_type": "code",
   "execution_count": null,
   "metadata": {},
   "outputs": [
    {
     "data": {
      "text/plain": [
       "'dcdd638a-87d9-497f-aab1-6c494252e254'"
      ]
     },
     "execution_count": 18,
     "metadata": {},
     "output_type": "execute_result"
    }
   ],
   "source": [
    "tuned_model_id = None\n",
    "\n",
    "if \"id\" in tuning_details.get(\"entity\", {}).get(\"tuned_model\", {}):\n",
    "    tuned_model_id = tuning_details[\"entity\"][\"tuned_model\"][\"id\"]\n",
    "tuned_model_id"
   ]
  },
  {
   "cell_type": "markdown",
   "metadata": {},
   "source": [
    "## Create the \"Base Foundation Model Asset\"\n",
    "\n",
    "To display all available base foundation models deployable, execute the cell below."
   ]
  },
  {
   "cell_type": "code",
   "execution_count": null,
   "metadata": {},
   "outputs": [
    {
     "data": {
      "text/plain": [
       "['ibm/granite-3-1-8b-base', 'meta-llama/llama-3-1-8b']"
      ]
     },
     "execution_count": 19,
     "metadata": {},
     "output_type": "execute_result"
    }
   ],
   "source": [
    "[\n",
    "    model[\"model_id\"]\n",
    "    for model in client.foundation_models.get_base_foundation_model_deployable_specs().get(\n",
    "        \"resources\"\n",
    "    )\n",
    "]"
   ]
  },
  {
   "cell_type": "code",
   "execution_count": null,
   "metadata": {},
   "outputs": [],
   "source": [
    "sw_spec_id = client.software_specifications.get_id_by_name(\"watsonx-cfm-caikit-1.1\")\n",
    "\n",
    "metadata = {\n",
    "    client.repository.ModelMetaNames.NAME: \"Base FT model\",\n",
    "    client.repository.ModelMetaNames.SOFTWARE_SPEC_ID: sw_spec_id,\n",
    "    client.repository.ModelMetaNames.TYPE: \"base_foundation_model_1.0\",\n",
    "}"
   ]
  },
  {
   "cell_type": "code",
   "execution_count": null,
   "metadata": {},
   "outputs": [],
   "source": [
    "stored_base_model_details = client.repository.store_model(\n",
    "    model=\"meta-llama/llama-3-1-8b\", meta_props=metadata\n",
    ")"
   ]
  },
  {
   "cell_type": "code",
   "execution_count": 22,
   "metadata": {},
   "outputs": [
    {
     "data": {
      "text/plain": [
       "'1dd33f61-d2e3-4e4f-89e6-01ea56c23958'"
      ]
     },
     "execution_count": 22,
     "metadata": {},
     "output_type": "execute_result"
    }
   ],
   "source": [
    "stored_base_model_asset_id = client.repository.get_model_id(stored_base_model_details)\n",
    "stored_base_model_asset_id"
   ]
  },
  {
   "cell_type": "markdown",
   "metadata": {},
   "source": [
    "## Create the Deployment of \"Base Foundation Model\" using the \"Base Foundation Model Asset\""
   ]
  },
  {
   "cell_type": "code",
   "execution_count": 23,
   "metadata": {},
   "outputs": [],
   "source": [
    "hw_spec_id = client.hardware_specifications.get_id_by_name(\"WX-S\")"
   ]
  },
  {
   "cell_type": "code",
   "execution_count": null,
   "metadata": {},
   "outputs": [
    {
     "name": "stdout",
     "output_type": "stream",
     "text": [
      "\n",
      "\n",
      "######################################################################################\n",
      "\n",
      "Synchronous deployment creation for id: '1dd33f61-d2e3-4e4f-89e6-01ea56c23958' started\n",
      "\n",
      "######################################################################################\n",
      "\n",
      "\n",
      "initializing........................................\n",
      "ready\n",
      "\n",
      "\n",
      "-----------------------------------------------------------------------------------------------\n",
      "Successfully finished deployment creation, deployment_id='db55fe77-8486-44c2-bdf8-6b28055716e1'\n",
      "-----------------------------------------------------------------------------------------------\n",
      "\n",
      "\n"
     ]
    }
   ],
   "source": [
    "from datetime import datetime\n",
    "\n",
    "meta_props = {\n",
    "    client.deployments.ConfigurationMetaNames.NAME: \"FT DEPLOYMENT SDK - project Lora\",\n",
    "    client.deployments.ConfigurationMetaNames.ONLINE: {\n",
    "        \"parameters\": {\n",
    "            \"foundation_model\": {\n",
    "                \"enable_lora\": True,\n",
    "            },\n",
    "        },\n",
    "    },\n",
    "    client.deployments.ConfigurationMetaNames.SERVING_NAME: f\"ft_sdk_deployment_{datetime.now().strftime('%Y_%m_%d_%H%M%S')}\",\n",
    "    client.deployments.ConfigurationMetaNames.HARDWARE_SPEC: {\n",
    "        \"id\": hw_spec_id,\n",
    "        \"num_nodes\": 1,\n",
    "    },\n",
    "}\n",
    "\n",
    "base_model_deployment_details = client.deployments.create(\n",
    "    stored_base_model_asset_id, meta_props\n",
    ")"
   ]
  },
  {
   "cell_type": "markdown",
   "metadata": {},
   "source": [
    "You can specify `base_model_deployment_id` from deployment details."
   ]
  },
  {
   "cell_type": "code",
   "execution_count": null,
   "metadata": {},
   "outputs": [
    {
     "data": {
      "text/plain": [
       "'db55fe77-8486-44c2-bdf8-6b28055716e1'"
      ]
     },
     "execution_count": 25,
     "metadata": {},
     "output_type": "execute_result"
    }
   ],
   "source": [
    "base_model_deployment_id = base_model_deployment_details[\"metadata\"][\"id\"]\n",
    "base_model_deployment_id"
   ]
  },
  {
   "cell_type": "markdown",
   "metadata": {},
   "source": [
    "## Create the \"LoRA/QLoRA deployment\" by providing the \"LoRA/QLoRA base model asset\" and \"Base Foundation Model Deployment ID\""
   ]
  },
  {
   "cell_type": "code",
   "execution_count": null,
   "metadata": {},
   "outputs": [
    {
     "name": "stdout",
     "output_type": "stream",
     "text": [
      "\n",
      "\n",
      "######################################################################################\n",
      "\n",
      "Synchronous deployment creation for id: 'dcdd638a-87d9-497f-aab1-6c494252e254' started\n",
      "\n",
      "######################################################################################\n",
      "\n",
      "\n",
      "initializing......................\n",
      "ready\n",
      "\n",
      "\n",
      "-----------------------------------------------------------------------------------------------\n",
      "Successfully finished deployment creation, deployment_id='e57af40f-e3c7-4b90-886f-68f895f4dec3'\n",
      "-----------------------------------------------------------------------------------------------\n",
      "\n",
      "\n"
     ]
    }
   ],
   "source": [
    "from datetime import datetime\n",
    "\n",
    "meta_props = {\n",
    "    client.deployments.ConfigurationMetaNames.NAME: \"LORA ADAPTER DEPLOYMENT SDK\",\n",
    "    client.deployments.ConfigurationMetaNames.ONLINE: {},\n",
    "    client.deployments.ConfigurationMetaNames.SERVING_NAME: f\"lora_deployment_{datetime.now().strftime('%Y_%m_%d_%H%M%S')}\",\n",
    "    client.deployments.ConfigurationMetaNames.BASE_DEPLOYMENT_ID: base_model_deployment_id,\n",
    "}\n",
    "\n",
    "lora_adapter_deployment_details = client.deployments.create(tuned_model_id, meta_props)"
   ]
  },
  {
   "cell_type": "markdown",
   "metadata": {},
   "source": [
    "You can specify `lora_adapter_deployment_id` from deployment details."
   ]
  },
  {
   "cell_type": "code",
   "execution_count": null,
   "metadata": {},
   "outputs": [
    {
     "data": {
      "text/plain": [
       "'e57af40f-e3c7-4b90-886f-68f895f4dec3'"
      ]
     },
     "execution_count": 27,
     "metadata": {},
     "output_type": "execute_result"
    }
   ],
   "source": [
    "lora_adapter_deployment_id = lora_adapter_deployment_details[\"metadata\"][\"id\"]\n",
    "lora_adapter_deployment_id"
   ]
  },
  {
   "cell_type": "markdown",
   "metadata": {},
   "source": [
    "<a id=\"test_data\"></a>\n",
    "## Preparing data for testing process\n",
    "\n",
    "This example uses the <a href=\"https://huggingface.co/datasets/PolyAI/banking77\" target=\"_blank\" rel=\"noopener no referrer\">Banking77</a> testing dataset with 200 samples. "
   ]
  },
  {
   "cell_type": "code",
   "execution_count": null,
   "metadata": {},
   "outputs": [],
   "source": [
    "filename = \"test.csv\"\n",
    "\n",
    "path = Path.cwd() / filename\n",
    "if path.exists():\n",
    "    path.unlink()\n",
    "wget.download(f\"{base_url}{filename}\")\n",
    "\n",
    "banking_test_df = pd.read_csv(\"train.csv\").sample(n=200, random_state=42)"
   ]
  },
  {
   "cell_type": "markdown",
   "metadata": {},
   "source": [
    "The instruction will be utilized in the prompt provided to the Base Model to guide it toward generating the correct response."
   ]
  },
  {
   "cell_type": "code",
   "execution_count": 29,
   "metadata": {},
   "outputs": [],
   "source": [
    "instruction = \"Instruction:\\nClassify the text into one of the following categories: activate my card, age limit, apple pay or google pay, atm support, automatic top up, balance not updated after bank transfer, balance not updated after cheque or cash deposit, beneficiary not allowed, cancel transfer, card about to expire, card acceptance, card arrival, card delivery estimate, card linking, card not working, card payment fee charged, card payment not recognised, card payment wrong exchange rate, card swallowed, cash withdrawal charge, cash withdrawal not recognised, change pin, compromised card, contactless not working, country support, declined card payment, declined cash withdrawal, declined transfer, direct debit payment not recognised, disposable card limits, edit personal details, exchange charge, exchange rate, exchange via app, extra charge on statement, failed transfer, fiat currency support, get disposable virtual card, get physical card, getting spare card, getting virtual card, lost or stolen card, lost or stolen phone, order physical card, passcode forgotten, pending card payment, pending cash withdrawal, pending top up, pending transfer, pin blocked, receiving money, Refund not showing up, request refund, reverted card payment?, supported cards and currencies, terminate account, top up by bank transfer charge, top up by card charge, top up by cash or cheque, top up failed, top up limits, top up reverted, topping up by card, transaction charged twice, transfer fee charged, transfer into account, transfer not received by recipient, transfer timing, unable to verify identity, verify my identity, verify source of funds, verify top up, virtual card not working, visa or mastercard, why verify identity, wrong amount of cash received, wrong exchange rate for cash withdrawal\\n\\n\""
   ]
  },
  {
   "cell_type": "code",
   "execution_count": null,
   "metadata": {},
   "outputs": [],
   "source": [
    "prompts_batch = list(banking_test_df.text)\n",
    "prompts_batch_with_instruction = [instruction + prompt for prompt in prompts_batch]\n",
    "predictions = list(banking_test_df.category)"
   ]
  },
  {
   "cell_type": "markdown",
   "metadata": {},
   "source": [
    "<a id=\"models_inference\"></a>\n",
    "## Foundation Models Inference on `watsonx.ai`\n",
    "\n",
    "Provide a set of model parameters."
   ]
  },
  {
   "cell_type": "code",
   "execution_count": 31,
   "metadata": {},
   "outputs": [],
   "source": [
    "from ibm_watsonx_ai.metanames import GenTextParamsMetaNames as GenParams\n",
    "\n",
    "generate_params = {\n",
    "    GenParams.MAX_NEW_TOKENS: 256,\n",
    "}"
   ]
  },
  {
   "cell_type": "markdown",
   "metadata": {},
   "source": [
    "Initialize the `ModelInference` class with `lora_adapter_deployment_id`."
   ]
  },
  {
   "cell_type": "code",
   "execution_count": null,
   "metadata": {},
   "outputs": [],
   "source": [
    "from ibm_watsonx_ai.foundation_models import ModelInference\n",
    "\n",
    "lora_adapter_model = ModelInference(\n",
    "    deployment_id=lora_adapter_deployment_id, api_client=client, params=generate_params\n",
    ")"
   ]
  },
  {
   "cell_type": "markdown",
   "metadata": {},
   "source": [
    "Get deployment model inference details."
   ]
  },
  {
   "cell_type": "code",
   "execution_count": 33,
   "metadata": {},
   "outputs": [
    {
     "data": {
      "text/plain": [
       "{'entity': {'asset': {'id': 'dcdd638a-87d9-497f-aab1-6c494252e254'},\n",
       "  'base_deployment_id': 'db55fe77-8486-44c2-bdf8-6b28055716e1',\n",
       "  'base_model_id': 'meta-llama/llama-3-1-8b',\n",
       "  'chat_enabled': False,\n",
       "  'custom': {},\n",
       "  'deployed_asset_type': 'lora_adapter',\n",
       "  'name': 'LORA ADAPTER DEPLOYMENT SDK',\n",
       "  'online': {'parameters': {'serving_name': 'lora_deployment_2025_03_20_083422'}},\n",
       "  'project_id': '2b619ec9-db74-40d8-a203-4d3a6bf8d20f',\n",
       "  'status': {'inference': [{'url': 'https://cpd-cpd-instance.apps.cpd5xtraining.cp.fyre.ibm.com/ml/v1/deployments/lora_deployment_2025_03_20_083422/text/generation',\n",
       "     'uses_serving_name': True},\n",
       "    {'sse': True,\n",
       "     'url': 'https://cpd-cpd-instance.apps.cpd5xtraining.cp.fyre.ibm.com/ml/v1/deployments/lora_deployment_2025_03_20_083422/text/generation_stream',\n",
       "     'uses_serving_name': True},\n",
       "    {'url': 'https://cpd-cpd-instance.apps.cpd5xtraining.cp.fyre.ibm.com/ml/v1/deployments/e57af40f-e3c7-4b90-886f-68f895f4dec3/text/generation'},\n",
       "    {'sse': True,\n",
       "     'url': 'https://cpd-cpd-instance.apps.cpd5xtraining.cp.fyre.ibm.com/ml/v1/deployments/e57af40f-e3c7-4b90-886f-68f895f4dec3/text/generation_stream'}],\n",
       "   'serving_urls': ['https://cpd-cpd-instance.apps.cpd5xtraining.cp.fyre.ibm.com/ml/v1/deployments/e57af40f-e3c7-4b90-886f-68f895f4dec3/text/generation',\n",
       "    'https://cpd-cpd-instance.apps.cpd5xtraining.cp.fyre.ibm.com/ml/v1/deployments/e57af40f-e3c7-4b90-886f-68f895f4dec3/text/generation_stream',\n",
       "    'https://cpd-cpd-instance.apps.cpd5xtraining.cp.fyre.ibm.com/ml/v1/deployments/lora_deployment_2025_03_20_083422/text/generation',\n",
       "    'https://cpd-cpd-instance.apps.cpd5xtraining.cp.fyre.ibm.com/ml/v1/deployments/lora_deployment_2025_03_20_083422/text/generation_stream'],\n",
       "   'state': 'ready'},\n",
       "  'verbalizer': '### Instruction:\\nClassify the text into one of the following categories: activate my card, age limit, apple pay or google pay, atm support, automatic top up, balance not updated after bank transfer, balance not updated after cheque or cash deposit, beneficiary not allowed, cancel transfer, card about to expire, card acceptance, card arrival, card delivery estimate, card linking, card not working, card payment fee charged, card payment not recognised, card payment wrong exchange rate, card swallowed, cash withdrawal charge, cash withdrawal not recognised, change pin, compromised card, contactless not working, country support, declined card payment, declined cash withdrawal, declined transfer, direct debit payment not recognised, disposable card limits, edit personal details, exchange charge, exchange rate, exchange via app, extra charge on statement, failed transfer, fiat currency support, get disposable virtual card, get physical card, getting spare card, getting virtual card, lost or stolen card, lost or stolen phone, order physical card, passcode forgotten, pending card payment, pending cash withdrawal, pending top up, pending transfer, pin blocked, receiving money, Refund not showing up, request refund, reverted card payment?, supported cards and currencies, terminate account, top up by bank transfer charge, top up by card charge, top up by cash or cheque, top up failed, top up limits, top up reverted, topping up by card, transaction charged twice, transfer fee charged, transfer into account, transfer not received by recipient, transfer timing, unable to verify identity, verify my identity, verify source of funds, verify top up, virtual card not working, visa or mastercard, why verify identity, wrong amount of cash received, wrong exchange rate for cash withdrawal\\n\\n### Input:\\n{{input}}\\n\\n### Response:\\n{{output}}'},\n",
       " 'metadata': {'created_at': '2025-03-20T07:34:23.333Z',\n",
       "  'id': 'e57af40f-e3c7-4b90-886f-68f895f4dec3',\n",
       "  'modified_at': '2025-03-20T07:34:23.333Z',\n",
       "  'name': 'LORA ADAPTER DEPLOYMENT SDK',\n",
       "  'owner': '1000331001',\n",
       "  'project_id': '2b619ec9-db74-40d8-a203-4d3a6bf8d20f'}}"
      ]
     },
     "execution_count": 33,
     "metadata": {},
     "output_type": "execute_result"
    }
   ],
   "source": [
    "lora_adapter_model.get_details()"
   ]
  },
  {
   "cell_type": "markdown",
   "metadata": {},
   "source": [
    "### Calculate the accuracy of tuned model"
   ]
  },
  {
   "cell_type": "code",
   "execution_count": 34,
   "metadata": {},
   "outputs": [],
   "source": [
    "lora_adapter_model_results = lora_adapter_model.generate_text(prompt=prompts_batch)"
   ]
  },
  {
   "cell_type": "code",
   "execution_count": null,
   "metadata": {},
   "outputs": [
    {
     "name": "stdout",
     "output_type": "stream",
     "text": [
      "accuracy_score: 0.925\n"
     ]
    }
   ],
   "source": [
    "from sklearn.metrics import accuracy_score\n",
    "\n",
    "lora_adapter_model_accuracy_score = accuracy_score(\n",
    "    predictions, lora_adapter_model_results\n",
    ")\n",
    "\n",
    "print(f\"accuracy_score: {lora_adapter_model_accuracy_score}\")"
   ]
  },
  {
   "cell_type": "markdown",
   "metadata": {},
   "source": [
    "### Calculate the accuracy of base model"
   ]
  },
  {
   "cell_type": "markdown",
   "metadata": {},
   "source": [
    "Initialize the `ModelInference` class with `base_model_deployment_id`."
   ]
  },
  {
   "cell_type": "code",
   "execution_count": null,
   "metadata": {},
   "outputs": [],
   "source": [
    "base_model = ModelInference(\n",
    "    deployment_id=base_model_deployment_id, params=generate_params, api_client=client\n",
    ")"
   ]
  },
  {
   "cell_type": "code",
   "execution_count": 37,
   "metadata": {},
   "outputs": [],
   "source": [
    "base_model_results = base_model.generate_text(prompt=prompts_batch_with_instruction)"
   ]
  },
  {
   "cell_type": "code",
   "execution_count": null,
   "metadata": {},
   "outputs": [
    {
     "name": "stdout",
     "output_type": "stream",
     "text": [
      "accuracy_score: 0.0\n"
     ]
    }
   ],
   "source": [
    "from sklearn.metrics import accuracy_score\n",
    "\n",
    "base_model_accuracy_score = accuracy_score(predictions, base_model_results)\n",
    "\n",
    "print(f\"accuracy_score: {base_model_accuracy_score}\")"
   ]
  },
  {
   "cell_type": "markdown",
   "metadata": {},
   "source": [
    "<a id=\"comparison\"></a>\n",
    "## Comparison of prediction results"
   ]
  },
  {
   "cell_type": "code",
   "execution_count": 39,
   "metadata": {},
   "outputs": [
    {
     "name": "stdout",
     "output_type": "stream",
     "text": [
      "+----------------+--------------+---------------+\n",
      "| Metric         |   Base Model |   Tuned Model |\n",
      "+================+==============+===============+\n",
      "| Accuracy Score |            0 |         0.925 |\n",
      "+----------------+--------------+---------------+\n"
     ]
    }
   ],
   "source": [
    "from tabulate import tabulate\n",
    "\n",
    "data = [\n",
    "    [\"Accuracy Score\", base_model_accuracy_score, lora_adapter_model_accuracy_score],\n",
    "]\n",
    "\n",
    "headers = [\"Metric\", \"Base Model\", \"Tuned Model\"]\n",
    "\n",
    "print(tabulate(data, headers=headers, tablefmt=\"grid\"))"
   ]
  },
  {
   "cell_type": "markdown",
   "metadata": {},
   "source": [
    "<a id=\"cleanup\"></a>\n",
    "## Clean up\n",
    "\n",
    "To delete the current fine tuning experiment, use the `cancel_run` method.\n",
    "\n",
    "**Warning:** Be careful: once you delete an experiment, you will no longer be able to refer to it."
   ]
  },
  {
   "cell_type": "code",
   "execution_count": 40,
   "metadata": {},
   "outputs": [],
   "source": [
    "fine_tuner.cancel_run(hard_delete=True)"
   ]
  },
  {
   "cell_type": "markdown",
   "metadata": {},
   "source": [
    "To delete the deployment, use the `delete` method. \n",
    "\n",
    "**Warning:** Keeping the deployment active may lead to unnecessary consumption of Compute Unit Hours (CUHs)."
   ]
  },
  {
   "cell_type": "code",
   "execution_count": 41,
   "metadata": {},
   "outputs": [
    {
     "data": {
      "text/plain": [
       "'SUCCESS'"
      ]
     },
     "execution_count": 41,
     "metadata": {},
     "output_type": "execute_result"
    }
   ],
   "source": [
    "client.deployments.delete(lora_adapter_deployment_id)"
   ]
  },
  {
   "cell_type": "code",
   "execution_count": 42,
   "metadata": {},
   "outputs": [
    {
     "data": {
      "text/plain": [
       "'SUCCESS'"
      ]
     },
     "execution_count": 42,
     "metadata": {},
     "output_type": "execute_result"
    }
   ],
   "source": [
    "client.deployments.delete(base_model_deployment_id)"
   ]
  },
  {
   "cell_type": "markdown",
   "metadata": {},
   "source": [
    "<a id=\"summary\"></a>\n",
    "## Summary and next steps\n",
    "\n",
    "You successfully completed this notebook!.\n",
    "\n",
    "You learned how to use fine tuning in watsonx with online banking queries annotated.\n",
    " \n",
    "Check out our _<a href=\"https://ibm.github.io/watsonx-ai-python-sdk/samples.html\" target=\"_blank\" rel=\"noopener no referrer\">Online Documentation</a>_ for more samples, tutorials, documentation, how-tos, and blog posts. "
   ]
  },
  {
   "cell_type": "markdown",
   "metadata": {},
   "source": [
    "### Authors:\n",
    " **Mateusz Szewczyk**, Software Engineer at IBM watsonx.ai.\n",
    " \n",
    " **Karol Zmorski**, Software Engineer at IBM watsonx.ai."
   ]
  },
  {
   "cell_type": "markdown",
   "metadata": {},
   "source": [
    "Copyright © 2025 IBM. This notebook and its source code are released under the terms of the MIT License."
   ]
  }
 ],
 "metadata": {
  "kernelspec": {
   "display_name": "watsonx-ai-samples-py-312",
   "language": "python",
   "name": "python3"
  },
  "language_info": {
   "codemirror_mode": {
    "name": "ipython",
    "version": 3
   },
   "file_extension": ".py",
   "mimetype": "text/x-python",
   "name": "python",
   "nbconvert_exporter": "python",
   "pygments_lexer": "ipython3",
   "version": "3.12.9"
  }
 },
 "nbformat": 4,
 "nbformat_minor": 4
}

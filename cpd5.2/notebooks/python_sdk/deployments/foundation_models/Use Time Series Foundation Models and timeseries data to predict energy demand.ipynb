{
 "cells": [
  {
   "cell_type": "markdown",
   "metadata": {},
   "source": [
    "# Use Time Series Foundation Models and time series data to predict energy demand"
   ]
  },
  {
   "cell_type": "markdown",
   "metadata": {},
   "source": [
    "#### Disclaimers\n",
    "\n",
    "- Use only Projects and Spaces that are available in watsonx context.\n",
    "\n",
    "## Notebook content\n",
    "\n",
    "This notebook demonstrates the use of a pre-trained time series foundation model for multivariate forecasting tasks and showcases the variety of features available in Time Series Foundation Models.\n",
    "\n",
    "Some familiarity with Python is helpful. This notebook uses Python 3.12.\n",
    "\n",
    "\n",
    "## Learning goals\n",
    "\n",
    "The learning goals of this notebook are:\n",
    "-  To explore Time Series Foundation Models\n",
    "-  To initialize the model\n",
    "-  To forecast based on historical data\n",
    "\n",
    "\n",
    "## Contents\n",
    "\n",
    "This notebook contains the following parts:\n",
    "\n",
    "1.\t[Setup](#setup)\n",
    "2.\t[Time series dataset](#dataset)\n",
    "3.\t[Time Series Foundation Models in watsonx.ai](#models)\n",
    "4.\t[Initialize the `TSModelInference` class.](#init)\n",
    "5.\t[Forecast](#forecast)\n",
    "8.\t[Summary and next steps](#summary)"
   ]
  },
  {
   "cell_type": "markdown",
   "metadata": {},
   "source": [
    "<a id=\"setup\"></a>\n",
    "## Set up the environment\n",
    "\n",
    "Before you use the sample code in this notebook, you must perform the following setup tasks:\n",
    "\n",
    "-  Contact with your Cloud Pak for Data administrator and ask them for your account credentials"
   ]
  },
  {
   "cell_type": "markdown",
   "metadata": {},
   "source": [
    "### Install dependencies\n",
    "**Note:** `ibm-watsonx-ai` documentation can be found <a href=\"https://ibm.github.io/watsonx-ai-python-sdk/index.html\" target=\"_blank\" rel=\"noopener no referrer\">here</a>."
   ]
  },
  {
   "cell_type": "code",
   "execution_count": 1,
   "metadata": {},
   "outputs": [
    {
     "name": "stdout",
     "output_type": "stream",
     "text": [
      "Successfully installed wget-3.2\n",
      "\u001b[1A\u001b[2KSuccessfully installed contourpy-1.3.2 cycler-0.12.1 fonttools-4.58.0 kiwisolver-1.4.8 matplotlib-3.10.3 numpy-2.2.6 pillow-11.2.1 pyparsing-3.2.3\n",
      "\u001b[1A\u001b[2KSuccessfully installed anyio-4.9.0 certifi-2025.4.26 charset-normalizer-3.4.2 h11-0.16.0 httpcore-1.0.9 httpx-0.28.1 ibm-cos-sdk-2.14.1 ibm-cos-sdk-core-2.14.1 ibm-cos-sdk-s3transfer-2.14.1 ibm-watsonx-ai-1.3.20 idna-3.10 jmespath-1.0.1 lomond-0.3.3 pandas-2.2.3 pytz-2025.2 requests-2.32.2 sniffio-1.3.1 tabulate-0.9.0 typing_extensions-4.13.2 tzdata-2025.2 urllib3-2.4.0\n"
     ]
    }
   ],
   "source": [
    "%pip install -U wget | tail -n 1\n",
    "%pip install -U matplotlib | tail -n 1\n",
    "%pip install -U \"ibm-watsonx-ai>=1.1.24\" | tail -n 1"
   ]
  },
  {
   "cell_type": "markdown",
   "metadata": {},
   "source": [
    "#### Define credentials\n",
    "\n",
    "Authenticate the watsonx.ai Runtime service on IBM Cloud Pak for Data. You need to provide the **admin's** `username` and the platform `url`."
   ]
  },
  {
   "cell_type": "code",
   "execution_count": 2,
   "metadata": {},
   "outputs": [],
   "source": [
    "username = \"PASTE YOUR USERNAME HERE\"\n",
    "url = \"PASTE THE PLATFORM URL HERE\""
   ]
  },
  {
   "cell_type": "markdown",
   "metadata": {},
   "source": [
    "Use the **admin's** `api_key` to authenticate watsonx.ai Runtime services:"
   ]
  },
  {
   "cell_type": "code",
   "execution_count": null,
   "metadata": {},
   "outputs": [],
   "source": [
    "import getpass\n",
    "from ibm_watsonx_ai import Credentials\n",
    "\n",
    "credentials = Credentials(\n",
    "    username=username,\n",
    "    api_key=getpass.getpass(\"Enter your watsonx.ai API key and hit enter: \"),\n",
    "    url=url,\n",
    "    instance_id=\"openshift\",\n",
    "    version=\"5.2\",\n",
    ")"
   ]
  },
  {
   "cell_type": "markdown",
   "metadata": {},
   "source": [
    "Alternatively you can use the **admin's** `password`:"
   ]
  },
  {
   "cell_type": "code",
   "execution_count": 3,
   "metadata": {},
   "outputs": [],
   "source": [
    "import getpass\n",
    "from ibm_watsonx_ai import Credentials\n",
    "\n",
    "if \"credentials\" not in locals() or not credentials.api_key:\n",
    "    credentials = Credentials(\n",
    "        username=username,\n",
    "        password=getpass.getpass(\"Enter your watsonx.ai password and hit enter: \"),\n",
    "        url=url,\n",
    "        instance_id=\"openshift\",\n",
    "        version=\"5.2\",\n",
    "    )"
   ]
  },
  {
   "cell_type": "markdown",
   "metadata": {},
   "source": [
    "### Working with projects\n",
    "\n",
    "First of all, you need to create a project that will be used for your work. If you do not have a project created already, follow the steps below:\n",
    "\n",
    "- Open IBM Cloud Pak main page\n",
    "- Click all projects\n",
    "- Create an empty project\n",
    "- Copy `project_id` from url and paste it below\n",
    "\n",
    "**Action**: Assign project ID below"
   ]
  },
  {
   "cell_type": "code",
   "execution_count": 4,
   "metadata": {},
   "outputs": [],
   "source": [
    "import os\n",
    "\n",
    "try:\n",
    "    project_id = os.environ[\"PROJECT_ID\"]\n",
    "except KeyError:\n",
    "    project_id = input(\"Please enter your project_id (hit enter): \")"
   ]
  },
  {
   "cell_type": "markdown",
   "metadata": {},
   "source": [
    "#### Create `APIClient` instance"
   ]
  },
  {
   "cell_type": "code",
   "execution_count": 5,
   "metadata": {},
   "outputs": [],
   "source": [
    "from ibm_watsonx_ai import APIClient\n",
    "\n",
    "client = APIClient(credentials, project_id)"
   ]
  },
  {
   "cell_type": "markdown",
   "metadata": {},
   "source": [
    "<a id=\"dataset\"></a>\n",
    "### Training dataset\n",
    "\n",
    "This tutorial uses the [Hourly energy demand dataset](https://github.com/IBM/watsonx-ai-samples/raw/refs/heads/master/cloud/data/energy/energy_dataset.csv) dataset, which contains four years of electrical consumption and generation data for Spain. It is a modified version of the [Hourly energy demand generation and weather](https://www.kaggle.com/datasets/nicholasjhana/energy-consumption-generation-prices-and-weather/data). For simplicity, the dataset has been prepared to have no missing values and no irrelevant columns."
   ]
  },
  {
   "cell_type": "code",
   "execution_count": 6,
   "metadata": {},
   "outputs": [],
   "source": [
    "import os\n",
    "import wget\n",
    "\n",
    "filename = \"energy_dataset.csv\"\n",
    "base_url = \"https://github.com/IBM/watsonx-ai-samples/raw/refs/heads/master/cpd5.2/data/energy/\"\n",
    "\n",
    "if not os.path.isfile(filename):\n",
    "    wget.download(base_url + filename)"
   ]
  },
  {
   "cell_type": "code",
   "execution_count": 7,
   "metadata": {},
   "outputs": [],
   "source": [
    "import pandas as pd\n",
    "\n",
    "df = pd.read_csv(filename)"
   ]
  },
  {
   "cell_type": "markdown",
   "metadata": {},
   "source": [
    "Show the last few rows of the dataset."
   ]
  },
  {
   "cell_type": "code",
   "execution_count": 8,
   "metadata": {},
   "outputs": [
    {
     "data": {
      "text/html": [
       "<div>\n",
       "<style scoped>\n",
       "    .dataframe tbody tr th:only-of-type {\n",
       "        vertical-align: middle;\n",
       "    }\n",
       "\n",
       "    .dataframe tbody tr th {\n",
       "        vertical-align: top;\n",
       "    }\n",
       "\n",
       "    .dataframe thead th {\n",
       "        text-align: right;\n",
       "    }\n",
       "</style>\n",
       "<table border=\"1\" class=\"dataframe\">\n",
       "  <thead>\n",
       "    <tr style=\"text-align: right;\">\n",
       "      <th></th>\n",
       "      <th>time</th>\n",
       "      <th>generation biomass</th>\n",
       "      <th>generation fossil brown coal/lignite</th>\n",
       "      <th>generation fossil gas</th>\n",
       "      <th>generation fossil hard coal</th>\n",
       "      <th>generation fossil oil</th>\n",
       "      <th>generation hydro pumped storage consumption</th>\n",
       "      <th>generation hydro run-of-river and poundage</th>\n",
       "      <th>generation hydro water reservoir</th>\n",
       "      <th>generation nuclear</th>\n",
       "      <th>generation other</th>\n",
       "      <th>generation other renewable</th>\n",
       "      <th>generation solar</th>\n",
       "      <th>generation waste</th>\n",
       "      <th>generation wind onshore</th>\n",
       "      <th>forecast solar day ahead</th>\n",
       "      <th>forecast wind onshore day ahead</th>\n",
       "      <th>total load forecast</th>\n",
       "      <th>total load actual</th>\n",
       "    </tr>\n",
       "  </thead>\n",
       "  <tbody>\n",
       "    <tr>\n",
       "      <th>35059</th>\n",
       "      <td>2018-12-31 19:00:00</td>\n",
       "      <td>297.0</td>\n",
       "      <td>0.0</td>\n",
       "      <td>7634.0</td>\n",
       "      <td>2628.0</td>\n",
       "      <td>178.0</td>\n",
       "      <td>1.0</td>\n",
       "      <td>1135.0</td>\n",
       "      <td>4836.0</td>\n",
       "      <td>6073.0</td>\n",
       "      <td>63.0</td>\n",
       "      <td>95.0</td>\n",
       "      <td>85.0</td>\n",
       "      <td>277.0</td>\n",
       "      <td>3113.0</td>\n",
       "      <td>96.0</td>\n",
       "      <td>3253.0</td>\n",
       "      <td>30619.0</td>\n",
       "      <td>30653.0</td>\n",
       "    </tr>\n",
       "    <tr>\n",
       "      <th>35060</th>\n",
       "      <td>2018-12-31 20:00:00</td>\n",
       "      <td>296.0</td>\n",
       "      <td>0.0</td>\n",
       "      <td>7241.0</td>\n",
       "      <td>2566.0</td>\n",
       "      <td>174.0</td>\n",
       "      <td>1.0</td>\n",
       "      <td>1172.0</td>\n",
       "      <td>3931.0</td>\n",
       "      <td>6074.0</td>\n",
       "      <td>62.0</td>\n",
       "      <td>95.0</td>\n",
       "      <td>33.0</td>\n",
       "      <td>280.0</td>\n",
       "      <td>3288.0</td>\n",
       "      <td>51.0</td>\n",
       "      <td>3353.0</td>\n",
       "      <td>29932.0</td>\n",
       "      <td>29735.0</td>\n",
       "    </tr>\n",
       "    <tr>\n",
       "      <th>35061</th>\n",
       "      <td>2018-12-31 21:00:00</td>\n",
       "      <td>292.0</td>\n",
       "      <td>0.0</td>\n",
       "      <td>7025.0</td>\n",
       "      <td>2422.0</td>\n",
       "      <td>168.0</td>\n",
       "      <td>50.0</td>\n",
       "      <td>1148.0</td>\n",
       "      <td>2831.0</td>\n",
       "      <td>6076.0</td>\n",
       "      <td>61.0</td>\n",
       "      <td>94.0</td>\n",
       "      <td>31.0</td>\n",
       "      <td>286.0</td>\n",
       "      <td>3503.0</td>\n",
       "      <td>36.0</td>\n",
       "      <td>3404.0</td>\n",
       "      <td>27903.0</td>\n",
       "      <td>28071.0</td>\n",
       "    </tr>\n",
       "    <tr>\n",
       "      <th>35062</th>\n",
       "      <td>2018-12-31 22:00:00</td>\n",
       "      <td>293.0</td>\n",
       "      <td>0.0</td>\n",
       "      <td>6562.0</td>\n",
       "      <td>2293.0</td>\n",
       "      <td>163.0</td>\n",
       "      <td>108.0</td>\n",
       "      <td>1128.0</td>\n",
       "      <td>2068.0</td>\n",
       "      <td>6075.0</td>\n",
       "      <td>61.0</td>\n",
       "      <td>93.0</td>\n",
       "      <td>31.0</td>\n",
       "      <td>287.0</td>\n",
       "      <td>3586.0</td>\n",
       "      <td>29.0</td>\n",
       "      <td>3273.0</td>\n",
       "      <td>25450.0</td>\n",
       "      <td>25801.0</td>\n",
       "    </tr>\n",
       "    <tr>\n",
       "      <th>35063</th>\n",
       "      <td>2018-12-31 23:00:00</td>\n",
       "      <td>290.0</td>\n",
       "      <td>0.0</td>\n",
       "      <td>6926.0</td>\n",
       "      <td>2166.0</td>\n",
       "      <td>163.0</td>\n",
       "      <td>108.0</td>\n",
       "      <td>1069.0</td>\n",
       "      <td>1686.0</td>\n",
       "      <td>6075.0</td>\n",
       "      <td>61.0</td>\n",
       "      <td>92.0</td>\n",
       "      <td>31.0</td>\n",
       "      <td>287.0</td>\n",
       "      <td>3651.0</td>\n",
       "      <td>26.0</td>\n",
       "      <td>3117.0</td>\n",
       "      <td>24424.0</td>\n",
       "      <td>24455.0</td>\n",
       "    </tr>\n",
       "  </tbody>\n",
       "</table>\n",
       "</div>"
      ],
      "text/plain": [
       "                      time  generation biomass  \\\n",
       "35059  2018-12-31 19:00:00               297.0   \n",
       "35060  2018-12-31 20:00:00               296.0   \n",
       "35061  2018-12-31 21:00:00               292.0   \n",
       "35062  2018-12-31 22:00:00               293.0   \n",
       "35063  2018-12-31 23:00:00               290.0   \n",
       "\n",
       "       generation fossil brown coal/lignite  generation fossil gas  \\\n",
       "35059                                   0.0                 7634.0   \n",
       "35060                                   0.0                 7241.0   \n",
       "35061                                   0.0                 7025.0   \n",
       "35062                                   0.0                 6562.0   \n",
       "35063                                   0.0                 6926.0   \n",
       "\n",
       "       generation fossil hard coal  generation fossil oil  \\\n",
       "35059                       2628.0                  178.0   \n",
       "35060                       2566.0                  174.0   \n",
       "35061                       2422.0                  168.0   \n",
       "35062                       2293.0                  163.0   \n",
       "35063                       2166.0                  163.0   \n",
       "\n",
       "       generation hydro pumped storage consumption  \\\n",
       "35059                                          1.0   \n",
       "35060                                          1.0   \n",
       "35061                                         50.0   \n",
       "35062                                        108.0   \n",
       "35063                                        108.0   \n",
       "\n",
       "       generation hydro run-of-river and poundage  \\\n",
       "35059                                      1135.0   \n",
       "35060                                      1172.0   \n",
       "35061                                      1148.0   \n",
       "35062                                      1128.0   \n",
       "35063                                      1069.0   \n",
       "\n",
       "       generation hydro water reservoir  generation nuclear  generation other  \\\n",
       "35059                            4836.0              6073.0              63.0   \n",
       "35060                            3931.0              6074.0              62.0   \n",
       "35061                            2831.0              6076.0              61.0   \n",
       "35062                            2068.0              6075.0              61.0   \n",
       "35063                            1686.0              6075.0              61.0   \n",
       "\n",
       "       generation other renewable  generation solar  generation waste  \\\n",
       "35059                        95.0              85.0             277.0   \n",
       "35060                        95.0              33.0             280.0   \n",
       "35061                        94.0              31.0             286.0   \n",
       "35062                        93.0              31.0             287.0   \n",
       "35063                        92.0              31.0             287.0   \n",
       "\n",
       "       generation wind onshore  forecast solar day ahead  \\\n",
       "35059                   3113.0                      96.0   \n",
       "35060                   3288.0                      51.0   \n",
       "35061                   3503.0                      36.0   \n",
       "35062                   3586.0                      29.0   \n",
       "35063                   3651.0                      26.0   \n",
       "\n",
       "       forecast wind onshore day ahead  total load forecast  total load actual  \n",
       "35059                           3253.0              30619.0            30653.0  \n",
       "35060                           3353.0              29932.0            29735.0  \n",
       "35061                           3404.0              27903.0            28071.0  \n",
       "35062                           3273.0              25450.0            25801.0  \n",
       "35063                           3117.0              24424.0            24455.0  "
      ]
     },
     "execution_count": 8,
     "metadata": {},
     "output_type": "execute_result"
    }
   ],
   "source": [
    "df.tail()"
   ]
  },
  {
   "cell_type": "markdown",
   "metadata": {},
   "source": [
    "Describe the data."
   ]
  },
  {
   "cell_type": "code",
   "execution_count": 9,
   "metadata": {},
   "outputs": [
    {
     "data": {
      "text/html": [
       "<div>\n",
       "<style scoped>\n",
       "    .dataframe tbody tr th:only-of-type {\n",
       "        vertical-align: middle;\n",
       "    }\n",
       "\n",
       "    .dataframe tbody tr th {\n",
       "        vertical-align: top;\n",
       "    }\n",
       "\n",
       "    .dataframe thead th {\n",
       "        text-align: right;\n",
       "    }\n",
       "</style>\n",
       "<table border=\"1\" class=\"dataframe\">\n",
       "  <thead>\n",
       "    <tr style=\"text-align: right;\">\n",
       "      <th></th>\n",
       "      <th>generation biomass</th>\n",
       "      <th>generation fossil brown coal/lignite</th>\n",
       "      <th>generation fossil gas</th>\n",
       "      <th>generation fossil hard coal</th>\n",
       "      <th>generation fossil oil</th>\n",
       "      <th>generation hydro pumped storage consumption</th>\n",
       "      <th>generation hydro run-of-river and poundage</th>\n",
       "      <th>generation hydro water reservoir</th>\n",
       "      <th>generation nuclear</th>\n",
       "      <th>generation other</th>\n",
       "      <th>generation other renewable</th>\n",
       "      <th>generation solar</th>\n",
       "      <th>generation waste</th>\n",
       "      <th>generation wind onshore</th>\n",
       "      <th>forecast solar day ahead</th>\n",
       "      <th>forecast wind onshore day ahead</th>\n",
       "      <th>total load forecast</th>\n",
       "      <th>total load actual</th>\n",
       "    </tr>\n",
       "  </thead>\n",
       "  <tbody>\n",
       "    <tr>\n",
       "      <th>count</th>\n",
       "      <td>35064.000000</td>\n",
       "      <td>35064.000000</td>\n",
       "      <td>35064.000000</td>\n",
       "      <td>35064.000000</td>\n",
       "      <td>35064.000000</td>\n",
       "      <td>35064.000000</td>\n",
       "      <td>35064.000000</td>\n",
       "      <td>35064.000000</td>\n",
       "      <td>35064.000000</td>\n",
       "      <td>35064.000000</td>\n",
       "      <td>35064.000000</td>\n",
       "      <td>35064.000000</td>\n",
       "      <td>35064.000000</td>\n",
       "      <td>35064.000000</td>\n",
       "      <td>35064.000000</td>\n",
       "      <td>35064.000000</td>\n",
       "      <td>35064.000000</td>\n",
       "      <td>35064.000000</td>\n",
       "    </tr>\n",
       "    <tr>\n",
       "      <th>mean</th>\n",
       "      <td>383.532797</td>\n",
       "      <td>448.091918</td>\n",
       "      <td>5622.705653</td>\n",
       "      <td>4256.550622</td>\n",
       "      <td>298.341319</td>\n",
       "      <td>475.563997</td>\n",
       "      <td>972.206337</td>\n",
       "      <td>2605.496121</td>\n",
       "      <td>6263.501854</td>\n",
       "      <td>60.225416</td>\n",
       "      <td>85.634326</td>\n",
       "      <td>1432.804957</td>\n",
       "      <td>269.419205</td>\n",
       "      <td>5465.115589</td>\n",
       "      <td>1439.066735</td>\n",
       "      <td>5471.216689</td>\n",
       "      <td>28712.129962</td>\n",
       "      <td>28697.608573</td>\n",
       "    </tr>\n",
       "    <tr>\n",
       "      <th>std</th>\n",
       "      <td>85.346455</td>\n",
       "      <td>354.616732</td>\n",
       "      <td>2201.557635</td>\n",
       "      <td>1961.973297</td>\n",
       "      <td>52.518371</td>\n",
       "      <td>792.291849</td>\n",
       "      <td>400.714694</td>\n",
       "      <td>1835.074561</td>\n",
       "      <td>840.244555</td>\n",
       "      <td>20.238846</td>\n",
       "      <td>14.076953</td>\n",
       "      <td>1680.007595</td>\n",
       "      <td>50.217172</td>\n",
       "      <td>3213.736451</td>\n",
       "      <td>1677.703355</td>\n",
       "      <td>3176.312853</td>\n",
       "      <td>4594.100854</td>\n",
       "      <td>4575.872425</td>\n",
       "    </tr>\n",
       "    <tr>\n",
       "      <th>min</th>\n",
       "      <td>0.000000</td>\n",
       "      <td>0.000000</td>\n",
       "      <td>0.000000</td>\n",
       "      <td>0.000000</td>\n",
       "      <td>0.000000</td>\n",
       "      <td>0.000000</td>\n",
       "      <td>0.000000</td>\n",
       "      <td>0.000000</td>\n",
       "      <td>0.000000</td>\n",
       "      <td>0.000000</td>\n",
       "      <td>0.000000</td>\n",
       "      <td>0.000000</td>\n",
       "      <td>0.000000</td>\n",
       "      <td>0.000000</td>\n",
       "      <td>0.000000</td>\n",
       "      <td>237.000000</td>\n",
       "      <td>18105.000000</td>\n",
       "      <td>18041.000000</td>\n",
       "    </tr>\n",
       "    <tr>\n",
       "      <th>25%</th>\n",
       "      <td>333.000000</td>\n",
       "      <td>0.000000</td>\n",
       "      <td>4126.000000</td>\n",
       "      <td>2527.000000</td>\n",
       "      <td>263.000000</td>\n",
       "      <td>0.000000</td>\n",
       "      <td>637.000000</td>\n",
       "      <td>1078.000000</td>\n",
       "      <td>5759.000000</td>\n",
       "      <td>53.000000</td>\n",
       "      <td>73.000000</td>\n",
       "      <td>71.000000</td>\n",
       "      <td>240.000000</td>\n",
       "      <td>2933.000000</td>\n",
       "      <td>69.000000</td>\n",
       "      <td>2979.000000</td>\n",
       "      <td>24793.750000</td>\n",
       "      <td>24806.750000</td>\n",
       "    </tr>\n",
       "    <tr>\n",
       "      <th>50%</th>\n",
       "      <td>367.000000</td>\n",
       "      <td>509.000000</td>\n",
       "      <td>4969.500000</td>\n",
       "      <td>4475.000000</td>\n",
       "      <td>300.000000</td>\n",
       "      <td>68.000000</td>\n",
       "      <td>906.000000</td>\n",
       "      <td>2165.000000</td>\n",
       "      <td>6564.000000</td>\n",
       "      <td>57.000000</td>\n",
       "      <td>88.000000</td>\n",
       "      <td>616.000000</td>\n",
       "      <td>279.000000</td>\n",
       "      <td>4849.000000</td>\n",
       "      <td>576.000000</td>\n",
       "      <td>4855.000000</td>\n",
       "      <td>28906.000000</td>\n",
       "      <td>28902.000000</td>\n",
       "    </tr>\n",
       "    <tr>\n",
       "      <th>75%</th>\n",
       "      <td>433.000000</td>\n",
       "      <td>757.000000</td>\n",
       "      <td>6429.000000</td>\n",
       "      <td>5839.000000</td>\n",
       "      <td>330.000000</td>\n",
       "      <td>616.000000</td>\n",
       "      <td>1250.000000</td>\n",
       "      <td>3757.250000</td>\n",
       "      <td>7025.000000</td>\n",
       "      <td>80.000000</td>\n",
       "      <td>97.000000</td>\n",
       "      <td>2579.000000</td>\n",
       "      <td>310.000000</td>\n",
       "      <td>7399.500000</td>\n",
       "      <td>2636.000000</td>\n",
       "      <td>7353.000000</td>\n",
       "      <td>32263.250000</td>\n",
       "      <td>32194.250000</td>\n",
       "    </tr>\n",
       "    <tr>\n",
       "      <th>max</th>\n",
       "      <td>592.000000</td>\n",
       "      <td>999.000000</td>\n",
       "      <td>20034.000000</td>\n",
       "      <td>8359.000000</td>\n",
       "      <td>449.000000</td>\n",
       "      <td>4523.000000</td>\n",
       "      <td>2000.000000</td>\n",
       "      <td>9728.000000</td>\n",
       "      <td>7117.000000</td>\n",
       "      <td>106.000000</td>\n",
       "      <td>119.000000</td>\n",
       "      <td>5792.000000</td>\n",
       "      <td>357.000000</td>\n",
       "      <td>17436.000000</td>\n",
       "      <td>5836.000000</td>\n",
       "      <td>17430.000000</td>\n",
       "      <td>41390.000000</td>\n",
       "      <td>41015.000000</td>\n",
       "    </tr>\n",
       "  </tbody>\n",
       "</table>\n",
       "</div>"
      ],
      "text/plain": [
       "       generation biomass  generation fossil brown coal/lignite  \\\n",
       "count        35064.000000                          35064.000000   \n",
       "mean           383.532797                            448.091918   \n",
       "std             85.346455                            354.616732   \n",
       "min              0.000000                              0.000000   \n",
       "25%            333.000000                              0.000000   \n",
       "50%            367.000000                            509.000000   \n",
       "75%            433.000000                            757.000000   \n",
       "max            592.000000                            999.000000   \n",
       "\n",
       "       generation fossil gas  generation fossil hard coal  \\\n",
       "count           35064.000000                 35064.000000   \n",
       "mean             5622.705653                  4256.550622   \n",
       "std              2201.557635                  1961.973297   \n",
       "min                 0.000000                     0.000000   \n",
       "25%              4126.000000                  2527.000000   \n",
       "50%              4969.500000                  4475.000000   \n",
       "75%              6429.000000                  5839.000000   \n",
       "max             20034.000000                  8359.000000   \n",
       "\n",
       "       generation fossil oil  generation hydro pumped storage consumption  \\\n",
       "count           35064.000000                                 35064.000000   \n",
       "mean              298.341319                                   475.563997   \n",
       "std                52.518371                                   792.291849   \n",
       "min                 0.000000                                     0.000000   \n",
       "25%               263.000000                                     0.000000   \n",
       "50%               300.000000                                    68.000000   \n",
       "75%               330.000000                                   616.000000   \n",
       "max               449.000000                                  4523.000000   \n",
       "\n",
       "       generation hydro run-of-river and poundage  \\\n",
       "count                                35064.000000   \n",
       "mean                                   972.206337   \n",
       "std                                    400.714694   \n",
       "min                                      0.000000   \n",
       "25%                                    637.000000   \n",
       "50%                                    906.000000   \n",
       "75%                                   1250.000000   \n",
       "max                                   2000.000000   \n",
       "\n",
       "       generation hydro water reservoir  generation nuclear  generation other  \\\n",
       "count                      35064.000000        35064.000000      35064.000000   \n",
       "mean                        2605.496121         6263.501854         60.225416   \n",
       "std                         1835.074561          840.244555         20.238846   \n",
       "min                            0.000000            0.000000          0.000000   \n",
       "25%                         1078.000000         5759.000000         53.000000   \n",
       "50%                         2165.000000         6564.000000         57.000000   \n",
       "75%                         3757.250000         7025.000000         80.000000   \n",
       "max                         9728.000000         7117.000000        106.000000   \n",
       "\n",
       "       generation other renewable  generation solar  generation waste  \\\n",
       "count                35064.000000      35064.000000      35064.000000   \n",
       "mean                    85.634326       1432.804957        269.419205   \n",
       "std                     14.076953       1680.007595         50.217172   \n",
       "min                      0.000000          0.000000          0.000000   \n",
       "25%                     73.000000         71.000000        240.000000   \n",
       "50%                     88.000000        616.000000        279.000000   \n",
       "75%                     97.000000       2579.000000        310.000000   \n",
       "max                    119.000000       5792.000000        357.000000   \n",
       "\n",
       "       generation wind onshore  forecast solar day ahead  \\\n",
       "count             35064.000000              35064.000000   \n",
       "mean               5465.115589               1439.066735   \n",
       "std                3213.736451               1677.703355   \n",
       "min                   0.000000                  0.000000   \n",
       "25%                2933.000000                 69.000000   \n",
       "50%                4849.000000                576.000000   \n",
       "75%                7399.500000               2636.000000   \n",
       "max               17436.000000               5836.000000   \n",
       "\n",
       "       forecast wind onshore day ahead  total load forecast  total load actual  \n",
       "count                     35064.000000         35064.000000       35064.000000  \n",
       "mean                       5471.216689         28712.129962       28697.608573  \n",
       "std                        3176.312853          4594.100854        4575.872425  \n",
       "min                         237.000000         18105.000000       18041.000000  \n",
       "25%                        2979.000000         24793.750000       24806.750000  \n",
       "50%                        4855.000000         28906.000000       28902.000000  \n",
       "75%                        7353.000000         32263.250000       32194.250000  \n",
       "max                       17430.000000         41390.000000       41015.000000  "
      ]
     },
     "execution_count": 9,
     "metadata": {},
     "output_type": "execute_result"
    }
   ],
   "source": [
    "df.describe()"
   ]
  },
  {
   "cell_type": "markdown",
   "metadata": {},
   "source": [
    "## Split the data\n",
    "The purpose of this notebook is to demonstrate the core functionality of features available in Time Series Foundation Models. The selected model, `ibm/granite-ttm-512-96-r2`, requires a minimum context length of 512. Therefore, the dataset will be split into a historical dataset containing 512 rows, while the next 96 lines will be used to check the consistency of the predictions."
   ]
  },
  {
   "cell_type": "code",
   "execution_count": 10,
   "metadata": {},
   "outputs": [],
   "source": [
    "timestamp_column = \"time\"\n",
    "target_column = \"total load actual\"\n",
    "context_length = 608\n",
    "future_context = 96"
   ]
  },
  {
   "cell_type": "code",
   "execution_count": 11,
   "metadata": {},
   "outputs": [],
   "source": [
    "# Only use the last `context_length` rows for prediction.\n",
    "future_data = df.iloc[-future_context:,]\n",
    "data = df.iloc[-context_length:-future_context,]"
   ]
  },
  {
   "cell_type": "markdown",
   "metadata": {},
   "source": [
    "### Visualize the data"
   ]
  },
  {
   "cell_type": "code",
   "execution_count": 12,
   "metadata": {},
   "outputs": [
    {
     "data": {
      "image/png": "[encoded data removed]",
      "text/plain": [
       "<Figure size 1000x200 with 1 Axes>"
      ]
     },
     "metadata": {},
     "output_type": "display_data"
    }
   ],
   "source": [
    "import matplotlib.pyplot as plt\n",
    "import numpy as np\n",
    "\n",
    "plt.figure(figsize=(10, 2))\n",
    "plt.plot(np.asarray(data[timestamp_column], \"datetime64[s]\"), data[target_column])\n",
    "plt.title(\"Actual Total Load\")\n",
    "plt.show()"
   ]
  },
  {
   "cell_type": "markdown",
   "metadata": {},
   "source": [
    "<a id=\"models\"></a>\n",
    "## Time Series Foundation Models in watsonx.ai"
   ]
  },
  {
   "cell_type": "markdown",
   "metadata": {},
   "source": [
    "### List available models \n"
   ]
  },
  {
   "cell_type": "code",
   "execution_count": 13,
   "metadata": {},
   "outputs": [
    {
     "name": "stdout",
     "output_type": "stream",
     "text": [
      "--------------------------------------------------\n",
      "model_id: ibm/granite-ttm-1024-96-r2\n",
      "functions: [{'id': 'time_series_forecast'}]\n",
      "long_description: TinyTimeMixers (TTMs) are compact pre-trained models for Multivariate Time-Series Forecasting, open-sourced by IBM Research. Given the last 1024 time-points (i.e. context length), this model can forecast up to next 96 time-points (i.e. forecast length) in future. This model is targeted towards a forecasting setting of context length 1024 and forecast length 96 and recommended for hourly and minutely resolutions (Ex. 10 min, 15 min, 1 hour, etc)\n",
      "label: granite-ttm-1024-96-r2\n",
      "--------------------------------------------------\n",
      "model_id: ibm/granite-ttm-1536-96-r2\n",
      "functions: [{'id': 'time_series_forecast'}]\n",
      "long_description: TinyTimeMixers (TTMs) are compact pre-trained models for Multivariate Time-Series Forecasting, open-sourced by IBM Research. Given the last 1536 time-points (i.e. context length), this model can forecast up to next 96 time-points (i.e. forecast length) in future. This model is targeted towards a forecasting setting of context length 1536 and forecast length 96 and recommended for hourly and minutely resolutions (Ex. 10 min, 15 min, 1 hour, etc)\n",
      "label: granite-ttm-1536-96-r2\n",
      "--------------------------------------------------\n",
      "model_id: ibm/granite-ttm-512-96-r2\n",
      "functions: [{'id': 'time_series_forecast'}]\n",
      "long_description: TinyTimeMixers (TTMs) are compact pre-trained models for Multivariate Time-Series Forecasting, open-sourced by IBM Research. Given the last 512 time-points (i.e. context length), this model can forecast up to next 96 time-points (i.e. forecast length) in future. This model is targeted towards a forecasting setting of context length 512 and forecast length 96 and recommended for hourly and minutely resolutions (Ex. 10 min, 15 min, 1 hour, etc)\n",
      "label: granite-ttm-512-96-r2\n"
     ]
    }
   ],
   "source": [
    "for model in client.foundation_models.get_time_series_model_specs()[\"resources\"]:\n",
    "    print(\"--------------------------------------------------\")\n",
    "    print(f\"model_id: {model['model_id']}\")\n",
    "    print(f\"functions: {model['functions']}\")\n",
    "    print(f\"long_description: {model['long_description']}\")\n",
    "    print(f\"label: {model['label']}\")"
   ]
  },
  {
   "cell_type": "markdown",
   "metadata": {},
   "source": [
    "### Defining model\n",
    "You need to specify `model_id` that will be used for inferencing:"
   ]
  },
  {
   "cell_type": "code",
   "execution_count": 14,
   "metadata": {},
   "outputs": [],
   "source": [
    "ts_model_id = client.foundation_models.TimeSeriesModels.GRANITE_TTM_512_96_R2"
   ]
  },
  {
   "cell_type": "markdown",
   "metadata": {},
   "source": [
    "<a id=\"init\"></a>\n",
    "## Initialize the `TSModelInference` class."
   ]
  },
  {
   "cell_type": "markdown",
   "metadata": {},
   "source": [
    "`TSModelInference` is a wrapper for time series models available from watsonx.ai, designed to forecast future values based on historical data.\n",
    "\n"
   ]
  },
  {
   "cell_type": "code",
   "execution_count": 15,
   "metadata": {
    "pycharm": {
     "is_executing": false
    }
   },
   "outputs": [],
   "source": [
    "from ibm_watsonx_ai.foundation_models import TSModelInference\n",
    "\n",
    "ts_model = TSModelInference(model_id=ts_model_id, api_client=client)"
   ]
  },
  {
   "cell_type": "markdown",
   "metadata": {},
   "source": [
    "### Defining the model parameters\n",
    "We need to provide a set of model parameters that will influence the result:"
   ]
  },
  {
   "cell_type": "code",
   "execution_count": 16,
   "metadata": {},
   "outputs": [],
   "source": [
    "from ibm_watsonx_ai.foundation_models.schema import TSForecastParameters\n",
    "\n",
    "forecasting_params = TSForecastParameters(\n",
    "    timestamp_column=timestamp_column,\n",
    "    freq=\"1h\",\n",
    "    target_columns=[target_column],\n",
    ")"
   ]
  },
  {
   "cell_type": "markdown",
   "metadata": {},
   "source": [
    "<a id=\"forecast\"></a>\n",
    "## Forecasting\n",
    "\n",
    "Call the `forecast()` method to predict electricity consumption."
   ]
  },
  {
   "cell_type": "code",
   "execution_count": 17,
   "metadata": {
    "pycharm": {
     "is_executing": false
    }
   },
   "outputs": [],
   "source": [
    "results = ts_model.forecast(data=data, params=forecasting_params)[\"results\"][0]"
   ]
  },
  {
   "cell_type": "markdown",
   "metadata": {},
   "source": [
    "### Plot predictions along with the historical data.\n",
    " "
   ]
  },
  {
   "cell_type": "code",
   "execution_count": 18,
   "metadata": {
    "pycharm": {
     "is_executing": false
    }
   },
   "outputs": [
    {
     "data": {
      "image/png": "[encoded data removed]",
      "text/plain": [
       "<Figure size 1000x200 with 1 Axes>"
      ]
     },
     "metadata": {},
     "output_type": "display_data"
    }
   ],
   "source": [
    "plt.figure(figsize=(10, 2))\n",
    "plt.plot(\n",
    "    np.asarray(data[timestamp_column], dtype=\"datetime64[s]\"),\n",
    "    data[target_column],\n",
    "    label=\"Historical data\",\n",
    ")\n",
    "plt.plot(\n",
    "    np.asarray(results[timestamp_column], dtype=\"datetime64[s]\"),\n",
    "    results[target_column],\n",
    "    label=\"Predicted\",\n",
    ")\n",
    "plt.plot(\n",
    "    np.asarray(future_data[timestamp_column], dtype=\"datetime64[s]\"),\n",
    "    future_data[target_column],\n",
    "    label=\"True\",\n",
    "    linestyle=\"dashed\",\n",
    ")\n",
    "plt.legend(loc=\"center left\", bbox_to_anchor=(1, 0.5))\n",
    "plt.show()"
   ]
  },
  {
   "cell_type": "markdown",
   "metadata": {},
   "source": [
    "<a id=\"summary\"></a>\n",
    "## Summary and next steps\n",
    "\n",
    "You successfully completed this notebook!\n",
    "\n",
    "You learned how to use Time Series Foundation Models in real life applications. \n",
    "\n",
    "Check out our _[Online Documentation](https://ibm.github.io/watsonx-ai-python-sdk/samples.html)_ for more samples, tutorials, documentation, how-tos, and blog posts. "
   ]
  },
  {
   "cell_type": "markdown",
   "metadata": {},
   "source": [
    "### Authors\n",
    "\n",
    "**Aleksandra Kłeczek**, Software Engineer at watsonx.ai.\n",
    "\n",
    "**Rafał Chrzanowski**, Software Engineer Intern at watsonx.ai."
   ]
  },
  {
   "cell_type": "markdown",
   "metadata": {},
   "source": [
    "Copyright © 2025 IBM. This notebook and its source code are released under the terms of the MIT License."
   ]
  }
 ],
 "metadata": {
  "kernelspec": {
   "display_name": "watsonx-ai-samples-py-312",
   "language": "python",
   "name": "python3"
  },
  "language_info": {
   "codemirror_mode": {
    "name": "ipython",
    "version": 3
   },
   "file_extension": ".py",
   "mimetype": "text/x-python",
   "name": "python",
   "nbconvert_exporter": "python",
   "pygments_lexer": "ipython3",
   "version": "3.12.9"
  },
  "pycharm": {
   "stem_cell": {
    "cell_type": "raw",
    "metadata": {
     "collapsed": false
    },
    "source": []
   }
  }
 },
 "nbformat": 4,
 "nbformat_minor": 4
}

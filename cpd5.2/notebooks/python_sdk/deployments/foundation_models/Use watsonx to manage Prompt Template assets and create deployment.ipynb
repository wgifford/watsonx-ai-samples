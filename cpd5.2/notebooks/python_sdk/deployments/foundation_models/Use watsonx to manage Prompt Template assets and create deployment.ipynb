{
 "cells": [
  {
   "cell_type": "markdown",
   "metadata": {
    "id": "ae62c082-f33d-48cd-b63a-3fb9b148ccd8",
    "pycharm": {
     "name": "#%% md\n"
    }
   },
   "source": [
    "![image](https://raw.githubusercontent.com/IBM/watsonx-ai-samples/master/cloud/notebooks/headers/watsonx-Prompt_Lab-Notebook.png)\n",
    "# Use watsonx.ai python SDK to manage Prompt Template assets and create deployment"
   ]
  },
  {
   "cell_type": "markdown",
   "metadata": {
    "id": "cadaf686-1a7e-4864-888e-bab514fd001a",
    "pycharm": {
     "name": "#%% md\n"
    }
   },
   "source": [
    "#### Disclaimers\n",
    "\n",
    "- Use only Projects and Spaces that are available in watsonx context.\n",
    "\n",
    "\n",
    "## Notebook content\n",
    "\n",
    "This notebook contains the steps and code to demonstrate support for Prompt Template inference and their deployments.\n",
    "\n",
    "Some familiarity with Python is helpful. This notebook uses Python 3.12.\n",
    "\n",
    "\n",
    "## Learning goal\n",
    "\n",
    "The goal of this notebook is to demonstrate how to create a Prompt Template asset and deployment pointing on it. In general, a Prompt Template is a pattern for generating prompts for language models. A template may contain instruction, input/output prefixes, few-shot examples and appropriate context that may vary depending on different tasks.\n",
    "\n",
    "\n",
    "## Contents\n",
    "\n",
    "This notebook contains the following parts:\n",
    "\n",
    "- [Setup](#setup)\n",
    "- [Prompt Template Inference](#prompt)\n",
    "- [Prompt Template Deployment](#deployment)\n",
    "- [Summary](#summary)"
   ]
  },
  {
   "cell_type": "markdown",
   "metadata": {
    "id": "e3d200fd-49dc-4a8c-b439-de25e3a56e37",
    "pycharm": {
     "name": "#%% md\n"
    }
   },
   "source": [
    "<a id=\"setup\"></a>\n",
    "## Set up the environment\n",
    "\n",
    "Before you use the sample code in this notebook, you must perform the following setup tasks:\n",
    "\n",
    "-  Contact with your Cloud Pak for Data administrator and ask them for your account credentials\n"
   ]
  },
  {
   "cell_type": "markdown",
   "metadata": {
    "id": "466d0fbb-1fb8-47dc-85f0-36f1f7115637",
    "pycharm": {
     "name": "#%% md\n"
    }
   },
   "source": [
    "### Install dependencies\n",
    "**Note:** `ibm-watsonx-ai` documentation can be found <a href=\"https://ibm.github.io/watsonx-ai-python-sdk/index.html\" target=\"_blank\" rel=\"noopener no referrer\">here</a>."
   ]
  },
  {
   "cell_type": "code",
   "execution_count": 1,
   "metadata": {
    "id": "43a111f3-d4c2-4dff-bc6d-ba4f48346102",
    "pycharm": {
     "is_executing": true,
     "name": "#%%\n"
    }
   },
   "outputs": [
    {
     "name": "stdout",
     "output_type": "stream",
     "text": [
      "\u001b[1A\u001b[2KSuccessfully installed PyYAML-6.0.2 SQLAlchemy-2.0.41 annotated-types-0.7.0 anyio-4.9.0 certifi-2025.4.26 charset-normalizer-3.4.2 h11-0.16.0 httpcore-1.0.9 httpx-0.28.1 idna-3.10 jsonpatch-1.33 jsonpointer-3.0.0 langchain-0.3.25 langchain-core-0.3.62 langchain-text-splitters-0.3.8 langsmith-0.3.43 orjson-3.10.18 packaging-24.2 pydantic-2.11.5 pydantic-core-2.33.2 requests-2.32.3 requests-toolbelt-1.0.0 sniffio-1.3.1 tenacity-9.1.2 typing-extensions-4.13.2 typing-inspection-0.4.1 urllib3-2.4.0 zstandard-0.23.0\n",
      "\u001b[1A\u001b[2KSuccessfully installed ibm-cos-sdk-2.14.1 ibm-cos-sdk-core-2.14.1 ibm-cos-sdk-s3transfer-2.14.1 ibm-watsonx-ai-1.3.23 jmespath-1.0.1 lomond-0.3.3 numpy-2.2.6 pandas-2.2.3 pytz-2025.2 requests-2.32.2 tabulate-0.9.0 tzdata-2025.2\n"
     ]
    }
   ],
   "source": [
    "%pip install -U \"langchain>=0.3.12,<0.4\" | tail -n 1\n",
    "%pip install -U ibm-watsonx-ai | tail -n 1"
   ]
  },
  {
   "cell_type": "markdown",
   "metadata": {
    "id": "c9aa6e2a-1c5c-4242-88a7-dd0c1a6fc9de"
   },
   "source": [
    "#### Define credentials\n",
    "\n",
    "Authenticate the watsonx.ai Runtime service on IBM Cloud Pak for Data. You need to provide the **admin's** `username` and the platform `url`."
   ]
  },
  {
   "cell_type": "code",
   "execution_count": 2,
   "metadata": {},
   "outputs": [],
   "source": [
    "username = \"PASTE YOUR USERNAME HERE\"\n",
    "url = \"PASTE THE PLATFORM URL HERE\""
   ]
  },
  {
   "cell_type": "markdown",
   "metadata": {},
   "source": [
    "Use the **admin's** `api_key` to authenticate watsonx.ai Runtime services:"
   ]
  },
  {
   "cell_type": "code",
   "execution_count": null,
   "metadata": {
    "id": "1b726db8-9b57-462e-a88d-79c279a8ded3"
   },
   "outputs": [],
   "source": [
    "import getpass\n",
    "from ibm_watsonx_ai import Credentials\n",
    "\n",
    "credentials = Credentials(\n",
    "    username=username,\n",
    "    api_key=getpass.getpass(\"Enter your watsonx.ai API key and hit enter: \"),\n",
    "    url=url,\n",
    "    instance_id=\"openshift\",\n",
    "    version=\"5.2\",\n",
    ")"
   ]
  },
  {
   "cell_type": "markdown",
   "metadata": {
    "id": "88610eb4-fee0-4d56-8980-8f3d2fee6ce2"
   },
   "source": [
    "Alternatively you can use the **admin's** `password`:"
   ]
  },
  {
   "cell_type": "code",
   "execution_count": 3,
   "metadata": {},
   "outputs": [],
   "source": [
    "import getpass\n",
    "from ibm_watsonx_ai import Credentials\n",
    "\n",
    "if \"credentials\" not in locals() or not credentials.api_key:\n",
    "    credentials = Credentials(\n",
    "        username=username,\n",
    "        password=getpass.getpass(\"Enter your watsonx.ai password and hit enter: \"),\n",
    "        url=url,\n",
    "        instance_id=\"openshift\",\n",
    "        version=\"5.2\",\n",
    "    )"
   ]
  },
  {
   "cell_type": "markdown",
   "metadata": {
    "id": "6a422366-4bb8-4328-a8d3-0abc80fd854c",
    "pycharm": {
     "name": "#%% md\n"
    }
   },
   "source": [
    "### Working with projects\n",
    "\n",
    "First of all, you need to create a project that will be used for your work. If you do not have a project created already, follow the steps below:\n",
    "\n",
    "- Open IBM Cloud Pak main page\n",
    "- Click all projects\n",
    "- Create an empty project\n",
    "- Copy `project_id` from url and paste it below\n",
    "\n",
    "**Action**: Assign project ID below"
   ]
  },
  {
   "cell_type": "code",
   "execution_count": 4,
   "metadata": {
    "id": "aeacaec9-c835-4b5b-95e6-9d2dff01b717",
    "pycharm": {
     "name": "#%%\n"
    }
   },
   "outputs": [],
   "source": [
    "import os\n",
    "\n",
    "try:\n",
    "    project_id = os.environ[\"PROJECT_ID\"]\n",
    "except KeyError:\n",
    "    project_id = input(\"Please enter your project_id (hit enter): \")"
   ]
  },
  {
   "cell_type": "markdown",
   "metadata": {},
   "source": [
    "#### Create `APIClient` instance"
   ]
  },
  {
   "cell_type": "code",
   "execution_count": 5,
   "metadata": {},
   "outputs": [],
   "source": [
    "from ibm_watsonx_ai import APIClient\n",
    "\n",
    "client = APIClient(credentials, project_id)"
   ]
  },
  {
   "cell_type": "markdown",
   "metadata": {
    "id": "8b2e8f70-74d8-4af6-82dc-bcfd0f4fbecd",
    "pycharm": {
     "name": "#%% md\n"
    }
   },
   "source": [
    "<a id=\"prompt\"></a>\n",
    "## Prompt Template on `watsonx.ai`"
   ]
  },
  {
   "cell_type": "code",
   "execution_count": 6,
   "metadata": {
    "id": "f9b7dce9-e790-40c8-8a93-c65a3039a52a",
    "pycharm": {
     "name": "#%%\n"
    }
   },
   "outputs": [],
   "source": [
    "from ibm_watsonx_ai.foundation_models.prompts import (\n",
    "    PromptTemplateManager,\n",
    "    PromptTemplate,\n",
    ")\n",
    "from ibm_watsonx_ai.foundation_models.utils.enums import (\n",
    "    DecodingMethods,\n",
    "    PromptTemplateFormats,\n",
    ")\n",
    "from ibm_watsonx_ai.metanames import GenTextParamsMetaNames as GenParams"
   ]
  },
  {
   "cell_type": "markdown",
   "metadata": {
    "id": "8c09ee98-6ae2-41e1-a4f1-005cb95a088a",
    "pycharm": {
     "name": "#%% md\n"
    }
   },
   "source": [
    "### Create `PromptTemplateManager` instance"
   ]
  },
  {
   "cell_type": "code",
   "execution_count": 7,
   "metadata": {
    "id": "ce6df5ea-7bef-4616-a700-aa73b3de1607",
    "pycharm": {
     "name": "#%%\n"
    }
   },
   "outputs": [],
   "source": [
    "prompt_mgr = PromptTemplateManager(credentials=credentials, project_id=project_id)"
   ]
  },
  {
   "cell_type": "markdown",
   "metadata": {},
   "source": [
    "### List text models available on CPD cluster"
   ]
  },
  {
   "cell_type": "code",
   "execution_count": 8,
   "metadata": {
    "id": "176581ed-5eef-4201-858a-34c88af4223b"
   },
   "outputs": [
    {
     "name": "stdout",
     "output_type": "stream",
     "text": [
      "- google/flan-ul2\n",
      "- ibm/granite-13b-instruct-v2\n",
      "- ibm/granite-3-2b-instruct\n",
      "- ibm/granite-3-8b-instruct\n",
      "- meta-llama/llama-3-3-70b-instruct\n",
      "- mistralai/ministral-8b-instruct\n",
      "- mistralai/mistral-small-instruct\n"
     ]
    }
   ],
   "source": [
    "for model in client.foundation_models.TextModels:\n",
    "    print(f\"- {model}\")"
   ]
  },
  {
   "cell_type": "markdown",
   "metadata": {
    "id": "c3dcd3d7-a60e-4fd6-887b-d493a073f63a",
    "pycharm": {
     "name": "#%% md\n"
    }
   },
   "source": [
    "### Create a Prompt Template object and store it in the project\n"
   ]
  },
  {
   "cell_type": "markdown",
   "metadata": {
    "id": "8c142d46-2f2c-4ecb-a4ac-ee11759ce9e8",
    "pycharm": {
     "name": "#%% md\n"
    }
   },
   "source": [
    "We use a `PromptTemplate` object to store the properties of a newly created prompt template. Prompt text is composed of the instruction, input/output prefixes, few-shot examples and input text. All of the mentioned fields may contain placeholders (`{...}`) with input variables and for the template to be valid, these input variables must be also specified in `input_variables` parameter."
   ]
  },
  {
   "cell_type": "code",
   "execution_count": 9,
   "metadata": {
    "id": "4770b22d-a041-428e-a7eb-eefb5ab4978a",
    "pycharm": {
     "name": "#%%\n"
    }
   },
   "outputs": [],
   "source": [
    "prompt_template = PromptTemplate(\n",
    "    name=\"New prompt\",\n",
    "    model_id=\"ibm/granite-3-8b-instruct\",\n",
    "    model_params={GenParams.DECODING_METHOD: \"sample\"},\n",
    "    description=\"My example\",\n",
    "    task_ids=[\"generation\"],\n",
    "    input_variables=[\"object\"],\n",
    "    instruction=\"Answer on the following question\",\n",
    "    input_prefix=\"Human\",\n",
    "    output_prefix=\"Assistant\",\n",
    "    input_text=\"What is {object} and how does it work?\",\n",
    "    examples=[\n",
    "        [\n",
    "            \"What is a loan and how does it work?\",\n",
    "            \"A loan is a debt that is repaid with interest over time.\",\n",
    "        ]\n",
    "    ],\n",
    ")"
   ]
  },
  {
   "cell_type": "markdown",
   "metadata": {
    "id": "c1de568b-ac6d-4d2c-9b95-549999877057",
    "pycharm": {
     "name": "#%% md\n"
    }
   },
   "source": [
    "Using `store_prompt(prompt_template_id)` method, one can store newly created prompt template in your ptoject."
   ]
  },
  {
   "cell_type": "code",
   "execution_count": 10,
   "metadata": {
    "id": "8b93b8ec-b3eb-4bbc-82f0-4aedaeefd230",
    "pycharm": {
     "name": "#%%\n"
    }
   },
   "outputs": [],
   "source": [
    "stored_prompt_template = prompt_mgr.store_prompt(prompt_template=prompt_template)"
   ]
  },
  {
   "cell_type": "code",
   "execution_count": 11,
   "metadata": {
    "id": "f2c6d9fe-5fad-4ca3-82b4-ea42befcba48",
    "pycharm": {
     "name": "#%%\n"
    }
   },
   "outputs": [
    {
     "name": "stdout",
     "output_type": "stream",
     "text": [
      "Asset id: 6659ce24-d5ca-4c51-87d2-b7689a7785a0\n",
      "Is it a template?: True\n"
     ]
    }
   ],
   "source": [
    "print(f\"Asset id: {stored_prompt_template.prompt_id}\")\n",
    "print(f\"Is it a template?: {stored_prompt_template.is_template}\")"
   ]
  },
  {
   "cell_type": "markdown",
   "metadata": {
    "id": "dbd732e3-7323-4908-86df-2eccf7ec943c",
    "pycharm": {
     "name": "#%% md\n"
    }
   },
   "source": [
    "We can also store a template which is a `langchain` Prompt Template object."
   ]
  },
  {
   "cell_type": "code",
   "execution_count": 12,
   "metadata": {
    "id": "1f69a898-c2de-47f0-882b-a62ee4e9e878",
    "pycharm": {
     "name": "#%%\n"
    }
   },
   "outputs": [
    {
     "name": "stdout",
     "output_type": "stream",
     "text": [
      "Asset id: 93dad1e7-da70-49cd-b97b-c51b7ea71620\n"
     ]
    }
   ],
   "source": [
    "from langchain.prompts import PromptTemplate as LcPromptTemplate\n",
    "\n",
    "langchain_prompt_template = LcPromptTemplate(\n",
    "    template=\"What is {object} and how does it work?\", input_variables=[\"object\"]\n",
    ")\n",
    "stored_prompt_template_lc = prompt_mgr.store_prompt(\n",
    "    prompt_template=langchain_prompt_template\n",
    ")\n",
    "print(f\"Asset id: {stored_prompt_template_lc.prompt_id}\")"
   ]
  },
  {
   "cell_type": "markdown",
   "metadata": {
    "id": "9c6afa38-3d6c-4f4c-ba7b-eec2508768ab",
    "pycharm": {
     "name": "#%% md\n"
    }
   },
   "source": [
    "### Manage Prompt Templates"
   ]
  },
  {
   "cell_type": "code",
   "execution_count": 13,
   "metadata": {
    "id": "d60ac8b3-dd6d-4acb-a0a2-9bc59073d71f",
    "pycharm": {
     "name": "#%%\n"
    }
   },
   "outputs": [
    {
     "data": {
      "text/html": [
       "<div>\n",
       "<style scoped>\n",
       "    .dataframe tbody tr th:only-of-type {\n",
       "        vertical-align: middle;\n",
       "    }\n",
       "\n",
       "    .dataframe tbody tr th {\n",
       "        vertical-align: top;\n",
       "    }\n",
       "\n",
       "    .dataframe thead th {\n",
       "        text-align: right;\n",
       "    }\n",
       "</style>\n",
       "<table border=\"1\" class=\"dataframe\">\n",
       "  <thead>\n",
       "    <tr style=\"text-align: right;\">\n",
       "      <th></th>\n",
       "      <th>ID</th>\n",
       "      <th>NAME</th>\n",
       "      <th>CREATED</th>\n",
       "      <th>LAST MODIFIED</th>\n",
       "    </tr>\n",
       "  </thead>\n",
       "  <tbody>\n",
       "    <tr>\n",
       "      <th>0</th>\n",
       "      <td>93dad1e7-da70-49cd-b97b-c51b7ea71620</td>\n",
       "      <td>My prompt</td>\n",
       "      <td>2025-05-29T08:47:39Z</td>\n",
       "      <td>2025-05-29T08:47:39Z</td>\n",
       "    </tr>\n",
       "    <tr>\n",
       "      <th>1</th>\n",
       "      <td>6659ce24-d5ca-4c51-87d2-b7689a7785a0</td>\n",
       "      <td>New prompt</td>\n",
       "      <td>2025-05-29T08:47:36Z</td>\n",
       "      <td>2025-05-29T08:47:36Z</td>\n",
       "    </tr>\n",
       "  </tbody>\n",
       "</table>\n",
       "</div>"
      ],
      "text/plain": [
       "                                     ID        NAME               CREATED  \\\n",
       "0  93dad1e7-da70-49cd-b97b-c51b7ea71620   My prompt  2025-05-29T08:47:39Z   \n",
       "1  6659ce24-d5ca-4c51-87d2-b7689a7785a0  New prompt  2025-05-29T08:47:36Z   \n",
       "\n",
       "          LAST MODIFIED  \n",
       "0  2025-05-29T08:47:39Z  \n",
       "1  2025-05-29T08:47:36Z  "
      ]
     },
     "execution_count": 13,
     "metadata": {},
     "output_type": "execute_result"
    }
   ],
   "source": [
    "prompt_mgr.list()"
   ]
  },
  {
   "cell_type": "markdown",
   "metadata": {
    "id": "2cb82752-73c2-45b5-9a60-69ee48d713dd",
    "pycharm": {
     "name": "#%% md\n"
    }
   },
   "source": [
    "To retrive Prompt Template asset from project and return string that contains Prompt Template input we use `load_prompt(prompt_template_id, astype=...)`. Returned input string is composed of the fields: `instruction`, `input_prefix`, `output_prefix`, `examples` and `input_text`. After substituting prompt variables, one can evaluate a language model on the obtained string."
   ]
  },
  {
   "cell_type": "code",
   "execution_count": 14,
   "metadata": {
    "id": "96c48841-61d5-4af3-96a1-b1c049bb6762",
    "pycharm": {
     "name": "#%%\n"
    }
   },
   "outputs": [
    {
     "name": "stdout",
     "output_type": "stream",
     "text": [
      "Answer on the following question\n",
      "\n",
      "Human What is a loan and how does it work?\n",
      "Assistant A loan is a debt that is repaid with interest over time.\n",
      "\n",
      "Human What is {object} and how does it work?\n",
      "Assistant\n"
     ]
    }
   ],
   "source": [
    "prompt_text = prompt_mgr.load_prompt(\n",
    "    prompt_id=stored_prompt_template.prompt_id, astype=PromptTemplateFormats.STRING\n",
    ")\n",
    "print(prompt_text)"
   ]
  },
  {
   "cell_type": "markdown",
   "metadata": {
    "id": "bf966b06-e949-4a9f-9553-df3a12e157c1",
    "pycharm": {
     "name": "#%% md\n"
    }
   },
   "source": [
    "To update Prompt Template data use `prompt_mgr.update_prompt` method."
   ]
  },
  {
   "cell_type": "code",
   "execution_count": 15,
   "metadata": {
    "id": "9248fe82-218e-4dc6-af05-0880ef823417",
    "pycharm": {
     "name": "#%%\n"
    }
   },
   "outputs": [
    {
     "name": "stdout",
     "output_type": "stream",
     "text": [
      "Answer on the following question in a concise way.\n",
      "\n",
      "Human What is a loan and how does it work?\n",
      "Assistant A loan is a debt that is repaid with interest over time.\n",
      "\n",
      "Human What is {object} and how does it work?\n",
      "Assistant\n"
     ]
    }
   ],
   "source": [
    "prompt_with_new_instruction = PromptTemplate(\n",
    "    instruction=\"Answer on the following question in a concise way.\"\n",
    ")\n",
    "prompt_mgr.update_prompt(\n",
    "    prompt_id=stored_prompt_template.prompt_id,\n",
    "    prompt_template=prompt_with_new_instruction,\n",
    ")\n",
    "prompt_text = prompt_mgr.load_prompt(\n",
    "    prompt_id=stored_prompt_template.prompt_id, astype=PromptTemplateFormats.STRING\n",
    ")\n",
    "print(prompt_text)"
   ]
  },
  {
   "cell_type": "markdown",
   "metadata": {
    "id": "1484c002-339b-44e1-9adf-0fbc2a4df7f2",
    "pycharm": {
     "name": "#%% md\n"
    }
   },
   "source": [
    "Furthermore, to get information about locked state of Prompt Template run following method"
   ]
  },
  {
   "cell_type": "code",
   "execution_count": 16,
   "metadata": {
    "id": "0ac559c7-be9e-4b88-a562-bfac01f7a3bf",
    "pycharm": {
     "name": "#%%\n"
    }
   },
   "outputs": [
    {
     "data": {
      "text/plain": [
       "{'locked': True, 'locked_by': '1000330999', 'lock_type': 'edit'}"
      ]
     },
     "execution_count": 16,
     "metadata": {},
     "output_type": "execute_result"
    }
   ],
   "source": [
    "prompt_mgr.get_lock(prompt_id=stored_prompt_template.prompt_id)"
   ]
  },
  {
   "cell_type": "markdown",
   "metadata": {
    "id": "349d5d1a-8638-431f-b886-aac74678b896",
    "pycharm": {
     "name": "#%% md\n"
    }
   },
   "source": [
    "Using `lock` or `unlock` method, one can change locked state of Prompt Template asset."
   ]
  },
  {
   "cell_type": "code",
   "execution_count": 17,
   "metadata": {
    "id": "7ab46729-2556-4fb3-a9a6-686da6811784",
    "pycharm": {
     "name": "#%%\n"
    }
   },
   "outputs": [
    {
     "data": {
      "text/plain": [
       "{'locked': False}"
      ]
     },
     "execution_count": 17,
     "metadata": {},
     "output_type": "execute_result"
    }
   ],
   "source": [
    "prompt_mgr.unlock(prompt_id=stored_prompt_template_lc.prompt_id)"
   ]
  },
  {
   "cell_type": "markdown",
   "metadata": {
    "id": "d23e16f3-8407-4677-a4e7-d8358134cb3e",
    "pycharm": {
     "name": "#%% md\n"
    }
   },
   "source": [
    "Once the prompt template is unlocked it can be deleted. You can also use the `list` method to check the available prompt templates (passing `limit=2` parameter will return only 2 recently created templates)."
   ]
  },
  {
   "cell_type": "code",
   "execution_count": 18,
   "metadata": {
    "id": "731c6c85-6d8c-400b-a06a-cd540d88af68",
    "pycharm": {
     "name": "#%%\n"
    }
   },
   "outputs": [
    {
     "name": "stdout",
     "output_type": "stream",
     "text": [
      "Id of the Prompt Template asset that will be deleted: 93dad1e7-da70-49cd-b97b-c51b7ea71620\n"
     ]
    },
    {
     "data": {
      "text/html": [
       "<div>\n",
       "<style scoped>\n",
       "    .dataframe tbody tr th:only-of-type {\n",
       "        vertical-align: middle;\n",
       "    }\n",
       "\n",
       "    .dataframe tbody tr th {\n",
       "        vertical-align: top;\n",
       "    }\n",
       "\n",
       "    .dataframe thead th {\n",
       "        text-align: right;\n",
       "    }\n",
       "</style>\n",
       "<table border=\"1\" class=\"dataframe\">\n",
       "  <thead>\n",
       "    <tr style=\"text-align: right;\">\n",
       "      <th></th>\n",
       "      <th>ID</th>\n",
       "      <th>NAME</th>\n",
       "      <th>CREATED</th>\n",
       "      <th>LAST MODIFIED</th>\n",
       "    </tr>\n",
       "  </thead>\n",
       "  <tbody>\n",
       "    <tr>\n",
       "      <th>0</th>\n",
       "      <td>6659ce24-d5ca-4c51-87d2-b7689a7785a0</td>\n",
       "      <td>New prompt</td>\n",
       "      <td>2025-05-29T08:47:36Z</td>\n",
       "      <td>2025-05-29T08:47:54Z</td>\n",
       "    </tr>\n",
       "  </tbody>\n",
       "</table>\n",
       "</div>"
      ],
      "text/plain": [
       "                                     ID        NAME               CREATED  \\\n",
       "0  6659ce24-d5ca-4c51-87d2-b7689a7785a0  New prompt  2025-05-29T08:47:36Z   \n",
       "\n",
       "          LAST MODIFIED  \n",
       "0  2025-05-29T08:47:54Z  "
      ]
     },
     "execution_count": 18,
     "metadata": {},
     "output_type": "execute_result"
    }
   ],
   "source": [
    "print(\n",
    "    f\"Id of the Prompt Template asset that will be deleted: {stored_prompt_template_lc.prompt_id}\"\n",
    ")\n",
    "prompt_mgr.delete_prompt(prompt_id=stored_prompt_template_lc.prompt_id)\n",
    "prompt_mgr.list(limit=2)"
   ]
  },
  {
   "cell_type": "markdown",
   "metadata": {
    "id": "fe762529-52e7-4b53-94a1-b275f645df0d",
    "pycharm": {
     "name": "#%% md\n"
    }
   },
   "source": [
    "<a id=\"deployment\"></a>\n",
    "## Deployment pointing to Prompt Template"
   ]
  },
  {
   "cell_type": "markdown",
   "metadata": {
    "id": "3eab84f8-132f-4e10-b3ba-441d4a65de62",
    "pycharm": {
     "name": "#%% md\n"
    }
   },
   "source": [
    "To create deployment pointing to a Prompt template asset we have to initialized `APIClient` object."
   ]
  },
  {
   "cell_type": "code",
   "execution_count": 19,
   "metadata": {
    "id": "2826ac99-1db5-4137-a1d4-ad927dedcbc3",
    "pycharm": {
     "name": "#%%\n"
    }
   },
   "outputs": [
    {
     "data": {
      "text/plain": [
       "'SUCCESS'"
      ]
     },
     "execution_count": 19,
     "metadata": {},
     "output_type": "execute_result"
    }
   ],
   "source": [
    "client.set.default_project(project_id)"
   ]
  },
  {
   "cell_type": "markdown",
   "metadata": {
    "id": "99ddb956-e255-4f92-a6e1-dddf64e2720c",
    "pycharm": {
     "name": "#%% md\n"
    }
   },
   "source": [
    "In the deployment exmaple we will use the prompt with the following input"
   ]
  },
  {
   "cell_type": "code",
   "execution_count": 20,
   "metadata": {
    "id": "a8fa6659-e0e6-4bb5-82c0-ec5e44afdee0",
    "pycharm": {
     "name": "#%%\n"
    }
   },
   "outputs": [
    {
     "name": "stdout",
     "output_type": "stream",
     "text": [
      "Answer on the following question in a concise way.\n",
      "\n",
      "Human What is a loan and how does it work?\n",
      "Assistant A loan is a debt that is repaid with interest over time.\n",
      "\n",
      "Human What is {object} and how does it work?\n",
      "Assistant\n"
     ]
    }
   ],
   "source": [
    "prompt_input_text = prompt_mgr.load_prompt(\n",
    "    prompt_id=stored_prompt_template.prompt_id, astype=PromptTemplateFormats.STRING\n",
    ")\n",
    "print(prompt_input_text)"
   ]
  },
  {
   "cell_type": "markdown",
   "metadata": {
    "id": "5ab4bb64-0e8b-41d9-ac61-64b80f7f2404",
    "pycharm": {
     "name": "#%% md\n"
    }
   },
   "source": [
    "Now, we create deployment providing the ID of Prompt Template asset and meta props. "
   ]
  },
  {
   "cell_type": "code",
   "execution_count": 21,
   "metadata": {
    "id": "0da98e5c-6c41-4f18-b1f7-53880c90e038",
    "pycharm": {
     "name": "#%%\n"
    }
   },
   "outputs": [
    {
     "name": "stdout",
     "output_type": "stream",
     "text": [
      "\n",
      "\n",
      "######################################################################################\n",
      "\n",
      "Synchronous deployment creation for id: '6659ce24-d5ca-4c51-87d2-b7689a7785a0' started\n",
      "\n",
      "######################################################################################\n",
      "\n",
      "\n",
      "initializing\n",
      "Note: online_url is deprecated and will be removed in a future release. Use serving_urls instead.\n",
      "\n",
      "ready\n",
      "\n",
      "\n",
      "-----------------------------------------------------------------------------------------------\n",
      "Successfully finished deployment creation, deployment_id='55a73e9a-b9c3-433f-8124-c209489cd3f9'\n",
      "-----------------------------------------------------------------------------------------------\n",
      "\n",
      "\n"
     ]
    }
   ],
   "source": [
    "meta_props = {\n",
    "    client.deployments.ConfigurationMetaNames.NAME: \"SAMPLE DEPLOYMENT PROMPT TEMPLATE\",\n",
    "    client.deployments.ConfigurationMetaNames.ONLINE: {},\n",
    "}\n",
    "\n",
    "deployment_details = client.deployments.create(\n",
    "    artifact_uid=stored_prompt_template.prompt_id, meta_props=meta_props\n",
    ")"
   ]
  },
  {
   "cell_type": "code",
   "execution_count": 22,
   "metadata": {
    "id": "5e40246f-a058-4262-8f27-292d3f9ad99f",
    "pycharm": {
     "name": "#%%\n"
    }
   },
   "outputs": [
    {
     "data": {
      "text/html": [
       "<div>\n",
       "<style scoped>\n",
       "    .dataframe tbody tr th:only-of-type {\n",
       "        vertical-align: middle;\n",
       "    }\n",
       "\n",
       "    .dataframe tbody tr th {\n",
       "        vertical-align: top;\n",
       "    }\n",
       "\n",
       "    .dataframe thead th {\n",
       "        text-align: right;\n",
       "    }\n",
       "</style>\n",
       "<table border=\"1\" class=\"dataframe\">\n",
       "  <thead>\n",
       "    <tr style=\"text-align: right;\">\n",
       "      <th></th>\n",
       "      <th>ID</th>\n",
       "      <th>NAME</th>\n",
       "      <th>STATE</th>\n",
       "      <th>CREATED</th>\n",
       "      <th>ARTIFACT_TYPE</th>\n",
       "      <th>SPEC_STATE</th>\n",
       "      <th>SPEC_REPLACEMENT</th>\n",
       "    </tr>\n",
       "  </thead>\n",
       "  <tbody>\n",
       "    <tr>\n",
       "      <th>0</th>\n",
       "      <td>55a73e9a-b9c3-433f-8124-c209489cd3f9</td>\n",
       "      <td>SAMPLE DEPLOYMENT PROMPT TEMPLATE</td>\n",
       "      <td>ready</td>\n",
       "      <td>2025-05-29T08:48:10.734Z</td>\n",
       "      <td>foundation_model</td>\n",
       "      <td>not_provided</td>\n",
       "      <td></td>\n",
       "    </tr>\n",
       "  </tbody>\n",
       "</table>\n",
       "</div>"
      ],
      "text/plain": [
       "                                     ID                               NAME  \\\n",
       "0  55a73e9a-b9c3-433f-8124-c209489cd3f9  SAMPLE DEPLOYMENT PROMPT TEMPLATE   \n",
       "\n",
       "   STATE                   CREATED     ARTIFACT_TYPE    SPEC_STATE  \\\n",
       "0  ready  2025-05-29T08:48:10.734Z  foundation_model  not_provided   \n",
       "\n",
       "  SPEC_REPLACEMENT  \n",
       "0                   "
      ]
     },
     "execution_count": 22,
     "metadata": {},
     "output_type": "execute_result"
    }
   ],
   "source": [
    "client.deployments.list()"
   ]
  },
  {
   "cell_type": "markdown",
   "metadata": {
    "id": "007b9349-a9b8-4add-a50c-f0dbe32ebdfe",
    "pycharm": {
     "name": "#%% md\n"
    }
   },
   "source": [
    "Substitute prompt variables and generate text"
   ]
  },
  {
   "cell_type": "code",
   "execution_count": 23,
   "metadata": {
    "id": "0209750b-e81e-4fae-b626-9b860bc74462",
    "pycharm": {
     "name": "#%%\n"
    }
   },
   "outputs": [],
   "source": [
    "deployment_id = deployment_details.get(\"metadata\", {}).get(\"id\")"
   ]
  },
  {
   "cell_type": "code",
   "execution_count": 24,
   "metadata": {
    "id": "19f116ca-4156-4591-8a59-1c18a3b9af09",
    "pycharm": {
     "name": "#%%\n"
    }
   },
   "outputs": [
    {
     "data": {
      "text/plain": [
       "' A mortgage is a type of loan used to purchase real estate. The borrower agrees to repay the loan, plus interest, over a set period, typically 15 to 30 years. The property serves as collateral'"
      ]
     },
     "execution_count": 24,
     "metadata": {},
     "output_type": "execute_result"
    }
   ],
   "source": [
    "client.deployments.generate_text(\n",
    "    deployment_id,\n",
    "    params={\n",
    "        \"prompt_variables\": {\"object\": \"a mortgage\"},\n",
    "        GenParams.DECODING_METHOD: DecodingMethods.GREEDY,\n",
    "        GenParams.STOP_SEQUENCES: [\"\\n\\n\"],\n",
    "        GenParams.MAX_NEW_TOKENS: 50,\n",
    "    },\n",
    ")"
   ]
  },
  {
   "cell_type": "markdown",
   "metadata": {
    "id": "7bbd5348-4459-44de-92f6-1d9593b4d293",
    "pycharm": {
     "name": "#%% md\n"
    }
   },
   "source": [
    "### Generate text using ModelInference"
   ]
  },
  {
   "cell_type": "markdown",
   "metadata": {
    "id": "c9c554de-2fb4-45d3-9b03-b89e90fea9fe",
    "pycharm": {
     "name": "#%% md\n"
    }
   },
   "source": [
    "You can also generate text based on your Prompt Template deployment using `ModelInference` class."
   ]
  },
  {
   "cell_type": "code",
   "execution_count": 25,
   "metadata": {
    "id": "653ef1a0-8cf9-4c50-ad95-3cc91a02dab3",
    "pycharm": {
     "name": "#%%\n"
    }
   },
   "outputs": [],
   "source": [
    "from ibm_watsonx_ai.foundation_models import ModelInference\n",
    "\n",
    "model_inference = ModelInference(\n",
    "    deployment_id=deployment_id, credentials=credentials, project_id=project_id\n",
    ")"
   ]
  },
  {
   "cell_type": "code",
   "execution_count": 26,
   "metadata": {
    "id": "f790d7fe-9820-405c-9ce6-7b4abdfc293a",
    "pycharm": {
     "name": "#%%\n"
    }
   },
   "outputs": [
    {
     "data": {
      "text/plain": [
       "' A mortgage is a type of loan used to purchase real estate. The borrower agrees to repay the loan, plus interest, over a set period, typically 15 to 30 years. The property serves as collateral'"
      ]
     },
     "execution_count": 26,
     "metadata": {},
     "output_type": "execute_result"
    }
   ],
   "source": [
    "model_inference.generate_text(\n",
    "    params={\n",
    "        \"prompt_variables\": {\"object\": \"a mortgage\"},\n",
    "        GenParams.DECODING_METHOD: DecodingMethods.GREEDY,\n",
    "        GenParams.STOP_SEQUENCES: [\"\\n\\n\"],\n",
    "        GenParams.MAX_NEW_TOKENS: 50,\n",
    "    }\n",
    ")"
   ]
  },
  {
   "cell_type": "markdown",
   "metadata": {
    "id": "7ea51e20-7a51-47cf-afe5-478d47b17d17",
    "pycharm": {
     "name": "#%% md\n"
    }
   },
   "source": [
    "<a id=\"summary\"></a>\n",
    "## Summary and next steps\n",
    "\n",
    " You successfully completed this notebook!\n",
    " \n",
    " You learned how to create valid Prompt Template and store it in watsonx.ai project. Furthermore, you also learned how to create deployment pointing to a Prompt Template asset and generate text using base model.\n",
    " \n",
    " Check out our _<a href=\"https://ibm.github.io/watsonx-ai-python-sdk/samples.html\" target=\"_blank\" rel=\"noopener no referrer\">Online Documentation</a>_ for more samples, tutorials, documentation, how-tos, and blog posts. "
   ]
  },
  {
   "cell_type": "markdown",
   "metadata": {
    "id": "283ffb2c-8e4e-41da-82a0-313a8d3549e8",
    "pycharm": {
     "name": "#%% md\n"
    }
   },
   "source": [
    "### Authors\n",
    "\n",
    "**Mateusz Świtała**, Software Engineer at watsonx.ai.\n",
    "\n",
    "**Mateusz Szewczyk**, Software Engineer at watsonx.ai."
   ]
  },
  {
   "cell_type": "markdown",
   "metadata": {
    "id": "141db76d-a44c-47da-818c-41b42121ee95",
    "pycharm": {
     "name": "#%% md\n"
    }
   },
   "source": [
    "Copyright © 2023-2025 IBM. This notebook and its source code are released under the terms of the MIT License."
   ]
  }
 ],
 "metadata": {
  "kernelspec": {
   "display_name": "watsonx-ai-samples-py-312",
   "language": "python",
   "name": "python3"
  },
  "language_info": {
   "codemirror_mode": {
    "name": "ipython",
    "version": 3
   },
   "file_extension": ".py",
   "mimetype": "text/x-python",
   "name": "python",
   "nbconvert_exporter": "python",
   "pygments_lexer": "ipython3",
   "version": "3.12.9"
  }
 },
 "nbformat": 4,
 "nbformat_minor": 4
}

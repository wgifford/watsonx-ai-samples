{
    "cells": [
        {
            "cell_type": "markdown",
            "metadata": {
                "pycharm": {
                    "name": "#%% md\n"
                }
            },
            "source": [
                "![image](https://raw.githubusercontent.com/IBM/watsonx-ai-samples/master/cloud/notebooks/headers/watsonx-Prompt_Lab-Notebook.png)\n",
                "# Use watsonx and IBM `granite-8b-code-instruct` to generate code based on instruction"
            ]
        },
        {
            "cell_type": "markdown",
            "metadata": {
                "pycharm": {
                    "name": "#%% md\n"
                }
            },
            "source": [
                "#### Disclaimers\n",
                "\n",
                "- Use only Projects and Spaces that are available in watsonx context.\n",
                "\n",
                "\n",
                "## Notebook content\n",
                "\n",
                "This notebook contains the steps and code to demonstrate support for code generation in watsonx.ai. It introduces commands for defining prompt and model testing.\n",
                "\n",
                "Some familiarity with Python is helpful. This notebook uses Python 3.12.\n",
                "\n",
                "\n",
                "## Learning goal\n",
                "\n",
                "The goal of this notebook is to demonstrate how to generate code using `ibm/granite-8b-code-instruct` model based on instruction provided by the user.\n",
                "\n",
                "\n",
                "## Contents\n",
                "\n",
                "This notebook contains the following parts:\n",
                "\n",
                "- [Setup](#setup)\n",
                "- [Foundation Models in watsonx.ai](#models)\n",
                "- [Generate code based on instruction](#generate)\n",
                "- [Generated code testing](#testing)\n",
                "- [Summary](#summary)"
            ]
        },
        {
            "cell_type": "markdown",
            "metadata": {
                "pycharm": {
                    "name": "#%% md\n"
                }
            },
            "source": [
                "<a id=\"setup\"></a>\n",
                "## Set up the environment\n",
                "\n",
                "Before you use the sample code in this notebook, you must perform the following setup tasks:\n",
                "\n",
                "-  Contact with your Cloud Pak for Data administrator and ask them for your account credentials"
            ]
        },
        {
            "cell_type": "markdown",
            "metadata": {
                "pycharm": {
                    "name": "#%% md\n"
                }
            },
            "source": [
                "### Install dependencies\n",
                "**Note:** `ibm-watsonx-ai` documentation can be found <a href=\"https://ibm.github.io/watsonx-ai-python-sdk/index.html\" target=\"_blank\" rel=\"noopener no referrer\">here</a>."
            ]
        },
        {
            "cell_type": "code",
            "execution_count": 1,
            "metadata": {
                "pycharm": {
                    "name": "#%%\n"
                }
            },
            "outputs": [
                {
                    "name": "stdout",
                    "output_type": "stream",
                    "text": [
                        "\u001b[1A\u001b[2KSuccessfully installed anyio-4.9.0 certifi-2025.4.26 charset-normalizer-3.4.2 h11-0.16.0 httpcore-1.0.9 httpx-0.28.1 ibm-cos-sdk-2.14.0 ibm-cos-sdk-core-2.14.0 ibm-cos-sdk-s3transfer-2.14.0 ibm-watsonx-ai-1.3.13 idna-3.10 jmespath-1.0.1 lomond-0.3.3 numpy-2.2.5 pandas-2.2.3 pytz-2025.2 requests-2.32.2 sniffio-1.3.1 tabulate-0.9.0 typing_extensions-4.13.2 tzdata-2025.2 urllib3-2.4.0\n"
                    ]
                }
            ],
            "source": [
                "%pip install -U ibm-watsonx-ai | tail -n 1"
            ]
        },
        {
            "cell_type": "markdown",
            "metadata": {},
            "source": [
                "#### Define credentials\n",
                "\n",
                "Authenticate the watsonx.ai Runtime service on IBM Cloud Pak for Data. You need to provide the **admin's** `username` and the platform `url`."
            ]
        },
        {
            "cell_type": "code",
            "execution_count": 2,
            "metadata": {},
            "outputs": [],
            "source": [
                "username = \"PASTE YOUR USERNAME HERE\"\n",
                "url = \"PASTE THE PLATFORM URL HERE\""
            ]
        },
        {
            "cell_type": "markdown",
            "metadata": {},
            "source": [
                "Use the **admin's** `api_key` to authenticate watsonx.ai Runtime services:"
            ]
        },
        {
            "cell_type": "code",
            "execution_count": null,
            "metadata": {},
            "outputs": [],
            "source": [
                "import getpass\n",
                "from ibm_watsonx_ai import Credentials\n",
                "\n",
                "credentials = Credentials(\n",
                "    username=username,\n",
                "    api_key=getpass.getpass(\"Enter your watsonx.ai API key and hit enter: \"),\n",
                "    url=url,\n",
                "    instance_id=\"openshift\",\n",
                "    version=\"5.2\",\n",
                ")"
            ]
        },
        {
            "cell_type": "markdown",
            "metadata": {},
            "source": [
                "Alternatively you can use the **admin's** `password`:"
            ]
        },
        {
            "cell_type": "code",
            "execution_count": 3,
            "metadata": {},
            "outputs": [],
            "source": [
                "import getpass\n",
                "from ibm_watsonx_ai import Credentials\n",
                "\n",
                "if \"credentials\" not in locals() or not credentials.api_key:\n",
                "    credentials = Credentials(\n",
                "        username=username,\n",
                "        password=getpass.getpass(\"Enter your watsonx.ai password and hit enter: \"),\n",
                "        url=url,\n",
                "        instance_id=\"openshift\",\n",
                "        version=\"5.2\",\n",
                "    )"
            ]
        },
        {
            "cell_type": "markdown",
            "metadata": {},
            "source": [
                "### Working with projects\n",
                "\n",
                "First of all, you need to create a project that will be used for your work. If you do not have project already created follow bellow steps.\n",
                "\n",
                "- Open IBM Cloud Pak main page\n",
                "- Click all projects\n",
                "- Create an empty project\n",
                "- Copy `project_id` from url and paste it below\n",
                "\n",
                "**Action**: Assign project ID below"
            ]
        },
        {
            "cell_type": "code",
            "execution_count": 4,
            "metadata": {},
            "outputs": [],
            "source": [
                "import os\n",
                "\n",
                "try:\n",
                "    project_id = os.environ[\"PROJECT_ID\"]\n",
                "except KeyError:\n",
                "    project_id = input(\"Please enter your project_id (hit enter): \")"
            ]
        },
        {
            "cell_type": "markdown",
            "metadata": {},
            "source": [
                "#### Create `APIClient` instance"
            ]
        },
        {
            "cell_type": "code",
            "execution_count": 5,
            "metadata": {},
            "outputs": [],
            "source": [
                "from ibm_watsonx_ai import APIClient\n",
                "\n",
                "client = APIClient(credentials, project_id)"
            ]
        },
        {
            "cell_type": "markdown",
            "metadata": {},
            "source": [
                "<a id=\"models\"></a>\n",
                "## Foundation models in watsonx.ai"
            ]
        },
        {
            "cell_type": "markdown",
            "metadata": {},
            "source": [
                "#### List available models"
            ]
        },
        {
            "cell_type": "code",
            "execution_count": 6,
            "metadata": {},
            "outputs": [
                {
                    "name": "stdout",
                    "output_type": "stream",
                    "text": [
                        "- ibm/granite-8b-code-instruct\n",
                        "- sdaia/allam-1-13b-instruct\n"
                    ]
                }
            ],
            "source": [
                "for model in client.foundation_models.TextModels:\n",
                "    print(f\"- {model}\")"
            ]
        },
        {
            "cell_type": "markdown",
            "metadata": {},
            "source": [
                "You need to specify `model_id` that will be used for inferencing:"
            ]
        },
        {
            "cell_type": "code",
            "execution_count": 7,
            "metadata": {},
            "outputs": [],
            "source": [
                "model_id = client.foundation_models.TextModels.GRANITE_8B_CODE_INSTRUCT"
            ]
        },
        {
            "cell_type": "markdown",
            "metadata": {},
            "source": [
                "### Defining the model parameters\n",
                "\n",
                "You might need to adjust model `parameters` for different models or tasks, to do so please refer to <a href=\"https://ibm.github.io/watsonx-ai-python-sdk/fm_model.html#metanames.GenTextParamsMetaNames\" target=\"_blank\" rel=\"noopener no referrer\">documentation</a>."
            ]
        },
        {
            "cell_type": "code",
            "execution_count": 8,
            "metadata": {},
            "outputs": [],
            "source": [
                "from ibm_watsonx_ai.metanames import GenTextParamsMetaNames\n",
                "\n",
                "parameters = {\n",
                "    GenTextParamsMetaNames.DECODING_METHOD: \"greedy\",\n",
                "    GenTextParamsMetaNames.MAX_NEW_TOKENS: 100,\n",
                "    GenTextParamsMetaNames.STOP_SEQUENCES: [\"<end·of·code>\"],\n",
                "}"
            ]
        },
        {
            "cell_type": "markdown",
            "metadata": {},
            "source": [
                "### Initialize the model\n",
                "Initialize the model inference with previously set parameters."
            ]
        },
        {
            "cell_type": "code",
            "execution_count": 9,
            "metadata": {},
            "outputs": [],
            "source": [
                "from ibm_watsonx_ai.foundation_models import ModelInference\n",
                "\n",
                "model = ModelInference(\n",
                "    model_id=model_id, params=parameters, credentials=credentials, project_id=project_id\n",
                ")"
            ]
        },
        {
            "cell_type": "markdown",
            "metadata": {},
            "source": [
                "### Get model details"
            ]
        },
        {
            "cell_type": "code",
            "execution_count": 10,
            "metadata": {},
            "outputs": [
                {
                    "data": {
                        "text/plain": [
                            "{'model_id': 'ibm/granite-8b-code-instruct',\n",
                            " 'label': 'granite-8b-code-instruct',\n",
                            " 'provider': 'IBM',\n",
                            " 'source': 'IBM',\n",
                            " 'functions': [{'id': 'fine_tune_trainable'}, {'id': 'text_generation'}],\n",
                            " 'short_description': 'The Granite model series is a family of IBM-trained, dense decoder-only models, which are particularly well-suited for generative tasks.',\n",
                            " 'long_description': 'Granite models are designed to be used for a wide range of generative and non-generative tasks with appropriate prompt engineering. They employ a GPT-style decoder-only architecture, with additional innovations from IBM Research and the open community.',\n",
                            " 'terms_url': 'https://www.ibm.com/support/customer/csol/terms/?id=i126-6883',\n",
                            " 'input_tier': 'class_1',\n",
                            " 'output_tier': 'class_1',\n",
                            " 'number_params': '8b',\n",
                            " 'min_shot_size': 1,\n",
                            " 'task_ids': ['question_answering',\n",
                            "  'summarization',\n",
                            "  'classification',\n",
                            "  'generation',\n",
                            "  'extraction',\n",
                            "  'code-generation',\n",
                            "  'code-explanation',\n",
                            "  'code-fixing'],\n",
                            " 'tasks': [{'id': 'question_answering'},\n",
                            "  {'id': 'summarization'},\n",
                            "  {'id': 'classification'},\n",
                            "  {'id': 'generation'},\n",
                            "  {'id': 'extraction'},\n",
                            "  {'id': 'code-generation',\n",
                            "   'benchmarks': [{'type': 'academic',\n",
                            "     'name': 'Code',\n",
                            "     'description': \"Evaluates a model's ability to generate code in Python, C++, Go, Java, JavaScript, and Rust by using 164 code problems from the 'HumanEval' dataset that were translated from Python by humans. Metric represents the pass@1 score.\",\n",
                            "     'language': 'C++',\n",
                            "     'dataset': {'name': 'HumanEvalSynthesize'},\n",
                            "     'metrics': [{'name': 'pass@1', 'value': 0.482}],\n",
                            "     'tags': ['Code generation']},\n",
                            "    {'type': 'academic',\n",
                            "     'name': 'Code',\n",
                            "     'description': \"Evaluates a model's ability to generate code in Python, C++, Go, Java, JavaScript, and Rust by using 164 code problems from the 'HumanEval' dataset that were translated from Python by humans. Metric represents the pass@1 score.\",\n",
                            "     'language': 'Go',\n",
                            "     'dataset': {'name': 'HumanEvalSynthesize'},\n",
                            "     'metrics': [{'name': 'pass@1', 'value': 0.433}],\n",
                            "     'tags': ['Code generation']},\n",
                            "    {'type': 'academic',\n",
                            "     'name': 'Code',\n",
                            "     'description': \"Evaluates a model's ability to generate code in Python, C++, Go, Java, JavaScript, and Rust by using 164 code problems from the 'HumanEval' dataset that were translated from Python by humans. Metric represents the pass@1 score.\",\n",
                            "     'language': 'Java',\n",
                            "     'dataset': {'name': 'HumanEvalSynthesize'},\n",
                            "     'metrics': [{'name': 'pass@1', 'value': 0.585}],\n",
                            "     'tags': ['Code generation']},\n",
                            "    {'type': 'academic',\n",
                            "     'name': 'Code',\n",
                            "     'description': \"Evaluates a model's ability to generate code in Python, C++, Go, Java, JavaScript, and Rust by using 164 code problems from the 'HumanEval' dataset that were translated from Python by humans. Metric represents the pass@1 score.\",\n",
                            "     'language': 'JavaScript',\n",
                            "     'dataset': {'name': 'HumanEvalSynthesize'},\n",
                            "     'metrics': [{'name': 'pass@1', 'value': 0.524}],\n",
                            "     'tags': ['Code generation']},\n",
                            "    {'type': 'academic',\n",
                            "     'name': 'Code',\n",
                            "     'description': \"Evaluates a model's ability to generate code in Python, C++, Go, Java, JavaScript, and Rust by using 164 code problems from the 'HumanEval' dataset that were translated from Python by humans. Metric represents the pass@1 score.\",\n",
                            "     'language': 'Python',\n",
                            "     'dataset': {'name': 'HumanEvalSynthesize'},\n",
                            "     'metrics': [{'name': 'pass@1', 'value': 0.579}],\n",
                            "     'tags': ['Code generation']},\n",
                            "    {'type': 'academic',\n",
                            "     'name': 'Code',\n",
                            "     'description': \"Evaluates a model's ability to generate code in Python, C++, Go, Java, JavaScript, and Rust by using 164 code problems from the 'HumanEval' dataset that were translated from Python by humans. Metric represents the pass@1 score.\",\n",
                            "     'language': 'Rust',\n",
                            "     'dataset': {'name': 'HumanEvalSynthesize'},\n",
                            "     'metrics': [{'name': 'pass@1', 'value': 0.372}],\n",
                            "     'tags': ['Code generation']},\n",
                            "    {'type': 'watsonx.ai',\n",
                            "     'name': 'Code',\n",
                            "     'description': \"Evaluates a model's ability to generate code in Python, C++, Go, Java, JavaScript, and Rust by using 164 code problems from the 'HumanEval' dataset that were translated from Python by humans. Metric represents the pass@1 score.\",\n",
                            "     'language': 'C++',\n",
                            "     'dataset': {'name': 'HumanEvalSynthesize'},\n",
                            "     'metrics': [{'name': 'pass@1', 'value': 0.482}],\n",
                            "     'tags': ['Code generation']},\n",
                            "    {'type': 'watsonx.ai',\n",
                            "     'name': 'Code',\n",
                            "     'description': \"Evaluates a model's ability to generate code in Python, C++, Go, Java, JavaScript, and Rust by using 164 code problems from the 'HumanEval' dataset that were translated from Python by humans. Metric represents the pass@1 score.\",\n",
                            "     'language': 'Go',\n",
                            "     'dataset': {'name': 'HumanEvalSynthesize'},\n",
                            "     'metrics': [{'name': 'pass@1', 'value': 0.402}],\n",
                            "     'tags': ['Code generation']},\n",
                            "    {'type': 'watsonx.ai',\n",
                            "     'name': 'Code',\n",
                            "     'description': \"Evaluates a model's ability to generate code in Python, C++, Go, Java, JavaScript, and Rust by using 164 code problems from the 'HumanEval' dataset that were translated from Python by humans. Metric represents the pass@1 score.\",\n",
                            "     'language': 'Java',\n",
                            "     'dataset': {'name': 'HumanEvalSynthesize'},\n",
                            "     'metrics': [{'name': 'pass@1', 'value': 0.573}],\n",
                            "     'tags': ['Code generation']},\n",
                            "    {'type': 'watsonx.ai',\n",
                            "     'name': 'Code',\n",
                            "     'description': \"Evaluates a model's ability to generate code in Python, C++, Go, Java, JavaScript, and Rust by using 164 code problems from the 'HumanEval' dataset that were translated from Python by humans. Metric represents the pass@1 score.\",\n",
                            "     'language': 'JavaScript',\n",
                            "     'dataset': {'name': 'HumanEvalSynthesize'},\n",
                            "     'metrics': [{'name': 'pass@1', 'value': 0.549}],\n",
                            "     'tags': ['Code generation']},\n",
                            "    {'type': 'watsonx.ai',\n",
                            "     'name': 'Code',\n",
                            "     'description': \"Evaluates a model's ability to generate code in Python, C++, Go, Java, JavaScript, and Rust by using 164 code problems from the 'HumanEval' dataset that were translated from Python by humans. Metric represents the pass@1 score.\",\n",
                            "     'language': 'Python',\n",
                            "     'dataset': {'name': 'HumanEvalSynthesize'},\n",
                            "     'metrics': [{'name': 'pass@1', 'value': 0.585}],\n",
                            "     'tags': ['Code generation']},\n",
                            "    {'type': 'watsonx.ai',\n",
                            "     'name': 'Code',\n",
                            "     'description': \"Evaluates a model's ability to generate code in Python, C++, Go, Java, JavaScript, and Rust by using 164 code problems from the 'HumanEval' dataset that were translated from Python by humans. Metric represents the pass@1 score.\",\n",
                            "     'language': 'Rust',\n",
                            "     'dataset': {'name': 'HumanEvalSynthesize'},\n",
                            "     'metrics': [{'name': 'pass@1', 'value': 0.348}],\n",
                            "     'tags': ['Code generation']},\n",
                            "    {'type': 'watsonx.ai',\n",
                            "     'name': 'Code',\n",
                            "     'description': \"Evaluates a model's ability to solve entry-level Python problems using a dataset with 974 crowd-sourced problems and solutions. Metric represents the pass@1 score.\",\n",
                            "     'language': 'Python',\n",
                            "     'dataset': {'name': 'MBPP'},\n",
                            "     'metrics': [{'name': 'pass@1', 'value': 0.502}],\n",
                            "     'tags': ['Code generation']},\n",
                            "    {'type': 'watsonx.ai',\n",
                            "     'name': 'Code',\n",
                            "     'description': 'Expands on the MBPP dataset with more Python programming problems and more comprehensive test cases. Metric represents the pass@1 score.',\n",
                            "     'language': 'Python',\n",
                            "     'dataset': {'name': 'MBPP+'},\n",
                            "     'metrics': [{'name': 'pass@1', 'value': 0.571}],\n",
                            "     'tags': ['Code generation']}]},\n",
                            "  {'id': 'code-explanation',\n",
                            "   'benchmarks': [{'type': 'academic',\n",
                            "     'name': 'Code',\n",
                            "     'description': \"Evaluates a model's ability to explain C++, Go, Java, JavaScript, Python and Rust code by using the 'HumanEval' dataset to first ask the model to explain the solution to a programming problem and then solve the problem given only the previously generated explanation. Metric represents the pass@1 score.\",\n",
                            "     'language': 'C++',\n",
                            "     'dataset': {'name': 'HumanEvalExplain'},\n",
                            "     'metrics': [{'name': 'pass@1', 'value': 0.439}],\n",
                            "     'tags': ['Code explanation']},\n",
                            "    {'type': 'academic',\n",
                            "     'name': 'Code',\n",
                            "     'description': \"Evaluates a model's ability to explain C++, Go, Java, JavaScript, Python and Rust code by using the 'HumanEval' dataset to first ask the model to explain the solution to a programming problem and then solve the problem given only the previously generated explanation. Metric represents the pass@1 score.\",\n",
                            "     'language': 'Go',\n",
                            "     'dataset': {'name': 'HumanEvalExplain'},\n",
                            "     'metrics': [{'name': 'pass@1', 'value': 0.366}],\n",
                            "     'tags': ['Code explanation']},\n",
                            "    {'type': 'academic',\n",
                            "     'name': 'Code',\n",
                            "     'description': \"Evaluates a model's ability to explain C++, Go, Java, JavaScript, Python and Rust code by using the 'HumanEval' dataset to first ask the model to explain the solution to a programming problem and then solve the problem given only the previously generated explanation. Metric represents the pass@1 score.\",\n",
                            "     'language': 'Java',\n",
                            "     'dataset': {'name': 'HumanEvalExplain'},\n",
                            "     'metrics': [{'name': 'pass@1', 'value': 0.524}],\n",
                            "     'tags': ['Code explanation']},\n",
                            "    {'type': 'academic',\n",
                            "     'name': 'Code',\n",
                            "     'description': \"Evaluates a model's ability to explain C++, Go, Java, JavaScript, Python and Rust code by using the 'HumanEval' dataset to first ask the model to explain the solution to a programming problem and then solve the problem given only the previously generated explanation. Metric represents the pass@1 score.\",\n",
                            "     'language': 'JavaScript',\n",
                            "     'dataset': {'name': 'HumanEvalExplain'},\n",
                            "     'metrics': [{'name': 'pass@1', 'value': 0.427}],\n",
                            "     'tags': ['Code explanation']},\n",
                            "    {'type': 'academic',\n",
                            "     'name': 'Code',\n",
                            "     'description': \"Evaluates a model's ability to explain C++, Go, Java, JavaScript, Python and Rust code by using the 'HumanEval' dataset to first ask the model to explain the solution to a programming problem and then solve the problem given only the previously generated explanation. Metric represents the pass@1 score.\",\n",
                            "     'language': 'Python',\n",
                            "     'dataset': {'name': 'HumanEvalExplain'},\n",
                            "     'metrics': [{'name': 'pass@1', 'value': 0.53}],\n",
                            "     'tags': ['Code explanation']},\n",
                            "    {'type': 'academic',\n",
                            "     'name': 'Code',\n",
                            "     'description': \"Evaluates a model's ability to explain C++, Go, Java, JavaScript, Python and Rust code by using the 'HumanEval' dataset to first ask the model to explain the solution to a programming problem and then solve the problem given only the previously generated explanation. Metric represents the pass@1 score.\",\n",
                            "     'language': 'Rust',\n",
                            "     'dataset': {'name': 'HumanEvalExplain'},\n",
                            "     'metrics': [{'name': 'pass@1', 'value': 0.165}],\n",
                            "     'tags': ['Code explanation']},\n",
                            "    {'type': 'watsonx.ai',\n",
                            "     'name': 'Code',\n",
                            "     'description': \"Evaluates a model's ability to explain C++, Go, Java, JavaScript, Python and Rust code by using the 'HumanEval' dataset to first ask the model to explain the solution to a programming problem and then solve the problem given only the previously generated explanation. Metric represents the pass@1 score.\",\n",
                            "     'language': 'C++',\n",
                            "     'dataset': {'name': 'HumanEvalExplain'},\n",
                            "     'metrics': [{'name': 'pass@1', 'value': 0.396}],\n",
                            "     'tags': ['Code explanation']},\n",
                            "    {'type': 'watsonx.ai',\n",
                            "     'name': 'Code',\n",
                            "     'description': \"Evaluates a model's ability to explain C++, Go, Java, JavaScript, Python and Rust code by using the 'HumanEval' dataset to first ask the model to explain the solution to a programming problem and then solve the problem given only the previously generated explanation. Metric represents the pass@1 score.\",\n",
                            "     'language': 'Go',\n",
                            "     'dataset': {'name': 'HumanEvalExplain'},\n",
                            "     'metrics': [{'name': 'pass@1', 'value': 0.396}],\n",
                            "     'tags': ['Code explanation']},\n",
                            "    {'type': 'watsonx.ai',\n",
                            "     'name': 'Code',\n",
                            "     'description': \"Evaluates a model's ability to explain C++, Go, Java, JavaScript, Python and Rust code by using the 'HumanEval' dataset to first ask the model to explain the solution to a programming problem and then solve the problem given only the previously generated explanation. Metric represents the pass@1 score.\",\n",
                            "     'language': 'Java',\n",
                            "     'dataset': {'name': 'HumanEvalExplain'},\n",
                            "     'metrics': [{'name': 'pass@1', 'value': 0.476}],\n",
                            "     'tags': ['Code explanation']},\n",
                            "    {'type': 'watsonx.ai',\n",
                            "     'name': 'Code',\n",
                            "     'description': \"Evaluates a model's ability to explain C++, Go, Java, JavaScript, Python and Rust code by using the 'HumanEval' dataset to first ask the model to explain the solution to a programming problem and then solve the problem given only the previously generated explanation. Metric represents the pass@1 score.\",\n",
                            "     'language': 'JavaScript',\n",
                            "     'dataset': {'name': 'HumanEvalExplain'},\n",
                            "     'metrics': [{'name': 'pass@1', 'value': 0.39}],\n",
                            "     'tags': ['Code explanation']},\n",
                            "    {'type': 'watsonx.ai',\n",
                            "     'name': 'Code',\n",
                            "     'description': \"Evaluates a model's ability to explain C++, Go, Java, JavaScript, Python and Rust code by using the 'HumanEval' dataset to first ask the model to explain the solution to a programming problem and then solve the problem given only the previously generated explanation. Metric represents the pass@1 score.\",\n",
                            "     'language': 'Python',\n",
                            "     'dataset': {'name': 'HumanEvalExplain'},\n",
                            "     'metrics': [{'name': 'pass@1', 'value': 0.506}],\n",
                            "     'tags': ['Code explanation']},\n",
                            "    {'type': 'watsonx.ai',\n",
                            "     'name': 'Code',\n",
                            "     'description': \"Evaluates a model's ability to explain C++, Go, Java, JavaScript, Python and Rust code by using the 'HumanEval' dataset to first ask the model to explain the solution to a programming problem and then solve the problem given only the previously generated explanation. Metric represents the pass@1 score.\",\n",
                            "     'language': 'Rust',\n",
                            "     'dataset': {'name': 'HumanEvalExplain'},\n",
                            "     'metrics': [{'name': 'pass@1', 'value': 0.22}],\n",
                            "     'tags': ['Code explanation']}]},\n",
                            "  {'id': 'code-fixing',\n",
                            "   'benchmarks': [{'type': 'academic',\n",
                            "     'name': 'Code',\n",
                            "     'description': \"Evaluates a model's ability to fix coding errors in the C++, Go, Java, JavaScript, Python and Rust using 'HumanEval' dataset with introduced errors and unit tests to help identify problems. Metric represents the pass@1 score.\",\n",
                            "     'language': 'C++',\n",
                            "     'dataset': {'name': 'HumanEvalFix'},\n",
                            "     'metrics': [{'name': 'pass@1', 'value': 0.39}],\n",
                            "     'tags': ['Code fixing']},\n",
                            "    {'type': 'academic',\n",
                            "     'name': 'Code',\n",
                            "     'description': \"Evaluates a model's ability to fix coding errors in the C++, Go, Java, JavaScript, Python and Rust using 'HumanEval' dataset with introduced errors and unit tests to help identify problems. Metric represents the pass@1 score.\",\n",
                            "     'language': 'Go',\n",
                            "     'dataset': {'name': 'HumanEvalFix'},\n",
                            "     'metrics': [{'name': 'pass@1', 'value': 0.415}],\n",
                            "     'tags': ['Code fixing']},\n",
                            "    {'type': 'academic',\n",
                            "     'name': 'Code',\n",
                            "     'description': \"Evaluates a model's ability to fix coding errors in the C++, Go, Java, JavaScript, Python and Rust using 'HumanEval' dataset with introduced errors and unit tests to help identify problems. Metric represents the pass@1 score.\",\n",
                            "     'language': 'Java',\n",
                            "     'dataset': {'name': 'HumanEvalFix'},\n",
                            "     'metrics': [{'name': 'pass@1', 'value': 0.482}],\n",
                            "     'tags': ['Code fixing']},\n",
                            "    {'type': 'academic',\n",
                            "     'name': 'Code',\n",
                            "     'description': \"Evaluates a model's ability to fix coding errors in the C++, Go, Java, JavaScript, Python and Rust using 'HumanEval' dataset with introduced errors and unit tests to help identify problems. Metric represents the pass@1 score.\",\n",
                            "     'language': 'JavaScript',\n",
                            "     'dataset': {'name': 'HumanEvalFix'},\n",
                            "     'metrics': [{'name': 'pass@1', 'value': 0.409}],\n",
                            "     'tags': ['Code fixing']},\n",
                            "    {'type': 'academic',\n",
                            "     'name': 'Code',\n",
                            "     'description': \"Evaluates a model's ability to fix coding errors in the C++, Go, Java, JavaScript, Python and Rust using 'HumanEval' dataset with introduced errors and unit tests to help identify problems. Metric represents the pass@1 score.\",\n",
                            "     'language': 'Python',\n",
                            "     'dataset': {'name': 'HumanEvalFix'},\n",
                            "     'metrics': [{'name': 'pass@1', 'value': 0.396}],\n",
                            "     'tags': ['Code fixing']},\n",
                            "    {'type': 'academic',\n",
                            "     'name': 'Code',\n",
                            "     'description': \"Evaluates a model's ability to fix coding errors in the C++, Go, Java, JavaScript, Python and Rust using 'HumanEval' dataset with introduced errors and unit tests to help identify problems. Metric represents the pass@1 score.\",\n",
                            "     'language': 'Rust',\n",
                            "     'dataset': {'name': 'HumanEvalFix'},\n",
                            "     'metrics': [{'name': 'pass@1', 'value': 0.329}],\n",
                            "     'tags': ['Code fixing']},\n",
                            "    {'type': 'watsonx.ai',\n",
                            "     'name': 'Code',\n",
                            "     'description': \"Evaluates a model's ability to fix coding errors in the C++, Go, Java, JavaScript, Python and Rust using 'HumanEval' dataset with introduced errors and unit tests to help identify problems. Metric represents the pass@1 score.\",\n",
                            "     'language': 'C++',\n",
                            "     'dataset': {'name': 'HumanEvalFix'},\n",
                            "     'metrics': [{'name': 'pass@1', 'value': 0.39}],\n",
                            "     'tags': ['Code fixing']},\n",
                            "    {'type': 'watsonx.ai',\n",
                            "     'name': 'Code',\n",
                            "     'description': \"Evaluates a model's ability to fix coding errors in the C++, Go, Java, JavaScript, Python and Rust using 'HumanEval' dataset with introduced errors and unit tests to help identify problems. Metric represents the pass@1 score.\",\n",
                            "     'language': 'Go',\n",
                            "     'dataset': {'name': 'HumanEvalFix'},\n",
                            "     'metrics': [{'name': 'pass@1', 'value': 0.421}],\n",
                            "     'tags': ['Code fixing']},\n",
                            "    {'type': 'watsonx.ai',\n",
                            "     'name': 'Code',\n",
                            "     'description': \"Evaluates a model's ability to fix coding errors in the C++, Go, Java, JavaScript, Python and Rust using 'HumanEval' dataset with introduced errors and unit tests to help identify problems. Metric represents the pass@1 score.\",\n",
                            "     'language': 'Java',\n",
                            "     'dataset': {'name': 'HumanEvalFix'},\n",
                            "     'metrics': [{'name': 'pass@1', 'value': 0.482}],\n",
                            "     'tags': ['Code fixing']},\n",
                            "    {'type': 'watsonx.ai',\n",
                            "     'name': 'Code',\n",
                            "     'description': \"Evaluates a model's ability to fix coding errors in the C++, Go, Java, JavaScript, Python and Rust using 'HumanEval' dataset with introduced errors and unit tests to help identify problems. Metric represents the pass@1 score.\",\n",
                            "     'language': 'JavaScript',\n",
                            "     'dataset': {'name': 'HumanEvalFix'},\n",
                            "     'metrics': [{'name': 'pass@1', 'value': 0.427}],\n",
                            "     'tags': ['Code fixing']},\n",
                            "    {'type': 'watsonx.ai',\n",
                            "     'name': 'Code',\n",
                            "     'description': \"Evaluates a model's ability to fix coding errors in the C++, Go, Java, JavaScript, Python and Rust using 'HumanEval' dataset with introduced errors and unit tests to help identify problems. Metric represents the pass@1 score.\",\n",
                            "     'language': 'Python',\n",
                            "     'dataset': {'name': 'HumanEvalFix'},\n",
                            "     'metrics': [{'name': 'pass@1', 'value': 0.402}],\n",
                            "     'tags': ['Code fixing']},\n",
                            "    {'type': 'watsonx.ai',\n",
                            "     'name': 'Code',\n",
                            "     'description': \"Evaluates a model's ability to fix coding errors in the C++, Go, Java, JavaScript, Python and Rust using 'HumanEval' dataset with introduced errors and unit tests to help identify problems. Metric represents the pass@1 score.\",\n",
                            "     'language': 'Rust',\n",
                            "     'dataset': {'name': 'HumanEvalFix'},\n",
                            "     'metrics': [{'name': 'pass@1', 'value': 0.28}],\n",
                            "     'tags': ['Code fixing']}]}],\n",
                            " 'model_limits': {'max_sequence_length': 128000, 'max_output_tokens': 4096},\n",
                            " 'limits': {'cpd': {'max_output_tokens': 4096}},\n",
                            " 'lifecycle': [{'id': 'available',\n",
                            "   'since_version': '9.1.0',\n",
                            "   'current_state': True}],\n",
                            " 'fine_tuning_parameters': {'num_epochs': {'default': 5, 'min': 1, 'max': 50},\n",
                            "  'verbalizer': {'default': '### Input: {{input}} \\n\\n### Response: {{output}}'},\n",
                            "  'batch_size': {'default': 5, 'min': 1, 'max': 16},\n",
                            "  'accumulate_steps': {'default': 1, 'min': 1, 'max': 128},\n",
                            "  'learning_rate': {'default': 3e-05, 'min': 1e-05, 'max': 0.5},\n",
                            "  'max_seq_length': {'default': 1024, 'min': 1, 'max': 8192},\n",
                            "  'tokenizer': {'default': 'ibm/granite-8b-code-instruct'},\n",
                            "  'response_template': {'default': '\\n### Response:'},\n",
                            "  'num_gpus': {'default': 4},\n",
                            "  'gradient_checkpointing': {'default': True}},\n",
                            " 'deployment_parameters': [{'name': 'dtype',\n",
                            "   'display_name': 'Data Type',\n",
                            "   'default': 'float16',\n",
                            "   'type': 'string',\n",
                            "   'options': ['float16']},\n",
                            "  {'name': 'max_batch_size',\n",
                            "   'display_name': 'Max Batch Size',\n",
                            "   'default': 8,\n",
                            "   'type': 'number'},\n",
                            "  {'name': 'max_concurrent_requests',\n",
                            "   'display_name': 'Max Concurrent Requests',\n",
                            "   'default': 1024,\n",
                            "   'type': 'number'},\n",
                            "  {'name': 'max_sequence_length',\n",
                            "   'display_name': 'Max Sequence Length',\n",
                            "   'default': 4096,\n",
                            "   'type': 'number'},\n",
                            "  {'name': 'max_new_tokens',\n",
                            "   'display_name': 'Max New Tokens',\n",
                            "   'default': 4095,\n",
                            "   'type': 'number'},\n",
                            "  {'name': 'enable_lora',\n",
                            "   'display_name': 'Enable Lora',\n",
                            "   'default': False,\n",
                            "   'type': 'boolean'},\n",
                            "  {'name': 'max_gpu_loras',\n",
                            "   'display_name': 'Max GPU Loras',\n",
                            "   'default': 8,\n",
                            "   'type': 'number',\n",
                            "   'required_if': [{'field': 'enable_lora', 'value': True}]},\n",
                            "  {'name': 'max_cpu_loras',\n",
                            "   'display_name': 'Max CPU Loras',\n",
                            "   'default': 10,\n",
                            "   'type': 'number',\n",
                            "   'required_if': [{'field': 'enable_lora', 'value': True}]},\n",
                            "  {'name': 'max_lora_rank',\n",
                            "   'display_name': 'Max Lora Rank',\n",
                            "   'default': 32,\n",
                            "   'type': 'number',\n",
                            "   'options': [8, 16, 32, 64, 128, 256],\n",
                            "   'required_if': [{'field': 'enable_lora', 'value': True}]}]}"
                        ]
                    },
                    "execution_count": 10,
                    "metadata": {},
                    "output_type": "execute_result"
                }
            ],
            "source": [
                "model.get_details()"
            ]
        },
        {
            "cell_type": "markdown",
            "metadata": {},
            "source": [
                "<a id=\"generate\"></a>\n",
                "## Generate code based on instruction"
            ]
        },
        {
            "cell_type": "markdown",
            "metadata": {},
            "source": [
                "Define instructions for the model with at-least one example."
            ]
        },
        {
            "cell_type": "code",
            "execution_count": 11,
            "metadata": {},
            "outputs": [],
            "source": [
                "instruction = \"\"\"Using the directions below, generate Python code for the given task.\n",
                "Input:\n",
                "# Write a Python function that prints 'Hello World!' string 'n' times.\n",
                "\n",
                "Output:\n",
                "def print_n_times(n):\n",
                "    for i in range(n):\n",
                "        print(\"Hello World!\")\n",
                "\n",
                "<end of code>\n",
                "\"\"\""
            ]
        },
        {
            "cell_type": "markdown",
            "metadata": {},
            "source": [
                "Prepare question for the model."
            ]
        },
        {
            "cell_type": "code",
            "execution_count": 12,
            "metadata": {
                "scrolled": true
            },
            "outputs": [],
            "source": [
                "question = \"\"\"Input:\n",
                "# Write a Python function, which generates sequence of prime numbers.\n",
                "# The function 'primes' will take the argument 'n', an int. It will return a list which contains all primes less than 'n'.\n",
                "\"\"\""
            ]
        },
        {
            "cell_type": "markdown",
            "metadata": {},
            "source": [
                "### Generate the code using `ibm/granite-8b-code-instruct` model."
            ]
        },
        {
            "cell_type": "markdown",
            "metadata": {},
            "source": [
                "Inference the model to generate the code, according to provided instruction."
            ]
        },
        {
            "cell_type": "code",
            "execution_count": 13,
            "metadata": {},
            "outputs": [],
            "source": [
                "result = model.generate_text(f\"{instruction} {question}\")"
            ]
        },
        {
            "cell_type": "markdown",
            "metadata": {},
            "source": [
                "Formatting the text to get the function itself"
            ]
        },
        {
            "cell_type": "code",
            "execution_count": 14,
            "metadata": {},
            "outputs": [],
            "source": [
                "code_as_text = result.split(\"Output:\")[1].split(\"<end of code>\")[0]"
            ]
        },
        {
            "cell_type": "markdown",
            "metadata": {},
            "source": [
                "<a id=\"testing\"></a>\n",
                "## Generated code testing"
            ]
        },
        {
            "cell_type": "markdown",
            "metadata": {},
            "source": [
                "The resulting code looks as below."
            ]
        },
        {
            "cell_type": "code",
            "execution_count": 15,
            "metadata": {},
            "outputs": [
                {
                    "name": "stdout",
                    "output_type": "stream",
                    "text": [
                        "\n",
                        "def primes(n):\n",
                        "    primes = []\n",
                        "    for num in range(2, n):\n",
                        "        is_prime = True\n",
                        "        for i in range(2, num):\n",
                        "            if num % i == 0:\n",
                        "                is_prime = False\n",
                        "                break\n",
                        "        if is_prime:\n",
                        "            primes.append(num)\n",
                        "    return primes\n",
                        "\n",
                        "\n"
                    ]
                }
            ],
            "source": [
                "print(code_as_text)"
            ]
        },
        {
            "cell_type": "markdown",
            "metadata": {},
            "source": [
                "Use generated code to make it as function.\n",
                "\n",
                "**Note**: Before executing this line, make sure the model's output visible above doesn't contain any malicious instructions."
            ]
        },
        {
            "cell_type": "code",
            "execution_count": 16,
            "metadata": {},
            "outputs": [],
            "source": [
                "exec(code_as_text)"
            ]
        },
        {
            "cell_type": "markdown",
            "metadata": {},
            "source": [
                "Define the number 'n' for which the primes() function should process prime numbers."
            ]
        },
        {
            "cell_type": "code",
            "execution_count": 17,
            "metadata": {},
            "outputs": [],
            "source": [
                "n = 25"
            ]
        },
        {
            "cell_type": "markdown",
            "metadata": {},
            "source": [
                "Test and run the generated function."
            ]
        },
        {
            "cell_type": "code",
            "execution_count": 18,
            "metadata": {},
            "outputs": [
                {
                    "data": {
                        "text/plain": [
                            "[2, 3, 5, 7, 11, 13, 17, 19, 23]"
                        ]
                    },
                    "execution_count": 18,
                    "metadata": {},
                    "output_type": "execute_result"
                }
            ],
            "source": [
                "primes(n)"
            ]
        },
        {
            "cell_type": "markdown",
            "metadata": {
                "pycharm": {
                    "name": "#%% md\n"
                }
            },
            "source": [
                "<a id=\"summary\"></a>\n",
                "## Summary and next steps\n",
                "\n",
                "You successfully completed this notebook!\n",
                " \n",
                "You learned how to generate code based on instruction with `ibm/granite-8b-code-instruct` in watsonx.ai. \n",
                " \n",
                "Check out our _<a href=\"https://ibm.github.io/watsonx-ai-python-sdk/samples.html\" target=\"_blank\" rel=\"noopener no referrer\">Online Documentation</a>_ for more samples, tutorials, documentation, how-tos, and blog posts. "
            ]
        },
        {
            "cell_type": "markdown",
            "metadata": {
                "pycharm": {
                    "name": "#%% md\n"
                }
            },
            "source": [
                "### Authors\n",
                "\n",
                "**Mateusz Szewczyk**, Software Engineer at watsonx.ai."
            ]
        },
        {
            "cell_type": "markdown",
            "metadata": {
                "pycharm": {
                    "name": "#%% md\n"
                }
            },
            "source": [
                "Copyright © 2023-2025 IBM. This notebook and its source code are released under the terms of the MIT License."
            ]
        }
    ],
    "metadata": {
        "kernelspec": {
            "display_name": "watsonx-ai-samples-py-312",
            "language": "python",
            "name": "python3"
        },
        "language_info": {
            "codemirror_mode": {
                "name": "ipython",
                "version": 3
            },
            "file_extension": ".py",
            "mimetype": "text/x-python",
            "name": "python",
            "nbconvert_exporter": "python",
            "pygments_lexer": "ipython3",
            "version": "3.12.9"
        }
    },
    "nbformat": 4,
    "nbformat_minor": 4
}

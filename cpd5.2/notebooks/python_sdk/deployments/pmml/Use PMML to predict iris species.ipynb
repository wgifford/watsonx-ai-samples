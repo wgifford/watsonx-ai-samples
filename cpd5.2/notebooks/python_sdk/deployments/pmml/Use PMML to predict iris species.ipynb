{
  "cells": [
    {
      "cell_type": "markdown",
      "metadata": {},
      "source": [
        "# Use PMML to predict iris species with `ibm-watsonx-ai`"
      ]
    },
    {
      "cell_type": "markdown",
      "metadata": {},
      "source": [
        "This notebook contains steps from storing sample PMML model to starting scoring new data using online and batch deployment. \n",
        "\n",
        "Some familiarity with python is helpful. This notebook uses Python 3.12.\n",
        "\n",
        "You will use a **Iris** data set, which details measurements of iris perianth. Use the details of this data set to predict iris species.\n",
        "\n",
        "## Learning goals\n",
        "\n",
        "The learning goals of this notebook are:\n",
        "\n",
        "-  Working with the WML instance\n",
        "-  Batch deployment of PMML model\n",
        "-  Scoring of deployed model\n",
        "\n",
        "\n",
        "## Contents\n",
        "\n",
        "This notebook contains the following parts:\n",
        "\n",
        "1. [Setup](#setup)\n",
        "2. [Model upload](#upload) \n",
        "3. [Deployment creation](#deploy)\n",
        "4. [Scoring](#score)\n",
        "5. [Clean up](#cleanup)\n",
        "6. [Summary and next steps](#summary)"
      ]
    },
    {
      "cell_type": "markdown",
      "metadata": {},
      "source": [
        "<a id=\"setup\"></a>\n",
        "## 1. Set up the environment\n",
        "\n",
        "Before you use the sample code in this notebook, you must perform the following setup tasks:\n",
        "\n",
        "-  Contact with your Cloud Pak for Data administrator and ask them for your account credentials"
      ]
    },
    {
      "cell_type": "markdown",
      "metadata": {},
      "source": [
        "### Install dependencies\n",
        "**Note:** `ibm-watsonx-ai` documentation can be found <a href=\"https://ibm.github.io/watsonx-ai-python-sdk/index.html\" target=\"_blank\" rel=\"noopener no referrer\">here</a>."
      ]
    },
    {
      "cell_type": "code",
      "execution_count": 1,
      "metadata": {},
      "outputs": [
        {
          "name": "stdout",
          "output_type": "stream",
          "text": [
            "Successfully installed wget-3.2\n",
            "\u001b[1A\u001b[2KSuccessfully installed anyio-4.9.0 certifi-2025.4.26 charset-normalizer-3.4.2 h11-0.16.0 httpcore-1.0.9 httpx-0.28.1 ibm-cos-sdk-2.14.0 ibm-cos-sdk-core-2.14.0 ibm-cos-sdk-s3transfer-2.14.0 ibm-watsonx-ai-1.3.13 idna-3.10 jmespath-1.0.1 lomond-0.3.3 numpy-2.2.5 pandas-2.2.3 pytz-2025.2 requests-2.32.2 sniffio-1.3.1 tabulate-0.9.0 typing_extensions-4.13.2 tzdata-2025.2 urllib3-2.4.0\n"
          ]
        }
      ],
      "source": [
        "%pip install -U wget | tail -n 1\n",
        "%pip install -U ibm-watsonx-ai | tail -n 1"
      ]
    },
    {
      "cell_type": "markdown",
      "metadata": {},
      "source": [
        "#### Define credentials\n",
        "\n",
        "Authenticate the watsonx.ai Runtime service on IBM Cloud Pak for Data. You need to provide the **admin's** `username` and the platform `url`."
      ]
    },
    {
      "cell_type": "code",
      "execution_count": null,
      "metadata": {},
      "outputs": [],
      "source": [
        "username = \"PASTE YOUR USERNAME HERE\"\n",
        "url = \"PASTE THE PLATFORM URL HERE\""
      ]
    },
    {
      "cell_type": "markdown",
      "metadata": {},
      "source": [
        "Use the **admin's** `api_key` to authenticate watsonx.ai Runtime services:"
      ]
    },
    {
      "cell_type": "code",
      "execution_count": null,
      "metadata": {},
      "outputs": [],
      "source": [
        "import getpass\n",
        "from ibm_watsonx_ai import Credentials\n",
        "\n",
        "credentials = Credentials(\n",
        "    username=username,\n",
        "    api_key=getpass.getpass(\"Enter your watsonx.ai API key and hit enter: \"),\n",
        "    url=url,\n",
        "    instance_id=\"openshift\",\n",
        "    version=\"5.2\",\n",
        ")"
      ]
    },
    {
      "cell_type": "markdown",
      "metadata": {},
      "source": [
        "Alternatively you can use the **admin's** `password`:"
      ]
    },
    {
      "cell_type": "code",
      "execution_count": 3,
      "metadata": {},
      "outputs": [],
      "source": [
        "import getpass\n",
        "from ibm_watsonx_ai import Credentials\n",
        "\n",
        "if \"credentials\" not in locals() or not credentials.api_key:\n",
        "    credentials = Credentials(\n",
        "        username=username,\n",
        "        password=getpass.getpass(\"Enter your watsonx.ai password and hit enter: \"),\n",
        "        url=url,\n",
        "        instance_id=\"openshift\",\n",
        "        version=\"5.2\",\n",
        "    )"
      ]
    },
    {
      "cell_type": "markdown",
      "metadata": {},
      "source": [
        "#### Create `APIClient` instance"
      ]
    },
    {
      "cell_type": "code",
      "execution_count": 4,
      "metadata": {},
      "outputs": [],
      "source": [
        "from ibm_watsonx_ai import APIClient\n",
        "\n",
        "client = APIClient(credentials)"
      ]
    },
    {
      "cell_type": "markdown",
      "metadata": {},
      "source": [
        "### Working with spaces\n",
        "\n",
        "First of all, you need to create a space that will be used for your work. If you do not have space already created, you can use `{PLATFORM_URL}/ml-runtime/spaces?context=icp4data` to create one.\n",
        "\n",
        "- Click New Deployment Space\n",
        "- Create an empty space\n",
        "- Go to space `Settings` tab\n",
        "- Copy `space_id` and paste it below\n",
        "\n",
        "**Tip**: You can also use SDK to prepare the space for your work. More information can be found [here](https://github.com/IBM/watsonx-ai-samples/blob/master/cpd5.2/notebooks/python_sdk/instance-management/Space%20management.ipynb).\n",
        "\n",
        "**Action**: Assign space ID below"
      ]
    },
    {
      "cell_type": "code",
      "execution_count": null,
      "metadata": {},
      "outputs": [],
      "source": [
        "space_id = \"PASTE YOUR SPACE ID HERE\""
      ]
    },
    {
      "cell_type": "markdown",
      "metadata": {},
      "source": [
        "You can use `list` method to print all existing spaces."
      ]
    },
    {
      "cell_type": "code",
      "execution_count": null,
      "metadata": {},
      "outputs": [],
      "source": [
        "client.spaces.list(limit=10)"
      ]
    },
    {
      "cell_type": "markdown",
      "metadata": {},
      "source": [
        "To be able to interact with all resources available in `watsonx.ai`, you need to set **space** which you will be using."
      ]
    },
    {
      "cell_type": "code",
      "execution_count": 6,
      "metadata": {},
      "outputs": [
        {
          "data": {
            "text/plain": [
              "'SUCCESS'"
            ]
          },
          "execution_count": 6,
          "metadata": {},
          "output_type": "execute_result"
        }
      ],
      "source": [
        "client.set.default_space(space_id)"
      ]
    },
    {
      "cell_type": "markdown",
      "metadata": {},
      "source": [
        "<a id=\"upload\"></a>\n",
        "## 2. Upload model"
      ]
    },
    {
      "cell_type": "markdown",
      "metadata": {},
      "source": [
        "In this section you will learn how to upload the model to the Cloud."
      ]
    },
    {
      "cell_type": "markdown",
      "metadata": {},
      "source": [
        "**Action**: Download sample PMML model from git project using wget."
      ]
    },
    {
      "cell_type": "code",
      "execution_count": 7,
      "metadata": {},
      "outputs": [],
      "source": [
        "import os\n",
        "from wget import download\n",
        "\n",
        "sample_dir = \"pmml_sample_model\"\n",
        "if not os.path.isdir(sample_dir):\n",
        "    os.mkdir(sample_dir)\n",
        "\n",
        "filename = os.path.join(sample_dir, \"iris_chaid.xml\")\n",
        "if not os.path.isfile(filename):\n",
        "    filename = download(\n",
        "        \"https://raw.githubusercontent.com/IBM/watsonx-ai-samples/master/cpd5.2/models/pmml/iris-species/model/iris_chaid.xml\",\n",
        "        out=sample_dir,\n",
        "    )"
      ]
    },
    {
      "cell_type": "markdown",
      "metadata": {},
      "source": [
        "Store downloaded file in `watsonx.ai` repository."
      ]
    },
    {
      "cell_type": "code",
      "execution_count": 8,
      "metadata": {},
      "outputs": [],
      "source": [
        "sw_spec_uid = client.software_specifications.get_uid_by_name(\"pmml-3.0_4.3\")\n",
        "\n",
        "meta_props = {\n",
        "    client.repository.ModelMetaNames.NAME: \"pmmlmodel\",\n",
        "    client.repository.ModelMetaNames.SOFTWARE_SPEC_UID: sw_spec_uid,\n",
        "    client.repository.ModelMetaNames.TYPE: \"pmml_4.2.1\",\n",
        "}"
      ]
    },
    {
      "cell_type": "code",
      "execution_count": 9,
      "metadata": {},
      "outputs": [],
      "source": [
        "published_model = client.repository.store_model(model=filename, meta_props=meta_props)"
      ]
    },
    {
      "cell_type": "markdown",
      "metadata": {},
      "source": [
        "**Note:** You can see that the model is successfully stored in watsonx.ai."
      ]
    },
    {
      "cell_type": "code",
      "execution_count": 10,
      "metadata": {},
      "outputs": [
        {
          "data": {
            "text/html": [
              "<div>\n",
              "<style scoped>\n",
              "    .dataframe tbody tr th:only-of-type {\n",
              "        vertical-align: middle;\n",
              "    }\n",
              "\n",
              "    .dataframe tbody tr th {\n",
              "        vertical-align: top;\n",
              "    }\n",
              "\n",
              "    .dataframe thead th {\n",
              "        text-align: right;\n",
              "    }\n",
              "</style>\n",
              "<table border=\"1\" class=\"dataframe\">\n",
              "  <thead>\n",
              "    <tr style=\"text-align: right;\">\n",
              "      <th></th>\n",
              "      <th>ID</th>\n",
              "      <th>NAME</th>\n",
              "      <th>CREATED</th>\n",
              "      <th>TYPE</th>\n",
              "      <th>SPEC_STATE</th>\n",
              "      <th>SPEC_REPLACEMENT</th>\n",
              "    </tr>\n",
              "  </thead>\n",
              "  <tbody>\n",
              "    <tr>\n",
              "      <th>0</th>\n",
              "      <td>f06faf9c-eb7c-4604-b745-11aa7f3da9d2</td>\n",
              "      <td>pmmlmodel</td>\n",
              "      <td>2025-05-13T12:11:16Z</td>\n",
              "      <td>pmml_4.2.1</td>\n",
              "      <td>supported</td>\n",
              "      <td></td>\n",
              "    </tr>\n",
              "  </tbody>\n",
              "</table>\n",
              "</div>"
            ],
            "text/plain": [
              "                                     ID       NAME               CREATED  \\\n",
              "0  f06faf9c-eb7c-4604-b745-11aa7f3da9d2  pmmlmodel  2025-05-13T12:11:16Z   \n",
              "\n",
              "         TYPE SPEC_STATE SPEC_REPLACEMENT  \n",
              "0  pmml_4.2.1  supported                   "
            ]
          },
          "execution_count": 10,
          "metadata": {},
          "output_type": "execute_result"
        }
      ],
      "source": [
        "client.repository.list_models()"
      ]
    },
    {
      "cell_type": "markdown",
      "metadata": {},
      "source": [
        "<a id=\"deploy\"></a>\n",
        "## 3. Create deployments\n",
        "\n",
        "In this step, we will create both an online deployment and a batch deployment of PMML model. Depending on your use-case, only one deployment out of these two might be necessary. You can learn more about batch deployments [here](https://dataplatform.cloud.ibm.com/docs/content/wsj/analyze-data/deploy-batch-details.html?context=cpdaas)."
      ]
    },
    {
      "cell_type": "markdown",
      "metadata": {},
      "source": [
        "### Online deployment\n",
        "You can use command below to create online deployment for stored model (web service)"
      ]
    },
    {
      "cell_type": "code",
      "execution_count": 11,
      "metadata": {},
      "outputs": [
        {
          "name": "stdout",
          "output_type": "stream",
          "text": [
            "\n",
            "\n",
            "######################################################################################\n",
            "\n",
            "Synchronous deployment creation for id: 'f06faf9c-eb7c-4604-b745-11aa7f3da9d2' started\n",
            "\n",
            "######################################################################################\n",
            "\n",
            "\n",
            "initializing\n",
            "Note: online_url is deprecated and will be removed in a future release. Use serving_urls instead.\n",
            "......\n",
            "ready\n",
            "\n",
            "\n",
            "-----------------------------------------------------------------------------------------------\n",
            "Successfully finished deployment creation, deployment_id='9eed99e9-0938-4de0-b3f4-766e2c8264ed'\n",
            "-----------------------------------------------------------------------------------------------\n",
            "\n",
            "\n"
          ]
        }
      ],
      "source": [
        "model_id = client.repository.get_model_id(published_model)\n",
        "online_deployment = client.deployments.create(\n",
        "    artifact_uid=model_id,\n",
        "    meta_props={\n",
        "        client.deployments.ConfigurationMetaNames.NAME: \"Sample PMML Online deployment\",\n",
        "        client.deployments.ConfigurationMetaNames.ONLINE: {},\n",
        "    },\n",
        ")"
      ]
    },
    {
      "cell_type": "markdown",
      "metadata": {},
      "source": [
        "You can retrieve now your online deployment ID"
      ]
    },
    {
      "cell_type": "code",
      "execution_count": 12,
      "metadata": {},
      "outputs": [],
      "source": [
        "online_deployment_id = client.deployments.get_id(online_deployment)"
      ]
    },
    {
      "cell_type": "markdown",
      "metadata": {},
      "source": [
        "You can also list all deployments in your space"
      ]
    },
    {
      "cell_type": "code",
      "execution_count": 13,
      "metadata": {},
      "outputs": [
        {
          "data": {
            "text/html": [
              "<div>\n",
              "<style scoped>\n",
              "    .dataframe tbody tr th:only-of-type {\n",
              "        vertical-align: middle;\n",
              "    }\n",
              "\n",
              "    .dataframe tbody tr th {\n",
              "        vertical-align: top;\n",
              "    }\n",
              "\n",
              "    .dataframe thead th {\n",
              "        text-align: right;\n",
              "    }\n",
              "</style>\n",
              "<table border=\"1\" class=\"dataframe\">\n",
              "  <thead>\n",
              "    <tr style=\"text-align: right;\">\n",
              "      <th></th>\n",
              "      <th>ID</th>\n",
              "      <th>NAME</th>\n",
              "      <th>STATE</th>\n",
              "      <th>CREATED</th>\n",
              "      <th>ARTIFACT_TYPE</th>\n",
              "      <th>SPEC_STATE</th>\n",
              "      <th>SPEC_REPLACEMENT</th>\n",
              "    </tr>\n",
              "  </thead>\n",
              "  <tbody>\n",
              "    <tr>\n",
              "      <th>0</th>\n",
              "      <td>9eed99e9-0938-4de0-b3f4-766e2c8264ed</td>\n",
              "      <td>Sample PMML Online deployment</td>\n",
              "      <td>ready</td>\n",
              "      <td>2025-05-13T12:11:27.339Z</td>\n",
              "      <td>model</td>\n",
              "      <td>supported</td>\n",
              "      <td></td>\n",
              "    </tr>\n",
              "  </tbody>\n",
              "</table>\n",
              "</div>"
            ],
            "text/plain": [
              "                                     ID                           NAME  STATE  \\\n",
              "0  9eed99e9-0938-4de0-b3f4-766e2c8264ed  Sample PMML Online deployment  ready   \n",
              "\n",
              "                    CREATED ARTIFACT_TYPE SPEC_STATE SPEC_REPLACEMENT  \n",
              "0  2025-05-13T12:11:27.339Z         model  supported                   "
            ]
          },
          "execution_count": 13,
          "metadata": {},
          "output_type": "execute_result"
        }
      ],
      "source": [
        "client.deployments.list()"
      ]
    },
    {
      "cell_type": "markdown",
      "metadata": {},
      "source": [
        "If you want to get additional information on your deployment, you can do it as below"
      ]
    },
    {
      "cell_type": "code",
      "execution_count": null,
      "metadata": {},
      "outputs": [],
      "source": [
        "client.deployments.get_details(online_deployment_id)"
      ]
    },
    {
      "cell_type": "markdown",
      "metadata": {},
      "source": [
        "### Batch deployment\n",
        "You can use command below to create batch deployment for stored model."
      ]
    },
    {
      "cell_type": "code",
      "execution_count": 15,
      "metadata": {},
      "outputs": [
        {
          "name": "stdout",
          "output_type": "stream",
          "text": [
            "\n",
            "\n",
            "######################################################################################\n",
            "\n",
            "Synchronous deployment creation for id: 'f06faf9c-eb7c-4604-b745-11aa7f3da9d2' started\n",
            "\n",
            "######################################################################################\n",
            "\n",
            "\n",
            "ready.\n",
            "\n",
            "\n",
            "-----------------------------------------------------------------------------------------------\n",
            "Successfully finished deployment creation, deployment_id='0855f464-e1db-4a99-b25f-902460cf298f'\n",
            "-----------------------------------------------------------------------------------------------\n",
            "\n",
            "\n"
          ]
        }
      ],
      "source": [
        "model_id = client.repository.get_model_id(published_model)\n",
        "batch_deployment = client.deployments.create(\n",
        "    artifact_uid=model_id,\n",
        "    meta_props={\n",
        "        client.deployments.ConfigurationMetaNames.NAME: \"Sample PMML Batch deployment\",\n",
        "        client.deployments.ConfigurationMetaNames.BATCH: {},\n",
        "        client.deployments.ConfigurationMetaNames.HARDWARE_SPEC: {\n",
        "            \"name\": \"S\",\n",
        "            \"num_nodes\": 1,\n",
        "        },\n",
        "    },\n",
        ")"
      ]
    },
    {
      "cell_type": "markdown",
      "metadata": {},
      "source": [
        "You can retrieve now your online deployment ID"
      ]
    },
    {
      "cell_type": "code",
      "execution_count": 16,
      "metadata": {},
      "outputs": [],
      "source": [
        "batch_deployment_id = client.deployments.get_id(batch_deployment)"
      ]
    },
    {
      "cell_type": "markdown",
      "metadata": {},
      "source": [
        "You can also list all deployments in your space"
      ]
    },
    {
      "cell_type": "code",
      "execution_count": 17,
      "metadata": {},
      "outputs": [
        {
          "data": {
            "text/html": [
              "<div>\n",
              "<style scoped>\n",
              "    .dataframe tbody tr th:only-of-type {\n",
              "        vertical-align: middle;\n",
              "    }\n",
              "\n",
              "    .dataframe tbody tr th {\n",
              "        vertical-align: top;\n",
              "    }\n",
              "\n",
              "    .dataframe thead th {\n",
              "        text-align: right;\n",
              "    }\n",
              "</style>\n",
              "<table border=\"1\" class=\"dataframe\">\n",
              "  <thead>\n",
              "    <tr style=\"text-align: right;\">\n",
              "      <th></th>\n",
              "      <th>ID</th>\n",
              "      <th>NAME</th>\n",
              "      <th>STATE</th>\n",
              "      <th>CREATED</th>\n",
              "      <th>ARTIFACT_TYPE</th>\n",
              "      <th>SPEC_STATE</th>\n",
              "      <th>SPEC_REPLACEMENT</th>\n",
              "    </tr>\n",
              "  </thead>\n",
              "  <tbody>\n",
              "    <tr>\n",
              "      <th>0</th>\n",
              "      <td>0855f464-e1db-4a99-b25f-902460cf298f</td>\n",
              "      <td>Sample PMML Batch deployment</td>\n",
              "      <td>ready</td>\n",
              "      <td>2025-05-13T12:12:20.581Z</td>\n",
              "      <td>model</td>\n",
              "      <td>supported</td>\n",
              "      <td></td>\n",
              "    </tr>\n",
              "    <tr>\n",
              "      <th>1</th>\n",
              "      <td>9eed99e9-0938-4de0-b3f4-766e2c8264ed</td>\n",
              "      <td>Sample PMML Online deployment</td>\n",
              "      <td>ready</td>\n",
              "      <td>2025-05-13T12:11:27.339Z</td>\n",
              "      <td>model</td>\n",
              "      <td>supported</td>\n",
              "      <td></td>\n",
              "    </tr>\n",
              "  </tbody>\n",
              "</table>\n",
              "</div>"
            ],
            "text/plain": [
              "                                     ID                           NAME  STATE  \\\n",
              "0  0855f464-e1db-4a99-b25f-902460cf298f   Sample PMML Batch deployment  ready   \n",
              "1  9eed99e9-0938-4de0-b3f4-766e2c8264ed  Sample PMML Online deployment  ready   \n",
              "\n",
              "                    CREATED ARTIFACT_TYPE SPEC_STATE SPEC_REPLACEMENT  \n",
              "0  2025-05-13T12:12:20.581Z         model  supported                   \n",
              "1  2025-05-13T12:11:27.339Z         model  supported                   "
            ]
          },
          "execution_count": 17,
          "metadata": {},
          "output_type": "execute_result"
        }
      ],
      "source": [
        "client.deployments.list()"
      ]
    },
    {
      "cell_type": "markdown",
      "metadata": {},
      "source": [
        "If you want to get additional information on your deployment, you can do it as below"
      ]
    },
    {
      "cell_type": "code",
      "execution_count": 18,
      "metadata": {},
      "outputs": [
        {
          "data": {
            "text/plain": [
              "{'entity': {'asset': {'id': 'f06faf9c-eb7c-4604-b745-11aa7f3da9d2'},\n",
              "  'batch': {},\n",
              "  'chat_enabled': False,\n",
              "  'custom': {},\n",
              "  'deployed_asset_type': 'model',\n",
              "  'hardware_spec': {'id': 'e7ed1d6c-2e89-42d7-aed5-863b972c1d2b',\n",
              "   'name': 'S',\n",
              "   'num_nodes': 1},\n",
              "  'name': 'Sample PMML Batch deployment',\n",
              "  'space_id': '8a13841b-df99-4b4d-bf2a-161ad2e33980',\n",
              "  'status': {'state': 'ready'}},\n",
              " 'metadata': {'created_at': '2025-05-13T12:12:20.581Z',\n",
              "  'id': '0855f464-e1db-4a99-b25f-902460cf298f',\n",
              "  'modified_at': '2025-05-13T12:12:20.581Z',\n",
              "  'name': 'Sample PMML Batch deployment',\n",
              "  'owner': '1000331001',\n",
              "  'space_id': '8a13841b-df99-4b4d-bf2a-161ad2e33980'}}"
            ]
          },
          "execution_count": 18,
          "metadata": {},
          "output_type": "execute_result"
        }
      ],
      "source": [
        "client.deployments.get_details(batch_deployment_id)"
      ]
    },
    {
      "cell_type": "markdown",
      "metadata": {},
      "source": [
        "<a id=\"score\"></a>\n",
        "## 4. Scoring\n",
        "\n",
        "In this step, we will score the models available through the recently created deployments."
      ]
    },
    {
      "cell_type": "code",
      "execution_count": 19,
      "metadata": {},
      "outputs": [],
      "source": [
        "import json\n",
        "\n",
        "meta_props = {\n",
        "    client.deployments.ScoringMetaNames.INPUT_DATA: [\n",
        "        {\n",
        "            \"fields\": [\"Sepal.Length\", \"Sepal.Width\", \"Petal.Length\", \"Petal.Width\"],\n",
        "            \"values\": [[5.1, 3.5, 1.4, 0.2]],\n",
        "        }\n",
        "    ]\n",
        "}"
      ]
    },
    {
      "cell_type": "markdown",
      "metadata": {},
      "source": [
        "### Online deployment scoring\n",
        "Scoring of online deployments can be performed using the `score` method."
      ]
    },
    {
      "cell_type": "code",
      "execution_count": 20,
      "metadata": {},
      "outputs": [
        {
          "name": "stdout",
          "output_type": "stream",
          "text": [
            "{\n",
            "  \"predictions\": [\n",
            "    {\n",
            "      \"fields\": [\n",
            "        \"$R-Species\",\n",
            "        \"$RC-Species\",\n",
            "        \"$RP-Species\",\n",
            "        \"$RP-setosa\",\n",
            "        \"$RP-versicolor\",\n",
            "        \"$RP-virginica\",\n",
            "        \"$RI-Species\"\n",
            "      ],\n",
            "      \"values\": [\n",
            "        [\n",
            "          \"setosa\",\n",
            "          1.0,\n",
            "          1.0,\n",
            "          1.0,\n",
            "          0.0,\n",
            "          0.0,\n",
            "          \"1\"\n",
            "        ]\n",
            "      ]\n",
            "    }\n",
            "  ]\n",
            "}\n"
          ]
        }
      ],
      "source": [
        "predictions = client.deployments.score(online_deployment_id, meta_props)\n",
        "\n",
        "print(json.dumps(predictions, indent=2))"
      ]
    },
    {
      "cell_type": "markdown",
      "metadata": {},
      "source": [
        "### Batch deployment scoring\n",
        "\n",
        "In order to score a model in batch deployment, a job needs to be created."
      ]
    },
    {
      "cell_type": "code",
      "execution_count": 21,
      "metadata": {},
      "outputs": [],
      "source": [
        "job = client.deployments.create_job(batch_deployment_id, meta_props=meta_props)"
      ]
    },
    {
      "cell_type": "markdown",
      "metadata": {},
      "source": [
        "After submitting your job, you can retrieve its ID"
      ]
    },
    {
      "cell_type": "code",
      "execution_count": 22,
      "metadata": {},
      "outputs": [],
      "source": [
        "job_id = client.deployments.get_job_id(job)"
      ]
    },
    {
      "cell_type": "markdown",
      "metadata": {},
      "source": [
        "You can also list all jobs in your space."
      ]
    },
    {
      "cell_type": "code",
      "execution_count": 23,
      "metadata": {},
      "outputs": [
        {
          "data": {
            "text/html": [
              "<div>\n",
              "<style scoped>\n",
              "    .dataframe tbody tr th:only-of-type {\n",
              "        vertical-align: middle;\n",
              "    }\n",
              "\n",
              "    .dataframe tbody tr th {\n",
              "        vertical-align: top;\n",
              "    }\n",
              "\n",
              "    .dataframe thead th {\n",
              "        text-align: right;\n",
              "    }\n",
              "</style>\n",
              "<table border=\"1\" class=\"dataframe\">\n",
              "  <thead>\n",
              "    <tr style=\"text-align: right;\">\n",
              "      <th></th>\n",
              "      <th>JOB-ID</th>\n",
              "      <th>STATE</th>\n",
              "      <th>CREATED</th>\n",
              "      <th>DEPLOYMENT-ID</th>\n",
              "    </tr>\n",
              "  </thead>\n",
              "  <tbody>\n",
              "    <tr>\n",
              "      <th>0</th>\n",
              "      <td>e9c67ed5-2a42-4c29-83a7-49d2107aec7f</td>\n",
              "      <td>queued</td>\n",
              "      <td>2025-05-13T12:12:47.216Z</td>\n",
              "      <td>0855f464-e1db-4a99-b25f-902460cf298f</td>\n",
              "    </tr>\n",
              "  </tbody>\n",
              "</table>\n",
              "</div>"
            ],
            "text/plain": [
              "                                 JOB-ID   STATE                   CREATED  \\\n",
              "0  e9c67ed5-2a42-4c29-83a7-49d2107aec7f  queued  2025-05-13T12:12:47.216Z   \n",
              "\n",
              "                          DEPLOYMENT-ID  \n",
              "0  0855f464-e1db-4a99-b25f-902460cf298f  "
            ]
          },
          "execution_count": 23,
          "metadata": {},
          "output_type": "execute_result"
        }
      ],
      "source": [
        "client.deployments.list_jobs()"
      ]
    },
    {
      "cell_type": "markdown",
      "metadata": {},
      "source": [
        "If you want to get additional information on your job, you can do it as below."
      ]
    },
    {
      "cell_type": "code",
      "execution_count": 24,
      "metadata": {},
      "outputs": [
        {
          "data": {
            "text/plain": [
              "{'entity': {'deployment': {'id': '0855f464-e1db-4a99-b25f-902460cf298f'},\n",
              "  'platform_job': {'job_id': 'd0d23a0f-f968-42f8-a35a-64dadd01d800',\n",
              "   'run_id': '917b7508-c432-4572-956c-6c3f03080eb7'},\n",
              "  'scoring': {'input_data': [{'fields': ['Sepal.Length',\n",
              "      'Sepal.Width',\n",
              "      'Petal.Length',\n",
              "      'Petal.Width'],\n",
              "     'values': [[5.1, 3.5, 1.4, 0.2]]}],\n",
              "   'status': {'completed_at': '', 'running_at': '', 'state': 'queued'}}},\n",
              " 'metadata': {'created_at': '2025-05-13T12:12:47.216Z',\n",
              "  'id': 'e9c67ed5-2a42-4c29-83a7-49d2107aec7f',\n",
              "  'name': 'name_5c8af886-daed-4f9a-8850-56c48271c167',\n",
              "  'space_id': '8a13841b-df99-4b4d-bf2a-161ad2e33980'}}"
            ]
          },
          "execution_count": 24,
          "metadata": {},
          "output_type": "execute_result"
        }
      ],
      "source": [
        "client.deployments.get_job_details(job_id)"
      ]
    },
    {
      "cell_type": "markdown",
      "metadata": {},
      "source": [
        "Here you can check status of your batch scoring."
      ]
    },
    {
      "cell_type": "code",
      "execution_count": 25,
      "metadata": {},
      "outputs": [
        {
          "name": "stdout",
          "output_type": "stream",
          "text": [
            " Current state: queued\n",
            " Current state: queued\n",
            " Current state: completed\n",
            "{'entity': {'deployment': {'id': '0855f464-e1db-4a99-b25f-902460cf298f'}, 'platform_job': {'job_id': 'd0d23a0f-f968-42f8-a35a-64dadd01d800', 'run_id': '917b7508-c432-4572-956c-6c3f03080eb7'}, 'scoring': {'input_data': [{'fields': ['Sepal.Length', 'Sepal.Width', 'Petal.Length', 'Petal.Width'], 'values': [[5.1, 3.5, 1.4, 0.2]]}], 'predictions': [{'fields': ['$R-Species', '$RC-Species', '$RP-Species', '$RP-setosa', '$RP-versicolor', '$RP-virginica', '$RI-Species'], 'values': [['setosa', 1.0, 1.0, 1.0, 0.0, 0.0, '1']]}], 'status': {'completed_at': '2025-05-13T12:13:15.000Z', 'running_at': '2025-05-13T12:13:15.000Z', 'state': 'completed'}}}, 'metadata': {'created_at': '2025-05-13T12:12:47.216Z', 'id': 'e9c67ed5-2a42-4c29-83a7-49d2107aec7f', 'modified_at': '2025-05-13T12:13:15.701Z', 'name': 'name_5c8af886-daed-4f9a-8850-56c48271c167', 'space_id': '8a13841b-df99-4b4d-bf2a-161ad2e33980'}}\n"
          ]
        }
      ],
      "source": [
        "import time\n",
        "\n",
        "elapsed_time = 0\n",
        "while (\n",
        "    client.deployments.get_job_status(job_id).get(\"state\") != \"completed\"\n",
        "    and elapsed_time < 300\n",
        "):\n",
        "    print(f\" Current state: {client.deployments.get_job_status(job_id).get('state')}\")\n",
        "    elapsed_time += 10\n",
        "    time.sleep(10)\n",
        "\n",
        "if client.deployments.get_job_status(job_id).get(\"state\") == \"completed\":\n",
        "    print(f\" Current state: {client.deployments.get_job_status(job_id).get('state')}\")\n",
        "    job_details_do = client.deployments.get_job_details(job_id)\n",
        "    print(job_details_do)\n",
        "else:\n",
        "    print(\"Job hasn't completed successfully in 5 minutes.\")"
      ]
    },
    {
      "cell_type": "markdown",
      "metadata": {},
      "source": [
        "After the job completes, you can retrieve its scoring data"
      ]
    },
    {
      "cell_type": "code",
      "execution_count": 26,
      "metadata": {},
      "outputs": [
        {
          "name": "stdout",
          "output_type": "stream",
          "text": [
            "{\n",
            "  \"entity\": {\n",
            "    \"deployment\": {\n",
            "      \"id\": \"0855f464-e1db-4a99-b25f-902460cf298f\"\n",
            "    },\n",
            "    \"platform_job\": {\n",
            "      \"job_id\": \"d0d23a0f-f968-42f8-a35a-64dadd01d800\",\n",
            "      \"run_id\": \"917b7508-c432-4572-956c-6c3f03080eb7\"\n",
            "    },\n",
            "    \"scoring\": {\n",
            "      \"input_data\": [\n",
            "        {\n",
            "          \"fields\": [\n",
            "            \"Sepal.Length\",\n",
            "            \"Sepal.Width\",\n",
            "            \"Petal.Length\",\n",
            "            \"Petal.Width\"\n",
            "          ],\n",
            "          \"values\": [\n",
            "            [\n",
            "              5.1,\n",
            "              3.5,\n",
            "              1.4,\n",
            "              0.2\n",
            "            ]\n",
            "          ]\n",
            "        }\n",
            "      ],\n",
            "      \"predictions\": [\n",
            "        {\n",
            "          \"fields\": [\n",
            "            \"$R-Species\",\n",
            "            \"$RC-Species\",\n",
            "            \"$RP-Species\",\n",
            "            \"$RP-setosa\",\n",
            "            \"$RP-versicolor\",\n",
            "            \"$RP-virginica\",\n",
            "            \"$RI-Species\"\n",
            "          ],\n",
            "          \"values\": [\n",
            "            [\n",
            "              \"setosa\",\n",
            "              1.0,\n",
            "              1.0,\n",
            "              1.0,\n",
            "              0.0,\n",
            "              0.0,\n",
            "              \"1\"\n",
            "            ]\n",
            "          ]\n",
            "        }\n",
            "      ],\n",
            "      \"status\": {\n",
            "        \"completed_at\": \"2025-05-13T12:13:15.000Z\",\n",
            "        \"running_at\": \"2025-05-13T12:13:15.000Z\",\n",
            "        \"state\": \"completed\"\n",
            "      }\n",
            "    }\n",
            "  },\n",
            "  \"metadata\": {\n",
            "    \"created_at\": \"2025-05-13T12:12:47.216Z\",\n",
            "    \"id\": \"e9c67ed5-2a42-4c29-83a7-49d2107aec7f\",\n",
            "    \"modified_at\": \"2025-05-13T12:13:15.701Z\",\n",
            "    \"name\": \"name_5c8af886-daed-4f9a-8850-56c48271c167\",\n",
            "    \"space_id\": \"8a13841b-df99-4b4d-bf2a-161ad2e33980\"\n",
            "  }\n",
            "}\n"
          ]
        }
      ],
      "source": [
        "import json\n",
        "\n",
        "print(json.dumps(client.deployments.get_job_details(job_id), indent=2))"
      ]
    },
    {
      "cell_type": "markdown",
      "metadata": {},
      "source": [
        "### Results examination"
      ]
    },
    {
      "cell_type": "markdown",
      "metadata": {},
      "source": [
        "As we can see, in both cases the predicted flower is ***Iris Setosa***."
      ]
    },
    {
      "cell_type": "markdown",
      "metadata": {},
      "source": [
        "<a id=\"cleanup\"></a>\n",
        "## 5. Clean up "
      ]
    },
    {
      "cell_type": "markdown",
      "metadata": {},
      "source": [
        "If you want to clean up all created assets:\n",
        "- experiments\n",
        "- trainings\n",
        "- pipelines\n",
        "- model definitions\n",
        "- models\n",
        "- functions\n",
        "- deployments\n",
        "\n",
        "please follow up this sample [notebook](https://github.com/IBM/watsonx-ai-samples/blob/master/cpd5.2/notebooks/python_sdk/instance-management/Machine%20Learning%20artifacts%20management.ipynb)."
      ]
    },
    {
      "cell_type": "markdown",
      "metadata": {},
      "source": [
        "<a id=\"summary\"></a>\n",
        "## 6. Summary and next steps     "
      ]
    },
    {
      "cell_type": "markdown",
      "metadata": {},
      "source": [
        "You successfully completed this notebook! You learned how to use `watsonx.ai` for PMML model deployment and scoring. \n",
        " \n",
        "Check out our _<a href=\"https://ibm.github.io/watsonx-ai-python-sdk/samples.html\" target=\"_blank\" rel=\"noopener no referrer\">Online Documentation</a>_ for more samples, tutorials, documentation, how-tos, and blog posts. "
      ]
    },
    {
      "cell_type": "markdown",
      "metadata": {},
      "source": [
        "### Authors\n",
        "\n",
        "**Jan Sołtysik**, Software Engineer at IBM.\n",
        "\n",
        "**Rafał Chrzanowski**, Software Engineer Intern at watsonx.ai."
      ]
    },
    {
      "cell_type": "markdown",
      "metadata": {},
      "source": [
        "Copyright © 2020-2025 IBM. This notebook and its source code are released under the terms of the MIT License."
      ]
    }
  ],
  "metadata": {
    "kernelspec": {
      "display_name": "watsonx-ai-samples-py-312",
      "language": "python",
      "name": "python3"
    },
    "language_info": {
      "codemirror_mode": {
        "name": "ipython",
        "version": 3
      },
      "file_extension": ".py",
      "mimetype": "text/x-python",
      "name": "python",
      "nbconvert_exporter": "python",
      "pygments_lexer": "ipython3",
      "version": "3.12.9"
    }
  },
  "nbformat": 4,
  "nbformat_minor": 4
}

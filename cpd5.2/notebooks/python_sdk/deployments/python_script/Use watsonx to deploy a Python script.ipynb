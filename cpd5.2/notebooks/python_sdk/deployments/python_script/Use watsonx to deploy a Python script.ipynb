{
    "cells": [
        {
            "cell_type": "markdown",
            "metadata": {},
            "source": [
                "# Use `ibm-watsonx-ai` to deploy a Python script\n",
                "This notebook contains steps and code to demonstrate how to deploy a Python script with the [ibm-watsonx-ai](https://pypi.python.org/pypi/ibm-watsonx-ai) library available in the PyPI repository. This notebook consists of steps to create a Python script, create a deployment, create and run a job. \n",
                "\n",
                "Some familiarity with Python is helpful. This notebook uses Python 3.12."
            ]
        },
        {
            "cell_type": "markdown",
            "metadata": {},
            "source": [
                "## Learning goals\n",
                "The learning goals of this notebook are:\n",
                "\n",
                "- Create and save a python script.\n",
                "- Deploy the script using the client library.\n",
                "- Create and Run a job which utilizes the created deployment.\n",
                "\n",
                "## Contents\n",
                "This notebook contains the following parts:\n",
                "\n",
                "1. [Setup](#section1)\n",
                "2. [Deployment of Python Script](#section2)\n",
                "3. [Create and Run Job](#section3)\n",
                "4. [Clean up](#section4)\n",
                "5. [Summary](#section5)"
            ]
        },
        {
            "cell_type": "markdown",
            "metadata": {},
            "source": [
                "<a id='section1'></a>\n",
                "## 1. Set up the environment\n",
                "\n",
                "Before you use the sample code in this notebook, you must perform the following setup tasks:\n",
                "\n",
                "-  Contact your Cloud Pak for Data administrator and ask them for your account credentials"
            ]
        },
        {
            "cell_type": "markdown",
            "metadata": {},
            "source": [
                "### Install dependencies\n",
                "**Note:** `ibm-watsonx-ai` documentation can be found <a href=\"https://ibm.github.io/watsonx-ai-python-sdk/index.html\" target=\"_blank\" rel=\"noopener no referrer\">here</a>."
            ]
        },
        {
            "cell_type": "code",
            "execution_count": 1,
            "metadata": {},
            "outputs": [
                {
                    "name": "stdout",
                    "output_type": "stream",
                    "text": [
                        "\u001b[1A\u001b[2KSuccessfully installed anyio-4.9.0 certifi-2025.4.26 charset-normalizer-3.4.2 h11-0.16.0 httpcore-1.0.9 httpx-0.28.1 ibm-cos-sdk-2.14.0 ibm-cos-sdk-core-2.14.0 ibm-cos-sdk-s3transfer-2.14.0 ibm-watsonx-ai-1.3.13 idna-3.10 jmespath-1.0.1 lomond-0.3.3 numpy-2.2.5 pandas-2.2.3 pytz-2025.2 requests-2.32.2 sniffio-1.3.1 tabulate-0.9.0 typing_extensions-4.13.2 tzdata-2025.2 urllib3-2.4.0\n"
                    ]
                }
            ],
            "source": [
                "%pip install -U ibm-watsonx-ai | tail -n 1"
            ]
        },
        {
            "cell_type": "markdown",
            "metadata": {},
            "source": [
                "#### Define credentials\n",
                "\n",
                "Authenticate the watsonx.ai Runtime service on IBM Cloud Pak for Data. You need to provide the **admin's** `username` and the platform `url`."
            ]
        },
        {
            "cell_type": "code",
            "execution_count": null,
            "metadata": {},
            "outputs": [],
            "source": [
                "username = \"PASTE YOUR USERNAME HERE\"\n",
                "url = \"PASTE THE PLATFORM URL HERE\""
            ]
        },
        {
            "cell_type": "markdown",
            "metadata": {},
            "source": [
                "Use the **admin's** `api_key` to authenticate watsonx.ai Runtime services:"
            ]
        },
        {
            "cell_type": "code",
            "execution_count": null,
            "metadata": {},
            "outputs": [],
            "source": [
                "import getpass\n",
                "from ibm_watsonx_ai import Credentials\n",
                "\n",
                "credentials = Credentials(\n",
                "    username=username,\n",
                "    api_key=getpass.getpass(\"Enter your watsonx.ai API key and hit enter: \"),\n",
                "    url=url,\n",
                "    instance_id=\"openshift\",\n",
                "    version=\"5.2\",\n",
                ")"
            ]
        },
        {
            "cell_type": "markdown",
            "metadata": {},
            "source": [
                "Alternatively you can use the **admin's** `password`:"
            ]
        },
        {
            "cell_type": "code",
            "execution_count": 3,
            "metadata": {},
            "outputs": [],
            "source": [
                "import getpass\n",
                "from ibm_watsonx_ai import Credentials\n",
                "\n",
                "if \"credentials\" not in locals() or not credentials.api_key:\n",
                "    credentials = Credentials(\n",
                "        username=username,\n",
                "        password=getpass.getpass(\"Enter your watsonx.ai password and hit enter: \"),\n",
                "        url=url,\n",
                "        instance_id=\"openshift\",\n",
                "        version=\"5.2\",\n",
                "    )"
            ]
        },
        {
            "cell_type": "markdown",
            "metadata": {},
            "source": [
                "#### Create `APIClient` instance"
            ]
        },
        {
            "cell_type": "code",
            "execution_count": 4,
            "metadata": {},
            "outputs": [],
            "source": [
                "from ibm_watsonx_ai import APIClient\n",
                "\n",
                "client = APIClient(credentials)"
            ]
        },
        {
            "cell_type": "markdown",
            "metadata": {},
            "source": [
                "### Working with spaces\n",
                "\n",
                "First of all, you need to create a space that will be used for your work. If you do not have space already created, you can use `{PLATFORM_URL}/ml-runtime/spaces?context=icp4data` to create one.\n",
                "\n",
                "- Click New Deployment Space\n",
                "- Create an empty space\n",
                "- Go to space `Settings` tab\n",
                "- Copy `space_id` and paste it below\n",
                "\n",
                "**Tip**: You can also use SDK to prepare the space for your work. More information can be found [here](https://github.com/IBM/watsonx-ai-samples/blob/master/cpd5.2/notebooks/python_sdk/instance-management/Space%20management.ipynb).\n",
                "\n",
                "**Action**: Assign space ID below"
            ]
        },
        {
            "cell_type": "code",
            "execution_count": null,
            "metadata": {},
            "outputs": [],
            "source": [
                "space_id = \"PASTE YOUR SPACE ID HERE\""
            ]
        },
        {
            "cell_type": "markdown",
            "metadata": {},
            "source": [
                "You can use `list` method to print all existing spaces."
            ]
        },
        {
            "cell_type": "code",
            "execution_count": null,
            "metadata": {},
            "outputs": [],
            "source": [
                "client.spaces.list(limit=10)"
            ]
        },
        {
            "cell_type": "markdown",
            "metadata": {},
            "source": [
                "To be able to interact with all resources available in Watson Machine Learning, you need to set **space** which you will be using."
            ]
        },
        {
            "cell_type": "code",
            "execution_count": 6,
            "metadata": {},
            "outputs": [
                {
                    "data": {
                        "text/plain": [
                            "'SUCCESS'"
                        ]
                    },
                    "execution_count": 6,
                    "metadata": {},
                    "output_type": "execute_result"
                }
            ],
            "source": [
                "client.set.default_space(space_id)"
            ]
        },
        {
            "cell_type": "markdown",
            "metadata": {},
            "source": [
                "### Software specification\n",
                "\n",
                "You can use popular tools, libraries, and frameworks to train and deploy machine learning models and functions.\n",
                "\n",
                "The following list shows the predefined (base) model types and software specifications."
            ]
        },
        {
            "cell_type": "code",
            "execution_count": 7,
            "metadata": {},
            "outputs": [
                {
                    "data": {
                        "text/html": [
                            "<div>\n",
                            "<style scoped>\n",
                            "    .dataframe tbody tr th:only-of-type {\n",
                            "        vertical-align: middle;\n",
                            "    }\n",
                            "\n",
                            "    .dataframe tbody tr th {\n",
                            "        vertical-align: top;\n",
                            "    }\n",
                            "\n",
                            "    .dataframe thead th {\n",
                            "        text-align: right;\n",
                            "    }\n",
                            "</style>\n",
                            "<table border=\"1\" class=\"dataframe\">\n",
                            "  <thead>\n",
                            "    <tr style=\"text-align: right;\">\n",
                            "      <th></th>\n",
                            "      <th>NAME</th>\n",
                            "      <th>ID</th>\n",
                            "      <th>TYPE</th>\n",
                            "      <th>STATE</th>\n",
                            "      <th>REPLACEMENT</th>\n",
                            "    </tr>\n",
                            "  </thead>\n",
                            "  <tbody>\n",
                            "    <tr>\n",
                            "      <th>0</th>\n",
                            "      <td>autoai-kb_rt25.1-py3.12</td>\n",
                            "      <td>046f5252-0d07-5c23-81ef-18a1a31cdce3</td>\n",
                            "      <td>base</td>\n",
                            "      <td>supported</td>\n",
                            "      <td></td>\n",
                            "    </tr>\n",
                            "    <tr>\n",
                            "      <th>1</th>\n",
                            "      <td>watsonx-cfm-caikit-1.0</td>\n",
                            "      <td>0cee3c55-472f-57b1-84bd-72f5d066dbe4</td>\n",
                            "      <td>base</td>\n",
                            "      <td>supported</td>\n",
                            "      <td></td>\n",
                            "    </tr>\n",
                            "    <tr>\n",
                            "      <th>2</th>\n",
                            "      <td>watsonx-textgen-fm-1.0</td>\n",
                            "      <td>129aec82-7e65-5c78-b812-4c0a74b916f5</td>\n",
                            "      <td>base</td>\n",
                            "      <td>supported</td>\n",
                            "      <td></td>\n",
                            "    </tr>\n",
                            "    <tr>\n",
                            "      <th>3</th>\n",
                            "      <td>masking-flows-spark</td>\n",
                            "      <td>13666829-5570-53a7-927b-52d42a101d93</td>\n",
                            "      <td>base</td>\n",
                            "      <td>supported</td>\n",
                            "      <td></td>\n",
                            "    </tr>\n",
                            "    <tr>\n",
                            "      <th>4</th>\n",
                            "      <td>autoai-ts_rt25.1-py3.12</td>\n",
                            "      <td>1c0c9e1d-8523-520f-867e-102173f16f5e</td>\n",
                            "      <td>base</td>\n",
                            "      <td>supported</td>\n",
                            "      <td></td>\n",
                            "    </tr>\n",
                            "    <tr>\n",
                            "      <th>5</th>\n",
                            "      <td>tensorflow_rt24.1-py3.11</td>\n",
                            "      <td>2c33167d-b11c-5490-a305-3e5e95db5c4d</td>\n",
                            "      <td>base</td>\n",
                            "      <td>supported</td>\n",
                            "      <td></td>\n",
                            "    </tr>\n",
                            "    <tr>\n",
                            "      <th>6</th>\n",
                            "      <td>pytorch-onnx_rt24.1-py3.11</td>\n",
                            "      <td>2da185aa-eac3-59a5-bb8e-0e5b60458a15</td>\n",
                            "      <td>base</td>\n",
                            "      <td>supported</td>\n",
                            "      <td></td>\n",
                            "    </tr>\n",
                            "    <tr>\n",
                            "      <th>7</th>\n",
                            "      <td>tensorflow_rt24.1-py3.11-edt</td>\n",
                            "      <td>2f53b747-c01a-58a6-a20c-8390ecfd8625</td>\n",
                            "      <td>base</td>\n",
                            "      <td>supported</td>\n",
                            "      <td></td>\n",
                            "    </tr>\n",
                            "    <tr>\n",
                            "      <th>8</th>\n",
                            "      <td>kernel-spark3.5-py3.11</td>\n",
                            "      <td>30ad99e2-7cfb-511a-9a3e-4cc308071fd3</td>\n",
                            "      <td>base</td>\n",
                            "      <td>supported</td>\n",
                            "      <td></td>\n",
                            "    </tr>\n",
                            "    <tr>\n",
                            "      <th>9</th>\n",
                            "      <td>kernel-spark3.5-r4.3</td>\n",
                            "      <td>3668b4d5-b8b8-5926-badf-1134137613d4</td>\n",
                            "      <td>base</td>\n",
                            "      <td>supported</td>\n",
                            "      <td></td>\n",
                            "    </tr>\n",
                            "    <tr>\n",
                            "      <th>10</th>\n",
                            "      <td>onnxruntime_opset_19</td>\n",
                            "      <td>368d2795-aaa7-59a0-834c-248c64a5a99e</td>\n",
                            "      <td>base</td>\n",
                            "      <td>supported</td>\n",
                            "      <td></td>\n",
                            "    </tr>\n",
                            "    <tr>\n",
                            "      <th>11</th>\n",
                            "      <td>rstudio-24.1-r4.3</td>\n",
                            "      <td>3f54a6c2-0df5-58db-8121-ca947a0691d0</td>\n",
                            "      <td>base</td>\n",
                            "      <td>supported</td>\n",
                            "      <td></td>\n",
                            "    </tr>\n",
                            "    <tr>\n",
                            "      <th>12</th>\n",
                            "      <td>runtime-24.1-py3.11</td>\n",
                            "      <td>45f12dfe-aa78-5b8d-9f38-0ee223c47309</td>\n",
                            "      <td>base</td>\n",
                            "      <td>supported</td>\n",
                            "      <td></td>\n",
                            "    </tr>\n",
                            "    <tr>\n",
                            "      <th>13</th>\n",
                            "      <td>kernel-spark3.4-py3.11</td>\n",
                            "      <td>47c18b7b-f719-5f8c-ad84-a1a64a174204</td>\n",
                            "      <td>base</td>\n",
                            "      <td>supported</td>\n",
                            "      <td></td>\n",
                            "    </tr>\n",
                            "    <tr>\n",
                            "      <th>14</th>\n",
                            "      <td>pmml-3.0_4.3</td>\n",
                            "      <td>493bcb95-16f1-5bc5-bee8-81b8af80e9c7</td>\n",
                            "      <td>base</td>\n",
                            "      <td>supported</td>\n",
                            "      <td></td>\n",
                            "    </tr>\n",
                            "    <tr>\n",
                            "      <th>15</th>\n",
                            "      <td>tensorflow_rt24.1-py3.11-dist</td>\n",
                            "      <td>5664b780-493c-59db-a165-c57ad6417db7</td>\n",
                            "      <td>base</td>\n",
                            "      <td>supported</td>\n",
                            "      <td></td>\n",
                            "    </tr>\n",
                            "    <tr>\n",
                            "      <th>16</th>\n",
                            "      <td>spss-modeler_18.1</td>\n",
                            "      <td>5c3cad7e-507f-4b2a-a9a3-ab53a21dee8b</td>\n",
                            "      <td>base</td>\n",
                            "      <td>supported</td>\n",
                            "      <td></td>\n",
                            "    </tr>\n",
                            "    <tr>\n",
                            "      <th>17</th>\n",
                            "      <td>wx_data-spark3.5-py3.11</td>\n",
                            "      <td>63e7aeea-51bd-5638-b645-db93f2deb1c7</td>\n",
                            "      <td>base</td>\n",
                            "      <td>supported</td>\n",
                            "      <td></td>\n",
                            "    </tr>\n",
                            "    <tr>\n",
                            "      <th>18</th>\n",
                            "      <td>spss-modeler_18.2</td>\n",
                            "      <td>687eddc9-028a-4117-b9dd-e57b36f1efa5</td>\n",
                            "      <td>base</td>\n",
                            "      <td>supported</td>\n",
                            "      <td></td>\n",
                            "    </tr>\n",
                            "    <tr>\n",
                            "      <th>19</th>\n",
                            "      <td>watsonx-cfm-caikit-1.1</td>\n",
                            "      <td>69fcc3e0-48de-5ef5-8682-53e86781d1a6</td>\n",
                            "      <td>base</td>\n",
                            "      <td>supported</td>\n",
                            "      <td></td>\n",
                            "    </tr>\n",
                            "    <tr>\n",
                            "      <th>20</th>\n",
                            "      <td>rstudio-25.1-r4.4</td>\n",
                            "      <td>75de0dd4-ff77-51dd-9716-834b0671bb37</td>\n",
                            "      <td>base</td>\n",
                            "      <td>supported</td>\n",
                            "      <td></td>\n",
                            "    </tr>\n",
                            "    <tr>\n",
                            "      <th>21</th>\n",
                            "      <td>wx_data-spark3.4-py3.10</td>\n",
                            "      <td>76615114-0e24-5e14-ac71-5aa197d82062</td>\n",
                            "      <td>base</td>\n",
                            "      <td>supported</td>\n",
                            "      <td></td>\n",
                            "    </tr>\n",
                            "    <tr>\n",
                            "      <th>22</th>\n",
                            "      <td>autoai-ts_rt24.1-py3.11</td>\n",
                            "      <td>7d222e1d-b062-5740-b34a-453a63755976</td>\n",
                            "      <td>base</td>\n",
                            "      <td>supported</td>\n",
                            "      <td></td>\n",
                            "    </tr>\n",
                            "    <tr>\n",
                            "      <th>23</th>\n",
                            "      <td>autoai-kb_rt24.1-py3.11</td>\n",
                            "      <td>82f1bc6d-59c3-55e8-b612-cd908a2f7cc7</td>\n",
                            "      <td>base</td>\n",
                            "      <td>supported</td>\n",
                            "      <td></td>\n",
                            "    </tr>\n",
                            "    <tr>\n",
                            "      <th>24</th>\n",
                            "      <td>hybrid_0.1</td>\n",
                            "      <td>8c1a58c6-62b5-4dc4-987a-df751c2756b6</td>\n",
                            "      <td>base</td>\n",
                            "      <td>supported</td>\n",
                            "      <td></td>\n",
                            "    </tr>\n",
                            "    <tr>\n",
                            "      <th>25</th>\n",
                            "      <td>spss-modeler_17.1</td>\n",
                            "      <td>902d0051-84bd-4af6-ab6b-8f6aa6fdeabb</td>\n",
                            "      <td>base</td>\n",
                            "      <td>supported</td>\n",
                            "      <td></td>\n",
                            "    </tr>\n",
                            "    <tr>\n",
                            "      <th>26</th>\n",
                            "      <td>hybrid_0.2</td>\n",
                            "      <td>9b3f9040-9cee-4ead-8d7a-780600f542f7</td>\n",
                            "      <td>base</td>\n",
                            "      <td>supported</td>\n",
                            "      <td></td>\n",
                            "    </tr>\n",
                            "    <tr>\n",
                            "      <th>27</th>\n",
                            "      <td>kernel-spark3.4-r4.3</td>\n",
                            "      <td>a3ce4e69-29af-536d-9c5b-e8142fbd2629</td>\n",
                            "      <td>base</td>\n",
                            "      <td>supported</td>\n",
                            "      <td></td>\n",
                            "    </tr>\n",
                            "    <tr>\n",
                            "      <th>28</th>\n",
                            "      <td>runtime-24.1-py3.11-cuda</td>\n",
                            "      <td>b5993284-af60-57ff-aaf2-e0989be7ca2d</td>\n",
                            "      <td>base</td>\n",
                            "      <td>supported</td>\n",
                            "      <td></td>\n",
                            "    </tr>\n",
                            "    <tr>\n",
                            "      <th>29</th>\n",
                            "      <td>runtime-24.1-r4.3</td>\n",
                            "      <td>c9679e95-1b5e-590d-a6ce-0c15dc870a0a</td>\n",
                            "      <td>base</td>\n",
                            "      <td>supported</td>\n",
                            "      <td></td>\n",
                            "    </tr>\n",
                            "    <tr>\n",
                            "      <th>30</th>\n",
                            "      <td>watsonx-tsfm-runtime-1.0</td>\n",
                            "      <td>cc8d3794-43e5-5bcf-a657-9cfed2f278c4</td>\n",
                            "      <td>base</td>\n",
                            "      <td>supported</td>\n",
                            "      <td></td>\n",
                            "    </tr>\n",
                            "    <tr>\n",
                            "      <th>31</th>\n",
                            "      <td>spark-mllib_3.4</td>\n",
                            "      <td>dabb5e1b-e1c7-5ef5-95ea-34a8223e436c</td>\n",
                            "      <td>base</td>\n",
                            "      <td>supported</td>\n",
                            "      <td></td>\n",
                            "    </tr>\n",
                            "    <tr>\n",
                            "      <th>32</th>\n",
                            "      <td>do_22.1</td>\n",
                            "      <td>e51999ba-6452-5f1f-8287-17228b88b652</td>\n",
                            "      <td>base</td>\n",
                            "      <td>supported</td>\n",
                            "      <td></td>\n",
                            "    </tr>\n",
                            "    <tr>\n",
                            "      <th>33</th>\n",
                            "      <td>spark-mllib_3.5</td>\n",
                            "      <td>e8cd7001-fd05-5eea-b697-0a3bff9cf51f</td>\n",
                            "      <td>base</td>\n",
                            "      <td>supported</td>\n",
                            "      <td></td>\n",
                            "    </tr>\n",
                            "    <tr>\n",
                            "      <th>34</th>\n",
                            "      <td>autoai-rag_rt24.1-py3.11</td>\n",
                            "      <td>ec4289a9-174e-5eae-ae49-30fa015ed1e6</td>\n",
                            "      <td>base</td>\n",
                            "      <td>supported</td>\n",
                            "      <td></td>\n",
                            "    </tr>\n",
                            "    <tr>\n",
                            "      <th>35</th>\n",
                            "      <td>pytorch-onnx_rt24.1-py3.11-edt</td>\n",
                            "      <td>ed4d5b3c-faaf-5739-a8d3-ec5cffbc5f13</td>\n",
                            "      <td>base</td>\n",
                            "      <td>supported</td>\n",
                            "      <td></td>\n",
                            "    </tr>\n",
                            "    <tr>\n",
                            "      <th>36</th>\n",
                            "      <td>pytorch-onnx_rt24.1-py3.11-dist</td>\n",
                            "      <td>f0ad08b8-3326-59aa-ba41-ca6694a4e6bc</td>\n",
                            "      <td>base</td>\n",
                            "      <td>supported</td>\n",
                            "      <td></td>\n",
                            "    </tr>\n",
                            "    <tr>\n",
                            "      <th>37</th>\n",
                            "      <td>runtime-25.1-py3.12</td>\n",
                            "      <td>f47ae1c3-198e-5718-b59d-2ea471561e9e</td>\n",
                            "      <td>base</td>\n",
                            "      <td>supported</td>\n",
                            "      <td></td>\n",
                            "    </tr>\n",
                            "    <tr>\n",
                            "      <th>38</th>\n",
                            "      <td>wx_data-spark3.5-py3.10</td>\n",
                            "      <td>f58861f2-03bb-5f30-ba39-af0ea6939ede</td>\n",
                            "      <td>base</td>\n",
                            "      <td>supported</td>\n",
                            "      <td></td>\n",
                            "    </tr>\n",
                            "    <tr>\n",
                            "      <th>39</th>\n",
                            "      <td>do_20.1</td>\n",
                            "      <td>f686cdd9-7904-5f9d-a732-01b0d6b10dc5</td>\n",
                            "      <td>base</td>\n",
                            "      <td>supported</td>\n",
                            "      <td></td>\n",
                            "    </tr>\n",
                            "    <tr>\n",
                            "      <th>40</th>\n",
                            "      <td>linalgnorm-0.1</td>\n",
                            "      <td>3114fcfc-f3f8-4b80-b719-682234b1d232</td>\n",
                            "      <td>derived</td>\n",
                            "      <td></td>\n",
                            "      <td></td>\n",
                            "    </tr>\n",
                            "  </tbody>\n",
                            "</table>\n",
                            "</div>"
                        ],
                        "text/plain": [
                            "                               NAME                                    ID  \\\n",
                            "0           autoai-kb_rt25.1-py3.12  046f5252-0d07-5c23-81ef-18a1a31cdce3   \n",
                            "1            watsonx-cfm-caikit-1.0  0cee3c55-472f-57b1-84bd-72f5d066dbe4   \n",
                            "2            watsonx-textgen-fm-1.0  129aec82-7e65-5c78-b812-4c0a74b916f5   \n",
                            "3               masking-flows-spark  13666829-5570-53a7-927b-52d42a101d93   \n",
                            "4           autoai-ts_rt25.1-py3.12  1c0c9e1d-8523-520f-867e-102173f16f5e   \n",
                            "5          tensorflow_rt24.1-py3.11  2c33167d-b11c-5490-a305-3e5e95db5c4d   \n",
                            "6        pytorch-onnx_rt24.1-py3.11  2da185aa-eac3-59a5-bb8e-0e5b60458a15   \n",
                            "7      tensorflow_rt24.1-py3.11-edt  2f53b747-c01a-58a6-a20c-8390ecfd8625   \n",
                            "8            kernel-spark3.5-py3.11  30ad99e2-7cfb-511a-9a3e-4cc308071fd3   \n",
                            "9              kernel-spark3.5-r4.3  3668b4d5-b8b8-5926-badf-1134137613d4   \n",
                            "10             onnxruntime_opset_19  368d2795-aaa7-59a0-834c-248c64a5a99e   \n",
                            "11                rstudio-24.1-r4.3  3f54a6c2-0df5-58db-8121-ca947a0691d0   \n",
                            "12              runtime-24.1-py3.11  45f12dfe-aa78-5b8d-9f38-0ee223c47309   \n",
                            "13           kernel-spark3.4-py3.11  47c18b7b-f719-5f8c-ad84-a1a64a174204   \n",
                            "14                     pmml-3.0_4.3  493bcb95-16f1-5bc5-bee8-81b8af80e9c7   \n",
                            "15    tensorflow_rt24.1-py3.11-dist  5664b780-493c-59db-a165-c57ad6417db7   \n",
                            "16                spss-modeler_18.1  5c3cad7e-507f-4b2a-a9a3-ab53a21dee8b   \n",
                            "17          wx_data-spark3.5-py3.11  63e7aeea-51bd-5638-b645-db93f2deb1c7   \n",
                            "18                spss-modeler_18.2  687eddc9-028a-4117-b9dd-e57b36f1efa5   \n",
                            "19           watsonx-cfm-caikit-1.1  69fcc3e0-48de-5ef5-8682-53e86781d1a6   \n",
                            "20                rstudio-25.1-r4.4  75de0dd4-ff77-51dd-9716-834b0671bb37   \n",
                            "21          wx_data-spark3.4-py3.10  76615114-0e24-5e14-ac71-5aa197d82062   \n",
                            "22          autoai-ts_rt24.1-py3.11  7d222e1d-b062-5740-b34a-453a63755976   \n",
                            "23          autoai-kb_rt24.1-py3.11  82f1bc6d-59c3-55e8-b612-cd908a2f7cc7   \n",
                            "24                       hybrid_0.1  8c1a58c6-62b5-4dc4-987a-df751c2756b6   \n",
                            "25                spss-modeler_17.1  902d0051-84bd-4af6-ab6b-8f6aa6fdeabb   \n",
                            "26                       hybrid_0.2  9b3f9040-9cee-4ead-8d7a-780600f542f7   \n",
                            "27             kernel-spark3.4-r4.3  a3ce4e69-29af-536d-9c5b-e8142fbd2629   \n",
                            "28         runtime-24.1-py3.11-cuda  b5993284-af60-57ff-aaf2-e0989be7ca2d   \n",
                            "29                runtime-24.1-r4.3  c9679e95-1b5e-590d-a6ce-0c15dc870a0a   \n",
                            "30         watsonx-tsfm-runtime-1.0  cc8d3794-43e5-5bcf-a657-9cfed2f278c4   \n",
                            "31                  spark-mllib_3.4  dabb5e1b-e1c7-5ef5-95ea-34a8223e436c   \n",
                            "32                          do_22.1  e51999ba-6452-5f1f-8287-17228b88b652   \n",
                            "33                  spark-mllib_3.5  e8cd7001-fd05-5eea-b697-0a3bff9cf51f   \n",
                            "34         autoai-rag_rt24.1-py3.11  ec4289a9-174e-5eae-ae49-30fa015ed1e6   \n",
                            "35   pytorch-onnx_rt24.1-py3.11-edt  ed4d5b3c-faaf-5739-a8d3-ec5cffbc5f13   \n",
                            "36  pytorch-onnx_rt24.1-py3.11-dist  f0ad08b8-3326-59aa-ba41-ca6694a4e6bc   \n",
                            "37              runtime-25.1-py3.12  f47ae1c3-198e-5718-b59d-2ea471561e9e   \n",
                            "38          wx_data-spark3.5-py3.10  f58861f2-03bb-5f30-ba39-af0ea6939ede   \n",
                            "39                          do_20.1  f686cdd9-7904-5f9d-a732-01b0d6b10dc5   \n",
                            "40                   linalgnorm-0.1  3114fcfc-f3f8-4b80-b719-682234b1d232   \n",
                            "\n",
                            "       TYPE      STATE REPLACEMENT  \n",
                            "0      base  supported              \n",
                            "1      base  supported              \n",
                            "2      base  supported              \n",
                            "3      base  supported              \n",
                            "4      base  supported              \n",
                            "5      base  supported              \n",
                            "6      base  supported              \n",
                            "7      base  supported              \n",
                            "8      base  supported              \n",
                            "9      base  supported              \n",
                            "10     base  supported              \n",
                            "11     base  supported              \n",
                            "12     base  supported              \n",
                            "13     base  supported              \n",
                            "14     base  supported              \n",
                            "15     base  supported              \n",
                            "16     base  supported              \n",
                            "17     base  supported              \n",
                            "18     base  supported              \n",
                            "19     base  supported              \n",
                            "20     base  supported              \n",
                            "21     base  supported              \n",
                            "22     base  supported              \n",
                            "23     base  supported              \n",
                            "24     base  supported              \n",
                            "25     base  supported              \n",
                            "26     base  supported              \n",
                            "27     base  supported              \n",
                            "28     base  supported              \n",
                            "29     base  supported              \n",
                            "30     base  supported              \n",
                            "31     base  supported              \n",
                            "32     base  supported              \n",
                            "33     base  supported              \n",
                            "34     base  supported              \n",
                            "35     base  supported              \n",
                            "36     base  supported              \n",
                            "37     base  supported              \n",
                            "38     base  supported              \n",
                            "39     base  supported              \n",
                            "40  derived                         "
                        ]
                    },
                    "execution_count": 7,
                    "metadata": {},
                    "output_type": "execute_result"
                }
            ],
            "source": [
                "client.software_specifications.list()"
            ]
        },
        {
            "cell_type": "markdown",
            "metadata": {},
            "source": [
                "You can select the software specification using the function below."
            ]
        },
        {
            "cell_type": "code",
            "execution_count": 8,
            "metadata": {},
            "outputs": [
                {
                    "name": "stdout",
                    "output_type": "stream",
                    "text": [
                        "f47ae1c3-198e-5718-b59d-2ea471561e9e\n"
                    ]
                }
            ],
            "source": [
                "base_sw_spec_id = client.software_specifications.get_uid_by_name(\"runtime-25.1-py3.12\")\n",
                "print(base_sw_spec_id)"
            ]
        },
        {
            "cell_type": "markdown",
            "metadata": {},
            "source": [
                "<a id='section2'></a>\n",
                "## 2. Python Script Deployment"
            ]
        },
        {
            "cell_type": "markdown",
            "metadata": {},
            "source": [
                "### Save Python Script\n",
                "\n",
                "This file will be saved locally so you can deploy and run it later."
            ]
        },
        {
            "cell_type": "code",
            "execution_count": 9,
            "metadata": {},
            "outputs": [
                {
                    "name": "stdout",
                    "output_type": "stream",
                    "text": [
                        "Writing /tmp/CreateSwSpec_script.py\n"
                    ]
                }
            ],
            "source": [
                "%%writefile /tmp/CreateSwSpec_script.py\n",
                "\n",
                "import sys\n",
                "import time\n",
                "import os\n",
                "\n",
                "outfname = os.path.join(os.environ.get(\"BATCH_OUTPUT_DIR\"), \"swspec.log\")\n",
                "with open(outfname, \"w\") as file:\n",
                "    try:\n",
                "        file.write(\"The deployed python script was run successfully!\")\n",
                "    except Exception as exc:\n",
                "        file.write(f\"The deployed python script failed: {exc}\")\n",
                "        file.write(\"sys path:\")\n",
                "        file.write(sys.path)"
            ]
        },
        {
            "cell_type": "markdown",
            "metadata": {},
            "source": [
                "The file should be successfully created. \n",
                "To check its content, you can use the command below."
            ]
        },
        {
            "cell_type": "code",
            "execution_count": 10,
            "metadata": {},
            "outputs": [
                {
                    "name": "stdout",
                    "output_type": "stream",
                    "text": [
                        "\n",
                        "import sys\n",
                        "import time\n",
                        "import os\n",
                        "\n",
                        "outfname = os.path.join(os.environ.get(\"BATCH_OUTPUT_DIR\"), \"swspec.log\")\n",
                        "with open(outfname, \"w\") as file:\n",
                        "    try:\n",
                        "        file.write(\"The deployed python script was run successfully!\")\n",
                        "    except Exception as exc:\n",
                        "        file.write(f\"The deployed python script failed: {exc}\")\n",
                        "        file.write(\"sys path:\")\n",
                        "        file.write(sys.path)\n"
                    ]
                }
            ],
            "source": [
                "%cat /tmp/CreateSwSpec_script.py"
            ]
        },
        {
            "cell_type": "markdown",
            "metadata": {},
            "source": [
                "### Deployment of Python Script\n",
                "\n",
                "You can store and deploy a Python script and get its details by running the code in following cells. "
            ]
        },
        {
            "cell_type": "code",
            "execution_count": 11,
            "metadata": {},
            "outputs": [],
            "source": [
                "meta_props = {\n",
                "    client.script.ConfigurationMetaNames.NAME: \"Python script\",\n",
                "    client.script.ConfigurationMetaNames.SOFTWARE_SPEC_UID: base_sw_spec_id,\n",
                "}"
            ]
        },
        {
            "cell_type": "code",
            "execution_count": 12,
            "metadata": {},
            "outputs": [
                {
                    "name": "stdout",
                    "output_type": "stream",
                    "text": [
                        "Creating Script asset...\n",
                        "SUCCESS\n",
                        "Created script  91b49ece-f724-4cc8-b567-29a6638a222e\n"
                    ]
                }
            ],
            "source": [
                "script_path = \"/tmp/CreateSwSpec_script.py\"\n",
                "script_details = client.script.store(meta_props, file_path=script_path)\n",
                "script_id = client.script.get_id(script_details)\n",
                "print(\"Created script \", script_id)"
            ]
        },
        {
            "cell_type": "code",
            "execution_count": 13,
            "metadata": {},
            "outputs": [
                {
                    "data": {
                        "text/plain": [
                            "{'metadata': {'name': 'Python script',\n",
                            "  'guid': '91b49ece-f724-4cc8-b567-29a6638a222e',\n",
                            "  'href': '/v2/assets/91b49ece-f724-4cc8-b567-29a6638a222e?space_id=8a13841b-df99-4b4d-bf2a-161ad2e33980',\n",
                            "  'asset_type': 'script',\n",
                            "  'created_at': '2025-05-13T12:38:10Z',\n",
                            "  'last_updated_at': '2025-05-13T12:38:10Z',\n",
                            "  'space_id': '8a13841b-df99-4b4d-bf2a-161ad2e33980',\n",
                            "  'description': ''},\n",
                            " 'entity': {'script': {'language': {'name': 'python3'},\n",
                            "   'software_spec': {'base_id': 'f47ae1c3-198e-5718-b59d-2ea471561e9e'}}}}"
                        ]
                    },
                    "execution_count": 13,
                    "metadata": {},
                    "output_type": "execute_result"
                }
            ],
            "source": [
                "script_details"
            ]
        },
        {
            "cell_type": "code",
            "execution_count": 14,
            "metadata": {},
            "outputs": [
                {
                    "name": "stdout",
                    "output_type": "stream",
                    "text": [
                        "\n",
                        "\n",
                        "######################################################################################\n",
                        "\n",
                        "Synchronous deployment creation for id: '91b49ece-f724-4cc8-b567-29a6638a222e' started\n",
                        "\n",
                        "######################################################################################\n",
                        "\n",
                        "\n",
                        "ready.\n",
                        "\n",
                        "\n",
                        "-----------------------------------------------------------------------------------------------\n",
                        "Successfully finished deployment creation, deployment_id='c1ae1cce-8dc7-4862-9c69-1de9358f81bf'\n",
                        "-----------------------------------------------------------------------------------------------\n",
                        "\n",
                        "\n"
                    ]
                }
            ],
            "source": [
                "deployment_meta_props = {\n",
                "    client.deployments.ConfigurationMetaNames.NAME: \"pyscript_deployment\",\n",
                "    client.deployments.ConfigurationMetaNames.BATCH: {},\n",
                "    client.deployments.ConfigurationMetaNames.HARDWARE_SPEC: {\"name\": \"S\"},\n",
                "}\n",
                "\n",
                "deployment_details = client.deployments.create(script_id, deployment_meta_props)\n",
                "deployment_id = client.deployments.get_id(deployment_details)"
            ]
        },
        {
            "cell_type": "code",
            "execution_count": 15,
            "metadata": {},
            "outputs": [
                {
                    "data": {
                        "text/plain": [
                            "{'entity': {'asset': {'id': '91b49ece-f724-4cc8-b567-29a6638a222e'},\n",
                            "  'batch': {},\n",
                            "  'chat_enabled': False,\n",
                            "  'custom': {},\n",
                            "  'deployed_asset_type': 'py_script',\n",
                            "  'hardware_spec': {'id': 'e7ed1d6c-2e89-42d7-aed5-863b972c1d2b',\n",
                            "   'name': 'S',\n",
                            "   'num_nodes': 1},\n",
                            "  'name': 'pyscript_deployment',\n",
                            "  'space_id': '8a13841b-df99-4b4d-bf2a-161ad2e33980',\n",
                            "  'status': {'state': 'ready'}},\n",
                            " 'metadata': {'created_at': '2025-05-13T12:38:31.241Z',\n",
                            "  'id': 'c1ae1cce-8dc7-4862-9c69-1de9358f81bf',\n",
                            "  'modified_at': '2025-05-13T12:38:31.241Z',\n",
                            "  'name': 'pyscript_deployment',\n",
                            "  'owner': '1000331001',\n",
                            "  'space_id': '8a13841b-df99-4b4d-bf2a-161ad2e33980'}}"
                        ]
                    },
                    "execution_count": 15,
                    "metadata": {},
                    "output_type": "execute_result"
                }
            ],
            "source": [
                "deployment_details"
            ]
        },
        {
            "cell_type": "markdown",
            "metadata": {},
            "source": [
                "<a id='section3'></a>\n",
                "## 3. Create and Run job\n",
                "\n",
                "Run the following cells to create and run a job with the deployed script."
            ]
        },
        {
            "cell_type": "code",
            "execution_count": null,
            "metadata": {},
            "outputs": [],
            "source": [
                "import time\n",
                "\n",
                "\n",
                "def poll_async_job(wml_client, job_uid):\n",
                "    while True:\n",
                "        job_status = wml_client.deployments.get_job_status(job_uid)\n",
                "        print(job_status)\n",
                "        state = job_status[\"state\"]\n",
                "        if state == \"completed\" or \"fail\" in state:\n",
                "            return wml_client.deployments.get_job_details(job_uid)\n",
                "        time.sleep(5)"
            ]
        },
        {
            "cell_type": "code",
            "execution_count": 17,
            "metadata": {},
            "outputs": [],
            "source": [
                "job_payload_ref = {\n",
                "    client.deployments.ScoringMetaNames.OUTPUT_DATA_REFERENCE: {\n",
                "        \"type\": \"data_asset\",\n",
                "        \"location\": {\"name\": \"deploy_test_script-out\"},\n",
                "    }\n",
                "}\n",
                "\n",
                "job = client.deployments.create_job(deployment_id, meta_props=job_payload_ref)\n",
                "job_id = client.deployments.get_job_id(job)"
            ]
        },
        {
            "cell_type": "code",
            "execution_count": 18,
            "metadata": {},
            "outputs": [
                {
                    "name": "stdout",
                    "output_type": "stream",
                    "text": [
                        "{'completed_at': '', 'running_at': '', 'state': 'queued'}\n",
                        "{'completed_at': '', 'running_at': '', 'state': 'queued'}\n",
                        "{'completed_at': '', 'running_at': '', 'state': 'queued'}\n",
                        "{'completed_at': '', 'running_at': '', 'state': 'queued'}\n",
                        "{'completed_at': '', 'running_at': '', 'state': 'queued'}\n",
                        "{'completed_at': '', 'running_at': '2025-05-13T12:39:14.200Z', 'state': 'running'}\n",
                        "{'completed_at': '2025-05-13T12:39:18.926414Z', 'running_at': '2025-05-13T12:39:14.184392Z', 'state': 'completed'}\n"
                    ]
                }
            ],
            "source": [
                "job_details = poll_async_job(client, job_id)"
            ]
        },
        {
            "cell_type": "code",
            "execution_count": 19,
            "metadata": {},
            "outputs": [
                {
                    "data": {
                        "text/html": [
                            "<div>\n",
                            "<style scoped>\n",
                            "    .dataframe tbody tr th:only-of-type {\n",
                            "        vertical-align: middle;\n",
                            "    }\n",
                            "\n",
                            "    .dataframe tbody tr th {\n",
                            "        vertical-align: top;\n",
                            "    }\n",
                            "\n",
                            "    .dataframe thead th {\n",
                            "        text-align: right;\n",
                            "    }\n",
                            "</style>\n",
                            "<table border=\"1\" class=\"dataframe\">\n",
                            "  <thead>\n",
                            "    <tr style=\"text-align: right;\">\n",
                            "      <th></th>\n",
                            "      <th>NAME</th>\n",
                            "      <th>ASSET_TYPE</th>\n",
                            "      <th>SIZE</th>\n",
                            "      <th>ASSET_ID</th>\n",
                            "    </tr>\n",
                            "  </thead>\n",
                            "  <tbody>\n",
                            "    <tr>\n",
                            "      <th>0</th>\n",
                            "      <td>deploy_test_script-out</td>\n",
                            "      <td>data_asset</td>\n",
                            "      <td>166</td>\n",
                            "      <td>07ced9b8-c914-4d81-8dc9-fdffabcc07bb</td>\n",
                            "    </tr>\n",
                            "  </tbody>\n",
                            "</table>\n",
                            "</div>"
                        ],
                        "text/plain": [
                            "                     NAME  ASSET_TYPE  SIZE  \\\n",
                            "0  deploy_test_script-out  data_asset   166   \n",
                            "\n",
                            "                               ASSET_ID  \n",
                            "0  07ced9b8-c914-4d81-8dc9-fdffabcc07bb  "
                        ]
                    },
                    "execution_count": 19,
                    "metadata": {},
                    "output_type": "execute_result"
                }
            ],
            "source": [
                "client.data_assets.list()"
            ]
        },
        {
            "cell_type": "markdown",
            "metadata": {},
            "source": [
                "To download the asset run the code below. It will be downloaded as a zip archive."
            ]
        },
        {
            "cell_type": "code",
            "execution_count": null,
            "metadata": {},
            "outputs": [],
            "source": [
                "scoring_params = client.deployments.get_job_details(job_id)\n",
                "\n",
                "from ibm_watsonx_ai.helpers import DataConnection\n",
                "\n",
                "output_data_connection = DataConnection.from_dict(\n",
                "    scoring_params[\"entity\"][\"scoring\"][\"output_data_reference\"]\n",
                ")\n",
                "output_data_connection.set_client(client)\n",
                "\n",
                "output_data_connection.download(\"/tmp/CreateSwSpec_script_result.zip\")"
            ]
        },
        {
            "cell_type": "code",
            "execution_count": 21,
            "metadata": {},
            "outputs": [
                {
                    "name": "stdout",
                    "output_type": "stream",
                    "text": [
                        "The deployed python script was run successfully!\n"
                    ]
                }
            ],
            "source": [
                "import zipfile\n",
                "\n",
                "with zipfile.ZipFile(\"/tmp/CreateSwSpec_script_result.zip\") as zip_file:\n",
                "    with zip_file.open(\"swspec.log\") as file:\n",
                "        print(file.read().decode())"
            ]
        },
        {
            "cell_type": "markdown",
            "metadata": {},
            "source": [
                "<a id='section4'></a>\n",
                "## 4. Cleanup "
            ]
        },
        {
            "cell_type": "markdown",
            "metadata": {},
            "source": [
                "If you want to clean up all created assets:\n",
                "- experiments\n",
                "- trainings\n",
                "- pipelines\n",
                "- model definitions\n",
                "- models\n",
                "- functions\n",
                "- deployments\n",
                "\n",
                "please follow up this sample [notebook](https://github.com/IBM/watsonx-ai-samples/blob/master/cpd5.2/notebooks/python_sdk/instance-management/Machine%20Learning%20artifacts%20management.ipynb)."
            ]
        },
        {
            "cell_type": "markdown",
            "metadata": {},
            "source": [
                "<a id='section5'></a>\n",
                "## 5. Summary"
            ]
        },
        {
            "cell_type": "markdown",
            "metadata": {},
            "source": [
                "You successfully completed this notebook! You learned how to create and deploy a python script, and create and run a job using Watson Machine Learning.\n",
                "\n",
                "Check out our _<a href=\"https://ibm.github.io/watsonx-ai-python-sdk/samples.html\" target=\"_blank\" rel=\"noopener no referrer\">Online Documentation</a>_ for more samples, tutorials, documentation, how-tos, and blog posts. \n"
            ]
        },
        {
            "cell_type": "markdown",
            "metadata": {},
            "source": [
                "### Author\n",
                "\n",
                "**Jakub Żywiecki**, Software Engineer"
            ]
        },
        {
            "cell_type": "markdown",
            "metadata": {},
            "source": [
                "Copyright © 2024-2025 IBM. This notebook and its source code are released under the terms of the MIT License."
            ]
        }
    ],
    "metadata": {
        "kernelspec": {
            "display_name": "watsonx-ai-samples-py-312",
            "language": "python",
            "name": "python3"
        },
        "language_info": {
            "codemirror_mode": {
                "name": "ipython",
                "version": 3
            },
            "file_extension": ".py",
            "mimetype": "text/x-python",
            "name": "python",
            "nbconvert_exporter": "python",
            "pygments_lexer": "ipython3",
            "version": "3.12.9"
        }
    },
    "nbformat": 4,
    "nbformat_minor": 2
}

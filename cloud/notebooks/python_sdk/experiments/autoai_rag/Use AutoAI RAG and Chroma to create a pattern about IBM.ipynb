{
    "cells": [
        {
            "cell_type": "markdown",
            "metadata": {},
            "source": [
                "![image](https://raw.githubusercontent.com/IBM/watson-machine-learning-samples/master/cloud/notebooks/headers/watsonx-Prompt_Lab-Notebook.png)\n",
                "# Use AutoAI RAG and Chroma to create a pattern and get information from `ibm-watsonx-ai` SDK documentation"
            ]
        },
        {
            "cell_type": "markdown",
            "metadata": {},
            "source": [
                "#### Disclaimers\n",
                "\n",
                "- Use only Projects and Spaces that are available in watsonx context.\n",
                "\n",
                "\n",
                "## Notebook content\n",
                "\n",
                "This notebook contains the steps and code to demonstrate the usage of IBM AutoAI RAG. The AutoAI RAG experiment conducted in this notebook uses data scraped from the `ibm-watsonx-ai` SDK documentation.\n",
                "\n",
                "Some familiarity with Python is helpful. This notebook uses Python 3.11.\n",
                "\n",
                "\n",
                "## Learning goal\n",
                "\n",
                "The learning goals of this notebook are:\n",
                "\n",
                "- Create an AutoAI RAG job that will find the best RAG pattern based on provided data\n",
                "\n",
                "\n",
                "## Contents\n",
                "\n",
                "This notebook contains the following parts:\n",
                "\n",
                "- [Setup](#setup)\n",
                "- [RAG Optimizer definition](#definition)\n",
                "- [RAG Experiment run](#run)\n",
                "- [RAG Patterns comparison and testing](#comparison)\n",
                "- [Historical runs](#runs)\n",
                "- [Clean up](#cleanup)\n",
                "- [Summary and next steps](#summary)"
            ]
        },
        {
            "cell_type": "markdown",
            "metadata": {},
            "source": [
                "<a id=\"setup\"></a>\n",
                "## Set up the environment\n",
                "\n",
                "Before you use the sample code in this notebook, you must perform the following setup tasks:\n",
                "\n",
                "-  Create a <a href=\"https://cloud.ibm.com/catalog/services/watsonxai-runtime\" target=\"_blank\" rel=\"noopener no referrer\">watsonx.ai Runtime Service</a> instance (a free plan is offered and information about how to create the instance can be found <a href=\"https://dataplatform.cloud.ibm.com/docs/content/wsj/getting-started/wml-plans.html?context=wx&audience=wdp\" target=\"_blank\" rel=\"noopener no referrer\">here</a>)."
            ]
        },
        {
            "cell_type": "markdown",
            "metadata": {},
            "source": [
                "### Install and import the required modules and dependencies"
            ]
        },
        {
            "cell_type": "code",
            "execution_count": null,
            "metadata": {},
            "outputs": [],
            "source": [
                "!pip install -U 'ibm-watsonx-ai[rag]>=1.3.26' | tail -n 1\n",
                "!pip install -U \"langchain_community>=0.3,<0.4\" | tail -n 1"
            ]
        },
        {
            "cell_type": "markdown",
            "metadata": {},
            "source": [
                "### Defining the watsonx.ai credentials\n",
                "This cell defines the credentials required to work with the watsonx.ai Runtime service.\n",
                "\n",
                "**Action:** Provide the IBM Cloud user API key. For details, see <a href=\"https://cloud.ibm.com/docs/account?topic=account-userapikey&interface=ui\" target=\"_blank\" rel=\"noopener no referrer\">documentation</a>."
            ]
        },
        {
            "cell_type": "code",
            "execution_count": null,
            "metadata": {},
            "outputs": [],
            "source": [
                "import getpass\n",
                "from ibm_watsonx_ai import Credentials\n",
                "\n",
                "credentials = Credentials(\n",
                "    url=\"https://us-south.ml.cloud.ibm.com\",\n",
                "    api_key=getpass.getpass(\"Please enter your watsonx.ai api key (hit enter): \"),\n",
                ")"
            ]
        },
        {
            "cell_type": "markdown",
            "metadata": {},
            "source": [
                "### Defining the project id\n",
                "The foundation model requires a project id that provides the context for the call. We will try to obtain the id directly from the project in which this notebook runs. If this fails, you'll have to provide the project id."
            ]
        },
        {
            "cell_type": "code",
            "execution_count": 2,
            "metadata": {},
            "outputs": [],
            "source": [
                "import os\n",
                "\n",
                "try:\n",
                "    project_id = os.environ[\"PROJECT_ID\"]\n",
                "except KeyError:\n",
                "    project_id = input(\"Please enter your project_id (hit enter): \")"
            ]
        },
        {
            "cell_type": "markdown",
            "metadata": {},
            "source": [
                "Create an instance of APIClient with authentication details."
            ]
        },
        {
            "cell_type": "code",
            "execution_count": 3,
            "metadata": {},
            "outputs": [],
            "source": [
                "from ibm_watsonx_ai import APIClient\n",
                "\n",
                "client = APIClient(credentials=credentials, project_id=project_id)"
            ]
        },
        {
            "cell_type": "markdown",
            "metadata": {},
            "source": [
                "<a id=\"definition\"></a>\n",
                "\n",
                "## RAG Optimizer definition\n",
                "\n",
                "### Defining a connection to training data\n",
                "\n",
                "Upload training data to a COS bucket and then define a connection to this file. This example uses the `Base` description from the [`ibm_watsonx_ai`](https://ibm.github.io/watsonx-ai-python-sdk/fm_model_inference.html) documentation.\n",
                "\n",
                "The code in the next cell uploads training data to the bucket."
            ]
        },
        {
            "cell_type": "code",
            "execution_count": 4,
            "metadata": {},
            "outputs": [
                {
                    "name": "stdout",
                    "output_type": "stream",
                    "text": [
                        "Creating data asset...\n",
                        "SUCCESS\n"
                    ]
                },
                {
                    "data": {
                        "text/plain": [
                            "'3735c60e-6ead-40a1-a73a-aa7f02ba850d'"
                        ]
                    },
                    "execution_count": 4,
                    "metadata": {},
                    "output_type": "execute_result"
                }
            ],
            "source": [
                "import os\n",
                "import requests\n",
                "\n",
                "url = \"https://ibm.github.io/watsonx-ai-python-sdk/base.html\"\n",
                "\n",
                "document_filename = \"base.html\"\n",
                "\n",
                "response = requests.get(url)\n",
                "\n",
                "response.raise_for_status()\n",
                "\n",
                "if not os.path.isfile(document_filename):\n",
                "    with open(document_filename, \"w\", encoding=\"utf-8\") as file:\n",
                "        file.write(response.text)\n",
                "\n",
                "document_asset_details = client.data_assets.create(name=document_filename, file_path=document_filename)\n",
                "\n",
                "document_asset_id = client.data_assets.get_id(document_asset_details)\n",
                "document_asset_id"
            ]
        },
        {
            "cell_type": "markdown",
            "metadata": {},
            "source": [
                "Define a connection to training data."
            ]
        },
        {
            "cell_type": "code",
            "execution_count": 5,
            "metadata": {},
            "outputs": [],
            "source": [
                "from ibm_watsonx_ai.helpers import DataConnection\n",
                "\n",
                "input_data_references = [DataConnection(data_asset_id=document_asset_id)]"
            ]
        },
        {
            "cell_type": "markdown",
            "metadata": {},
            "source": [
                "### Defining a connection to test data\n",
                "\n",
                "Upload a `json` file that will be used for benchmarking to COS and then define a connection to this file. This example uses content from the [`ibm_watsonx_ai`](https://ibm.github.io/watsonx-ai-python-sdk/index.html) SDK documentation."
            ]
        },
        {
            "cell_type": "code",
            "execution_count": 6,
            "metadata": {},
            "outputs": [],
            "source": [
                "benchmarking_data_IBM_page_content = [\n",
                "    {\n",
                "        \"question\": \"How can you set or refresh user request headers using the APIClient class?\",\n",
                "        \"correct_answer\": \"client.set_headers({'Authorization': 'Bearer <token>'})\",\n",
                "        \"correct_answer_document_ids\": [\n",
                "            \"base.html\"\n",
                "        ]\n",
                "    },\n",
                "    {\n",
                "        \"question\": \"How to initialise Credentials object with api_key\",\n",
                "        \"correct_answer\": \"credentials = Credentials(url = 'https://us-south.ml.cloud.ibm.com', api_key = '***********')\",\n",
                "        \"correct_answer_document_ids\": [\n",
                "            \"base.html\"\n",
                "        ]\n",
                "    }\n",
                "]"
            ]
        },
        {
            "cell_type": "markdown",
            "metadata": {},
            "source": [
                "The code in the next cell uploads testing data to the bucket as a `json` file."
            ]
        },
        {
            "cell_type": "code",
            "execution_count": 7,
            "metadata": {},
            "outputs": [
                {
                    "name": "stdout",
                    "output_type": "stream",
                    "text": [
                        "Creating data asset...\n",
                        "SUCCESS\n"
                    ]
                },
                {
                    "data": {
                        "text/plain": [
                            "'6eeb3620-8933-4592-8b5b-0d19ac6f2133'"
                        ]
                    },
                    "execution_count": 7,
                    "metadata": {},
                    "output_type": "execute_result"
                }
            ],
            "source": [
                "import json\n",
                "\n",
                "test_filename = \"benchmarking_data_Base.json\"\n",
                "\n",
                "if not os.path.isfile(test_filename):\n",
                "    with open(test_filename, \"w\") as json_file:\n",
                "        json.dump(benchmarking_data_IBM_page_content, json_file, indent=4)\n",
                "\n",
                "test_asset_details = client.data_assets.create(name=test_filename, file_path=test_filename)\n",
                "\n",
                "test_asset_id = client.data_assets.get_id(test_asset_details)\n",
                "test_asset_id"
            ]
        },
        {
            "cell_type": "markdown",
            "metadata": {},
            "source": [
                "Define connection information to testing data."
            ]
        },
        {
            "cell_type": "code",
            "execution_count": 8,
            "metadata": {},
            "outputs": [],
            "source": [
                "test_data_references = [DataConnection(data_asset_id=test_asset_id)]"
            ]
        },
        {
            "cell_type": "markdown",
            "metadata": {},
            "source": [
                "### RAG Optimizer configuration\n",
                "\n",
                "Provide the input information for AutoAI RAG optimizer:\n",
                "- `name` - experiment name\n",
                "- `description` - experiment description\n",
                "- `max_number_of_rag_patterns` - maximum number of RAG patterns to create\n",
                "- `optimization_metrics` - target optimization metrics"
            ]
        },
        {
            "cell_type": "code",
            "execution_count": 12,
            "metadata": {},
            "outputs": [],
            "source": [
                "from ibm_watsonx_ai.experiment import AutoAI\n",
                "\n",
                "experiment = AutoAI(credentials, project_id=project_id)\n",
                "\n",
                "rag_optimizer = experiment.rag_optimizer(\n",
                "    name='AutoAI RAG run - Base documentation',\n",
                "    description=\"AutoAI RAG Optimizer on ibm_watsonx_ai Base documentation\",\n",
                "    foundation_models=[\"mistralai/mistral-small-3-1-24b-instruct-2503\"],\n",
                "    embedding_models=[\"ibm/slate-125m-english-rtrvr\"],\n",
                "    retrieval_methods=[\"simple\"],\n",
                "    chunking=[\n",
                "        {\n",
                "            \"chunk_size\": 512,\n",
                "            \"chunk_overlap\": 64,\n",
                "            \"method\": \"recursive\"\n",
                "        }\n",
                "    ],\n",
                "    max_number_of_rag_patterns=4,\n",
                "    optimization_metrics=[AutoAI.RAGMetrics.ANSWER_CORRECTNESS]\n",
                ")"
            ]
        },
        {
            "cell_type": "markdown",
            "metadata": {},
            "source": [
                "Configuration parameters can be retrieved via `get_params()`."
            ]
        },
        {
            "cell_type": "code",
            "execution_count": 13,
            "metadata": {},
            "outputs": [
                {
                    "data": {
                        "text/plain": [
                            "{'name': 'AutoAI RAG run - Base documentation',\n",
                            " 'description': 'AutoAI RAG Optimizer on ibm_watsonx_ai Base documentation',\n",
                            " 'chunking': [{'chunk_size': 512, 'chunk_overlap': 64, 'method': 'recursive'}],\n",
                            " 'embedding_models': ['ibm/slate-125m-english-rtrvr'],\n",
                            " 'retrieval_methods': ['simple'],\n",
                            " 'generation': {'foundation_models': [{'model_id': 'mistralai/mistral-small-3-1-24b-instruct-2503'}]},\n",
                            " 'max_number_of_rag_patterns': 4,\n",
                            " 'optimization_metrics': ['answer_correctness']}"
                        ]
                    },
                    "execution_count": 13,
                    "metadata": {},
                    "output_type": "execute_result"
                }
            ],
            "source": [
                "rag_optimizer.get_params()"
            ]
        },
        {
            "cell_type": "markdown",
            "metadata": {},
            "source": [
                "<a id=\"run\"></a>\n",
                "## RAG Experiment run\n",
                "\n",
                "Call the `run()` method to trigger the AutoAI RAG experiment. You can either use interactive mode (synchronous job) or background mode (asynchronous job) by specifying `background_mode=True`."
            ]
        },
        {
            "cell_type": "code",
            "execution_count": 14,
            "metadata": {},
            "outputs": [
                {
                    "name": "stdout",
                    "output_type": "stream",
                    "text": [
                        "\n",
                        "\n",
                        "##############################################\n",
                        "\n",
                        "Running 'b4b57086-916a-4228-af2d-e420159bcf08'\n",
                        "\n",
                        "##############################################\n",
                        "\n",
                        "\n",
                        "pending.............\n",
                        "running......\n",
                        "completed\n",
                        "Training of 'b4b57086-916a-4228-af2d-e420159bcf08' finished successfully.\n"
                    ]
                }
            ],
            "source": [
                "run_details = rag_optimizer.run(\n",
                "    input_data_references=input_data_references,\n",
                "    test_data_references=test_data_references,\n",
                "    background_mode=False\n",
                ")"
            ]
        },
        {
            "cell_type": "markdown",
            "metadata": {},
            "source": [
                "You can use the `get_run_status()` method to monitor AutoAI RAG jobs in background mode."
            ]
        },
        {
            "cell_type": "code",
            "execution_count": 15,
            "metadata": {},
            "outputs": [
                {
                    "data": {
                        "text/plain": [
                            "'completed'"
                        ]
                    },
                    "execution_count": 15,
                    "metadata": {},
                    "output_type": "execute_result"
                }
            ],
            "source": [
                "rag_optimizer.get_run_status()"
            ]
        },
        {
            "cell_type": "markdown",
            "metadata": {},
            "source": [
                "<a id=\"comparison\"></a>\n",
                "## Comparison and testing of RAG Patterns\n",
                "\n",
                "You can list the trained patterns and information on evaluation metrics in the form of a Pandas DataFrame by calling the `summary()` method. You can use the DataFrame to compare all discovered patterns and select the one you like for further testing."
            ]
        },
        {
            "cell_type": "code",
            "execution_count": 16,
            "metadata": {},
            "outputs": [
                {
                    "data": {
                        "text/html": [
                            "<div>\n",
                            "<style scoped>\n",
                            "    .dataframe tbody tr th:only-of-type {\n",
                            "        vertical-align: middle;\n",
                            "    }\n",
                            "\n",
                            "    .dataframe tbody tr th {\n",
                            "        vertical-align: top;\n",
                            "    }\n",
                            "\n",
                            "    .dataframe thead th {\n",
                            "        text-align: right;\n",
                            "    }\n",
                            "</style>\n",
                            "<table border=\"1\" class=\"dataframe\">\n",
                            "  <thead>\n",
                            "    <tr style=\"text-align: right;\">\n",
                            "      <th></th>\n",
                            "      <th>mean_answer_correctness</th>\n",
                            "      <th>mean_faithfulness</th>\n",
                            "      <th>mean_context_correctness</th>\n",
                            "      <th>chunking.method</th>\n",
                            "      <th>chunking.chunk_size</th>\n",
                            "      <th>chunking.chunk_overlap</th>\n",
                            "      <th>embeddings.model_id</th>\n",
                            "      <th>vector_store.distance_metric</th>\n",
                            "      <th>retrieval.method</th>\n",
                            "      <th>retrieval.number_of_chunks</th>\n",
                            "      <th>retrieval.hybrid_ranker</th>\n",
                            "      <th>generation.model_id</th>\n",
                            "    </tr>\n",
                            "    <tr>\n",
                            "      <th>Pattern_Name</th>\n",
                            "      <th></th>\n",
                            "      <th></th>\n",
                            "      <th></th>\n",
                            "      <th></th>\n",
                            "      <th></th>\n",
                            "      <th></th>\n",
                            "      <th></th>\n",
                            "      <th></th>\n",
                            "      <th></th>\n",
                            "      <th></th>\n",
                            "      <th></th>\n",
                            "      <th></th>\n",
                            "    </tr>\n",
                            "  </thead>\n",
                            "  <tbody>\n",
                            "    <tr>\n",
                            "      <th>Pattern2</th>\n",
                            "      <td>0.7083</td>\n",
                            "      <td>0.2926</td>\n",
                            "      <td>1.0</td>\n",
                            "      <td>recursive</td>\n",
                            "      <td>512</td>\n",
                            "      <td>64</td>\n",
                            "      <td>ibm/slate-125m-english-rtrvr</td>\n",
                            "      <td>cosine</td>\n",
                            "      <td>simple</td>\n",
                            "      <td>5</td>\n",
                            "      <td></td>\n",
                            "      <td>mistralai/mistral-small-3-1-24b-instruct-2503</td>\n",
                            "    </tr>\n",
                            "    <tr>\n",
                            "      <th>Pattern1</th>\n",
                            "      <td>0.4583</td>\n",
                            "      <td>0.2808</td>\n",
                            "      <td>1.0</td>\n",
                            "      <td>recursive</td>\n",
                            "      <td>512</td>\n",
                            "      <td>64</td>\n",
                            "      <td>ibm/slate-125m-english-rtrvr</td>\n",
                            "      <td>cosine</td>\n",
                            "      <td>simple</td>\n",
                            "      <td>3</td>\n",
                            "      <td></td>\n",
                            "      <td>mistralai/mistral-small-3-1-24b-instruct-2503</td>\n",
                            "    </tr>\n",
                            "  </tbody>\n",
                            "</table>\n",
                            "</div>"
                        ],
                        "text/plain": [
                            "              mean_answer_correctness  mean_faithfulness  \\\n",
                            "Pattern_Name                                               \n",
                            "Pattern2                       0.7083             0.2926   \n",
                            "Pattern1                       0.4583             0.2808   \n",
                            "\n",
                            "              mean_context_correctness chunking.method  chunking.chunk_size  \\\n",
                            "Pattern_Name                                                                  \n",
                            "Pattern2                           1.0       recursive                  512   \n",
                            "Pattern1                           1.0       recursive                  512   \n",
                            "\n",
                            "              chunking.chunk_overlap           embeddings.model_id  \\\n",
                            "Pattern_Name                                                         \n",
                            "Pattern2                          64  ibm/slate-125m-english-rtrvr   \n",
                            "Pattern1                          64  ibm/slate-125m-english-rtrvr   \n",
                            "\n",
                            "             vector_store.distance_metric retrieval.method  \\\n",
                            "Pattern_Name                                                 \n",
                            "Pattern2                           cosine           simple   \n",
                            "Pattern1                           cosine           simple   \n",
                            "\n",
                            "              retrieval.number_of_chunks retrieval.hybrid_ranker  \\\n",
                            "Pattern_Name                                                       \n",
                            "Pattern2                               5                           \n",
                            "Pattern1                               3                           \n",
                            "\n",
                            "                                        generation.model_id  \n",
                            "Pattern_Name                                                 \n",
                            "Pattern2      mistralai/mistral-small-3-1-24b-instruct-2503  \n",
                            "Pattern1      mistralai/mistral-small-3-1-24b-instruct-2503  "
                        ]
                    },
                    "execution_count": 16,
                    "metadata": {},
                    "output_type": "execute_result"
                }
            ],
            "source": [
                "summary = rag_optimizer.summary()\n",
                "summary"
            ]
        },
        {
            "cell_type": "markdown",
            "metadata": {},
            "source": [
                "Additionally, you can pass the `scoring` parameter to the summary method, to filter RAG patterns starting with the best.\n",
                "\n",
                "```python\n",
                "summary = rag_optimizer.summary(scoring=\"faithfulness\")\n",
                "```"
            ]
        },
        {
            "cell_type": "code",
            "execution_count": 17,
            "metadata": {},
            "outputs": [
                {
                    "data": {
                        "text/plain": [
                            "{'entity': {'hardware_spec': {'id': 'a6c4923b-b8e4-444c-9f43-8a7ec3020110',\n",
                            "   'name': 'L'},\n",
                            "  'input_data_references': [{'location': {'href': '/v2/assets/3735c60e-6ead-40a1-a73a-aa7f02ba850d?project_id=eac8bfe2-a00b-43ca-846b-305af5cc6395',\n",
                            "     'id': '3735c60e-6ead-40a1-a73a-aa7f02ba850d'},\n",
                            "    'type': 'data_asset'}],\n",
                            "  'parameters': {'constraints': {'chunking': [{'chunk_overlap': 64,\n",
                            "      'chunk_size': 512,\n",
                            "      'method': 'recursive'}],\n",
                            "    'embedding_models': ['ibm/slate-125m-english-rtrvr'],\n",
                            "    'generation': {'foundation_models': [{'model_id': 'mistralai/mistral-small-3-1-24b-instruct-2503'}]},\n",
                            "    'max_number_of_rag_patterns': 4,\n",
                            "    'retrieval_methods': ['simple']},\n",
                            "   'optimization': {'metrics': ['answer_correctness']},\n",
                            "   'output_logs': True},\n",
                            "  'results': [{'context': {'iteration': 0,\n",
                            "     'max_combinations': 2,\n",
                            "     'rag_pattern': {'composition_steps': ['model_selection',\n",
                            "       'chunking',\n",
                            "       'embeddings',\n",
                            "       'retrieval',\n",
                            "       'generation'],\n",
                            "      'duration_seconds': 9,\n",
                            "      'location': {'evaluation_results': 'default_autoai_rag_out/b4b57086-916a-4228-af2d-e420159bcf08/Pattern1/evaluation_results.json',\n",
                            "       'indexing_notebook': 'default_autoai_rag_out/b4b57086-916a-4228-af2d-e420159bcf08/Pattern1/indexing_inference_notebook.ipynb',\n",
                            "       'inference_notebook': 'default_autoai_rag_out/b4b57086-916a-4228-af2d-e420159bcf08/Pattern1/indexing_inference_notebook.ipynb',\n",
                            "       'inference_service_code': 'default_autoai_rag_out/b4b57086-916a-4228-af2d-e420159bcf08/Pattern1/inference_ai_service.gz',\n",
                            "       'inference_service_metadata': 'default_autoai_rag_out/b4b57086-916a-4228-af2d-e420159bcf08/Pattern1/inference_service_metadata.json'},\n",
                            "      'name': 'Pattern1',\n",
                            "      'settings': {'chunking': {'chunk_overlap': 64,\n",
                            "        'chunk_size': 512,\n",
                            "        'method': 'recursive'},\n",
                            "       'embeddings': {'model_id': 'ibm/slate-125m-english-rtrvr',\n",
                            "        'truncate_input_tokens': 512,\n",
                            "        'truncate_strategy': 'left'},\n",
                            "       'generation': {'context_template_text': '{document}',\n",
                            "        'model_id': 'mistralai/mistral-small-3-1-24b-instruct-2503',\n",
                            "        'parameters': {'decoding_method': 'greedy',\n",
                            "         'max_new_tokens': 1000,\n",
                            "         'max_sequence_length': 131072,\n",
                            "         'min_new_tokens': 1},\n",
                            "        'prompt_template_text': \"<s>[INST] <<SYS>>\\nYou are a helpful, respectful and honest assistant. Always answer as helpfully as possible, while being safe. Your answers should not include any harmful, unethical, racist, sexist, toxic, dangerous, or illegal content. Please ensure that your responses are socially unbiased and positive in nature.\\n\\nIf a question does not make any sense, or is not factually coherent, explain why instead of answering something not correct. If you don't know the answer to a question, please don't share false information.\\n\\n<</SYS>>\\n\\nGenerate the next agent response by answering the question. You are provided several documents with titles. If the answer comes from different documents please mention all possibilities and use the titles of documents to separate between topics or domains. If you cannot base your answer on the given documents, please state that you do not have an answer. {reference_documents}\\n\\nRespond exclusively in the language of the question, regardless of any other language used in the provided context. Ensure that your entire response is in the same language as the question.\\n\\n{question} [/INST]\",\n",
                            "        'word_to_token_ratio': 2.1957},\n",
                            "       'retrieval': {'method': 'simple', 'number_of_chunks': 3},\n",
                            "       'vector_store': {'datasource_type': 'chroma',\n",
                            "        'distance_metric': 'cosine',\n",
                            "        'index_name': 'autoai_rag_b4b57086_20250626072109',\n",
                            "        'operation': 'upsert',\n",
                            "        'schema': {'fields': [{'description': 'text field',\n",
                            "           'name': 'text',\n",
                            "           'role': 'text',\n",
                            "           'type': 'string'},\n",
                            "          {'description': 'document name field',\n",
                            "           'name': 'document_id',\n",
                            "           'role': 'document_name',\n",
                            "           'type': 'string'},\n",
                            "          {'description': 'chunk starting token position in the source document',\n",
                            "           'name': 'start_index',\n",
                            "           'role': 'start_index',\n",
                            "           'type': 'number'},\n",
                            "          {'description': 'chunk number per document',\n",
                            "           'name': 'sequence_number',\n",
                            "           'role': 'sequence_number',\n",
                            "           'type': 'number'},\n",
                            "          {'description': 'vector embeddings',\n",
                            "           'name': 'vector',\n",
                            "           'role': 'vector_embeddings',\n",
                            "           'type': 'array'}],\n",
                            "         'id': 'autoai_rag_1.0',\n",
                            "         'name': 'Document schema using open-source loaders',\n",
                            "         'type': 'struct'}}},\n",
                            "      'settings_importance': {'chunking': [{'importance': 0.125,\n",
                            "         'parameter': 'chunk_size'},\n",
                            "        {'importance': 0.125, 'parameter': 'chunk_overlap'}],\n",
                            "       'embeddings': [{'importance': 0.125, 'parameter': 'embedding_model'}],\n",
                            "       'generation': [{'importance': 0.125, 'parameter': 'foundation_model'}],\n",
                            "       'retrieval': [{'importance': 0.125, 'parameter': 'retrieval_method'},\n",
                            "        {'importance': 0.125, 'parameter': 'window_size'},\n",
                            "        {'importance': 0.125, 'parameter': 'number_of_chunks'}]}},\n",
                            "     'software_spec': {'name': 'autoai-rag_rt24.1-py3.11'}},\n",
                            "    'metrics': {'test_data': [{'ci_high': 0.6667,\n",
                            "       'ci_low': 0.25,\n",
                            "       'mean': 0.4583,\n",
                            "       'metric_name': 'answer_correctness'},\n",
                            "      {'ci_high': 0.4086,\n",
                            "       'ci_low': 0.1529,\n",
                            "       'mean': 0.2808,\n",
                            "       'metric_name': 'faithfulness'},\n",
                            "      {'mean': 1.0, 'metric_name': 'context_correctness'}]}},\n",
                            "   {'context': {'iteration': 1,\n",
                            "     'max_combinations': 2,\n",
                            "     'rag_pattern': {'composition_steps': ['model_selection',\n",
                            "       'chunking',\n",
                            "       'embeddings',\n",
                            "       'retrieval',\n",
                            "       'generation'],\n",
                            "      'duration_seconds': 6,\n",
                            "      'location': {'evaluation_results': 'default_autoai_rag_out/b4b57086-916a-4228-af2d-e420159bcf08/Pattern2/evaluation_results.json',\n",
                            "       'indexing_notebook': 'default_autoai_rag_out/b4b57086-916a-4228-af2d-e420159bcf08/Pattern2/indexing_inference_notebook.ipynb',\n",
                            "       'inference_notebook': 'default_autoai_rag_out/b4b57086-916a-4228-af2d-e420159bcf08/Pattern2/indexing_inference_notebook.ipynb',\n",
                            "       'inference_service_code': 'default_autoai_rag_out/b4b57086-916a-4228-af2d-e420159bcf08/Pattern2/inference_ai_service.gz',\n",
                            "       'inference_service_metadata': 'default_autoai_rag_out/b4b57086-916a-4228-af2d-e420159bcf08/Pattern2/inference_service_metadata.json'},\n",
                            "      'name': 'Pattern2',\n",
                            "      'settings': {'chunking': {'chunk_overlap': 64,\n",
                            "        'chunk_size': 512,\n",
                            "        'method': 'recursive'},\n",
                            "       'embeddings': {'model_id': 'ibm/slate-125m-english-rtrvr',\n",
                            "        'truncate_input_tokens': 512,\n",
                            "        'truncate_strategy': 'left'},\n",
                            "       'generation': {'context_template_text': '{document}',\n",
                            "        'model_id': 'mistralai/mistral-small-3-1-24b-instruct-2503',\n",
                            "        'parameters': {'decoding_method': 'greedy',\n",
                            "         'max_new_tokens': 1000,\n",
                            "         'max_sequence_length': 131072,\n",
                            "         'min_new_tokens': 1},\n",
                            "        'prompt_template_text': \"<s>[INST] <<SYS>>\\nYou are a helpful, respectful and honest assistant. Always answer as helpfully as possible, while being safe. Your answers should not include any harmful, unethical, racist, sexist, toxic, dangerous, or illegal content. Please ensure that your responses are socially unbiased and positive in nature.\\n\\nIf a question does not make any sense, or is not factually coherent, explain why instead of answering something not correct. If you don't know the answer to a question, please don't share false information.\\n\\n<</SYS>>\\n\\nGenerate the next agent response by answering the question. You are provided several documents with titles. If the answer comes from different documents please mention all possibilities and use the titles of documents to separate between topics or domains. If you cannot base your answer on the given documents, please state that you do not have an answer. {reference_documents}\\n\\nRespond exclusively in the language of the question, regardless of any other language used in the provided context. Ensure that your entire response is in the same language as the question.\\n\\n{question} [/INST]\",\n",
                            "        'word_to_token_ratio': 2.1957},\n",
                            "       'retrieval': {'method': 'simple', 'number_of_chunks': 5},\n",
                            "       'vector_store': {'datasource_type': 'chroma',\n",
                            "        'distance_metric': 'cosine',\n",
                            "        'index_name': 'autoai_rag_b4b57086_20250626072109',\n",
                            "        'operation': 'upsert',\n",
                            "        'schema': {'fields': [{'description': 'text field',\n",
                            "           'name': 'text',\n",
                            "           'role': 'text',\n",
                            "           'type': 'string'},\n",
                            "          {'description': 'document name field',\n",
                            "           'name': 'document_id',\n",
                            "           'role': 'document_name',\n",
                            "           'type': 'string'},\n",
                            "          {'description': 'chunk starting token position in the source document',\n",
                            "           'name': 'start_index',\n",
                            "           'role': 'start_index',\n",
                            "           'type': 'number'},\n",
                            "          {'description': 'chunk number per document',\n",
                            "           'name': 'sequence_number',\n",
                            "           'role': 'sequence_number',\n",
                            "           'type': 'number'},\n",
                            "          {'description': 'vector embeddings',\n",
                            "           'name': 'vector',\n",
                            "           'role': 'vector_embeddings',\n",
                            "           'type': 'array'}],\n",
                            "         'id': 'autoai_rag_1.0',\n",
                            "         'name': 'Document schema using open-source loaders',\n",
                            "         'type': 'struct'}}},\n",
                            "      'settings_importance': {'chunking': [{'importance': 0.0,\n",
                            "         'parameter': 'chunk_size'},\n",
                            "        {'importance': 0.0, 'parameter': 'chunk_overlap'}],\n",
                            "       'embeddings': [{'importance': 0.0, 'parameter': 'embedding_model'}],\n",
                            "       'generation': [{'importance': 0.0, 'parameter': 'foundation_model'}],\n",
                            "       'retrieval': [{'importance': 0.0, 'parameter': 'retrieval_method'},\n",
                            "        {'importance': 0.0, 'parameter': 'window_size'},\n",
                            "        {'importance': 1.0, 'parameter': 'number_of_chunks'}]}},\n",
                            "     'software_spec': {'name': 'autoai-rag_rt24.1-py3.11'}},\n",
                            "    'metrics': {'test_data': [{'ci_high': 0.75,\n",
                            "       'ci_low': 0.6667,\n",
                            "       'mean': 0.7083,\n",
                            "       'metric_name': 'answer_correctness'},\n",
                            "      {'ci_high': 0.3868,\n",
                            "       'ci_low': 0.1984,\n",
                            "       'mean': 0.2926,\n",
                            "       'metric_name': 'faithfulness'},\n",
                            "      {'mean': 1.0, 'metric_name': 'context_correctness'}]}}],\n",
                            "  'results_reference': {'location': {'path': 'default_autoai_rag_out',\n",
                            "    'training': 'default_autoai_rag_out/b4b57086-916a-4228-af2d-e420159bcf08',\n",
                            "    'training_status': 'default_autoai_rag_out/b4b57086-916a-4228-af2d-e420159bcf08/training-status.json',\n",
                            "    'training_log': 'default_autoai_rag_out/b4b57086-916a-4228-af2d-e420159bcf08/output.log',\n",
                            "    'assets_path': 'default_autoai_rag_out/b4b57086-916a-4228-af2d-e420159bcf08/assets'},\n",
                            "   'type': 'container'},\n",
                            "  'status': {'completed_at': '2025-06-26T07:21:42.639Z',\n",
                            "   'message': {'level': 'info',\n",
                            "    'text': 'AAR019I: AutoAI execution completed.'},\n",
                            "   'running_at': '2025-06-26T07:21:01.000Z',\n",
                            "   'state': 'completed',\n",
                            "   'step': 'generation'},\n",
                            "  'test_data_references': [{'location': {'href': '/v2/assets/6eeb3620-8933-4592-8b5b-0d19ac6f2133?project_id=eac8bfe2-a00b-43ca-846b-305af5cc6395',\n",
                            "     'id': '6eeb3620-8933-4592-8b5b-0d19ac6f2133'},\n",
                            "    'type': 'data_asset'}],\n",
                            "  'timestamp': '2025-06-26T07:21:45.185Z'},\n",
                            " 'metadata': {'created_at': '2025-06-26T07:19:49.317Z',\n",
                            "  'description': 'AutoAI RAG Optimizer on ibm_watsonx_ai Base documentation',\n",
                            "  'id': 'b4b57086-916a-4228-af2d-e420159bcf08',\n",
                            "  'modified_at': '2025-06-26T07:21:42.823Z',\n",
                            "  'name': 'AutoAI RAG run - Base documentation',\n",
                            "  'project_id': 'eac8bfe2-a00b-43ca-846b-305af5cc6395',\n",
                            "  'tags': ['autorag.264ab5bc-2eb8-4478-bd2b-db4d8dbe1e7c']}}"
                        ]
                    },
                    "execution_count": 17,
                    "metadata": {},
                    "output_type": "execute_result"
                }
            ],
            "source": [
                "rag_optimizer.get_run_details()"
            ]
        },
        {
            "cell_type": "markdown",
            "metadata": {},
            "source": [
                "### Get selected pattern\n",
                "\n",
                "Get the RAGPattern object from the RAG Optimizer experiment. By default, the RAGPattern of the best pattern is returned."
            ]
        },
        {
            "cell_type": "code",
            "execution_count": 19,
            "metadata": {},
            "outputs": [
                {
                    "name": "stdout",
                    "output_type": "stream",
                    "text": [
                        "Best pattern is: Pattern2\n"
                    ]
                }
            ],
            "source": [
                "best_pattern_name = summary.index.values[0]\n",
                "print('Best pattern is:', best_pattern_name)\n",
                "\n",
                "best_pattern = rag_optimizer.get_pattern(pattern_name=\"Pattern1\")"
            ]
        },
        {
            "cell_type": "markdown",
            "metadata": {},
            "source": [
                "The pattern details can be retrieved by calling the `get_pattern_details` method:\n",
                "\n",
                "```python\n",
                "rag_optimizer.get_pattern_details(pattern_name='Pattern2')\n",
                "```"
            ]
        },
        {
            "cell_type": "markdown",
            "metadata": {},
            "source": [
                "### Create the index/collection\n",
                "\n",
                "Build solution on the best pattern, with additional document indexing."
            ]
        },
        {
            "cell_type": "markdown",
            "metadata": {},
            "source": [
                "You can check which `index_name` you are working on:\n",
                "\n",
                "```python\n",
                "best_pattern.vector_store._index_name\n",
                "```"
            ]
        },
        {
            "cell_type": "code",
            "execution_count": 20,
            "metadata": {},
            "outputs": [
                {
                    "name": "stderr",
                    "output_type": "stream",
                    "text": [
                        "USER_AGENT environment variable not set, consider setting it to identify your requests.\n"
                    ]
                }
            ],
            "source": [
                "from langchain_community.document_loaders import WebBaseLoader\n",
                "\n",
                "urls = [\n",
                "    \"https://ibm.github.io/watsonx-ai-python-sdk/fm_embeddings.html\",\n",
                "    \"https://ibm.github.io/watsonx-ai-python-sdk/fm_custom_models.html\",\n",
                "    \"https://ibm.github.io/watsonx-ai-python-sdk/fm_text_extraction.html\"\n",
                "]\n",
                "docs_list = WebBaseLoader(urls).load()\n",
                "doc_splits = best_pattern.chunker.split_documents(docs_list)"
            ]
        },
        {
            "cell_type": "code",
            "execution_count": 21,
            "metadata": {},
            "outputs": [
                {
                    "name": "stderr",
                    "output_type": "stream",
                    "text": [
                        "/var/folders/js/prfjw1gx7tqb554jl4sqw9pw0000gn/T/ipykernel_96767/1260819839.py:1: DeprecationWarning: `indexing_function` is deprecated and will be removed in a future release.\n",
                        "  best_pattern.indexing_function(doc_splits)\n"
                    ]
                },
                {
                    "data": {
                        "text/plain": [
                            "['8591131e50033fba603cbb386f8cdb553dfb1ce78e1ae5efebd66f6232b9ea8c',\n",
                            " 'c6ded0d72ad8bb1b2b31adb52e6de57f1e48a57d0103cfa5ade1714eb0b5ebd8',\n",
                            " '32381dd4b918ae2c4bc88ce20bf314ce57fd8d94aeac88ac069a2b0f65d05dd9',\n",
                            " '63bd9001dd1b0d3a96843ec90789cfa0539185e503b807cf7c4e9c810f0cf59a',\n",
                            " '31d0e7b15a6d50e4074ba326bbc215adaafe1d417e93150ada3adf5d652fbb85',\n",
                            " 'bf834893766f79c474a698d7e74704e179929110b36c6d71f9290fc721470274',\n",
                            " '73a6da22da234d2b58e62d9292ad0d28830110ecd4664716874c526a217f91f2',\n",
                            " 'ad36cf5048f49bae789428a05f3d6d12fb1c268fd01ac2047c562151d1ba0f47',\n",
                            " '719535595c7836d36822bc567246061dc3c6ba4facb3acf46c0e7a9253feab3f',\n",
                            " '5a9d36496ee5a13b95ee835cdbd2fc2b0b82635d86267e64a07973b42e780f3a',\n",
                            " 'b53ef0e8415975ac57f0cb6e63a10063528bc9394186dd0d0f81a27c774fdf71',\n",
                            " '17ceba8a4fe063ec7751a5d2ebb33664f1128a7e5670da0a0df900bace3f98bd',\n",
                            " '23386fbdbdfe78d502f274099641d9cbebf244c8134c0dbb9c87ed7a73f3ab53',\n",
                            " '4d8c3685f7bae330b9ab35d3d592d3c86a68d7cd5805158d96354f16003644b3',\n",
                            " '9a3ce2e2b6cd84b0da2cf497396f86cf00aaae028bab20455585af25d114c607',\n",
                            " '9608a6a30c2656d6d88d680fd6c5184e7bdc86bdb793521bc8bdf744dd77be99',\n",
                            " 'a2a3e81be9fc27aa53ba3d0a2db29d9b4ef33c5a101fa13b48df5bb6f257bd9f',\n",
                            " '4ce3320d8dd747dc734d6f08fd49cd70f78b05cbc784ea501f1491b2320f1e13',\n",
                            " '1e64d334f89d59521735ad242c152ffa7083eed9f8ca93ca92cbbc6ae5909029',\n",
                            " 'f4a4c7f17fceaf052bc3d047c5a2c8cf1b1393bd7fbf137f085fa90d9b003942',\n",
                            " '73345010c0320d8e4db06c86047f21d0a8ee56724ca89b4082587dc4c8cc9a8f',\n",
                            " '0ba6a30a96369c88f57eca4ad56d8d404fd5d0266f1495cfd5adf3a117dc9330',\n",
                            " 'bb2a4bf58371dfbd2543b4729313551d12c64ce0a466b769643a86335ac89788',\n",
                            " 'cf86a13a3da9874b920b22aea801cb2e6de5339c023e2b78cf90a51329c0274f',\n",
                            " 'f65d8dc93b3fb3f28350b6cfc002bb97042d7a94e7b9947152e77094244b8b35',\n",
                            " '8798b9360cc7c72f685eb73672df9ba2e4251dd27e4e48910ee4c3ab1c143530',\n",
                            " 'f24d534fb83fe29270dfe29723da8bfc5ae08210504bb7e0fade91172c23ced0',\n",
                            " '9455b5cd09800ee64d2446eb9d8f95512288f8203d351967541a466d6186ee19',\n",
                            " 'be8a9a649260c0b51e9b82504ae21b7d86afc8a40759f775c6b80240ea545a8b',\n",
                            " '8f652154e6c8be7cdc3fcd3e0ab36c0c199ce69f68c6f7759a78981785d70c65',\n",
                            " 'a329e2a0951fda8535daaf83bdc711f1a95f1b70aa1ebbac36159cfc7402c00e',\n",
                            " '75a76b423b7bc2289b13ce3e05b42254048398a36f498334045ad8379c28fccd',\n",
                            " 'd0f7ea1caa72e585cdcbb6228487b07159a65fea44fd20770f9474334253a65f',\n",
                            " '8c9a37922cbde00438e063a336e96063d82b5662f35f6ef6eec49aa766388192',\n",
                            " 'ff747908f764af18e9ce7eb116dfb8ff3678566674e687add25db98a43de6307',\n",
                            " '15613d7525864d7c08fc3b2429e146ff9d1393bf1fe445d2451e990061868e3b',\n",
                            " '27998b5b25bbe734180b6def9c790af07bf50cc24cb3d166fe38d4605b1ef05b',\n",
                            " 'a5f9db83b122eb05c9e055ab1239e56aa206534226ddc270a07ce1c4294ed823',\n",
                            " '4c16fab26fd2c5e987106103ec0455b5cba31eeb325da7576f40e80181d12e7b',\n",
                            " 'b9eb3fc532ef8eb82f9e0161d91f4c9d3fec4ee22631b9473d87ea4ba52a54f5',\n",
                            " 'ec3e3b2337613af9ba3b95724c66e0911718abbb450cd9d382364e5e200f7a8b',\n",
                            " '7d234b9b2c08fa04172c3cc60636c4b32b1822f4872fb109b40f8e2ea57d085b',\n",
                            " '717bf62a26df8fc51a713ae2b4361a5e502986c33476f3b817147a886989f2b5',\n",
                            " '026e2a7004df0159716838f95b40011565e52bb44e7dbd36af2335fab9791551',\n",
                            " '2ccd8515a02fe5217844e47739df93b5e3e20bf603f91b7da6b64782e2688036',\n",
                            " '822d11a3e04e34513ea697e2b61b0f9a6d42723f688e499b9476ed3faec72351',\n",
                            " '74e29c3609ffc7b6a9f67146eb10294d4acf0146b831cfd23458de97f4f81fc1',\n",
                            " '3b1975ef1d0eefd53aa71a1737004e389505448cd14b05aa93bfec11d8bb34a4',\n",
                            " 'e7adc05e1ca1f66f134572eb203b5a8d888aeb1ef2fc5a1407afdf7a368c0f51',\n",
                            " 'feedd690f80d1601486cb7ca9dcc06d17c43213e1fbc7521834a1912f5eccd3e',\n",
                            " 'c0cdfd45c84ee8edb888c5a6256c5ba158da80336a791b0bdcd1b7507b246aad',\n",
                            " '8350e305a234e4ebf0b7e9a73b9f0c21c71a786cb7c18798c597d403023ebab3',\n",
                            " '54b0ae12530962f157fce6fbe0c0f68944bec6fb95c021d81b01d693037880c5',\n",
                            " '006ef2170dc731be45e251dc2e3180b995b90879d55b6f44dcbcd39d7b38911f',\n",
                            " 'c2ef512b5931f0f72070eafd8f0ca3d1a204d5dd0babd85d3d4f17686daa42d8',\n",
                            " '7e1ddd18d69e528237f2794d75f595d461dc9819e2a6a00ce5e9786c9bac0bbe',\n",
                            " '89ac7a1c8ea149a43cbc8c7757f23776fc025d820a0dcd09c681482d3f4aba6b',\n",
                            " 'fe21ec70e23983960e17ecec90af0df35175b105b5f831c34fb4429c2d4ea38b',\n",
                            " '268a80b79727f6a61b4d5fbae2532aab15e825bf0b3e8e24660e9dfee34e2db9',\n",
                            " '3f3788e66628e666cd4539e5904541cbca0e28832d800b8e2e0a5072cd1b37ba',\n",
                            " 'e4c2737c5e59eb5e49e4d5ab8e3e97b1f4cd3c3241a8d0a16bb110c9809f42c7',\n",
                            " '082dba365980f5d4e4563c90c488dd0eef1f1dcd54e3963299cf60eb3770985f',\n",
                            " '2a797c219679f94a1a4805150aae8b6ac226d7a881275dcfaf80e1af147d5e28',\n",
                            " '9b912a699c65c4ef603b3fb1fe41989f17358cf6ac2827a5f71a0dd2bbfaadf6',\n",
                            " 'ad53edda03070f01102cbf48b53056a049b81e190c233e70abfbf07b10eb855f',\n",
                            " '74d4d274b62129efd976ec8734bfecdff70a17243e2839aae9728084b2507487',\n",
                            " '83fe7c0d3b303cfdf44a036414709bcda9f46e607ab5a78844b92491357f336b',\n",
                            " '8700f06c0a703491ad70ac633042e8af4958f0fcbcbc180ce9aece783cae8d24',\n",
                            " '60fd7c2fd25af21fec55fe891c700fb329d78f751db7d8efe0938048e49bb95c',\n",
                            " '4beca166cc67a7d530d678798aa76bdcaeb65c0b3d24a34de00cd941420dc3ed',\n",
                            " '80294c9fb6b3ae65ba3c98a496a1ce856f48643529dc9ae5a78b0ccb2c977023',\n",
                            " '9a68dc81fe71acf969d7361dbc1867d186bca12184f850ad89be9fb041fcd0e1',\n",
                            " '39046b7148aba69d05ec6946d4e615ddfd7ed994cf53fd3b581553512681f942',\n",
                            " '13c1bd11ff79e5b825ba168014ece524be07d9b28901b2dd2f1477a43d80ff14',\n",
                            " 'ea4a4776b794432b22b5dd005880ac24b662a9f471f8ed961934c46d21f6d6cc',\n",
                            " '22af0bc3885f076154a508e23376b8dbd3c8ee7d9a1fc063af9043d0d392e7c0',\n",
                            " '6ac5a58223a24d75270393133e95196b9dcd7f40983200b4fb0e1f55ba605162',\n",
                            " '1ea0d12a407f944e7eef72ffba93c8bcfe9258c1cf5954dfa870799c82616dcc',\n",
                            " '7948e7a1672aa4a292e3244545393ddbdceaf01a027e06e3915bc160840b2a18',\n",
                            " '06bb2d254ec7e22863e74b80086f84aca8cf2aaa69e3636e5b49c548fdfaaa5b',\n",
                            " 'e7ef106bc3c77a598841fc628b7ba5938f24b3c0a06884eddb6a9b7f132f25a0',\n",
                            " '237e83354aafd17c0bc1fa79423b6d7597ec68aac2214b88d40e9bf29a77645d',\n",
                            " 'b64dd94f3be7e43814d67d36d134f08b64513a8f5e7bbffdccdcca614665e304',\n",
                            " '8aacec8e75b21488b2c9c9c778d77b58ef5733faa0150423c169794f7d4bd772',\n",
                            " 'd0edfdab936fdaa4556adb31954473968cebdd487f42396610bfdcf01d1b2ebc',\n",
                            " 'a2ec3cabfc0dd97bf1f91be38e78f888594ec1b8c213af3fefe22c8fbfd9bb54',\n",
                            " 'f49c9caccfac6a97c8fc7d530013bb952cf0c6d256b797ce9c93a3ccd0184c9e',\n",
                            " '7fc77d9d4890adb4adc824802a1edec98d42c2b01439895920bffdf7e6c3b645',\n",
                            " '6b1a482a06866e01314fcad1c864820d2334c3c1a04c8a0bec6a9ae8ad32bc74',\n",
                            " '9f188007fd7980e451b897b7afccd48d400182ae01339533d49c0a3ada323c79',\n",
                            " '4f7b557b1899fce18132a30a06980dc72f17707e06aa1b0c0e097673ffaac74d',\n",
                            " '22ceefffd7b8701f731bab3d4c20b8cd98c83745874088fc26d4c17d5cf65bad',\n",
                            " '3d10d8c183dc08f3c70f4a7aca53c65810e4af8f908f2b60cf2ef09601e72e89',\n",
                            " 'fd5d2a1e2dd6e3c5ad556b9c5a42f1f76f9361e0709f4a7f3e983c9b53bd19ac',\n",
                            " '22ede1c9491e0dc3e7e90809c1d295cb0df8a2a7082945fbc034a1d617f61f46',\n",
                            " '8cfbbb1b443ce877fa85f24d89d623cfa5f3177f97979fe475f00664d392d482',\n",
                            " 'e5cfb31339cd605743ebf82ced58a7c4a3cb0e87b1638d4769d746b994a1ca81']"
                        ]
                    },
                    "execution_count": 21,
                    "metadata": {},
                    "output_type": "execute_result"
                }
            ],
            "source": [
                "best_pattern.indexing_function(doc_splits)"
            ]
        },
        {
            "cell_type": "markdown",
            "metadata": {},
            "source": [
                "Query the RAGPattern locally, to test it."
            ]
        },
        {
            "cell_type": "code",
            "execution_count": 22,
            "metadata": {},
            "outputs": [],
            "source": [
                "from ibm_watsonx_ai.deployments import RuntimeContext\n",
                "\n",
                "runtime_context = RuntimeContext(api_client=client)\n",
                "inference_service_function = best_pattern.inference_service(runtime_context)[0]"
            ]
        },
        {
            "cell_type": "code",
            "execution_count": 25,
            "metadata": {},
            "outputs": [
                {
                    "data": {
                        "text/plain": [
                            "{'body': {'choices': [{'index': 0,\n",
                            "    'message': {'role': 'assistant',\n",
                            "     'content': ' </s>\\n\\nTo add Task Credentials, you need to follow these steps:\\n\\n**IBM watsonx.ai for IBM Cloud**\\n\\n1. **Create Credentials Object**: You can create a credentials object using either an API key or a token. Here are examples of both methods:\\n\\n   - **Using an API Key**:\\n     ```python\\n     from ibm_watsonx_ai import Credentials\\n\\n     credentials = Credentials(\\n         url=\"https://us-south.ml.cloud.ibm.com\",\\n         api_key=\"YOUR_API_KEY\"\\n     )\\n     ```\\n\\n   - **Using a Token**:\\n     ```python\\n     from ibm_watsonx_ai import Credentials\\n\\n     credentials = Credentials(\\n         url=\"https://us-south.ml.cloud.ibm.com\",\\n         token=\"YOUR_TOKEN\"\\n     )\\n     ```\\n\\n2. **Store Task Credentials**: Once you have the credentials object, you can store the task credentials using the `store` method:\\n   ```python\\n   client.task_credentials.store()\\n   ```\\n\\n3. **List Available Task Credentials**: To list the available task credentials, use the `list` method:\\n   ```python\\n   client.task_credentials.list()\\n   ```\\n\\n4. **Set Default Project or Space**: You can set the default project or space using the `set` method:\\n   ```python\\n   client.set.default_project(project_id=\"YOUR_PROJECT_ID\")\\n   # or\\n   client.set.default_space(space_id=\"YOUR_SPACE_ID\")\\n   ```\\n\\n**IBM watsonx.ai software**\\n\\n1. **Import Necessary Modules**: Import the required modules from the `ibm_watsonx_ai` package.\\n   ```python\\n   import os\\n   from ibm_watsonx_ai import Credentials\\n   ```\\n\\n2. **Create Credentials Object**: Similar to the IBM watsonx.ai for IBM Cloud, you can create a credentials object using an API key or a token.\\n\\n3. **Store Task Credentials**: Use the `store` method to store the task credentials.\\n\\n4. **List Available Task Credentials**: Use the `list` method to list the available task credentials.\\n\\n5. **Set Default Project or Space**: Use the `set` method to set the default project or space.\\n\\nFor more detailed information, you can refer to the documentation on [Adding task credentials](https://www.ibm.com/docs/en/watsonx-ai?topic=credentials-adding-task).'},\n",
                            "    'reference_documents': [{'page_content': 'If the list is empty, you can create new task credentials with the store method:\\nclient.task_credentials.store()\\n\\n\\nTo get the status of available task credentials, use the get_details method:\\nclient.task_credentials.get_details()',\n",
                            "      'metadata': {'document_id': '-2359849608442110910',\n",
                            "       'language': 'en',\n",
                            "       'sequence_number': 8,\n",
                            "       'source': 'https://ibm.github.io/watsonx-ai-python-sdk/fm_custom_models.html',\n",
                            "       'start_index': 0,\n",
                            "       'title': 'Custom models - IBM watsonx.ai'}},\n",
                            "     {'page_content': 'client = APIClient(credentials)\\nclient.set.default_project(project_id=project_id)\\n# or client.set.default_space(space_id=space_id)\\n\\n\\n\\n\\nAdd Task Credentials¶\\n\\nWarning\\nIf not already added, Task Credentials are required on IBM watsonx.ai for IBM Cloud to make a deployment.\\n\\nWith task credentials, you can deploy a custom foundation model and avoid token expiration issues.\\nFor more details, see Adding task credentials.\\nTo list available task credentials, use the list method:\\nclient.task_credentials.list()',\n",
                            "      'metadata': {'document_id': '-2359849608442110910',\n",
                            "       'language': 'en',\n",
                            "       'sequence_number': 7,\n",
                            "       'source': 'https://ibm.github.io/watsonx-ai-python-sdk/fm_custom_models.html',\n",
                            "       'start_index': 0,\n",
                            "       'title': 'Custom models - IBM watsonx.ai'}},\n",
                            "     {'page_content': 'Example of create Credentials object\\n\\nIBM watsonx.ai for IBM Cloud\\n\\nfrom ibm_watsonx_ai import Credentials\\n\\n# Example of creating the credentials using an API key:\\ncredentials = Credentials(\\n    url = \"https://us-south.ml.cloud.ibm.com\",\\n    api_key = IAM_API_KEY\\n)\\n\\n# Example of creating the credentials using a token:\\ncredentials = Credentials(\\n    url = \"https://us-south.ml.cloud.ibm.com\",\\n    token = \"***********\"\\n)\\n\\n\\n\\nIBM watsonx.ai software\\n\\nimport os\\nfrom ibm_watsonx_ai import Credentials',\n",
                            "      'metadata': {'document_id': 'base.html',\n",
                            "       'sequence_number': 26,\n",
                            "       'start_index': 9171}}]}]}}"
                        ]
                    },
                    "execution_count": 25,
                    "metadata": {},
                    "output_type": "execute_result"
                }
            ],
            "source": [
                "question = \"How to add Task Credentials?\"\n",
                "\n",
                "context = RuntimeContext(\n",
                "    api_client=client,\n",
                "    request_payload_json={\"messages\": [{\"role\": \"user\", \"content\": question}]},\n",
                ")\n",
                "\n",
                "inference_service_function(context)"
            ]
        },
        {
            "cell_type": "markdown",
            "metadata": {},
            "source": [
                "<a id=\"runs\"></a>\n",
                "## Historical runs\n",
                "\n",
                "In this section you learn to work with historical RAG Optimizer jobs (runs).\n",
                "\n",
                "To list historical runs use the `list()` method and provide the `'rag_optimizer'` filter."
            ]
        },
        {
            "cell_type": "code",
            "execution_count": 27,
            "metadata": {},
            "outputs": [
                {
                    "data": {
                        "text/html": [
                            "<div>\n",
                            "<style scoped>\n",
                            "    .dataframe tbody tr th:only-of-type {\n",
                            "        vertical-align: middle;\n",
                            "    }\n",
                            "\n",
                            "    .dataframe tbody tr th {\n",
                            "        vertical-align: top;\n",
                            "    }\n",
                            "\n",
                            "    .dataframe thead th {\n",
                            "        text-align: right;\n",
                            "    }\n",
                            "</style>\n",
                            "<table border=\"1\" class=\"dataframe\">\n",
                            "  <thead>\n",
                            "    <tr style=\"text-align: right;\">\n",
                            "      <th></th>\n",
                            "      <th>timestamp</th>\n",
                            "      <th>run_id</th>\n",
                            "      <th>state</th>\n",
                            "      <th>auto_pipeline_optimizer name</th>\n",
                            "    </tr>\n",
                            "  </thead>\n",
                            "  <tbody>\n",
                            "    <tr>\n",
                            "      <th>0</th>\n",
                            "      <td>2025-06-26T07:21:42.823Z</td>\n",
                            "      <td>b4b57086-916a-4228-af2d-e420159bcf08</td>\n",
                            "      <td>completed</td>\n",
                            "      <td>AutoAI RAG run - Base documentation</td>\n",
                            "    </tr>\n",
                            "  </tbody>\n",
                            "</table>\n",
                            "</div>"
                        ],
                        "text/plain": [
                            "                  timestamp                                run_id      state  \\\n",
                            "0  2025-06-26T07:21:42.823Z  b4b57086-916a-4228-af2d-e420159bcf08  completed   \n",
                            "\n",
                            "          auto_pipeline_optimizer name  \n",
                            "0  AutoAI RAG run - Base documentation  "
                        ]
                    },
                    "execution_count": 27,
                    "metadata": {},
                    "output_type": "execute_result"
                }
            ],
            "source": [
                "experiment.runs(filter='rag_optimizer').list()"
            ]
        },
        {
            "cell_type": "code",
            "execution_count": 29,
            "metadata": {},
            "outputs": [
                {
                    "data": {
                        "text/plain": [
                            "'b4b57086-916a-4228-af2d-e420159bcf08'"
                        ]
                    },
                    "execution_count": 29,
                    "metadata": {},
                    "output_type": "execute_result"
                }
            ],
            "source": [
                "run_id = run_details['metadata']['id']\n",
                "run_id"
            ]
        },
        {
            "cell_type": "markdown",
            "metadata": {},
            "source": [
                "### Get executed optimizer's configuration parameters"
            ]
        },
        {
            "cell_type": "code",
            "execution_count": 30,
            "metadata": {},
            "outputs": [
                {
                    "data": {
                        "text/plain": [
                            "{'name': 'AutoAI RAG run - Base documentation',\n",
                            " 'description': 'AutoAI RAG Optimizer on ibm_watsonx_ai Base documentation',\n",
                            " 'chunking': [{'chunk_overlap': 64, 'chunk_size': 512, 'method': 'recursive'}],\n",
                            " 'embedding_models': ['ibm/slate-125m-english-rtrvr'],\n",
                            " 'retrieval_methods': ['simple'],\n",
                            " 'max_number_of_rag_patterns': 4,\n",
                            " 'generation': {'foundation_models': [{'model_id': 'mistralai/mistral-small-3-1-24b-instruct-2503'}]},\n",
                            " 'optimization_metrics': ['answer_correctness']}"
                        ]
                    },
                    "execution_count": 30,
                    "metadata": {},
                    "output_type": "execute_result"
                }
            ],
            "source": [
                "experiment.runs.get_rag_params(run_id=run_id)"
            ]
        },
        {
            "cell_type": "markdown",
            "metadata": {},
            "source": [
                "### Get historical rag_optimizer instance and training details"
            ]
        },
        {
            "cell_type": "code",
            "execution_count": 31,
            "metadata": {},
            "outputs": [],
            "source": [
                "historical_opt = experiment.runs.get_rag_optimizer(run_id)"
            ]
        },
        {
            "cell_type": "markdown",
            "metadata": {},
            "source": [
                "### List trained patterns for selected optimizer"
            ]
        },
        {
            "cell_type": "code",
            "execution_count": 32,
            "metadata": {},
            "outputs": [
                {
                    "data": {
                        "text/html": [
                            "<div>\n",
                            "<style scoped>\n",
                            "    .dataframe tbody tr th:only-of-type {\n",
                            "        vertical-align: middle;\n",
                            "    }\n",
                            "\n",
                            "    .dataframe tbody tr th {\n",
                            "        vertical-align: top;\n",
                            "    }\n",
                            "\n",
                            "    .dataframe thead th {\n",
                            "        text-align: right;\n",
                            "    }\n",
                            "</style>\n",
                            "<table border=\"1\" class=\"dataframe\">\n",
                            "  <thead>\n",
                            "    <tr style=\"text-align: right;\">\n",
                            "      <th></th>\n",
                            "      <th>mean_answer_correctness</th>\n",
                            "      <th>mean_faithfulness</th>\n",
                            "      <th>mean_context_correctness</th>\n",
                            "      <th>chunking.method</th>\n",
                            "      <th>chunking.chunk_size</th>\n",
                            "      <th>chunking.chunk_overlap</th>\n",
                            "      <th>embeddings.model_id</th>\n",
                            "      <th>vector_store.distance_metric</th>\n",
                            "      <th>retrieval.method</th>\n",
                            "      <th>retrieval.number_of_chunks</th>\n",
                            "      <th>retrieval.hybrid_ranker</th>\n",
                            "      <th>generation.model_id</th>\n",
                            "    </tr>\n",
                            "    <tr>\n",
                            "      <th>Pattern_Name</th>\n",
                            "      <th></th>\n",
                            "      <th></th>\n",
                            "      <th></th>\n",
                            "      <th></th>\n",
                            "      <th></th>\n",
                            "      <th></th>\n",
                            "      <th></th>\n",
                            "      <th></th>\n",
                            "      <th></th>\n",
                            "      <th></th>\n",
                            "      <th></th>\n",
                            "      <th></th>\n",
                            "    </tr>\n",
                            "  </thead>\n",
                            "  <tbody>\n",
                            "    <tr>\n",
                            "      <th>Pattern2</th>\n",
                            "      <td>0.7083</td>\n",
                            "      <td>0.2926</td>\n",
                            "      <td>1.0</td>\n",
                            "      <td>recursive</td>\n",
                            "      <td>512</td>\n",
                            "      <td>64</td>\n",
                            "      <td>ibm/slate-125m-english-rtrvr</td>\n",
                            "      <td>cosine</td>\n",
                            "      <td>simple</td>\n",
                            "      <td>5</td>\n",
                            "      <td></td>\n",
                            "      <td>mistralai/mistral-small-3-1-24b-instruct-2503</td>\n",
                            "    </tr>\n",
                            "    <tr>\n",
                            "      <th>Pattern1</th>\n",
                            "      <td>0.4583</td>\n",
                            "      <td>0.2808</td>\n",
                            "      <td>1.0</td>\n",
                            "      <td>recursive</td>\n",
                            "      <td>512</td>\n",
                            "      <td>64</td>\n",
                            "      <td>ibm/slate-125m-english-rtrvr</td>\n",
                            "      <td>cosine</td>\n",
                            "      <td>simple</td>\n",
                            "      <td>3</td>\n",
                            "      <td></td>\n",
                            "      <td>mistralai/mistral-small-3-1-24b-instruct-2503</td>\n",
                            "    </tr>\n",
                            "  </tbody>\n",
                            "</table>\n",
                            "</div>"
                        ],
                        "text/plain": [
                            "              mean_answer_correctness  mean_faithfulness  \\\n",
                            "Pattern_Name                                               \n",
                            "Pattern2                       0.7083             0.2926   \n",
                            "Pattern1                       0.4583             0.2808   \n",
                            "\n",
                            "              mean_context_correctness chunking.method  chunking.chunk_size  \\\n",
                            "Pattern_Name                                                                  \n",
                            "Pattern2                           1.0       recursive                  512   \n",
                            "Pattern1                           1.0       recursive                  512   \n",
                            "\n",
                            "              chunking.chunk_overlap           embeddings.model_id  \\\n",
                            "Pattern_Name                                                         \n",
                            "Pattern2                          64  ibm/slate-125m-english-rtrvr   \n",
                            "Pattern1                          64  ibm/slate-125m-english-rtrvr   \n",
                            "\n",
                            "             vector_store.distance_metric retrieval.method  \\\n",
                            "Pattern_Name                                                 \n",
                            "Pattern2                           cosine           simple   \n",
                            "Pattern1                           cosine           simple   \n",
                            "\n",
                            "              retrieval.number_of_chunks retrieval.hybrid_ranker  \\\n",
                            "Pattern_Name                                                       \n",
                            "Pattern2                               5                           \n",
                            "Pattern1                               3                           \n",
                            "\n",
                            "                                        generation.model_id  \n",
                            "Pattern_Name                                                 \n",
                            "Pattern2      mistralai/mistral-small-3-1-24b-instruct-2503  \n",
                            "Pattern1      mistralai/mistral-small-3-1-24b-instruct-2503  "
                        ]
                    },
                    "execution_count": 32,
                    "metadata": {},
                    "output_type": "execute_result"
                }
            ],
            "source": [
                "historical_opt.summary()"
            ]
        },
        {
            "cell_type": "markdown",
            "metadata": {},
            "source": [
                "<a id=\"cleanup\"></a>\n",
                "## Clean up\n",
                "\n",
                "To delete the current experiment, use the `cancel_run` method.\n",
                "\n",
                "**Warning:** Be careful: once you delete an experiment, you will no longer be able to refer to it."
            ]
        },
        {
            "cell_type": "code",
            "execution_count": 29,
            "metadata": {},
            "outputs": [
                {
                    "data": {
                        "text/plain": [
                            "'SUCCESS'"
                        ]
                    },
                    "execution_count": 29,
                    "metadata": {},
                    "output_type": "execute_result"
                }
            ],
            "source": [
                "rag_optimizer.cancel_run()"
            ]
        },
        {
            "cell_type": "markdown",
            "metadata": {},
            "source": [
                "If you want to clean up all created assets:\n",
                "- experiments\n",
                "- trainings\n",
                "- pipelines\n",
                "- model definitions\n",
                "- models\n",
                "- functions\n",
                "- deployments\n",
                "\n",
                "please follow up this sample [notebook](https://github.com/IBM/watson-machine-learning-samples/blob/master/cloud/notebooks/python_sdk/instance-management/Machine%20Learning%20artifacts%20management.ipynb)."
            ]
        },
        {
            "cell_type": "markdown",
            "metadata": {},
            "source": [
                "<a id=\"summary\"></a>\n",
                "## Summary and next steps\n",
                "\n",
                "You successfully completed this notebook!\n",
                "\n",
                "You learned how to use `ibm-watsonx-ai` to run AutoAI RAG experiments. \n",
                "\n",
                " Check out our _<a href=\"https://ibm.github.io/watsonx-ai-python-sdk/samples.html\" target=\"_blank\" rel=\"noopener no referrer\">Online Documentation</a>_ for more samples, tutorials, documentation, how-tos, and blog posts. "
            ]
        },
        {
            "cell_type": "markdown",
            "metadata": {},
            "source": [
                "### Authors\n",
                "\n",
                "**Michał Steczko**, Software Engineer watsonx.ai\n",
                "\n",
                "Copyright © 2024-2025 IBM. This notebook and its source code are released under the terms of the MIT License."
            ]
        }
    ],
    "metadata": {
        "kernelspec": {
            "display_name": "autoai_rag",
            "language": "python",
            "name": "python3"
        },
        "language_info": {
            "codemirror_mode": {
                "name": "ipython",
                "version": 3
            },
            "file_extension": ".py",
            "mimetype": "text/x-python",
            "name": "python",
            "nbconvert_exporter": "python",
            "pygments_lexer": "ipython3",
            "version": "3.11.10"
        }
    },
    "nbformat": 4,
    "nbformat_minor": 2
}

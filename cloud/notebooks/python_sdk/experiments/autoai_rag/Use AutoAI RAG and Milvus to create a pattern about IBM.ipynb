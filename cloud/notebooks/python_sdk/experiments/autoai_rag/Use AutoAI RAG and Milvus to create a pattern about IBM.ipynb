{
  "cells": [
    {
      "cell_type": "markdown",
      "metadata": {},
      "source": [
        "![image](https://raw.githubusercontent.com/IBM/watson-machine-learning-samples/master/cloud/notebooks/headers/watsonx-Prompt_Lab-Notebook.png)\n",
        "# Use AutoAI RAG and Milvus database to work with `ibm-watsonx-ai` SDK documentation."
      ]
    },
    {
      "cell_type": "markdown",
      "metadata": {},
      "source": [
        "#### Disclaimers\n",
        "\n",
        "- Use only Spaces that are available in watsonx context.\n",
        "\n",
        "\n",
        "## Notebook content\n",
        "\n",
        "This notebook contains the steps and code to demonstrate the usage of IBM AutoAI RAG. The AutoAI RAG experiment conducted in this notebook uses data scraped from the `ibm-watsonx-ai` SDK documentation.\n",
        "\n",
        "Some familiarity with Python is helpful. This notebook uses Python 3.11.\n",
        "\n",
        "\n",
        "## Learning goal\n",
        "\n",
        "The learning goals of this notebook are:\n",
        "\n",
        "- Create an AutoAI RAG job that will find the best RAG pattern based on provided data\n",
        "\n",
        "\n",
        "## Contents\n",
        "\n",
        "This notebook contains the following parts:\n",
        "\n",
        "- [Setup](#setup)\n",
        "- [RAG Optimizer definition](#definition)\n",
        "- [RAG Experiment run](#run)\n",
        "- [RAG Patterns comparison and testing](#comparison)\n",
        "- [Historical runs](#runs)\n",
        "- [Clean up](#cleanup)\n",
        "- [Summary and next steps](#summary)"
      ]
    },
    {
      "cell_type": "markdown",
      "metadata": {},
      "source": [
        "<a id=\"setup\"></a>\n",
        "## Set up the environment\n",
        "\n",
        "Before you use the sample code in this notebook, you must perform the following setup tasks:\n",
        "\n",
        "-  Create a <a href=\"https://cloud.ibm.com/catalog/services/watsonxai-runtime\" target=\"_blank\" rel=\"noopener no referrer\">watsonx.ai Runtime Service</a> instance (a free plan is offered; information about how to create the instance can be found <a href=\"https://dataplatform.cloud.ibm.com/docs/content/wsj/getting-started/wml-plans.html?context=wx&audience=wdp\" target=\"_blank\" rel=\"noopener no referrer\">here</a>)."
      ]
    },
    {
      "cell_type": "markdown",
      "metadata": {},
      "source": [
        "### Install and import the required modules and dependencies"
      ]
    },
    {
      "cell_type": "code",
      "execution_count": null,
      "metadata": {},
      "outputs": [],
      "source": [
        "!pip install -U wget | tail -n 1\n",
        "!pip install -U 'ibm-watsonx-ai[rag]>=1.3.26' | tail -n 1"
      ]
    },
    {
      "cell_type": "markdown",
      "metadata": {},
      "source": [
        "### Defining the watsonx.ai credentials\n",
        "This cell defines the credentials required to work with the watsonx.ai Runtime service.\n",
        "\n",
        "**Action:** Provide the IBM Cloud user API key. For details, see <a href=\"https://cloud.ibm.com/docs/account?topic=account-userapikey&interface=ui\" target=\"_blank\" rel=\"noopener no referrer\">documentation</a>."
      ]
    },
    {
      "cell_type": "code",
      "execution_count": 2,
      "metadata": {},
      "outputs": [],
      "source": [
        "import getpass\n",
        "from ibm_watsonx_ai import Credentials\n",
        "\n",
        "credentials = Credentials(\n",
        "    url=\"https://us-south.ml.cloud.ibm.com\",\n",
        "    api_key=getpass.getpass(\"Please enter your watsonx.ai api key (hit enter): \"),\n",
        ")"
      ]
    },
    {
      "cell_type": "markdown",
      "metadata": {},
      "source": [
        "### Working with spaces\n",
        "\n",
        "You need to create a space that will be used for your work. If you do not have a space, you can use [Deployment Spaces Dashboard](https://dataplatform.cloud.ibm.com/ml-runtime/spaces?context=wx) to create one.\n",
        "\n",
        "- Click **New Deployment Space**\n",
        "- Create an empty space\n",
        "- Select Cloud Object Storage\n",
        "- Select watsonx.ai Runtime instance and press **Create**\n",
        "- Go to **Manage** tab\n",
        "- Copy `Space GUID` and paste it below\n",
        "\n",
        "**Tip**: You can also use SDK to prepare the space for your work. More information can be found [here](https://github.com/IBM/watson-machine-learning-samples/blob/master/cloud/notebooks/python_sdk/instance-management/Space%20management.ipynb).\n",
        "\n",
        "**Action**: assign space ID below"
      ]
    },
    {
      "cell_type": "code",
      "execution_count": 3,
      "metadata": {},
      "outputs": [],
      "source": [
        "space_id = 'PASTE YOUR SPACE GUID HERE'"
      ]
    },
    {
      "cell_type": "markdown",
      "metadata": {},
      "source": [
        "Create an instance of APIClient with authentication details."
      ]
    },
    {
      "cell_type": "code",
      "execution_count": 4,
      "metadata": {},
      "outputs": [],
      "source": [
        "from ibm_watsonx_ai import APIClient\n",
        "\n",
        "client = APIClient(credentials=credentials, space_id=space_id)"
      ]
    },
    {
      "cell_type": "markdown",
      "metadata": {},
      "source": [
        "<a id=\"definition\"></a>\n",
        "\n",
        "## RAG Optimizer definition\n",
        "\n",
        "### Training data connection\n",
        "\n",
        "Define connection information to access the COS bucket and the file that contains training data. This example uses [`ibm_watsonx_ai`](https://ibm.github.io/watsonx-ai-python-sdk/index.html) SDK documentation content."
      ]
    },
    {
      "cell_type": "markdown",
      "metadata": {},
      "source": [
        "This cell downloads the `ibm_watsonx_ai` Python SDK zip file from GitHub (if not already present), and extracts its contents to a specified folder."
      ]
    },
    {
      "cell_type": "code",
      "execution_count": 7,
      "metadata": {},
      "outputs": [],
      "source": [
        "import wget, zipfile, os\n",
        "\n",
        "filename = \"watsonx-ai-python-sdk\"\n",
        "filename_zip = \"watsonx-ai-python-sdk.zip\"\n",
        "\n",
        "if not os.path.isfile(filename_zip):\n",
        "    wget.download(\"https://github.com/IBM/watsonx-ai-python-sdk/archive/refs/heads/gh-pages.zip\", out=filename_zip)\n",
        "\n",
        "with zipfile.ZipFile(filename_zip, \"r\") as zip_ref:\n",
        "    zip_ref.extractall(filename)"
      ]
    },
    {
      "cell_type": "code",
      "execution_count": 8,
      "metadata": {},
      "outputs": [],
      "source": [
        "from ibm_watsonx_ai.helpers import DataConnection, ContainerLocation\n",
        "\n",
        "container_location_path = \"ibm_watsonx_ai_sdk_docs\"\n",
        "\n",
        "container_data_connection = DataConnection(ContainerLocation(path=f\"{container_location_path}/\"))\n",
        "container_data_connection.set_client(client)"
      ]
    },
    {
      "cell_type": "markdown",
      "metadata": {},
      "source": [
        "Documents with the `.html` extension are filtered and saved to `ContainerLocation`"
      ]
    },
    {
      "cell_type": "code",
      "execution_count": 9,
      "metadata": {},
      "outputs": [],
      "source": [
        "html_docs_files = []\n",
        "for root, dirs, files in os.walk(filename):\n",
        "    if root == f\"{filename}/watsonx-ai-python-sdk-gh-pages\":\n",
        "        for file in files:\n",
        "            if file.endswith('.html'):\n",
        "                file_path = os.path.join(root, file)\n",
        "                html_docs_files.append(file_path)"
      ]
    },
    {
      "cell_type": "markdown",
      "metadata": {},
      "source": [
        "Writing all SDK documents may take around 3 minutes."
      ]
    },
    {
      "cell_type": "code",
      "execution_count": 10,
      "metadata": {},
      "outputs": [
        {
          "name": "stdout",
          "output_type": "stream",
          "text": [
            "Progress: ✓✓✓✓✓✓✓✓✓✓✓✓✓✓✓✓✓✓✓✓✓✓✓✓✓✓✓✓✓✓✓✓✓✓✓✓✓✓✓✓✓✓✓✓✓✓✓✓✓✓✓✓✓✓✓✓✓✓✓\r"
          ]
        }
      ],
      "source": [
        "import sys\n",
        "\n",
        "for ind, html_docs_file in enumerate(html_docs_files):\n",
        "    container_data_connection.write(html_docs_file, remote_name = html_docs_file.split(\"/\")[-1])\n",
        "\n",
        "    sys.stdout.write(f\"\\rProgress: {'✓' * (ind+1)}{'.' * (len(html_docs_files)-ind-1)}\\r\")\n",
        "    sys.stdout.flush()"
      ]
    },
    {
      "cell_type": "markdown",
      "metadata": {},
      "source": [
        "### Create a connection to COS\n",
        "You can skip this section if you already have a connection asset that connects to **IBM Cloud Object Storage**."
      ]
    },
    {
      "cell_type": "code",
      "execution_count": 11,
      "metadata": {},
      "outputs": [],
      "source": [
        "datasource_name = 'bluemixcloudobjectstorage'\n",
        "bucketname = container_data_connection.location.bucket"
      ]
    },
    {
      "cell_type": "code",
      "execution_count": 12,
      "metadata": {},
      "outputs": [],
      "source": [
        "cos_credentials = client.spaces.get_details(space_id=space_id)['entity']['storage']['properties']"
      ]
    },
    {
      "cell_type": "code",
      "execution_count": 13,
      "metadata": {},
      "outputs": [
        {
          "name": "stdout",
          "output_type": "stream",
          "text": [
            "Creating connections...\n",
            "SUCCESS\n"
          ]
        }
      ],
      "source": [
        "conn_meta_props= {\n",
        "    client.connections.ConfigurationMetaNames.NAME: f\"Connection to Database - {datasource_name} \",\n",
        "    client.connections.ConfigurationMetaNames.DATASOURCE_TYPE: client.connections.get_datasource_type_id_by_name(datasource_name),\n",
        "    client.connections.ConfigurationMetaNames.DESCRIPTION: \"Connection to external Database\",\n",
        "    client.connections.ConfigurationMetaNames.PROPERTIES: {\n",
        "        'bucket': bucketname,\n",
        "        'access_key': cos_credentials['credentials']['editor']['access_key_id'],\n",
        "        'secret_key': cos_credentials['credentials']['editor']['secret_access_key'],\n",
        "        'iam_url': 'https://iam.cloud.ibm.com/identity/token',\n",
        "        'url': cos_credentials['endpoint_url']\n",
        "    }\n",
        "}\n",
        "\n",
        "conn_details = client.connections.create(meta_props=conn_meta_props)\n",
        "connection_id = client.connections.get_id(conn_details)"
      ]
    },
    {
      "cell_type": "markdown",
      "metadata": {},
      "source": [
        "Finally, we can create a Data Connection that represents input data references."
      ]
    },
    {
      "cell_type": "code",
      "execution_count": 14,
      "metadata": {},
      "outputs": [],
      "source": [
        "from ibm_watsonx_ai.helpers import DataConnection, S3Location\n",
        "\n",
        "input_data_references = [DataConnection(\n",
        "    connection_asset_id=connection_id,\n",
        "    location=S3Location(bucket=bucketname,\n",
        "                        path=container_location_path))]\n",
        "input_data_references[0].set_client(client)"
      ]
    },
    {
      "cell_type": "markdown",
      "metadata": {},
      "source": [
        "### Defining a connection to test data\n",
        "\n",
        "Upload a `json` file that will be used for benchmarking to COS and then define a connection to this file. This example uses content from the [`ibm_watsonx_ai`](https://ibm.github.io/watsonx-ai-python-sdk/index.html) SDK documentation."
      ]
    },
    {
      "cell_type": "code",
      "execution_count": 15,
      "metadata": {},
      "outputs": [],
      "source": [
        "benchmarking_data_IBM_page_content = [\n",
        "    {\n",
        "        \"question\": \"How to install ibm-watsonx-ai library?\",\n",
        "        \"correct_answer\": \"pip install ibm-watsonx-ai\",\n",
        "        \"correct_answer_document_ids\": [\n",
        "            \"install.html\"\n",
        "        ]\n",
        "    },\n",
        "    {\n",
        "        \"question\": \"What is Credentails class parameters?\",\n",
        "        \"correct_answer\": \"url, api_key, name, iam_serviceid_crn, token, projects_token, username, password, instance_id, version, bedrock_url, proxies, verify\",\n",
        "        \"correct_answer_document_ids\": [\n",
        "            \"base.html\"\n",
        "        ]\n",
        "    },\n",
        "    {\n",
        "        \"question\": \"How to get AutoAI pipeline with number 3?\",\n",
        "        \"correct_answer\": \"get_pipeline(pipeline_name='Pipeline_3')\",\n",
        "        \"correct_answer_document_ids\": [\n",
        "            \"autoai_working_with_class_and_optimizer.html\"\n",
        "        ]\n",
        "    },\n",
        "    {\n",
        "        \"question\": \"How to get list of Embedding Models?\",\n",
        "        \"correct_answer\": \"client.foundation_models.EmbeddingModels\",\n",
        "        \"correct_answer_document_ids\": [\n",
        "            \"fm_embeddings.html\"\n",
        "        ]\n",
        "    },\n",
        "    {\n",
        "        \"question\": \"How to retrieve the list of model lifecycle data?\",\n",
        "        \"correct_answer\": \"get_model_lifecycle(url='https://us-south.ml.cloud.ibm.com', model_id='ibm/granite-13b-instruct-v2')\",\n",
        "        \"correct_answer_document_ids\": [\n",
        "            \"fm_helpers.html\"\n",
        "        ]\n",
        "    },\n",
        "    {\n",
        "        \"question\": \"What is path to ModelInference class?\",\n",
        "        \"correct_answer\": \"ibm_watsonx_ai.foundation_models.inference.ModelInference\",\n",
        "        \"correct_answer_document_ids\": [\n",
        "            \"fm_model_inference.html\"\n",
        "        ]\n",
        "    },\n",
        "    {\n",
        "        \"question\": \"What is method for get model inferance details?\",\n",
        "        \"correct_answer\": \"get_details()\",\n",
        "        \"correct_answer_document_ids\": [\n",
        "            \"fm_model_inference.html\"\n",
        "        ]\n",
        "    }\n",
        "]"
      ]
    },
    {
      "cell_type": "markdown",
      "metadata": {},
      "source": [
        "The code in the next cell uploads testing data to the bucket as a `json` file."
      ]
    },
    {
      "cell_type": "code",
      "execution_count": 16,
      "metadata": {},
      "outputs": [
        {
          "name": "stdout",
          "output_type": "stream",
          "text": [
            "Creating data asset...\n",
            "SUCCESS\n"
          ]
        },
        {
          "data": {
            "text/plain": [
              "'9d67c83f-3862-4885-a8a7-58ebf047ebe3'"
            ]
          },
          "execution_count": 17,
          "metadata": {},
          "output_type": "execute_result"
        }
      ],
      "source": [
        "import json\n",
        "\n",
        "test_filename = \"benchmarking_data_ibm_watson_ai.json\"\n",
        "\n",
        "if not os.path.isfile(test_filename):\n",
        "    with open(test_filename, \"w\") as json_file:\n",
        "        json.dump(benchmarking_data_IBM_page_content, json_file, indent=4)\n",
        "\n",
        "test_asset_details = client.data_assets.create(name=test_filename, file_path=test_filename)\n",
        "\n",
        "test_asset_id = client.data_assets.get_id(test_asset_details)\n",
        "test_asset_id"
      ]
    },
    {
      "cell_type": "markdown",
      "metadata": {},
      "source": [
        "Define connection information to testing data."
      ]
    },
    {
      "cell_type": "code",
      "execution_count": 18,
      "metadata": {},
      "outputs": [],
      "source": [
        "from ibm_watsonx_ai.helpers import DataConnection\n",
        "\n",
        "test_data_references = [DataConnection(data_asset_id=test_asset_id)]"
      ]
    },
    {
      "cell_type": "markdown",
      "metadata": {},
      "source": [
        "### Set up connectivity information to Milvus\n",
        "\n",
        "<b>This notebook focuses on a self-managed Milvus cluster using <a href=\"https://cloud.ibm.com/docs/watsonxdata?topic=watsonxdata-adding-milvus-service\" target=\"_blank\" rel=\"noopener no referrer\">IBM watsonx.data.</a></b>\n",
        "\n",
        "The following cell retrieves the Milvus username, password, host, and port from the environment (if available) and prompts you to provide them manually in case of failure.\n",
        "\n",
        "You can provide a connection asset ID to read all required connection data from it. Before doing so, make sure that a connection asset was created in your space."
      ]
    },
    {
      "cell_type": "code",
      "execution_count": 19,
      "metadata": {},
      "outputs": [],
      "source": [
        "import os\n",
        "import getpass\n",
        "\n",
        "milvus_connection_id = input(\"Provide connection asset ID in your space. Skip this, if you wish to type credentials by hand and hit enter: \") or None\n",
        "\n",
        "if milvus_connection_id is None:\n",
        "    try:\n",
        "        username = os.environ[\"USERNAME\"]\n",
        "    except KeyError:\n",
        "        username = input(\"Please enter your Milvus user name and hit enter: \")\n",
        "    try:\n",
        "        password = os.environ[\"PASSWORD\"]\n",
        "    except KeyError:\n",
        "        password = getpass.getpass(\"Please enter your Milvus password and hit enter: \")\n",
        "    try:\n",
        "        host = os.environ[\"HOST\"]\n",
        "    except KeyError:\n",
        "        host = input(\"Please enter your Milvus hostname and hit enter: \")\n",
        "    try:\n",
        "        port = os.environ[\"PORT\"]\n",
        "    except KeyError:\n",
        "        port = input(\"Please enter your Milvus port number and hit enter: \")\n",
        "    try:\n",
        "        ssl = os.environ[\"SSL\"]\n",
        "    except:\n",
        "        ssl = bool(input(\"Please enter ('y'/anything) if your Milvus instance has SSL enabled. Skip if it is not: \"))\n",
        "\n",
        "    # Create connection\n",
        "    milvus_data_source_type_id = client.connections.get_datasource_type_uid_by_name(\n",
        "        \"milvus\"\n",
        "    )\n",
        "    details = client.connections.create(\n",
        "        {\n",
        "            client.connections.ConfigurationMetaNames.NAME: \"Milvus Connection\",\n",
        "            client.connections.ConfigurationMetaNames.DESCRIPTION: \"Connection created by the sample notebook\",\n",
        "            client.connections.ConfigurationMetaNames.DATASOURCE_TYPE: milvus_data_source_type_id,\n",
        "            client.connections.ConfigurationMetaNames.PROPERTIES: {\n",
        "                \"host\": host,\n",
        "                \"port\": port,\n",
        "                \"username\": username,\n",
        "                \"password\": password,\n",
        "                \"ssl\": ssl,\n",
        "            },\n",
        "        }\n",
        "    )\n",
        "\n",
        "    milvus_connection_id = client.connections.get_id(details)"
      ]
    },
    {
      "cell_type": "markdown",
      "metadata": {},
      "source": [
        "Define connection information to vector store references."
      ]
    },
    {
      "cell_type": "code",
      "execution_count": 20,
      "metadata": {},
      "outputs": [],
      "source": [
        "vector_store_references = [DataConnection(connection_asset_id=milvus_connection_id)]"
      ]
    },
    {
      "cell_type": "markdown",
      "metadata": {},
      "source": [
        "### RAG Optimizer configuration\n",
        "\n",
        "Provide the input information for AutoAI RAG optimizer:\n",
        "- `name` - experiment name\n",
        "- `description` - experiment description\n",
        "- `max_number_of_rag_patterns` - maximum number of RAG patterns to create\n",
        "- `optimization_metrics` - target optimization metrics"
      ]
    },
    {
      "cell_type": "code",
      "execution_count": 21,
      "metadata": {},
      "outputs": [],
      "source": [
        "from ibm_watsonx_ai.experiment import AutoAI\n",
        "\n",
        "experiment = AutoAI(credentials, space_id=space_id)\n",
        "\n",
        "rag_optimizer = experiment.rag_optimizer(\n",
        "    name='AutoAI RAG ibm-watsonx-ai SDK documentation',\n",
        "    description=\"AutoAI RAG experiemnt trainded on ibm-watsonx-ai SDK documentataion\",\n",
        "    max_number_of_rag_patterns=6,\n",
        "    optimization_metrics=[AutoAI.RAGMetrics.ANSWER_CORRECTNESS]\n",
        ")"
      ]
    },
    {
      "cell_type": "markdown",
      "metadata": {},
      "source": [
        "Configuration parameters can be retrieved via `get_params()`."
      ]
    },
    {
      "cell_type": "code",
      "execution_count": 22,
      "metadata": {},
      "outputs": [
        {
          "data": {
            "text/plain": [
              "{'name': 'AutoAI RAG ibm-watsonx-ai SDK documentation',\n",
              " 'description': 'AutoAI RAG experiemnt trainded on ibm-watsonx-ai SDK documentataion',\n",
              " 'max_number_of_rag_patterns': 6,\n",
              " 'optimization_metrics': ['answer_correctness']}"
            ]
          },
          "execution_count": 22,
          "metadata": {},
          "output_type": "execute_result"
        }
      ],
      "source": [
        "rag_optimizer.get_params()"
      ]
    },
    {
      "cell_type": "markdown",
      "metadata": {},
      "source": [
        "<a id=\"run\"></a>\n",
        "## RAG Experiment run\n",
        "\n",
        "Call the `run()` method to trigger the AutoAI RAG experiment. You can either use interactive mode (synchronous job) or background mode (asynchronous job) by specifying `background_mode=True`."
      ]
    },
    {
      "cell_type": "code",
      "execution_count": 23,
      "metadata": {},
      "outputs": [
        {
          "name": "stdout",
          "output_type": "stream",
          "text": [
            "\n",
            "\n",
            "##############################################\n",
            "\n",
            "Running '09437777-a9e4-4cc6-aac0-96c2c8352d10'\n",
            "\n",
            "##############################################\n",
            "\n",
            "\n",
            "pending.............\n",
            "running......................................................................................................................................................................................................\n",
            "completed\n",
            "Training of '09437777-a9e4-4cc6-aac0-96c2c8352d10' finished successfully.\n"
          ]
        }
      ],
      "source": [
        "run_details = rag_optimizer.run(\n",
        "    input_data_references=input_data_references,\n",
        "    test_data_references=test_data_references,\n",
        "    vector_store_references=vector_store_references,\n",
        "    background_mode=False\n",
        ")"
      ]
    },
    {
      "cell_type": "markdown",
      "metadata": {},
      "source": [
        "You can use the `get_run_status()` method to monitor AutoAI RAG jobs in background mode."
      ]
    },
    {
      "cell_type": "code",
      "execution_count": 24,
      "metadata": {},
      "outputs": [
        {
          "data": {
            "text/plain": [
              "'completed'"
            ]
          },
          "execution_count": 24,
          "metadata": {},
          "output_type": "execute_result"
        }
      ],
      "source": [
        "rag_optimizer.get_run_status()"
      ]
    },
    {
      "cell_type": "markdown",
      "metadata": {},
      "source": [
        "<a id=\"comparison\"></a>\n",
        "## Comparison and testing of RAG Patterns\n",
        "\n",
        "You can list the trained patterns and information on evaluation metrics in the form of a Pandas DataFrame by calling the `summary()` method. You can use the DataFrame to compare all discovered patterns and select the one you like for further testing."
      ]
    },
    {
      "cell_type": "code",
      "execution_count": 25,
      "metadata": {},
      "outputs": [
        {
          "data": {
            "text/html": [
              "<div>\n",
              "<style scoped>\n",
              "    .dataframe tbody tr th:only-of-type {\n",
              "        vertical-align: middle;\n",
              "    }\n",
              "\n",
              "    .dataframe tbody tr th {\n",
              "        vertical-align: top;\n",
              "    }\n",
              "\n",
              "    .dataframe thead th {\n",
              "        text-align: right;\n",
              "    }\n",
              "</style>\n",
              "<table border=\"1\" class=\"dataframe\">\n",
              "  <thead>\n",
              "    <tr style=\"text-align: right;\">\n",
              "      <th></th>\n",
              "      <th>mean_answer_correctness</th>\n",
              "      <th>mean_faithfulness</th>\n",
              "      <th>mean_context_correctness</th>\n",
              "      <th>chunking.method</th>\n",
              "      <th>chunking.chunk_size</th>\n",
              "      <th>chunking.chunk_overlap</th>\n",
              "      <th>embeddings.model_id</th>\n",
              "      <th>vector_store.distance_metric</th>\n",
              "      <th>retrieval.method</th>\n",
              "      <th>retrieval.number_of_chunks</th>\n",
              "      <th>retrieval.hybrid_ranker</th>\n",
              "      <th>generation.model_id</th>\n",
              "    </tr>\n",
              "    <tr>\n",
              "      <th>Pattern_Name</th>\n",
              "      <th></th>\n",
              "      <th></th>\n",
              "      <th></th>\n",
              "      <th></th>\n",
              "      <th></th>\n",
              "      <th></th>\n",
              "      <th></th>\n",
              "      <th></th>\n",
              "      <th></th>\n",
              "      <th></th>\n",
              "      <th></th>\n",
              "      <th></th>\n",
              "    </tr>\n",
              "  </thead>\n",
              "  <tbody>\n",
              "    <tr>\n",
              "      <th>Pattern3</th>\n",
              "      <td>0.7857</td>\n",
              "      <td>0.7706</td>\n",
              "      <td>0.8571</td>\n",
              "      <td>recursive</td>\n",
              "      <td>1024</td>\n",
              "      <td>256</td>\n",
              "      <td>ibm/granite-embedding-278m-multilingual</td>\n",
              "      <td>cosine</td>\n",
              "      <td>window</td>\n",
              "      <td>3</td>\n",
              "      <td>{'k': 60, 'sparse_vectors': {'model_id': 'bm25...</td>\n",
              "      <td>mistralai/mistral-large</td>\n",
              "    </tr>\n",
              "    <tr>\n",
              "      <th>Pattern1</th>\n",
              "      <td>0.7418</td>\n",
              "      <td>0.4968</td>\n",
              "      <td>0.6905</td>\n",
              "      <td>recursive</td>\n",
              "      <td>512</td>\n",
              "      <td>128</td>\n",
              "      <td>ibm/granite-embedding-278m-multilingual</td>\n",
              "      <td>cosine</td>\n",
              "      <td>window</td>\n",
              "      <td>3</td>\n",
              "      <td>{'alpha': 0.8, 'sparse_vectors': {'model_id': ...</td>\n",
              "      <td>ibm/granite-3-8b-instruct</td>\n",
              "    </tr>\n",
              "    <tr>\n",
              "      <th>Pattern6</th>\n",
              "      <td>0.6429</td>\n",
              "      <td>0.7091</td>\n",
              "      <td>0.7857</td>\n",
              "      <td>recursive</td>\n",
              "      <td>1024</td>\n",
              "      <td>256</td>\n",
              "      <td>ibm/granite-embedding-278m-multilingual</td>\n",
              "      <td>cosine</td>\n",
              "      <td>window</td>\n",
              "      <td>3</td>\n",
              "      <td>{'alpha': 0.8, 'sparse_vectors': {'model_id': ...</td>\n",
              "      <td>mistralai/mistral-large</td>\n",
              "    </tr>\n",
              "    <tr>\n",
              "      <th>Pattern4</th>\n",
              "      <td>0.5934</td>\n",
              "      <td>0.5517</td>\n",
              "      <td>0.7143</td>\n",
              "      <td>recursive</td>\n",
              "      <td>1024</td>\n",
              "      <td>512</td>\n",
              "      <td>ibm/granite-embedding-278m-multilingual</td>\n",
              "      <td>cosine</td>\n",
              "      <td>window</td>\n",
              "      <td>3</td>\n",
              "      <td>{'alpha': 0.8, 'sparse_vectors': {'model_id': ...</td>\n",
              "      <td>ibm/granite-3-8b-instruct</td>\n",
              "    </tr>\n",
              "    <tr>\n",
              "      <th>Pattern2</th>\n",
              "      <td>0.5000</td>\n",
              "      <td>0.6354</td>\n",
              "      <td>0.7857</td>\n",
              "      <td>recursive</td>\n",
              "      <td>1024</td>\n",
              "      <td>256</td>\n",
              "      <td>ibm/slate-125m-english-rtrvr</td>\n",
              "      <td>cosine</td>\n",
              "      <td>window</td>\n",
              "      <td>3</td>\n",
              "      <td>{'k': 60, 'sparse_vectors': {'model_id': 'bm25...</td>\n",
              "      <td>ibm/granite-3-8b-instruct</td>\n",
              "    </tr>\n",
              "    <tr>\n",
              "      <th>Pattern5</th>\n",
              "      <td>0.5000</td>\n",
              "      <td>0.5715</td>\n",
              "      <td>0.6429</td>\n",
              "      <td>recursive</td>\n",
              "      <td>512</td>\n",
              "      <td>128</td>\n",
              "      <td>ibm/granite-embedding-278m-multilingual</td>\n",
              "      <td>cosine</td>\n",
              "      <td>window</td>\n",
              "      <td>3</td>\n",
              "      <td>{'k': 60, 'sparse_vectors': {'model_id': 'bm25...</td>\n",
              "      <td>mistralai/mistral-large</td>\n",
              "    </tr>\n",
              "  </tbody>\n",
              "</table>\n",
              "</div>"
            ],
            "text/plain": [
              "              mean_answer_correctness  mean_faithfulness  \\\n",
              "Pattern_Name                                               \n",
              "Pattern3                       0.7857             0.7706   \n",
              "Pattern1                       0.7418             0.4968   \n",
              "Pattern6                       0.6429             0.7091   \n",
              "Pattern4                       0.5934             0.5517   \n",
              "Pattern2                       0.5000             0.6354   \n",
              "Pattern5                       0.5000             0.5715   \n",
              "\n",
              "              mean_context_correctness chunking.method  chunking.chunk_size  \\\n",
              "Pattern_Name                                                                  \n",
              "Pattern3                        0.8571       recursive                 1024   \n",
              "Pattern1                        0.6905       recursive                  512   \n",
              "Pattern6                        0.7857       recursive                 1024   \n",
              "Pattern4                        0.7143       recursive                 1024   \n",
              "Pattern2                        0.7857       recursive                 1024   \n",
              "Pattern5                        0.6429       recursive                  512   \n",
              "\n",
              "              chunking.chunk_overlap                      embeddings.model_id  \\\n",
              "Pattern_Name                                                                    \n",
              "Pattern3                         256  ibm/granite-embedding-278m-multilingual   \n",
              "Pattern1                         128  ibm/granite-embedding-278m-multilingual   \n",
              "Pattern6                         256  ibm/granite-embedding-278m-multilingual   \n",
              "Pattern4                         512  ibm/granite-embedding-278m-multilingual   \n",
              "Pattern2                         256             ibm/slate-125m-english-rtrvr   \n",
              "Pattern5                         128  ibm/granite-embedding-278m-multilingual   \n",
              "\n",
              "             vector_store.distance_metric retrieval.method  \\\n",
              "Pattern_Name                                                 \n",
              "Pattern3                           cosine           window   \n",
              "Pattern1                           cosine           window   \n",
              "Pattern6                           cosine           window   \n",
              "Pattern4                           cosine           window   \n",
              "Pattern2                           cosine           window   \n",
              "Pattern5                           cosine           window   \n",
              "\n",
              "              retrieval.number_of_chunks  \\\n",
              "Pattern_Name                               \n",
              "Pattern3                               3   \n",
              "Pattern1                               3   \n",
              "Pattern6                               3   \n",
              "Pattern4                               3   \n",
              "Pattern2                               3   \n",
              "Pattern5                               3   \n",
              "\n",
              "                                        retrieval.hybrid_ranker  \\\n",
              "Pattern_Name                                                      \n",
              "Pattern3      {'k': 60, 'sparse_vectors': {'model_id': 'bm25...   \n",
              "Pattern1      {'alpha': 0.8, 'sparse_vectors': {'model_id': ...   \n",
              "Pattern6      {'alpha': 0.8, 'sparse_vectors': {'model_id': ...   \n",
              "Pattern4      {'alpha': 0.8, 'sparse_vectors': {'model_id': ...   \n",
              "Pattern2      {'k': 60, 'sparse_vectors': {'model_id': 'bm25...   \n",
              "Pattern5      {'k': 60, 'sparse_vectors': {'model_id': 'bm25...   \n",
              "\n",
              "                    generation.model_id  \n",
              "Pattern_Name                             \n",
              "Pattern3        mistralai/mistral-large  \n",
              "Pattern1      ibm/granite-3-8b-instruct  \n",
              "Pattern6        mistralai/mistral-large  \n",
              "Pattern4      ibm/granite-3-8b-instruct  \n",
              "Pattern2      ibm/granite-3-8b-instruct  \n",
              "Pattern5        mistralai/mistral-large  "
            ]
          },
          "execution_count": 25,
          "metadata": {},
          "output_type": "execute_result"
        }
      ],
      "source": [
        "summary = rag_optimizer.summary()\n",
        "summary"
      ]
    },
    {
      "cell_type": "markdown",
      "metadata": {},
      "source": [
        "Additionally, you can pass the `scoring` parameter to the summary method, to filter RAG patterns starting with the best.\n",
        "\n",
        "```python\n",
        "summary = rag_optimizer.summary(scoring=\"faithfulness\")\n",
        "```"
      ]
    },
    {
      "cell_type": "markdown",
      "metadata": {},
      "source": [
        "### Get selected pattern\n",
        "\n",
        "Get the RAGPattern object from the RAG Optimizer experiment. By default, the RAGPattern of the best pattern is returned."
      ]
    },
    {
      "cell_type": "code",
      "execution_count": 26,
      "metadata": {},
      "outputs": [
        {
          "name": "stdout",
          "output_type": "stream",
          "text": [
            "Best pattern is: Pattern3\n"
          ]
        }
      ],
      "source": [
        "best_pattern_name = summary.index.values[0]\n",
        "print('Best pattern is:', best_pattern_name)\n",
        "\n",
        "best_pattern = rag_optimizer.get_pattern()"
      ]
    },
    {
      "cell_type": "markdown",
      "metadata": {},
      "source": [
        "The pattern details can be retrieved by calling the `get_pattern_details` method:\n",
        "\n",
        "```python\n",
        "rag_optimizer.get_pattern_details(pattern_name='Pattern2')\n",
        "```"
      ]
    },
    {
      "cell_type": "markdown",
      "metadata": {},
      "source": [
        "Query the RAGPattern locally, to test it."
      ]
    },
    {
      "cell_type": "code",
      "execution_count": 27,
      "metadata": {},
      "outputs": [],
      "source": [
        "from ibm_watsonx_ai.deployments import RuntimeContext\n",
        "\n",
        "runtime_context = RuntimeContext(api_client=client)\n",
        "inference_service_function = best_pattern.inference_service(runtime_context)[0]"
      ]
    },
    {
      "cell_type": "code",
      "execution_count": null,
      "metadata": {},
      "outputs": [],
      "source": [
        "question = \"How to use new approach of providing credentials to APIClient?\"\n",
        "\n",
        "\n",
        "context = RuntimeContext(\n",
        "    api_client=client,\n",
        "    request_payload_json={\"messages\": [{\"role\": \"user\", \"content\": question}]},\n",
        ")\n",
        "\n",
        "\n",
        "resp = inference_service_function(context)"
      ]
    },
    {
      "cell_type": "code",
      "execution_count": 29,
      "metadata": {},
      "outputs": [
        {
          "name": "stdout",
          "output_type": "stream",
          "text": [
            " </s>To use the new approach of providing credentials to `APIClient`, you should use the `Credentials` class instead of a dictionary. Here's how you can do it:\n",
            "\n",
            "1. Import the necessary classes from `ibm_watsonx_ai`.\n",
            "2. Create an instance of the `Credentials` class with the required parameters.\n",
            "3. Pass the `Credentials` instance to the `APIClient` constructor.\n",
            "\n",
            "Here's an example:\n",
            "\n",
            "```python\n",
            "from ibm_watsonx_ai import APIClient, Credentials\n",
            "\n",
            "# Create a Credentials instance\n",
            "credentials = Credentials(\n",
            "    url=\"https://us-south.ml.cloud.ibm.com\",\n",
            "    token=\"***********\"\n",
            ")\n",
            "\n",
            "# Initialize the APIClient with the Credentials instance\n",
            "client = APIClient(credentials)\n",
            "\n",
            "# Now you can use the client to interact with the API\n",
            "url = client.credentials.url\n",
            "# OR\n",
            "url = credentials.url\n",
            "```\n",
            "\n",
            "This approach ensures that you are using the latest and recommended method for providing credentials to the `APIClient`.\n"
          ]
        }
      ],
      "source": [
        "print(inference_service_function(context)[\"body\"][\"choices\"][0][\"message\"][\"content\"])"
      ]
    },
    {
      "cell_type": "markdown",
      "metadata": {},
      "source": [
        "### Deploy RAGPattern\n",
        "\n",
        "Deployment is done by storing the defined RAG function and then by creating a deployed asset."
      ]
    },
    {
      "cell_type": "code",
      "execution_count": 30,
      "metadata": {},
      "outputs": [
        {
          "name": "stdout",
          "output_type": "stream",
          "text": [
            "\n",
            "\n",
            "######################################################################################\n",
            "\n",
            "Synchronous deployment creation for id: 'f54af56a-9d55-4b58-8db1-5b3cd1ed2673' started\n",
            "\n",
            "######################################################################################\n",
            "\n",
            "\n",
            "initializing\n",
            "Note: online_url and serving_urls are deprecated and will be removed in a future release. Use inference instead.\n",
            "..........\n",
            "ready\n",
            "\n",
            "\n",
            "-----------------------------------------------------------------------------------------------\n",
            "Successfully finished deployment creation, deployment_id='cfabea10-76b5-4a8c-ae43-b3e4c9d70885'\n",
            "-----------------------------------------------------------------------------------------------\n",
            "\n",
            "\n"
          ]
        }
      ],
      "source": [
        "deployment_details = best_pattern.inference_service.deploy(\n",
        "    name=\"AutoAI RAG deployment - ibm_watsonx_ai documentataion\",\n",
        "    space_id=space_id,\n",
        "    deploy_params={\"tags\": [\"wx-autoai-rag\"]}\n",
        ")"
      ]
    },
    {
      "cell_type": "markdown",
      "metadata": {},
      "source": [
        "### Test the deployed function\n",
        "\n",
        "RAG service is now deployed in our space. To test our solution we can run the cell below. Questions have to be provided in the payload. Their format is provided below."
      ]
    },
    {
      "cell_type": "code",
      "execution_count": 31,
      "metadata": {},
      "outputs": [],
      "source": [
        "deployment_id = client.deployments.get_id(deployment_details)\n",
        "\n",
        "payload = {\n",
        "    \"messages\": [{\"role\": \"user\", \"content\": question}]\n",
        "}\n",
        "score_response = client.deployments.run_ai_service(deployment_id, payload)"
      ]
    },
    {
      "cell_type": "code",
      "execution_count": 32,
      "metadata": {},
      "outputs": [
        {
          "data": {
            "text/plain": [
              "{'choices': [{'index': 0,\n",
              "   'message': {'content': ' </s>To use the new approach of providing credentials to `APIClient`, you should use the `Credentials` class instead of a dictionary. Here\\'s how you can do it:\\n\\n1. Import the necessary classes from `ibm_watsonx_ai`.\\n2. Create an instance of the `Credentials` class with the required parameters.\\n3. Pass the `Credentials` instance to the `APIClient` constructor.\\n\\nHere\\'s an example:\\n\\n```python\\nfrom ibm_watsonx_ai import APIClient, Credentials\\n\\n# Create a Credentials instance\\ncredentials = Credentials(\\n    url=\"https://us-south.ml.cloud.ibm.com\",\\n    token=\"***********\"\\n)\\n\\n# Initialize the APIClient with the Credentials instance\\nclient = APIClient(credentials)\\n\\n# Now you can use the client to interact with the API\\nurl = client.credentials.url\\n# OR\\nurl = credentials.url\\n```\\n\\nThis approach ensures that you are using the latest and recommended method for providing credentials to the `APIClient`.',\n",
              "    'role': 'assistant'},\n",
              "   'reference_documents': [{'metadata': {'document_id': 'migration_v1.html',\n",
              "      'sequence_number': [7, 8, 9, 10, 11]},\n",
              "     'page_content': 'get_model_lifecycle(\\n    url=\"https://us-south.ml.cloud.ibm.com\",\\n    model_id=\"ibm/granite-13b-instruct-v2\"\\n)\\n\\nget_model_specs_with_prompt_tuning_support(\\n    url=\"https://us-south.ml.cloud.ibm.com\"\\n)\\n\\nget_embedding_model_specs(\\n    url=\"https://us-south.ml.cloud.ibm.com\"\\n)\\n\\n\\n\\n\\nBreaking changes¶\\n\\nThe client.<resource>.list() methods don’t print the table with listed assets. They return the table as pandas.DataFrame. The optional parameter for the return_as_df methods was removed.\\n\\n✅ New approach - Access to credential fields as class attributes.\\nconn_list = client.connections.list()  ## table not printed\\n\\n\\n❌ Old approach - Table with listed resources printed.\\nconn_list = client.connections.list()\\n### Table returned as pandas.DataFrame `conn_list` object and printed output:\\n---------------------------  ------------------------------------  --------------------  ------------------------------------\\nNAME                         ID                                    CREATED               DATASOURCE_TYPE_ID\\nConnection to COS            71738a79-6585-4f33-bf4a-18907abcf06a  2024-04-25T10:42:23Z  193a97c1-4475-4a19-b90c-295c4fdc6517\\n---------------------------  ------------------------------------  --------------------  ------------------------------------\\n\\n\\n\\nMethods and parameters that were marked as deprecated in ibm_watsonx_ai v0 were removed. For example:\\n\\n✅ New approach - Use the method that replaced the deprecated one, for get_uid it’s get_id\\nasset_id = client.data_assets.get_id(asset_details)\\n\\n\\n❌ Old approach - Deprecated get_uid method called\\nclient.data_assets.get_uid(asset_details)\\n\\n\\n\\nclient.credentials and client.wml_credentials returns a Credentials object instead of a dictionary.\\n\\n✅ New approach - Access to credential fields as class attributes.\\nfrom ibm_watsonx_ai import APIClient\\nfrom ibm_watsonx_ai import Credentials\\n\\ncredentials = Credentials(\\n                   url = \"https://us-south.ml.cloud.ibm.com\",\\n                   token = \"***********\",\\n                  )\\n\\nclient = APIClient(credentials)\\n\\nurl = client.credentials.url\\n# OR\\nurl = credentials.url\\n\\n\\n❌ Old approach - Access to credential fields as keys in a dictionary.\\nfrom ibm_watsonx_ai import APIClient\\n\\ncredentials = {\\n                   \"url\": \"https://us-south.ml.cloud.ibm.com\",\\n                   \"token\":\"***********\",\\n                  }\\nclient = APIClient(credentials)\\nurl = client.wml_credentials.get(\\'url\\')\\n\\n\\n\\nParameter changes in service.score(...) for online deployment\\n\\nservice.score(...) has an additional forecast_window parameter added before the transaction_id parameter.\\nFrom ibm_watsonx_ai 1.0.0,  in the service.score(...) function, you need to pass all named parameters except for the payload parameter.\\n✅ New approach - named parameters and a new parameter.\\npredictions = service.score({\\n        \"observations\": AbstractTestTSAsync.observations,\\n        \"supporting_features\": AbstractTestTSAsync.supporting_features,\\n    },\\n    forecast_window=1,\\n    transaction_id=transaction_id,\\n) ❌ Old approach - all parameters are not named, the forecast_window parameter is absent\\npredictions = service.score({\\n        \"observations\": AbstractTestTSAsync.observations,\\n        \"supporting_features\": AbstractTestTSAsync.supporting_features,\\n    },\\n    transaction_id,\\n)\\n\\n\\n\\n\\nDeprecations¶\\n\\nInitializing APIClient with credentials as a dictionary is deprecated.\\n\\nAll parameters with wml in the name are deprecated. They were renamed to:\\nwml_credentials -> credentials\\nwml_client -> api_client.\\n\\n\\n\\n\\nid naming was aligned in parameters and methods and all uid were replaced by id. Methods that were using uid were removed or marked as deprecated.\\n\\n\\n\\n\\n\\n\\n\\n\\n\\n\\n\\nNext\\n\\nChangelog\\n\\n\\n\\n\\n\\n\\n\\nPrevious\\n\\nMigration from ibm_watson_machine_learning\\n\\n\\n\\n\\n\\n\\n                Copyright © 2023-2025, IBM\\n            \\n            Made with Sphinx and @pradyunsg\\'s\\n            \\n            Furo\\n\\n\\n\\n\\n\\n\\n\\n\\n\\n\\n            On this page'},\n",
              "    {'metadata': {'document_id': 'base.html',\n",
              "      'sequence_number': [5, 6, 7, 8, 9]},\n",
              "     'page_content': 'A direct instance of httpx.Client()\\nA set of parameters provided via the HttpClientConfig class\\n\\nExample:\\nfrom ibm_watsonx_ai.utils.utils import HttpClientConfig\\n\\nlimits=httpx.Limits(\\n    max_connections=5\\n)\\ntimeout = httpx.Timeout(7)\\nhttp_config = HttpClientConfig(timeout=timeout, limits=limits)\\n\\n\\nIf not provided, a default instance of httpx.Client is created.\\n\\nNote\\nIf you need to adjust timeouts or limits, using HttpClientConfig is the recommended approach.\\nWhen the proxies parameter is provided in credentials, httpx.Client will use these proxies.\\nHowever, if you want to create a separate httpx.Client, all parameters must be provided by the user.\\n\\n\\nasync_httpx_client (httpx.AsyncClient, HttpClientConfig, optional) – A customizable httpx.AsyncClient for ModelInference. The httpx.AsyncClient is used to improve performance of foundation models inference. This parameter accepts two types of input:\\n\\nA direct instance of httpx.AsyncClient\\nA set of parameters provided via the HttpClientConfig class\\n\\nExample:\\nfrom ibm_watsonx_ai.utils.utils import HttpClientConfig\\n\\nlimits=httpx.Limits(\\n    max_connections=5\\n)\\ntimeout = httpx.Timeout(7)\\nhttp_config = HttpClientConfig(timeout=timeout, limits=limits)\\n\\n\\nIf not provided, a default instance of httpx.AsyncClient is created.\\n\\nNote\\nIf you need to adjust timeouts or limits, using HttpClientConfig is the recommended approach.\\nWhen the proxies parameter is provided in credentials, httpx.Client will use these proxies.\\nHowever, if you want to create a separate httpx.Client, all parameters must be provided by the user.\\n\\n\\n\\n\\n\\nExample:\\nfrom ibm_watsonx_ai import APIClient, Credentials\\n\\ncredentials = Credentials(\\n    url = \"<url>\",\\n    api_key = IAM_API_KEY\\n)\\n\\nclient = APIClient(credentials, space_id=\"<space_id>\")\\n\\nclient.models.list()\\nclient.deployments.get_details()\\n\\nclient.set.default_project(\"<project_id>\")\\n\\n...\\n\\n\\n\\n\\nget_copy()[source]¶\\nPrepares clean copy of APIClient. The clean copy contains no token, password, api key data. It is used\\nin AI services scenarios, when the client is used in deployed code, and can be reused between users.\\nThe copy needs to be set with current user token in the inner function of AI service.\\n\\nReturns:\\nAPIClient which is 2-level copy of the current one, without user secrets\\n\\nReturn type:\\nAPIClient\\n\\n\\nExample:\\ndef deployable_ai_service(context, params={\"k1\":\"v1\"}, **kwargs):\\n\\n    # imports\\n    from ibm_watsonx_ai import Credentials, APIClient\\n    from ibm_watsonx_ai.foundation_models import ModelInference\\n\\n    task_token = context.generate_token()\\n\\n    outer_context = context\\n\\n    client = APIClient(Credentials(\\n        url = \"https://us-south.ml.cloud.ibm.com\",\\n        token = task_token\\n    ))\\n\\n    # operations with client\\n\\n    def generate(context):\\n        user_client = client.get_copy()\\n        user_client.set_token(context.generate_token())\\n\\n        # operations with user_client\\n\\n        return {\\'body\\': response_body}\\n\\n    return generate\\n\\nstored_ai_service_details = client._ai_services.store(deployable_ai_service, meta_props)\\n\\n\\n\\n\\n\\nget_headers(content_type=\\'application/json\\', include_user_agent=False)[source]¶\\nGet HTTP headers used during requests.\\n\\nParameters:\\n\\ncontent_type – value for Content-Type header, defaults to application/json\\ninclude_user_agent – whether the result should include User-Agent header, defaults to False\\n\\n\\nReturns:\\nheaders used during requests\\n\\nReturn type:\\ndict\\n\\n\\n\\n\\n\\nset_headers(headers)[source]¶\\nMethod which allows refresh/set new User Request Headers.\\n\\nParameters:\\nheaders (dict) – User Request Headers\\n\\n\\nExamples\\nheaders = {\\n    \\'Authorization\\': \\'Bearer <USER AUTHORIZATION TOKEN>\\',\\n    \\'User-Agent\\': \\'ibm-watsonx-ai/1.0.1 (lang=python; arch=x86_64; os=darwin; python.version=3.10.13)\\',\\n    \\'Content-Type\\': \\'application/json\\'\\n}\\n\\nclient.set_headers(headers)\\n\\n\\n\\n\\n\\nset_token(token)[source]¶\\nMethod which allows refresh/set new User Authorization Token.\\n\\nNote\\nUsing this function will cause that token will not be automatically refreshed anymore, if password or apikey were passed.\\nThe user needs to take care of token refresh using set_token function from that point in time until they finish using the client instance.'},\n",
              "    {'metadata': {'document_id': 'migration_v1.html',\n",
              "      'sequence_number': [8, 9, 10, 11, 12]},\n",
              "     'page_content': '✅ New approach - Access to credential fields as class attributes.\\nconn_list = client.connections.list()  ## table not printed\\n\\n\\n❌ Old approach - Table with listed resources printed.\\nconn_list = client.connections.list()\\n### Table returned as pandas.DataFrame `conn_list` object and printed output:\\n---------------------------  ------------------------------------  --------------------  ------------------------------------\\nNAME                         ID                                    CREATED               DATASOURCE_TYPE_ID\\nConnection to COS            71738a79-6585-4f33-bf4a-18907abcf06a  2024-04-25T10:42:23Z  193a97c1-4475-4a19-b90c-295c4fdc6517\\n---------------------------  ------------------------------------  --------------------  ------------------------------------\\n\\n\\n\\nMethods and parameters that were marked as deprecated in ibm_watsonx_ai v0 were removed. For example:\\n\\n✅ New approach - Use the method that replaced the deprecated one, for get_uid it’s get_id\\nasset_id = client.data_assets.get_id(asset_details)\\n\\n\\n❌ Old approach - Deprecated get_uid method called\\nclient.data_assets.get_uid(asset_details)\\n\\n\\n\\nclient.credentials and client.wml_credentials returns a Credentials object instead of a dictionary.\\n\\n✅ New approach - Access to credential fields as class attributes.\\nfrom ibm_watsonx_ai import APIClient\\nfrom ibm_watsonx_ai import Credentials\\n\\ncredentials = Credentials(\\n                   url = \"https://us-south.ml.cloud.ibm.com\",\\n                   token = \"***********\",\\n                  )\\n\\nclient = APIClient(credentials)\\n\\nurl = client.credentials.url\\n# OR\\nurl = credentials.url\\n\\n\\n❌ Old approach - Access to credential fields as keys in a dictionary.\\nfrom ibm_watsonx_ai import APIClient\\n\\ncredentials = {\\n                   \"url\": \"https://us-south.ml.cloud.ibm.com\",\\n                   \"token\":\"***********\",\\n                  }\\nclient = APIClient(credentials)\\nurl = client.wml_credentials.get(\\'url\\')\\n\\n\\n\\nParameter changes in service.score(...) for online deployment\\n\\nservice.score(...) has an additional forecast_window parameter added before the transaction_id parameter.\\nFrom ibm_watsonx_ai 1.0.0,  in the service.score(...) function, you need to pass all named parameters except for the payload parameter.\\n✅ New approach - named parameters and a new parameter.\\npredictions = service.score({\\n        \"observations\": AbstractTestTSAsync.observations,\\n        \"supporting_features\": AbstractTestTSAsync.supporting_features,\\n    },\\n    forecast_window=1,\\n    transaction_id=transaction_id,\\n) ❌ Old approach - all parameters are not named, the forecast_window parameter is absent\\npredictions = service.score({\\n        \"observations\": AbstractTestTSAsync.observations,\\n        \"supporting_features\": AbstractTestTSAsync.supporting_features,\\n    },\\n    transaction_id,\\n)\\n\\n\\n\\n\\nDeprecations¶\\n\\nInitializing APIClient with credentials as a dictionary is deprecated.\\n\\nAll parameters with wml in the name are deprecated. They were renamed to:\\nwml_credentials -> credentials\\nwml_client -> api_client.\\n\\n\\n\\n\\nid naming was aligned in parameters and methods and all uid were replaced by id. Methods that were using uid were removed or marked as deprecated.\\n\\n\\n\\n\\n\\n\\n\\n\\n\\n\\n\\nNext\\n\\nChangelog\\n\\n\\n\\n\\n\\n\\n\\nPrevious\\n\\nMigration from ibm_watson_machine_learning\\n\\n\\n\\n\\n\\n\\n                Copyright © 2023-2025, IBM\\n            \\n            Made with Sphinx and @pradyunsg\\'s\\n            \\n            Furo\\n\\n\\n\\n\\n\\n\\n\\n\\n\\n\\n            On this page\\n          \\n\\n\\n\\n\\nV1 Migration Guide\\nWhat’s new?\\nRefactor and Cleanup\\nNew authorization\\nEasier project and space setup\\nFoundation model functions moved under APIClient\\nBreaking changes\\nDeprecations'}]}]}"
            ]
          },
          "execution_count": 32,
          "metadata": {},
          "output_type": "execute_result"
        }
      ],
      "source": [
        "score_response"
      ]
    },
    {
      "cell_type": "code",
      "execution_count": 33,
      "metadata": {},
      "outputs": [
        {
          "name": "stdout",
          "output_type": "stream",
          "text": [
            " </s>To use the new approach of providing credentials to `APIClient`, you should use the `Credentials` class instead of a dictionary. Here's how you can do it:\n",
            "\n",
            "1. Import the necessary classes from `ibm_watsonx_ai`.\n",
            "2. Create an instance of the `Credentials` class with the required parameters.\n",
            "3. Pass the `Credentials` instance to the `APIClient` constructor.\n",
            "\n",
            "Here's an example:\n",
            "\n",
            "```python\n",
            "from ibm_watsonx_ai import APIClient, Credentials\n",
            "\n",
            "# Create a Credentials instance\n",
            "credentials = Credentials(\n",
            "    url=\"https://us-south.ml.cloud.ibm.com\",\n",
            "    token=\"***********\"\n",
            ")\n",
            "\n",
            "# Initialize the APIClient with the Credentials instance\n",
            "client = APIClient(credentials)\n",
            "\n",
            "# Now you can use the client to interact with the API\n",
            "url = client.credentials.url\n",
            "# OR\n",
            "url = credentials.url\n",
            "```\n",
            "\n",
            "This approach ensures that you are using the latest and recommended method for providing credentials to the `APIClient`.\n"
          ]
        }
      ],
      "source": [
        "print(score_response[\"choices\"][0][\"message\"][\"content\"])"
      ]
    },
    {
      "cell_type": "markdown",
      "metadata": {},
      "source": [
        "<a id=\"runs\"></a>\n",
        "## Historical runs\n",
        "\n",
        "In this section you learn to work with historical RAG Optimizer jobs (runs).\n",
        "\n",
        "To list historical runs use the `list()` method and provide the `'rag_optimizer'` filter."
      ]
    },
    {
      "cell_type": "code",
      "execution_count": 34,
      "metadata": {},
      "outputs": [
        {
          "data": {
            "text/html": [
              "<div>\n",
              "<style scoped>\n",
              "    .dataframe tbody tr th:only-of-type {\n",
              "        vertical-align: middle;\n",
              "    }\n",
              "\n",
              "    .dataframe tbody tr th {\n",
              "        vertical-align: top;\n",
              "    }\n",
              "\n",
              "    .dataframe thead th {\n",
              "        text-align: right;\n",
              "    }\n",
              "</style>\n",
              "<table border=\"1\" class=\"dataframe\">\n",
              "  <thead>\n",
              "    <tr style=\"text-align: right;\">\n",
              "      <th></th>\n",
              "      <th>timestamp</th>\n",
              "      <th>run_id</th>\n",
              "      <th>state</th>\n",
              "      <th>auto_pipeline_optimizer name</th>\n",
              "    </tr>\n",
              "  </thead>\n",
              "  <tbody>\n",
              "    <tr>\n",
              "      <th>0</th>\n",
              "      <td>2025-06-25T13:42:45.199Z</td>\n",
              "      <td>09437777-a9e4-4cc6-aac0-96c2c8352d10</td>\n",
              "      <td>completed</td>\n",
              "      <td>AutoAI RAG ibm-watsonx-ai SDK documentation</td>\n",
              "    </tr>\n",
              "  </tbody>\n",
              "</table>\n",
              "</div>"
            ],
            "text/plain": [
              "                  timestamp                                run_id      state  \\\n",
              "0  2025-06-25T13:42:45.199Z  09437777-a9e4-4cc6-aac0-96c2c8352d10  completed   \n",
              "\n",
              "                  auto_pipeline_optimizer name  \n",
              "0  AutoAI RAG ibm-watsonx-ai SDK documentation  "
            ]
          },
          "execution_count": 34,
          "metadata": {},
          "output_type": "execute_result"
        }
      ],
      "source": [
        "experiment.runs(filter='rag_optimizer').list()"
      ]
    },
    {
      "cell_type": "code",
      "execution_count": 35,
      "metadata": {},
      "outputs": [
        {
          "data": {
            "text/plain": [
              "'09437777-a9e4-4cc6-aac0-96c2c8352d10'"
            ]
          },
          "execution_count": 36,
          "metadata": {},
          "output_type": "execute_result"
        }
      ],
      "source": [
        "run_id = run_details['metadata']['id']\n",
        "run_id"
      ]
    },
    {
      "cell_type": "markdown",
      "metadata": {},
      "source": [
        "### Get executed optimizer's configuration parameters"
      ]
    },
    {
      "cell_type": "code",
      "execution_count": 37,
      "metadata": {},
      "outputs": [
        {
          "data": {
            "text/plain": [
              "{'name': 'AutoAI RAG ibm-watsonx-ai SDK documentation',\n",
              " 'description': 'AutoAI RAG experiemnt trainded on ibm-watsonx-ai SDK documentataion',\n",
              " 'max_number_of_rag_patterns': 6,\n",
              " 'optimization_metrics': ['answer_correctness']}"
            ]
          },
          "execution_count": 37,
          "metadata": {},
          "output_type": "execute_result"
        }
      ],
      "source": [
        "experiment.runs.get_rag_params(run_id=run_id)"
      ]
    },
    {
      "cell_type": "markdown",
      "metadata": {},
      "source": [
        "### Get historical rag_optimizer instance and training details"
      ]
    },
    {
      "cell_type": "code",
      "execution_count": 38,
      "metadata": {},
      "outputs": [],
      "source": [
        "historical_opt = experiment.runs.get_rag_optimizer(run_id)"
      ]
    },
    {
      "cell_type": "markdown",
      "metadata": {},
      "source": [
        "### List trained patterns for selected optimizer"
      ]
    },
    {
      "cell_type": "code",
      "execution_count": 39,
      "metadata": {},
      "outputs": [
        {
          "data": {
            "text/html": [
              "<div>\n",
              "<style scoped>\n",
              "    .dataframe tbody tr th:only-of-type {\n",
              "        vertical-align: middle;\n",
              "    }\n",
              "\n",
              "    .dataframe tbody tr th {\n",
              "        vertical-align: top;\n",
              "    }\n",
              "\n",
              "    .dataframe thead th {\n",
              "        text-align: right;\n",
              "    }\n",
              "</style>\n",
              "<table border=\"1\" class=\"dataframe\">\n",
              "  <thead>\n",
              "    <tr style=\"text-align: right;\">\n",
              "      <th></th>\n",
              "      <th>mean_answer_correctness</th>\n",
              "      <th>mean_faithfulness</th>\n",
              "      <th>mean_context_correctness</th>\n",
              "      <th>chunking.method</th>\n",
              "      <th>chunking.chunk_size</th>\n",
              "      <th>chunking.chunk_overlap</th>\n",
              "      <th>embeddings.model_id</th>\n",
              "      <th>vector_store.distance_metric</th>\n",
              "      <th>retrieval.method</th>\n",
              "      <th>retrieval.number_of_chunks</th>\n",
              "      <th>retrieval.hybrid_ranker</th>\n",
              "      <th>generation.model_id</th>\n",
              "    </tr>\n",
              "    <tr>\n",
              "      <th>Pattern_Name</th>\n",
              "      <th></th>\n",
              "      <th></th>\n",
              "      <th></th>\n",
              "      <th></th>\n",
              "      <th></th>\n",
              "      <th></th>\n",
              "      <th></th>\n",
              "      <th></th>\n",
              "      <th></th>\n",
              "      <th></th>\n",
              "      <th></th>\n",
              "      <th></th>\n",
              "    </tr>\n",
              "  </thead>\n",
              "  <tbody>\n",
              "    <tr>\n",
              "      <th>Pattern3</th>\n",
              "      <td>0.7857</td>\n",
              "      <td>0.7706</td>\n",
              "      <td>0.8571</td>\n",
              "      <td>recursive</td>\n",
              "      <td>1024</td>\n",
              "      <td>256</td>\n",
              "      <td>ibm/granite-embedding-278m-multilingual</td>\n",
              "      <td>cosine</td>\n",
              "      <td>window</td>\n",
              "      <td>3</td>\n",
              "      <td>{'k': 60, 'sparse_vectors': {'model_id': 'bm25...</td>\n",
              "      <td>mistralai/mistral-large</td>\n",
              "    </tr>\n",
              "    <tr>\n",
              "      <th>Pattern1</th>\n",
              "      <td>0.7418</td>\n",
              "      <td>0.4968</td>\n",
              "      <td>0.6905</td>\n",
              "      <td>recursive</td>\n",
              "      <td>512</td>\n",
              "      <td>128</td>\n",
              "      <td>ibm/granite-embedding-278m-multilingual</td>\n",
              "      <td>cosine</td>\n",
              "      <td>window</td>\n",
              "      <td>3</td>\n",
              "      <td>{'alpha': 0.8, 'sparse_vectors': {'model_id': ...</td>\n",
              "      <td>ibm/granite-3-8b-instruct</td>\n",
              "    </tr>\n",
              "    <tr>\n",
              "      <th>Pattern6</th>\n",
              "      <td>0.6429</td>\n",
              "      <td>0.7091</td>\n",
              "      <td>0.7857</td>\n",
              "      <td>recursive</td>\n",
              "      <td>1024</td>\n",
              "      <td>256</td>\n",
              "      <td>ibm/granite-embedding-278m-multilingual</td>\n",
              "      <td>cosine</td>\n",
              "      <td>window</td>\n",
              "      <td>3</td>\n",
              "      <td>{'alpha': 0.8, 'sparse_vectors': {'model_id': ...</td>\n",
              "      <td>mistralai/mistral-large</td>\n",
              "    </tr>\n",
              "    <tr>\n",
              "      <th>Pattern4</th>\n",
              "      <td>0.5934</td>\n",
              "      <td>0.5517</td>\n",
              "      <td>0.7143</td>\n",
              "      <td>recursive</td>\n",
              "      <td>1024</td>\n",
              "      <td>512</td>\n",
              "      <td>ibm/granite-embedding-278m-multilingual</td>\n",
              "      <td>cosine</td>\n",
              "      <td>window</td>\n",
              "      <td>3</td>\n",
              "      <td>{'alpha': 0.8, 'sparse_vectors': {'model_id': ...</td>\n",
              "      <td>ibm/granite-3-8b-instruct</td>\n",
              "    </tr>\n",
              "    <tr>\n",
              "      <th>Pattern2</th>\n",
              "      <td>0.5000</td>\n",
              "      <td>0.6354</td>\n",
              "      <td>0.7857</td>\n",
              "      <td>recursive</td>\n",
              "      <td>1024</td>\n",
              "      <td>256</td>\n",
              "      <td>ibm/slate-125m-english-rtrvr</td>\n",
              "      <td>cosine</td>\n",
              "      <td>window</td>\n",
              "      <td>3</td>\n",
              "      <td>{'k': 60, 'sparse_vectors': {'model_id': 'bm25...</td>\n",
              "      <td>ibm/granite-3-8b-instruct</td>\n",
              "    </tr>\n",
              "    <tr>\n",
              "      <th>Pattern5</th>\n",
              "      <td>0.5000</td>\n",
              "      <td>0.5715</td>\n",
              "      <td>0.6429</td>\n",
              "      <td>recursive</td>\n",
              "      <td>512</td>\n",
              "      <td>128</td>\n",
              "      <td>ibm/granite-embedding-278m-multilingual</td>\n",
              "      <td>cosine</td>\n",
              "      <td>window</td>\n",
              "      <td>3</td>\n",
              "      <td>{'k': 60, 'sparse_vectors': {'model_id': 'bm25...</td>\n",
              "      <td>mistralai/mistral-large</td>\n",
              "    </tr>\n",
              "  </tbody>\n",
              "</table>\n",
              "</div>"
            ],
            "text/plain": [
              "              mean_answer_correctness  mean_faithfulness  \\\n",
              "Pattern_Name                                               \n",
              "Pattern3                       0.7857             0.7706   \n",
              "Pattern1                       0.7418             0.4968   \n",
              "Pattern6                       0.6429             0.7091   \n",
              "Pattern4                       0.5934             0.5517   \n",
              "Pattern2                       0.5000             0.6354   \n",
              "Pattern5                       0.5000             0.5715   \n",
              "\n",
              "              mean_context_correctness chunking.method  chunking.chunk_size  \\\n",
              "Pattern_Name                                                                  \n",
              "Pattern3                        0.8571       recursive                 1024   \n",
              "Pattern1                        0.6905       recursive                  512   \n",
              "Pattern6                        0.7857       recursive                 1024   \n",
              "Pattern4                        0.7143       recursive                 1024   \n",
              "Pattern2                        0.7857       recursive                 1024   \n",
              "Pattern5                        0.6429       recursive                  512   \n",
              "\n",
              "              chunking.chunk_overlap                      embeddings.model_id  \\\n",
              "Pattern_Name                                                                    \n",
              "Pattern3                         256  ibm/granite-embedding-278m-multilingual   \n",
              "Pattern1                         128  ibm/granite-embedding-278m-multilingual   \n",
              "Pattern6                         256  ibm/granite-embedding-278m-multilingual   \n",
              "Pattern4                         512  ibm/granite-embedding-278m-multilingual   \n",
              "Pattern2                         256             ibm/slate-125m-english-rtrvr   \n",
              "Pattern5                         128  ibm/granite-embedding-278m-multilingual   \n",
              "\n",
              "             vector_store.distance_metric retrieval.method  \\\n",
              "Pattern_Name                                                 \n",
              "Pattern3                           cosine           window   \n",
              "Pattern1                           cosine           window   \n",
              "Pattern6                           cosine           window   \n",
              "Pattern4                           cosine           window   \n",
              "Pattern2                           cosine           window   \n",
              "Pattern5                           cosine           window   \n",
              "\n",
              "              retrieval.number_of_chunks  \\\n",
              "Pattern_Name                               \n",
              "Pattern3                               3   \n",
              "Pattern1                               3   \n",
              "Pattern6                               3   \n",
              "Pattern4                               3   \n",
              "Pattern2                               3   \n",
              "Pattern5                               3   \n",
              "\n",
              "                                        retrieval.hybrid_ranker  \\\n",
              "Pattern_Name                                                      \n",
              "Pattern3      {'k': 60, 'sparse_vectors': {'model_id': 'bm25...   \n",
              "Pattern1      {'alpha': 0.8, 'sparse_vectors': {'model_id': ...   \n",
              "Pattern6      {'alpha': 0.8, 'sparse_vectors': {'model_id': ...   \n",
              "Pattern4      {'alpha': 0.8, 'sparse_vectors': {'model_id': ...   \n",
              "Pattern2      {'k': 60, 'sparse_vectors': {'model_id': 'bm25...   \n",
              "Pattern5      {'k': 60, 'sparse_vectors': {'model_id': 'bm25...   \n",
              "\n",
              "                    generation.model_id  \n",
              "Pattern_Name                             \n",
              "Pattern3        mistralai/mistral-large  \n",
              "Pattern1      ibm/granite-3-8b-instruct  \n",
              "Pattern6        mistralai/mistral-large  \n",
              "Pattern4      ibm/granite-3-8b-instruct  \n",
              "Pattern2      ibm/granite-3-8b-instruct  \n",
              "Pattern5        mistralai/mistral-large  "
            ]
          },
          "execution_count": 39,
          "metadata": {},
          "output_type": "execute_result"
        }
      ],
      "source": [
        "historical_opt.summary()"
      ]
    },
    {
      "cell_type": "markdown",
      "metadata": {},
      "source": [
        "<a id=\"cleanup\"></a>\n",
        "## Clean up\n",
        "\n",
        "To delete the current experiment, use the `cancel_run` method.\n",
        "\n",
        "**Warning:** Be careful: once you delete an experiment, you will no longer be able to refer to it."
      ]
    },
    {
      "cell_type": "code",
      "execution_count": 40,
      "metadata": {},
      "outputs": [
        {
          "data": {
            "text/plain": [
              "'SUCCESS'"
            ]
          },
          "execution_count": 40,
          "metadata": {},
          "output_type": "execute_result"
        }
      ],
      "source": [
        "rag_optimizer.cancel_run()"
      ]
    },
    {
      "cell_type": "markdown",
      "metadata": {},
      "source": [
        "To delete the deployment, use the `delete` method. \n",
        "\n",
        "**Warning:** Keeping the deployment active may lead to unnecessary consumption of Compute Unit Hours (CUHs)."
      ]
    },
    {
      "cell_type": "code",
      "execution_count": 41,
      "metadata": {},
      "outputs": [
        {
          "data": {
            "text/plain": [
              "'SUCCESS'"
            ]
          },
          "execution_count": 41,
          "metadata": {},
          "output_type": "execute_result"
        }
      ],
      "source": [
        "client.deployments.delete(deployment_id)"
      ]
    },
    {
      "cell_type": "markdown",
      "metadata": {},
      "source": [
        "If you want to clean up all created assets:\n",
        "- experiments\n",
        "- trainings\n",
        "- pipelines\n",
        "- model definitions\n",
        "- models\n",
        "- functions\n",
        "- deployments\n",
        "\n",
        "please follow up this sample [notebook](https://github.com/IBM/watson-machine-learning-samples/blob/master/cloud/notebooks/python_sdk/instance-management/Machine%20Learning%20artifacts%20management.ipynb)."
      ]
    },
    {
      "cell_type": "markdown",
      "metadata": {},
      "source": [
        "<a id=\"summary\"></a>\n",
        "## Summary and next steps\n",
        "\n",
        "You successfully completed this notebook!\n",
        "\n",
        "You learned how to use `ibm-watsonx-ai` to run AutoAI RAG experiments. \n",
        "\n",
        " Check out our _<a href=\"https://ibm.github.io/watsonx-ai-python-sdk/samples.html\" target=\"_blank\" rel=\"noopener no referrer\">Online Documentation</a>_ for more samples, tutorials, documentation, how-tos, and blog posts. "
      ]
    },
    {
      "cell_type": "markdown",
      "metadata": {},
      "source": [
        "### Authors\n",
        "\n",
        "**Michał Steczko**, Software Engineer at watsonx.ai\n",
        "\n",
        "Copyright © 2024-2025 IBM. This notebook and its source code are released under the terms of the MIT License."
      ]
    }
  ],
  "metadata": {
    "kernelspec": {
      "display_name": "autoai_rag",
      "language": "python",
      "name": "python3"
    },
    "language_info": {
      "codemirror_mode": {
        "name": "ipython",
        "version": 3
      },
      "file_extension": ".py",
      "mimetype": "text/x-python",
      "name": "python",
      "nbconvert_exporter": "python",
      "pygments_lexer": "ipython3",
      "version": "3.11.10"
    }
  },
  "nbformat": 4,
  "nbformat_minor": 2
}

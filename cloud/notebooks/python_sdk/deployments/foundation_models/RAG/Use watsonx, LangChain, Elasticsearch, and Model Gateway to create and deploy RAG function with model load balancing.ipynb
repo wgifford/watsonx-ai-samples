{
  "cells": [
    {
      "cell_type": "markdown",
      "metadata": {},
      "source": [
        "![image](https://raw.githubusercontent.com/IBM/watson-machine-learning-samples/master/cloud/notebooks/headers/watsonx-Prompt_Lab-Notebook.png)\n",
        "# Use watsonx, LangChain, Elasticsearch, and Model Gateway to create and deploy RAG function with model load balancing"
      ]
    },
    {
      "cell_type": "markdown",
      "metadata": {},
      "source": [
        "#### Disclaimers\n",
        "\n",
        "- Use only Projects and Spaces that are available in watsonx context.\n",
        "\n",
        "## Notebook content\n",
        "\n",
        "This notebook contains the steps and code to demonstrate support of creating and deploying Retrieval Augmented Generation in watsonx.ai using Model Gateway. It introduces commands for data retrieval, knowledge base building & querying, model testing, deploying a RAG solution as an AI service.\n",
        "\n",
        "Some familiarity with Python is helpful. This notebook uses Python 3.11.\n",
        "\n",
        "#### About Retrieval Augmented Generation\n",
        "Retrieval Augmented Generation (RAG) is a versatile pattern that can unlock a number of use cases requiring factual recall of information, such as querying a knowledge base in natural language.\n",
        "\n",
        "In its simplest form, RAG requires 3 steps:\n",
        "\n",
        "- Index knowledge base passages (once)\n",
        "- Retrieve relevant passage(s) from knowledge base (for every user query)\n",
        "- Generate a response by feeding retrieved passage into a large language model (for every user query)\n",
        "\n",
        "## Contents\n",
        "\n",
        "This notebook contains the following parts:\n",
        "\n",
        "- [Setup the environment](#setup)\n",
        "- [Configure Model Gateway](#model-gateway)\n",
        "- [Create Model Gateway providers](#model-gateway-providers)\n",
        "- [Data preparation](#data-preparation)\n",
        "- [Set up connection to Elasticsearch](#elasticsearch)\n",
        "- [Set up VectorStore with Elasticsearch credentials](#vectorstore)\n",
        "- [Create RAG AI service](#rag-function)\n",
        "- [Create RAG AI service deployment](#deploy)\n",
        "- [Calculate rougeL metric](#evaluate)"
      ]
    },
    {
      "cell_type": "markdown",
      "metadata": {},
      "source": [
        "<a id=\"setup\"></a>\n",
        "## Set up the environment\n",
        "\n",
        "Before you use the sample code in this notebook, you must perform the following setup tasks:\n",
        "\n",
        "- Create a <a href=\"https://cloud.ibm.com/catalog/services/watsonxai-runtime\" target=\"_blank\" rel=\"noopener no referrer\">watsonx.ai Runtime Service</a> instance (a free plan is offered and information about how to create the instance can be found <a href=\"https://dataplatform.cloud.ibm.com/docs/content/wsj/getting-started/wml-plans.html?context=wx&audience=wdp\" target=\"_blank\" rel=\"noopener no referrer\">here</a>).\n",
        "\n",
        "**Note:** The example of model load balancing presented in this sample notebook may raise `Status Code 429 (Too Many Requests)` errors when using the free plan, due to lower maximum number of requests allowed per second."
      ]
    },
    {
      "cell_type": "markdown",
      "metadata": {},
      "source": [
        "### Install dependencies\n",
        "**Note:** `ibm-watsonx-ai` documentation can be found <a href=\"https://ibm.github.io/watsonx-ai-python-sdk/index.html\" target=\"_blank\" rel=\"noopener no referrer\">here</a>."
      ]
    },
    {
      "cell_type": "code",
      "execution_count": 1,
      "metadata": {},
      "outputs": [
        {
          "name": "stdout",
          "output_type": "stream",
          "text": [
            "Successfully installed wget-3.2\n",
            "\u001b[1A\u001b[2KSuccessfully installed absl-py-2.3.0 click-8.2.1 joblib-1.5.1 nltk-3.9.1 numpy-2.3.1 regex-2024.11.6 rouge-score-0.1.2 tqdm-4.67.1\n",
            "\u001b[1A\u001b[2KSuccessfully installed anyio-4.9.0 certifi-2025.6.15 charset_normalizer-3.4.2 h11-0.16.0 httpcore-1.0.9 httpx-0.28.1 ibm-cos-sdk-2.14.2 ibm-cos-sdk-core-2.14.2 ibm-cos-sdk-s3transfer-2.14.2 ibm-watsonx-ai-1.3.26 idna-3.10 jmespath-1.0.1 lomond-0.3.3 pandas-2.2.3 pytz-2025.2 requests-2.32.4 sniffio-1.3.1 tabulate-0.9.0 tzdata-2025.2 urllib3-2.5.0\n",
            "\u001b[1A\u001b[2KSuccessfully installed PyYAML-6.0.2 SQLAlchemy-2.0.41 annotated-types-0.7.0 jsonpatch-1.33 jsonpointer-3.0.0 langchain-0.3.26 langchain-core-0.3.67 langchain-text-splitters-0.3.8 langsmith-0.4.4 orjson-3.10.18 packaging-24.2 pydantic-2.11.7 pydantic-core-2.33.2 requests-toolbelt-1.0.0 tenacity-9.1.2 typing-inspection-0.4.1 zstandard-0.23.0\n",
            "\u001b[1A\u001b[2KSuccessfully installed elastic-transport-8.17.1 elasticsearch-8.18.1 langchain-elasticsearch-0.3.2 simsimd-6.4.9\n"
          ]
        }
      ],
      "source": [
        "%pip install wget | tail -n 1\n",
        "%pip install rouge-score | tail -n 1\n",
        "%pip install -U \"ibm-watsonx-ai>=1.3.25\" | tail -n 1\n",
        "%pip install -U \"langchain>=0.3,<0.4\" | tail -n 1\n",
        "%pip install -U \"langchain-elasticsearch>=0.3,<0.4\" | tail -n 1"
      ]
    },
    {
      "cell_type": "markdown",
      "metadata": {},
      "source": [
        "### Define the watsonx.ai credentials\n",
        "Use the code cell below to define the watsonx.ai credentials.\n",
        "\n",
        "**Action:** Provide the IBM Cloud user API key. For details, see <a href=\"https://cloud.ibm.com/docs/account?topic=account-userapikey&interface=ui\" target=\"_blank\" rel=\"noopener no referrer\">Managing user API keys</a>."
      ]
    },
    {
      "cell_type": "code",
      "execution_count": 2,
      "metadata": {},
      "outputs": [],
      "source": [
        "import getpass\n",
        "from ibm_watsonx_ai import Credentials\n",
        "\n",
        "credentials = Credentials(\n",
        "    url=\"https://ca-tor.ml.cloud.ibm.com\",\n",
        "    api_key=getpass.getpass(\"Enter your watsonx.ai api key and hit enter: \"),\n",
        ")"
      ]
    },
    {
      "cell_type": "markdown",
      "metadata": {},
      "source": [
        "### Working with projects\n",
        "\n",
        "First of all, you need to create a project that will be used for your work.\n",
        "The project must have a watsonx.ai Runtime instance assigned to it for this notebook to work properly.\n",
        "To assign an instance, follow the [documentation](https://www.ibm.com/docs/en/watsonx/saas?topic=projects-adding-associated-services).\n",
        "\n",
        "- Open IBM Cloud Pak main page\n",
        "- Click all projects\n",
        "- Create an empty project\n",
        "- Assign the watsonx.ai Runtime instance\n",
        "- Copy `project_id` from url and paste it below\n",
        "\n",
        "**Action**: Assign project ID below"
      ]
    },
    {
      "cell_type": "code",
      "execution_count": 3,
      "metadata": {},
      "outputs": [],
      "source": [
        "import os\n",
        "\n",
        "try:\n",
        "    project_id = os.environ[\"PROJECT_ID\"]\n",
        "except KeyError:\n",
        "    project_id = input(\"Enter your project_id and hit enter: \")"
      ]
    },
    {
      "cell_type": "markdown",
      "metadata": {},
      "source": [
        "### Working with spaces\n",
        "\n",
        "You need to create a space that will be used for your work. If you do not have a space, you can use [Deployment Spaces Dashboard](https://dataplatform.cloud.ibm.com/ml-runtime/spaces?context=wx) to create one.\n",
        "\n",
        "- Click **New Deployment Space**\n",
        "- Create an empty space\n",
        "- Select Cloud Object Storage\n",
        "- Select watsonx.ai Runtime instance and press **Create**\n",
        "- Go to **Manage** tab\n",
        "- Copy `Space GUID` and paste it below\n",
        "\n",
        "**Tip**: You can also use SDK to prepare the space for your work. More information can be found [here](https://github.com/IBM/watson-machine-learning-samples/blob/master/cloud/notebooks/python_sdk/instance-management/Space%20management.ipynb).\n",
        "\n",
        "**Action**: assign space ID below"
      ]
    },
    {
      "cell_type": "code",
      "execution_count": 4,
      "metadata": {},
      "outputs": [],
      "source": [
        "import os\n",
        "\n",
        "try:\n",
        "    space_id = os.environ[\"SPACE_ID\"]\n",
        "except KeyError:\n",
        "    space_id = input(\"Enter your space_id and hit enter: \")"
      ]
    },
    {
      "cell_type": "markdown",
      "metadata": {},
      "source": [
        "### Create `APIClient` instance"
      ]
    },
    {
      "cell_type": "code",
      "execution_count": 5,
      "metadata": {},
      "outputs": [],
      "source": [
        "from ibm_watsonx_ai import APIClient\n",
        "\n",
        "client = APIClient(credentials, project_id=project_id)"
      ]
    },
    {
      "cell_type": "markdown",
      "metadata": {},
      "source": [
        "<a id=\"model-gateway\"></a>\n",
        "## Configure Model Gateway\n",
        "\n",
        "**Note:** You can learn more about setting up Model Gateway in this [sample notebook](https://github.com/IBM/watsonx-ai-samples/blob/master/cloud/notebooks/python_sdk/deployments/ai_services/Use%20watsonx%2C%20and%20Model%20Gateway%20to%20run%20as%20an%20AI%20service%20with%20load%20balancing.ipynb)."
      ]
    },
    {
      "cell_type": "markdown",
      "metadata": {},
      "source": [
        "### Define IBM Cloud Secrets Manager URL\n",
        "In order to store secrets for different model providers, you need to use the IBM Cloud Secrets Manager.\n",
        "\n",
        "**Note:** This notebook assumes that the IBM Cloud Secrets Manager instance is already configured. In order to configure the instance, follow [this chapter](https://www.ibm.com/docs/en/watsonx/saas?topic=models-using-model-gateway-preview#setting-up-authentication) in the documentation."
      ]
    },
    {
      "cell_type": "code",
      "execution_count": 6,
      "metadata": {},
      "outputs": [],
      "source": [
        "secrets_manager_url = \"PASTE_YOUR_IBM_CLOUD_SECRETS_MANAGER_URL_HERE\""
      ]
    },
    {
      "cell_type": "markdown",
      "metadata": {},
      "source": [
        "### Initialize the Model Gateway\n",
        "Create `Gateway` instance"
      ]
    },
    {
      "cell_type": "code",
      "execution_count": 7,
      "metadata": {},
      "outputs": [],
      "source": [
        "from ibm_watsonx_ai.gateway import Gateway\n",
        "\n",
        "gateway = Gateway(api_client=client)"
      ]
    },
    {
      "cell_type": "markdown",
      "metadata": {},
      "source": [
        "Set your IBM Cloud Secrets Manager instance\n",
        "\n",
        "**Note:** This instance will store your provider credentials. The same credentials will later be used inside the AI service.\n",
        "\n",
        "**Note:** Secrets manager should be set only once per project."
      ]
    },
    {
      "cell_type": "code",
      "execution_count": 8,
      "metadata": {},
      "outputs": [
        {
          "data": {
            "text/plain": [
              "{'id': 'd6a9d735-dca3-5492-9161-62577c7bc575',\n",
              " 'name': 'Watsonx AI Model Gateway configuration'}"
            ]
          },
          "execution_count": 8,
          "metadata": {},
          "output_type": "execute_result"
        }
      ],
      "source": [
        "gateway.set_secrets_manager(secrets_manager_url)"
      ]
    },
    {
      "cell_type": "markdown",
      "metadata": {},
      "source": [
        "List available providers"
      ]
    },
    {
      "cell_type": "code",
      "execution_count": 9,
      "metadata": {},
      "outputs": [
        {
          "data": {
            "text/html": [
              "<div>\n",
              "<style scoped>\n",
              "    .dataframe tbody tr th:only-of-type {\n",
              "        vertical-align: middle;\n",
              "    }\n",
              "\n",
              "    .dataframe tbody tr th {\n",
              "        vertical-align: top;\n",
              "    }\n",
              "\n",
              "    .dataframe thead th {\n",
              "        text-align: right;\n",
              "    }\n",
              "</style>\n",
              "<table border=\"1\" class=\"dataframe\">\n",
              "  <thead>\n",
              "    <tr style=\"text-align: right;\">\n",
              "      <th></th>\n",
              "      <th>ID</th>\n",
              "      <th>NAME</th>\n",
              "      <th>TYPE</th>\n",
              "    </tr>\n",
              "  </thead>\n",
              "  <tbody>\n",
              "  </tbody>\n",
              "</table>\n",
              "</div>"
            ],
            "text/plain": [
              "Empty DataFrame\n",
              "Columns: [ID, NAME, TYPE]\n",
              "Index: []"
            ]
          },
          "execution_count": 9,
          "metadata": {},
          "output_type": "execute_result"
        }
      ],
      "source": [
        "gateway.providers.list()"
      ]
    },
    {
      "cell_type": "markdown",
      "metadata": {},
      "source": [
        "<a id=\"model-gateway-providers\"></a>\n",
        "## Configure Model Gateway providers and create models with the same alias"
      ]
    },
    {
      "cell_type": "code",
      "execution_count": 10,
      "metadata": {},
      "outputs": [],
      "source": [
        "model_alias = \"load-balancing-rag-models\""
      ]
    },
    {
      "cell_type": "markdown",
      "metadata": {},
      "source": [
        "### Create watsonx.ai provider for `meta-llama/llama-3-3-70b-instruct` model"
      ]
    },
    {
      "cell_type": "code",
      "execution_count": 11,
      "metadata": {},
      "outputs": [],
      "source": [
        "llama_model = \"meta-llama/llama-3-3-70b-instruct\"\n",
        "\n",
        "watsonx_ai_provider_1_details = gateway.providers.create(\n",
        "    provider=\"watsonxai\",\n",
        "    name=\"watsonx-ai-provider-1\",\n",
        "    data={\n",
        "        \"apikey\": client.credentials.api_key,\n",
        "        \"auth_url\": client.service_instance._href_definitions.get_iam_token_url(),\n",
        "        \"base_url\": client.credentials.url,\n",
        "        \"project_id\": project_id,\n",
        "    },\n",
        ")\n",
        "\n",
        "watsonx_ai_provider_1_id = gateway.providers.get_id(watsonx_ai_provider_1_details)\n",
        "\n",
        "llama_model_details = gateway.models.create(\n",
        "    provider_id=watsonx_ai_provider_1_id,\n",
        "    model=llama_model,\n",
        "    alias=model_alias,\n",
        ")\n",
        "\n",
        "llama_model_id = gateway.models.get_id(llama_model_details)"
      ]
    },
    {
      "cell_type": "markdown",
      "metadata": {},
      "source": [
        "### Create watsonx.ai provider for `mistralai/mistral-large` model"
      ]
    },
    {
      "cell_type": "code",
      "execution_count": 12,
      "metadata": {},
      "outputs": [],
      "source": [
        "mistral_model = \"mistralai/mistral-large\"\n",
        "\n",
        "watsonx_ai_provider_2_details = gateway.providers.create(\n",
        "    provider=\"watsonxai\",\n",
        "    name=\"watsonx-ai-provider-2\",\n",
        "    data={\n",
        "        \"apikey\": client.credentials.api_key,\n",
        "        \"auth_url\": client.service_instance._href_definitions.get_iam_token_url(),\n",
        "        \"base_url\": client.credentials.url,\n",
        "        \"project_id\": project_id,\n",
        "    },\n",
        ")\n",
        "\n",
        "watsonx_ai_provider_2_id = gateway.providers.get_id(watsonx_ai_provider_2_details)\n",
        "\n",
        "mistral_model_details = gateway.models.create(\n",
        "    provider_id=watsonx_ai_provider_2_id,\n",
        "    model=mistral_model,\n",
        "    alias=model_alias,\n",
        ")\n",
        "\n",
        "mistral_model_id = gateway.models.get_id(mistral_model_details)"
      ]
    },
    {
      "cell_type": "markdown",
      "metadata": {},
      "source": [
        "### Create watsonx.ai provider for `ibm/granite-3-8b-instruct` model"
      ]
    },
    {
      "cell_type": "code",
      "execution_count": 13,
      "metadata": {},
      "outputs": [],
      "source": [
        "granite_model = \"ibm/granite-3-8b-instruct\"\n",
        "\n",
        "watsonx_ai_provider_3_details = gateway.providers.create(\n",
        "    provider=\"watsonxai\",\n",
        "    name=\"watsonx-ai-provider-3\",\n",
        "    data={\n",
        "        \"apikey\": client.credentials.api_key,\n",
        "        \"auth_url\": client.service_instance._href_definitions.get_iam_token_url(),\n",
        "        \"base_url\": client.credentials.url,\n",
        "        \"project_id\": project_id,\n",
        "    },\n",
        ")\n",
        "\n",
        "watsonx_ai_provider_3_id = gateway.providers.get_id(watsonx_ai_provider_3_details)\n",
        "\n",
        "granite_model_details = gateway.models.create(\n",
        "    provider_id=watsonx_ai_provider_3_id,\n",
        "    model=granite_model,\n",
        "    alias=model_alias,\n",
        ")\n",
        "\n",
        "granite_model_id = gateway.models.get_id(granite_model_details)"
      ]
    },
    {
      "cell_type": "markdown",
      "metadata": {},
      "source": [
        "### List available providers"
      ]
    },
    {
      "cell_type": "code",
      "execution_count": 14,
      "metadata": {},
      "outputs": [
        {
          "data": {
            "text/html": [
              "<div>\n",
              "<style scoped>\n",
              "    .dataframe tbody tr th:only-of-type {\n",
              "        vertical-align: middle;\n",
              "    }\n",
              "\n",
              "    .dataframe tbody tr th {\n",
              "        vertical-align: top;\n",
              "    }\n",
              "\n",
              "    .dataframe thead th {\n",
              "        text-align: right;\n",
              "    }\n",
              "</style>\n",
              "<table border=\"1\" class=\"dataframe\">\n",
              "  <thead>\n",
              "    <tr style=\"text-align: right;\">\n",
              "      <th></th>\n",
              "      <th>ID</th>\n",
              "      <th>NAME</th>\n",
              "      <th>TYPE</th>\n",
              "    </tr>\n",
              "  </thead>\n",
              "  <tbody>\n",
              "    <tr>\n",
              "      <th>0</th>\n",
              "      <td>9ad8bf00-e741-47c3-8eae-13e5ae4e4d1d</td>\n",
              "      <td>watsonx-ai-provider-1</td>\n",
              "      <td>watsonxai</td>\n",
              "    </tr>\n",
              "    <tr>\n",
              "      <th>1</th>\n",
              "      <td>8e4a6805-f61e-4f68-b235-75236479191d</td>\n",
              "      <td>watsonx-ai-provider-2</td>\n",
              "      <td>watsonxai</td>\n",
              "    </tr>\n",
              "    <tr>\n",
              "      <th>2</th>\n",
              "      <td>b63c0ee4-63f7-4403-8734-fec841c5f676</td>\n",
              "      <td>watsonx-ai-provider-3</td>\n",
              "      <td>watsonxai</td>\n",
              "    </tr>\n",
              "  </tbody>\n",
              "</table>\n",
              "</div>"
            ],
            "text/plain": [
              "                                     ID                   NAME       TYPE\n",
              "0  9ad8bf00-e741-47c3-8eae-13e5ae4e4d1d  watsonx-ai-provider-1  watsonxai\n",
              "1  8e4a6805-f61e-4f68-b235-75236479191d  watsonx-ai-provider-2  watsonxai\n",
              "2  b63c0ee4-63f7-4403-8734-fec841c5f676  watsonx-ai-provider-3  watsonxai"
            ]
          },
          "execution_count": 14,
          "metadata": {},
          "output_type": "execute_result"
        }
      ],
      "source": [
        "gateway.providers.list()"
      ]
    },
    {
      "cell_type": "markdown",
      "metadata": {},
      "source": [
        "<a id=\"data-preparation\"></a>\n",
        "## Data preparation"
      ]
    },
    {
      "cell_type": "markdown",
      "metadata": {},
      "source": [
        "### Build up knowledge base\n",
        "\n",
        "The current state-of-the-art in RAG is to create dense vector representations of the knowledge base in order to calculate the semantic similarity to a given user query.\n",
        "\n",
        "We can generate dense vector representations using embedding models. In this notebook, we use `ibm/slate-125m-english-rtrvr` model to embed both the knowledge base passages and user queries.\n",
        "\n",
        "A vector database is optimized for dense vector indexing and retrieval. This notebook uses <a href=\"https://python.langchain.com/docs/integrations/vectorstores/elasticsearch#basic-example\" target=\"_blank\" rel=\"noopener no referrer\">Elasticsearch</a>, a distributed, RESTful search and analytics engine, capable of performing both vector and lexical search.\n",
        "\n",
        "The dataset we are using is already split into self-contained passages that can be ingested by Elasticsearch. The size of each passage is limited by the embedding model's context window (which is 512 tokens for `ibm/slate-125m-english-rtrvr`)."
      ]
    },
    {
      "cell_type": "markdown",
      "metadata": {},
      "source": [
        "#### Load knowledge base documents\n",
        "\n",
        "Load set of documents used further to build knowledge base and store them as a project asset."
      ]
    },
    {
      "cell_type": "code",
      "execution_count": 15,
      "metadata": {},
      "outputs": [
        {
          "name": "stdout",
          "output_type": "stream",
          "text": [
            "Creating data asset...\n",
            "SUCCESS\n"
          ]
        }
      ],
      "source": [
        "import wget\n",
        "\n",
        "filename = \"psgs.tsv\"\n",
        "url = f\"https://raw.github.com/IBM/watsonx-ai-samples/master/cloud/data/RAG/{filename}\"\n",
        "if not os.path.isfile(filename):\n",
        "    wget.download(url)\n",
        "\n",
        "asset_details = client.data_assets.create(name=filename, file_path=filename)"
      ]
    },
    {
      "cell_type": "markdown",
      "metadata": {},
      "source": [
        "#### Read and prepare documents\n",
        "Read documents using `DataConnection` and prepare them for vector database ingestion by combining title and text."
      ]
    },
    {
      "cell_type": "code",
      "execution_count": 16,
      "metadata": {},
      "outputs": [
        {
          "name": "stdout",
          "output_type": "stream",
          "text": [
            "Collecting pyarrow>=3.0.0\n",
            "  Using cached pyarrow-20.0.0-cp311-cp311-macosx_12_0_arm64.whl.metadata (3.3 kB)\n",
            "Using cached pyarrow-20.0.0-cp311-cp311-macosx_12_0_arm64.whl (30.9 MB)\n",
            "Installing collected packages: pyarrow\n",
            "Successfully installed pyarrow-20.0.0\n"
          ]
        }
      ],
      "source": [
        "from ibm_watsonx_ai.helpers import DataConnection\n",
        "\n",
        "data_connection = DataConnection(data_asset_id=client.data_assets.get_id(asset_details))\n",
        "data_connection.set_client(client)\n",
        "documents = data_connection.read(csv_separator=\"\\t\")"
      ]
    },
    {
      "cell_type": "code",
      "execution_count": 17,
      "metadata": {},
      "outputs": [
        {
          "data": {
            "text/html": [
              "<div>\n",
              "<style scoped>\n",
              "    .dataframe tbody tr th:only-of-type {\n",
              "        vertical-align: middle;\n",
              "    }\n",
              "\n",
              "    .dataframe tbody tr th {\n",
              "        vertical-align: top;\n",
              "    }\n",
              "\n",
              "    .dataframe thead th {\n",
              "        text-align: right;\n",
              "    }\n",
              "</style>\n",
              "<table border=\"1\" class=\"dataframe\">\n",
              "  <thead>\n",
              "    <tr style=\"text-align: right;\">\n",
              "      <th></th>\n",
              "      <th>id</th>\n",
              "      <th>text</th>\n",
              "      <th>title</th>\n",
              "      <th>indextext</th>\n",
              "    </tr>\n",
              "  </thead>\n",
              "  <tbody>\n",
              "    <tr>\n",
              "      <th>0</th>\n",
              "      <td>1.0</td>\n",
              "      <td>History of Idaho - wikipedia History of Idaho ...</td>\n",
              "      <td>History of Idaho</td>\n",
              "      <td>History of Idaho\\nHistory of Idaho - wikipedia...</td>\n",
              "    </tr>\n",
              "    <tr>\n",
              "      <th>1</th>\n",
              "      <td>2.0</td>\n",
              "      <td>1957 . Location Cataldo , Idaho Built 1848 Arc...</td>\n",
              "      <td>History of Idaho</td>\n",
              "      <td>History of Idaho\\n1957 . Location Cataldo , Id...</td>\n",
              "    </tr>\n",
              "    <tr>\n",
              "      <th>2</th>\n",
              "      <td>3.0</td>\n",
              "      <td>of the Columbia was created in June 1816 , and...</td>\n",
              "      <td>History of Idaho</td>\n",
              "      <td>History of Idaho\\nof the Columbia was created ...</td>\n",
              "    </tr>\n",
              "    <tr>\n",
              "      <th>3</th>\n",
              "      <td>4.0</td>\n",
              "      <td>Canyon , he concluded that water transport was...</td>\n",
              "      <td>History of Idaho</td>\n",
              "      <td>History of Idaho\\nCanyon , he concluded that w...</td>\n",
              "    </tr>\n",
              "    <tr>\n",
              "      <th>4</th>\n",
              "      <td>5.0</td>\n",
              "      <td>1842 , Father Pierre - Jean De Smet , with Fr....</td>\n",
              "      <td>History of Idaho</td>\n",
              "      <td>History of Idaho\\n1842 , Father Pierre - Jean ...</td>\n",
              "    </tr>\n",
              "  </tbody>\n",
              "</table>\n",
              "</div>"
            ],
            "text/plain": [
              "    id                                               text             title  \\\n",
              "0  1.0  History of Idaho - wikipedia History of Idaho ...  History of Idaho   \n",
              "1  2.0  1957 . Location Cataldo , Idaho Built 1848 Arc...  History of Idaho   \n",
              "2  3.0  of the Columbia was created in June 1816 , and...  History of Idaho   \n",
              "3  4.0  Canyon , he concluded that water transport was...  History of Idaho   \n",
              "4  5.0  1842 , Father Pierre - Jean De Smet , with Fr....  History of Idaho   \n",
              "\n",
              "                                           indextext  \n",
              "0  History of Idaho\\nHistory of Idaho - wikipedia...  \n",
              "1  History of Idaho\\n1957 . Location Cataldo , Id...  \n",
              "2  History of Idaho\\nof the Columbia was created ...  \n",
              "3  History of Idaho\\nCanyon , he concluded that w...  \n",
              "4  History of Idaho\\n1842 , Father Pierre - Jean ...  "
            ]
          },
          "execution_count": 17,
          "metadata": {},
          "output_type": "execute_result"
        }
      ],
      "source": [
        "documents[\"indextext\"] = documents[\"title\"].astype(str) + \"\\n\" + documents[\"text\"]\n",
        "documents = documents[:1000]\n",
        "documents.head()"
      ]
    },
    {
      "cell_type": "markdown",
      "metadata": {},
      "source": [
        "### Create an embedding function for VectorStore\n",
        "\n",
        "Note that you can feed a custom embedding function to be used by Elasticsearch. The performance of Elasticsearch may differ depending on the embedding model used. "
      ]
    },
    {
      "cell_type": "code",
      "execution_count": 18,
      "metadata": {},
      "outputs": [],
      "source": [
        "from ibm_watsonx_ai.foundation_models import Embeddings\n",
        "\n",
        "embeddings = Embeddings(\n",
        "    model_id=client.foundation_models.EmbeddingModels.SLATE_125M_ENGLISH_RTRVR_V2,\n",
        "    credentials=credentials,\n",
        "    project_id=project_id,\n",
        ")"
      ]
    },
    {
      "cell_type": "markdown",
      "metadata": {},
      "source": [
        "<a id=\"elasticsearch\"></a>\n",
        "## Set up connectivity information to Elasticsearch\n",
        "\n",
        "**This notebook focuses on self-managed cluster using <a href=\"https://cloud.ibm.com/docs/databases-for-elasticsearch?topic=databases-for-elasticsearch-getting-started\" target=\"_blank\" rel=\"noopener no referrer\">IBM Cloud® Databases for Elasticsearch.</a>**\n",
        "\n",
        "The following cell retrieves the Elasticsearch users, password, host and port from the environment if available and prompts you otherwise.\n",
        "\n",
        "You can provide a connection asset ID to read all required connection data from it. Before doing so, make sure that connection asset was created in your space. To do that, you have to set the client's default space and then create the connection."
      ]
    },
    {
      "cell_type": "code",
      "execution_count": 19,
      "metadata": {},
      "outputs": [
        {
          "name": "stdout",
          "output_type": "stream",
          "text": [
            "Unsetting the project_id ...\n"
          ]
        },
        {
          "data": {
            "text/plain": [
              "'SUCCESS'"
            ]
          },
          "execution_count": 19,
          "metadata": {},
          "output_type": "execute_result"
        }
      ],
      "source": [
        "client.set.default_space(space_id)"
      ]
    },
    {
      "cell_type": "markdown",
      "metadata": {},
      "source": [
        "Create Elasticsearch connection"
      ]
    },
    {
      "cell_type": "code",
      "execution_count": 20,
      "metadata": {},
      "outputs": [
        {
          "data": {
            "text/plain": [
              "'73962db1-9b6c-490c-8d63-4ea64fc067cf'"
            ]
          },
          "execution_count": 20,
          "metadata": {},
          "output_type": "execute_result"
        }
      ],
      "source": [
        "es_connection_id = input(\n",
        "    \"Provide connection asset ID in your project. Skip this, if you wish to type credentials by hand and hit enter: \"\n",
        ")\n",
        "\n",
        "if not es_connection_id:\n",
        "    try:\n",
        "        esuser = os.environ[\"ESUSER\"]\n",
        "    except KeyError:\n",
        "        esuser = input(\"Please enter your Elasticsearch user name and hit enter: \")\n",
        "\n",
        "    try:\n",
        "        espassword = os.environ[\"ESPASSWORD\"]\n",
        "    except KeyError:\n",
        "        espassword = getpass.getpass(\n",
        "            \"Please enter your Elasticsearch password and hit enter: \"\n",
        "        )\n",
        "\n",
        "    try:\n",
        "        eshost = os.environ[\"ESHOST\"]\n",
        "    except KeyError:\n",
        "        eshost = input(\"Please enter your Elasticsearch hostname and hit enter: \")\n",
        "\n",
        "    try:\n",
        "        esport = os.environ[\"ESPORT\"]\n",
        "    except KeyError:\n",
        "        esport = input(\"Please enter your Elasticsearch port number and hit enter: \")\n",
        "\n",
        "    try:\n",
        "        esca = os.environ[\"ESCA\"]\n",
        "    except KeyError:\n",
        "        esca = input(\n",
        "            \"Please enter your Elasticsearch certificate contents (base64 encoded) and hit enter: \"\n",
        "        )\n",
        "\n",
        "    elasticsearch_data_source_type_id = (\n",
        "        client.connections.get_datasource_type_id_by_name(\"elasticsearch\")\n",
        "    )\n",
        "\n",
        "    details = client.connections.create(\n",
        "        {\n",
        "            client.connections.ConfigurationMetaNames.NAME: \"ES Connection\",\n",
        "            client.connections.ConfigurationMetaNames.DESCRIPTION: \"connection description\",\n",
        "            client.connections.ConfigurationMetaNames.DATASOURCE_TYPE: elasticsearch_data_source_type_id,\n",
        "            client.connections.ConfigurationMetaNames.PROPERTIES: {\n",
        "                \"url\": f\"{eshost}:{esport}\",\n",
        "                \"username\": esuser,\n",
        "                \"password\": espassword,\n",
        "                \"use_anonymous_access\": \"false\",\n",
        "                \"ssl_certificate\": esca,\n",
        "            },\n",
        "        }\n",
        "    )\n",
        "\n",
        "    es_connection_id = client.connections.get_id(details)\n",
        "\n",
        "es_connection_id"
      ]
    },
    {
      "cell_type": "markdown",
      "metadata": {},
      "source": [
        "<a id=\"vectorstore\"></a>\n",
        "## Set up `VectorStore` with Elasticsearch credentials \n",
        "\n",
        "Create a `VectorStore` class that automatically detects the database type (in our case it will be Elasticsearch) and allows us to add, search and delete documents.\n",
        "\n",
        "It works as a wrapper for LangChain `VectorStore` classes. You can customize the settings as long as it is supported. Consult the LangChain documentation for more information about <a href=\"https://api.python.langchain.com/en/latest/vectorstores/langchain_community.vectorstores.elasticsearch.ElasticsearchStore.html\" target=\"_blank\" rel=\"noopener no referrer\">`ElasticsearchStore`</a> connector."
      ]
    },
    {
      "cell_type": "markdown",
      "metadata": {},
      "source": [
        "Provide the name of your Elasticsearch index for subsequent operations:"
      ]
    },
    {
      "cell_type": "code",
      "execution_count": 21,
      "metadata": {},
      "outputs": [],
      "source": [
        "index_name = input(\"Please enter Elasticsearch index name and hit enter: \")"
      ]
    },
    {
      "cell_type": "code",
      "execution_count": 22,
      "metadata": {},
      "outputs": [],
      "source": [
        "from ibm_watsonx_ai.foundation_models.extensions.rag import VectorStore\n",
        "\n",
        "vector_store = VectorStore(\n",
        "    client=client,\n",
        "    embeddings=embeddings,\n",
        "    connection_id=es_connection_id,\n",
        "    index_name=index_name,\n",
        ")"
      ]
    },
    {
      "cell_type": "markdown",
      "metadata": {},
      "source": [
        "<a id=\"elasticsearchstore_index\"></a>\n",
        "### Embed and index documents with Elasticsearch\n",
        "\n",
        "**Note:** Could take several minutes if you don't have pre-built indices"
      ]
    },
    {
      "cell_type": "code",
      "execution_count": 23,
      "metadata": {},
      "outputs": [],
      "source": [
        "from langchain_core.documents import Document\n",
        "from langchain_text_splitters import RecursiveCharacterTextSplitter\n",
        "\n",
        "texts = documents.text.tolist()\n",
        "metadata_dicts = [\n",
        "    {\"title\": title, \"id\": doc_id}\n",
        "    for (title, doc_id) in zip(documents.title, documents.id)\n",
        "]\n",
        "docs_to_add = [\n",
        "    Document(page_content=text, metadata=metadata)\n",
        "    for text, metadata in zip(texts, metadata_dicts)\n",
        "]\n",
        "\n",
        "text_splitter = RecursiveCharacterTextSplitter(chunk_size=500, chunk_overlap=10)\n",
        "docs_to_add_split = text_splitter.split_documents(docs_to_add)\n",
        "\n",
        "ids = vector_store.add_documents(docs_to_add_split)"
      ]
    },
    {
      "cell_type": "markdown",
      "metadata": {},
      "source": [
        "Verify the number of documents loaded into the Elasticsearch index."
      ]
    },
    {
      "cell_type": "code",
      "execution_count": 24,
      "metadata": {},
      "outputs": [
        {
          "data": {
            "text/plain": [
              "3059"
            ]
          },
          "execution_count": 24,
          "metadata": {},
          "output_type": "execute_result"
        }
      ],
      "source": [
        "doc_count = vector_store.count()\n",
        "doc_count"
      ]
    },
    {
      "cell_type": "markdown",
      "metadata": {},
      "source": [
        "Let's search for an example document as a sample. Note the embedding in the vector field, that was generated with the sentence transformer."
      ]
    },
    {
      "cell_type": "code",
      "execution_count": 25,
      "metadata": {},
      "outputs": [
        {
          "data": {
            "text/plain": [
              "[Document(metadata={'title': 'British colonization of the Americas', 'id': 521.0}, page_content=\"the United States of America , which was recognised internationally with the signing of the Treaty of Paris on 3 September 1783 . Great Britain also colonised the west coast of North America , indirectly via the Hudson 's Bay Company licenses west of the Rocky Mountains : the Columbia District and New Caledonia fur district . Most of these were jointly claimed as the Oregon Country by the United\"),\n",
              " Document(metadata={'title': 'Chicago Fire (season 6)', 'id': 769.0}, page_content=\"Us '' April 26 , 2018\"),\n",
              " Document(metadata={'title': 'Founding Fathers of the United States', 'id': 893.0}, page_content='of Congress further identifies the Articles of Confederation , also preserved at NARA , as a primary U.S. document . The Articles of Confederation served as the first constitution of the United States until its replacement by the present Constitution on March 4 , 1789 . Signatories of the Continental Association ( CA ) , Declaration of Independence ( DI ) , Articles of Confederation ( AC ) , and the United States Constitution ( USC ) ) : Name Province / state CA ( 1774 ) DI ( 1776 ) AC ( 1777 )'),\n",
              " Document(metadata={'title': 'Founding Fathers of the United States', 'id': 881.0}, page_content=\"became the United States of America . Among them was George Washington , who would soon be drawn out of military retirement to command the Continental Army during the American Revolutionary War . Also in attendance was Patrick Henry , and John Adams , who like all delegates were elected by their respective colonial assemblies . Other delegates included Samuel Adams from Massachusetts , John Dickinson from Pennsylvania and New York 's John Jay . This congress in addition to formulating appeals to\"),\n",
              " Document(metadata={'title': 'History of Idaho', 'id': 22.0}, page_content='1937 1938 1939 1940 1941 1942 1943 1944 1945 1946 1947 1948 1949 1950 1951 1952 1953 1954 1955 1956 1957 1958 1959 1960 1961 1962 1963 1964 1965 1966 1967 1968 1969 1970 1971 1972 1973 1976 1977 1978 1979 1980 1981 1982 1984 1985 1986 2017 2018 2019 2020 History of the United States by polity States Alabama Alaska Arizona Arkansas California Colorado Connecticut Delaware Florida Georgia Hawaii Idaho Illinois Indiana Iowa Kansas Kentucky Louisiana Maine Maryland Massachusetts Michigan Minnesota')]"
            ]
          },
          "execution_count": 25,
          "metadata": {},
          "output_type": "execute_result"
        }
      ],
      "source": [
        "vector_store.search(\"United States of America\", k=5)"
      ]
    },
    {
      "cell_type": "markdown",
      "metadata": {},
      "source": [
        "<a id=\"rag-function\"></a>\n",
        "## Create RAG AI service"
      ]
    },
    {
      "cell_type": "markdown",
      "metadata": {},
      "source": [
        "### Create AI service\n",
        "\n",
        "Prepare function which will be deployed using AI service. Please specify the default parameters that will be passed to the function."
      ]
    },
    {
      "cell_type": "code",
      "execution_count": null,
      "metadata": {},
      "outputs": [],
      "source": [
        "prompt_template_text = (\n",
        "    \"Use the following pieces of documents to answer the question at the end. \"\n",
        "    \"If you don't know the answer, just say that you don't know, don't try to make up an answer. \"\n",
        "    \"Use one sentence maximum. Keep the answer as concise as possible. \"\n",
        "    \"Do not include question in your response. \"\n",
        "    \"Your answers should not include any harmful, unethical, racist, sexist, toxic, dangerous, or illegal content. \"\n",
        "    \"Please ensure that your responses are socially unbiased and positive in nature. \"\n",
        "    \"Please provide a concise professional response.\\n\\n\"\n",
        "    \"{reference_documents}\\nQuestion:{question}\\nAnswer:\"\n",
        ")\n",
        "\n",
        "vector_store_config_dict = {\n",
        "    \"connection_id\": es_connection_id,\n",
        "    \"embeddings\": {\n",
        "        \"__class__\": \"Embeddings\",\n",
        "        \"__module__\": \"ibm_watsonx_ai.foundation_models.embeddings.embeddings\",\n",
        "        \"model_id\": \"ibm/slate-125m-english-rtrvr-v2\",\n",
        "    },\n",
        "    \"index_name\": index_name,\n",
        "    \"datasource_type\": \"elasticsearch\",\n",
        "}\n",
        "\n",
        "retriever_config_dict = {\"method\": \"simple\", \"number_of_chunks\": 5}\n",
        "\n",
        "# Parameter `model_max_input_tokens` may vary depending on which models were used.\n",
        "# To check the max input tokens for a given `model_id`, run:\n",
        "# `client.foundation_models.get_model_specs(model_id)[\"model_limits\"][\"max_sequence_length\"]`\n",
        "model_max_input_tokens = 128000\n",
        "\n",
        "def deployable_load_balancing_rag_ai_service(context, url=credentials.url, vector_store_config_dict=vector_store_config_dict, retriever_config_dict=retriever_config_dict, model=model_alias, prompt_template_text=prompt_template_text, model_max_input_tokens=model_max_input_tokens, context_template_text=\"\"): # fmt: skip\n",
        "    from ibm_watsonx_ai import APIClient, Credentials\n",
        "    from ibm_watsonx_ai.gateway import Gateway\n",
        "    from ibm_watsonx_ai.foundation_models.extensions.rag import Retriever, VectorStore\n",
        "    from ibm_watsonx_ai.foundation_models.extensions.rag.pattern.prompt_builder import (\n",
        "        build_prompt,\n",
        "    )\n",
        "\n",
        "    api_client = APIClient(\n",
        "        credentials=Credentials(url=url, token=context.generate_token()),\n",
        "        space_id=context.get_space_id(),\n",
        "    )\n",
        "\n",
        "    gateway = Gateway(api_client=api_client)\n",
        "\n",
        "    vector_store = VectorStore.from_dict(api_client, vector_store_config_dict)\n",
        "\n",
        "    retriever = Retriever.from_vector_store(\n",
        "        vector_store=vector_store, init_parameters=retriever_config_dict\n",
        "    )\n",
        "\n",
        "    def generate(context):\n",
        "        api_client.set_token(context.get_token())\n",
        "\n",
        "        payload = context.get_json()\n",
        "        question = payload[\"question\"]\n",
        "\n",
        "        retrieved_docs = retriever.retrieve(query=question)\n",
        "        reference_documents = [doc.page_content for doc in retrieved_docs]\n",
        "\n",
        "        prompt_input_text = build_prompt(\n",
        "            prompt_template_text=prompt_template_text,\n",
        "            context_template_text=context_template_text,\n",
        "            question=question,\n",
        "            reference_documents=reference_documents,\n",
        "            model_max_input_tokens=model_max_input_tokens,\n",
        "        )\n",
        "\n",
        "        response = gateway.completions.create(\n",
        "            model=model,\n",
        "            prompt=prompt_input_text,\n",
        "            decoding_method=\"greedy\",\n",
        "            min_tokens=1,\n",
        "            max_tokens=200,\n",
        "        )\n",
        "\n",
        "        return {\n",
        "            \"body\": {\n",
        "                \"model\": response[\"model\"],\n",
        "                \"answer\": response[\"choices\"][0][\"text\"],\n",
        "                \"reference_documents\": [\n",
        "                    {\"page_content\": doc.page_content, \"metadata\": doc.metadata}\n",
        "                    for doc in retrieved_docs\n",
        "                ],\n",
        "            }\n",
        "        }\n",
        "\n",
        "    return generate"
      ]
    },
    {
      "cell_type": "markdown",
      "metadata": {},
      "source": [
        "### Test the function locally\n",
        "\n",
        "To test our solution we can query the function locally without deploying."
      ]
    },
    {
      "cell_type": "code",
      "execution_count": 27,
      "metadata": {},
      "outputs": [],
      "source": [
        "questions_and_answers = {\n",
        "    \"what are the names of founding fathers of the united states?\": \"Thomas Jefferson::James Madison::John Jay::George Washington::John Adams::Benjamin Franklin::Alexander Hamilton\",\n",
        "    \"which teams played in the super bowl in 2013?\": \"Baltimore Ravens::San Francisco 49ers\",\n",
        "    \"when did bucharest become the capital of romania?\": \"1862\",\n",
        "}"
      ]
    },
    {
      "cell_type": "markdown",
      "metadata": {},
      "source": [
        "Define a helper function for formatting the response:"
      ]
    },
    {
      "cell_type": "code",
      "execution_count": 28,
      "metadata": {},
      "outputs": [],
      "source": [
        "from ibm_watsonx_ai.foundation_models.extensions.rag.utils import verbose_search\n",
        "from IPython.display import display, Markdown\n",
        "\n",
        "\n",
        "def print_rag_response(question, response):\n",
        "    display(Markdown(f\"**Model**: `{response['model']}`\"))\n",
        "    verbose_search(\n",
        "        question,\n",
        "        [Document(**d) for d in response[\"reference_documents\"]],\n",
        "    )\n",
        "    display(Markdown(f\"**Answer:** {response['answer']}\"))"
      ]
    },
    {
      "cell_type": "markdown",
      "metadata": {},
      "source": [
        "Create AI service function"
      ]
    },
    {
      "cell_type": "code",
      "execution_count": 29,
      "metadata": {},
      "outputs": [],
      "source": [
        "from ibm_watsonx_ai.deployments import RuntimeContext\n",
        "\n",
        "context = RuntimeContext(api_client=client)\n",
        "local_function = deployable_load_balancing_rag_ai_service(context=context)"
      ]
    },
    {
      "cell_type": "markdown",
      "metadata": {},
      "source": [
        "Validate response correctness"
      ]
    },
    {
      "cell_type": "code",
      "execution_count": 30,
      "metadata": {},
      "outputs": [
        {
          "data": {
            "text/markdown": [
              "**Model**: `meta-llama/llama-3-3-70b-instruct`"
            ],
            "text/plain": [
              "<IPython.core.display.Markdown object>"
            ]
          },
          "metadata": {},
          "output_type": "display_data"
        },
        {
          "data": {
            "text/markdown": [
              "**Question:** what are the names of founding fathers of the united states?"
            ],
            "text/plain": [
              "<IPython.core.display.Markdown object>"
            ]
          },
          "metadata": {},
          "output_type": "display_data"
        },
        {
          "data": {
            "text/html": [
              "<div>\n",
              "<style scoped>\n",
              "    .dataframe tbody tr th:only-of-type {\n",
              "        vertical-align: middle;\n",
              "    }\n",
              "\n",
              "    .dataframe tbody tr th {\n",
              "        vertical-align: top;\n",
              "    }\n",
              "\n",
              "    .dataframe thead th {\n",
              "        text-align: right;\n",
              "    }\n",
              "</style>\n",
              "<table border=\"1\" class=\"dataframe\">\n",
              "  <thead>\n",
              "    <tr style=\"text-align: right;\">\n",
              "      <th></th>\n",
              "      <th>page_content</th>\n",
              "      <th>id</th>\n",
              "      <th>title</th>\n",
              "    </tr>\n",
              "  </thead>\n",
              "  <tbody>\n",
              "    <tr>\n",
              "      <th>0</th>\n",
              "      <td>Founding Fathers of the United States - wikipe...</td>\n",
              "      <td>878.0</td>\n",
              "      <td>Founding Fathers of the United States</td>\n",
              "    </tr>\n",
              "    <tr>\n",
              "      <th>1</th>\n",
              "      <td>further groupings of Founding Fathers include ...</td>\n",
              "      <td>879.0</td>\n",
              "      <td>Founding Fathers of the United States</td>\n",
              "    </tr>\n",
              "    <tr>\n",
              "      <th>2</th>\n",
              "      <td>of Independence . The term Founding Fathers is...</td>\n",
              "      <td>879.0</td>\n",
              "      <td>Founding Fathers of the United States</td>\n",
              "    </tr>\n",
              "    <tr>\n",
              "      <th>3</th>\n",
              "      <td>two were Lutherans , two were Dutch Reformed ,...</td>\n",
              "      <td>889.0</td>\n",
              "      <td>Founding Fathers of the United States</td>\n",
              "    </tr>\n",
              "    <tr>\n",
              "      <th>4</th>\n",
              "      <td>, the only person who signed all four U.S. his...</td>\n",
              "      <td>883.0</td>\n",
              "      <td>Founding Fathers of the United States</td>\n",
              "    </tr>\n",
              "  </tbody>\n",
              "</table>\n",
              "</div>"
            ],
            "text/plain": [
              "                                        page_content     id  \\\n",
              "0  Founding Fathers of the United States - wikipe...  878.0   \n",
              "1  further groupings of Founding Fathers include ...  879.0   \n",
              "2  of Independence . The term Founding Fathers is...  879.0   \n",
              "3  two were Lutherans , two were Dutch Reformed ,...  889.0   \n",
              "4  , the only person who signed all four U.S. his...  883.0   \n",
              "\n",
              "                                   title  \n",
              "0  Founding Fathers of the United States  \n",
              "1  Founding Fathers of the United States  \n",
              "2  Founding Fathers of the United States  \n",
              "3  Founding Fathers of the United States  \n",
              "4  Founding Fathers of the United States  "
            ]
          },
          "metadata": {},
          "output_type": "display_data"
        },
        {
          "data": {
            "text/markdown": [
              "**Answer:**  Names include John Adams, Benjamin Franklin, John Jay, Thomas Jefferson, and others."
            ],
            "text/plain": [
              "<IPython.core.display.Markdown object>"
            ]
          },
          "metadata": {},
          "output_type": "display_data"
        },
        {
          "data": {
            "text/markdown": [
              "**Model**: `meta-llama/llama-3-3-70b-instruct`"
            ],
            "text/plain": [
              "<IPython.core.display.Markdown object>"
            ]
          },
          "metadata": {},
          "output_type": "display_data"
        },
        {
          "data": {
            "text/markdown": [
              "**Question:** which teams played in the super bowl in 2013?"
            ],
            "text/plain": [
              "<IPython.core.display.Markdown object>"
            ]
          },
          "metadata": {},
          "output_type": "display_data"
        },
        {
          "data": {
            "text/html": [
              "<div>\n",
              "<style scoped>\n",
              "    .dataframe tbody tr th:only-of-type {\n",
              "        vertical-align: middle;\n",
              "    }\n",
              "\n",
              "    .dataframe tbody tr th {\n",
              "        vertical-align: top;\n",
              "    }\n",
              "\n",
              "    .dataframe thead th {\n",
              "        text-align: right;\n",
              "    }\n",
              "</style>\n",
              "<table border=\"1\" class=\"dataframe\">\n",
              "  <thead>\n",
              "    <tr style=\"text-align: right;\">\n",
              "      <th></th>\n",
              "      <th>page_content</th>\n",
              "      <th>id</th>\n",
              "      <th>title</th>\n",
              "    </tr>\n",
              "  </thead>\n",
              "  <tbody>\n",
              "    <tr>\n",
              "      <th>0</th>\n",
              "      <td>for the 2012 season . The Ravens defeated the ...</td>\n",
              "      <td>819.0</td>\n",
              "      <td>Super Bowl XLVII</td>\n",
              "    </tr>\n",
              "    <tr>\n",
              "      <th>1</th>\n",
              "      <td>Schedule : NFL Super Bowl XLVII -- 2 / 3 '' . ...</td>\n",
              "      <td>863.0</td>\n",
              "      <td>Super Bowl XLVII</td>\n",
              "    </tr>\n",
              "    <tr>\n",
              "      <th>2</th>\n",
              "      <td>in Super Bowl XXX ) , Detroit Lions ( never ap...</td>\n",
              "      <td>833.0</td>\n",
              "      <td>Super Bowl XLVII</td>\n",
              "    </tr>\n",
              "    <tr>\n",
              "      <th>3</th>\n",
              "      <td>representatives . Baltimore defeated the Colts...</td>\n",
              "      <td>833.0</td>\n",
              "      <td>Super Bowl XLVII</td>\n",
              "    </tr>\n",
              "    <tr>\n",
              "      <th>4</th>\n",
              "      <td>downs at their 10 - yard line to secure the vi...</td>\n",
              "      <td>832.0</td>\n",
              "      <td>Super Bowl XLVII</td>\n",
              "    </tr>\n",
              "  </tbody>\n",
              "</table>\n",
              "</div>"
            ],
            "text/plain": [
              "                                        page_content     id             title\n",
              "0  for the 2012 season . The Ravens defeated the ...  819.0  Super Bowl XLVII\n",
              "1  Schedule : NFL Super Bowl XLVII -- 2 / 3 '' . ...  863.0  Super Bowl XLVII\n",
              "2  in Super Bowl XXX ) , Detroit Lions ( never ap...  833.0  Super Bowl XLVII\n",
              "3  representatives . Baltimore defeated the Colts...  833.0  Super Bowl XLVII\n",
              "4  downs at their 10 - yard line to secure the vi...  832.0  Super Bowl XLVII"
            ]
          },
          "metadata": {},
          "output_type": "display_data"
        },
        {
          "data": {
            "text/markdown": [
              "**Answer:**  Ravens and 49ers."
            ],
            "text/plain": [
              "<IPython.core.display.Markdown object>"
            ]
          },
          "metadata": {},
          "output_type": "display_data"
        },
        {
          "data": {
            "text/markdown": [
              "**Model**: `meta-llama/llama-3-3-70b-instruct`"
            ],
            "text/plain": [
              "<IPython.core.display.Markdown object>"
            ]
          },
          "metadata": {},
          "output_type": "display_data"
        },
        {
          "data": {
            "text/markdown": [
              "**Question:** when did bucharest become the capital of romania?"
            ],
            "text/plain": [
              "<IPython.core.display.Markdown object>"
            ]
          },
          "metadata": {},
          "output_type": "display_data"
        },
        {
          "data": {
            "text/html": [
              "<div>\n",
              "<style scoped>\n",
              "    .dataframe tbody tr th:only-of-type {\n",
              "        vertical-align: middle;\n",
              "    }\n",
              "\n",
              "    .dataframe tbody tr th {\n",
              "        vertical-align: top;\n",
              "    }\n",
              "\n",
              "    .dataframe thead th {\n",
              "        text-align: right;\n",
              "    }\n",
              "</style>\n",
              "<table border=\"1\" class=\"dataframe\">\n",
              "  <thead>\n",
              "    <tr style=\"text-align: right;\">\n",
              "      <th></th>\n",
              "      <th>page_content</th>\n",
              "      <th>id</th>\n",
              "      <th>title</th>\n",
              "    </tr>\n",
              "  </thead>\n",
              "  <tbody>\n",
              "    <tr>\n",
              "      <th>0</th>\n",
              "      <td>documents in 1459 . It became the capital of R...</td>\n",
              "      <td>944.0</td>\n",
              "      <td>Bucharest</td>\n",
              "    </tr>\n",
              "    <tr>\n",
              "      <th>1</th>\n",
              "      <td>destroying a third of the city . Ottoman massa...</td>\n",
              "      <td>948.0</td>\n",
              "      <td>Bucharest</td>\n",
              "    </tr>\n",
              "    <tr>\n",
              "      <th>2</th>\n",
              "      <td>Bucharest - wikipedia Bucharest This article c...</td>\n",
              "      <td>942.0</td>\n",
              "      <td>Bucharest</td>\n",
              "    </tr>\n",
              "    <tr>\n",
              "      <th>3</th>\n",
              "      <td>. I.C. Brătianu Boulevard in the 1930s Between...</td>\n",
              "      <td>948.0</td>\n",
              "      <td>Bucharest</td>\n",
              "    </tr>\n",
              "    <tr>\n",
              "      <th>4</th>\n",
              "      <td>project . Bucharest ( / ˈb ( j ) uː kərɛst / ;...</td>\n",
              "      <td>943.0</td>\n",
              "      <td>Bucharest</td>\n",
              "    </tr>\n",
              "  </tbody>\n",
              "</table>\n",
              "</div>"
            ],
            "text/plain": [
              "                                        page_content     id      title\n",
              "0  documents in 1459 . It became the capital of R...  944.0  Bucharest\n",
              "1  destroying a third of the city . Ottoman massa...  948.0  Bucharest\n",
              "2  Bucharest - wikipedia Bucharest This article c...  942.0  Bucharest\n",
              "3  . I.C. Brătianu Boulevard in the 1930s Between...  948.0  Bucharest\n",
              "4  project . Bucharest ( / ˈb ( j ) uː kərɛst / ;...  943.0  Bucharest"
            ]
          },
          "metadata": {},
          "output_type": "display_data"
        },
        {
          "data": {
            "text/markdown": [
              "**Answer:**  1862."
            ],
            "text/plain": [
              "<IPython.core.display.Markdown object>"
            ]
          },
          "metadata": {},
          "output_type": "display_data"
        }
      ],
      "source": [
        "for question in questions_and_answers:\n",
        "    context.request_payload_json = {\"question\": question}\n",
        "    response = local_function(context)\n",
        "    print_rag_response(question, response[\"body\"])"
      ]
    },
    {
      "cell_type": "markdown",
      "metadata": {},
      "source": [
        "Validate load balancing"
      ]
    },
    {
      "cell_type": "code",
      "execution_count": 31,
      "metadata": {},
      "outputs": [
        {
          "data": {
            "text/plain": [
              "Counter({'meta-llama/llama-3-3-70b-instruct': 21,\n",
              "         'mistralai/mistral-large': 14,\n",
              "         'ibm/granite-3-8b-instruct': 5})"
            ]
          },
          "execution_count": 31,
          "metadata": {},
          "output_type": "execute_result"
        }
      ],
      "source": [
        "import asyncio\n",
        "from collections import Counter\n",
        "\n",
        "\n",
        "async def send_requests(function, context):\n",
        "    responses: list[dict] = []\n",
        "\n",
        "    for _ in range(10):\n",
        "        tasks = [asyncio.to_thread(function, context) for _ in range(4)]\n",
        "        responses.extend(await asyncio.gather(*tasks))\n",
        "\n",
        "    return responses\n",
        "\n",
        "\n",
        "loop = asyncio.get_event_loop()\n",
        "\n",
        "context.request_payload_json = {\n",
        "    \"question\": \"what are the names of founding fathers of the united states?\"\n",
        "}\n",
        "responses = await loop.create_task(\n",
        "    send_requests(function=local_function, context=context)\n",
        ")\n",
        "\n",
        "Counter(map(lambda x: x[\"body\"][\"model\"], responses))"
      ]
    },
    {
      "cell_type": "markdown",
      "metadata": {},
      "source": [
        "As demonstrated, out of 40 requests sent to the RAG AI service:\n",
        "- 21 of them were handled by `meta-llama/llama-3-3-70b-instruct`,\n",
        "- 14 of them were handled by `mistralai/mistral-large`,\n",
        "- 5 of them were handled by `ibm/granite-3-8b-instruct`."
      ]
    },
    {
      "cell_type": "markdown",
      "metadata": {},
      "source": [
        "<a id=\"deploy\"></a>\n",
        "## Create RAG function deployment\n",
        "\n",
        "In order to deploy the RAG function, a custom software specification with `ibm-watsonx-ai[rag]>=1.3.25` must be created, as the previously defined function uses features not available in previous versions of the SDK.  "
      ]
    },
    {
      "cell_type": "markdown",
      "metadata": {},
      "source": [
        "### Create custom software specification containing a custom version of `ibm-watsonx-ai` SDK"
      ]
    },
    {
      "cell_type": "markdown",
      "metadata": {},
      "source": [
        "Define `requirements.txt` file for package extension"
      ]
    },
    {
      "cell_type": "code",
      "execution_count": 32,
      "metadata": {},
      "outputs": [],
      "source": [
        "requirements_txt = \"ibm-watsonx-ai[rag]>=1.3.25\"\n",
        "\n",
        "with open(\"requirements.txt\", \"w\") as file:\n",
        "    file.write(requirements_txt)"
      ]
    },
    {
      "cell_type": "markdown",
      "metadata": {},
      "source": [
        "Get the ID of base software specification"
      ]
    },
    {
      "cell_type": "code",
      "execution_count": 33,
      "metadata": {},
      "outputs": [],
      "source": [
        "base_software_specification_id = client.software_specifications.get_id_by_name(\n",
        "    \"runtime-24.1-py3.11\"\n",
        ")"
      ]
    },
    {
      "cell_type": "markdown",
      "metadata": {},
      "source": [
        "Store the package extension"
      ]
    },
    {
      "cell_type": "code",
      "execution_count": 34,
      "metadata": {},
      "outputs": [
        {
          "name": "stdout",
          "output_type": "stream",
          "text": [
            "Creating package extensions\n",
            "SUCCESS\n"
          ]
        }
      ],
      "source": [
        "meta_props = {\n",
        "    client.package_extensions.ConfigurationMetaNames.NAME: \"RAG Model Gateway package extension\",\n",
        "    client.package_extensions.ConfigurationMetaNames.DESCRIPTION: \"Package extension with ibm-watsonx-ai RAG flavour and Model Gateway functionality enabled\",\n",
        "    client.package_extensions.ConfigurationMetaNames.TYPE: \"requirements_txt\",\n",
        "}\n",
        "\n",
        "package_extension_details = client.package_extensions.store(\n",
        "    meta_props, file_path=\"requirements.txt\"\n",
        ")\n",
        "package_extension_id = client.package_extensions.get_id(package_extension_details)"
      ]
    },
    {
      "cell_type": "markdown",
      "metadata": {},
      "source": [
        "Create a new software specification with the created package extension"
      ]
    },
    {
      "cell_type": "code",
      "execution_count": 35,
      "metadata": {},
      "outputs": [
        {
          "name": "stdout",
          "output_type": "stream",
          "text": [
            "SUCCESS\n"
          ]
        },
        {
          "data": {
            "text/plain": [
              "'SUCCESS'"
            ]
          },
          "execution_count": 35,
          "metadata": {},
          "output_type": "execute_result"
        }
      ],
      "source": [
        "meta_props = {\n",
        "    client.software_specifications.ConfigurationMetaNames.NAME: \"RAG Model Gateway software specification\",\n",
        "    client.software_specifications.ConfigurationMetaNames.DESCRIPTION: \"Software specification for RAG and Model Gateway\",\n",
        "    client.software_specifications.ConfigurationMetaNames.BASE_SOFTWARE_SPECIFICATION: {\n",
        "        \"guid\": base_software_specification_id\n",
        "    },\n",
        "}\n",
        "\n",
        "software_specification_details = client.software_specifications.store(meta_props)\n",
        "software_specification_id = client.software_specifications.get_id(\n",
        "    software_specification_details\n",
        ")\n",
        "\n",
        "client.software_specifications.add_package_extension(\n",
        "    software_specification_id, package_extension_id\n",
        ")"
      ]
    },
    {
      "cell_type": "markdown",
      "metadata": {},
      "source": [
        "### Deploy RAG AI service"
      ]
    },
    {
      "cell_type": "markdown",
      "metadata": {},
      "source": [
        "Store function defined above with previously created software specification"
      ]
    },
    {
      "cell_type": "code",
      "execution_count": 36,
      "metadata": {},
      "outputs": [],
      "source": [
        "meta_props = {\n",
        "    client.repository.FunctionMetaNames.NAME: \"RAG AI service with Model Gateway\",\n",
        "    client.repository.FunctionMetaNames.DESCRIPTION: \"RAG AI service with load balancing using Model Gateway\",\n",
        "    client.repository.FunctionMetaNames.SOFTWARE_SPEC_UID: software_specification_id,\n",
        "}\n",
        "\n",
        "ai_service_details = client.repository.store_ai_service(\n",
        "    deployable_load_balancing_rag_ai_service, meta_props\n",
        ")\n",
        "\n",
        "ai_service_id = client.repository.get_ai_service_id(ai_service_details)"
      ]
    },
    {
      "cell_type": "markdown",
      "metadata": {},
      "source": [
        "Create online deployment of stored function"
      ]
    },
    {
      "cell_type": "code",
      "execution_count": 37,
      "metadata": {},
      "outputs": [
        {
          "name": "stdout",
          "output_type": "stream",
          "text": [
            "\n",
            "\n",
            "######################################################################################\n",
            "\n",
            "Synchronous deployment creation for id: '6c3534b0-bce4-4473-ad0d-839e548c61b4' started\n",
            "\n",
            "######################################################################################\n",
            "\n",
            "\n",
            "initializing\n",
            "Note: online_url and serving_urls are deprecated and will be removed in a future release. Use inference instead.\n",
            ".....\n",
            "ready\n",
            "\n",
            "\n",
            "-----------------------------------------------------------------------------------------------\n",
            "Successfully finished deployment creation, deployment_id='b130314d-ad30-4691-95c6-29eea2aff721'\n",
            "-----------------------------------------------------------------------------------------------\n",
            "\n",
            "\n"
          ]
        }
      ],
      "source": [
        "meta_props = {\n",
        "    client.deployments.ConfigurationMetaNames.NAME: \"RAG function deployment\",\n",
        "    client.deployments.ConfigurationMetaNames.ONLINE: {},\n",
        "}\n",
        "\n",
        "deployment_details = client.deployments.create(ai_service_id, meta_props=meta_props)"
      ]
    },
    {
      "cell_type": "markdown",
      "metadata": {},
      "source": [
        "Obtain the `deployment_id` of the previously created deployment."
      ]
    },
    {
      "cell_type": "code",
      "execution_count": 38,
      "metadata": {},
      "outputs": [],
      "source": [
        "deployment_id = client.deployments.get_id(deployment_details)"
      ]
    },
    {
      "cell_type": "markdown",
      "metadata": {},
      "source": [
        "### Execute the AI service"
      ]
    },
    {
      "cell_type": "markdown",
      "metadata": {},
      "source": [
        "Validate response correctness"
      ]
    },
    {
      "cell_type": "code",
      "execution_count": 39,
      "metadata": {},
      "outputs": [
        {
          "data": {
            "text/markdown": [
              "**Model**: `meta-llama/llama-3-3-70b-instruct`"
            ],
            "text/plain": [
              "<IPython.core.display.Markdown object>"
            ]
          },
          "metadata": {},
          "output_type": "display_data"
        },
        {
          "data": {
            "text/markdown": [
              "**Question:** what are the names of founding fathers of the united states?"
            ],
            "text/plain": [
              "<IPython.core.display.Markdown object>"
            ]
          },
          "metadata": {},
          "output_type": "display_data"
        },
        {
          "data": {
            "text/html": [
              "<div>\n",
              "<style scoped>\n",
              "    .dataframe tbody tr th:only-of-type {\n",
              "        vertical-align: middle;\n",
              "    }\n",
              "\n",
              "    .dataframe tbody tr th {\n",
              "        vertical-align: top;\n",
              "    }\n",
              "\n",
              "    .dataframe thead th {\n",
              "        text-align: right;\n",
              "    }\n",
              "</style>\n",
              "<table border=\"1\" class=\"dataframe\">\n",
              "  <thead>\n",
              "    <tr style=\"text-align: right;\">\n",
              "      <th></th>\n",
              "      <th>page_content</th>\n",
              "      <th>id</th>\n",
              "      <th>title</th>\n",
              "    </tr>\n",
              "  </thead>\n",
              "  <tbody>\n",
              "    <tr>\n",
              "      <th>0</th>\n",
              "      <td>Founding Fathers of the United States - wikipe...</td>\n",
              "      <td>878.0</td>\n",
              "      <td>Founding Fathers of the United States</td>\n",
              "    </tr>\n",
              "    <tr>\n",
              "      <th>1</th>\n",
              "      <td>further groupings of Founding Fathers include ...</td>\n",
              "      <td>879.0</td>\n",
              "      <td>Founding Fathers of the United States</td>\n",
              "    </tr>\n",
              "    <tr>\n",
              "      <th>2</th>\n",
              "      <td>of Independence . The term Founding Fathers is...</td>\n",
              "      <td>879.0</td>\n",
              "      <td>Founding Fathers of the United States</td>\n",
              "    </tr>\n",
              "    <tr>\n",
              "      <th>3</th>\n",
              "      <td>two were Lutherans , two were Dutch Reformed ,...</td>\n",
              "      <td>889.0</td>\n",
              "      <td>Founding Fathers of the United States</td>\n",
              "    </tr>\n",
              "    <tr>\n",
              "      <th>4</th>\n",
              "      <td>, the only person who signed all four U.S. his...</td>\n",
              "      <td>883.0</td>\n",
              "      <td>Founding Fathers of the United States</td>\n",
              "    </tr>\n",
              "  </tbody>\n",
              "</table>\n",
              "</div>"
            ],
            "text/plain": [
              "                                        page_content     id  \\\n",
              "0  Founding Fathers of the United States - wikipe...  878.0   \n",
              "1  further groupings of Founding Fathers include ...  879.0   \n",
              "2  of Independence . The term Founding Fathers is...  879.0   \n",
              "3  two were Lutherans , two were Dutch Reformed ,...  889.0   \n",
              "4  , the only person who signed all four U.S. his...  883.0   \n",
              "\n",
              "                                   title  \n",
              "0  Founding Fathers of the United States  \n",
              "1  Founding Fathers of the United States  \n",
              "2  Founding Fathers of the United States  \n",
              "3  Founding Fathers of the United States  \n",
              "4  Founding Fathers of the United States  "
            ]
          },
          "metadata": {},
          "output_type": "display_data"
        },
        {
          "data": {
            "text/markdown": [
              "**Answer:**  Names include John Adams, Benjamin Franklin, John Jay, Thomas Jefferson, and others."
            ],
            "text/plain": [
              "<IPython.core.display.Markdown object>"
            ]
          },
          "metadata": {},
          "output_type": "display_data"
        },
        {
          "data": {
            "text/markdown": [
              "**Model**: `meta-llama/llama-3-3-70b-instruct`"
            ],
            "text/plain": [
              "<IPython.core.display.Markdown object>"
            ]
          },
          "metadata": {},
          "output_type": "display_data"
        },
        {
          "data": {
            "text/markdown": [
              "**Question:** which teams played in the super bowl in 2013?"
            ],
            "text/plain": [
              "<IPython.core.display.Markdown object>"
            ]
          },
          "metadata": {},
          "output_type": "display_data"
        },
        {
          "data": {
            "text/html": [
              "<div>\n",
              "<style scoped>\n",
              "    .dataframe tbody tr th:only-of-type {\n",
              "        vertical-align: middle;\n",
              "    }\n",
              "\n",
              "    .dataframe tbody tr th {\n",
              "        vertical-align: top;\n",
              "    }\n",
              "\n",
              "    .dataframe thead th {\n",
              "        text-align: right;\n",
              "    }\n",
              "</style>\n",
              "<table border=\"1\" class=\"dataframe\">\n",
              "  <thead>\n",
              "    <tr style=\"text-align: right;\">\n",
              "      <th></th>\n",
              "      <th>page_content</th>\n",
              "      <th>id</th>\n",
              "      <th>title</th>\n",
              "    </tr>\n",
              "  </thead>\n",
              "  <tbody>\n",
              "    <tr>\n",
              "      <th>0</th>\n",
              "      <td>for the 2012 season . The Ravens defeated the ...</td>\n",
              "      <td>819.0</td>\n",
              "      <td>Super Bowl XLVII</td>\n",
              "    </tr>\n",
              "    <tr>\n",
              "      <th>1</th>\n",
              "      <td>Schedule : NFL Super Bowl XLVII -- 2 / 3 '' . ...</td>\n",
              "      <td>863.0</td>\n",
              "      <td>Super Bowl XLVII</td>\n",
              "    </tr>\n",
              "    <tr>\n",
              "      <th>2</th>\n",
              "      <td>in Super Bowl XXX ) , Detroit Lions ( never ap...</td>\n",
              "      <td>833.0</td>\n",
              "      <td>Super Bowl XLVII</td>\n",
              "    </tr>\n",
              "    <tr>\n",
              "      <th>3</th>\n",
              "      <td>representatives . Baltimore defeated the Colts...</td>\n",
              "      <td>833.0</td>\n",
              "      <td>Super Bowl XLVII</td>\n",
              "    </tr>\n",
              "    <tr>\n",
              "      <th>4</th>\n",
              "      <td>downs at their 10 - yard line to secure the vi...</td>\n",
              "      <td>832.0</td>\n",
              "      <td>Super Bowl XLVII</td>\n",
              "    </tr>\n",
              "  </tbody>\n",
              "</table>\n",
              "</div>"
            ],
            "text/plain": [
              "                                        page_content     id             title\n",
              "0  for the 2012 season . The Ravens defeated the ...  819.0  Super Bowl XLVII\n",
              "1  Schedule : NFL Super Bowl XLVII -- 2 / 3 '' . ...  863.0  Super Bowl XLVII\n",
              "2  in Super Bowl XXX ) , Detroit Lions ( never ap...  833.0  Super Bowl XLVII\n",
              "3  representatives . Baltimore defeated the Colts...  833.0  Super Bowl XLVII\n",
              "4  downs at their 10 - yard line to secure the vi...  832.0  Super Bowl XLVII"
            ]
          },
          "metadata": {},
          "output_type": "display_data"
        },
        {
          "data": {
            "text/markdown": [
              "**Answer:**  Ravens and 49ers."
            ],
            "text/plain": [
              "<IPython.core.display.Markdown object>"
            ]
          },
          "metadata": {},
          "output_type": "display_data"
        },
        {
          "data": {
            "text/markdown": [
              "**Model**: `meta-llama/llama-3-3-70b-instruct`"
            ],
            "text/plain": [
              "<IPython.core.display.Markdown object>"
            ]
          },
          "metadata": {},
          "output_type": "display_data"
        },
        {
          "data": {
            "text/markdown": [
              "**Question:** when did bucharest become the capital of romania?"
            ],
            "text/plain": [
              "<IPython.core.display.Markdown object>"
            ]
          },
          "metadata": {},
          "output_type": "display_data"
        },
        {
          "data": {
            "text/html": [
              "<div>\n",
              "<style scoped>\n",
              "    .dataframe tbody tr th:only-of-type {\n",
              "        vertical-align: middle;\n",
              "    }\n",
              "\n",
              "    .dataframe tbody tr th {\n",
              "        vertical-align: top;\n",
              "    }\n",
              "\n",
              "    .dataframe thead th {\n",
              "        text-align: right;\n",
              "    }\n",
              "</style>\n",
              "<table border=\"1\" class=\"dataframe\">\n",
              "  <thead>\n",
              "    <tr style=\"text-align: right;\">\n",
              "      <th></th>\n",
              "      <th>page_content</th>\n",
              "      <th>id</th>\n",
              "      <th>title</th>\n",
              "    </tr>\n",
              "  </thead>\n",
              "  <tbody>\n",
              "    <tr>\n",
              "      <th>0</th>\n",
              "      <td>documents in 1459 . It became the capital of R...</td>\n",
              "      <td>944.0</td>\n",
              "      <td>Bucharest</td>\n",
              "    </tr>\n",
              "    <tr>\n",
              "      <th>1</th>\n",
              "      <td>destroying a third of the city . Ottoman massa...</td>\n",
              "      <td>948.0</td>\n",
              "      <td>Bucharest</td>\n",
              "    </tr>\n",
              "    <tr>\n",
              "      <th>2</th>\n",
              "      <td>Bucharest - wikipedia Bucharest This article c...</td>\n",
              "      <td>942.0</td>\n",
              "      <td>Bucharest</td>\n",
              "    </tr>\n",
              "    <tr>\n",
              "      <th>3</th>\n",
              "      <td>. I.C. Brătianu Boulevard in the 1930s Between...</td>\n",
              "      <td>948.0</td>\n",
              "      <td>Bucharest</td>\n",
              "    </tr>\n",
              "    <tr>\n",
              "      <th>4</th>\n",
              "      <td>project . Bucharest ( / ˈb ( j ) uː kərɛst / ;...</td>\n",
              "      <td>943.0</td>\n",
              "      <td>Bucharest</td>\n",
              "    </tr>\n",
              "  </tbody>\n",
              "</table>\n",
              "</div>"
            ],
            "text/plain": [
              "                                        page_content     id      title\n",
              "0  documents in 1459 . It became the capital of R...  944.0  Bucharest\n",
              "1  destroying a third of the city . Ottoman massa...  948.0  Bucharest\n",
              "2  Bucharest - wikipedia Bucharest This article c...  942.0  Bucharest\n",
              "3  . I.C. Brătianu Boulevard in the 1930s Between...  948.0  Bucharest\n",
              "4  project . Bucharest ( / ˈb ( j ) uː kərɛst / ;...  943.0  Bucharest"
            ]
          },
          "metadata": {},
          "output_type": "display_data"
        },
        {
          "data": {
            "text/markdown": [
              "**Answer:**  1862."
            ],
            "text/plain": [
              "<IPython.core.display.Markdown object>"
            ]
          },
          "metadata": {},
          "output_type": "display_data"
        }
      ],
      "source": [
        "answer_by_question: dict[str, str] = {}\n",
        "\n",
        "for question in questions_and_answers:\n",
        "    context.request_payload_json = {\"question\": question}\n",
        "    response = client.deployments.run_ai_service(deployment_id, {\"question\": question})\n",
        "    answer_by_question[question] = response[\"answer\"]\n",
        "    print_rag_response(question, response)"
      ]
    },
    {
      "cell_type": "markdown",
      "metadata": {},
      "source": [
        "Validate load balancing"
      ]
    },
    {
      "cell_type": "code",
      "execution_count": 40,
      "metadata": {},
      "outputs": [
        {
          "data": {
            "text/plain": [
              "Counter({'meta-llama/llama-3-3-70b-instruct': 26,\n",
              "         'mistralai/mistral-large': 12,\n",
              "         'ibm/granite-3-8b-instruct': 2})"
            ]
          },
          "execution_count": 40,
          "metadata": {},
          "output_type": "execute_result"
        }
      ],
      "source": [
        "async def send_requests(question):\n",
        "    responses: list[dict] = []\n",
        "\n",
        "    for _ in range(10):\n",
        "        tasks = [\n",
        "            asyncio.to_thread(\n",
        "                client.deployments.run_ai_service, deployment_id, {\"question\": question}\n",
        "            )\n",
        "            for _ in range(4)\n",
        "        ]\n",
        "\n",
        "        responses.extend(await asyncio.gather(*tasks))\n",
        "        await asyncio.sleep(1)\n",
        "\n",
        "    return responses\n",
        "\n",
        "\n",
        "loop = asyncio.get_event_loop()\n",
        "responses = await loop.create_task(\n",
        "    send_requests(\n",
        "        question=\"what are the names of founding fathers of the united states?\"\n",
        "    )\n",
        ")\n",
        "\n",
        "Counter(map(lambda x: x[\"model\"], responses))"
      ]
    },
    {
      "cell_type": "markdown",
      "metadata": {},
      "source": [
        "As demonstrated, out of 40 requests sent to the RAG AI service:\n",
        "- 26 of them were handled by `meta-llama/llama-3-3-70b-instruct`,\n",
        "- 12 of them were handled by `mistralai/mistral-large`,\n",
        "- 2 of them were handled by `ibm/granite-3-8b-instruct`."
      ]
    },
    {
      "cell_type": "markdown",
      "metadata": {},
      "source": [
        "<a id=\"evaluate\"></a>\n",
        "## Calculate rougeL metric \n",
        "Calculate rougeL recall score to verify expected answer presence in generated response."
      ]
    },
    {
      "cell_type": "code",
      "execution_count": 41,
      "metadata": {},
      "outputs": [
        {
          "name": "stdout",
          "output_type": "stream",
          "text": [
            "Mean rougeL recall score: 0.5619047619047619\n"
          ]
        }
      ],
      "source": [
        "from rouge_score import rouge_scorer\n",
        "\n",
        "scorer = rouge_scorer.RougeScorer([\"rougeL\"], use_stemmer=True)\n",
        "scores = [\n",
        "    scorer.score(questions_and_answers[question], answer_by_question[question])\n",
        "    for question in questions_and_answers\n",
        "]\n",
        "mean_rougeL_recall_score = sum([s[\"rougeL\"].recall for s in scores]) / len(\n",
        "    questions_and_answers\n",
        ")\n",
        "\n",
        "print(f\"Mean rougeL recall score: {mean_rougeL_recall_score}\")"
      ]
    },
    {
      "cell_type": "markdown",
      "metadata": {},
      "source": [
        "<a id=\"summary\"></a>\n",
        "## Summary and next steps\n",
        "\n",
        "You successfully completed this notebook!\n",
        "\n",
        "Check out our _<a href=\"https://ibm.github.io/watsonx-ai-python-sdk/samples.html\" target=\"_blank\" rel=\"noopener no referrer\">Online Documentation</a>_ for more samples, tutorials, documentation, how-tos, and blog posts. "
      ]
    },
    {
      "cell_type": "markdown",
      "metadata": {},
      "source": [
        "### Authors:\n",
        "**Rafał Chrzanowski**, Software Engineer Intern at watsonx.ai"
      ]
    },
    {
      "cell_type": "markdown",
      "metadata": {},
      "source": [
        "Copyright © 2025 IBM. This notebook and its source code are released under the terms of the MIT License."
      ]
    }
  ],
  "metadata": {
    "kernelspec": {
      "display_name": "watsonx-ai-samples-py-311",
      "language": "python",
      "name": "python3"
    },
    "language_info": {
      "codemirror_mode": {
        "name": "ipython",
        "version": 3
      },
      "file_extension": ".py",
      "mimetype": "text/x-python",
      "name": "python",
      "nbconvert_exporter": "python",
      "pygments_lexer": "ipython3",
      "version": "3.11.13"
    }
  },
  "nbformat": 4,
  "nbformat_minor": 4
}

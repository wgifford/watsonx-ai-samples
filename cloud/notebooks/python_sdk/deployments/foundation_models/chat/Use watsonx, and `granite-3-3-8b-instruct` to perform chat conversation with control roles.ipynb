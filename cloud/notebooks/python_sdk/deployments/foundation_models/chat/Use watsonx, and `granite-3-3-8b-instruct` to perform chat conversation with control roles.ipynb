{
  "cells": [
    {
      "cell_type": "markdown",
      "metadata": {
        "pycharm": {
          "name": "#%% md\n"
        }
      },
      "source": [
        "![image](https://raw.githubusercontent.com/IBM/watson-machine-learning-samples/master/cloud/notebooks/headers/watsonx-Prompt_Lab-Notebook.png)\n",
        "# Use watsonx, and `ibm/granite-3-3-8b-instruct` to perform chat conversation with control roles"
      ]
    },
    {
      "cell_type": "markdown",
      "metadata": {
        "pycharm": {
          "name": "#%% md\n"
        }
      },
      "source": [
        "#### Disclaimers\n",
        "\n",
        "- Use only Projects and Spaces that are available in watsonx context.\n",
        "\n",
        "\n",
        "## Notebook content\n",
        "\n",
        "This notebook provides a detailed demonstration of the steps and code required to showcase support for control roles available in IBM Granite models.\n",
        "\n",
        "Some familiarity with Python is helpful. This notebook uses Python 3.12.\n",
        "\n",
        "## Learning goal\n",
        "\n",
        "The purpose of this notebook is to demonstrate how to use control roles available in IBM Granite models.\n",
        "\n",
        "## Table of Contents\n",
        "\n",
        "This notebook contains the following parts:\n",
        "\n",
        "- [Setup](#setup)\n",
        "- [Foundation Models on watsonx](#models)\n",
        "- [Work with chat messages](#chat)\n",
        "- [Summary](#summary)"
      ]
    },
    {
      "cell_type": "markdown",
      "metadata": {
        "pycharm": {
          "name": "#%% md\n"
        }
      },
      "source": [
        "<a id=\"setup\"></a>\n",
        "## Set up the environment\n",
        "\n",
        "Before you use the sample code in this notebook, you must perform the following setup tasks:\n",
        "\n",
        "-  Create a <a href=\"https://cloud.ibm.com/catalog/services/watsonxai-runtime\" target=\"_blank\" rel=\"noopener no referrer\">watsonx.ai Runtime Service</a> instance (a free plan is offered and information about how to create the instance can be found <a href=\"https://dataplatform.cloud.ibm.com/docs/content/wsj/getting-started/wml-plans.html?context=wx&audience=wdp\" target=\"_blank\" rel=\"noopener no referrer\">here</a>)."
      ]
    },
    {
      "cell_type": "markdown",
      "metadata": {
        "pycharm": {
          "name": "#%% md\n"
        }
      },
      "source": [
        "### Install dependencies"
      ]
    },
    {
      "cell_type": "code",
      "execution_count": 1,
      "metadata": {
        "pycharm": {
          "is_executing": true,
          "name": "#%%\n"
        }
      },
      "outputs": [
        {
          "name": "stdout",
          "output_type": "stream",
          "text": [
            "\u001b[1A\u001b[2KSuccessfully installed anyio-4.9.0 certifi-2025.4.26 charset-normalizer-3.4.2 h11-0.16.0 httpcore-1.0.9 httpx-0.28.1 ibm-cos-sdk-2.14.1 ibm-cos-sdk-core-2.14.1 ibm-cos-sdk-s3transfer-2.14.1 ibm-watsonx-ai-1.3.13 idna-3.10 jmespath-1.0.1 lomond-0.3.3 numpy-2.2.5 pandas-2.2.3 pytz-2025.2 requests-2.32.2 sniffio-1.3.1 tabulate-0.9.0 typing_extensions-4.13.2 tzdata-2025.2 urllib3-2.4.0\n"
          ]
        }
      ],
      "source": [
        "%pip install -U ibm-watsonx-ai | tail -n 1"
      ]
    },
    {
      "cell_type": "markdown",
      "metadata": {
        "pycharm": {
          "name": "#%% md\n"
        }
      },
      "source": [
        "### Define the watsonx.ai credentials\n",
        "Use the code cell below to define the watsonx.ai credentials that are required to work with watsonx Foundation Model inferencing.\n",
        "\n",
        "**Action:** Provide the IBM Cloud user API key. For details, see <a href=\"https://cloud.ibm.com/docs/account?topic=account-userapikey&interface=ui\" target=\"_blank\" rel=\"noopener no referrer\">Managing user API keys</a>."
      ]
    },
    {
      "cell_type": "code",
      "execution_count": 2,
      "metadata": {
        "pycharm": {
          "name": "#%%\n"
        }
      },
      "outputs": [],
      "source": [
        "import getpass\n",
        "from ibm_watsonx_ai import Credentials\n",
        "\n",
        "credentials = Credentials(\n",
        "    url=\"https://us-south.ml.cloud.ibm.com\",\n",
        "    api_key=getpass.getpass(\"Enter your watsonx.ai api key and hit enter: \"),\n",
        ")"
      ]
    },
    {
      "cell_type": "markdown",
      "metadata": {
        "pycharm": {
          "name": "#%% md\n"
        }
      },
      "source": [
        "### Define the project ID\n",
        "You need to provide the project ID to give the Foundation Model the context for the call. If you have a default project ID set in Watson Studio, the notebook obtains that project ID. Otherwise, you need to provide the project ID in the code cell below."
      ]
    },
    {
      "cell_type": "code",
      "execution_count": 3,
      "metadata": {
        "pycharm": {
          "name": "#%%\n"
        }
      },
      "outputs": [],
      "source": [
        "import os\n",
        "\n",
        "try:\n",
        "    project_id = os.environ[\"PROJECT_ID\"]\n",
        "except KeyError:\n",
        "    project_id = input(\"Enter your project_id and hit enter: \")"
      ]
    },
    {
      "cell_type": "markdown",
      "metadata": {},
      "source": [
        "<a id=\"models\"></a>\n",
        "## Set up the Foundation Model on `watsonx.ai`\n"
      ]
    },
    {
      "cell_type": "markdown",
      "metadata": {},
      "source": [
        "Specify the `model_id` of the model you will use for the chat with tools."
      ]
    },
    {
      "cell_type": "code",
      "execution_count": 4,
      "metadata": {},
      "outputs": [],
      "source": [
        "model_id = \"ibm/granite-3-3-8b-instruct\""
      ]
    },
    {
      "cell_type": "markdown",
      "metadata": {},
      "source": [
        "### Define the model parameters\n",
        "\n",
        "You might need to adjust model parameters depending on the model you use."
      ]
    },
    {
      "cell_type": "code",
      "execution_count": 5,
      "metadata": {},
      "outputs": [
        {
          "name": "stdout",
          "output_type": "stream",
          "text": [
            "+-------------------+----------------------------------------+------------------------------+\n",
            "| PARAMETER         | TYPE                                   | EXAMPLE VALUE                |\n",
            "+===================+========================================+==============================+\n",
            "| frequency_penalty | float, NoneType                        | 0.5                          |\n",
            "+-------------------+----------------------------------------+------------------------------+\n",
            "| logprobs          | bool, NoneType                         | True                         |\n",
            "+-------------------+----------------------------------------+------------------------------+\n",
            "| top_logprobs      | int, NoneType                          | 3                            |\n",
            "+-------------------+----------------------------------------+------------------------------+\n",
            "| presence_penalty  | float, NoneType                        | 0.3                          |\n",
            "+-------------------+----------------------------------------+------------------------------+\n",
            "| response_format   | dict, TextChatResponseFormat, NoneType | {'type': 'json_object'}      |\n",
            "+-------------------+----------------------------------------+------------------------------+\n",
            "| temperature       | float, NoneType                        | 0.7                          |\n",
            "+-------------------+----------------------------------------+------------------------------+\n",
            "| max_tokens        | int, NoneType                          | 100                          |\n",
            "+-------------------+----------------------------------------+------------------------------+\n",
            "| time_limit        | int, NoneType                          | 600000                       |\n",
            "+-------------------+----------------------------------------+------------------------------+\n",
            "| top_p             | float, NoneType                        | 0.9                          |\n",
            "+-------------------+----------------------------------------+------------------------------+\n",
            "| n                 | int, NoneType                          | 1                            |\n",
            "+-------------------+----------------------------------------+------------------------------+\n",
            "| logit_bias        | dict, NoneType                         | {'1003': -100, '1004': -100} |\n",
            "+-------------------+----------------------------------------+------------------------------+\n",
            "| seed              | int, NoneType                          | 41                           |\n",
            "+-------------------+----------------------------------------+------------------------------+\n",
            "| stop              | list, NoneType                         | ['this', 'the']              |\n",
            "+-------------------+----------------------------------------+------------------------------+\n"
          ]
        }
      ],
      "source": [
        "from ibm_watsonx_ai.foundation_models.schema import TextChatParameters\n",
        "\n",
        "TextChatParameters.show()"
      ]
    },
    {
      "cell_type": "code",
      "execution_count": 6,
      "metadata": {},
      "outputs": [],
      "source": [
        "params = TextChatParameters(\n",
        "    temperature=1\n",
        ")"
      ]
    },
    {
      "cell_type": "markdown",
      "metadata": {},
      "source": [
        "### Initialize the model\n",
        "\n",
        "Initialize the `ModelInference` class with the previously set parameters."
      ]
    },
    {
      "cell_type": "code",
      "execution_count": 7,
      "metadata": {},
      "outputs": [],
      "source": [
        "from ibm_watsonx_ai.foundation_models import ModelInference\n",
        "\n",
        "model = ModelInference(\n",
        "    model_id=model_id,\n",
        "    credentials=credentials,\n",
        "    project_id=project_id,\n",
        "    params=params\n",
        ")"
      ]
    },
    {
      "cell_type": "markdown",
      "metadata": {},
      "source": [
        "<a id=\"chat\"></a>\n",
        "## Work with chat messages "
      ]
    },
    {
      "cell_type": "markdown",
      "metadata": {},
      "source": [
        "### Work with a simple chat message using `chat_stream`"
      ]
    },
    {
      "cell_type": "code",
      "execution_count": 8,
      "metadata": {},
      "outputs": [],
      "source": [
        "messages = [\n",
        "    {\n",
        "        \"role\": \"user\", \n",
        "        \"content\": \"Which Formula 1 team is partnered with IBM?\"\n",
        "    }\n",
        "]\n",
        "\n",
        "chat_stream_response = model.chat_stream(messages=messages)"
      ]
    },
    {
      "cell_type": "code",
      "execution_count": 9,
      "metadata": {},
      "outputs": [
        {
          "name": "stdout",
          "output_type": "stream",
          "text": [
            "Scuderia Ferrari, an Italian Formula One racing team, collaborates with IBM for technology and data analytics in Formula 1."
          ]
        }
      ],
      "source": [
        "for chunk in chat_stream_response:\n",
        "    if chunk[\"choices\"]:\n",
        "        print(chunk[\"choices\"][0][\"delta\"].get(\"content\", \"\"), end=\"\", flush=True)"
      ]
    },
    {
      "cell_type": "markdown",
      "metadata": {},
      "source": [
        "### Work with chat message with `thinking` control role\n",
        "The `thinking` control role enables enhanced reasoning in model responses."
      ]
    },
    {
      "cell_type": "code",
      "execution_count": 10,
      "metadata": {},
      "outputs": [],
      "source": [
        "messages = [\n",
        "    {\n",
        "        \"role\": \"control\",\n",
        "        \"content\": \"thinking\",\n",
        "    },\n",
        "    {\n",
        "        \"role\": \"user\", \n",
        "        \"content\": \"Tell me a joke\"\n",
        "    }\n",
        "]\n",
        "\n",
        "chat_stream_response = model.chat_stream(messages=messages)"
      ]
    },
    {
      "cell_type": "code",
      "execution_count": 11,
      "metadata": {},
      "outputs": [
        {
          "name": "stdout",
          "output_type": "stream",
          "text": [
            "<think>Crafting a joke that aligns with the user's request involves considering elements such as surprise, humor, and appropriateness. Here's a classic light-hearted math joke:\n",
            "\n",
            "Why was the equal sign so humble?\n",
            "\n",
            "Because it knew it wasn't less than or greater than anyone else!\n",
            "\n",
            "This joke relies on a play on words with mathematical symbols and portrays a personification, creating a humorous anthropomorphism of an equal sign.</think><response>### Joke:\n",
            "\n",
            "Why was the equal sign so humble?\n",
            "\n",
            "Because it knew it wasn't less than or greater than anyone else!\n",
            "\n",
            "### Explanation:\n",
            "\n",
            "The humor in this joke comes from the personification of the equal sign (=), attributing human traits (humility) to a mathematical symbol. By stating that the equal sign is \"humble\" because it understands it's neither less than (<) nor greater than (>) anything else, the joke cleverly utilizes mathematical operators, playing with their usual roles in equations.</response>"
          ]
        }
      ],
      "source": [
        "for chunk in chat_stream_response:\n",
        "    if chunk[\"choices\"]:\n",
        "        print(chunk[\"choices\"][0][\"delta\"].get(\"content\", \"\"), end=\"\", flush=True)"
      ]
    },
    {
      "cell_type": "markdown",
      "metadata": {},
      "source": [
        "### Work with chat message with `length` control role\n",
        "Using the `length` control role, you can specify how long the model response should be."
      ]
    },
    {
      "cell_type": "markdown",
      "metadata": {},
      "source": [
        "#### Short length"
      ]
    },
    {
      "cell_type": "code",
      "execution_count": 12,
      "metadata": {},
      "outputs": [],
      "source": [
        "messages = [\n",
        "    {\n",
        "        \"role\": \"control\",\n",
        "        \"content\": \"length short\",\n",
        "    },\n",
        "    {\n",
        "        \"role\": \"user\", \n",
        "        \"content\": \"Explain torque\"\n",
        "    }\n",
        "]\n",
        "\n",
        "chat_stream_response = model.chat_stream(messages=messages)"
      ]
    },
    {
      "cell_type": "code",
      "execution_count": 13,
      "metadata": {},
      "outputs": [
        {
          "name": "stdout",
          "output_type": "stream",
          "text": [
            "Torque is a measure of the force that can cause an object to rotate about an axis. It's calculated as the product of the force and the distance from the axis (torque = force × distance). The unit of torque is the Newton-meter (Nm)."
          ]
        }
      ],
      "source": [
        "for chunk in chat_stream_response:\n",
        "    if chunk[\"choices\"]:\n",
        "        print(chunk[\"choices\"][0][\"delta\"].get(\"content\", \"\"), end=\"\", flush=True)"
      ]
    },
    {
      "cell_type": "markdown",
      "metadata": {},
      "source": [
        "#### Long length"
      ]
    },
    {
      "cell_type": "code",
      "execution_count": 14,
      "metadata": {},
      "outputs": [],
      "source": [
        "messages = [\n",
        "    {\n",
        "        \"role\": \"control\",\n",
        "        \"content\": \"length long\",\n",
        "    },\n",
        "    {\n",
        "        \"role\": \"user\", \n",
        "        \"content\": \"Explain torque\"\n",
        "    }\n",
        "]\n",
        "\n",
        "chat_stream_response = model.chat_stream(messages=messages)"
      ]
    },
    {
      "cell_type": "code",
      "execution_count": 15,
      "metadata": {},
      "outputs": [
        {
          "name": "stdout",
          "output_type": "stream",
          "text": [
            "Torque, also known as the moment of force, is a fundamental concept in physics and engineering, particularly in the study of rotational motion. It describes the rotational effect of a force applied to an object at a distance from its axis of rotation.\n",
            "\n",
            "In simple terms, torque (τ) is a measure of how much a force acting on an object causes that object to rotate. It depends on two main factors: the magnitude of the force (F) and the distance (r) from the axis of rotation to the point where the force is applied, often called the lever arm. Mathematically, torque is given by the cross product of the force and the position vector (distance) from the axis: \n",
            "\n",
            "τ = r × F \n",
            "\n",
            "The unit of torque in the International System of Units (SI) is the Newton-meter (Nm).\n",
            "\n",
            "Here are some key points to understand torque better:\n",
            "\n",
            "1. **Direction:** Torque is a vector quantity, meaning it has both a magnitude and a direction. The direction of torque is perpendicular to the plane containing the force and the distance vector, following the right-hand rule.\n",
            "\n",
            "2. **Effect on Rotation:** Torque causes angular acceleration (α). This relationship is given by Newton's second law for rotational motion, τ = Iα, where I is the moment of inertia of the object, which depends on its mass distribution and the axis of rotation.\n",
            "\n",
            "3. **Holding vs. Turning:** A larger torque means more rotational force, which can result in greater angular acceleration or the ability to hold an object stationary against a turning moment. For example, a wrench with a longer handle provides greater torque than a shorter one, because the distance (r) from the pivot point (where your hand grips the wrench) to the point where you apply the force (on the bolt head) is increased.\n",
            "\n",
            "4. **Inertia:** The moment of inertia (I) accounts for an object's resistance against rotational acceleration, similar to how mass relates to an object's resistance against linear acceleration (F = ma).\n",
            "\n",
            "In practical applications, understanding torque is crucial in fields such as mechanical engineering, robotics, and vehicle design, ensuring proper gear ratios, motor selection, and power transmission in machinery and vehicles.\n",
            "\n",
            "In summary, torque quantifies the rotational effect of a force applied at a distance from an axis of rotation, playing a fundamental role in analyzing rotational motion and designing systems involving turning forces."
          ]
        }
      ],
      "source": [
        "for chunk in chat_stream_response:\n",
        "    if chunk[\"choices\"]:\n",
        "        print(chunk[\"choices\"][0][\"delta\"].get(\"content\", \"\"), end=\"\", flush=True)"
      ]
    },
    {
      "cell_type": "markdown",
      "metadata": {},
      "source": [
        "### Work with chat message with `originality` control role\n",
        "The `originality` control role specifies the type of summarization of the model response."
      ]
    },
    {
      "cell_type": "markdown",
      "metadata": {},
      "source": [
        "#### Extractive originality\n",
        "When using `extractive` option, the model will create a summary of a given topic using the exact words used in its input data and may also cite its references."
      ]
    },
    {
      "cell_type": "code",
      "execution_count": 16,
      "metadata": {},
      "outputs": [],
      "source": [
        "messages = [\n",
        "    {\n",
        "        \"role\": \"control\",\n",
        "        \"content\": \"originality extractive\",\n",
        "    },\n",
        "    {\n",
        "        \"role\": \"user\", \n",
        "        \"content\": \"Mineral composition of granites\"\n",
        "    }\n",
        "]\n",
        "\n",
        "chat_stream_response = model.chat_stream(messages=messages)"
      ]
    },
    {
      "cell_type": "code",
      "execution_count": 17,
      "metadata": {},
      "outputs": [
        {
          "name": "stdout",
          "output_type": "stream",
          "text": [
            "Granites are felsic igneous rocks, which means they are primarily composed of silicate minerals containing a significant amount of quartz, feldspar, and mica. Here's a typical mineral composition of granites:\n",
            "\n",
            "1. **Quartz (SiO2)**: 20-40% - If present in more than 30%, the rock is considered quartzofeldspathic granite.\n",
            "\n",
            "2. **Feldspars (K-feldspar (KAlSi3O8) and plagioclase feldspar (NaAlSi3O8 - CaAl2Si2O8)):** \n",
            "   - K-feldspar: 10-25%\n",
            "   - Plagioclase feldspar: 10-20%\n",
            "   - The feldspars provide the primary source of potassium, sodium, and aluminium in granites.\n",
            "\n",
            "3. **Micas (Biotite and muscovite)**: 5-15% - Biotite is usually dark, while muscovite is lighter-colored. Micas contribute to granite's platy texture and add iron, magnesium, and aluminum.\n",
            "\n",
            "4. **Amphiboles (Hornblende)**: 0-10% - Some granites contain hornblende amphiboles, which can be greenish or dark-colored. This mineral adds iron, magnesium, and sodium.\n",
            "\n",
            "5. **Other minerals**: Small amounts of garnet, zircon, sphene, and apatite may be present, contributing trace elements like yttrium, zirconium, and rare earth elements (REEs). These minerals are important for understanding the history and geochemistry of granites.\n",
            "\n",
            "Granites can vary significantly in mineral composition, leading to different granitic rock types, such as:\n",
            "- Adamellite (rich in plagioclase feldspar)\n",
            "- Tonalite (higher in biotite)\n",
            "- Granodiorite (contains more biotite and plagioclase feldspar than typical granite)\n",
            "\n",
            "The variation in mineral composition arises due to differences in composition of the original magma, temperature, pressure, and time of crystallization."
          ]
        }
      ],
      "source": [
        "for chunk in chat_stream_response:\n",
        "    if chunk[\"choices\"]:\n",
        "        print(chunk[\"choices\"][0][\"delta\"].get(\"content\", \"\"), end=\"\", flush=True)"
      ]
    },
    {
      "cell_type": "markdown",
      "metadata": {},
      "source": [
        "#### Abstractive originality\n",
        "When using `abstractive` originality, the model will paraphrase its data in order to create its response."
      ]
    },
    {
      "cell_type": "code",
      "execution_count": 18,
      "metadata": {},
      "outputs": [],
      "source": [
        "messages = [\n",
        "    {\n",
        "        \"role\": \"control\",\n",
        "        \"content\": \"originality abstractive\",\n",
        "    },\n",
        "    {\n",
        "        \"role\": \"user\", \n",
        "        \"content\": \"Mineral composition of granites\"\n",
        "    }\n",
        "]\n",
        "\n",
        "chat_stream_response = model.chat_stream(messages=messages)"
      ]
    },
    {
      "cell_type": "code",
      "execution_count": 19,
      "metadata": {},
      "outputs": [
        {
          "name": "stdout",
          "output_type": "stream",
          "text": [
            "Granite is a common type of intrusive igneous rock, characterized by its coarse-grained texture, and a mineral composition predominantly consisting of quartz, feldspar, and mica. Here's a more detailed breakdown of the typical mineral components:\n",
            "\n",
            "1. Quartz: Quartz is a crucial component in granite, typically making up 20-30% of its composition. It's a hard, clear, or translucent mineral, which provides resistance to weathering.\n",
            "\n",
            "2. Feldspar: Feldspars are the second most abundant minerals in granite, making up around 40-60%. They include two main types of feldspar: plagioclase feldspar (calcium-rich and sodium-rich varieties) and potassium feldspar (orthoclase or microcline). Feldspars lend granite its distinct color, which can vary from pink and light red to white or gray, depending on the types and amounts of feldspars present.\n",
            "\n",
            "3. Mica: Micas are a group of minerals that include biotite (black or dark brown) and muscovite (light-colored or clear, often referred to as \"book mica\" due to its sheet-like structure). Micas make up around 5-15% of granite and contribute to its foliated appearance.\n",
            "\n",
            "4. Other minerals: Granite may contain small amounts of other minerals such as amphiboles (hornblende or biotite), pyroxenes (augite), amphibolites, zircon, apatite, and magnetite. The presence and amounts of these minerals can give granite unique characteristics and coloration, as well as corresponding material properties.\n",
            "\n",
            "Granite comes in many varieties, like tonalities, named according to primary color variations (e.g., pink, red, gray, spotted). These variations result from different ratios and kinds of feldspars and micas present in the rock. Keep in mind that exact mineral compositions can vary significantly between individual granite samples."
          ]
        }
      ],
      "source": [
        "for chunk in chat_stream_response:\n",
        "    if chunk[\"choices\"]:\n",
        "        print(chunk[\"choices\"][0][\"delta\"].get(\"content\", \"\"), end=\"\", flush=True)"
      ]
    },
    {
      "cell_type": "markdown",
      "metadata": {
        "pycharm": {
          "name": "#%% md\n"
        }
      },
      "source": [
        "<a id=\"summary\"></a>\n",
        "## Summary and next steps\n",
        "\n",
        "You successfully completed this notebook!\n",
        "\n",
        "You learned how to work with chat models using tools and watsonx.ai.\n",
        "\n",
        "Check out our _<a href=\"https://ibm.github.io/watsonx-ai-python-sdk/samples.html\" target=\"_blank\" rel=\"noopener no referrer\">Online Documentation</a>_ for more samples, tutorials, documentation, how-tos, and blog posts. "
      ]
    },
    {
      "cell_type": "markdown",
      "metadata": {
        "pycharm": {
          "name": "#%% md\n"
        }
      },
      "source": [
        "### Author\n",
        "\n",
        "**Rafał Chrzanowski**, Software Engineer Intern at watsonx.ai."
      ]
    },
    {
      "cell_type": "markdown",
      "metadata": {},
      "source": [
        "Copyright © 2025 IBM. This notebook and its source code are released under the terms of the MIT License."
      ]
    }
  ],
  "metadata": {
    "kernelspec": {
      "display_name": "watsonx-ai-samples-py-312",
      "language": "python",
      "name": "python3"
    },
    "language_info": {
      "codemirror_mode": {
        "name": "ipython",
        "version": 3
      },
      "file_extension": ".py",
      "mimetype": "text/x-python",
      "name": "python",
      "nbconvert_exporter": "python",
      "pygments_lexer": "ipython3",
      "version": "3.12.9"
    }
  },
  "nbformat": 4,
  "nbformat_minor": 4
}

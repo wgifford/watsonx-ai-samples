{
  "cells": [
    {
      "cell_type": "markdown",
      "metadata": {
        "pycharm": {
          "name": "#%% md\n"
        }
      },
      "source": [
        "![image](https://raw.githubusercontent.com/IBM/watson-machine-learning-samples/master/cloud/notebooks/headers/watsonx-Prompt_Lab-Notebook.png)\n",
        "# Use watsonx, and `meta-llama/llama-3-2-11b-vision-instruct` to run as an AI service"
      ]
    },
    {
      "cell_type": "markdown",
      "metadata": {
        "pycharm": {
          "name": "#%% md\n"
        }
      },
      "source": [
        "#### Disclaimers\n",
        "\n",
        "- Use only Projects and Spaces that are available in watsonx context.\n",
        "\n",
        "\n",
        "## Notebook content\n",
        "\n",
        "This notebook provides a detailed demonstration of the steps and code required to showcase support for watsonx.ai AI service.\n",
        "\n",
        "Some familiarity with Python is helpful. This notebook uses Python 3.11.\n",
        "\n",
        "\n",
        "## Learning goal\n",
        "\n",
        "The learning goal for your notebook is to leverage AI services to generate accurate and contextually relevant responses based on a given image and a related question.\n",
        "\n",
        "\n",
        "## Table of Contents\n",
        "\n",
        "This notebook contains the following parts:\n",
        "\n",
        "- [Setup](#setup)\n",
        "- [Create AI service](#ai_service)\n",
        "- [Testing AI service's function locally](#testing)\n",
        "- [Deploy AI service](#deploy)\n",
        "- [Example of Executing an AI service](#example)\n",
        "- [Summary](#summary)"
      ]
    },
    {
      "cell_type": "markdown",
      "metadata": {
        "pycharm": {
          "name": "#%% md\n"
        }
      },
      "source": [
        "<a id=\"setup\"></a>\n",
        "## Set up the environment\n",
        "\n",
        "Before you use the sample code in this notebook, you must perform the following setup tasks:\n",
        "\n",
        "-  Create a <a href=\"https://cloud.ibm.com/catalog/services/watsonxai-runtime\" target=\"_blank\" rel=\"noopener no referrer\">watsonx.ai Runtime Service</a> instance (a free plan is offered and information about how to create the instance can be found <a href=\"https://dataplatform.cloud.ibm.com/docs/content/wsj/getting-started/wml-plans.html?context=wx&audience=wdp\" target=\"_blank\" rel=\"noopener no referrer\">here</a>)."
      ]
    },
    {
      "cell_type": "markdown",
      "metadata": {
        "pycharm": {
          "name": "#%% md\n"
        }
      },
      "source": [
        "### Install and import the `datasets` and dependencies"
      ]
    },
    {
      "cell_type": "code",
      "execution_count": 1,
      "metadata": {
        "pycharm": {
          "is_executing": true,
          "name": "#%%\n"
        }
      },
      "outputs": [
        {
          "name": "stdout",
          "output_type": "stream",
          "text": [
            "Successfully installed anyio-4.9.0 certifi-2025.1.31 charset-normalizer-3.4.1 h11-0.14.0 httpcore-1.0.8 httpx-0.28.1 ibm-cos-sdk-2.14.0 ibm-cos-sdk-core-2.14.0 ibm-cos-sdk-s3transfer-2.14.0 ibm_watsonx_ai-1.3.11 idna-3.10 jmespath-1.0.1 lomond-0.3.3 numpy-2.2.5 pandas-2.2.3 pytz-2025.2 requests-2.32.2 sniffio-1.3.1 tabulate-0.9.0 tzdata-2025.2 urllib3-2.4.0\n"
          ]
        }
      ],
      "source": [
        "%pip install -U \"ibm_watsonx_ai>=1.3.6\" | tail -n 1"
      ]
    },
    {
      "cell_type": "markdown",
      "metadata": {
        "pycharm": {
          "name": "#%% md\n"
        }
      },
      "source": [
        "### Define the watsonx.ai credentials\n",
        "Use the code cell below to define the watsonx.ai credentials that are required to work with watsonx Foundation Model inferencing.\n",
        "\n",
        "**Action:** Provide the IBM Cloud user API key. For details, see <a href=\"https://cloud.ibm.com/docs/account?topic=account-userapikey&interface=ui\" target=\"_blank\" rel=\"noopener no referrer\">Managing user API keys</a>."
      ]
    },
    {
      "cell_type": "code",
      "execution_count": 2,
      "metadata": {
        "pycharm": {
          "name": "#%%\n"
        }
      },
      "outputs": [],
      "source": [
        "import getpass\n",
        "from ibm_watsonx_ai import Credentials\n",
        "\n",
        "credentials = Credentials(\n",
        "    url=\"https://us-south.ml.cloud.ibm.com\",\n",
        "    api_key=getpass.getpass(\"Enter your watsonx.ai api key and hit enter: \"),\n",
        ")"
      ]
    },
    {
      "cell_type": "markdown",
      "metadata": {
        "pycharm": {
          "name": "#%% md\n"
        }
      },
      "source": [
        "### Working with spaces\n",
        "\n",
        "You need to create a space that will be used for your work. If you do not have a space, you can use [Deployment Spaces Dashboard](https://dataplatform.cloud.ibm.com/ml-runtime/spaces?context=wx) to create one.\n",
        "\n",
        "- Click **New Deployment Space**\n",
        "- Create an empty space\n",
        "- Select Cloud Object Storage\n",
        "- Select watsonx.ai Runtime instance and press **Create**\n",
        "- Go to **Manage** tab\n",
        "- Copy `Space GUID` and paste it below\n",
        "\n",
        "**Tip**: You can also use SDK to prepare the space for your work. More information can be found [here](https://github.com/IBM/watson-machine-learning-samples/blob/master/cloud/notebooks/python_sdk/instance-management/Space%20management.ipynb).\n",
        "\n",
        "**Action**: assign space ID below"
      ]
    },
    {
      "cell_type": "code",
      "execution_count": 3,
      "metadata": {
        "pycharm": {
          "name": "#%%\n"
        }
      },
      "outputs": [],
      "source": [
        "import os\n",
        "\n",
        "try:\n",
        "    space_id = os.environ[\"SPACE_ID\"]\n",
        "except KeyError:\n",
        "    space_id = input(\"Please enter your space_id (hit enter): \")"
      ]
    },
    {
      "cell_type": "markdown",
      "metadata": {},
      "source": [
        "Create an instance of APIClient with authentication details."
      ]
    },
    {
      "cell_type": "code",
      "execution_count": 4,
      "metadata": {},
      "outputs": [],
      "source": [
        "from ibm_watsonx_ai import APIClient\n",
        "\n",
        "api_client = APIClient(credentials=credentials, space_id=space_id)"
      ]
    },
    {
      "cell_type": "markdown",
      "metadata": {},
      "source": [
        "Specify the `model_id` of the model you will use for the chat with image."
      ]
    },
    {
      "cell_type": "code",
      "execution_count": 5,
      "metadata": {},
      "outputs": [],
      "source": [
        "model_id = \"meta-llama/llama-3-2-11b-vision-instruct\""
      ]
    },
    {
      "cell_type": "markdown",
      "metadata": {},
      "source": [
        "<a id=\"ai_service\"></a>\n",
        "## Create AI service\n",
        "\n",
        "Prepare function which will be deployed using AI service.\n",
        "\n",
        "Please specify the default parameters that will be passed to the function."
      ]
    },
    {
      "cell_type": "code",
      "execution_count": 6,
      "metadata": {},
      "outputs": [],
      "source": [
        "def deployable_ai_service(context, url=credentials[\"url\"], model_id=model_id, params={\"temperature\": 1}, **kwargs):\n",
        "\n",
        "    import requests\n",
        "    import base64\n",
        "    from ibm_watsonx_ai import APIClient, Credentials\n",
        "    from ibm_watsonx_ai.foundation_models import ModelInference\n",
        "\n",
        "    api_client = APIClient(\n",
        "        credentials=Credentials(url=url, token=context.generate_token()),\n",
        "        space_id=context.get_space_id(),\n",
        "    )\n",
        "\n",
        "    model = ModelInference(\n",
        "        model_id=model_id,\n",
        "        api_client=api_client,\n",
        "        params=params,\n",
        "    )\n",
        "\n",
        "    def generate(context) -> dict:\n",
        "        api_client.set_token(context.get_token())\n",
        "\n",
        "        payload = context.get_json()\n",
        "        question = payload[\"question\"]\n",
        "        image_url = payload[\"image_url\"]\n",
        "\n",
        "        response = requests.get(image_url)\n",
        "        response.raise_for_status()\n",
        "        base64_image = base64.b64encode(response.content).decode(\"utf-8\")\n",
        "\n",
        "        messages = [\n",
        "            {\n",
        "                \"role\": \"user\",\n",
        "                \"content\": [\n",
        "                {\n",
        "                    \"type\": \"text\",\n",
        "                    \"text\": question\n",
        "                },\n",
        "                {\n",
        "                    \"type\": \"image_url\",\n",
        "                    \"image_url\": {\n",
        "                        \"url\": \"data:image/jpeg;base64,\" + base64_image,\n",
        "                        \"detail\": \"auto\"\n",
        "                    }\n",
        "                }\n",
        "                ]\n",
        "            }\n",
        "        ]\n",
        "\n",
        "        response = model.chat(messages=messages)\n",
        "\n",
        "        return {\"body\": response}\n",
        "\n",
        "    def generate_stream(context):\n",
        "        api_client.set_token(context.get_token())\n",
        "\n",
        "        payload = context.get_json()\n",
        "        question = payload[\"question\"]\n",
        "        image_url = payload[\"image_url\"]\n",
        "\n",
        "        response = requests.get(image_url)\n",
        "        response.raise_for_status()\n",
        "        base64_image = base64.b64encode(response.content).decode(\"utf-8\")\n",
        "\n",
        "        messages = [\n",
        "            {\n",
        "                \"role\": \"user\",\n",
        "                \"content\": [\n",
        "                    {\n",
        "                        \"type\": \"text\",\n",
        "                        \"text\": question\n",
        "                    },\n",
        "                    {\n",
        "                        \"type\": \"image_url\",\n",
        "                        \"image_url\": {\n",
        "                            \"url\": \"data:image/jpeg;base64,\" + base64_image,\n",
        "                            \"detail\": \"auto\"\n",
        "                        }\n",
        "                    }\n",
        "                ]\n",
        "            }\n",
        "        ]\n",
        "\n",
        "        yield from model.chat_stream(messages)\n",
        "\n",
        "    return generate, generate_stream"
      ]
    },
    {
      "cell_type": "markdown",
      "metadata": {},
      "source": [
        "<a id=\"testing\"></a>\n",
        "## Testing AI service's function locally\n",
        "\n",
        "You can test AI service's function locally. Initialise `RuntimeContext` firstly."
      ]
    },
    {
      "cell_type": "code",
      "execution_count": 7,
      "metadata": {},
      "outputs": [],
      "source": [
        "from ibm_watsonx_ai.deployments import RuntimeContext\n",
        "\n",
        "context = RuntimeContext(api_client=api_client)"
      ]
    },
    {
      "cell_type": "code",
      "execution_count": 8,
      "metadata": {},
      "outputs": [],
      "source": [
        "local_function = deployable_ai_service(context=context)"
      ]
    },
    {
      "cell_type": "markdown",
      "metadata": {},
      "source": [
        "Please retrieve an image and display it. This example is based on the IBM logo."
      ]
    },
    {
      "cell_type": "code",
      "execution_count": 9,
      "metadata": {},
      "outputs": [
        {
          "data": {
            "text/html": [
              "<img src=\"https://raw.github.com/IBM/watson-machine-learning-samples/master/cloud/data/logo/ibm_logo.jpg\" width=\"600\"/>"
            ],
            "text/plain": [
              "<IPython.core.display.Image object>"
            ]
          },
          "execution_count": 9,
          "metadata": {},
          "output_type": "execute_result"
        }
      ],
      "source": [
        "import requests\n",
        "from IPython.display import Image\n",
        "\n",
        "image_url = \"https://raw.github.com/IBM/watson-machine-learning-samples/master/cloud/data/logo/ibm_logo.jpg\"\n",
        "\n",
        "response = requests.get(image_url)\n",
        "\n",
        "Image(url=image_url, width=600)"
      ]
    },
    {
      "cell_type": "markdown",
      "metadata": {},
      "source": [
        "Prepare request json payload for local invoke."
      ]
    },
    {
      "cell_type": "code",
      "execution_count": 10,
      "metadata": {},
      "outputs": [],
      "source": [
        "context.request_payload_json = {\"question\": \"Describe the image\", \"image_url\": image_url}"
      ]
    },
    {
      "cell_type": "markdown",
      "metadata": {},
      "source": [
        "Execute the `generate` function locally."
      ]
    },
    {
      "cell_type": "code",
      "execution_count": 11,
      "metadata": {},
      "outputs": [
        {
          "data": {
            "text/plain": [
              "{'body': {'id': 'chatcmpl-fd71df10-514d-46bf-b716-f9841c764321---89261ca18b0c50363ec5340d39cac781',\n",
              "  'model_id': 'meta-llama/llama-3-2-11b-vision-instruct',\n",
              "  'model': 'meta-llama/llama-3-2-11b-vision-instruct',\n",
              "  'choices': [{'index': 0,\n",
              "    'message': {'role': 'assistant',\n",
              "     'content': 'The image presents the IBM logo, a well-known and iconic symbol of the technology company. The logo is prominently displayed in the center of the image, with the word \"IBM\" written in blue stripes against a white background.\\n\\n* **Logo:**\\n\\t+ The logo features the word \"IBM\" in blue stripes.\\n\\t+ The stripes are arranged in a horizontal manner, with each letter consisting of multiple horizontal lines.\\n\\t+ The lines vary in width, creating a sense of depth and dimensionality.\\n* **Color Scheme:**\\n\\t+ The logo\\'s color scheme is primarily blue, with white serving as the background.\\n\\t+ The blue tone used is a deep, rich shade that provides good contrast against the white background.\\n* **Background:**\\n\\t+ The background of the image is a clean and simple white.\\n\\t+ This allows the logo to take center stage and draws attention to its design and typography.\\n\\nOverall, the IBM logo is a distinctive and recognizable symbol of the company\\'s brand identity. Its simple yet effective design has become synonymous with innovation and technology, and it continues to be an important part of the company\\'s visual identity.'},\n",
              "    'finish_reason': 'stop'}],\n",
              "  'created': 1745402649,\n",
              "  'model_version': '3.2.0',\n",
              "  'created_at': '2025-04-23T10:04:13.523Z',\n",
              "  'usage': {'completion_tokens': 231,\n",
              "   'prompt_tokens': 6418,\n",
              "   'total_tokens': 6649},\n",
              "  'system': {'warnings': [{'message': 'This model is a Non-IBM Product governed by a third-party license that may impose use restrictions and other obligations. By using this model you agree to its terms as identified in the following URL.',\n",
              "     'id': 'disclaimer_warning',\n",
              "     'more_info': 'https://dataplatform.cloud.ibm.com/docs/content/wsj/analyze-data/fm-models.html?context=wx'},\n",
              "    {'message': \"The value of 'max_tokens' for this model was set to value 1024\",\n",
              "     'id': 'unspecified_max_token',\n",
              "     'additional_properties': {'limit': 0,\n",
              "      'new_value': 1024,\n",
              "      'parameter': 'max_tokens',\n",
              "      'value': 0}}]}}}"
            ]
          },
          "execution_count": 11,
          "metadata": {},
          "output_type": "execute_result"
        }
      ],
      "source": [
        "resp = local_function[0](context)\n",
        "resp"
      ]
    },
    {
      "cell_type": "markdown",
      "metadata": {},
      "source": [
        "Execute the `generate_stream` function locally."
      ]
    },
    {
      "cell_type": "code",
      "execution_count": 12,
      "metadata": {},
      "outputs": [],
      "source": [
        "response = local_function[1](context)"
      ]
    },
    {
      "cell_type": "code",
      "execution_count": 13,
      "metadata": {},
      "outputs": [
        {
          "name": "stdout",
          "output_type": "stream",
          "text": [
            "The image presents the IBM logo, a registered trademark of the International Business Machines Corporation."
          ]
        }
      ],
      "source": [
        "for chunk in response:\n",
        "    if chunk[\"choices\"]:\n",
        "        print(chunk[\"choices\"][0][\"delta\"].get(\"content\", \"\"), end=\"\", flush=True)"
      ]
    },
    {
      "cell_type": "markdown",
      "metadata": {},
      "source": [
        "<a id=\"deploy\"></a>\n",
        "## Deploy AI service"
      ]
    },
    {
      "cell_type": "markdown",
      "metadata": {},
      "source": [
        "Store AI service with previous created custom software specifications."
      ]
    },
    {
      "cell_type": "code",
      "execution_count": 14,
      "metadata": {},
      "outputs": [
        {
          "data": {
            "text/plain": [
              "'45f12dfe-aa78-5b8d-9f38-0ee223c47309'"
            ]
          },
          "execution_count": 14,
          "metadata": {},
          "output_type": "execute_result"
        }
      ],
      "source": [
        "sw_spec_id = api_client.software_specifications.get_id_by_name(\"runtime-24.1-py3.11\")\n",
        "sw_spec_id"
      ]
    },
    {
      "cell_type": "code",
      "execution_count": 15,
      "metadata": {},
      "outputs": [],
      "source": [
        "meta_props = {\n",
        "    api_client.repository.AIServiceMetaNames.NAME: \"AI service with SDK\",\n",
        "    api_client.repository.AIServiceMetaNames.SOFTWARE_SPEC_ID: sw_spec_id\n",
        "}\n",
        "stored_ai_service_details = api_client.repository.store_ai_service(deployable_ai_service, meta_props)"
      ]
    },
    {
      "cell_type": "code",
      "execution_count": 16,
      "metadata": {},
      "outputs": [
        {
          "data": {
            "text/plain": [
              "'755be541-49e7-49a0-90fc-fe4ba510c6d1'"
            ]
          },
          "execution_count": 16,
          "metadata": {},
          "output_type": "execute_result"
        }
      ],
      "source": [
        "ai_service_id = api_client.repository.get_ai_service_id(stored_ai_service_details)\n",
        "ai_service_id"
      ]
    },
    {
      "cell_type": "markdown",
      "metadata": {},
      "source": [
        "Create online deployment of AI service."
      ]
    },
    {
      "cell_type": "code",
      "execution_count": 17,
      "metadata": {},
      "outputs": [
        {
          "name": "stdout",
          "output_type": "stream",
          "text": [
            "\n",
            "\n",
            "######################################################################################\n",
            "\n",
            "Synchronous deployment creation for id: '755be541-49e7-49a0-90fc-fe4ba510c6d1' started\n",
            "\n",
            "######################################################################################\n",
            "\n",
            "\n",
            "initializing\n",
            "Note: online_url and serving_urls are deprecated and will be removed in a future release. Use inference instead.\n",
            "...\n",
            "ready\n",
            "\n",
            "\n",
            "-----------------------------------------------------------------------------------------------\n",
            "Successfully finished deployment creation, deployment_id='3e7aac9b-5a8b-4b1a-8c3c-0afd6971edaa'\n",
            "-----------------------------------------------------------------------------------------------\n",
            "\n",
            "\n"
          ]
        }
      ],
      "source": [
        "meta_props = {\n",
        "    api_client.deployments.ConfigurationMetaNames.NAME: \"AI service with SDK\",\n",
        "    api_client.deployments.ConfigurationMetaNames.ONLINE: {},\n",
        "}\n",
        "\n",
        "deployment_details = api_client.deployments.create(ai_service_id, meta_props)"
      ]
    },
    {
      "cell_type": "markdown",
      "metadata": {},
      "source": [
        "Obtain the `deployment_id` of the previously created deployment."
      ]
    },
    {
      "cell_type": "code",
      "execution_count": 18,
      "metadata": {},
      "outputs": [],
      "source": [
        "deployment_id = api_client.deployments.get_id(deployment_details)"
      ]
    },
    {
      "cell_type": "markdown",
      "metadata": {},
      "source": [
        "<a id=\"example\"></a>\n",
        "## Example of Executing an AI service.\n",
        "\n",
        "Execute `generate` method."
      ]
    },
    {
      "cell_type": "code",
      "execution_count": 19,
      "metadata": {},
      "outputs": [],
      "source": [
        "question = \"Describe the image\"\n",
        "\n",
        "deployments_results = api_client.deployments.run_ai_service(\n",
        "    deployment_id, {\"question\": question, \"image_url\": image_url}\n",
        ")"
      ]
    },
    {
      "cell_type": "code",
      "execution_count": 20,
      "metadata": {},
      "outputs": [
        {
          "name": "stdout",
          "output_type": "stream",
          "text": [
            "{\n",
            "  \"choices\": [\n",
            "    {\n",
            "      \"finish_reason\": \"stop\",\n",
            "      \"index\": 0,\n",
            "      \"message\": {\n",
            "        \"content\": \"The image features the IBM logo, a blue graphic of the company's initials \\\"IBM\\\" against a white background. The logo is composed of 13 horizontal lines and 2 vertical lines, with the first and last lines being thicker than the others.\\n\\n*   **Logo Design:**\\n    *   The IBM logo is a distinctive and recognizable design that has been used by the company for many years.\\n    *   The use of horizontal and vertical lines creates a sense of balance and harmony, reflecting the company's commitment to innovation and stability.\\n*   **Color Scheme:**\\n    *   The blue color of the logo is a nod to the company's heritage and tradition of using blue in their branding.\\n    *   The choice of blue also evokes feelings of trust, reliability, and professionalism, which are all key values associated with the IBM brand.\\n*   **Typography:**\\n    *   The sans-serif font used for the logo is clean and modern, conveying a sense of simplicity and ease of use.\\n    *   The bold lines and sharp edges of the font give the logo a dynamic and energetic feel, suggesting a company that is always moving forward.\\n*   **Trademark Symbol:**\\n    *   The registered trademark symbol (R) that appears next to the logo indicates that the logo is a protected trademark and cannot be used without permission.\\n    *   This symbol reinforces the idea that the IBM brand is valuable and worthy of protection.\\n\\nOverall, the IBM logo is a powerful symbol of the company's history, values, and commitment to innovation. Its distinctive design and clean typography make it instantly recognizable, while the use of blue conveys a sense of trust and professionalism.\",\n",
            "        \"role\": \"assistant\"\n",
            "      }\n",
            "    }\n",
            "  ],\n",
            "  \"created\": 1745402691,\n",
            "  \"created_at\": \"2025-04-23T10:04:57.497Z\",\n",
            "  \"id\": \"chatcmpl-43724fe5-90b5-4ea1-991e-a41a988a2004---1eab7ee4010482d7267cf3fd7a8c5520\",\n",
            "  \"model\": \"meta-llama/llama-3-2-11b-vision-instruct\",\n",
            "  \"model_id\": \"meta-llama/llama-3-2-11b-vision-instruct\",\n",
            "  \"model_version\": \"3.2.0\",\n",
            "  \"system\": {\n",
            "    \"warnings\": [\n",
            "      {\n",
            "        \"id\": \"disclaimer_warning\",\n",
            "        \"message\": \"This model is a Non-IBM Product governed by a third-party license that may impose use restrictions and other obligations. By using this model you agree to its terms as identified in the following URL.\",\n",
            "        \"more_info\": \"https://dataplatform.cloud.ibm.com/docs/content/wsj/analyze-data/fm-models.html?context=wx\"\n",
            "      },\n",
            "      {\n",
            "        \"additional_properties\": {\n",
            "          \"limit\": 0,\n",
            "          \"new_value\": 1024,\n",
            "          \"parameter\": \"max_tokens\",\n",
            "          \"value\": 0\n",
            "        },\n",
            "        \"id\": \"unspecified_max_token\",\n",
            "        \"message\": \"The value of 'max_tokens' for this model was set to value 1024\"\n",
            "      }\n",
            "    ]\n",
            "  },\n",
            "  \"usage\": {\n",
            "    \"completion_tokens\": 338,\n",
            "    \"prompt_tokens\": 6418,\n",
            "    \"total_tokens\": 6756\n",
            "  }\n",
            "}\n"
          ]
        }
      ],
      "source": [
        "import json\n",
        "\n",
        "print(json.dumps(deployments_results, indent=2))"
      ]
    },
    {
      "cell_type": "markdown",
      "metadata": {},
      "source": [
        "Execute `generate_stream` method."
      ]
    },
    {
      "cell_type": "code",
      "execution_count": 21,
      "metadata": {},
      "outputs": [],
      "source": [
        "question = \"Describe the image\"\n",
        "\n",
        "deployments_results = api_client.deployments.run_ai_service_stream(\n",
        "    deployment_id, {\"question\": question, \"image_url\": image_url}\n",
        ")"
      ]
    },
    {
      "cell_type": "code",
      "execution_count": 22,
      "metadata": {},
      "outputs": [
        {
          "name": "stdout",
          "output_type": "stream",
          "text": [
            "The image presents the IBM logo, which is a stylized representation of the company's name in blue lettering on a white background.\n",
            "\n",
            "* The letters \"IBM\" are written in a stylized font, with each letter featuring a unique design.\n",
            "\t+ The \"I\" is composed of three horizontal lines.\n",
            "\t+ The \"B\" consists of two curved lines that intersect in the middle.\n",
            "\t+ The \"M\" is formed by a combination of vertical and horizontal lines.\n",
            "* The logo also features a registered trademark symbol (®) to the right of the letters.\n",
            "* The entire logo is set against a plain white background, providing a clean and simple visual representation of the brand identity.\n",
            "\n",
            "Overall, the IBM logo is a distinctive and recognizable symbol that represents the company's values and mission. The use of a stylized font and a registered trademark symbol emphasizes the brand's commitment to innovation and quality."
          ]
        }
      ],
      "source": [
        "import json\n",
        "\n",
        "for chunk in deployments_results:\n",
        "    chunk_json = json.loads(chunk)\n",
        "    if chunk_json[\"choices\"]:\n",
        "        print(chunk_json[\"choices\"][0][\"delta\"].get(\"content\", \"\"), end=\"\", flush=True)"
      ]
    },
    {
      "cell_type": "markdown",
      "metadata": {
        "pycharm": {
          "name": "#%% md\n"
        }
      },
      "source": [
        "<a id=\"summary\"></a>\n",
        "## Summary and next steps\n",
        "\n",
        "You successfully completed this notebook!\n",
        "\n",
        "You learned how to create and deploy AI service using `ibm_watsonx_ai` SDK.\n",
        "\n",
        "Check out our _<a href=\"https://ibm.github.io/watsonx-ai-python-sdk/samples.html\" target=\"_blank\" rel=\"noopener no referrer\">Online Documentation</a>_ for more samples, tutorials, documentation, how-tos, and blog posts. "
      ]
    },
    {
      "cell_type": "markdown",
      "metadata": {
        "pycharm": {
          "name": "#%% md\n"
        }
      },
      "source": [
        "### Author\n",
        "\n",
        "**Mateusz Szewczyk**, Software Engineer at watsonx.ai."
      ]
    },
    {
      "cell_type": "markdown",
      "metadata": {},
      "source": [
        "Copyright © 2024-2025 IBM. This notebook and its source code are released under the terms of the MIT License."
      ]
    }
  ],
  "metadata": {
    "kernelspec": {
      "display_name": "Python 3",
      "language": "python",
      "name": "python3"
    },
    "language_info": {
      "codemirror_mode": {
        "name": "ipython",
        "version": 3
      },
      "file_extension": ".py",
      "mimetype": "text/x-python",
      "name": "python",
      "nbconvert_exporter": "python",
      "pygments_lexer": "ipython3",
      "version": "3.11.11"
    }
  },
  "nbformat": 4,
  "nbformat_minor": 4
}
